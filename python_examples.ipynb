{
  "nbformat": 4,
  "nbformat_minor": 0,
  "metadata": {
    "colab": {
      "name": "python_examples.ipynb",
      "version": "0.3.2",
      "provenance": [],
      "collapsed_sections": [],
      "toc_visible": true,
      "include_colab_link": true
    },
    "kernelspec": {
      "name": "python3",
      "display_name": "Python 3"
    }
  },
  "cells": [
    {
      "cell_type": "markdown",
      "metadata": {
        "id": "view-in-github",
        "colab_type": "text"
      },
      "source": [
        "<a href=\"https://colab.research.google.com/github/vincentei/Python_aux/blob/master/python_examples.ipynb\" target=\"_parent\"><img src=\"https://colab.research.google.com/assets/colab-badge.svg\" alt=\"Open In Colab\"/></a>"
      ]
    },
    {
      "metadata": {
        "id": "KpfRTPUZTdXi",
        "colab_type": "code",
        "colab": {}
      },
      "cell_type": "code",
      "source": [
        "import numpy as np\n",
        "import pandas as pd\n",
        "import matplotlib.pyplot as plt\n",
        "\n",
        "import datetime as dt\n",
        "import pytz\n",
        "import time\n",
        "import os\n",
        "import sys\n",
        "import dateutil.parser\n",
        "from scipy import sparse\n",
        "import re"
      ],
      "execution_count": 0,
      "outputs": []
    },
    {
      "metadata": {
        "id": "dB-FyYjo077L",
        "colab_type": "code",
        "colab": {}
      },
      "cell_type": "code",
      "source": [
        "import sys\n",
        "if sys.version_info[0] < 3: \n",
        "    from StringIO import StringIO\n",
        "else:\n",
        "    from io import StringIO"
      ],
      "execution_count": 0,
      "outputs": []
    },
    {
      "metadata": {
        "id": "bikwzGmATdXn",
        "colab_type": "text"
      },
      "cell_type": "markdown",
      "source": [
        "## Numpy"
      ]
    },
    {
      "metadata": {
        "id": "5NwipL3UTdXo",
        "colab_type": "code",
        "outputId": "ad79841f-f21a-4b99-e838-844bf6dcf54e",
        "colab": {
          "base_uri": "https://localhost:8080/",
          "height": 52
        }
      },
      "cell_type": "code",
      "source": [
        "# creating numpy arrays with dimension (3,2) and (2,4) , (n,m) * (m,k)\n",
        "A = np.array([[1,2], [3,4],[5,6]])\n",
        "B = np.array([[1,2,3,4], [5,6,7,8]])\n",
        "print (A.shape)\n",
        "print (B.shape)"
      ],
      "execution_count": 0,
      "outputs": [
        {
          "output_type": "stream",
          "text": [
            "(3, 2)\n",
            "(2, 4)\n"
          ],
          "name": "stdout"
        }
      ]
    },
    {
      "metadata": {
        "id": "9GsZfSePTdXu",
        "colab_type": "code",
        "outputId": "2b2dd860-8526-4968-bdde-f0ef6101a95e",
        "colab": {
          "base_uri": "https://localhost:8080/",
          "height": 34
        }
      },
      "cell_type": "code",
      "source": [
        "# calc multiply two matrices, dot product between two matrices\n",
        "C = np.matmul(A,B)\n",
        "print (C.shape)"
      ],
      "execution_count": 0,
      "outputs": [
        {
          "output_type": "stream",
          "text": [
            "(3, 4)\n"
          ],
          "name": "stdout"
        }
      ]
    },
    {
      "metadata": {
        "id": "c79dfJQyTdXy",
        "colab_type": "code",
        "outputId": "64935766-0012-4ef8-b4c0-bf5ff9c5ad09",
        "colab": {
          "base_uri": "https://localhost:8080/",
          "height": 70
        }
      },
      "cell_type": "code",
      "source": [
        "# create numpy array with range from 1 to 10, then reshape into (2,5) matrix\n",
        "a = np.arange(1,11)\n",
        "print (a)\n",
        "A = a.reshape(2,5)\n",
        "print (A)"
      ],
      "execution_count": 0,
      "outputs": [
        {
          "output_type": "stream",
          "text": [
            "[ 1  2  3  4  5  6  7  8  9 10]\n",
            "[[ 1  2  3  4  5]\n",
            " [ 6  7  8  9 10]]\n"
          ],
          "name": "stdout"
        }
      ]
    },
    {
      "metadata": {
        "id": "WMIF2D6NTdX2",
        "colab_type": "code",
        "colab": {}
      },
      "cell_type": "code",
      "source": [
        "# now create (2,3) random numpy with same seed\n",
        "np.random.seed(42)\n",
        "A = np.random.randn(3,10)"
      ],
      "execution_count": 0,
      "outputs": []
    },
    {
      "metadata": {
        "id": "YCvF3gk0TdX5",
        "colab_type": "code",
        "outputId": "61fe1a44-0ada-4255-ab0a-e6528eb293d1",
        "colab": {
          "base_uri": "https://localhost:8080/",
          "height": 34
        }
      },
      "cell_type": "code",
      "source": [
        "# concatenate two arrays\n",
        "a = np.array([1,2,3])\n",
        "b = np.array([4,5,6])\n",
        "print(np.concatenate([a,b]))"
      ],
      "execution_count": 0,
      "outputs": [
        {
          "output_type": "stream",
          "text": [
            "[1 2 3 4 5 6]\n"
          ],
          "name": "stdout"
        }
      ]
    },
    {
      "metadata": {
        "id": "BXt5GjwcTdX-",
        "colab_type": "code",
        "outputId": "387d2933-b3fc-4369-faf4-174371a67b2f",
        "colab": {
          "base_uri": "https://localhost:8080/",
          "height": 52
        }
      },
      "cell_type": "code",
      "source": [
        "# concatenate two matrices\n",
        "a = np.array([[1,2,3],[3,4,3]])\n",
        "b = np.array([[1,2,3],[3,4,3]])\n",
        "c = np.concatenate([a,b])\n",
        "d = np.concatenate([a,b],axis=1)\n",
        "print(c.shape)\n",
        "print(d.shape)"
      ],
      "execution_count": 0,
      "outputs": [
        {
          "output_type": "stream",
          "text": [
            "(4, 3)\n",
            "(2, 6)\n"
          ],
          "name": "stdout"
        }
      ]
    },
    {
      "metadata": {
        "id": "B_GU0X6OTdYB",
        "colab_type": "code",
        "outputId": "aa50fc76-e85e-4b96-b606-44de751b0f86",
        "colab": {
          "base_uri": "https://localhost:8080/",
          "height": 34
        }
      },
      "cell_type": "code",
      "source": [
        "# sum two arrays\n",
        "a = np.array([1,2,3])\n",
        "b = np.array([4,5,6])\n",
        "print(a + b)"
      ],
      "execution_count": 0,
      "outputs": [
        {
          "output_type": "stream",
          "text": [
            "[5 7 9]\n"
          ],
          "name": "stdout"
        }
      ]
    },
    {
      "metadata": {
        "id": "pU_VIrp6TdYH",
        "colab_type": "code",
        "outputId": "3f53a8b3-8e1f-49c0-bf8a-c1ac8e87b592",
        "colab": {
          "base_uri": "https://localhost:8080/",
          "height": 52
        }
      },
      "cell_type": "code",
      "source": [
        "# clipping (ie squash value of numpy array between min, max)\n",
        "a = np.arange(6)\n",
        "print (a)\n",
        "print (np.clip(a,2,4))"
      ],
      "execution_count": 0,
      "outputs": [
        {
          "output_type": "stream",
          "text": [
            "[0 1 2 3 4 5]\n",
            "[2 2 2 3 4 4]\n"
          ],
          "name": "stdout"
        }
      ]
    },
    {
      "metadata": {
        "id": "u_0lQvv5TdYL",
        "colab_type": "code",
        "outputId": "24e07207-76a2-4132-defe-82d9cd247bc0",
        "colab": {
          "base_uri": "https://localhost:8080/",
          "height": 34
        }
      },
      "cell_type": "code",
      "source": [
        "# sample idx from distribution\n",
        "h = np.array([0.1, 0.2, 0.5,0.2])\n",
        "#index = np.random.choice([0, 1, 2, 3], p = h.ravel())\n",
        "#print(index)\n",
        "index2 = np.random.choice(np.arange(len(h)), p = h.ravel())\n",
        "print(index2)"
      ],
      "execution_count": 0,
      "outputs": [
        {
          "output_type": "stream",
          "text": [
            "2\n"
          ],
          "name": "stdout"
        }
      ]
    },
    {
      "metadata": {
        "id": "-Pg7lSwBTdYP",
        "colab_type": "code",
        "outputId": "c8ee7775-de0d-4672-b743-64b6e24bda38",
        "colab": {
          "base_uri": "https://localhost:8080/",
          "height": 34
        }
      },
      "cell_type": "code",
      "source": [
        "# give index of max value in numpy array\n",
        "a = np.array([1,33,4,5])\n",
        "print(np.argmax(a))"
      ],
      "execution_count": 0,
      "outputs": [
        {
          "output_type": "stream",
          "text": [
            "1\n"
          ],
          "name": "stdout"
        }
      ]
    },
    {
      "metadata": {
        "id": "QLi6bSELTdYT",
        "colab_type": "code",
        "outputId": "0f75e1d6-8bf5-4680-c303-1ee09a7ffa38",
        "colab": {
          "base_uri": "https://localhost:8080/",
          "height": 87
        }
      },
      "cell_type": "code",
      "source": [
        "# give index of max value in 2d numpy array\n",
        "a = np.array([[1,33,4,5],[1,2,3,44]])\n",
        "print(np.argmax(a))\n",
        "print(np.argmax(a,axis=0))\n",
        "print(np.argmax(a,axis=1))\n",
        "print(np.argmax(a,axis=-1)) #-1 impies the last axis"
      ],
      "execution_count": 0,
      "outputs": [
        {
          "output_type": "stream",
          "text": [
            "7\n",
            "[0 0 0 1]\n",
            "[1 3]\n",
            "[1 3]\n"
          ],
          "name": "stdout"
        }
      ]
    },
    {
      "metadata": {
        "id": "83zBK1LD476d",
        "colab_type": "code",
        "outputId": "8481a14e-2978-4dd6-ab41-8309690e4cab",
        "colab": {
          "base_uri": "https://localhost:8080/",
          "height": 34
        }
      },
      "cell_type": "code",
      "source": [
        "# stepping\n",
        "a = np.arange(1,1000)\n",
        "b = a[0:168:24]\n",
        "print(b)"
      ],
      "execution_count": 0,
      "outputs": [
        {
          "output_type": "stream",
          "text": [
            "[  1  25  49  73  97 121 145]\n"
          ],
          "name": "stdout"
        }
      ]
    },
    {
      "metadata": {
        "id": "1XVDJW-p6_Qh",
        "colab_type": "code",
        "outputId": "cc14004c-bc2c-4f23-c0d0-e5e8b5aeaf0f",
        "colab": {
          "base_uri": "https://localhost:8080/",
          "height": 34
        }
      },
      "cell_type": "code",
      "source": [
        "168 // 24 + 1"
      ],
      "execution_count": 0,
      "outputs": [
        {
          "output_type": "execute_result",
          "data": {
            "text/plain": [
              "8"
            ]
          },
          "metadata": {
            "tags": []
          },
          "execution_count": 76
        }
      ]
    },
    {
      "metadata": {
        "id": "2XFVn37TpN7H",
        "colab_type": "text"
      },
      "cell_type": "markdown",
      "source": [
        "### Reshape"
      ]
    },
    {
      "metadata": {
        "id": "EJMRelRifOng",
        "colab_type": "code",
        "outputId": "2457cfa0-84ff-4626-acac-4a4fec565a9f",
        "colab": {
          "base_uri": "https://localhost:8080/",
          "height": 52
        }
      },
      "cell_type": "code",
      "source": [
        "# (n,) to (n,1)\n",
        "a = np.array([1,2,3])\n",
        "print (a.shape)\n",
        "a = a[:,None]\n",
        "print(a.shape)"
      ],
      "execution_count": 0,
      "outputs": [
        {
          "output_type": "stream",
          "text": [
            "(3,)\n",
            "(3, 1)\n"
          ],
          "name": "stdout"
        }
      ]
    },
    {
      "metadata": {
        "id": "BDDDfP15pRe7",
        "colab_type": "code",
        "outputId": "05e7d31a-f12f-41ee-f770-2f73b63c9154",
        "colab": {
          "base_uri": "https://localhost:8080/",
          "height": 194
        }
      },
      "cell_type": "code",
      "source": [
        "# reshape 6 into 3*2*1\n",
        "a = np.asarray([1,52,6,5,9,6])\n",
        "print(a.shape)\n",
        "b = a.reshape(3,2,1)\n",
        "print(b)\n",
        "print(b.shape)"
      ],
      "execution_count": 0,
      "outputs": [
        {
          "output_type": "stream",
          "text": [
            "(6,)\n",
            "[[[ 1]\n",
            "  [52]]\n",
            "\n",
            " [[ 6]\n",
            "  [ 5]]\n",
            "\n",
            " [[ 9]\n",
            "  [ 6]]]\n",
            "(3, 2, 1)\n"
          ],
          "name": "stdout"
        }
      ]
    },
    {
      "metadata": {
        "id": "Nj3OBPEHh-xv",
        "colab_type": "code",
        "outputId": "f2803c1e-58de-4d23-dde3-2d5c7e4ae130",
        "colab": {
          "base_uri": "https://localhost:8080/",
          "height": 52
        }
      },
      "cell_type": "code",
      "source": [
        "a = np.asarray([1,55,88,66])\n",
        "print(a.shape)\n",
        "b = a.reshape(-1,1)\n",
        "print(b.shape)"
      ],
      "execution_count": 0,
      "outputs": [
        {
          "output_type": "stream",
          "text": [
            "(4,)\n",
            "(4, 1)\n"
          ],
          "name": "stdout"
        }
      ]
    },
    {
      "metadata": {
        "id": "HFPY5zbe-mXQ",
        "colab_type": "text"
      },
      "cell_type": "markdown",
      "source": [
        "### Make input for LSTM"
      ]
    },
    {
      "metadata": {
        "id": "oxiyK-Bd-r7d",
        "colab_type": "code",
        "outputId": "ca36724c-5e50-46fd-daf0-3f68fa97e05e",
        "colab": {
          "base_uri": "https://localhost:8080/",
          "height": 34
        }
      },
      "cell_type": "code",
      "source": [
        "a = np.arange(1,11)\n",
        "a"
      ],
      "execution_count": 0,
      "outputs": [
        {
          "output_type": "execute_result",
          "data": {
            "text/plain": [
              "array([ 1,  2,  3,  4,  5,  6,  7,  8,  9, 10])"
            ]
          },
          "metadata": {
            "tags": []
          },
          "execution_count": 80
        }
      ]
    },
    {
      "metadata": {
        "id": "Ng6dH0k1_A94",
        "colab_type": "code",
        "colab": {}
      },
      "cell_type": "code",
      "source": [
        "look_back = 4\n",
        "data = []\n",
        "for i in range(0,len(a)-look_back-1,2):\n",
        "  data.append(a[i:i+look_back])  "
      ],
      "execution_count": 0,
      "outputs": []
    },
    {
      "metadata": {
        "id": "zAi8OSlS_owu",
        "colab_type": "code",
        "outputId": "89496a64-56d6-4422-8771-53a88bd1fb35",
        "colab": {
          "base_uri": "https://localhost:8080/",
          "height": 34
        }
      },
      "cell_type": "code",
      "source": [
        "data"
      ],
      "execution_count": 0,
      "outputs": [
        {
          "output_type": "execute_result",
          "data": {
            "text/plain": [
              "[array([1, 2, 3, 4]), array([3, 4, 5, 6]), array([5, 6, 7, 8])]"
            ]
          },
          "metadata": {
            "tags": []
          },
          "execution_count": 82
        }
      ]
    },
    {
      "metadata": {
        "id": "d73qwdxBFc7Y",
        "colab_type": "text"
      },
      "cell_type": "markdown",
      "source": [
        "### Arrange"
      ]
    },
    {
      "metadata": {
        "id": "p-2JKCMBFfpv",
        "colab_type": "code",
        "outputId": "f3789500-2f6d-4755-abb8-9523b2230aaa",
        "colab": {
          "base_uri": "https://localhost:8080/",
          "height": 34
        }
      },
      "cell_type": "code",
      "source": [
        "# arrange let's you make a vector\n",
        "# np.arrange(start, stop, step)\n",
        "a = np.arange(1,19,3)\n",
        "a"
      ],
      "execution_count": 0,
      "outputs": [
        {
          "output_type": "execute_result",
          "data": {
            "text/plain": [
              "array([ 1,  4,  7, 10, 13, 16])"
            ]
          },
          "metadata": {
            "tags": []
          },
          "execution_count": 83
        }
      ]
    },
    {
      "metadata": {
        "id": "R0zCMEgIF0Xq",
        "colab_type": "text"
      },
      "cell_type": "markdown",
      "source": [
        "### Linspace"
      ]
    },
    {
      "metadata": {
        "id": "jGAeI2E0GLbL",
        "colab_type": "code",
        "outputId": "3abcb43a-7555-47e8-a14d-b748e7e5e332",
        "colab": {
          "base_uri": "https://localhost:8080/",
          "height": 34
        }
      },
      "cell_type": "code",
      "source": [
        "#  give me 4 number equally spaced on interval [2.5,10]\n",
        "a = np.linspace(2.5,10,num=4)\n",
        "a"
      ],
      "execution_count": 0,
      "outputs": [
        {
          "output_type": "execute_result",
          "data": {
            "text/plain": [
              "array([ 2.5,  5. ,  7.5, 10. ])"
            ]
          },
          "metadata": {
            "tags": []
          },
          "execution_count": 84
        }
      ]
    },
    {
      "metadata": {
        "id": "PcKceoQIXRux",
        "colab_type": "text"
      },
      "cell_type": "markdown",
      "source": [
        "### Add column to numpy matrix"
      ]
    },
    {
      "metadata": {
        "id": "Uuw61leqXYFZ",
        "colab_type": "code",
        "outputId": "c5207625-47d3-4c9c-fb81-edafe02b68f6",
        "colab": {
          "base_uri": "https://localhost:8080/",
          "height": 87
        }
      },
      "cell_type": "code",
      "source": [
        "a = np.arange(0,6,1).reshape(3,2)\n",
        "print(a.shape)\n",
        "a"
      ],
      "execution_count": 0,
      "outputs": [
        {
          "output_type": "stream",
          "text": [
            "(3, 2)\n"
          ],
          "name": "stdout"
        },
        {
          "output_type": "execute_result",
          "data": {
            "text/plain": [
              "array([[0, 1],\n",
              "       [2, 3],\n",
              "       [4, 5]])"
            ]
          },
          "metadata": {
            "tags": []
          },
          "execution_count": 85
        }
      ]
    },
    {
      "metadata": {
        "id": "y9R9uQT6YNJp",
        "colab_type": "code",
        "outputId": "b40fce5e-f108-4414-ec00-cf9cb1c27882",
        "colab": {
          "base_uri": "https://localhost:8080/",
          "height": 70
        }
      },
      "cell_type": "code",
      "source": [
        "# use np.append or np.hstack\n",
        "b = np.asarray([1,2,3]).reshape(-1,1)\n",
        "print(b.shape)\n",
        "c = np.hstack((a,b))\n",
        "d = np.append(a,b,axis=1)\n",
        "print(c.shape)\n",
        "print(d.shape)"
      ],
      "execution_count": 0,
      "outputs": [
        {
          "output_type": "stream",
          "text": [
            "(3, 1)\n",
            "(3, 3)\n",
            "(3, 3)\n"
          ],
          "name": "stdout"
        }
      ]
    },
    {
      "metadata": {
        "id": "s_Oo0c2Ihmn7",
        "colab_type": "text"
      },
      "cell_type": "markdown",
      "source": [
        "### Square of numpy"
      ]
    },
    {
      "metadata": {
        "id": "snBaozfAhB6N",
        "colab_type": "code",
        "outputId": "f117b9ae-b7c0-4492-afc4-c3add28b4eb8",
        "colab": {
          "base_uri": "https://localhost:8080/",
          "height": 70
        }
      },
      "cell_type": "code",
      "source": [
        "a = np.arange(0,6,1).reshape(3,2)\n",
        "c = np.square(a)\n",
        "c"
      ],
      "execution_count": 0,
      "outputs": [
        {
          "output_type": "execute_result",
          "data": {
            "text/plain": [
              "array([[ 0,  1],\n",
              "       [ 4,  9],\n",
              "       [16, 25]])"
            ]
          },
          "metadata": {
            "tags": []
          },
          "execution_count": 87
        }
      ]
    },
    {
      "metadata": {
        "id": "PBokiTssXacm",
        "colab_type": "text"
      },
      "cell_type": "markdown",
      "source": [
        "### Sparse matrix"
      ]
    },
    {
      "metadata": {
        "id": "ZnPI76LyXdqm",
        "colab_type": "code",
        "outputId": "2f36c2c5-b762-4e03-b11f-0324e86cf970",
        "colab": {
          "base_uri": "https://localhost:8080/",
          "height": 70
        }
      },
      "cell_type": "code",
      "source": [
        "A = np.array([[1,2,3],[0,0,0],[0,9,7]])\n",
        "A"
      ],
      "execution_count": 0,
      "outputs": [
        {
          "output_type": "execute_result",
          "data": {
            "text/plain": [
              "array([[1, 2, 3],\n",
              "       [0, 0, 0],\n",
              "       [0, 9, 7]])"
            ]
          },
          "metadata": {
            "tags": []
          },
          "execution_count": 88
        }
      ]
    },
    {
      "metadata": {
        "id": "Skfb-KpRYFHT",
        "colab_type": "code",
        "outputId": "d3145f59-a6d5-4da3-d3bd-ecd928773d76",
        "colab": {
          "base_uri": "https://localhost:8080/",
          "height": 105
        }
      },
      "cell_type": "code",
      "source": [
        "A_sparse = sparse.csr_matrix(A)\n",
        "print(A_sparse) # only non zero elements are stored"
      ],
      "execution_count": 0,
      "outputs": [
        {
          "output_type": "stream",
          "text": [
            "  (0, 0)\t1\n",
            "  (0, 1)\t2\n",
            "  (0, 2)\t3\n",
            "  (2, 1)\t9\n",
            "  (2, 2)\t7\n"
          ],
          "name": "stdout"
        }
      ]
    },
    {
      "metadata": {
        "id": "t1QX3C_RZh05",
        "colab_type": "text"
      },
      "cell_type": "markdown",
      "source": [
        "### Max of all rows in matrix"
      ]
    },
    {
      "metadata": {
        "id": "Rt6NQltOZmv5",
        "colab_type": "code",
        "outputId": "afdc5666-71b9-442e-9976-40ee89f3f0b5",
        "colab": {
          "base_uri": "https://localhost:8080/",
          "height": 70
        }
      },
      "cell_type": "code",
      "source": [
        "A = np.array([[1,2,3],[0,0,0],[0,9,7]])\n",
        "A"
      ],
      "execution_count": 0,
      "outputs": [
        {
          "output_type": "execute_result",
          "data": {
            "text/plain": [
              "array([[1, 2, 3],\n",
              "       [0, 0, 0],\n",
              "       [0, 9, 7]])"
            ]
          },
          "metadata": {
            "tags": []
          },
          "execution_count": 90
        }
      ]
    },
    {
      "metadata": {
        "id": "qfVtox3xZrHd",
        "colab_type": "code",
        "outputId": "f3570b74-7947-43e1-900c-498455f72f20",
        "colab": {
          "base_uri": "https://localhost:8080/",
          "height": 34
        }
      },
      "cell_type": "code",
      "source": [
        "np.max(A,axis=1)"
      ],
      "execution_count": 0,
      "outputs": [
        {
          "output_type": "execute_result",
          "data": {
            "text/plain": [
              "array([3, 0, 9])"
            ]
          },
          "metadata": {
            "tags": []
          },
          "execution_count": 91
        }
      ]
    },
    {
      "metadata": {
        "id": "8XTzWFzFZ-3w",
        "colab_type": "text"
      },
      "cell_type": "markdown",
      "source": [
        "### Flatten"
      ]
    },
    {
      "metadata": {
        "id": "MNPxH9McaCSI",
        "colab_type": "code",
        "outputId": "2111b407-03de-4cc3-bb0d-86f09685d360",
        "colab": {
          "base_uri": "https://localhost:8080/",
          "height": 52
        }
      },
      "cell_type": "code",
      "source": [
        "B = A.flatten()\n",
        "print (B.shape)\n",
        "B"
      ],
      "execution_count": 0,
      "outputs": [
        {
          "output_type": "stream",
          "text": [
            "(9,)\n"
          ],
          "name": "stdout"
        },
        {
          "output_type": "execute_result",
          "data": {
            "text/plain": [
              "array([1, 2, 3, 0, 0, 0, 0, 9, 7])"
            ]
          },
          "metadata": {
            "tags": []
          },
          "execution_count": 92
        }
      ]
    },
    {
      "metadata": {
        "id": "xDMK_7DWau-i",
        "colab_type": "code",
        "outputId": "d1e7371e-2926-4f15-9f64-b445b49737d1",
        "colab": {
          "base_uri": "https://localhost:8080/",
          "height": 34
        }
      },
      "cell_type": "code",
      "source": [
        "C = A.reshape(-1,1) # -1 means as many as needed\n",
        "print(C.shape)"
      ],
      "execution_count": 0,
      "outputs": [
        {
          "output_type": "stream",
          "text": [
            "(9, 1)\n"
          ],
          "name": "stdout"
        }
      ]
    },
    {
      "metadata": {
        "id": "edluR4PobW16",
        "colab_type": "text"
      },
      "cell_type": "markdown",
      "source": [
        "### Diagonal"
      ]
    },
    {
      "metadata": {
        "id": "BvrR-uX7bY1T",
        "colab_type": "code",
        "outputId": "c0da7f1a-e4fe-4e58-95a0-64b1d270dd81",
        "colab": {
          "base_uri": "https://localhost:8080/",
          "height": 34
        }
      },
      "cell_type": "code",
      "source": [
        "A.diagonal()"
      ],
      "execution_count": 0,
      "outputs": [
        {
          "output_type": "execute_result",
          "data": {
            "text/plain": [
              "array([1, 0, 7])"
            ]
          },
          "metadata": {
            "tags": []
          },
          "execution_count": 94
        }
      ]
    },
    {
      "metadata": {
        "id": "_zdWB5qGbjfv",
        "colab_type": "code",
        "outputId": "d6a12243-2e60-4bca-9ae3-e995976ea4c7",
        "colab": {
          "base_uri": "https://localhost:8080/",
          "height": 34
        }
      },
      "cell_type": "code",
      "source": [
        "A.trace() # sum all values of the diagonal"
      ],
      "execution_count": 0,
      "outputs": [
        {
          "output_type": "execute_result",
          "data": {
            "text/plain": [
              "8"
            ]
          },
          "metadata": {
            "tags": []
          },
          "execution_count": 95
        }
      ]
    },
    {
      "metadata": {
        "id": "aBkuk2MTgJlN",
        "colab_type": "text"
      },
      "cell_type": "markdown",
      "source": [
        "## Strings"
      ]
    },
    {
      "metadata": {
        "id": "_-M4AmupgL9O",
        "colab_type": "code",
        "outputId": "ba41cff2-4070-418d-94b9-8bcfa13d958e",
        "colab": {
          "base_uri": "https://localhost:8080/",
          "height": 107
        }
      },
      "cell_type": "code",
      "source": [
        "# remove all rows in col in df that has certain string\n",
        "df = pd.DataFrame({'Product':['H01','H02','H03'],'Price':[22,33,44]})\n",
        "idx = df['Product'].str.contains('02')\n",
        "df = df.loc[~idx]\n",
        "df.head()"
      ],
      "execution_count": 0,
      "outputs": [
        {
          "output_type": "execute_result",
          "data": {
            "text/html": [
              "<div>\n",
              "<style scoped>\n",
              "    .dataframe tbody tr th:only-of-type {\n",
              "        vertical-align: middle;\n",
              "    }\n",
              "\n",
              "    .dataframe tbody tr th {\n",
              "        vertical-align: top;\n",
              "    }\n",
              "\n",
              "    .dataframe thead th {\n",
              "        text-align: right;\n",
              "    }\n",
              "</style>\n",
              "<table border=\"1\" class=\"dataframe\">\n",
              "  <thead>\n",
              "    <tr style=\"text-align: right;\">\n",
              "      <th></th>\n",
              "      <th>Price</th>\n",
              "      <th>Product</th>\n",
              "    </tr>\n",
              "  </thead>\n",
              "  <tbody>\n",
              "    <tr>\n",
              "      <th>0</th>\n",
              "      <td>22</td>\n",
              "      <td>H01</td>\n",
              "    </tr>\n",
              "    <tr>\n",
              "      <th>2</th>\n",
              "      <td>44</td>\n",
              "      <td>H03</td>\n",
              "    </tr>\n",
              "  </tbody>\n",
              "</table>\n",
              "</div>"
            ],
            "text/plain": [
              "   Price Product\n",
              "0     22     H01\n",
              "2     44     H03"
            ]
          },
          "metadata": {
            "tags": []
          },
          "execution_count": 96
        }
      ]
    },
    {
      "metadata": {
        "id": "wKvMgkMFvDfP",
        "colab_type": "code",
        "outputId": "3670187f-9767-47a1-db5f-79ba6e252207",
        "colab": {
          "base_uri": "https://localhost:8080/",
          "height": 34
        }
      },
      "cell_type": "code",
      "source": [
        "# remove from string\n",
        "s1 = 'appelmoes'\n",
        "s2 = s1[:4] + s1[5:]\n",
        "print(s2)"
      ],
      "execution_count": 0,
      "outputs": [
        {
          "output_type": "stream",
          "text": [
            "appemoes\n"
          ],
          "name": "stdout"
        }
      ]
    },
    {
      "metadata": {
        "id": "h7ohpQYx3pMo",
        "colab_type": "text"
      },
      "cell_type": "markdown",
      "source": [
        "### Leading zero"
      ]
    },
    {
      "metadata": {
        "id": "xXaLQxVH3uzH",
        "colab_type": "code",
        "outputId": "066f5482-cdab-4343-fde5-784b928f9f47",
        "colab": {
          "base_uri": "https://localhost:8080/",
          "height": 52
        }
      },
      "cell_type": "code",
      "source": [
        "# covert number to format 0 = '000' 1 is '0100' 2 is '0200' 16 is '1600'\n",
        "a = 1\n",
        "b = \"{:02}\".format(a)\n",
        "print(b)\n",
        "c = b + '00'\n",
        "print(c)"
      ],
      "execution_count": 0,
      "outputs": [
        {
          "output_type": "stream",
          "text": [
            "01\n",
            "0100\n"
          ],
          "name": "stdout"
        }
      ]
    },
    {
      "metadata": {
        "id": "q-bE2nhnd2Z_",
        "colab_type": "text"
      },
      "cell_type": "markdown",
      "source": [
        "### Join multiple strings into list"
      ]
    },
    {
      "metadata": {
        "id": "Qcb-tbkod5op",
        "colab_type": "code",
        "outputId": "c4bdd388-05ee-4c8b-f8ce-352259fe7db8",
        "colab": {
          "base_uri": "https://localhost:8080/",
          "height": 34
        }
      },
      "cell_type": "code",
      "source": [
        "'_'.join(['hoi','appel'])"
      ],
      "execution_count": 0,
      "outputs": [
        {
          "output_type": "execute_result",
          "data": {
            "text/plain": [
              "'hoi_appel'"
            ]
          },
          "metadata": {
            "tags": []
          },
          "execution_count": 20
        }
      ]
    },
    {
      "metadata": {
        "id": "SvDo0rZE9QzB",
        "colab_type": "text"
      },
      "cell_type": "markdown",
      "source": [
        "## Splitting"
      ]
    },
    {
      "metadata": {
        "id": "397GQrJD9Tx-",
        "colab_type": "code",
        "outputId": "d249796f-bfcf-4ba3-8cda-6c1f6642f4ce",
        "colab": {
          "base_uri": "https://localhost:8080/",
          "height": 34
        }
      },
      "cell_type": "code",
      "source": [
        "# split string\n",
        "s = \"hallo/wie/is/daar\"\n",
        "print(s.split('/'))"
      ],
      "execution_count": 0,
      "outputs": [
        {
          "output_type": "stream",
          "text": [
            "['hallo', 'wie', 'is', 'daar']\n"
          ],
          "name": "stdout"
        }
      ]
    },
    {
      "metadata": {
        "id": "ptv8foJ5ICid",
        "colab_type": "text"
      },
      "cell_type": "markdown",
      "source": [
        "## List"
      ]
    },
    {
      "metadata": {
        "id": "FG45_GF_IG4M",
        "colab_type": "code",
        "colab": {}
      },
      "cell_type": "code",
      "source": [
        "# sub set that is not in other list\n",
        "a = ['hoi','appel','banaan','kikker']\n",
        "b = ['appel','banaan']"
      ],
      "execution_count": 0,
      "outputs": []
    },
    {
      "metadata": {
        "id": "fgotypt9IYZN",
        "colab_type": "code",
        "outputId": "40d72d2a-3c60-418e-99c5-d07bdeb3d5ce",
        "colab": {
          "base_uri": "https://localhost:8080/",
          "height": 34
        }
      },
      "cell_type": "code",
      "source": [
        "main_list = list(set(a) - set(b))\n",
        "main_list"
      ],
      "execution_count": 0,
      "outputs": [
        {
          "output_type": "execute_result",
          "data": {
            "text/plain": [
              "['kikker', 'hoi']"
            ]
          },
          "metadata": {
            "tags": []
          },
          "execution_count": 100
        }
      ]
    },
    {
      "metadata": {
        "id": "XdqQh4NurgEn",
        "colab_type": "code",
        "outputId": "63759216-9c4e-4da7-f14b-f38c11331a7b",
        "colab": {
          "base_uri": "https://localhost:8080/",
          "height": 34
        }
      },
      "cell_type": "code",
      "source": [
        "# lists are mutable, one can add data\n",
        "a.append('kikker')\n",
        "a"
      ],
      "execution_count": 0,
      "outputs": [
        {
          "output_type": "execute_result",
          "data": {
            "text/plain": [
              "['hoi', 'appel', 'banaan', 'kikker', 'kikker']"
            ]
          },
          "metadata": {
            "tags": []
          },
          "execution_count": 101
        }
      ]
    },
    {
      "metadata": {
        "id": "HuDYxUErtOvp",
        "colab_type": "code",
        "outputId": "c29a6c81-2242-49ab-d1ec-1d60e10c16c1",
        "colab": {
          "base_uri": "https://localhost:8080/",
          "height": 34
        }
      },
      "cell_type": "code",
      "source": [
        "# remove something from list\n",
        "a.remove('kikker')\n",
        "a"
      ],
      "execution_count": 0,
      "outputs": [
        {
          "output_type": "execute_result",
          "data": {
            "text/plain": [
              "['hoi', 'appel', 'banaan', 'kikker']"
            ]
          },
          "metadata": {
            "tags": []
          },
          "execution_count": 102
        }
      ]
    },
    {
      "metadata": {
        "id": "XenhVyykA5N-",
        "colab_type": "code",
        "outputId": "ca3cfd88-9e6b-4ddc-db4b-b5a40f6d3725",
        "colab": {
          "base_uri": "https://localhost:8080/",
          "height": 34
        }
      },
      "cell_type": "code",
      "source": [
        "# with pop you will remove based on index\n",
        "a.pop(0)\n",
        "a"
      ],
      "execution_count": 0,
      "outputs": [
        {
          "output_type": "execute_result",
          "data": {
            "text/plain": [
              "['appel', 'banaan', 'kikker']"
            ]
          },
          "metadata": {
            "tags": []
          },
          "execution_count": 103
        }
      ]
    },
    {
      "metadata": {
        "id": "9bduk1LLoL7B",
        "colab_type": "code",
        "colab": {
          "base_uri": "https://localhost:8080/",
          "height": 34
        },
        "outputId": "41ce7567-5ce0-4c32-9453-2571fffc8fce"
      },
      "cell_type": "code",
      "source": [
        "# adding two lists\n",
        "a = [0] + [3, 5, 6]\n",
        "a"
      ],
      "execution_count": 3,
      "outputs": [
        {
          "output_type": "execute_result",
          "data": {
            "text/plain": [
              "[0, 3, 5, 6]"
            ]
          },
          "metadata": {
            "tags": []
          },
          "execution_count": 3
        }
      ]
    },
    {
      "metadata": {
        "id": "LUJCESDTD70K",
        "colab_type": "text"
      },
      "cell_type": "markdown",
      "source": [
        "### List comprehension"
      ]
    },
    {
      "metadata": {
        "id": "PnZ0U0ePEHVz",
        "colab_type": "code",
        "outputId": "8ba7cdd0-b959-48b9-bed1-43fdc55ba242",
        "colab": {
          "base_uri": "https://localhost:8080/",
          "height": 34
        }
      },
      "cell_type": "code",
      "source": [
        "# one line list comprehension\n",
        "# https://towardsdatascience.com/python-for-data-science-8-concepts-you-may-have-forgotten-i-did-825966908393\n",
        "a = [1,2,3,4]\n",
        "b = [i**2 for i in a]\n",
        "b"
      ],
      "execution_count": 0,
      "outputs": [
        {
          "output_type": "execute_result",
          "data": {
            "text/plain": [
              "[1, 4, 9, 16]"
            ]
          },
          "metadata": {
            "tags": []
          },
          "execution_count": 104
        }
      ]
    },
    {
      "metadata": {
        "id": "QMvmalr0ErTd",
        "colab_type": "code",
        "outputId": "616d10ff-58df-435b-f647-d4723c6c50ff",
        "colab": {
          "base_uri": "https://localhost:8080/",
          "height": 34
        }
      },
      "cell_type": "code",
      "source": [
        "# one line list comprehension with if statement\n",
        "a = [1,2,3,4]\n",
        "b = [i**2 for i in a if i < 4]\n",
        "b"
      ],
      "execution_count": 0,
      "outputs": [
        {
          "output_type": "execute_result",
          "data": {
            "text/plain": [
              "[1, 4, 9]"
            ]
          },
          "metadata": {
            "tags": []
          },
          "execution_count": 105
        }
      ]
    },
    {
      "metadata": {
        "id": "b_GPVu_TcaIH",
        "colab_type": "text"
      },
      "cell_type": "markdown",
      "source": [
        "### List to string"
      ]
    },
    {
      "metadata": {
        "id": "AyZbAedRccsN",
        "colab_type": "code",
        "outputId": "f673572e-e6e8-4872-b029-b9973490532d",
        "colab": {
          "base_uri": "https://localhost:8080/",
          "height": 52
        }
      },
      "cell_type": "code",
      "source": [
        "a = ['a','b','c']\n",
        "b = ''.join(a)\n",
        "c = ', '.join(a)\n",
        "print(b)\n",
        "print(c)"
      ],
      "execution_count": 0,
      "outputs": [
        {
          "output_type": "stream",
          "text": [
            "abc\n",
            "a, b, c\n"
          ],
          "name": "stdout"
        }
      ]
    },
    {
      "metadata": {
        "id": "Mq9n3RO2P_Zl",
        "colab_type": "text"
      },
      "cell_type": "markdown",
      "source": [
        "### Zip"
      ]
    },
    {
      "metadata": {
        "id": "b0hVC0cHQBGk",
        "colab_type": "code",
        "outputId": "81bb8e32-c16e-47aa-e3ce-1d72d5b714f7",
        "colab": {
          "base_uri": "https://localhost:8080/",
          "height": 34
        }
      },
      "cell_type": "code",
      "source": [
        "a = [1,8,9]\n",
        "b = [6,8,1]\n",
        "zip(a,b)"
      ],
      "execution_count": 0,
      "outputs": [
        {
          "output_type": "execute_result",
          "data": {
            "text/plain": [
              "[(1, 6), (8, 8), (9, 1)]"
            ]
          },
          "metadata": {
            "tags": []
          },
          "execution_count": 3
        }
      ]
    },
    {
      "metadata": {
        "id": "RdHBy9E7RZ9H",
        "colab_type": "code",
        "outputId": "c45ac7b1-1982-416f-80cc-e246e007731d",
        "colab": {
          "base_uri": "https://localhost:8080/",
          "height": 70
        }
      },
      "cell_type": "code",
      "source": [
        "for i in zip(a,b): # i,j\n",
        "  print (i)\n",
        "  #print (j)"
      ],
      "execution_count": 0,
      "outputs": [
        {
          "output_type": "stream",
          "text": [
            "(1, 6)\n",
            "(8, 8)\n",
            "(9, 1)\n"
          ],
          "name": "stdout"
        }
      ]
    },
    {
      "metadata": {
        "id": "0-_lxA6NHlmx",
        "colab_type": "text"
      },
      "cell_type": "markdown",
      "source": [
        "### Enumerate"
      ]
    },
    {
      "metadata": {
        "id": "MOBjJ9aDHsFn",
        "colab_type": "code",
        "outputId": "86531e23-03d6-4363-eee1-08a122b5c336",
        "colab": {
          "base_uri": "https://localhost:8080/",
          "height": 123
        }
      },
      "cell_type": "code",
      "source": [
        "# with enumerate you get the index as well\n",
        "a = ['banana','peach','apple']\n",
        "for id, fruit in enumerate(a):\n",
        "  print(id)\n",
        "  print(fruit)"
      ],
      "execution_count": 0,
      "outputs": [
        {
          "output_type": "stream",
          "text": [
            "0\n",
            "banana\n",
            "1\n",
            "peach\n",
            "2\n",
            "apple\n"
          ],
          "name": "stdout"
        }
      ]
    },
    {
      "metadata": {
        "id": "54kKckmltj96",
        "colab_type": "text"
      },
      "cell_type": "markdown",
      "source": [
        "## Tuples"
      ]
    },
    {
      "metadata": {
        "id": "0G0uag-jtm_B",
        "colab_type": "code",
        "outputId": "32319f27-8cf8-40ec-9ffa-1749f8364671",
        "colab": {
          "base_uri": "https://localhost:8080/",
          "height": 34
        }
      },
      "cell_type": "code",
      "source": [
        "# tuples are immutable (i.e. you can not change them)\n",
        "t = ('appel','banaan','tomaat')\n",
        "t"
      ],
      "execution_count": 0,
      "outputs": [
        {
          "output_type": "execute_result",
          "data": {
            "text/plain": [
              "('appel', 'banaan', 'tomaat')"
            ]
          },
          "metadata": {
            "tags": []
          },
          "execution_count": 106
        }
      ]
    },
    {
      "metadata": {
        "id": "hokzt3d9t4Tg",
        "colab_type": "code",
        "outputId": "8aa12985-c0d7-40c2-ac16-7c687975dddc",
        "colab": {
          "base_uri": "https://localhost:8080/",
          "height": 34
        }
      },
      "cell_type": "code",
      "source": [
        "# find the index\n",
        "t.index('tomaat')"
      ],
      "execution_count": 0,
      "outputs": [
        {
          "output_type": "execute_result",
          "data": {
            "text/plain": [
              "2"
            ]
          },
          "metadata": {
            "tags": []
          },
          "execution_count": 107
        }
      ]
    },
    {
      "metadata": {
        "id": "zcReySYIupSI",
        "colab_type": "code",
        "outputId": "cc2f05bb-2f1e-4295-fe20-e8b54a2841a9",
        "colab": {
          "base_uri": "https://localhost:8080/",
          "height": 34
        }
      },
      "cell_type": "code",
      "source": [
        "# tuple slicing\n",
        "t[1:]"
      ],
      "execution_count": 0,
      "outputs": [
        {
          "output_type": "execute_result",
          "data": {
            "text/plain": [
              "('banaan', 'tomaat')"
            ]
          },
          "metadata": {
            "tags": []
          },
          "execution_count": 108
        }
      ]
    },
    {
      "metadata": {
        "id": "dUKQMdbvxNAD",
        "colab_type": "code",
        "colab": {}
      },
      "cell_type": "code",
      "source": [
        "# tuples are comparable and hashable so we can sort lists of \n",
        "# them and use them as ley values in python dict\n",
        "#https://www.pythonlearn.com/html-008/cfbook011.html\n"
      ],
      "execution_count": 0,
      "outputs": []
    },
    {
      "metadata": {
        "id": "nXrowQgrTdYZ",
        "colab_type": "text"
      },
      "cell_type": "markdown",
      "source": [
        "## Dictionary"
      ]
    },
    {
      "metadata": {
        "id": "E-zH_nnktmY3",
        "colab_type": "text"
      },
      "cell_type": "markdown",
      "source": [
        "- keys of dicts are immutable\n",
        "- key can string, integer or tuple\n",
        "- seel also: http://www.pybloggers.com/2018/10/python-dictionary-tutorial/"
      ]
    },
    {
      "metadata": {
        "id": "DgEu06hWTdYa",
        "colab_type": "code",
        "colab": {}
      },
      "cell_type": "code",
      "source": [
        "# create dict with the bracket method\n",
        "dd = {'ali':178,\n",
        "      'johan':'188',\n",
        "      'Doei':'48'}\n",
        "\n",
        "# other way of creation with dict method\n",
        "dd2 = dict(ali=178,\n",
        "      johan='188',\n",
        "      Doei='48')\n",
        "\n",
        "# create dict with tuple list\n",
        "tuple_list = [('ali',178),('johan','188'),('Doei','48')]\n",
        "dd3 = dict(tuple_list)"
      ],
      "execution_count": 0,
      "outputs": []
    },
    {
      "metadata": {
        "id": "LPOPRz6Vvk7N",
        "colab_type": "code",
        "outputId": "5f00f9c0-e9ee-40a9-c9a2-aed5a3533f9b",
        "colab": {
          "base_uri": "https://localhost:8080/",
          "height": 34
        }
      },
      "cell_type": "code",
      "source": [
        "dd == dd2 == dd3"
      ],
      "execution_count": 0,
      "outputs": [
        {
          "output_type": "execute_result",
          "data": {
            "text/plain": [
              "True"
            ]
          },
          "metadata": {
            "tags": []
          },
          "execution_count": 19
        }
      ]
    },
    {
      "metadata": {
        "id": "ufXcDHPhyhXo",
        "colab_type": "code",
        "colab": {}
      },
      "cell_type": "code",
      "source": [
        "d = {'ali':178,\n",
        "     'johan':[188,1],\n",
        "     'Doei':{'appel':20,\n",
        "          'banaan':[30,100],\n",
        "          'peer':40}}"
      ],
      "execution_count": 0,
      "outputs": []
    },
    {
      "metadata": {
        "id": "1HvRkyfUTdYe",
        "colab_type": "code",
        "outputId": "ecfc6f34-0a90-4b13-d489-9d939ae9ea33",
        "colab": {
          "base_uri": "https://localhost:8080/",
          "height": 52
        }
      },
      "cell_type": "code",
      "source": [
        "# how many element are in my dict?\n",
        "print(len(dd))\n",
        "print(len(d))"
      ],
      "execution_count": 0,
      "outputs": [
        {
          "output_type": "stream",
          "text": [
            "3\n",
            "3\n"
          ],
          "name": "stdout"
        }
      ]
    },
    {
      "metadata": {
        "id": "HNZQG9d01VZr",
        "colab_type": "text"
      },
      "cell_type": "markdown",
      "source": [
        "### Data access"
      ]
    },
    {
      "metadata": {
        "id": "DCP6zSZizSnH",
        "colab_type": "code",
        "outputId": "3694f65c-5638-407d-dcfc-47bf7c12033e",
        "colab": {
          "base_uri": "https://localhost:8080/",
          "height": 87
        }
      },
      "cell_type": "code",
      "source": [
        "# data access\n",
        "print(d['Doei'])\n",
        "print(d['Doei']['peer'])\n",
        "print(d['johan'])\n",
        "print(d['johan'][0])"
      ],
      "execution_count": 0,
      "outputs": [
        {
          "output_type": "stream",
          "text": [
            "{'peer': 40, 'appel': 20, 'banaan': [30, 100]}\n",
            "40\n",
            "[188, 1]\n",
            "188\n"
          ],
          "name": "stdout"
        }
      ]
    },
    {
      "metadata": {
        "id": "vsIhjGQz1fkw",
        "colab_type": "text"
      },
      "cell_type": "markdown",
      "source": [
        "### Adding items"
      ]
    },
    {
      "metadata": {
        "id": "J0tv26DltIr8",
        "colab_type": "code",
        "outputId": "3a470f22-7737-4e3f-dfaa-bc8e6d656e9e",
        "colab": {
          "base_uri": "https://localhost:8080/",
          "height": 34
        }
      },
      "cell_type": "code",
      "source": [
        "# add new item\n",
        "dd['huis'] = 51\n",
        "dd[5] = 22\n",
        "dd"
      ],
      "execution_count": 0,
      "outputs": [
        {
          "output_type": "execute_result",
          "data": {
            "text/plain": [
              "{5: 22, 'Doei': '48', 'ali': 178, 'huis': 51, 'johan': '188'}"
            ]
          },
          "metadata": {
            "tags": []
          },
          "execution_count": 38
        }
      ]
    },
    {
      "metadata": {
        "id": "ws_ydQMltd32",
        "colab_type": "code",
        "outputId": "dc5849e9-cf67-40d7-8d08-8a42280e17ce",
        "colab": {
          "base_uri": "https://localhost:8080/",
          "height": 34
        }
      },
      "cell_type": "code",
      "source": [
        "# change item\n",
        "dd[5] = 444\n",
        "dd"
      ],
      "execution_count": 0,
      "outputs": [
        {
          "output_type": "execute_result",
          "data": {
            "text/plain": [
              "{5: 444, 'Doei': '48', 'ali': 178, 'huis': 51, 'johan': '188'}"
            ]
          },
          "metadata": {
            "tags": []
          },
          "execution_count": 39
        }
      ]
    },
    {
      "metadata": {
        "id": "_VVIgj8l0yqD",
        "colab_type": "code",
        "outputId": "e9c9d0e5-e4af-4288-f2fa-a8195bda3e52",
        "colab": {
          "base_uri": "https://localhost:8080/",
          "height": 70
        }
      },
      "cell_type": "code",
      "source": [
        "# add item\n",
        "d['Doei']['mandarijn'] = 100\n",
        "d"
      ],
      "execution_count": 0,
      "outputs": [
        {
          "output_type": "execute_result",
          "data": {
            "text/plain": [
              "{'Doei': {'appel': 20, 'banaan': [30, 100], 'mandarijn': 100, 'peer': 40},\n",
              " 'ali': 178,\n",
              " 'johan': [188, 1]}"
            ]
          },
          "metadata": {
            "tags": []
          },
          "execution_count": 40
        }
      ]
    },
    {
      "metadata": {
        "id": "wUv8Qnty1kAQ",
        "colab_type": "text"
      },
      "cell_type": "markdown",
      "source": [
        "### Membership checking"
      ]
    },
    {
      "metadata": {
        "id": "NZ5rfWvB1ohS",
        "colab_type": "code",
        "outputId": "48cded8a-67a1-49de-ce22-d62bd66c62f5",
        "colab": {
          "base_uri": "https://localhost:8080/",
          "height": 34
        }
      },
      "cell_type": "code",
      "source": [
        "# If we want to check if a key exists within a dictionary, we can use the in operator.\n",
        "'Doei' in d"
      ],
      "execution_count": 0,
      "outputs": [
        {
          "output_type": "execute_result",
          "data": {
            "text/plain": [
              "True"
            ]
          },
          "metadata": {
            "tags": []
          },
          "execution_count": 41
        }
      ]
    },
    {
      "metadata": {
        "id": "CgxFktho10QZ",
        "colab_type": "code",
        "outputId": "182034cb-b1ff-4bee-c079-bca337501827",
        "colab": {
          "base_uri": "https://localhost:8080/",
          "height": 52
        }
      },
      "cell_type": "code",
      "source": [
        "print('appel' in d)\n",
        "print('appel' in d['Doei'])"
      ],
      "execution_count": 0,
      "outputs": [
        {
          "output_type": "stream",
          "text": [
            "False\n",
            "True\n"
          ],
          "name": "stdout"
        }
      ]
    },
    {
      "metadata": {
        "id": "FXtJOa7s2Hz6",
        "colab_type": "text"
      },
      "cell_type": "markdown",
      "source": [
        "### Looping techniques"
      ]
    },
    {
      "metadata": {
        "id": "2Xl1FGzR131u",
        "colab_type": "code",
        "outputId": "8f808a1a-92f0-4565-b463-85fa164fb889",
        "colab": {
          "base_uri": "https://localhost:8080/",
          "height": 70
        }
      },
      "cell_type": "code",
      "source": [
        "for key in d.keys():\n",
        "    print(key)"
      ],
      "execution_count": 0,
      "outputs": [
        {
          "output_type": "stream",
          "text": [
            "Doei\n",
            "johan\n",
            "ali\n"
          ],
          "name": "stdout"
        }
      ]
    },
    {
      "metadata": {
        "id": "69js85rl2QGF",
        "colab_type": "code",
        "outputId": "53d5e674-6091-4325-896a-6deacc4ac91b",
        "colab": {
          "base_uri": "https://localhost:8080/",
          "height": 70
        }
      },
      "cell_type": "code",
      "source": [
        "# print the values\n",
        "for val in d.values():\n",
        "    print(val)"
      ],
      "execution_count": 0,
      "outputs": [
        {
          "output_type": "stream",
          "text": [
            "{'peer': 40, 'appel': 20, 'banaan': [30, 100], 'mandarijn': 100}\n",
            "[188, 1]\n",
            "178\n"
          ],
          "name": "stdout"
        }
      ]
    },
    {
      "metadata": {
        "id": "x2_njk0G2a7b",
        "colab_type": "code",
        "outputId": "6bb03d1b-2a2c-4735-d131-e9c24081de1b",
        "colab": {
          "base_uri": "https://localhost:8080/",
          "height": 70
        }
      },
      "cell_type": "code",
      "source": [
        "# now both key and value at the same time\n",
        "for key, val in d.items():\n",
        "    print(key,val)"
      ],
      "execution_count": 0,
      "outputs": [
        {
          "output_type": "stream",
          "text": [
            "('Doei', {'peer': 40, 'appel': 20, 'banaan': [30, 100], 'mandarijn': 100})\n",
            "('johan', [188, 1])\n",
            "('ali', 178)\n"
          ],
          "name": "stdout"
        }
      ]
    },
    {
      "metadata": {
        "id": "n9fVZuaP3bDM",
        "colab_type": "text"
      },
      "cell_type": "markdown",
      "source": [
        "### Dictionary comprehesion\n",
        " A “comprehension” in computer science terms means to perform some task or function on all items of a collection (like a list). A dictionary comprehension is similar to a list comprehension in terms of syntax, but instead creates dictionaries from a base list"
      ]
    },
    {
      "metadata": {
        "id": "we_U5a433ife",
        "colab_type": "code",
        "colab": {}
      },
      "cell_type": "code",
      "source": [
        "nums = [1, 2, 3, 4, 5]\n",
        "\n",
        "dict_comprehension = {\n",
        "    str(n) : \"The corresponding key is \" + str(n) for n in nums\n",
        "}"
      ],
      "execution_count": 0,
      "outputs": []
    },
    {
      "metadata": {
        "id": "XXI_mwJB30Ei",
        "colab_type": "code",
        "outputId": "e903b2f4-1118-45e0-c931-b2268a624529",
        "colab": {
          "base_uri": "https://localhost:8080/",
          "height": 105
        }
      },
      "cell_type": "code",
      "source": [
        "for key, val in dict_comprehension.items():\n",
        "    print(key,val)"
      ],
      "execution_count": 0,
      "outputs": [
        {
          "output_type": "stream",
          "text": [
            "('1', 'The corresponding key is 1')\n",
            "('3', 'The corresponding key is 3')\n",
            "('2', 'The corresponding key is 2')\n",
            "('5', 'The corresponding key is 5')\n",
            "('4', 'The corresponding key is 4')\n"
          ],
          "name": "stdout"
        }
      ]
    },
    {
      "metadata": {
        "id": "U4-4GqdzgPMh",
        "colab_type": "text"
      },
      "cell_type": "markdown",
      "source": [
        "### Update"
      ]
    },
    {
      "metadata": {
        "id": "xmOHqSnEgR82",
        "colab_type": "code",
        "outputId": "77b97767-adee-4557-f3eb-b079b91af2ac",
        "colab": {
          "base_uri": "https://localhost:8080/",
          "height": 34
        }
      },
      "cell_type": "code",
      "source": [
        "# update allows you to add key value pairs of other dict, if key already exists it's overwritten\n",
        "a = {'appel':22}\n",
        "b = {'tuin':33,'appel':2}\n",
        "a.update(b)\n",
        "print(a)"
      ],
      "execution_count": 0,
      "outputs": [
        {
          "output_type": "stream",
          "text": [
            "{'appel': 2, 'tuin': 33}\n"
          ],
          "name": "stdout"
        }
      ]
    },
    {
      "metadata": {
        "id": "9ZikxMnRTdYi",
        "colab_type": "text"
      },
      "cell_type": "markdown",
      "source": [
        "## Plotting"
      ]
    },
    {
      "metadata": {
        "id": "r42hkLwTTdYi",
        "colab_type": "code",
        "outputId": "20c93273-cfdb-4958-b11b-f3abf22a87a3",
        "colab": {
          "base_uri": "https://localhost:8080/",
          "height": 366
        }
      },
      "cell_type": "code",
      "source": [
        "# make plot of two numpy arrays\n",
        "x = np.array([1,2,3,4,5,6,7,8])\n",
        "y = np.array([1,4,9,16,25,36,49,64])\n",
        "plt.plot(x,y,label = 'y=x2')\n",
        "plt.legend()\n",
        "plt.show()"
      ],
      "execution_count": 0,
      "outputs": [
        {
          "output_type": "display_data",
          "data": {
            "image/png": "[encoded data removed]",
            "text/plain": [
              "<matplotlib.figure.Figure at 0x7fa3a99ea9d0>"
            ]
          },
          "metadata": {
            "tags": []
          }
        }
      ]
    },
    {
      "metadata": {
        "id": "cp9wBF75TdYn",
        "colab_type": "text"
      },
      "cell_type": "markdown",
      "source": [
        "## Other stuff"
      ]
    },
    {
      "metadata": {
        "id": "MTprMoSwTdYn",
        "colab_type": "code",
        "outputId": "0ce7d1a1-895c-4bcd-e1ae-d125e1e736b8",
        "colab": {
          "base_uri": "https://localhost:8080/",
          "height": 34
        }
      },
      "cell_type": "code",
      "source": [
        "# the modulo operator, the remainder from division\n",
        "2 % 300"
      ],
      "execution_count": 0,
      "outputs": [
        {
          "output_type": "execute_result",
          "data": {
            "text/plain": [
              "2"
            ]
          },
          "metadata": {
            "tags": []
          },
          "execution_count": 112
        }
      ]
    },
    {
      "metadata": {
        "id": "V5_oljV87MCi",
        "colab_type": "code",
        "colab": {}
      },
      "cell_type": "code",
      "source": [
        "TESTDATA = StringIO(\"\"\"col1;col2;col3\n",
        "    1;4.4;99\n",
        "    2;4.5;200\n",
        "    3;4.7;65\n",
        "    4;3.2;140\n",
        "    \"\"\")\n",
        "\n",
        "df = pd.read_csv(TESTDATA, sep=\";\")"
      ],
      "execution_count": 0,
      "outputs": []
    },
    {
      "metadata": {
        "id": "zEz-uU381seu",
        "colab_type": "code",
        "outputId": "38d25730-bdd9-41a3-a2fd-43c0273affa6",
        "colab": {
          "base_uri": "https://localhost:8080/",
          "height": 52
        }
      },
      "cell_type": "code",
      "source": [
        "print (sys.version)"
      ],
      "execution_count": 0,
      "outputs": [
        {
          "output_type": "stream",
          "text": [
            "2.7.14 (default, Sep 23 2017, 22:06:14) \n",
            "[GCC 7.2.0]\n"
          ],
          "name": "stdout"
        }
      ]
    },
    {
      "metadata": {
        "id": "lQ-qUyA-LW-0",
        "colab_type": "text"
      },
      "cell_type": "markdown",
      "source": [
        "## Dataframe"
      ]
    },
    {
      "metadata": {
        "id": "Bz_0Ske3LU3e",
        "colab_type": "code",
        "colab": {}
      },
      "cell_type": "code",
      "source": [
        "# Create dataframe\n",
        "df = pd.DataFrame({'a':[1,2,3],'b':[3,4,5]})"
      ],
      "execution_count": 0,
      "outputs": []
    },
    {
      "metadata": {
        "id": "Ep7oCd6MLquF",
        "colab_type": "code",
        "outputId": "2c2e162c-95b7-4fb9-ffc1-774285f1498c",
        "colab": {
          "base_uri": "https://localhost:8080/",
          "height": 167
        }
      },
      "cell_type": "code",
      "source": [
        "# dataframe from numpy array\n",
        "names = ['apple','orange','apple','banana']\n",
        "price = [1,2,5,10]\n",
        "df = pd.DataFrame({'names':names,'price':price})\n",
        "df.head()"
      ],
      "execution_count": 0,
      "outputs": [
        {
          "output_type": "execute_result",
          "data": {
            "text/html": [
              "<div>\n",
              "<style scoped>\n",
              "    .dataframe tbody tr th:only-of-type {\n",
              "        vertical-align: middle;\n",
              "    }\n",
              "\n",
              "    .dataframe tbody tr th {\n",
              "        vertical-align: top;\n",
              "    }\n",
              "\n",
              "    .dataframe thead th {\n",
              "        text-align: right;\n",
              "    }\n",
              "</style>\n",
              "<table border=\"1\" class=\"dataframe\">\n",
              "  <thead>\n",
              "    <tr style=\"text-align: right;\">\n",
              "      <th></th>\n",
              "      <th>names</th>\n",
              "      <th>price</th>\n",
              "    </tr>\n",
              "  </thead>\n",
              "  <tbody>\n",
              "    <tr>\n",
              "      <th>0</th>\n",
              "      <td>apple</td>\n",
              "      <td>1</td>\n",
              "    </tr>\n",
              "    <tr>\n",
              "      <th>1</th>\n",
              "      <td>orange</td>\n",
              "      <td>2</td>\n",
              "    </tr>\n",
              "    <tr>\n",
              "      <th>2</th>\n",
              "      <td>apple</td>\n",
              "      <td>5</td>\n",
              "    </tr>\n",
              "    <tr>\n",
              "      <th>3</th>\n",
              "      <td>banana</td>\n",
              "      <td>10</td>\n",
              "    </tr>\n",
              "  </tbody>\n",
              "</table>\n",
              "</div>"
            ],
            "text/plain": [
              "    names  price\n",
              "0   apple      1\n",
              "1  orange      2\n",
              "2   apple      5\n",
              "3  banana     10"
            ]
          },
          "metadata": {
            "tags": []
          },
          "execution_count": 116
        }
      ]
    },
    {
      "metadata": {
        "id": "lH10876mLpYN",
        "colab_type": "code",
        "outputId": "781ad149-c6cc-477c-edfc-978869a4cbba",
        "colab": {
          "base_uri": "https://localhost:8080/",
          "height": 137
        }
      },
      "cell_type": "code",
      "source": [
        "a = np.array([[1,1,1],[2,2,2],[3,3,3]])\n",
        "df = pd.DataFrame(a,columns=['first','second','third'])\n",
        "df.head()"
      ],
      "execution_count": 0,
      "outputs": [
        {
          "output_type": "execute_result",
          "data": {
            "text/html": [
              "<div>\n",
              "<style scoped>\n",
              "    .dataframe tbody tr th:only-of-type {\n",
              "        vertical-align: middle;\n",
              "    }\n",
              "\n",
              "    .dataframe tbody tr th {\n",
              "        vertical-align: top;\n",
              "    }\n",
              "\n",
              "    .dataframe thead th {\n",
              "        text-align: right;\n",
              "    }\n",
              "</style>\n",
              "<table border=\"1\" class=\"dataframe\">\n",
              "  <thead>\n",
              "    <tr style=\"text-align: right;\">\n",
              "      <th></th>\n",
              "      <th>first</th>\n",
              "      <th>second</th>\n",
              "      <th>third</th>\n",
              "    </tr>\n",
              "  </thead>\n",
              "  <tbody>\n",
              "    <tr>\n",
              "      <th>0</th>\n",
              "      <td>1</td>\n",
              "      <td>1</td>\n",
              "      <td>1</td>\n",
              "    </tr>\n",
              "    <tr>\n",
              "      <th>1</th>\n",
              "      <td>2</td>\n",
              "      <td>2</td>\n",
              "      <td>2</td>\n",
              "    </tr>\n",
              "    <tr>\n",
              "      <th>2</th>\n",
              "      <td>3</td>\n",
              "      <td>3</td>\n",
              "      <td>3</td>\n",
              "    </tr>\n",
              "  </tbody>\n",
              "</table>\n",
              "</div>"
            ],
            "text/plain": [
              "   first  second  third\n",
              "0      1       1      1\n",
              "1      2       2      2\n",
              "2      3       3      3"
            ]
          },
          "metadata": {
            "tags": []
          },
          "execution_count": 8
        }
      ]
    },
    {
      "metadata": {
        "id": "qLqM_XjsPbZ1",
        "colab_type": "code",
        "outputId": "ca9f252c-0b2a-4155-f65b-37dae524af6e",
        "colab": {
          "base_uri": "https://localhost:8080/",
          "height": 167
        }
      },
      "cell_type": "code",
      "source": [
        "# make new column price_sqr using the apply function\n",
        "df['price_sqr'] = df['price'].apply(lambda x: x*x)\n",
        "df.head()"
      ],
      "execution_count": 0,
      "outputs": [
        {
          "output_type": "execute_result",
          "data": {
            "text/html": [
              "<div>\n",
              "<style scoped>\n",
              "    .dataframe tbody tr th:only-of-type {\n",
              "        vertical-align: middle;\n",
              "    }\n",
              "\n",
              "    .dataframe tbody tr th {\n",
              "        vertical-align: top;\n",
              "    }\n",
              "\n",
              "    .dataframe thead th {\n",
              "        text-align: right;\n",
              "    }\n",
              "</style>\n",
              "<table border=\"1\" class=\"dataframe\">\n",
              "  <thead>\n",
              "    <tr style=\"text-align: right;\">\n",
              "      <th></th>\n",
              "      <th>names</th>\n",
              "      <th>price</th>\n",
              "      <th>price_sqr</th>\n",
              "    </tr>\n",
              "  </thead>\n",
              "  <tbody>\n",
              "    <tr>\n",
              "      <th>0</th>\n",
              "      <td>apple</td>\n",
              "      <td>1</td>\n",
              "      <td>1</td>\n",
              "    </tr>\n",
              "    <tr>\n",
              "      <th>1</th>\n",
              "      <td>orange</td>\n",
              "      <td>2</td>\n",
              "      <td>4</td>\n",
              "    </tr>\n",
              "    <tr>\n",
              "      <th>2</th>\n",
              "      <td>apple</td>\n",
              "      <td>5</td>\n",
              "      <td>25</td>\n",
              "    </tr>\n",
              "    <tr>\n",
              "      <th>3</th>\n",
              "      <td>banana</td>\n",
              "      <td>10</td>\n",
              "      <td>100</td>\n",
              "    </tr>\n",
              "  </tbody>\n",
              "</table>\n",
              "</div>"
            ],
            "text/plain": [
              "    names  price  price_sqr\n",
              "0   apple      1          1\n",
              "1  orange      2          4\n",
              "2   apple      5         25\n",
              "3  banana     10        100"
            ]
          },
          "metadata": {
            "tags": []
          },
          "execution_count": 117
        }
      ]
    },
    {
      "metadata": {
        "id": "P341aCZyN5dI",
        "colab_type": "code",
        "outputId": "ea312bd4-1936-4739-94a6-ff0ba1dc0405",
        "colab": {
          "base_uri": "https://localhost:8080/",
          "height": 167
        }
      },
      "cell_type": "code",
      "source": [
        "# add 10 to price of apple\n",
        "idx = df['names'] == 'apple'\n",
        "df.loc[idx,'price'] = df.loc[idx,'price'] + 10\n",
        "df.head()"
      ],
      "execution_count": 0,
      "outputs": [
        {
          "output_type": "execute_result",
          "data": {
            "text/html": [
              "<div>\n",
              "<style scoped>\n",
              "    .dataframe tbody tr th:only-of-type {\n",
              "        vertical-align: middle;\n",
              "    }\n",
              "\n",
              "    .dataframe tbody tr th {\n",
              "        vertical-align: top;\n",
              "    }\n",
              "\n",
              "    .dataframe thead th {\n",
              "        text-align: right;\n",
              "    }\n",
              "</style>\n",
              "<table border=\"1\" class=\"dataframe\">\n",
              "  <thead>\n",
              "    <tr style=\"text-align: right;\">\n",
              "      <th></th>\n",
              "      <th>names</th>\n",
              "      <th>price</th>\n",
              "      <th>price_sqr</th>\n",
              "    </tr>\n",
              "  </thead>\n",
              "  <tbody>\n",
              "    <tr>\n",
              "      <th>0</th>\n",
              "      <td>apple</td>\n",
              "      <td>11</td>\n",
              "      <td>1</td>\n",
              "    </tr>\n",
              "    <tr>\n",
              "      <th>1</th>\n",
              "      <td>orange</td>\n",
              "      <td>2</td>\n",
              "      <td>4</td>\n",
              "    </tr>\n",
              "    <tr>\n",
              "      <th>2</th>\n",
              "      <td>apple</td>\n",
              "      <td>15</td>\n",
              "      <td>25</td>\n",
              "    </tr>\n",
              "    <tr>\n",
              "      <th>3</th>\n",
              "      <td>banana</td>\n",
              "      <td>10</td>\n",
              "      <td>100</td>\n",
              "    </tr>\n",
              "  </tbody>\n",
              "</table>\n",
              "</div>"
            ],
            "text/plain": [
              "    names  price  price_sqr\n",
              "0   apple     11          1\n",
              "1  orange      2          4\n",
              "2   apple     15         25\n",
              "3  banana     10        100"
            ]
          },
          "metadata": {
            "tags": []
          },
          "execution_count": 118
        }
      ]
    },
    {
      "metadata": {
        "id": "bo3fefN_YCyP",
        "colab_type": "code",
        "outputId": "66aee3db-b551-4476-c51c-68b53e773f30",
        "colab": {
          "base_uri": "https://localhost:8080/",
          "height": 167
        }
      },
      "cell_type": "code",
      "source": [
        "# rename column\n",
        "df.rename(columns = {'names':'name'},inplace=True)\n",
        "df.head()"
      ],
      "execution_count": 0,
      "outputs": [
        {
          "output_type": "execute_result",
          "data": {
            "text/html": [
              "<div>\n",
              "<style scoped>\n",
              "    .dataframe tbody tr th:only-of-type {\n",
              "        vertical-align: middle;\n",
              "    }\n",
              "\n",
              "    .dataframe tbody tr th {\n",
              "        vertical-align: top;\n",
              "    }\n",
              "\n",
              "    .dataframe thead th {\n",
              "        text-align: right;\n",
              "    }\n",
              "</style>\n",
              "<table border=\"1\" class=\"dataframe\">\n",
              "  <thead>\n",
              "    <tr style=\"text-align: right;\">\n",
              "      <th></th>\n",
              "      <th>name</th>\n",
              "      <th>price</th>\n",
              "      <th>price_sqr</th>\n",
              "    </tr>\n",
              "  </thead>\n",
              "  <tbody>\n",
              "    <tr>\n",
              "      <th>0</th>\n",
              "      <td>apple</td>\n",
              "      <td>11</td>\n",
              "      <td>1</td>\n",
              "    </tr>\n",
              "    <tr>\n",
              "      <th>1</th>\n",
              "      <td>orange</td>\n",
              "      <td>2</td>\n",
              "      <td>4</td>\n",
              "    </tr>\n",
              "    <tr>\n",
              "      <th>2</th>\n",
              "      <td>apple</td>\n",
              "      <td>15</td>\n",
              "      <td>25</td>\n",
              "    </tr>\n",
              "    <tr>\n",
              "      <th>3</th>\n",
              "      <td>banana</td>\n",
              "      <td>10</td>\n",
              "      <td>100</td>\n",
              "    </tr>\n",
              "  </tbody>\n",
              "</table>\n",
              "</div>"
            ],
            "text/plain": [
              "     name  price  price_sqr\n",
              "0   apple     11          1\n",
              "1  orange      2          4\n",
              "2   apple     15         25\n",
              "3  banana     10        100"
            ]
          },
          "metadata": {
            "tags": []
          },
          "execution_count": 119
        }
      ]
    },
    {
      "metadata": {
        "id": "uDIkGJvT_XjA",
        "colab_type": "code",
        "outputId": "56c8fdb3-ae0b-452f-e88c-d7873add6083",
        "colab": {
          "base_uri": "https://localhost:8080/",
          "height": 167
        }
      },
      "cell_type": "code",
      "source": [
        "# sort by name\n",
        "df =df.sort_values(by=['name','price'])\n",
        "df.tail(10)"
      ],
      "execution_count": 0,
      "outputs": [
        {
          "output_type": "execute_result",
          "data": {
            "text/html": [
              "<div>\n",
              "<style scoped>\n",
              "    .dataframe tbody tr th:only-of-type {\n",
              "        vertical-align: middle;\n",
              "    }\n",
              "\n",
              "    .dataframe tbody tr th {\n",
              "        vertical-align: top;\n",
              "    }\n",
              "\n",
              "    .dataframe thead th {\n",
              "        text-align: right;\n",
              "    }\n",
              "</style>\n",
              "<table border=\"1\" class=\"dataframe\">\n",
              "  <thead>\n",
              "    <tr style=\"text-align: right;\">\n",
              "      <th></th>\n",
              "      <th>name</th>\n",
              "      <th>price</th>\n",
              "      <th>price_sqr</th>\n",
              "    </tr>\n",
              "  </thead>\n",
              "  <tbody>\n",
              "    <tr>\n",
              "      <th>0</th>\n",
              "      <td>apple</td>\n",
              "      <td>11</td>\n",
              "      <td>1</td>\n",
              "    </tr>\n",
              "    <tr>\n",
              "      <th>2</th>\n",
              "      <td>apple</td>\n",
              "      <td>15</td>\n",
              "      <td>25</td>\n",
              "    </tr>\n",
              "    <tr>\n",
              "      <th>3</th>\n",
              "      <td>banana</td>\n",
              "      <td>10</td>\n",
              "      <td>100</td>\n",
              "    </tr>\n",
              "    <tr>\n",
              "      <th>1</th>\n",
              "      <td>orange</td>\n",
              "      <td>2</td>\n",
              "      <td>4</td>\n",
              "    </tr>\n",
              "  </tbody>\n",
              "</table>\n",
              "</div>"
            ],
            "text/plain": [
              "     name  price  price_sqr\n",
              "0   apple     11          1\n",
              "2   apple     15         25\n",
              "3  banana     10        100\n",
              "1  orange      2          4"
            ]
          },
          "metadata": {
            "tags": []
          },
          "execution_count": 120
        }
      ]
    },
    {
      "metadata": {
        "id": "V2J9wmBJqO2d",
        "colab_type": "code",
        "colab": {
          "base_uri": "https://localhost:8080/",
          "height": 204
        },
        "outputId": "5eca51ec-8e3e-4d1c-e770-f2788cd7ee3d"
      },
      "cell_type": "code",
      "source": [
        "# new df with index and columns\n",
        "index = pd.date_range(dt.date(2018,1,1),periods=5,freq='D')\n",
        "columns = ['weigt','price']\n",
        "df = pd.DataFrame(index=index,columns=columns)\n",
        "df"
      ],
      "execution_count": 8,
      "outputs": [
        {
          "output_type": "execute_result",
          "data": {
            "text/html": [
              "<div>\n",
              "<style scoped>\n",
              "    .dataframe tbody tr th:only-of-type {\n",
              "        vertical-align: middle;\n",
              "    }\n",
              "\n",
              "    .dataframe tbody tr th {\n",
              "        vertical-align: top;\n",
              "    }\n",
              "\n",
              "    .dataframe thead th {\n",
              "        text-align: right;\n",
              "    }\n",
              "</style>\n",
              "<table border=\"1\" class=\"dataframe\">\n",
              "  <thead>\n",
              "    <tr style=\"text-align: right;\">\n",
              "      <th></th>\n",
              "      <th>weigt</th>\n",
              "      <th>price</th>\n",
              "    </tr>\n",
              "  </thead>\n",
              "  <tbody>\n",
              "    <tr>\n",
              "      <th>2018-01-01</th>\n",
              "      <td>NaN</td>\n",
              "      <td>NaN</td>\n",
              "    </tr>\n",
              "    <tr>\n",
              "      <th>2018-01-02</th>\n",
              "      <td>NaN</td>\n",
              "      <td>NaN</td>\n",
              "    </tr>\n",
              "    <tr>\n",
              "      <th>2018-01-03</th>\n",
              "      <td>NaN</td>\n",
              "      <td>NaN</td>\n",
              "    </tr>\n",
              "    <tr>\n",
              "      <th>2018-01-04</th>\n",
              "      <td>NaN</td>\n",
              "      <td>NaN</td>\n",
              "    </tr>\n",
              "    <tr>\n",
              "      <th>2018-01-05</th>\n",
              "      <td>NaN</td>\n",
              "      <td>NaN</td>\n",
              "    </tr>\n",
              "  </tbody>\n",
              "</table>\n",
              "</div>"
            ],
            "text/plain": [
              "           weigt price\n",
              "2018-01-01   NaN   NaN\n",
              "2018-01-02   NaN   NaN\n",
              "2018-01-03   NaN   NaN\n",
              "2018-01-04   NaN   NaN\n",
              "2018-01-05   NaN   NaN"
            ]
          },
          "metadata": {
            "tags": []
          },
          "execution_count": 8
        }
      ]
    },
    {
      "metadata": {
        "id": "TR6UtxU6ArH1",
        "colab_type": "text"
      },
      "cell_type": "markdown",
      "source": [
        "### Multiple dataframes"
      ]
    },
    {
      "metadata": {
        "id": "uIp6TSsMAvKk",
        "colab_type": "code",
        "outputId": "bb3c4a20-68e4-4507-bf14-50765d686638",
        "colab": {
          "base_uri": "https://localhost:8080/",
          "height": 197
        }
      },
      "cell_type": "code",
      "source": [
        "# concatenate multiple df's into one\n",
        "df1 = pd.DataFrame({'a':[1,2,3],'b':[3,4,5]})\n",
        "df2 = pd.DataFrame({'a':[10,20,30],'b':[30,40,50]})\n",
        "\n",
        "df_all =[]\n",
        "\n",
        "df_all.append(df1)\n",
        "df_all.append(df2)\n",
        "\n",
        "df_all = pd.concat(df_all)\n",
        "df_all.head()"
      ],
      "execution_count": 0,
      "outputs": [
        {
          "output_type": "execute_result",
          "data": {
            "text/html": [
              "<div>\n",
              "<style scoped>\n",
              "    .dataframe tbody tr th:only-of-type {\n",
              "        vertical-align: middle;\n",
              "    }\n",
              "\n",
              "    .dataframe tbody tr th {\n",
              "        vertical-align: top;\n",
              "    }\n",
              "\n",
              "    .dataframe thead th {\n",
              "        text-align: right;\n",
              "    }\n",
              "</style>\n",
              "<table border=\"1\" class=\"dataframe\">\n",
              "  <thead>\n",
              "    <tr style=\"text-align: right;\">\n",
              "      <th></th>\n",
              "      <th>a</th>\n",
              "      <th>b</th>\n",
              "    </tr>\n",
              "  </thead>\n",
              "  <tbody>\n",
              "    <tr>\n",
              "      <th>0</th>\n",
              "      <td>1</td>\n",
              "      <td>3</td>\n",
              "    </tr>\n",
              "    <tr>\n",
              "      <th>1</th>\n",
              "      <td>2</td>\n",
              "      <td>4</td>\n",
              "    </tr>\n",
              "    <tr>\n",
              "      <th>2</th>\n",
              "      <td>3</td>\n",
              "      <td>5</td>\n",
              "    </tr>\n",
              "    <tr>\n",
              "      <th>0</th>\n",
              "      <td>10</td>\n",
              "      <td>30</td>\n",
              "    </tr>\n",
              "    <tr>\n",
              "      <th>1</th>\n",
              "      <td>20</td>\n",
              "      <td>40</td>\n",
              "    </tr>\n",
              "  </tbody>\n",
              "</table>\n",
              "</div>"
            ],
            "text/plain": [
              "    a   b\n",
              "0   1   3\n",
              "1   2   4\n",
              "2   3   5\n",
              "0  10  30\n",
              "1  20  40"
            ]
          },
          "metadata": {
            "tags": []
          },
          "execution_count": 121
        }
      ]
    },
    {
      "metadata": {
        "id": "iQte7Qf2BQUr",
        "colab_type": "code",
        "outputId": "5b15bf5b-1294-4ebd-8ca7-d5cdf08d859c",
        "colab": {
          "base_uri": "https://localhost:8080/",
          "height": 197
        }
      },
      "cell_type": "code",
      "source": [
        "# reset the index, do not insert the index as a column into the df\n",
        "df_all.reset_index(inplace=True,drop=True)\n",
        "df_all.head()"
      ],
      "execution_count": 0,
      "outputs": [
        {
          "output_type": "execute_result",
          "data": {
            "text/html": [
              "<div>\n",
              "<style scoped>\n",
              "    .dataframe tbody tr th:only-of-type {\n",
              "        vertical-align: middle;\n",
              "    }\n",
              "\n",
              "    .dataframe tbody tr th {\n",
              "        vertical-align: top;\n",
              "    }\n",
              "\n",
              "    .dataframe thead th {\n",
              "        text-align: right;\n",
              "    }\n",
              "</style>\n",
              "<table border=\"1\" class=\"dataframe\">\n",
              "  <thead>\n",
              "    <tr style=\"text-align: right;\">\n",
              "      <th></th>\n",
              "      <th>a</th>\n",
              "      <th>b</th>\n",
              "    </tr>\n",
              "  </thead>\n",
              "  <tbody>\n",
              "    <tr>\n",
              "      <th>0</th>\n",
              "      <td>1</td>\n",
              "      <td>3</td>\n",
              "    </tr>\n",
              "    <tr>\n",
              "      <th>1</th>\n",
              "      <td>2</td>\n",
              "      <td>4</td>\n",
              "    </tr>\n",
              "    <tr>\n",
              "      <th>2</th>\n",
              "      <td>3</td>\n",
              "      <td>5</td>\n",
              "    </tr>\n",
              "    <tr>\n",
              "      <th>3</th>\n",
              "      <td>10</td>\n",
              "      <td>30</td>\n",
              "    </tr>\n",
              "    <tr>\n",
              "      <th>4</th>\n",
              "      <td>20</td>\n",
              "      <td>40</td>\n",
              "    </tr>\n",
              "  </tbody>\n",
              "</table>\n",
              "</div>"
            ],
            "text/plain": [
              "    a   b\n",
              "0   1   3\n",
              "1   2   4\n",
              "2   3   5\n",
              "3  10  30\n",
              "4  20  40"
            ]
          },
          "metadata": {
            "tags": []
          },
          "execution_count": 122
        }
      ]
    },
    {
      "metadata": {
        "id": "Zg4ZWMPljFCb",
        "colab_type": "code",
        "colab": {
          "base_uri": "https://localhost:8080/",
          "height": 266
        },
        "outputId": "71c176c9-e141-4797-92ab-1b79309309c5"
      },
      "cell_type": "code",
      "source": [
        "# pd concat does outer join\n",
        "index1 = pd.date_range(dt.datetime(2018,1,1,0,0),periods=5,freq='D',tz='Europe/Amsterdam')\n",
        "index2 = pd.date_range(dt.datetime(2018,1,3,0,0),periods=5,freq='D',tz='Europe/Amsterdam')\n",
        "\n",
        "df1 = pd.DataFrame({'weight1':[1,5,8,3,8]},index = index1)\n",
        "df2 = pd.DataFrame({'weight2':[10,50,80,30,80]},index = index2)\n",
        "df_all = pd.concat([df1,df2],axis=1)\n",
        "df_all"
      ],
      "execution_count": 8,
      "outputs": [
        {
          "output_type": "execute_result",
          "data": {
            "text/html": [
              "<div>\n",
              "<style scoped>\n",
              "    .dataframe tbody tr th:only-of-type {\n",
              "        vertical-align: middle;\n",
              "    }\n",
              "\n",
              "    .dataframe tbody tr th {\n",
              "        vertical-align: top;\n",
              "    }\n",
              "\n",
              "    .dataframe thead th {\n",
              "        text-align: right;\n",
              "    }\n",
              "</style>\n",
              "<table border=\"1\" class=\"dataframe\">\n",
              "  <thead>\n",
              "    <tr style=\"text-align: right;\">\n",
              "      <th></th>\n",
              "      <th>weight1</th>\n",
              "      <th>weight2</th>\n",
              "    </tr>\n",
              "  </thead>\n",
              "  <tbody>\n",
              "    <tr>\n",
              "      <th>2018-01-01 00:00:00+01:00</th>\n",
              "      <td>1.0</td>\n",
              "      <td>NaN</td>\n",
              "    </tr>\n",
              "    <tr>\n",
              "      <th>2018-01-02 00:00:00+01:00</th>\n",
              "      <td>5.0</td>\n",
              "      <td>NaN</td>\n",
              "    </tr>\n",
              "    <tr>\n",
              "      <th>2018-01-03 00:00:00+01:00</th>\n",
              "      <td>8.0</td>\n",
              "      <td>10.0</td>\n",
              "    </tr>\n",
              "    <tr>\n",
              "      <th>2018-01-04 00:00:00+01:00</th>\n",
              "      <td>3.0</td>\n",
              "      <td>50.0</td>\n",
              "    </tr>\n",
              "    <tr>\n",
              "      <th>2018-01-05 00:00:00+01:00</th>\n",
              "      <td>8.0</td>\n",
              "      <td>80.0</td>\n",
              "    </tr>\n",
              "    <tr>\n",
              "      <th>2018-01-06 00:00:00+01:00</th>\n",
              "      <td>NaN</td>\n",
              "      <td>30.0</td>\n",
              "    </tr>\n",
              "    <tr>\n",
              "      <th>2018-01-07 00:00:00+01:00</th>\n",
              "      <td>NaN</td>\n",
              "      <td>80.0</td>\n",
              "    </tr>\n",
              "  </tbody>\n",
              "</table>\n",
              "</div>"
            ],
            "text/plain": [
              "                           weight1  weight2\n",
              "2018-01-01 00:00:00+01:00      1.0      NaN\n",
              "2018-01-02 00:00:00+01:00      5.0      NaN\n",
              "2018-01-03 00:00:00+01:00      8.0     10.0\n",
              "2018-01-04 00:00:00+01:00      3.0     50.0\n",
              "2018-01-05 00:00:00+01:00      8.0     80.0\n",
              "2018-01-06 00:00:00+01:00      NaN     30.0\n",
              "2018-01-07 00:00:00+01:00      NaN     80.0"
            ]
          },
          "metadata": {
            "tags": []
          },
          "execution_count": 8
        }
      ]
    },
    {
      "metadata": {
        "id": "xczERf97wPPZ",
        "colab_type": "text"
      },
      "cell_type": "markdown",
      "source": [
        "### Groupby"
      ]
    },
    {
      "metadata": {
        "id": "b5CLBODlwT8u",
        "colab_type": "code",
        "outputId": "7a083cb3-2ab6-4ed9-8471-2d26b102cc82",
        "colab": {
          "base_uri": "https://localhost:8080/",
          "height": 197
        }
      },
      "cell_type": "code",
      "source": [
        "# dataframe from numpy array\n",
        "name = ['apple','orange','apple','banana','banana']\n",
        "price = [1,2,5,10,20]\n",
        "weight = [6,7,10,15,25]\n",
        "df = pd.DataFrame({'name':name,'price':price,'weight':weight})\n",
        "df.head()"
      ],
      "execution_count": 0,
      "outputs": [
        {
          "output_type": "execute_result",
          "data": {
            "text/html": [
              "<div>\n",
              "<style scoped>\n",
              "    .dataframe tbody tr th:only-of-type {\n",
              "        vertical-align: middle;\n",
              "    }\n",
              "\n",
              "    .dataframe tbody tr th {\n",
              "        vertical-align: top;\n",
              "    }\n",
              "\n",
              "    .dataframe thead th {\n",
              "        text-align: right;\n",
              "    }\n",
              "</style>\n",
              "<table border=\"1\" class=\"dataframe\">\n",
              "  <thead>\n",
              "    <tr style=\"text-align: right;\">\n",
              "      <th></th>\n",
              "      <th>name</th>\n",
              "      <th>price</th>\n",
              "      <th>weight</th>\n",
              "    </tr>\n",
              "  </thead>\n",
              "  <tbody>\n",
              "    <tr>\n",
              "      <th>0</th>\n",
              "      <td>apple</td>\n",
              "      <td>1</td>\n",
              "      <td>6</td>\n",
              "    </tr>\n",
              "    <tr>\n",
              "      <th>1</th>\n",
              "      <td>orange</td>\n",
              "      <td>2</td>\n",
              "      <td>7</td>\n",
              "    </tr>\n",
              "    <tr>\n",
              "      <th>2</th>\n",
              "      <td>apple</td>\n",
              "      <td>5</td>\n",
              "      <td>10</td>\n",
              "    </tr>\n",
              "    <tr>\n",
              "      <th>3</th>\n",
              "      <td>banana</td>\n",
              "      <td>10</td>\n",
              "      <td>15</td>\n",
              "    </tr>\n",
              "    <tr>\n",
              "      <th>4</th>\n",
              "      <td>banana</td>\n",
              "      <td>20</td>\n",
              "      <td>25</td>\n",
              "    </tr>\n",
              "  </tbody>\n",
              "</table>\n",
              "</div>"
            ],
            "text/plain": [
              "     name  price  weight\n",
              "0   apple      1       6\n",
              "1  orange      2       7\n",
              "2   apple      5      10\n",
              "3  banana     10      15\n",
              "4  banana     20      25"
            ]
          },
          "metadata": {
            "tags": []
          },
          "execution_count": 123
        }
      ]
    },
    {
      "metadata": {
        "id": "h1oa3EfxxBAg",
        "colab_type": "code",
        "outputId": "ff4849f6-7836-4956-bdf4-6d6899faf801",
        "colab": {
          "base_uri": "https://localhost:8080/",
          "height": 123
        }
      },
      "cell_type": "code",
      "source": [
        "# group by fruit and calc the average price, \n",
        "df_grp = df.groupby(['name'])['price'].mean() # this will return a pandas series \n",
        "print(df_grp)\n",
        "print(type(df_grp))"
      ],
      "execution_count": 0,
      "outputs": [
        {
          "output_type": "stream",
          "text": [
            "name\n",
            "apple      3\n",
            "banana    15\n",
            "orange     2\n",
            "Name: price, dtype: int64\n",
            "<class 'pandas.core.series.Series'>\n"
          ],
          "name": "stdout"
        }
      ]
    },
    {
      "metadata": {
        "id": "d6o7Utrr0iZo",
        "colab_type": "code",
        "outputId": "158d954a-1f33-4f6e-e48d-e448b2c197fa",
        "colab": {
          "base_uri": "https://localhost:8080/",
          "height": 123
        }
      },
      "cell_type": "code",
      "source": [
        "# groupby fruit and calc the average price\n",
        "df_grp = df.groupby(['name'])[['price','weight']].mean() # will return a df with index equal to the group\n",
        "print(df_grp)\n",
        "print(type(df_grp))"
      ],
      "execution_count": 0,
      "outputs": [
        {
          "output_type": "stream",
          "text": [
            "        price  weight\n",
            "name                 \n",
            "apple       3       8\n",
            "banana     15      20\n",
            "orange      2       7\n",
            "<class 'pandas.core.frame.DataFrame'>\n"
          ],
          "name": "stdout"
        }
      ]
    },
    {
      "metadata": {
        "id": "bPX1MJJR1zM1",
        "colab_type": "code",
        "outputId": "6c63ea59-84e2-4c3d-9805-d769725d57cd",
        "colab": {
          "base_uri": "https://localhost:8080/",
          "height": 105
        }
      },
      "cell_type": "code",
      "source": [
        "# groupby fruit but make a new index\n",
        "df_grp = df.groupby(['name'],as_index=False)[['price','weight']].mean() # will return a df with index equal to the group\n",
        "print(df_grp)\n",
        "print(type(df_grp))"
      ],
      "execution_count": 0,
      "outputs": [
        {
          "output_type": "stream",
          "text": [
            "     name  price  weight\n",
            "0   apple      3       8\n",
            "1  banana     15      20\n",
            "2  orange      2       7\n",
            "<class 'pandas.core.frame.DataFrame'>\n"
          ],
          "name": "stdout"
        }
      ]
    },
    {
      "metadata": {
        "id": "iVPtREpovZr5",
        "colab_type": "code",
        "outputId": "b7e4a786-88d6-4829-ed90-a9a9fe6d1f1e",
        "colab": {
          "base_uri": "https://localhost:8080/",
          "height": 197
        }
      },
      "cell_type": "code",
      "source": [
        "# groupby fruit\n",
        "# for count also consider 'size'. size will return n for NaN values also, whereas 'count' will not.\n",
        "# https://gist.github.com/conormm/fd8b1980c28dd21cfaf6975c86c74d07\n",
        "df.groupby(['name'])['price','weight'].agg(['mean', 'sum', 'count']) "
      ],
      "execution_count": 0,
      "outputs": [
        {
          "output_type": "execute_result",
          "data": {
            "text/html": [
              "<div>\n",
              "<style scoped>\n",
              "    .dataframe tbody tr th:only-of-type {\n",
              "        vertical-align: middle;\n",
              "    }\n",
              "\n",
              "    .dataframe tbody tr th {\n",
              "        vertical-align: top;\n",
              "    }\n",
              "\n",
              "    .dataframe thead tr th {\n",
              "        text-align: left;\n",
              "    }\n",
              "\n",
              "    .dataframe thead tr:last-of-type th {\n",
              "        text-align: right;\n",
              "    }\n",
              "</style>\n",
              "<table border=\"1\" class=\"dataframe\">\n",
              "  <thead>\n",
              "    <tr>\n",
              "      <th></th>\n",
              "      <th colspan=\"3\" halign=\"left\">price</th>\n",
              "      <th colspan=\"3\" halign=\"left\">weight</th>\n",
              "    </tr>\n",
              "    <tr>\n",
              "      <th></th>\n",
              "      <th>mean</th>\n",
              "      <th>sum</th>\n",
              "      <th>count</th>\n",
              "      <th>mean</th>\n",
              "      <th>sum</th>\n",
              "      <th>count</th>\n",
              "    </tr>\n",
              "    <tr>\n",
              "      <th>name</th>\n",
              "      <th></th>\n",
              "      <th></th>\n",
              "      <th></th>\n",
              "      <th></th>\n",
              "      <th></th>\n",
              "      <th></th>\n",
              "    </tr>\n",
              "  </thead>\n",
              "  <tbody>\n",
              "    <tr>\n",
              "      <th>apple</th>\n",
              "      <td>3</td>\n",
              "      <td>6</td>\n",
              "      <td>2</td>\n",
              "      <td>8</td>\n",
              "      <td>16</td>\n",
              "      <td>2</td>\n",
              "    </tr>\n",
              "    <tr>\n",
              "      <th>banana</th>\n",
              "      <td>15</td>\n",
              "      <td>30</td>\n",
              "      <td>2</td>\n",
              "      <td>20</td>\n",
              "      <td>40</td>\n",
              "      <td>2</td>\n",
              "    </tr>\n",
              "    <tr>\n",
              "      <th>orange</th>\n",
              "      <td>2</td>\n",
              "      <td>2</td>\n",
              "      <td>1</td>\n",
              "      <td>7</td>\n",
              "      <td>7</td>\n",
              "      <td>1</td>\n",
              "    </tr>\n",
              "  </tbody>\n",
              "</table>\n",
              "</div>"
            ],
            "text/plain": [
              "       price           weight          \n",
              "        mean sum count   mean sum count\n",
              "name                                   \n",
              "apple      3   6     2      8  16     2\n",
              "banana    15  30     2     20  40     2\n",
              "orange     2   2     1      7   7     1"
            ]
          },
          "metadata": {
            "tags": []
          },
          "execution_count": 127
        }
      ]
    },
    {
      "metadata": {
        "id": "7dypi0yQyPyt",
        "colab_type": "code",
        "colab": {}
      },
      "cell_type": "code",
      "source": [
        "# now let's make a used defined function to groupby\n",
        "# Volume Weighted Average Price\n",
        "def vwap(x):\n",
        "    return (x['weight'] * x['price']).sum() / x['weight'].sum()"
      ],
      "execution_count": 0,
      "outputs": []
    },
    {
      "metadata": {
        "id": "urGGWmaS217Z",
        "colab_type": "code",
        "outputId": "b9f766c7-7756-4973-ac17-a05a40f7a1d3",
        "colab": {
          "base_uri": "https://localhost:8080/",
          "height": 167
        }
      },
      "cell_type": "code",
      "source": [
        "# calc the volume weighted price\n",
        "df_group = pd.DataFrame(df.groupby(['name']).apply(lambda x: vwap(x)))\n",
        "df_group.head()"
      ],
      "execution_count": 0,
      "outputs": [
        {
          "output_type": "execute_result",
          "data": {
            "text/html": [
              "<div>\n",
              "<style scoped>\n",
              "    .dataframe tbody tr th:only-of-type {\n",
              "        vertical-align: middle;\n",
              "    }\n",
              "\n",
              "    .dataframe tbody tr th {\n",
              "        vertical-align: top;\n",
              "    }\n",
              "\n",
              "    .dataframe thead th {\n",
              "        text-align: right;\n",
              "    }\n",
              "</style>\n",
              "<table border=\"1\" class=\"dataframe\">\n",
              "  <thead>\n",
              "    <tr style=\"text-align: right;\">\n",
              "      <th></th>\n",
              "      <th>0</th>\n",
              "    </tr>\n",
              "    <tr>\n",
              "      <th>name</th>\n",
              "      <th></th>\n",
              "    </tr>\n",
              "  </thead>\n",
              "  <tbody>\n",
              "    <tr>\n",
              "      <th>apple</th>\n",
              "      <td>3</td>\n",
              "    </tr>\n",
              "    <tr>\n",
              "      <th>banana</th>\n",
              "      <td>16</td>\n",
              "    </tr>\n",
              "    <tr>\n",
              "      <th>orange</th>\n",
              "      <td>2</td>\n",
              "    </tr>\n",
              "  </tbody>\n",
              "</table>\n",
              "</div>"
            ],
            "text/plain": [
              "         0\n",
              "name      \n",
              "apple    3\n",
              "banana  16\n",
              "orange   2"
            ]
          },
          "metadata": {
            "tags": []
          },
          "execution_count": 129
        }
      ]
    },
    {
      "metadata": {
        "id": "YHZ_MewX3iVe",
        "colab_type": "code",
        "outputId": "5ca8456a-54e7-4a3d-be78-effce777e07f",
        "colab": {
          "base_uri": "https://localhost:8080/",
          "height": 167
        }
      },
      "cell_type": "code",
      "source": [
        "# the column is messed up so correct this\n",
        "df_group.rename(columns={ df_group.columns[0]: \"vwap\" }, inplace = True)\n",
        "df_group.head()"
      ],
      "execution_count": 0,
      "outputs": [
        {
          "output_type": "execute_result",
          "data": {
            "text/html": [
              "<div>\n",
              "<style scoped>\n",
              "    .dataframe tbody tr th:only-of-type {\n",
              "        vertical-align: middle;\n",
              "    }\n",
              "\n",
              "    .dataframe tbody tr th {\n",
              "        vertical-align: top;\n",
              "    }\n",
              "\n",
              "    .dataframe thead th {\n",
              "        text-align: right;\n",
              "    }\n",
              "</style>\n",
              "<table border=\"1\" class=\"dataframe\">\n",
              "  <thead>\n",
              "    <tr style=\"text-align: right;\">\n",
              "      <th></th>\n",
              "      <th>vwap</th>\n",
              "    </tr>\n",
              "    <tr>\n",
              "      <th>name</th>\n",
              "      <th></th>\n",
              "    </tr>\n",
              "  </thead>\n",
              "  <tbody>\n",
              "    <tr>\n",
              "      <th>apple</th>\n",
              "      <td>3</td>\n",
              "    </tr>\n",
              "    <tr>\n",
              "      <th>banana</th>\n",
              "      <td>16</td>\n",
              "    </tr>\n",
              "    <tr>\n",
              "      <th>orange</th>\n",
              "      <td>2</td>\n",
              "    </tr>\n",
              "  </tbody>\n",
              "</table>\n",
              "</div>"
            ],
            "text/plain": [
              "        vwap\n",
              "name        \n",
              "apple      3\n",
              "banana    16\n",
              "orange     2"
            ]
          },
          "metadata": {
            "tags": []
          },
          "execution_count": 130
        }
      ]
    },
    {
      "metadata": {
        "id": "E8vAjxfvytEP",
        "colab_type": "code",
        "outputId": "d3056bd5-868d-41c6-b151-a1d98ef54c2f",
        "colab": {
          "base_uri": "https://localhost:8080/",
          "height": 167
        }
      },
      "cell_type": "code",
      "source": [
        "# you can also use the describe function on the group\n",
        "# reference https://www.shanelynn.ie/summarising-aggregation-and-grouping-data-in-python-pandas/\n",
        "df.groupby(['name'])['price'].describe()"
      ],
      "execution_count": 0,
      "outputs": [
        {
          "output_type": "execute_result",
          "data": {
            "text/html": [
              "<div>\n",
              "<style scoped>\n",
              "    .dataframe tbody tr th:only-of-type {\n",
              "        vertical-align: middle;\n",
              "    }\n",
              "\n",
              "    .dataframe tbody tr th {\n",
              "        vertical-align: top;\n",
              "    }\n",
              "\n",
              "    .dataframe thead th {\n",
              "        text-align: right;\n",
              "    }\n",
              "</style>\n",
              "<table border=\"1\" class=\"dataframe\">\n",
              "  <thead>\n",
              "    <tr style=\"text-align: right;\">\n",
              "      <th></th>\n",
              "      <th>count</th>\n",
              "      <th>mean</th>\n",
              "      <th>std</th>\n",
              "      <th>min</th>\n",
              "      <th>25%</th>\n",
              "      <th>50%</th>\n",
              "      <th>75%</th>\n",
              "      <th>max</th>\n",
              "    </tr>\n",
              "    <tr>\n",
              "      <th>name</th>\n",
              "      <th></th>\n",
              "      <th></th>\n",
              "      <th></th>\n",
              "      <th></th>\n",
              "      <th></th>\n",
              "      <th></th>\n",
              "      <th></th>\n",
              "      <th></th>\n",
              "    </tr>\n",
              "  </thead>\n",
              "  <tbody>\n",
              "    <tr>\n",
              "      <th>apple</th>\n",
              "      <td>2.0</td>\n",
              "      <td>3.0</td>\n",
              "      <td>2.828427</td>\n",
              "      <td>1.0</td>\n",
              "      <td>2.0</td>\n",
              "      <td>3.0</td>\n",
              "      <td>4.0</td>\n",
              "      <td>5.0</td>\n",
              "    </tr>\n",
              "    <tr>\n",
              "      <th>banana</th>\n",
              "      <td>2.0</td>\n",
              "      <td>15.0</td>\n",
              "      <td>7.071068</td>\n",
              "      <td>10.0</td>\n",
              "      <td>12.5</td>\n",
              "      <td>15.0</td>\n",
              "      <td>17.5</td>\n",
              "      <td>20.0</td>\n",
              "    </tr>\n",
              "    <tr>\n",
              "      <th>orange</th>\n",
              "      <td>1.0</td>\n",
              "      <td>2.0</td>\n",
              "      <td>NaN</td>\n",
              "      <td>2.0</td>\n",
              "      <td>2.0</td>\n",
              "      <td>2.0</td>\n",
              "      <td>2.0</td>\n",
              "      <td>2.0</td>\n",
              "    </tr>\n",
              "  </tbody>\n",
              "</table>\n",
              "</div>"
            ],
            "text/plain": [
              "        count  mean       std   min   25%   50%   75%   max\n",
              "name                                                       \n",
              "apple     2.0   3.0  2.828427   1.0   2.0   3.0   4.0   5.0\n",
              "banana    2.0  15.0  7.071068  10.0  12.5  15.0  17.5  20.0\n",
              "orange    1.0   2.0       NaN   2.0   2.0   2.0   2.0   2.0"
            ]
          },
          "metadata": {
            "tags": []
          },
          "execution_count": 131
        }
      ]
    },
    {
      "metadata": {
        "id": "slKTTN4t6Xof",
        "colab_type": "code",
        "outputId": "cada92e1-6273-441d-933e-4c8ff6a75ddb",
        "colab": {
          "base_uri": "https://localhost:8080/",
          "height": 119
        }
      },
      "cell_type": "code",
      "source": [
        "# groupby using a function\n",
        "def group_by_in_function(mygroup):\n",
        "  name = ['apple','orange','apple','banana','banana']\n",
        "  country = ['NL','NL','DE','DE','DE']\n",
        "  weight = [6,7,10,15,25]\n",
        "  df = pd.DataFrame({'name':name,'country':country,'weight':weight})\n",
        "  df_grp = df.groupby([mygroup,'country'])['weight'].mean()\n",
        "\n",
        "  return df_grp\n",
        "\n",
        "group_by_in_function('name')"
      ],
      "execution_count": 0,
      "outputs": [
        {
          "output_type": "execute_result",
          "data": {
            "text/plain": [
              "name    country\n",
              "apple   DE         10\n",
              "        NL          6\n",
              "banana  DE         20\n",
              "orange  NL          7\n",
              "Name: weight, dtype: int64"
            ]
          },
          "metadata": {
            "tags": []
          },
          "execution_count": 18
        }
      ]
    },
    {
      "metadata": {
        "id": "Nhzju-OHNpbc",
        "colab_type": "text"
      },
      "cell_type": "markdown",
      "source": [
        "### Indices"
      ]
    },
    {
      "metadata": {
        "id": "WPy22REnNvgL",
        "colab_type": "code",
        "outputId": "74a51676-f8ae-4a73-a5b1-6400d4418d3d",
        "colab": {
          "base_uri": "https://localhost:8080/",
          "height": 105
        }
      },
      "cell_type": "code",
      "source": [
        "# check whether elements of pandas series are in list\n",
        "df = pd.DataFrame({'name':['Apple','Banana','Citrus','Apple']})\n",
        "idx = df['name'].isin(['Apple','Banana'])\n",
        "print(idx)"
      ],
      "execution_count": 0,
      "outputs": [
        {
          "output_type": "stream",
          "text": [
            "0     True\n",
            "1     True\n",
            "2    False\n",
            "3     True\n",
            "Name: name, dtype: bool\n"
          ],
          "name": "stdout"
        }
      ]
    },
    {
      "metadata": {
        "id": "ysGE0Sa4TeEj",
        "colab_type": "text"
      },
      "cell_type": "markdown",
      "source": [
        "### Duplicates"
      ]
    },
    {
      "metadata": {
        "id": "3x8PY8pZTggu",
        "colab_type": "code",
        "outputId": "3d25ffe6-20c5-4c60-c590-8c225f2b932d",
        "colab": {
          "base_uri": "https://localhost:8080/",
          "height": 137
        }
      },
      "cell_type": "code",
      "source": [
        "# drop duplicates in a df\n",
        "df = pd.DataFrame({'name':['Apple','Banana','Citrus','Apple']})\n",
        "df.drop_duplicates(subset=['name'],inplace=True)\n",
        "df.head()"
      ],
      "execution_count": 0,
      "outputs": [
        {
          "output_type": "execute_result",
          "data": {
            "text/html": [
              "<div>\n",
              "<style scoped>\n",
              "    .dataframe tbody tr th:only-of-type {\n",
              "        vertical-align: middle;\n",
              "    }\n",
              "\n",
              "    .dataframe tbody tr th {\n",
              "        vertical-align: top;\n",
              "    }\n",
              "\n",
              "    .dataframe thead th {\n",
              "        text-align: right;\n",
              "    }\n",
              "</style>\n",
              "<table border=\"1\" class=\"dataframe\">\n",
              "  <thead>\n",
              "    <tr style=\"text-align: right;\">\n",
              "      <th></th>\n",
              "      <th>name</th>\n",
              "    </tr>\n",
              "  </thead>\n",
              "  <tbody>\n",
              "    <tr>\n",
              "      <th>0</th>\n",
              "      <td>Apple</td>\n",
              "    </tr>\n",
              "    <tr>\n",
              "      <th>1</th>\n",
              "      <td>Banana</td>\n",
              "    </tr>\n",
              "    <tr>\n",
              "      <th>2</th>\n",
              "      <td>Citrus</td>\n",
              "    </tr>\n",
              "  </tbody>\n",
              "</table>\n",
              "</div>"
            ],
            "text/plain": [
              "     name\n",
              "0   Apple\n",
              "1  Banana\n",
              "2  Citrus"
            ]
          },
          "metadata": {
            "tags": []
          },
          "execution_count": 133
        }
      ]
    },
    {
      "metadata": {
        "id": "u64djkb3fGWk",
        "colab_type": "text"
      },
      "cell_type": "markdown",
      "source": [
        "### Long to wide"
      ]
    },
    {
      "metadata": {
        "id": "5jMBjl7GfLF5",
        "colab_type": "code",
        "outputId": "050d6fe8-aab2-4cd2-a0c6-dc37baf21645",
        "colab": {
          "base_uri": "https://localhost:8080/",
          "height": 167
        }
      },
      "cell_type": "code",
      "source": [
        "df = pd.DataFrame({'Country':['France','France','Germany','Germany'],'Id':['volume','price','volume','price'],'Value':[3000,42,2500,35]})\n",
        "df.head()"
      ],
      "execution_count": 0,
      "outputs": [
        {
          "output_type": "execute_result",
          "data": {
            "text/html": [
              "<div>\n",
              "<style scoped>\n",
              "    .dataframe tbody tr th:only-of-type {\n",
              "        vertical-align: middle;\n",
              "    }\n",
              "\n",
              "    .dataframe tbody tr th {\n",
              "        vertical-align: top;\n",
              "    }\n",
              "\n",
              "    .dataframe thead th {\n",
              "        text-align: right;\n",
              "    }\n",
              "</style>\n",
              "<table border=\"1\" class=\"dataframe\">\n",
              "  <thead>\n",
              "    <tr style=\"text-align: right;\">\n",
              "      <th></th>\n",
              "      <th>Country</th>\n",
              "      <th>Id</th>\n",
              "      <th>Value</th>\n",
              "    </tr>\n",
              "  </thead>\n",
              "  <tbody>\n",
              "    <tr>\n",
              "      <th>0</th>\n",
              "      <td>France</td>\n",
              "      <td>volume</td>\n",
              "      <td>3000</td>\n",
              "    </tr>\n",
              "    <tr>\n",
              "      <th>1</th>\n",
              "      <td>France</td>\n",
              "      <td>price</td>\n",
              "      <td>42</td>\n",
              "    </tr>\n",
              "    <tr>\n",
              "      <th>2</th>\n",
              "      <td>Germany</td>\n",
              "      <td>volume</td>\n",
              "      <td>2500</td>\n",
              "    </tr>\n",
              "    <tr>\n",
              "      <th>3</th>\n",
              "      <td>Germany</td>\n",
              "      <td>price</td>\n",
              "      <td>35</td>\n",
              "    </tr>\n",
              "  </tbody>\n",
              "</table>\n",
              "</div>"
            ],
            "text/plain": [
              "   Country      Id  Value\n",
              "0   France  volume   3000\n",
              "1   France   price     42\n",
              "2  Germany  volume   2500\n",
              "3  Germany   price     35"
            ]
          },
          "metadata": {
            "tags": []
          },
          "execution_count": 134
        }
      ]
    },
    {
      "metadata": {
        "id": "DEvnaRCVhOXJ",
        "colab_type": "code",
        "outputId": "c8f2dc12-aaf9-4b0d-c694-b49972e6ef2b",
        "colab": {
          "base_uri": "https://localhost:8080/",
          "height": 137
        }
      },
      "cell_type": "code",
      "source": [
        "# convert to wide format\n",
        "df_wide = df.pivot(index='Country',columns='Id',values = 'Value')\n",
        "df_wide.head()"
      ],
      "execution_count": 0,
      "outputs": [
        {
          "output_type": "execute_result",
          "data": {
            "text/html": [
              "<div>\n",
              "<style scoped>\n",
              "    .dataframe tbody tr th:only-of-type {\n",
              "        vertical-align: middle;\n",
              "    }\n",
              "\n",
              "    .dataframe tbody tr th {\n",
              "        vertical-align: top;\n",
              "    }\n",
              "\n",
              "    .dataframe thead th {\n",
              "        text-align: right;\n",
              "    }\n",
              "</style>\n",
              "<table border=\"1\" class=\"dataframe\">\n",
              "  <thead>\n",
              "    <tr style=\"text-align: right;\">\n",
              "      <th>Id</th>\n",
              "      <th>price</th>\n",
              "      <th>volume</th>\n",
              "    </tr>\n",
              "    <tr>\n",
              "      <th>Country</th>\n",
              "      <th></th>\n",
              "      <th></th>\n",
              "    </tr>\n",
              "  </thead>\n",
              "  <tbody>\n",
              "    <tr>\n",
              "      <th>France</th>\n",
              "      <td>42</td>\n",
              "      <td>3000</td>\n",
              "    </tr>\n",
              "    <tr>\n",
              "      <th>Germany</th>\n",
              "      <td>35</td>\n",
              "      <td>2500</td>\n",
              "    </tr>\n",
              "  </tbody>\n",
              "</table>\n",
              "</div>"
            ],
            "text/plain": [
              "Id       price  volume\n",
              "Country               \n",
              "France      42    3000\n",
              "Germany     35    2500"
            ]
          },
          "metadata": {
            "tags": []
          },
          "execution_count": 135
        }
      ]
    },
    {
      "metadata": {
        "id": "Q9GT7qWrG9X3",
        "colab_type": "code",
        "outputId": "f17ff121-d185-43f8-e888-e7396257ef78",
        "colab": {
          "base_uri": "https://localhost:8080/",
          "height": 167
        }
      },
      "cell_type": "code",
      "source": [
        "# if you have multiple index you can use pivot_table\n",
        "df = pd.DataFrame({'Country':['France','France','Germany','Germany'],'forecast':['Mon','Mon','Mon','Mon'],'delivery':['Tue','Wed','Tue','Wed'],'Value':[3000,42,2500,35]})\n",
        "df.head()"
      ],
      "execution_count": 0,
      "outputs": [
        {
          "output_type": "execute_result",
          "data": {
            "text/html": [
              "<div>\n",
              "<style scoped>\n",
              "    .dataframe tbody tr th:only-of-type {\n",
              "        vertical-align: middle;\n",
              "    }\n",
              "\n",
              "    .dataframe tbody tr th {\n",
              "        vertical-align: top;\n",
              "    }\n",
              "\n",
              "    .dataframe thead th {\n",
              "        text-align: right;\n",
              "    }\n",
              "</style>\n",
              "<table border=\"1\" class=\"dataframe\">\n",
              "  <thead>\n",
              "    <tr style=\"text-align: right;\">\n",
              "      <th></th>\n",
              "      <th>Country</th>\n",
              "      <th>Value</th>\n",
              "      <th>delivery</th>\n",
              "      <th>forecast</th>\n",
              "    </tr>\n",
              "  </thead>\n",
              "  <tbody>\n",
              "    <tr>\n",
              "      <th>0</th>\n",
              "      <td>France</td>\n",
              "      <td>3000</td>\n",
              "      <td>Tue</td>\n",
              "      <td>Mon</td>\n",
              "    </tr>\n",
              "    <tr>\n",
              "      <th>1</th>\n",
              "      <td>France</td>\n",
              "      <td>42</td>\n",
              "      <td>Wed</td>\n",
              "      <td>Mon</td>\n",
              "    </tr>\n",
              "    <tr>\n",
              "      <th>2</th>\n",
              "      <td>Germany</td>\n",
              "      <td>2500</td>\n",
              "      <td>Tue</td>\n",
              "      <td>Mon</td>\n",
              "    </tr>\n",
              "    <tr>\n",
              "      <th>3</th>\n",
              "      <td>Germany</td>\n",
              "      <td>35</td>\n",
              "      <td>Wed</td>\n",
              "      <td>Mon</td>\n",
              "    </tr>\n",
              "  </tbody>\n",
              "</table>\n",
              "</div>"
            ],
            "text/plain": [
              "   Country  Value delivery forecast\n",
              "0   France   3000      Tue      Mon\n",
              "1   France     42      Wed      Mon\n",
              "2  Germany   2500      Tue      Mon\n",
              "3  Germany     35      Wed      Mon"
            ]
          },
          "metadata": {
            "tags": []
          },
          "execution_count": 136
        }
      ]
    },
    {
      "metadata": {
        "id": "G3blwF2kI1ef",
        "colab_type": "code",
        "outputId": "ca20d2ff-61c5-4fc6-99e6-12f49c89d171",
        "colab": {
          "base_uri": "https://localhost:8080/",
          "height": 137
        }
      },
      "cell_type": "code",
      "source": [
        "df_wide = pd.pivot_table(df, values = 'Value', index=['forecast','delivery'], columns = 'Country')\n",
        "df_wide.head()"
      ],
      "execution_count": 0,
      "outputs": [
        {
          "output_type": "execute_result",
          "data": {
            "text/html": [
              "<div>\n",
              "<style scoped>\n",
              "    .dataframe tbody tr th:only-of-type {\n",
              "        vertical-align: middle;\n",
              "    }\n",
              "\n",
              "    .dataframe tbody tr th {\n",
              "        vertical-align: top;\n",
              "    }\n",
              "\n",
              "    .dataframe thead th {\n",
              "        text-align: right;\n",
              "    }\n",
              "</style>\n",
              "<table border=\"1\" class=\"dataframe\">\n",
              "  <thead>\n",
              "    <tr style=\"text-align: right;\">\n",
              "      <th></th>\n",
              "      <th>Country</th>\n",
              "      <th>France</th>\n",
              "      <th>Germany</th>\n",
              "    </tr>\n",
              "    <tr>\n",
              "      <th>forecast</th>\n",
              "      <th>delivery</th>\n",
              "      <th></th>\n",
              "      <th></th>\n",
              "    </tr>\n",
              "  </thead>\n",
              "  <tbody>\n",
              "    <tr>\n",
              "      <th rowspan=\"2\" valign=\"top\">Mon</th>\n",
              "      <th>Tue</th>\n",
              "      <td>3000</td>\n",
              "      <td>2500</td>\n",
              "    </tr>\n",
              "    <tr>\n",
              "      <th>Wed</th>\n",
              "      <td>42</td>\n",
              "      <td>35</td>\n",
              "    </tr>\n",
              "  </tbody>\n",
              "</table>\n",
              "</div>"
            ],
            "text/plain": [
              "Country            France  Germany\n",
              "forecast delivery                 \n",
              "Mon      Tue         3000     2500\n",
              "         Wed           42       35"
            ]
          },
          "metadata": {
            "tags": []
          },
          "execution_count": 137
        }
      ]
    },
    {
      "metadata": {
        "id": "Rg0_UAd2JIQA",
        "colab_type": "code",
        "outputId": "94a29f09-09f6-451d-c831-4e8c2dc86731",
        "colab": {
          "base_uri": "https://localhost:8080/",
          "height": 107
        }
      },
      "cell_type": "code",
      "source": [
        "df_wide.reset_index(inplace=True)\n",
        "df_wide.head()"
      ],
      "execution_count": 0,
      "outputs": [
        {
          "output_type": "execute_result",
          "data": {
            "text/html": [
              "<div>\n",
              "<style scoped>\n",
              "    .dataframe tbody tr th:only-of-type {\n",
              "        vertical-align: middle;\n",
              "    }\n",
              "\n",
              "    .dataframe tbody tr th {\n",
              "        vertical-align: top;\n",
              "    }\n",
              "\n",
              "    .dataframe thead th {\n",
              "        text-align: right;\n",
              "    }\n",
              "</style>\n",
              "<table border=\"1\" class=\"dataframe\">\n",
              "  <thead>\n",
              "    <tr style=\"text-align: right;\">\n",
              "      <th>Country</th>\n",
              "      <th>forecast</th>\n",
              "      <th>delivery</th>\n",
              "      <th>France</th>\n",
              "      <th>Germany</th>\n",
              "    </tr>\n",
              "  </thead>\n",
              "  <tbody>\n",
              "    <tr>\n",
              "      <th>0</th>\n",
              "      <td>Mon</td>\n",
              "      <td>Tue</td>\n",
              "      <td>3000</td>\n",
              "      <td>2500</td>\n",
              "    </tr>\n",
              "    <tr>\n",
              "      <th>1</th>\n",
              "      <td>Mon</td>\n",
              "      <td>Wed</td>\n",
              "      <td>42</td>\n",
              "      <td>35</td>\n",
              "    </tr>\n",
              "  </tbody>\n",
              "</table>\n",
              "</div>"
            ],
            "text/plain": [
              "Country forecast delivery  France  Germany\n",
              "0            Mon      Tue    3000     2500\n",
              "1            Mon      Wed      42       35"
            ]
          },
          "metadata": {
            "tags": []
          },
          "execution_count": 138
        }
      ]
    },
    {
      "metadata": {
        "id": "D11eHuYHtJvz",
        "colab_type": "text"
      },
      "cell_type": "markdown",
      "source": [
        "### Slice from a dataframe"
      ]
    },
    {
      "metadata": {
        "id": "LO1CyoCqsLtb",
        "colab_type": "code",
        "outputId": "586640cc-f4c8-46b1-be94-5746f5f3d58e",
        "colab": {
          "base_uri": "https://localhost:8080/",
          "height": 142
        }
      },
      "cell_type": "code",
      "source": [
        "# make the df\n",
        "df = pd.DataFrame({'wind':[100,150,250],'solar':[50,55,60]})\n",
        "df"
      ],
      "execution_count": 0,
      "outputs": [
        {
          "output_type": "execute_result",
          "data": {
            "text/html": [
              "<div>\n",
              "<style scoped>\n",
              "    .dataframe tbody tr th:only-of-type {\n",
              "        vertical-align: middle;\n",
              "    }\n",
              "\n",
              "    .dataframe tbody tr th {\n",
              "        vertical-align: top;\n",
              "    }\n",
              "\n",
              "    .dataframe thead th {\n",
              "        text-align: right;\n",
              "    }\n",
              "</style>\n",
              "<table border=\"1\" class=\"dataframe\">\n",
              "  <thead>\n",
              "    <tr style=\"text-align: right;\">\n",
              "      <th></th>\n",
              "      <th>solar</th>\n",
              "      <th>wind</th>\n",
              "    </tr>\n",
              "  </thead>\n",
              "  <tbody>\n",
              "    <tr>\n",
              "      <th>0</th>\n",
              "      <td>50</td>\n",
              "      <td>100</td>\n",
              "    </tr>\n",
              "    <tr>\n",
              "      <th>1</th>\n",
              "      <td>55</td>\n",
              "      <td>150</td>\n",
              "    </tr>\n",
              "    <tr>\n",
              "      <th>2</th>\n",
              "      <td>60</td>\n",
              "      <td>250</td>\n",
              "    </tr>\n",
              "  </tbody>\n",
              "</table>\n",
              "</div>"
            ],
            "text/plain": [
              "   solar  wind\n",
              "0     50   100\n",
              "1     55   150\n",
              "2     60   250"
            ]
          },
          "metadata": {
            "tags": []
          },
          "execution_count": 5
        }
      ]
    },
    {
      "metadata": {
        "id": "Yrp-XKyRsSEb",
        "colab_type": "code",
        "outputId": "f96ccdd7-d55f-4b82-85b5-802db1f78935",
        "colab": {
          "base_uri": "https://localhost:8080/",
          "height": 111
        }
      },
      "cell_type": "code",
      "source": [
        "# simple slice\n",
        "idx = df['solar'] >=55\n",
        "df[idx]"
      ],
      "execution_count": 0,
      "outputs": [
        {
          "output_type": "execute_result",
          "data": {
            "text/html": [
              "<div>\n",
              "<style scoped>\n",
              "    .dataframe tbody tr th:only-of-type {\n",
              "        vertical-align: middle;\n",
              "    }\n",
              "\n",
              "    .dataframe tbody tr th {\n",
              "        vertical-align: top;\n",
              "    }\n",
              "\n",
              "    .dataframe thead th {\n",
              "        text-align: right;\n",
              "    }\n",
              "</style>\n",
              "<table border=\"1\" class=\"dataframe\">\n",
              "  <thead>\n",
              "    <tr style=\"text-align: right;\">\n",
              "      <th></th>\n",
              "      <th>solar</th>\n",
              "      <th>wind</th>\n",
              "    </tr>\n",
              "  </thead>\n",
              "  <tbody>\n",
              "    <tr>\n",
              "      <th>1</th>\n",
              "      <td>55</td>\n",
              "      <td>150</td>\n",
              "    </tr>\n",
              "    <tr>\n",
              "      <th>2</th>\n",
              "      <td>60</td>\n",
              "      <td>250</td>\n",
              "    </tr>\n",
              "  </tbody>\n",
              "</table>\n",
              "</div>"
            ],
            "text/plain": [
              "   solar  wind\n",
              "1     55   150\n",
              "2     60   250"
            ]
          },
          "metadata": {
            "tags": []
          },
          "execution_count": 8
        }
      ]
    },
    {
      "metadata": {
        "id": "EkHmdRh3seH8",
        "colab_type": "code",
        "outputId": "d07f5b4c-aacf-4153-ec1f-15d80fc46e33",
        "colab": {
          "base_uri": "https://localhost:8080/",
          "height": 80
        }
      },
      "cell_type": "code",
      "source": [
        "# double condition\n",
        "idx = (df['solar']>=55) & (df['wind']>=250) # look at the bracket\n",
        "df[idx]"
      ],
      "execution_count": 0,
      "outputs": [
        {
          "output_type": "execute_result",
          "data": {
            "text/html": [
              "<div>\n",
              "<style scoped>\n",
              "    .dataframe tbody tr th:only-of-type {\n",
              "        vertical-align: middle;\n",
              "    }\n",
              "\n",
              "    .dataframe tbody tr th {\n",
              "        vertical-align: top;\n",
              "    }\n",
              "\n",
              "    .dataframe thead th {\n",
              "        text-align: right;\n",
              "    }\n",
              "</style>\n",
              "<table border=\"1\" class=\"dataframe\">\n",
              "  <thead>\n",
              "    <tr style=\"text-align: right;\">\n",
              "      <th></th>\n",
              "      <th>solar</th>\n",
              "      <th>wind</th>\n",
              "    </tr>\n",
              "  </thead>\n",
              "  <tbody>\n",
              "    <tr>\n",
              "      <th>2</th>\n",
              "      <td>60</td>\n",
              "      <td>250</td>\n",
              "    </tr>\n",
              "  </tbody>\n",
              "</table>\n",
              "</div>"
            ],
            "text/plain": [
              "   solar  wind\n",
              "2     60   250"
            ]
          },
          "metadata": {
            "tags": []
          },
          "execution_count": 11
        }
      ]
    },
    {
      "metadata": {
        "id": "dQtHQH6Js0aO",
        "colab_type": "code",
        "outputId": "d8902e0c-fee8-4e98-846d-6c63ea52efe8",
        "colab": {
          "base_uri": "https://localhost:8080/",
          "height": 111
        }
      },
      "cell_type": "code",
      "source": [
        "idx = (df['solar'] >= 55) | (df['wind'] >= 150)\n",
        "df[idx]"
      ],
      "execution_count": 0,
      "outputs": [
        {
          "output_type": "execute_result",
          "data": {
            "text/html": [
              "<div>\n",
              "<style scoped>\n",
              "    .dataframe tbody tr th:only-of-type {\n",
              "        vertical-align: middle;\n",
              "    }\n",
              "\n",
              "    .dataframe tbody tr th {\n",
              "        vertical-align: top;\n",
              "    }\n",
              "\n",
              "    .dataframe thead th {\n",
              "        text-align: right;\n",
              "    }\n",
              "</style>\n",
              "<table border=\"1\" class=\"dataframe\">\n",
              "  <thead>\n",
              "    <tr style=\"text-align: right;\">\n",
              "      <th></th>\n",
              "      <th>solar</th>\n",
              "      <th>wind</th>\n",
              "    </tr>\n",
              "  </thead>\n",
              "  <tbody>\n",
              "    <tr>\n",
              "      <th>1</th>\n",
              "      <td>55</td>\n",
              "      <td>150</td>\n",
              "    </tr>\n",
              "    <tr>\n",
              "      <th>2</th>\n",
              "      <td>60</td>\n",
              "      <td>250</td>\n",
              "    </tr>\n",
              "  </tbody>\n",
              "</table>\n",
              "</div>"
            ],
            "text/plain": [
              "   solar  wind\n",
              "1     55   150\n",
              "2     60   250"
            ]
          },
          "metadata": {
            "tags": []
          },
          "execution_count": 14
        }
      ]
    },
    {
      "metadata": {
        "id": "e7lQE9R6tQhs",
        "colab_type": "code",
        "colab": {}
      },
      "cell_type": "code",
      "source": [
        "df = pd.DataFrame({'wind':[100,150,250],'solar':[50,55,60]})\n",
        "idx = df['wind'] == 150\n",
        "df_slice = df.loc[~idx] # creates an implicit copy will get warning"
      ],
      "execution_count": 0,
      "outputs": []
    },
    {
      "metadata": {
        "id": "CGySnBYat3nB",
        "colab_type": "code",
        "outputId": "015ba56d-9b00-4e43-8f0b-928415f68300",
        "colab": {
          "base_uri": "https://localhost:8080/",
          "height": 407
        }
      },
      "cell_type": "code",
      "source": [
        "# set a new value to original df\n",
        "\"\"\"\n",
        ".ix is deprecated. Please use\n",
        ".loc for label based indexing or\n",
        ".iloc for positional indexing\n",
        "\"\"\"\n",
        "# see https://github.com/abgoswam/2016/blob/master/062016/python/pandas_views_copy.py\n",
        "\n",
        "df.loc[2,'wind'] = 999\n",
        "print(df)\n",
        "print(\"\")\n",
        "print(df_slice)\n",
        "print(\"\")\n",
        "df_slice.loc[2,'wind'] = -1\n",
        "print(df_slice)"
      ],
      "execution_count": 0,
      "outputs": [
        {
          "output_type": "stream",
          "text": [
            "   solar  wind\n",
            "0     50   100\n",
            "1     55   150\n",
            "2     60   999\n",
            "\n",
            "   solar  wind\n",
            "0     50   100\n",
            "2     60   250\n",
            "\n",
            "   solar  wind\n",
            "0     50   100\n",
            "2     60    -1\n"
          ],
          "name": "stdout"
        },
        {
          "output_type": "stream",
          "text": [
            "/usr/local/lib/python2.7/dist-packages/pandas/core/indexing.py:194: SettingWithCopyWarning: \n",
            "A value is trying to be set on a copy of a slice from a DataFrame\n",
            "\n",
            "See the caveats in the documentation: http://pandas.pydata.org/pandas-docs/stable/indexing.html#indexing-view-versus-copy\n",
            "  self._setitem_with_indexer(indexer, value)\n",
            "/usr/local/lib/python2.7/dist-packages/ipykernel_launcher.py:13: SettingWithCopyWarning: \n",
            "A value is trying to be set on a copy of a slice from a DataFrame\n",
            "\n",
            "See the caveats in the documentation: http://pandas.pydata.org/pandas-docs/stable/indexing.html#indexing-view-versus-copy\n",
            "  del sys.path[0]\n"
          ],
          "name": "stderr"
        }
      ]
    },
    {
      "metadata": {
        "id": "1jphUCfmvmEL",
        "colab_type": "code",
        "outputId": "0b0a425f-3c30-4a80-94d8-604cb86fd5a4",
        "colab": {
          "base_uri": "https://localhost:8080/",
          "height": 230
        }
      },
      "cell_type": "code",
      "source": [
        "df = pd.DataFrame({'wind':[100,150,250],'solar':[50,55,60]})\n",
        "idx = df['wind'] == 150\n",
        "df_slice = df.loc[~idx].copy() # creates an explicit copy no warning\n",
        "print(df)\n",
        "print(\"\")\n",
        "print(df_slice)\n",
        "print(\"\")\n",
        "df_slice.loc[2,'wind'] = -1\n",
        "print(df_slice)"
      ],
      "execution_count": 0,
      "outputs": [
        {
          "output_type": "stream",
          "text": [
            "   solar  wind\n",
            "0     50   100\n",
            "1     55   150\n",
            "2     60   250\n",
            "\n",
            "   solar  wind\n",
            "0     50   100\n",
            "2     60   250\n",
            "\n",
            "   solar  wind\n",
            "0     50   100\n",
            "2     60    -1\n"
          ],
          "name": "stdout"
        }
      ]
    },
    {
      "metadata": {
        "id": "lXjhw8pePHCo",
        "colab_type": "text"
      },
      "cell_type": "markdown",
      "source": [
        "### Merge"
      ]
    },
    {
      "metadata": {
        "id": "kWCIxBE1PKC7",
        "colab_type": "code",
        "outputId": "0da75dcb-ce27-4754-ddea-f4184d2b2856",
        "colab": {
          "base_uri": "https://localhost:8080/",
          "height": 137
        }
      },
      "cell_type": "code",
      "source": [
        "df1 = pd.DataFrame({'name':['appel','banana','orange'],'weight':[10,20,30]}) \n",
        "df2 = pd.DataFrame({'name':['appel','banana'],'price':[1,5]})\n",
        "df_merge = df1.merge(df2,how='left',left_on =['name'],right_on = ['name'])\n",
        "df_merge.head()"
      ],
      "execution_count": 0,
      "outputs": [
        {
          "output_type": "execute_result",
          "data": {
            "text/html": [
              "<div>\n",
              "<style scoped>\n",
              "    .dataframe tbody tr th:only-of-type {\n",
              "        vertical-align: middle;\n",
              "    }\n",
              "\n",
              "    .dataframe tbody tr th {\n",
              "        vertical-align: top;\n",
              "    }\n",
              "\n",
              "    .dataframe thead th {\n",
              "        text-align: right;\n",
              "    }\n",
              "</style>\n",
              "<table border=\"1\" class=\"dataframe\">\n",
              "  <thead>\n",
              "    <tr style=\"text-align: right;\">\n",
              "      <th></th>\n",
              "      <th>name</th>\n",
              "      <th>weight</th>\n",
              "      <th>price</th>\n",
              "    </tr>\n",
              "  </thead>\n",
              "  <tbody>\n",
              "    <tr>\n",
              "      <th>0</th>\n",
              "      <td>appel</td>\n",
              "      <td>10</td>\n",
              "      <td>1.0</td>\n",
              "    </tr>\n",
              "    <tr>\n",
              "      <th>1</th>\n",
              "      <td>banana</td>\n",
              "      <td>20</td>\n",
              "      <td>5.0</td>\n",
              "    </tr>\n",
              "    <tr>\n",
              "      <th>2</th>\n",
              "      <td>orange</td>\n",
              "      <td>30</td>\n",
              "      <td>NaN</td>\n",
              "    </tr>\n",
              "  </tbody>\n",
              "</table>\n",
              "</div>"
            ],
            "text/plain": [
              "     name  weight  price\n",
              "0   appel      10    1.0\n",
              "1  banana      20    5.0\n",
              "2  orange      30    NaN"
            ]
          },
          "metadata": {
            "tags": []
          },
          "execution_count": 142
        }
      ]
    },
    {
      "metadata": {
        "id": "fy67UNU6pPVL",
        "colab_type": "text"
      },
      "cell_type": "markdown",
      "source": [
        "### Join"
      ]
    },
    {
      "metadata": {
        "id": "zg8ULQx5pStZ",
        "colab_type": "code",
        "outputId": "11d7bc99-fb42-4f3c-b1ad-31555d368374",
        "colab": {
          "base_uri": "https://localhost:8080/",
          "height": 197
        }
      },
      "cell_type": "code",
      "source": [
        "# merging with the index\n",
        "start = pd.date_range(dt.datetime(2018,1,1,0,0),periods=5,freq='1H',tz='Europe/Amsterdam')\n",
        "df1 = pd.DataFrame({'weight':[1,5,8,3,8]},index = start)\n",
        "df1"
      ],
      "execution_count": 0,
      "outputs": [
        {
          "output_type": "execute_result",
          "data": {
            "text/html": [
              "<div>\n",
              "<style scoped>\n",
              "    .dataframe tbody tr th:only-of-type {\n",
              "        vertical-align: middle;\n",
              "    }\n",
              "\n",
              "    .dataframe tbody tr th {\n",
              "        vertical-align: top;\n",
              "    }\n",
              "\n",
              "    .dataframe thead th {\n",
              "        text-align: right;\n",
              "    }\n",
              "</style>\n",
              "<table border=\"1\" class=\"dataframe\">\n",
              "  <thead>\n",
              "    <tr style=\"text-align: right;\">\n",
              "      <th></th>\n",
              "      <th>weight</th>\n",
              "    </tr>\n",
              "  </thead>\n",
              "  <tbody>\n",
              "    <tr>\n",
              "      <th>2018-01-01 00:00:00+01:00</th>\n",
              "      <td>1</td>\n",
              "    </tr>\n",
              "    <tr>\n",
              "      <th>2018-01-01 01:00:00+01:00</th>\n",
              "      <td>5</td>\n",
              "    </tr>\n",
              "    <tr>\n",
              "      <th>2018-01-01 02:00:00+01:00</th>\n",
              "      <td>8</td>\n",
              "    </tr>\n",
              "    <tr>\n",
              "      <th>2018-01-01 03:00:00+01:00</th>\n",
              "      <td>3</td>\n",
              "    </tr>\n",
              "    <tr>\n",
              "      <th>2018-01-01 04:00:00+01:00</th>\n",
              "      <td>8</td>\n",
              "    </tr>\n",
              "  </tbody>\n",
              "</table>\n",
              "</div>"
            ],
            "text/plain": [
              "                           weight\n",
              "2018-01-01 00:00:00+01:00       1\n",
              "2018-01-01 01:00:00+01:00       5\n",
              "2018-01-01 02:00:00+01:00       8\n",
              "2018-01-01 03:00:00+01:00       3\n",
              "2018-01-01 04:00:00+01:00       8"
            ]
          },
          "metadata": {
            "tags": []
          },
          "execution_count": 143
        }
      ]
    },
    {
      "metadata": {
        "id": "9xsSCutDrXIl",
        "colab_type": "code",
        "outputId": "2092888c-ac25-4e74-b389-eaa2e539e032",
        "colab": {
          "base_uri": "https://localhost:8080/",
          "height": 167
        }
      },
      "cell_type": "code",
      "source": [
        "start = pd.date_range(dt.datetime(2018,1,1,0,0),periods=4,freq='1H',tz='Europe/Amsterdam')\n",
        "df2 = pd.DataFrame({'price':[10,15,31,8]},index = start)\n",
        "df2"
      ],
      "execution_count": 0,
      "outputs": [
        {
          "output_type": "execute_result",
          "data": {
            "text/html": [
              "<div>\n",
              "<style scoped>\n",
              "    .dataframe tbody tr th:only-of-type {\n",
              "        vertical-align: middle;\n",
              "    }\n",
              "\n",
              "    .dataframe tbody tr th {\n",
              "        vertical-align: top;\n",
              "    }\n",
              "\n",
              "    .dataframe thead th {\n",
              "        text-align: right;\n",
              "    }\n",
              "</style>\n",
              "<table border=\"1\" class=\"dataframe\">\n",
              "  <thead>\n",
              "    <tr style=\"text-align: right;\">\n",
              "      <th></th>\n",
              "      <th>price</th>\n",
              "    </tr>\n",
              "  </thead>\n",
              "  <tbody>\n",
              "    <tr>\n",
              "      <th>2018-01-01 00:00:00+01:00</th>\n",
              "      <td>10</td>\n",
              "    </tr>\n",
              "    <tr>\n",
              "      <th>2018-01-01 01:00:00+01:00</th>\n",
              "      <td>15</td>\n",
              "    </tr>\n",
              "    <tr>\n",
              "      <th>2018-01-01 02:00:00+01:00</th>\n",
              "      <td>31</td>\n",
              "    </tr>\n",
              "    <tr>\n",
              "      <th>2018-01-01 03:00:00+01:00</th>\n",
              "      <td>8</td>\n",
              "    </tr>\n",
              "  </tbody>\n",
              "</table>\n",
              "</div>"
            ],
            "text/plain": [
              "                           price\n",
              "2018-01-01 00:00:00+01:00     10\n",
              "2018-01-01 01:00:00+01:00     15\n",
              "2018-01-01 02:00:00+01:00     31\n",
              "2018-01-01 03:00:00+01:00      8"
            ]
          },
          "metadata": {
            "tags": []
          },
          "execution_count": 144
        }
      ]
    },
    {
      "metadata": {
        "id": "mj3c7M9Orhb0",
        "colab_type": "code",
        "outputId": "a0ea03e3-a9f7-4969-d17e-4d5a9987b2cd",
        "colab": {
          "base_uri": "https://localhost:8080/",
          "height": 197
        }
      },
      "cell_type": "code",
      "source": [
        "# left join\n",
        "df_all = df1.join(df2)\n",
        "df_all"
      ],
      "execution_count": 0,
      "outputs": [
        {
          "output_type": "execute_result",
          "data": {
            "text/html": [
              "<div>\n",
              "<style scoped>\n",
              "    .dataframe tbody tr th:only-of-type {\n",
              "        vertical-align: middle;\n",
              "    }\n",
              "\n",
              "    .dataframe tbody tr th {\n",
              "        vertical-align: top;\n",
              "    }\n",
              "\n",
              "    .dataframe thead th {\n",
              "        text-align: right;\n",
              "    }\n",
              "</style>\n",
              "<table border=\"1\" class=\"dataframe\">\n",
              "  <thead>\n",
              "    <tr style=\"text-align: right;\">\n",
              "      <th></th>\n",
              "      <th>weight</th>\n",
              "      <th>price</th>\n",
              "    </tr>\n",
              "  </thead>\n",
              "  <tbody>\n",
              "    <tr>\n",
              "      <th>2018-01-01 00:00:00+01:00</th>\n",
              "      <td>1</td>\n",
              "      <td>10.0</td>\n",
              "    </tr>\n",
              "    <tr>\n",
              "      <th>2018-01-01 01:00:00+01:00</th>\n",
              "      <td>5</td>\n",
              "      <td>15.0</td>\n",
              "    </tr>\n",
              "    <tr>\n",
              "      <th>2018-01-01 02:00:00+01:00</th>\n",
              "      <td>8</td>\n",
              "      <td>31.0</td>\n",
              "    </tr>\n",
              "    <tr>\n",
              "      <th>2018-01-01 03:00:00+01:00</th>\n",
              "      <td>3</td>\n",
              "      <td>8.0</td>\n",
              "    </tr>\n",
              "    <tr>\n",
              "      <th>2018-01-01 04:00:00+01:00</th>\n",
              "      <td>8</td>\n",
              "      <td>NaN</td>\n",
              "    </tr>\n",
              "  </tbody>\n",
              "</table>\n",
              "</div>"
            ],
            "text/plain": [
              "                           weight  price\n",
              "2018-01-01 00:00:00+01:00       1   10.0\n",
              "2018-01-01 01:00:00+01:00       5   15.0\n",
              "2018-01-01 02:00:00+01:00       8   31.0\n",
              "2018-01-01 03:00:00+01:00       3    8.0\n",
              "2018-01-01 04:00:00+01:00       8    NaN"
            ]
          },
          "metadata": {
            "tags": []
          },
          "execution_count": 145
        }
      ]
    },
    {
      "metadata": {
        "id": "j_oO-XPHr0dj",
        "colab_type": "code",
        "outputId": "ad67222c-d705-434a-80c0-571e8ca620e2",
        "colab": {
          "base_uri": "https://localhost:8080/",
          "height": 167
        }
      },
      "cell_type": "code",
      "source": [
        "# inner join\n",
        "df_all = df1.join(df2,how='inner')\n",
        "df_all"
      ],
      "execution_count": 0,
      "outputs": [
        {
          "output_type": "execute_result",
          "data": {
            "text/html": [
              "<div>\n",
              "<style scoped>\n",
              "    .dataframe tbody tr th:only-of-type {\n",
              "        vertical-align: middle;\n",
              "    }\n",
              "\n",
              "    .dataframe tbody tr th {\n",
              "        vertical-align: top;\n",
              "    }\n",
              "\n",
              "    .dataframe thead th {\n",
              "        text-align: right;\n",
              "    }\n",
              "</style>\n",
              "<table border=\"1\" class=\"dataframe\">\n",
              "  <thead>\n",
              "    <tr style=\"text-align: right;\">\n",
              "      <th></th>\n",
              "      <th>weight</th>\n",
              "      <th>price</th>\n",
              "    </tr>\n",
              "  </thead>\n",
              "  <tbody>\n",
              "    <tr>\n",
              "      <th>2018-01-01 00:00:00+01:00</th>\n",
              "      <td>1</td>\n",
              "      <td>10</td>\n",
              "    </tr>\n",
              "    <tr>\n",
              "      <th>2018-01-01 01:00:00+01:00</th>\n",
              "      <td>5</td>\n",
              "      <td>15</td>\n",
              "    </tr>\n",
              "    <tr>\n",
              "      <th>2018-01-01 02:00:00+01:00</th>\n",
              "      <td>8</td>\n",
              "      <td>31</td>\n",
              "    </tr>\n",
              "    <tr>\n",
              "      <th>2018-01-01 03:00:00+01:00</th>\n",
              "      <td>3</td>\n",
              "      <td>8</td>\n",
              "    </tr>\n",
              "  </tbody>\n",
              "</table>\n",
              "</div>"
            ],
            "text/plain": [
              "                           weight  price\n",
              "2018-01-01 00:00:00+01:00       1     10\n",
              "2018-01-01 01:00:00+01:00       5     15\n",
              "2018-01-01 02:00:00+01:00       8     31\n",
              "2018-01-01 03:00:00+01:00       3      8"
            ]
          },
          "metadata": {
            "tags": []
          },
          "execution_count": 146
        }
      ]
    },
    {
      "metadata": {
        "id": "ZReeF1ARSA1K",
        "colab_type": "text"
      },
      "cell_type": "markdown",
      "source": [
        "### Check NA's"
      ]
    },
    {
      "metadata": {
        "id": "OyFC1x4fSEdb",
        "colab_type": "code",
        "outputId": "d8f84bd2-a1cc-44c7-ea7e-a3a1d9c1cab7",
        "colab": {
          "base_uri": "https://localhost:8080/",
          "height": 77
        }
      },
      "cell_type": "code",
      "source": [
        "df_merge[df_merge.isnull().any(axis=1)]"
      ],
      "execution_count": 0,
      "outputs": [
        {
          "output_type": "execute_result",
          "data": {
            "text/html": [
              "<div>\n",
              "<style scoped>\n",
              "    .dataframe tbody tr th:only-of-type {\n",
              "        vertical-align: middle;\n",
              "    }\n",
              "\n",
              "    .dataframe tbody tr th {\n",
              "        vertical-align: top;\n",
              "    }\n",
              "\n",
              "    .dataframe thead th {\n",
              "        text-align: right;\n",
              "    }\n",
              "</style>\n",
              "<table border=\"1\" class=\"dataframe\">\n",
              "  <thead>\n",
              "    <tr style=\"text-align: right;\">\n",
              "      <th></th>\n",
              "      <th>name</th>\n",
              "      <th>weight</th>\n",
              "      <th>price</th>\n",
              "    </tr>\n",
              "  </thead>\n",
              "  <tbody>\n",
              "    <tr>\n",
              "      <th>2</th>\n",
              "      <td>orange</td>\n",
              "      <td>30</td>\n",
              "      <td>NaN</td>\n",
              "    </tr>\n",
              "  </tbody>\n",
              "</table>\n",
              "</div>"
            ],
            "text/plain": [
              "     name  weight  price\n",
              "2  orange      30    NaN"
            ]
          },
          "metadata": {
            "tags": []
          },
          "execution_count": 147
        }
      ]
    },
    {
      "metadata": {
        "id": "_n2Gp5ibtLDN",
        "colab_type": "text"
      },
      "cell_type": "markdown",
      "source": [
        "###  Check NA's with set"
      ]
    },
    {
      "metadata": {
        "id": "G23dTreNr3Mr",
        "colab_type": "code",
        "outputId": "62027ebc-b7d3-46b1-d420-8ef56750a637",
        "colab": {
          "base_uri": "https://localhost:8080/",
          "height": 173
        }
      },
      "cell_type": "code",
      "source": [
        "# give fruit where any number is missing\n",
        "df = pd.DataFrame({'name':['appel','banana','banana','kiwi'],'weight':[10,20,np.nan,88],'cost':[0,11,np.nan,np.nan]})\n",
        "df"
      ],
      "execution_count": 0,
      "outputs": [
        {
          "output_type": "execute_result",
          "data": {
            "text/html": [
              "<div>\n",
              "<style scoped>\n",
              "    .dataframe tbody tr th:only-of-type {\n",
              "        vertical-align: middle;\n",
              "    }\n",
              "\n",
              "    .dataframe tbody tr th {\n",
              "        vertical-align: top;\n",
              "    }\n",
              "\n",
              "    .dataframe thead th {\n",
              "        text-align: right;\n",
              "    }\n",
              "</style>\n",
              "<table border=\"1\" class=\"dataframe\">\n",
              "  <thead>\n",
              "    <tr style=\"text-align: right;\">\n",
              "      <th></th>\n",
              "      <th>cost</th>\n",
              "      <th>name</th>\n",
              "      <th>weight</th>\n",
              "    </tr>\n",
              "  </thead>\n",
              "  <tbody>\n",
              "    <tr>\n",
              "      <th>0</th>\n",
              "      <td>0.0</td>\n",
              "      <td>appel</td>\n",
              "      <td>10.0</td>\n",
              "    </tr>\n",
              "    <tr>\n",
              "      <th>1</th>\n",
              "      <td>11.0</td>\n",
              "      <td>banana</td>\n",
              "      <td>20.0</td>\n",
              "    </tr>\n",
              "    <tr>\n",
              "      <th>2</th>\n",
              "      <td>NaN</td>\n",
              "      <td>banana</td>\n",
              "      <td>NaN</td>\n",
              "    </tr>\n",
              "    <tr>\n",
              "      <th>3</th>\n",
              "      <td>NaN</td>\n",
              "      <td>kiwi</td>\n",
              "      <td>88.0</td>\n",
              "    </tr>\n",
              "  </tbody>\n",
              "</table>\n",
              "</div>"
            ],
            "text/plain": [
              "   cost    name  weight\n",
              "0   0.0   appel    10.0\n",
              "1  11.0  banana    20.0\n",
              "2   NaN  banana     NaN\n",
              "3   NaN    kiwi    88.0"
            ]
          },
          "metadata": {
            "tags": []
          },
          "execution_count": 9
        }
      ]
    },
    {
      "metadata": {
        "id": "T9nPPauusnIG",
        "colab_type": "code",
        "outputId": "ac6397a0-c216-4cfe-aaae-162eeabaf158",
        "colab": {
          "base_uri": "https://localhost:8080/",
          "height": 34
        }
      },
      "cell_type": "code",
      "source": [
        "set(df[df[['cost','weight']].isnull().any(axis=1)]['name'])"
      ],
      "execution_count": 0,
      "outputs": [
        {
          "output_type": "execute_result",
          "data": {
            "text/plain": [
              "{'banana', 'kiwi'}"
            ]
          },
          "metadata": {
            "tags": []
          },
          "execution_count": 14
        }
      ]
    },
    {
      "metadata": {
        "id": "mqzxScBY_glV",
        "colab_type": "text"
      },
      "cell_type": "markdown",
      "source": [
        "### Remove row with any zero"
      ]
    },
    {
      "metadata": {
        "id": "Vl5pmY7o_mkY",
        "colab_type": "code",
        "outputId": "301198d9-4fe2-4bca-93bf-d273617f835e",
        "colab": {
          "base_uri": "https://localhost:8080/",
          "height": 137
        }
      },
      "cell_type": "code",
      "source": [
        "df = pd.DataFrame({'name':['appel','banana','orange'],'weight':[10,20,0],'cost':[0,11,0]})\n",
        "df"
      ],
      "execution_count": 0,
      "outputs": [
        {
          "output_type": "execute_result",
          "data": {
            "text/html": [
              "<div>\n",
              "<style scoped>\n",
              "    .dataframe tbody tr th:only-of-type {\n",
              "        vertical-align: middle;\n",
              "    }\n",
              "\n",
              "    .dataframe tbody tr th {\n",
              "        vertical-align: top;\n",
              "    }\n",
              "\n",
              "    .dataframe thead th {\n",
              "        text-align: right;\n",
              "    }\n",
              "</style>\n",
              "<table border=\"1\" class=\"dataframe\">\n",
              "  <thead>\n",
              "    <tr style=\"text-align: right;\">\n",
              "      <th></th>\n",
              "      <th>cost</th>\n",
              "      <th>name</th>\n",
              "      <th>weight</th>\n",
              "    </tr>\n",
              "  </thead>\n",
              "  <tbody>\n",
              "    <tr>\n",
              "      <th>0</th>\n",
              "      <td>0</td>\n",
              "      <td>appel</td>\n",
              "      <td>10</td>\n",
              "    </tr>\n",
              "    <tr>\n",
              "      <th>1</th>\n",
              "      <td>11</td>\n",
              "      <td>banana</td>\n",
              "      <td>20</td>\n",
              "    </tr>\n",
              "    <tr>\n",
              "      <th>2</th>\n",
              "      <td>0</td>\n",
              "      <td>orange</td>\n",
              "      <td>0</td>\n",
              "    </tr>\n",
              "  </tbody>\n",
              "</table>\n",
              "</div>"
            ],
            "text/plain": [
              "   cost    name  weight\n",
              "0     0   appel      10\n",
              "1    11  banana      20\n",
              "2     0  orange       0"
            ]
          },
          "metadata": {
            "tags": []
          },
          "execution_count": 148
        }
      ]
    },
    {
      "metadata": {
        "id": "R1ktfTkF_-sy",
        "colab_type": "code",
        "outputId": "50bd1976-b6ef-4902-82eb-f75d89d6d453",
        "colab": {
          "base_uri": "https://localhost:8080/",
          "height": 87
        }
      },
      "cell_type": "code",
      "source": [
        "# get idx of row with zero\n",
        "cols = ['cost','weight']\n",
        "idx = (df[cols] == 0).any(axis=1)\n",
        "print(idx)"
      ],
      "execution_count": 0,
      "outputs": [
        {
          "output_type": "stream",
          "text": [
            "0     True\n",
            "1    False\n",
            "2     True\n",
            "dtype: bool\n"
          ],
          "name": "stdout"
        }
      ]
    },
    {
      "metadata": {
        "id": "pkGnWmdCAUWf",
        "colab_type": "code",
        "outputId": "e3c8afc3-8ee4-4498-8acf-660e2769c62e",
        "colab": {
          "base_uri": "https://localhost:8080/",
          "height": 77
        }
      },
      "cell_type": "code",
      "source": [
        "df2 = df.loc[~idx]\n",
        "df2.reset_index(inplace=True,drop=True)\n",
        "df2.head()"
      ],
      "execution_count": 0,
      "outputs": [
        {
          "output_type": "execute_result",
          "data": {
            "text/html": [
              "<div>\n",
              "<style scoped>\n",
              "    .dataframe tbody tr th:only-of-type {\n",
              "        vertical-align: middle;\n",
              "    }\n",
              "\n",
              "    .dataframe tbody tr th {\n",
              "        vertical-align: top;\n",
              "    }\n",
              "\n",
              "    .dataframe thead th {\n",
              "        text-align: right;\n",
              "    }\n",
              "</style>\n",
              "<table border=\"1\" class=\"dataframe\">\n",
              "  <thead>\n",
              "    <tr style=\"text-align: right;\">\n",
              "      <th></th>\n",
              "      <th>cost</th>\n",
              "      <th>name</th>\n",
              "      <th>weight</th>\n",
              "    </tr>\n",
              "  </thead>\n",
              "  <tbody>\n",
              "    <tr>\n",
              "      <th>0</th>\n",
              "      <td>11</td>\n",
              "      <td>banana</td>\n",
              "      <td>20</td>\n",
              "    </tr>\n",
              "  </tbody>\n",
              "</table>\n",
              "</div>"
            ],
            "text/plain": [
              "   cost    name  weight\n",
              "0    11  banana      20"
            ]
          },
          "metadata": {
            "tags": []
          },
          "execution_count": 150
        }
      ]
    },
    {
      "metadata": {
        "id": "jjXrxsvnIxfb",
        "colab_type": "text"
      },
      "cell_type": "markdown",
      "source": [
        "### Get index of column name"
      ]
    },
    {
      "metadata": {
        "id": "l0ARQ9YlI0s0",
        "colab_type": "code",
        "outputId": "5d0806a4-2328-44c1-9e91-8575e7f82375",
        "colab": {
          "base_uri": "https://localhost:8080/",
          "height": 34
        }
      },
      "cell_type": "code",
      "source": [
        "df = pd.DataFrame({'name':['apple','banaan','peer'],'weight':[10,19,33]})\n",
        "\n",
        "df.columns"
      ],
      "execution_count": 0,
      "outputs": [
        {
          "output_type": "execute_result",
          "data": {
            "text/plain": [
              "Index([u'name', u'weight'], dtype='object')"
            ]
          },
          "metadata": {
            "tags": []
          },
          "execution_count": 151
        }
      ]
    },
    {
      "metadata": {
        "id": "pO2tFwLSJgrm",
        "colab_type": "code",
        "outputId": "1a5e5234-7aa5-4a6f-fa0f-4018a6f02172",
        "colab": {
          "base_uri": "https://localhost:8080/",
          "height": 34
        }
      },
      "cell_type": "code",
      "source": [
        "df.columns.get_loc('weight')"
      ],
      "execution_count": 0,
      "outputs": [
        {
          "output_type": "execute_result",
          "data": {
            "text/plain": [
              "1"
            ]
          },
          "metadata": {
            "tags": []
          },
          "execution_count": 152
        }
      ]
    },
    {
      "metadata": {
        "id": "yKDMXykAowgL",
        "colab_type": "text"
      },
      "cell_type": "markdown",
      "source": [
        "### Select second and third column\n"
      ]
    },
    {
      "metadata": {
        "id": "ur5l-wLJpHRG",
        "colab_type": "code",
        "colab": {
          "base_uri": "https://localhost:8080/",
          "height": 142
        },
        "outputId": "d03bc166-8cc7-4205-ba22-267ea0f67f0e"
      },
      "cell_type": "code",
      "source": [
        "df = pd.DataFrame({'name':['apple','banaan','peer'],'weight':[10,19,33],'price':[100,190,330]})\n",
        "df = df.iloc[:,[1,2]]\n",
        "df"
      ],
      "execution_count": 5,
      "outputs": [
        {
          "output_type": "execute_result",
          "data": {
            "text/html": [
              "<div>\n",
              "<style scoped>\n",
              "    .dataframe tbody tr th:only-of-type {\n",
              "        vertical-align: middle;\n",
              "    }\n",
              "\n",
              "    .dataframe tbody tr th {\n",
              "        vertical-align: top;\n",
              "    }\n",
              "\n",
              "    .dataframe thead th {\n",
              "        text-align: right;\n",
              "    }\n",
              "</style>\n",
              "<table border=\"1\" class=\"dataframe\">\n",
              "  <thead>\n",
              "    <tr style=\"text-align: right;\">\n",
              "      <th></th>\n",
              "      <th>weight</th>\n",
              "      <th>price</th>\n",
              "    </tr>\n",
              "  </thead>\n",
              "  <tbody>\n",
              "    <tr>\n",
              "      <th>0</th>\n",
              "      <td>10</td>\n",
              "      <td>100</td>\n",
              "    </tr>\n",
              "    <tr>\n",
              "      <th>1</th>\n",
              "      <td>19</td>\n",
              "      <td>190</td>\n",
              "    </tr>\n",
              "    <tr>\n",
              "      <th>2</th>\n",
              "      <td>33</td>\n",
              "      <td>330</td>\n",
              "    </tr>\n",
              "  </tbody>\n",
              "</table>\n",
              "</div>"
            ],
            "text/plain": [
              "   weight  price\n",
              "0      10    100\n",
              "1      19    190\n",
              "2      33    330"
            ]
          },
          "metadata": {
            "tags": []
          },
          "execution_count": 5
        }
      ]
    },
    {
      "metadata": {
        "id": "Wkmy6fy9bcbC",
        "colab_type": "text"
      },
      "cell_type": "markdown",
      "source": [
        "### Get index of value"
      ]
    },
    {
      "metadata": {
        "id": "2yWMZmj-bfwT",
        "colab_type": "code",
        "outputId": "cd2a9a1d-7a93-4aeb-aabb-6cdfdcff45ce",
        "colab": {
          "base_uri": "https://localhost:8080/",
          "height": 34
        }
      },
      "cell_type": "code",
      "source": [
        "a = np.array([1,2,3])\n",
        "#np.where(a == 3)\n",
        "np.argwhere(a==3)[0][0]"
      ],
      "execution_count": 0,
      "outputs": [
        {
          "output_type": "execute_result",
          "data": {
            "text/plain": [
              "2"
            ]
          },
          "metadata": {
            "tags": []
          },
          "execution_count": 153
        }
      ]
    },
    {
      "metadata": {
        "id": "hxtA2iEdyBAR",
        "colab_type": "text"
      },
      "cell_type": "markdown",
      "source": [
        "### Row aggregation"
      ]
    },
    {
      "metadata": {
        "id": "5Fxj0vm7yEqw",
        "colab_type": "code",
        "outputId": "ff59fdf8-9084-4dc8-e1d1-f3adced36264",
        "colab": {
          "base_uri": "https://localhost:8080/",
          "height": 137
        }
      },
      "cell_type": "code",
      "source": [
        "df = pd.DataFrame({'price':[3,0,4],'weight':[10,19,33]})\n",
        "df"
      ],
      "execution_count": 0,
      "outputs": [
        {
          "output_type": "execute_result",
          "data": {
            "text/html": [
              "<div>\n",
              "<style scoped>\n",
              "    .dataframe tbody tr th:only-of-type {\n",
              "        vertical-align: middle;\n",
              "    }\n",
              "\n",
              "    .dataframe tbody tr th {\n",
              "        vertical-align: top;\n",
              "    }\n",
              "\n",
              "    .dataframe thead th {\n",
              "        text-align: right;\n",
              "    }\n",
              "</style>\n",
              "<table border=\"1\" class=\"dataframe\">\n",
              "  <thead>\n",
              "    <tr style=\"text-align: right;\">\n",
              "      <th></th>\n",
              "      <th>price</th>\n",
              "      <th>weight</th>\n",
              "    </tr>\n",
              "  </thead>\n",
              "  <tbody>\n",
              "    <tr>\n",
              "      <th>0</th>\n",
              "      <td>3</td>\n",
              "      <td>10</td>\n",
              "    </tr>\n",
              "    <tr>\n",
              "      <th>1</th>\n",
              "      <td>0</td>\n",
              "      <td>19</td>\n",
              "    </tr>\n",
              "    <tr>\n",
              "      <th>2</th>\n",
              "      <td>4</td>\n",
              "      <td>33</td>\n",
              "    </tr>\n",
              "  </tbody>\n",
              "</table>\n",
              "</div>"
            ],
            "text/plain": [
              "   price  weight\n",
              "0      3      10\n",
              "1      0      19\n",
              "2      4      33"
            ]
          },
          "metadata": {
            "tags": []
          },
          "execution_count": 154
        }
      ]
    },
    {
      "metadata": {
        "id": "MTpzcV-uyO4v",
        "colab_type": "code",
        "colab": {}
      },
      "cell_type": "code",
      "source": [
        "def aggregate_row(row):\n",
        "    non_zero_values = row.iloc[row.nonzero()]\n",
        "    aggs = {'non_zero_mean': non_zero_values.mean(),\n",
        "            'non_zero_max': non_zero_values.max()\n",
        "           }\n",
        "    return pd.Series(aggs)"
      ],
      "execution_count": 0,
      "outputs": []
    },
    {
      "metadata": {
        "id": "rYoqCP3WydKP",
        "colab_type": "code",
        "outputId": "7bf1a0db-335e-4837-ef07-59a4c65ff7cd",
        "colab": {
          "base_uri": "https://localhost:8080/",
          "height": 137
        }
      },
      "cell_type": "code",
      "source": [
        "df_agg = df.apply(aggregate_row, axis=1)\n",
        "df_agg"
      ],
      "execution_count": 0,
      "outputs": [
        {
          "output_type": "execute_result",
          "data": {
            "text/html": [
              "<div>\n",
              "<style scoped>\n",
              "    .dataframe tbody tr th:only-of-type {\n",
              "        vertical-align: middle;\n",
              "    }\n",
              "\n",
              "    .dataframe tbody tr th {\n",
              "        vertical-align: top;\n",
              "    }\n",
              "\n",
              "    .dataframe thead th {\n",
              "        text-align: right;\n",
              "    }\n",
              "</style>\n",
              "<table border=\"1\" class=\"dataframe\">\n",
              "  <thead>\n",
              "    <tr style=\"text-align: right;\">\n",
              "      <th></th>\n",
              "      <th>non_zero_max</th>\n",
              "      <th>non_zero_mean</th>\n",
              "    </tr>\n",
              "  </thead>\n",
              "  <tbody>\n",
              "    <tr>\n",
              "      <th>0</th>\n",
              "      <td>10.0</td>\n",
              "      <td>6.5</td>\n",
              "    </tr>\n",
              "    <tr>\n",
              "      <th>1</th>\n",
              "      <td>19.0</td>\n",
              "      <td>19.0</td>\n",
              "    </tr>\n",
              "    <tr>\n",
              "      <th>2</th>\n",
              "      <td>33.0</td>\n",
              "      <td>18.5</td>\n",
              "    </tr>\n",
              "  </tbody>\n",
              "</table>\n",
              "</div>"
            ],
            "text/plain": [
              "   non_zero_max  non_zero_mean\n",
              "0          10.0            6.5\n",
              "1          19.0           19.0\n",
              "2          33.0           18.5"
            ]
          },
          "metadata": {
            "tags": []
          },
          "execution_count": 156
        }
      ]
    },
    {
      "metadata": {
        "id": "lAPT0W2iTabJ",
        "colab_type": "text"
      },
      "cell_type": "markdown",
      "source": [
        "### Multi index"
      ]
    },
    {
      "metadata": {
        "id": "ukmaAmrJTehD",
        "colab_type": "code",
        "outputId": "a46cc21d-3709-4503-aa5e-b2eefa70dd43",
        "colab": {
          "base_uri": "https://localhost:8080/",
          "height": 241
        }
      },
      "cell_type": "code",
      "source": [
        "a = np.array(['a','b','c'])\n",
        "b = np.array(['apple','banana'])\n",
        "\n",
        "multiindex = pd.MultiIndex.from_product([a, b],names=['Letter', 'Fruit'])\n",
        "\n",
        "df = pd.DataFrame(index=multiindex)\n",
        "\n",
        "df"
      ],
      "execution_count": 0,
      "outputs": [
        {
          "output_type": "execute_result",
          "data": {
            "text/html": [
              "<div>\n",
              "<style scoped>\n",
              "    .dataframe tbody tr th:only-of-type {\n",
              "        vertical-align: middle;\n",
              "    }\n",
              "\n",
              "    .dataframe tbody tr th {\n",
              "        vertical-align: top;\n",
              "    }\n",
              "\n",
              "    .dataframe thead th {\n",
              "        text-align: right;\n",
              "    }\n",
              "</style>\n",
              "<table border=\"1\" class=\"dataframe\">\n",
              "  <thead>\n",
              "    <tr style=\"text-align: right;\">\n",
              "      <th></th>\n",
              "      <th></th>\n",
              "    </tr>\n",
              "    <tr>\n",
              "      <th>Letter</th>\n",
              "      <th>Fruit</th>\n",
              "    </tr>\n",
              "  </thead>\n",
              "  <tbody>\n",
              "    <tr>\n",
              "      <th rowspan=\"2\" valign=\"top\">a</th>\n",
              "      <th>apple</th>\n",
              "    </tr>\n",
              "    <tr>\n",
              "      <th>banana</th>\n",
              "    </tr>\n",
              "    <tr>\n",
              "      <th rowspan=\"2\" valign=\"top\">b</th>\n",
              "      <th>apple</th>\n",
              "    </tr>\n",
              "    <tr>\n",
              "      <th>banana</th>\n",
              "    </tr>\n",
              "    <tr>\n",
              "      <th rowspan=\"2\" valign=\"top\">c</th>\n",
              "      <th>apple</th>\n",
              "    </tr>\n",
              "    <tr>\n",
              "      <th>banana</th>\n",
              "    </tr>\n",
              "  </tbody>\n",
              "</table>\n",
              "</div>"
            ],
            "text/plain": [
              "Empty DataFrame\n",
              "Columns: []\n",
              "Index: [(a, apple), (a, banana), (b, apple), (b, banana), (c, apple), (c, banana)]"
            ]
          },
          "metadata": {
            "tags": []
          },
          "execution_count": 157
        }
      ]
    },
    {
      "metadata": {
        "id": "1iFLywnrrVhn",
        "colab_type": "text"
      },
      "cell_type": "markdown",
      "source": [
        "https://pandas.pydata.org/pandas-docs/stable/advanced.html"
      ]
    },
    {
      "metadata": {
        "id": "vkRfJSLdy0qN",
        "colab_type": "code",
        "outputId": "f0200a56-27db-4071-c8f6-fff5fa67c110",
        "colab": {
          "base_uri": "https://localhost:8080/",
          "height": 173
        }
      },
      "cell_type": "code",
      "source": [
        "df = pd.DataFrame({'day':['Mon','Mon','Tue'],'asset':['E','P','P'],'wind':[100,150,250],'solar':[50,55,60]})\n",
        "df = df.set_index(['day','asset'])\n",
        "df"
      ],
      "execution_count": 0,
      "outputs": [
        {
          "output_type": "execute_result",
          "data": {
            "text/html": [
              "<div>\n",
              "<style scoped>\n",
              "    .dataframe tbody tr th:only-of-type {\n",
              "        vertical-align: middle;\n",
              "    }\n",
              "\n",
              "    .dataframe tbody tr th {\n",
              "        vertical-align: top;\n",
              "    }\n",
              "\n",
              "    .dataframe thead th {\n",
              "        text-align: right;\n",
              "    }\n",
              "</style>\n",
              "<table border=\"1\" class=\"dataframe\">\n",
              "  <thead>\n",
              "    <tr style=\"text-align: right;\">\n",
              "      <th></th>\n",
              "      <th></th>\n",
              "      <th>solar</th>\n",
              "      <th>wind</th>\n",
              "    </tr>\n",
              "    <tr>\n",
              "      <th>day</th>\n",
              "      <th>asset</th>\n",
              "      <th></th>\n",
              "      <th></th>\n",
              "    </tr>\n",
              "  </thead>\n",
              "  <tbody>\n",
              "    <tr>\n",
              "      <th rowspan=\"2\" valign=\"top\">Mon</th>\n",
              "      <th>E</th>\n",
              "      <td>50</td>\n",
              "      <td>100</td>\n",
              "    </tr>\n",
              "    <tr>\n",
              "      <th>P</th>\n",
              "      <td>55</td>\n",
              "      <td>150</td>\n",
              "    </tr>\n",
              "    <tr>\n",
              "      <th>Tue</th>\n",
              "      <th>P</th>\n",
              "      <td>60</td>\n",
              "      <td>250</td>\n",
              "    </tr>\n",
              "  </tbody>\n",
              "</table>\n",
              "</div>"
            ],
            "text/plain": [
              "           solar  wind\n",
              "day asset             \n",
              "Mon E         50   100\n",
              "    P         55   150\n",
              "Tue P         60   250"
            ]
          },
          "metadata": {
            "tags": []
          },
          "execution_count": 6
        }
      ]
    },
    {
      "metadata": {
        "id": "j2PIbroecd-5",
        "colab_type": "code",
        "outputId": "94187ec9-4f36-4c3e-9e1c-0ce9502a78de",
        "colab": {
          "base_uri": "https://localhost:8080/",
          "height": 142
        }
      },
      "cell_type": "code",
      "source": [
        "df.loc['Mon']"
      ],
      "execution_count": 0,
      "outputs": [
        {
          "output_type": "execute_result",
          "data": {
            "text/html": [
              "<div>\n",
              "<style scoped>\n",
              "    .dataframe tbody tr th:only-of-type {\n",
              "        vertical-align: middle;\n",
              "    }\n",
              "\n",
              "    .dataframe tbody tr th {\n",
              "        vertical-align: top;\n",
              "    }\n",
              "\n",
              "    .dataframe thead th {\n",
              "        text-align: right;\n",
              "    }\n",
              "</style>\n",
              "<table border=\"1\" class=\"dataframe\">\n",
              "  <thead>\n",
              "    <tr style=\"text-align: right;\">\n",
              "      <th></th>\n",
              "      <th>solar</th>\n",
              "      <th>wind</th>\n",
              "    </tr>\n",
              "    <tr>\n",
              "      <th>asset</th>\n",
              "      <th></th>\n",
              "      <th></th>\n",
              "    </tr>\n",
              "  </thead>\n",
              "  <tbody>\n",
              "    <tr>\n",
              "      <th>E</th>\n",
              "      <td>50</td>\n",
              "      <td>100</td>\n",
              "    </tr>\n",
              "    <tr>\n",
              "      <th>P</th>\n",
              "      <td>55</td>\n",
              "      <td>150</td>\n",
              "    </tr>\n",
              "  </tbody>\n",
              "</table>\n",
              "</div>"
            ],
            "text/plain": [
              "       solar  wind\n",
              "asset             \n",
              "E         50   100\n",
              "P         55   150"
            ]
          },
          "metadata": {
            "tags": []
          },
          "execution_count": 10
        }
      ]
    },
    {
      "metadata": {
        "id": "gRH_1PcgEsNX",
        "colab_type": "code",
        "outputId": "14ae1f12-33e2-445a-b6a0-304b0d518259",
        "colab": {
          "base_uri": "https://localhost:8080/",
          "height": 34
        }
      },
      "cell_type": "code",
      "source": [
        "df.loc['Mon','E']['solar']"
      ],
      "execution_count": 0,
      "outputs": [
        {
          "output_type": "execute_result",
          "data": {
            "text/plain": [
              "50"
            ]
          },
          "metadata": {
            "tags": []
          },
          "execution_count": 13
        }
      ]
    },
    {
      "metadata": {
        "id": "GLyK780WdEv9",
        "colab_type": "code",
        "colab": {}
      },
      "cell_type": "code",
      "source": [
        "# Multiindex with datetime\n",
        "a1 = dt.datetime(2018,1,1,0,0)\n",
        "a2 = dt.datetime(2018,1,1,0,0)\n",
        "b1 = dt.datetime(2018,1,1,1,0)\n",
        "b2 = dt.datetime(2018,1,1,1,0)\n",
        "l1 = [a1,a2,b1,b2]"
      ],
      "execution_count": 0,
      "outputs": []
    },
    {
      "metadata": {
        "id": "9RbGAcw9ek2U",
        "colab_type": "code",
        "colab": {}
      },
      "cell_type": "code",
      "source": [
        "aa1 = dt.datetime(2018,1,1,1,0)\n",
        "aa2 = dt.datetime(2018,1,1,2,0)\n",
        "bb1 = dt.datetime(2018,1,1,2,0)\n",
        "bb2 = dt.datetime(2018,1,1,3,0)\n",
        "l2 = [aa1,aa2,bb1,bb2]"
      ],
      "execution_count": 0,
      "outputs": []
    },
    {
      "metadata": {
        "id": "KcsNOjYLeyaX",
        "colab_type": "code",
        "outputId": "fd8909d2-5b06-4ad0-c318-a99d9adff7e2",
        "colab": {
          "base_uri": "https://localhost:8080/",
          "height": 102
        }
      },
      "cell_type": "code",
      "source": [
        "data = pd.Series(np.random.randn(4),index=[l1,l2])\n",
        "data"
      ],
      "execution_count": 0,
      "outputs": [
        {
          "output_type": "execute_result",
          "data": {
            "text/plain": [
              "2018-01-01 00:00:00  2018-01-01 01:00:00    0.441518\n",
              "                     2018-01-01 02:00:00   -0.406959\n",
              "2018-01-01 01:00:00  2018-01-01 02:00:00   -0.132549\n",
              "                     2018-01-01 03:00:00    0.710570\n",
              "dtype: float64"
            ]
          },
          "metadata": {
            "tags": []
          },
          "execution_count": 19
        }
      ]
    },
    {
      "metadata": {
        "id": "Dke7gRKFf8qG",
        "colab_type": "code",
        "outputId": "65e82119-417a-4ee9-babf-8934587cd5e9",
        "colab": {
          "base_uri": "https://localhost:8080/",
          "height": 102
        }
      },
      "cell_type": "code",
      "source": [
        "# now try to localize the first axis\n",
        "data1 = data.tz_localize('Europe/Amsterdam',level=0)\n",
        "data1"
      ],
      "execution_count": 0,
      "outputs": [
        {
          "output_type": "execute_result",
          "data": {
            "text/plain": [
              "2018-01-01 00:00:00+01:00  2018-01-01 01:00:00    0.441518\n",
              "                           2018-01-01 02:00:00   -0.406959\n",
              "2018-01-01 01:00:00+01:00  2018-01-01 02:00:00   -0.132549\n",
              "                           2018-01-01 03:00:00    0.710570\n",
              "dtype: float64"
            ]
          },
          "metadata": {
            "tags": []
          },
          "execution_count": 20
        }
      ]
    },
    {
      "metadata": {
        "id": "2hm_JIOtj9ll",
        "colab_type": "code",
        "outputId": "38608a30-4e1f-4c7c-e881-d980529b3610",
        "colab": {
          "base_uri": "https://localhost:8080/",
          "height": 102
        }
      },
      "cell_type": "code",
      "source": [
        "# localize the 2nd axis\n",
        "data2 = data1.tz_localize('Europe/Amsterdam',level=1)\n",
        "data2"
      ],
      "execution_count": 0,
      "outputs": [
        {
          "output_type": "execute_result",
          "data": {
            "text/plain": [
              "2018-01-01 00:00:00+01:00  2018-01-01 01:00:00+01:00    0.441518\n",
              "                           2018-01-01 02:00:00+01:00   -0.406959\n",
              "2018-01-01 01:00:00+01:00  2018-01-01 02:00:00+01:00   -0.132549\n",
              "                           2018-01-01 03:00:00+01:00    0.710570\n",
              "dtype: float64"
            ]
          },
          "metadata": {
            "tags": []
          },
          "execution_count": 21
        }
      ]
    },
    {
      "metadata": {
        "id": "egbCtrpMnhkX",
        "colab_type": "code",
        "outputId": "3d0e9570-0161-47e0-b233-4cd33f6b99b3",
        "colab": {
          "base_uri": "https://localhost:8080/",
          "height": 68
        }
      },
      "cell_type": "code",
      "source": [
        "# slice first level\n",
        "data2[dt.datetime(2018,1,1,1,0)]"
      ],
      "execution_count": 0,
      "outputs": [
        {
          "output_type": "execute_result",
          "data": {
            "text/plain": [
              "2018-01-01 02:00:00+01:00   -0.132549\n",
              "2018-01-01 03:00:00+01:00    0.710570\n",
              "dtype: float64"
            ]
          },
          "metadata": {
            "tags": []
          },
          "execution_count": 22
        }
      ]
    },
    {
      "metadata": {
        "id": "6hEvIonguB2N",
        "colab_type": "code",
        "outputId": "38ea839c-d1e7-483c-8233-82245f20fb19",
        "colab": {
          "base_uri": "https://localhost:8080/",
          "height": 68
        }
      },
      "cell_type": "code",
      "source": [
        "# slice first levelbut now with loc\n",
        "data2.loc[dt.datetime(2018,1,1,1,0)]"
      ],
      "execution_count": 0,
      "outputs": [
        {
          "output_type": "execute_result",
          "data": {
            "text/plain": [
              "2018-01-01 02:00:00+01:00   -0.132549\n",
              "2018-01-01 03:00:00+01:00    0.710570\n",
              "dtype: float64"
            ]
          },
          "metadata": {
            "tags": []
          },
          "execution_count": 23
        }
      ]
    },
    {
      "metadata": {
        "id": "NFTAQlnfpSPU",
        "colab_type": "code",
        "outputId": "dc5385ae-319b-4a8b-ab25-22c8cfadf954",
        "colab": {
          "base_uri": "https://localhost:8080/",
          "height": 68
        }
      },
      "cell_type": "code",
      "source": [
        "# slice second level\n",
        "data2[:,dt.datetime(2018,1,1,2,0)]"
      ],
      "execution_count": 0,
      "outputs": [
        {
          "output_type": "execute_result",
          "data": {
            "text/plain": [
              "2018-01-01 00:00:00+01:00    0.949548\n",
              "2018-01-01 01:00:00+01:00   -0.454269\n",
              "dtype: float64"
            ]
          },
          "metadata": {
            "tags": []
          },
          "execution_count": 72
        }
      ]
    },
    {
      "metadata": {
        "id": "ugNm5egRsVBO",
        "colab_type": "code",
        "outputId": "93b30f04-3839-42cf-d25b-95f57bf82ad9",
        "colab": {
          "base_uri": "https://localhost:8080/",
          "height": 51
        }
      },
      "cell_type": "code",
      "source": [
        "data2.index[1]"
      ],
      "execution_count": 0,
      "outputs": [
        {
          "output_type": "execute_result",
          "data": {
            "text/plain": [
              "(Timestamp('2018-01-01 00:00:00+0100', tz='Europe/Amsterdam'),\n",
              " Timestamp('2018-01-01 02:00:00+0100', tz='Europe/Amsterdam'))"
            ]
          },
          "metadata": {
            "tags": []
          },
          "execution_count": 73
        }
      ]
    },
    {
      "metadata": {
        "id": "4LNvtQIpu1Jh",
        "colab_type": "code",
        "outputId": "ade3fa68-b3f7-43ac-b2b8-ba1060215c80",
        "colab": {
          "base_uri": "https://localhost:8080/",
          "height": 34
        }
      },
      "cell_type": "code",
      "source": [
        "# naming the index\n",
        "data2.index.names = ['forecast_date','delivery_date']\n",
        "data2.columns = ['rand']\n",
        "data2.columns"
      ],
      "execution_count": 0,
      "outputs": [
        {
          "output_type": "execute_result",
          "data": {
            "text/plain": [
              "['rand']"
            ]
          },
          "metadata": {
            "tags": []
          },
          "execution_count": 74
        }
      ]
    },
    {
      "metadata": {
        "id": "cz9XL8fkyISC",
        "colab_type": "code",
        "outputId": "eb61fe08-2976-4426-f191-0ac4638c11fb",
        "colab": {
          "base_uri": "https://localhost:8080/",
          "height": 119
        }
      },
      "cell_type": "code",
      "source": [
        "data2.rename(columns = ['rand'])\n",
        "data2"
      ],
      "execution_count": 0,
      "outputs": [
        {
          "output_type": "execute_result",
          "data": {
            "text/plain": [
              "forecast_date              delivery_date            \n",
              "2018-01-01 00:00:00+01:00  2018-01-01 01:00:00+01:00    1.010566\n",
              "                           2018-01-01 02:00:00+01:00    0.949548\n",
              "2018-01-01 01:00:00+01:00  2018-01-01 02:00:00+01:00   -0.454269\n",
              "                           2018-01-01 03:00:00+01:00   -0.216232\n",
              "dtype: float64"
            ]
          },
          "metadata": {
            "tags": []
          },
          "execution_count": 75
        }
      ]
    },
    {
      "metadata": {
        "id": "7HpIAyS8zn8r",
        "colab_type": "code",
        "outputId": "24b59dba-c75a-4174-a588-153b9ae8d4ee",
        "colab": {
          "base_uri": "https://localhost:8080/",
          "height": 34
        }
      },
      "cell_type": "code",
      "source": [
        "data2.columns"
      ],
      "execution_count": 0,
      "outputs": [
        {
          "output_type": "execute_result",
          "data": {
            "text/plain": [
              "['rand']"
            ]
          },
          "metadata": {
            "tags": []
          },
          "execution_count": 67
        }
      ]
    },
    {
      "metadata": {
        "id": "rACGyTA4LWWR",
        "colab_type": "text"
      },
      "cell_type": "markdown",
      "source": [
        "### Resample"
      ]
    },
    {
      "metadata": {
        "id": "_mix6WfNLY-C",
        "colab_type": "code",
        "outputId": "6f39ee4e-5fe1-441e-a097-a1a40088f647",
        "colab": {
          "base_uri": "https://localhost:8080/",
          "height": 173
        }
      },
      "cell_type": "code",
      "source": [
        "df = pd.DataFrame(np.arange(1,11),index = pd.date_range(dt.datetime(2018,1,1,0,0),periods=10,freq='15min'),columns=['price'])\n",
        "df.head(4)"
      ],
      "execution_count": 24,
      "outputs": [
        {
          "output_type": "execute_result",
          "data": {
            "text/html": [
              "<div>\n",
              "<style scoped>\n",
              "    .dataframe tbody tr th:only-of-type {\n",
              "        vertical-align: middle;\n",
              "    }\n",
              "\n",
              "    .dataframe tbody tr th {\n",
              "        vertical-align: top;\n",
              "    }\n",
              "\n",
              "    .dataframe thead th {\n",
              "        text-align: right;\n",
              "    }\n",
              "</style>\n",
              "<table border=\"1\" class=\"dataframe\">\n",
              "  <thead>\n",
              "    <tr style=\"text-align: right;\">\n",
              "      <th></th>\n",
              "      <th>price</th>\n",
              "    </tr>\n",
              "  </thead>\n",
              "  <tbody>\n",
              "    <tr>\n",
              "      <th>2018-01-01 00:00:00</th>\n",
              "      <td>1</td>\n",
              "    </tr>\n",
              "    <tr>\n",
              "      <th>2018-01-01 00:15:00</th>\n",
              "      <td>2</td>\n",
              "    </tr>\n",
              "    <tr>\n",
              "      <th>2018-01-01 00:30:00</th>\n",
              "      <td>3</td>\n",
              "    </tr>\n",
              "    <tr>\n",
              "      <th>2018-01-01 00:45:00</th>\n",
              "      <td>4</td>\n",
              "    </tr>\n",
              "  </tbody>\n",
              "</table>\n",
              "</div>"
            ],
            "text/plain": [
              "                     price\n",
              "2018-01-01 00:00:00      1\n",
              "2018-01-01 00:15:00      2\n",
              "2018-01-01 00:30:00      3\n",
              "2018-01-01 00:45:00      4"
            ]
          },
          "metadata": {
            "tags": []
          },
          "execution_count": 24
        }
      ]
    },
    {
      "metadata": {
        "id": "nmwh87_wNdbz",
        "colab_type": "code",
        "outputId": "bcd3410d-22e6-48e2-90ff-3015dc409334",
        "colab": {
          "base_uri": "https://localhost:8080/",
          "height": 142
        }
      },
      "cell_type": "code",
      "source": [
        "# now resample to hourly\n",
        "df_hourly = df.resample('1H').mean()\n",
        "df_hourly.head(4)"
      ],
      "execution_count": 29,
      "outputs": [
        {
          "output_type": "execute_result",
          "data": {
            "text/html": [
              "<div>\n",
              "<style scoped>\n",
              "    .dataframe tbody tr th:only-of-type {\n",
              "        vertical-align: middle;\n",
              "    }\n",
              "\n",
              "    .dataframe tbody tr th {\n",
              "        vertical-align: top;\n",
              "    }\n",
              "\n",
              "    .dataframe thead th {\n",
              "        text-align: right;\n",
              "    }\n",
              "</style>\n",
              "<table border=\"1\" class=\"dataframe\">\n",
              "  <thead>\n",
              "    <tr style=\"text-align: right;\">\n",
              "      <th></th>\n",
              "      <th>price</th>\n",
              "    </tr>\n",
              "  </thead>\n",
              "  <tbody>\n",
              "    <tr>\n",
              "      <th>2018-01-01 00:00:00</th>\n",
              "      <td>2.5</td>\n",
              "    </tr>\n",
              "    <tr>\n",
              "      <th>2018-01-01 01:00:00</th>\n",
              "      <td>6.5</td>\n",
              "    </tr>\n",
              "    <tr>\n",
              "      <th>2018-01-01 02:00:00</th>\n",
              "      <td>9.5</td>\n",
              "    </tr>\n",
              "  </tbody>\n",
              "</table>\n",
              "</div>"
            ],
            "text/plain": [
              "                     price\n",
              "2018-01-01 00:00:00    2.5\n",
              "2018-01-01 01:00:00    6.5\n",
              "2018-01-01 02:00:00    9.5"
            ]
          },
          "metadata": {
            "tags": []
          },
          "execution_count": 29
        }
      ]
    },
    {
      "metadata": {
        "id": "WQPhh7hbuPaQ",
        "colab_type": "code",
        "colab": {
          "base_uri": "https://localhost:8080/",
          "height": 328
        },
        "outputId": "639c913a-6131-4cf8-fe74-8d26b6fe9ff1"
      },
      "cell_type": "code",
      "source": [
        "# now downsample and use pad\n",
        "df_15min = df_hourly.resample('15T').pad()\n",
        "df_15min"
      ],
      "execution_count": 32,
      "outputs": [
        {
          "output_type": "execute_result",
          "data": {
            "text/html": [
              "<div>\n",
              "<style scoped>\n",
              "    .dataframe tbody tr th:only-of-type {\n",
              "        vertical-align: middle;\n",
              "    }\n",
              "\n",
              "    .dataframe tbody tr th {\n",
              "        vertical-align: top;\n",
              "    }\n",
              "\n",
              "    .dataframe thead th {\n",
              "        text-align: right;\n",
              "    }\n",
              "</style>\n",
              "<table border=\"1\" class=\"dataframe\">\n",
              "  <thead>\n",
              "    <tr style=\"text-align: right;\">\n",
              "      <th></th>\n",
              "      <th>price</th>\n",
              "    </tr>\n",
              "  </thead>\n",
              "  <tbody>\n",
              "    <tr>\n",
              "      <th>2018-01-01 00:00:00</th>\n",
              "      <td>2.5</td>\n",
              "    </tr>\n",
              "    <tr>\n",
              "      <th>2018-01-01 00:15:00</th>\n",
              "      <td>2.5</td>\n",
              "    </tr>\n",
              "    <tr>\n",
              "      <th>2018-01-01 00:30:00</th>\n",
              "      <td>2.5</td>\n",
              "    </tr>\n",
              "    <tr>\n",
              "      <th>2018-01-01 00:45:00</th>\n",
              "      <td>2.5</td>\n",
              "    </tr>\n",
              "    <tr>\n",
              "      <th>2018-01-01 01:00:00</th>\n",
              "      <td>6.5</td>\n",
              "    </tr>\n",
              "    <tr>\n",
              "      <th>2018-01-01 01:15:00</th>\n",
              "      <td>6.5</td>\n",
              "    </tr>\n",
              "    <tr>\n",
              "      <th>2018-01-01 01:30:00</th>\n",
              "      <td>6.5</td>\n",
              "    </tr>\n",
              "    <tr>\n",
              "      <th>2018-01-01 01:45:00</th>\n",
              "      <td>6.5</td>\n",
              "    </tr>\n",
              "    <tr>\n",
              "      <th>2018-01-01 02:00:00</th>\n",
              "      <td>9.5</td>\n",
              "    </tr>\n",
              "  </tbody>\n",
              "</table>\n",
              "</div>"
            ],
            "text/plain": [
              "                     price\n",
              "2018-01-01 00:00:00    2.5\n",
              "2018-01-01 00:15:00    2.5\n",
              "2018-01-01 00:30:00    2.5\n",
              "2018-01-01 00:45:00    2.5\n",
              "2018-01-01 01:00:00    6.5\n",
              "2018-01-01 01:15:00    6.5\n",
              "2018-01-01 01:30:00    6.5\n",
              "2018-01-01 01:45:00    6.5\n",
              "2018-01-01 02:00:00    9.5"
            ]
          },
          "metadata": {
            "tags": []
          },
          "execution_count": 32
        }
      ]
    },
    {
      "metadata": {
        "id": "Sh5ILDI0MN3f",
        "colab_type": "code",
        "outputId": "cad12ecb-1912-4f80-bd1f-7bc5ee1787c1",
        "colab": {
          "base_uri": "https://localhost:8080/",
          "height": 34
        }
      },
      "cell_type": "code",
      "source": [
        "np.arange(1,11)"
      ],
      "execution_count": 0,
      "outputs": [
        {
          "output_type": "execute_result",
          "data": {
            "text/plain": [
              "array([ 1,  2,  3,  4,  5,  6,  7,  8,  9, 10])"
            ]
          },
          "metadata": {
            "tags": []
          },
          "execution_count": 160
        }
      ]
    },
    {
      "metadata": {
        "id": "bxKkD4olQIJZ",
        "colab_type": "text"
      },
      "cell_type": "markdown",
      "source": [
        "### Append row"
      ]
    },
    {
      "metadata": {
        "id": "IynIvUWBQM3A",
        "colab_type": "code",
        "outputId": "60b2e331-f289-415b-8e5a-d95bf70830de",
        "colab": {
          "base_uri": "https://localhost:8080/",
          "height": 107
        }
      },
      "cell_type": "code",
      "source": [
        "# Appending a row to df, could be done through list of dicts\n",
        "l = []\n",
        "l.append({'appel':10,'koe':50})\n",
        "l.append({'appel':11,'koe':51})\n",
        "df = pd.DataFrame(l)\n",
        "df"
      ],
      "execution_count": 0,
      "outputs": [
        {
          "output_type": "execute_result",
          "data": {
            "text/html": [
              "<div>\n",
              "<style scoped>\n",
              "    .dataframe tbody tr th:only-of-type {\n",
              "        vertical-align: middle;\n",
              "    }\n",
              "\n",
              "    .dataframe tbody tr th {\n",
              "        vertical-align: top;\n",
              "    }\n",
              "\n",
              "    .dataframe thead th {\n",
              "        text-align: right;\n",
              "    }\n",
              "</style>\n",
              "<table border=\"1\" class=\"dataframe\">\n",
              "  <thead>\n",
              "    <tr style=\"text-align: right;\">\n",
              "      <th></th>\n",
              "      <th>appel</th>\n",
              "      <th>koe</th>\n",
              "    </tr>\n",
              "  </thead>\n",
              "  <tbody>\n",
              "    <tr>\n",
              "      <th>0</th>\n",
              "      <td>10</td>\n",
              "      <td>50</td>\n",
              "    </tr>\n",
              "    <tr>\n",
              "      <th>1</th>\n",
              "      <td>11</td>\n",
              "      <td>51</td>\n",
              "    </tr>\n",
              "  </tbody>\n",
              "</table>\n",
              "</div>"
            ],
            "text/plain": [
              "   appel  koe\n",
              "0     10   50\n",
              "1     11   51"
            ]
          },
          "metadata": {
            "tags": []
          },
          "execution_count": 3
        }
      ]
    },
    {
      "metadata": {
        "id": "WmP06EBuaGtA",
        "colab_type": "text"
      },
      "cell_type": "markdown",
      "source": [
        "### First idx of certain value"
      ]
    },
    {
      "metadata": {
        "id": "43wG0QfcaNDA",
        "colab_type": "code",
        "outputId": "4d825203-0e6c-4c8b-8e26-fc346a82a68e",
        "colab": {
          "base_uri": "https://localhost:8080/",
          "height": 34
        }
      },
      "cell_type": "code",
      "source": [
        "# find the index of the first time price=5\n",
        "df = pd.DataFrame({'name':['apple','banaan','banaan'],'price':[10,19,5]})\n",
        "idx = df['price'] == 5\n",
        "print(idx.idxmax())"
      ],
      "execution_count": 0,
      "outputs": [
        {
          "output_type": "stream",
          "text": [
            "2\n"
          ],
          "name": "stdout"
        }
      ]
    },
    {
      "metadata": {
        "id": "Z1Q-C8cod20I",
        "colab_type": "text"
      },
      "cell_type": "markdown",
      "source": [
        "### df.filter"
      ]
    },
    {
      "metadata": {
        "id": "b82Qd5shd5uI",
        "colab_type": "code",
        "outputId": "117cfc88-9566-4d61-9111-3aeb0e56059a",
        "colab": {
          "base_uri": "https://localhost:8080/",
          "height": 142
        }
      },
      "cell_type": "code",
      "source": [
        "# select only columns in df with 'price' in name\n",
        "df = pd.DataFrame({'name':['apple','banaan','banaan'],'price':[10,19,5],'priceGBP':[22,40,10]})\n",
        "df"
      ],
      "execution_count": 0,
      "outputs": [
        {
          "output_type": "execute_result",
          "data": {
            "text/html": [
              "<div>\n",
              "<style scoped>\n",
              "    .dataframe tbody tr th:only-of-type {\n",
              "        vertical-align: middle;\n",
              "    }\n",
              "\n",
              "    .dataframe tbody tr th {\n",
              "        vertical-align: top;\n",
              "    }\n",
              "\n",
              "    .dataframe thead th {\n",
              "        text-align: right;\n",
              "    }\n",
              "</style>\n",
              "<table border=\"1\" class=\"dataframe\">\n",
              "  <thead>\n",
              "    <tr style=\"text-align: right;\">\n",
              "      <th></th>\n",
              "      <th>name</th>\n",
              "      <th>price</th>\n",
              "      <th>priceGBP</th>\n",
              "    </tr>\n",
              "  </thead>\n",
              "  <tbody>\n",
              "    <tr>\n",
              "      <th>0</th>\n",
              "      <td>apple</td>\n",
              "      <td>10</td>\n",
              "      <td>22</td>\n",
              "    </tr>\n",
              "    <tr>\n",
              "      <th>1</th>\n",
              "      <td>banaan</td>\n",
              "      <td>19</td>\n",
              "      <td>40</td>\n",
              "    </tr>\n",
              "    <tr>\n",
              "      <th>2</th>\n",
              "      <td>banaan</td>\n",
              "      <td>5</td>\n",
              "      <td>10</td>\n",
              "    </tr>\n",
              "  </tbody>\n",
              "</table>\n",
              "</div>"
            ],
            "text/plain": [
              "     name  price  priceGBP\n",
              "0   apple     10        22\n",
              "1  banaan     19        40\n",
              "2  banaan      5        10"
            ]
          },
          "metadata": {
            "tags": []
          },
          "execution_count": 8
        }
      ]
    },
    {
      "metadata": {
        "id": "9y7iGHgceirv",
        "colab_type": "code",
        "outputId": "11ac9a79-0b06-4555-913b-f115f6b1da02",
        "colab": {
          "base_uri": "https://localhost:8080/",
          "height": 142
        }
      },
      "cell_type": "code",
      "source": [
        "df.filter(regex='price')"
      ],
      "execution_count": 0,
      "outputs": [
        {
          "output_type": "execute_result",
          "data": {
            "text/html": [
              "<div>\n",
              "<style scoped>\n",
              "    .dataframe tbody tr th:only-of-type {\n",
              "        vertical-align: middle;\n",
              "    }\n",
              "\n",
              "    .dataframe tbody tr th {\n",
              "        vertical-align: top;\n",
              "    }\n",
              "\n",
              "    .dataframe thead th {\n",
              "        text-align: right;\n",
              "    }\n",
              "</style>\n",
              "<table border=\"1\" class=\"dataframe\">\n",
              "  <thead>\n",
              "    <tr style=\"text-align: right;\">\n",
              "      <th></th>\n",
              "      <th>price</th>\n",
              "      <th>priceGBP</th>\n",
              "    </tr>\n",
              "  </thead>\n",
              "  <tbody>\n",
              "    <tr>\n",
              "      <th>0</th>\n",
              "      <td>10</td>\n",
              "      <td>22</td>\n",
              "    </tr>\n",
              "    <tr>\n",
              "      <th>1</th>\n",
              "      <td>19</td>\n",
              "      <td>40</td>\n",
              "    </tr>\n",
              "    <tr>\n",
              "      <th>2</th>\n",
              "      <td>5</td>\n",
              "      <td>10</td>\n",
              "    </tr>\n",
              "  </tbody>\n",
              "</table>\n",
              "</div>"
            ],
            "text/plain": [
              "   price  priceGBP\n",
              "0     10        22\n",
              "1     19        40\n",
              "2      5        10"
            ]
          },
          "metadata": {
            "tags": []
          },
          "execution_count": 9
        }
      ]
    },
    {
      "metadata": {
        "id": "VpNCrFKRGpkQ",
        "colab_type": "text"
      },
      "cell_type": "markdown",
      "source": [
        "### Stack"
      ]
    },
    {
      "metadata": {
        "id": "WGQ1HXHXGtma",
        "colab_type": "code",
        "outputId": "7d04b648-7a36-4227-dc30-e62fe7d58112",
        "colab": {
          "base_uri": "https://localhost:8080/",
          "height": 204
        }
      },
      "cell_type": "code",
      "source": [
        "df = pd.DataFrame({'20_DOWN':[10,30,100,99],'20_UP':[10,19,5,11],'price':[22,40,10,5],'weight':[1,2,3,8],'day':['Mon','Mon','Tue','Tue'],'Asset':['E','P','E','P']})\n",
        "df = df.set_index(['day','Asset'])\n",
        "df"
      ],
      "execution_count": 0,
      "outputs": [
        {
          "output_type": "execute_result",
          "data": {
            "text/html": [
              "<div>\n",
              "<style scoped>\n",
              "    .dataframe tbody tr th:only-of-type {\n",
              "        vertical-align: middle;\n",
              "    }\n",
              "\n",
              "    .dataframe tbody tr th {\n",
              "        vertical-align: top;\n",
              "    }\n",
              "\n",
              "    .dataframe thead th {\n",
              "        text-align: right;\n",
              "    }\n",
              "</style>\n",
              "<table border=\"1\" class=\"dataframe\">\n",
              "  <thead>\n",
              "    <tr style=\"text-align: right;\">\n",
              "      <th></th>\n",
              "      <th></th>\n",
              "      <th>20_DOWN</th>\n",
              "      <th>20_UP</th>\n",
              "      <th>price</th>\n",
              "      <th>weight</th>\n",
              "    </tr>\n",
              "    <tr>\n",
              "      <th>day</th>\n",
              "      <th>Asset</th>\n",
              "      <th></th>\n",
              "      <th></th>\n",
              "      <th></th>\n",
              "      <th></th>\n",
              "    </tr>\n",
              "  </thead>\n",
              "  <tbody>\n",
              "    <tr>\n",
              "      <th rowspan=\"2\" valign=\"top\">Mon</th>\n",
              "      <th>E</th>\n",
              "      <td>10</td>\n",
              "      <td>10</td>\n",
              "      <td>22</td>\n",
              "      <td>1</td>\n",
              "    </tr>\n",
              "    <tr>\n",
              "      <th>P</th>\n",
              "      <td>30</td>\n",
              "      <td>19</td>\n",
              "      <td>40</td>\n",
              "      <td>2</td>\n",
              "    </tr>\n",
              "    <tr>\n",
              "      <th rowspan=\"2\" valign=\"top\">Tue</th>\n",
              "      <th>E</th>\n",
              "      <td>100</td>\n",
              "      <td>5</td>\n",
              "      <td>10</td>\n",
              "      <td>3</td>\n",
              "    </tr>\n",
              "    <tr>\n",
              "      <th>P</th>\n",
              "      <td>99</td>\n",
              "      <td>11</td>\n",
              "      <td>5</td>\n",
              "      <td>8</td>\n",
              "    </tr>\n",
              "  </tbody>\n",
              "</table>\n",
              "</div>"
            ],
            "text/plain": [
              "           20_DOWN  20_UP  price  weight\n",
              "day Asset                               \n",
              "Mon E           10     10     22       1\n",
              "    P           30     19     40       2\n",
              "Tue E          100      5     10       3\n",
              "    P           99     11      5       8"
            ]
          },
          "metadata": {
            "tags": []
          },
          "execution_count": 25
        }
      ]
    },
    {
      "metadata": {
        "id": "P6yulCdWJ9OV",
        "colab_type": "code",
        "outputId": "e0497893-654a-4ff6-eb73-492113147e3c",
        "colab": {
          "base_uri": "https://localhost:8080/",
          "height": 187
        }
      },
      "cell_type": "code",
      "source": [
        "columns = [i for i in df.columns if '_UP' in i or '_DOWN' in i]\n",
        "df_stack = df[columns].stack()\n",
        "df_stack"
      ],
      "execution_count": 0,
      "outputs": [
        {
          "output_type": "execute_result",
          "data": {
            "text/plain": [
              "day  Asset         \n",
              "Mon  E      20_DOWN     10\n",
              "            20_UP       10\n",
              "     P      20_DOWN     30\n",
              "            20_UP       19\n",
              "Tue  E      20_DOWN    100\n",
              "            20_UP        5\n",
              "     P      20_DOWN     99\n",
              "            20_UP       11\n",
              "dtype: int64"
            ]
          },
          "metadata": {
            "tags": []
          },
          "execution_count": 26
        }
      ]
    },
    {
      "metadata": {
        "id": "7skJ_rRqI5VJ",
        "colab_type": "code",
        "outputId": "a8b38ce9-c4b3-4242-c968-1118795e5a25",
        "colab": {
          "base_uri": "https://localhost:8080/",
          "height": 328
        }
      },
      "cell_type": "code",
      "source": [
        "df_stack2 = pd.DataFrame(df_stack)\n",
        "df_stack2"
      ],
      "execution_count": 0,
      "outputs": [
        {
          "output_type": "execute_result",
          "data": {
            "text/html": [
              "<div>\n",
              "<style scoped>\n",
              "    .dataframe tbody tr th:only-of-type {\n",
              "        vertical-align: middle;\n",
              "    }\n",
              "\n",
              "    .dataframe tbody tr th {\n",
              "        vertical-align: top;\n",
              "    }\n",
              "\n",
              "    .dataframe thead th {\n",
              "        text-align: right;\n",
              "    }\n",
              "</style>\n",
              "<table border=\"1\" class=\"dataframe\">\n",
              "  <thead>\n",
              "    <tr style=\"text-align: right;\">\n",
              "      <th></th>\n",
              "      <th></th>\n",
              "      <th></th>\n",
              "      <th>0</th>\n",
              "    </tr>\n",
              "    <tr>\n",
              "      <th>day</th>\n",
              "      <th>Asset</th>\n",
              "      <th></th>\n",
              "      <th></th>\n",
              "    </tr>\n",
              "  </thead>\n",
              "  <tbody>\n",
              "    <tr>\n",
              "      <th rowspan=\"4\" valign=\"top\">Mon</th>\n",
              "      <th rowspan=\"2\" valign=\"top\">E</th>\n",
              "      <th>20_DOWN</th>\n",
              "      <td>10</td>\n",
              "    </tr>\n",
              "    <tr>\n",
              "      <th>20_UP</th>\n",
              "      <td>10</td>\n",
              "    </tr>\n",
              "    <tr>\n",
              "      <th rowspan=\"2\" valign=\"top\">P</th>\n",
              "      <th>20_DOWN</th>\n",
              "      <td>30</td>\n",
              "    </tr>\n",
              "    <tr>\n",
              "      <th>20_UP</th>\n",
              "      <td>19</td>\n",
              "    </tr>\n",
              "    <tr>\n",
              "      <th rowspan=\"4\" valign=\"top\">Tue</th>\n",
              "      <th rowspan=\"2\" valign=\"top\">E</th>\n",
              "      <th>20_DOWN</th>\n",
              "      <td>100</td>\n",
              "    </tr>\n",
              "    <tr>\n",
              "      <th>20_UP</th>\n",
              "      <td>5</td>\n",
              "    </tr>\n",
              "    <tr>\n",
              "      <th rowspan=\"2\" valign=\"top\">P</th>\n",
              "      <th>20_DOWN</th>\n",
              "      <td>99</td>\n",
              "    </tr>\n",
              "    <tr>\n",
              "      <th>20_UP</th>\n",
              "      <td>11</td>\n",
              "    </tr>\n",
              "  </tbody>\n",
              "</table>\n",
              "</div>"
            ],
            "text/plain": [
              "                     0\n",
              "day Asset             \n",
              "Mon E     20_DOWN   10\n",
              "          20_UP     10\n",
              "    P     20_DOWN   30\n",
              "          20_UP     19\n",
              "Tue E     20_DOWN  100\n",
              "          20_UP      5\n",
              "    P     20_DOWN   99\n",
              "          20_UP     11"
            ]
          },
          "metadata": {
            "tags": []
          },
          "execution_count": 27
        }
      ]
    },
    {
      "metadata": {
        "id": "ink-oVzDK6TX",
        "colab_type": "code",
        "outputId": "8c68392e-c551-46fc-f532-6539b5cc6f03",
        "colab": {
          "base_uri": "https://localhost:8080/",
          "height": 34
        }
      },
      "cell_type": "code",
      "source": [
        "columns = [i for i in df_stack2.reset_index().columns] + ['price','weight']\n",
        "columns"
      ],
      "execution_count": 0,
      "outputs": [
        {
          "output_type": "execute_result",
          "data": {
            "text/plain": [
              "['day', 'Asset', 'level_2', 0, 'price', 'weight']"
            ]
          },
          "metadata": {
            "tags": []
          },
          "execution_count": 28
        }
      ]
    },
    {
      "metadata": {
        "id": "-0Ln2IIPLGz-",
        "colab_type": "code",
        "outputId": "932c9ae9-c460-48de-aff2-f36fdb8a3576",
        "colab": {
          "base_uri": "https://localhost:8080/",
          "height": 297
        }
      },
      "cell_type": "code",
      "source": [
        "pd.merge(df_stack2.reset_index(),\n",
        "                         df.reset_index(),\n",
        "                         on=['day', 'Asset'],\n",
        "                         how='inner')[columns]"
      ],
      "execution_count": 0,
      "outputs": [
        {
          "output_type": "execute_result",
          "data": {
            "text/html": [
              "<div>\n",
              "<style scoped>\n",
              "    .dataframe tbody tr th:only-of-type {\n",
              "        vertical-align: middle;\n",
              "    }\n",
              "\n",
              "    .dataframe tbody tr th {\n",
              "        vertical-align: top;\n",
              "    }\n",
              "\n",
              "    .dataframe thead th {\n",
              "        text-align: right;\n",
              "    }\n",
              "</style>\n",
              "<table border=\"1\" class=\"dataframe\">\n",
              "  <thead>\n",
              "    <tr style=\"text-align: right;\">\n",
              "      <th></th>\n",
              "      <th>day</th>\n",
              "      <th>Asset</th>\n",
              "      <th>level_2</th>\n",
              "      <th>0</th>\n",
              "      <th>price</th>\n",
              "      <th>weight</th>\n",
              "    </tr>\n",
              "  </thead>\n",
              "  <tbody>\n",
              "    <tr>\n",
              "      <th>0</th>\n",
              "      <td>Mon</td>\n",
              "      <td>E</td>\n",
              "      <td>20_DOWN</td>\n",
              "      <td>10</td>\n",
              "      <td>22</td>\n",
              "      <td>1</td>\n",
              "    </tr>\n",
              "    <tr>\n",
              "      <th>1</th>\n",
              "      <td>Mon</td>\n",
              "      <td>E</td>\n",
              "      <td>20_UP</td>\n",
              "      <td>10</td>\n",
              "      <td>22</td>\n",
              "      <td>1</td>\n",
              "    </tr>\n",
              "    <tr>\n",
              "      <th>2</th>\n",
              "      <td>Mon</td>\n",
              "      <td>P</td>\n",
              "      <td>20_DOWN</td>\n",
              "      <td>30</td>\n",
              "      <td>40</td>\n",
              "      <td>2</td>\n",
              "    </tr>\n",
              "    <tr>\n",
              "      <th>3</th>\n",
              "      <td>Mon</td>\n",
              "      <td>P</td>\n",
              "      <td>20_UP</td>\n",
              "      <td>19</td>\n",
              "      <td>40</td>\n",
              "      <td>2</td>\n",
              "    </tr>\n",
              "    <tr>\n",
              "      <th>4</th>\n",
              "      <td>Tue</td>\n",
              "      <td>E</td>\n",
              "      <td>20_DOWN</td>\n",
              "      <td>100</td>\n",
              "      <td>10</td>\n",
              "      <td>3</td>\n",
              "    </tr>\n",
              "    <tr>\n",
              "      <th>5</th>\n",
              "      <td>Tue</td>\n",
              "      <td>E</td>\n",
              "      <td>20_UP</td>\n",
              "      <td>5</td>\n",
              "      <td>10</td>\n",
              "      <td>3</td>\n",
              "    </tr>\n",
              "    <tr>\n",
              "      <th>6</th>\n",
              "      <td>Tue</td>\n",
              "      <td>P</td>\n",
              "      <td>20_DOWN</td>\n",
              "      <td>99</td>\n",
              "      <td>5</td>\n",
              "      <td>8</td>\n",
              "    </tr>\n",
              "    <tr>\n",
              "      <th>7</th>\n",
              "      <td>Tue</td>\n",
              "      <td>P</td>\n",
              "      <td>20_UP</td>\n",
              "      <td>11</td>\n",
              "      <td>5</td>\n",
              "      <td>8</td>\n",
              "    </tr>\n",
              "  </tbody>\n",
              "</table>\n",
              "</div>"
            ],
            "text/plain": [
              "   day Asset  level_2    0  price  weight\n",
              "0  Mon     E  20_DOWN   10     22       1\n",
              "1  Mon     E    20_UP   10     22       1\n",
              "2  Mon     P  20_DOWN   30     40       2\n",
              "3  Mon     P    20_UP   19     40       2\n",
              "4  Tue     E  20_DOWN  100     10       3\n",
              "5  Tue     E    20_UP    5     10       3\n",
              "6  Tue     P  20_DOWN   99      5       8\n",
              "7  Tue     P    20_UP   11      5       8"
            ]
          },
          "metadata": {
            "tags": []
          },
          "execution_count": 29
        }
      ]
    },
    {
      "metadata": {
        "id": "rWLPOtcgEkJr",
        "colab_type": "text"
      },
      "cell_type": "markdown",
      "source": [
        "### Chain"
      ]
    },
    {
      "metadata": {
        "id": "3s2YzjwID9be",
        "colab_type": "code",
        "outputId": "93497f34-e6b4-4745-88d4-59ebd20308b6",
        "colab": {
          "base_uri": "https://localhost:8080/",
          "height": 173
        }
      },
      "cell_type": "code",
      "source": [
        "df = pd.DataFrame({'price':[22,40,10,5],'weight':[1,2,3,8]})\n",
        "df_new = df.drop(['price'],axis=1).rename(columns = {'weight':'weight_gr'})\n",
        "df_new"
      ],
      "execution_count": 0,
      "outputs": [
        {
          "output_type": "execute_result",
          "data": {
            "text/html": [
              "<div>\n",
              "<style scoped>\n",
              "    .dataframe tbody tr th:only-of-type {\n",
              "        vertical-align: middle;\n",
              "    }\n",
              "\n",
              "    .dataframe tbody tr th {\n",
              "        vertical-align: top;\n",
              "    }\n",
              "\n",
              "    .dataframe thead th {\n",
              "        text-align: right;\n",
              "    }\n",
              "</style>\n",
              "<table border=\"1\" class=\"dataframe\">\n",
              "  <thead>\n",
              "    <tr style=\"text-align: right;\">\n",
              "      <th></th>\n",
              "      <th>weight_gr</th>\n",
              "    </tr>\n",
              "  </thead>\n",
              "  <tbody>\n",
              "    <tr>\n",
              "      <th>0</th>\n",
              "      <td>1</td>\n",
              "    </tr>\n",
              "    <tr>\n",
              "      <th>1</th>\n",
              "      <td>2</td>\n",
              "    </tr>\n",
              "    <tr>\n",
              "      <th>2</th>\n",
              "      <td>3</td>\n",
              "    </tr>\n",
              "    <tr>\n",
              "      <th>3</th>\n",
              "      <td>8</td>\n",
              "    </tr>\n",
              "  </tbody>\n",
              "</table>\n",
              "</div>"
            ],
            "text/plain": [
              "   weight_gr\n",
              "0          1\n",
              "1          2\n",
              "2          3\n",
              "3          8"
            ]
          },
          "metadata": {
            "tags": []
          },
          "execution_count": 30
        }
      ]
    },
    {
      "metadata": {
        "id": "fJI_MloRrBrO",
        "colab_type": "text"
      },
      "cell_type": "markdown",
      "source": [
        "### Update"
      ]
    },
    {
      "metadata": {
        "id": "OoZPRFJWrD_K",
        "colab_type": "code",
        "colab": {
          "base_uri": "https://localhost:8080/",
          "height": 142
        },
        "outputId": "afcb3f24-6f64-42a0-fa0e-3db19a35bc2a"
      },
      "cell_type": "code",
      "source": [
        "# Update existing df\n",
        "index = pd.date_range(dt.date(2018,1,1),periods=3,freq='D')\n",
        "columns = ['weigt','price']\n",
        "df1 = pd.DataFrame(index=index,columns=columns)\n",
        "df1"
      ],
      "execution_count": 21,
      "outputs": [
        {
          "output_type": "execute_result",
          "data": {
            "text/html": [
              "<div>\n",
              "<style scoped>\n",
              "    .dataframe tbody tr th:only-of-type {\n",
              "        vertical-align: middle;\n",
              "    }\n",
              "\n",
              "    .dataframe tbody tr th {\n",
              "        vertical-align: top;\n",
              "    }\n",
              "\n",
              "    .dataframe thead th {\n",
              "        text-align: right;\n",
              "    }\n",
              "</style>\n",
              "<table border=\"1\" class=\"dataframe\">\n",
              "  <thead>\n",
              "    <tr style=\"text-align: right;\">\n",
              "      <th></th>\n",
              "      <th>weigt</th>\n",
              "      <th>price</th>\n",
              "    </tr>\n",
              "  </thead>\n",
              "  <tbody>\n",
              "    <tr>\n",
              "      <th>2018-01-01</th>\n",
              "      <td>NaN</td>\n",
              "      <td>NaN</td>\n",
              "    </tr>\n",
              "    <tr>\n",
              "      <th>2018-01-02</th>\n",
              "      <td>NaN</td>\n",
              "      <td>NaN</td>\n",
              "    </tr>\n",
              "    <tr>\n",
              "      <th>2018-01-03</th>\n",
              "      <td>NaN</td>\n",
              "      <td>NaN</td>\n",
              "    </tr>\n",
              "  </tbody>\n",
              "</table>\n",
              "</div>"
            ],
            "text/plain": [
              "           weigt price\n",
              "2018-01-01   NaN   NaN\n",
              "2018-01-02   NaN   NaN\n",
              "2018-01-03   NaN   NaN"
            ]
          },
          "metadata": {
            "tags": []
          },
          "execution_count": 21
        }
      ]
    },
    {
      "metadata": {
        "id": "AUSwHMPTrern",
        "colab_type": "code",
        "colab": {
          "base_uri": "https://localhost:8080/",
          "height": 111
        },
        "outputId": "197f04fa-bd87-4ccb-8717-5843482337d6"
      },
      "cell_type": "code",
      "source": [
        "index = pd.date_range(dt.date(2018,1,1),periods=2,freq='D')\n",
        "df2 = pd.DataFrame(data = {'price':[10,19]})\n",
        "df2.set_index(index,inplace=True)\n",
        "df2"
      ],
      "execution_count": 22,
      "outputs": [
        {
          "output_type": "execute_result",
          "data": {
            "text/html": [
              "<div>\n",
              "<style scoped>\n",
              "    .dataframe tbody tr th:only-of-type {\n",
              "        vertical-align: middle;\n",
              "    }\n",
              "\n",
              "    .dataframe tbody tr th {\n",
              "        vertical-align: top;\n",
              "    }\n",
              "\n",
              "    .dataframe thead th {\n",
              "        text-align: right;\n",
              "    }\n",
              "</style>\n",
              "<table border=\"1\" class=\"dataframe\">\n",
              "  <thead>\n",
              "    <tr style=\"text-align: right;\">\n",
              "      <th></th>\n",
              "      <th>price</th>\n",
              "    </tr>\n",
              "  </thead>\n",
              "  <tbody>\n",
              "    <tr>\n",
              "      <th>2018-01-01</th>\n",
              "      <td>10</td>\n",
              "    </tr>\n",
              "    <tr>\n",
              "      <th>2018-01-02</th>\n",
              "      <td>19</td>\n",
              "    </tr>\n",
              "  </tbody>\n",
              "</table>\n",
              "</div>"
            ],
            "text/plain": [
              "            price\n",
              "2018-01-01     10\n",
              "2018-01-02     19"
            ]
          },
          "metadata": {
            "tags": []
          },
          "execution_count": 22
        }
      ]
    },
    {
      "metadata": {
        "id": "FM1HkFwftJFr",
        "colab_type": "code",
        "colab": {
          "base_uri": "https://localhost:8080/",
          "height": 142
        },
        "outputId": "214327af-7305-4fb0-9d35-f21f5a745a4e"
      },
      "cell_type": "code",
      "source": [
        "# now use update\n",
        "df1.update(df2)\n",
        "df1"
      ],
      "execution_count": 23,
      "outputs": [
        {
          "output_type": "execute_result",
          "data": {
            "text/html": [
              "<div>\n",
              "<style scoped>\n",
              "    .dataframe tbody tr th:only-of-type {\n",
              "        vertical-align: middle;\n",
              "    }\n",
              "\n",
              "    .dataframe tbody tr th {\n",
              "        vertical-align: top;\n",
              "    }\n",
              "\n",
              "    .dataframe thead th {\n",
              "        text-align: right;\n",
              "    }\n",
              "</style>\n",
              "<table border=\"1\" class=\"dataframe\">\n",
              "  <thead>\n",
              "    <tr style=\"text-align: right;\">\n",
              "      <th></th>\n",
              "      <th>weigt</th>\n",
              "      <th>price</th>\n",
              "    </tr>\n",
              "  </thead>\n",
              "  <tbody>\n",
              "    <tr>\n",
              "      <th>2018-01-01</th>\n",
              "      <td>NaN</td>\n",
              "      <td>10</td>\n",
              "    </tr>\n",
              "    <tr>\n",
              "      <th>2018-01-02</th>\n",
              "      <td>NaN</td>\n",
              "      <td>19</td>\n",
              "    </tr>\n",
              "    <tr>\n",
              "      <th>2018-01-03</th>\n",
              "      <td>NaN</td>\n",
              "      <td>NaN</td>\n",
              "    </tr>\n",
              "  </tbody>\n",
              "</table>\n",
              "</div>"
            ],
            "text/plain": [
              "           weigt price\n",
              "2018-01-01   NaN    10\n",
              "2018-01-02   NaN    19\n",
              "2018-01-03   NaN   NaN"
            ]
          },
          "metadata": {
            "tags": []
          },
          "execution_count": 23
        }
      ]
    },
    {
      "metadata": {
        "id": "i_8ANdg-TOuU",
        "colab_type": "text"
      },
      "cell_type": "markdown",
      "source": [
        "## Apply and Map"
      ]
    },
    {
      "metadata": {
        "id": "wAkl7EkDP_aM",
        "colab_type": "code",
        "outputId": "e75b7502-483c-4964-f3ec-6acc09cca6db",
        "colab": {
          "base_uri": "https://localhost:8080/",
          "height": 137
        }
      },
      "cell_type": "code",
      "source": [
        "# make new column using the map function\n",
        "# http://book.pythontips.com/en/latest/map_filter.html\n",
        "df = pd.DataFrame({'name':['apple','banaan','peer'],'price':[10,19,33]})\n",
        "df['price_sqr_map'] = list(map(lambda x: x**2, df['price']))\n",
        "df.head()"
      ],
      "execution_count": 0,
      "outputs": [
        {
          "output_type": "execute_result",
          "data": {
            "text/html": [
              "<div>\n",
              "<style scoped>\n",
              "    .dataframe tbody tr th:only-of-type {\n",
              "        vertical-align: middle;\n",
              "    }\n",
              "\n",
              "    .dataframe tbody tr th {\n",
              "        vertical-align: top;\n",
              "    }\n",
              "\n",
              "    .dataframe thead th {\n",
              "        text-align: right;\n",
              "    }\n",
              "</style>\n",
              "<table border=\"1\" class=\"dataframe\">\n",
              "  <thead>\n",
              "    <tr style=\"text-align: right;\">\n",
              "      <th></th>\n",
              "      <th>name</th>\n",
              "      <th>price</th>\n",
              "      <th>price_sqr_map</th>\n",
              "    </tr>\n",
              "  </thead>\n",
              "  <tbody>\n",
              "    <tr>\n",
              "      <th>0</th>\n",
              "      <td>apple</td>\n",
              "      <td>10</td>\n",
              "      <td>100</td>\n",
              "    </tr>\n",
              "    <tr>\n",
              "      <th>1</th>\n",
              "      <td>banaan</td>\n",
              "      <td>19</td>\n",
              "      <td>361</td>\n",
              "    </tr>\n",
              "    <tr>\n",
              "      <th>2</th>\n",
              "      <td>peer</td>\n",
              "      <td>33</td>\n",
              "      <td>1089</td>\n",
              "    </tr>\n",
              "  </tbody>\n",
              "</table>\n",
              "</div>"
            ],
            "text/plain": [
              "     name  price  price_sqr_map\n",
              "0   apple     10            100\n",
              "1  banaan     19            361\n",
              "2    peer     33           1089"
            ]
          },
          "metadata": {
            "tags": []
          },
          "execution_count": 161
        }
      ]
    },
    {
      "metadata": {
        "id": "BSWPP13VRVh6",
        "colab_type": "code",
        "outputId": "fd32e941-6043-4f4f-d855-a4f29701800b",
        "colab": {
          "base_uri": "https://localhost:8080/",
          "height": 137
        }
      },
      "cell_type": "code",
      "source": [
        "# make new column using the map function, add price + price_sqr\n",
        "# http://pythonfiddle.com/map-with-multiple-arguments/\n",
        "df['price_sqr_map2'] = list(map(lambda x,y: x+y, df['price'],df['price_sqr_map']))\n",
        "df.head()"
      ],
      "execution_count": 0,
      "outputs": [
        {
          "output_type": "execute_result",
          "data": {
            "text/html": [
              "<div>\n",
              "<style scoped>\n",
              "    .dataframe tbody tr th:only-of-type {\n",
              "        vertical-align: middle;\n",
              "    }\n",
              "\n",
              "    .dataframe tbody tr th {\n",
              "        vertical-align: top;\n",
              "    }\n",
              "\n",
              "    .dataframe thead th {\n",
              "        text-align: right;\n",
              "    }\n",
              "</style>\n",
              "<table border=\"1\" class=\"dataframe\">\n",
              "  <thead>\n",
              "    <tr style=\"text-align: right;\">\n",
              "      <th></th>\n",
              "      <th>name</th>\n",
              "      <th>price</th>\n",
              "      <th>price_sqr_map</th>\n",
              "      <th>price_sqr_map2</th>\n",
              "    </tr>\n",
              "  </thead>\n",
              "  <tbody>\n",
              "    <tr>\n",
              "      <th>0</th>\n",
              "      <td>apple</td>\n",
              "      <td>10</td>\n",
              "      <td>100</td>\n",
              "      <td>110</td>\n",
              "    </tr>\n",
              "    <tr>\n",
              "      <th>1</th>\n",
              "      <td>banaan</td>\n",
              "      <td>19</td>\n",
              "      <td>361</td>\n",
              "      <td>380</td>\n",
              "    </tr>\n",
              "    <tr>\n",
              "      <th>2</th>\n",
              "      <td>peer</td>\n",
              "      <td>33</td>\n",
              "      <td>1089</td>\n",
              "      <td>1122</td>\n",
              "    </tr>\n",
              "  </tbody>\n",
              "</table>\n",
              "</div>"
            ],
            "text/plain": [
              "     name  price  price_sqr_map  price_sqr_map2\n",
              "0   apple     10            100             110\n",
              "1  banaan     19            361             380\n",
              "2    peer     33           1089            1122"
            ]
          },
          "metadata": {
            "tags": []
          },
          "execution_count": 162
        }
      ]
    },
    {
      "metadata": {
        "id": "MPQnj9e9TtQl",
        "colab_type": "text"
      },
      "cell_type": "markdown",
      "source": [
        "## Dates"
      ]
    },
    {
      "metadata": {
        "id": "2jBIHk7A-rzy",
        "colab_type": "text"
      },
      "cell_type": "markdown",
      "source": [
        "### General"
      ]
    },
    {
      "metadata": {
        "id": "k5WI10DCVSpL",
        "colab_type": "code",
        "outputId": "6e5779b0-eab0-4499-b6d6-3dd3f67da254",
        "colab": {
          "base_uri": "https://localhost:8080/",
          "height": 70
        }
      },
      "cell_type": "code",
      "source": [
        "# create datetime object\n",
        "a = dt.datetime(2018,5,9,0,0) # constructor, a datetime object a is created \n",
        "b = dt.datetime.today() # constructor\n",
        "c = dt.date(2018,10,28)\n",
        "print(a)\n",
        "print (b)\n",
        "print(c)"
      ],
      "execution_count": 0,
      "outputs": [
        {
          "output_type": "stream",
          "text": [
            "2018-05-09 00:00:00\n",
            "2018-07-22 10:51:59.104516\n",
            "2018-10-28\n"
          ],
          "name": "stdout"
        }
      ]
    },
    {
      "metadata": {
        "id": "WGAwB9xKXq4e",
        "colab_type": "code",
        "outputId": "c3d615db-a788-4513-83da-cd17476fea6d",
        "colab": {
          "base_uri": "https://localhost:8080/",
          "height": 105
        }
      },
      "cell_type": "code",
      "source": [
        "# the object has several attributes\n",
        "print (a.year)\n",
        "print (a.month)\n",
        "print(a.date())\n",
        "print(a.isoweekday()) #day of the week as an integer, where Monday is 1 and Sunday is 7\n",
        "print(a.isocalendar()[1]) # gets weeknum"
      ],
      "execution_count": 0,
      "outputs": [
        {
          "output_type": "stream",
          "text": [
            "2018\n",
            "5\n",
            "2018-05-09\n",
            "3\n",
            "19\n"
          ],
          "name": "stdout"
        }
      ]
    },
    {
      "metadata": {
        "id": "udlwA_-0WFvb",
        "colab_type": "code",
        "outputId": "2f936899-6247-4d3e-f96f-725d6e71d2c0",
        "colab": {
          "base_uri": "https://localhost:8080/",
          "height": 34
        }
      },
      "cell_type": "code",
      "source": [
        "# Conversely, the datetime.strptime() class method creates a datetime object from a string representing a date and time and a corresponding format string\n",
        "a = dt.datetime.strptime('2018-05-09',\"%Y-%m-%d\")\n",
        "print(a)"
      ],
      "execution_count": 0,
      "outputs": [
        {
          "output_type": "stream",
          "text": [
            "2018-05-09 00:00:00\n"
          ],
          "name": "stdout"
        }
      ]
    },
    {
      "metadata": {
        "id": "TgxlAIqIY5lP",
        "colab_type": "code",
        "outputId": "4b14beb8-65a5-422e-83e1-88d9474526b1",
        "colab": {
          "base_uri": "https://localhost:8080/",
          "height": 70
        }
      },
      "cell_type": "code",
      "source": [
        "# convert to string with format\n",
        "print(a.strftime(\"%Y-%m-%d\"))\n",
        "print(a.strftime(\"%Y%m%d\"))\n",
        "print(type(a.strftime(\"%Y%m%d\")))"
      ],
      "execution_count": 0,
      "outputs": [
        {
          "output_type": "stream",
          "text": [
            "2018-05-09\n",
            "20180509\n",
            "<type 'str'>\n"
          ],
          "name": "stdout"
        }
      ]
    },
    {
      "metadata": {
        "id": "nFs_XTT0eNID",
        "colab_type": "code",
        "outputId": "70e8348a-0be5-4f81-e202-fad9334eacdc",
        "colab": {
          "base_uri": "https://localhost:8080/",
          "height": 70
        }
      },
      "cell_type": "code",
      "source": [
        "# make dataframe with only index\n",
        "\n",
        "startdate=dt.datetime(2018,1,1,0,0)\n",
        "enddate=dt.datetime(2018,12,31,23,59)\n",
        "\n",
        "delivery_date = pd.date_range(startdate,enddate,freq='1H',tz='Europe/Amsterdam')\n",
        "df = pd.DataFrame(index = delivery_date) \n",
        "df.reset_index(inplace=True)\n",
        "df.rename(columns={'index':'delivery_date'},inplace=True)\n",
        "print(df.tail(2))"
      ],
      "execution_count": 0,
      "outputs": [
        {
          "output_type": "stream",
          "text": [
            "                 delivery_date\n",
            "8758 2018-12-31 22:00:00+01:00\n",
            "8759 2018-12-31 23:00:00+01:00\n"
          ],
          "name": "stdout"
        }
      ]
    },
    {
      "metadata": {
        "id": "Qu_uBNvmeZej",
        "colab_type": "code",
        "outputId": "8dc6b8f8-1a43-4259-c1b3-e30f0e78758c",
        "colab": {
          "base_uri": "https://localhost:8080/",
          "height": 70
        }
      },
      "cell_type": "code",
      "source": [
        "# convert datetime to date\n",
        "df['date'] = df['delivery_date'].apply(lambda x: x.date())\n",
        "print(df.tail(2))"
      ],
      "execution_count": 0,
      "outputs": [
        {
          "output_type": "stream",
          "text": [
            "                 delivery_date        date\n",
            "8758 2018-12-31 22:00:00+01:00  2018-12-31\n",
            "8759 2018-12-31 23:00:00+01:00  2018-12-31\n"
          ],
          "name": "stdout"
        }
      ]
    },
    {
      "metadata": {
        "id": "inNvMTUXfU2Z",
        "colab_type": "code",
        "outputId": "b58eee46-194b-41ee-b7a7-86c4c094f557",
        "colab": {
          "base_uri": "https://localhost:8080/",
          "height": 137
        }
      },
      "cell_type": "code",
      "source": [
        "# convert to utc\n",
        "df.index = df['delivery_date'] \n",
        "df.index = df.index.tz_convert('UTC') # tz_convert only works on index, as index is unique\n",
        "df['delivery_date_utc'] = df.index\n",
        "df.tail(2)"
      ],
      "execution_count": 0,
      "outputs": [
        {
          "output_type": "execute_result",
          "data": {
            "text/html": [
              "<div>\n",
              "<style scoped>\n",
              "    .dataframe tbody tr th:only-of-type {\n",
              "        vertical-align: middle;\n",
              "    }\n",
              "\n",
              "    .dataframe tbody tr th {\n",
              "        vertical-align: top;\n",
              "    }\n",
              "\n",
              "    .dataframe thead th {\n",
              "        text-align: right;\n",
              "    }\n",
              "</style>\n",
              "<table border=\"1\" class=\"dataframe\">\n",
              "  <thead>\n",
              "    <tr style=\"text-align: right;\">\n",
              "      <th></th>\n",
              "      <th>delivery_date</th>\n",
              "      <th>date</th>\n",
              "      <th>delivery_date_utc</th>\n",
              "    </tr>\n",
              "    <tr>\n",
              "      <th>delivery_date</th>\n",
              "      <th></th>\n",
              "      <th></th>\n",
              "      <th></th>\n",
              "    </tr>\n",
              "  </thead>\n",
              "  <tbody>\n",
              "    <tr>\n",
              "      <th>2018-12-31 21:00:00+00:00</th>\n",
              "      <td>2018-12-31 22:00:00+01:00</td>\n",
              "      <td>2018-12-31</td>\n",
              "      <td>2018-12-31 21:00:00+00:00</td>\n",
              "    </tr>\n",
              "    <tr>\n",
              "      <th>2018-12-31 22:00:00+00:00</th>\n",
              "      <td>2018-12-31 23:00:00+01:00</td>\n",
              "      <td>2018-12-31</td>\n",
              "      <td>2018-12-31 22:00:00+00:00</td>\n",
              "    </tr>\n",
              "  </tbody>\n",
              "</table>\n",
              "</div>"
            ],
            "text/plain": [
              "                                      delivery_date        date  \\\n",
              "delivery_date                                                     \n",
              "2018-12-31 21:00:00+00:00 2018-12-31 22:00:00+01:00  2018-12-31   \n",
              "2018-12-31 22:00:00+00:00 2018-12-31 23:00:00+01:00  2018-12-31   \n",
              "\n",
              "                                  delivery_date_utc  \n",
              "delivery_date                                        \n",
              "2018-12-31 21:00:00+00:00 2018-12-31 21:00:00+00:00  \n",
              "2018-12-31 22:00:00+00:00 2018-12-31 22:00:00+00:00  "
            ]
          },
          "metadata": {
            "tags": []
          },
          "execution_count": 169
        }
      ]
    },
    {
      "metadata": {
        "id": "Z3Iocgd6P9l0",
        "colab_type": "code",
        "outputId": "b37894aa-d1ed-4a81-aa74-a2a593e86cba",
        "colab": {
          "base_uri": "https://localhost:8080/",
          "height": 167
        }
      },
      "cell_type": "code",
      "source": [
        "# Also the series can be localized\n",
        "df = pd.DataFrame({'ForecastDate':['2018-10-28 01:00:00','2018-10-28 02:00:00','2018-10-28 02:00:00','2018-10-28 03:00:00']})\n",
        "df['ForecastDate_local'] = pd.to_datetime(df['ForecastDate'],format='%Y-%m-%d %H:%M:%S')\n",
        "df.head()"
      ],
      "execution_count": 0,
      "outputs": [
        {
          "output_type": "execute_result",
          "data": {
            "text/html": [
              "<div>\n",
              "<style scoped>\n",
              "    .dataframe tbody tr th:only-of-type {\n",
              "        vertical-align: middle;\n",
              "    }\n",
              "\n",
              "    .dataframe tbody tr th {\n",
              "        vertical-align: top;\n",
              "    }\n",
              "\n",
              "    .dataframe thead th {\n",
              "        text-align: right;\n",
              "    }\n",
              "</style>\n",
              "<table border=\"1\" class=\"dataframe\">\n",
              "  <thead>\n",
              "    <tr style=\"text-align: right;\">\n",
              "      <th></th>\n",
              "      <th>ForecastDate</th>\n",
              "      <th>ForecastDate_local</th>\n",
              "    </tr>\n",
              "  </thead>\n",
              "  <tbody>\n",
              "    <tr>\n",
              "      <th>0</th>\n",
              "      <td>2018-10-28 01:00:00</td>\n",
              "      <td>2018-10-28 01:00:00</td>\n",
              "    </tr>\n",
              "    <tr>\n",
              "      <th>1</th>\n",
              "      <td>2018-10-28 02:00:00</td>\n",
              "      <td>2018-10-28 02:00:00</td>\n",
              "    </tr>\n",
              "    <tr>\n",
              "      <th>2</th>\n",
              "      <td>2018-10-28 02:00:00</td>\n",
              "      <td>2018-10-28 02:00:00</td>\n",
              "    </tr>\n",
              "    <tr>\n",
              "      <th>3</th>\n",
              "      <td>2018-10-28 03:00:00</td>\n",
              "      <td>2018-10-28 03:00:00</td>\n",
              "    </tr>\n",
              "  </tbody>\n",
              "</table>\n",
              "</div>"
            ],
            "text/plain": [
              "          ForecastDate  ForecastDate_local\n",
              "0  2018-10-28 01:00:00 2018-10-28 01:00:00\n",
              "1  2018-10-28 02:00:00 2018-10-28 02:00:00\n",
              "2  2018-10-28 02:00:00 2018-10-28 02:00:00\n",
              "3  2018-10-28 03:00:00 2018-10-28 03:00:00"
            ]
          },
          "metadata": {
            "tags": []
          },
          "execution_count": 170
        }
      ]
    },
    {
      "metadata": {
        "id": "UFX9ADBdR7_0",
        "colab_type": "code",
        "outputId": "fef600f5-910b-4e22-84a5-d29401a64e49",
        "colab": {
          "base_uri": "https://localhost:8080/",
          "height": 167
        }
      },
      "cell_type": "code",
      "source": [
        "# series still time zone naive so make it time zone aware\n",
        "df['ForecastDate_local2'] = df['ForecastDate_local'].dt.tz_localize('Europe/Amsterdam',ambiguous='infer')\n",
        "df.head()"
      ],
      "execution_count": 0,
      "outputs": [
        {
          "output_type": "execute_result",
          "data": {
            "text/html": [
              "<div>\n",
              "<style scoped>\n",
              "    .dataframe tbody tr th:only-of-type {\n",
              "        vertical-align: middle;\n",
              "    }\n",
              "\n",
              "    .dataframe tbody tr th {\n",
              "        vertical-align: top;\n",
              "    }\n",
              "\n",
              "    .dataframe thead th {\n",
              "        text-align: right;\n",
              "    }\n",
              "</style>\n",
              "<table border=\"1\" class=\"dataframe\">\n",
              "  <thead>\n",
              "    <tr style=\"text-align: right;\">\n",
              "      <th></th>\n",
              "      <th>ForecastDate</th>\n",
              "      <th>ForecastDate_local</th>\n",
              "      <th>ForecastDate_local2</th>\n",
              "    </tr>\n",
              "  </thead>\n",
              "  <tbody>\n",
              "    <tr>\n",
              "      <th>0</th>\n",
              "      <td>2018-10-28 01:00:00</td>\n",
              "      <td>2018-10-28 01:00:00</td>\n",
              "      <td>2018-10-28 01:00:00+02:00</td>\n",
              "    </tr>\n",
              "    <tr>\n",
              "      <th>1</th>\n",
              "      <td>2018-10-28 02:00:00</td>\n",
              "      <td>2018-10-28 02:00:00</td>\n",
              "      <td>2018-10-28 02:00:00+02:00</td>\n",
              "    </tr>\n",
              "    <tr>\n",
              "      <th>2</th>\n",
              "      <td>2018-10-28 02:00:00</td>\n",
              "      <td>2018-10-28 02:00:00</td>\n",
              "      <td>2018-10-28 02:00:00+01:00</td>\n",
              "    </tr>\n",
              "    <tr>\n",
              "      <th>3</th>\n",
              "      <td>2018-10-28 03:00:00</td>\n",
              "      <td>2018-10-28 03:00:00</td>\n",
              "      <td>2018-10-28 03:00:00+01:00</td>\n",
              "    </tr>\n",
              "  </tbody>\n",
              "</table>\n",
              "</div>"
            ],
            "text/plain": [
              "          ForecastDate  ForecastDate_local       ForecastDate_local2\n",
              "0  2018-10-28 01:00:00 2018-10-28 01:00:00 2018-10-28 01:00:00+02:00\n",
              "1  2018-10-28 02:00:00 2018-10-28 02:00:00 2018-10-28 02:00:00+02:00\n",
              "2  2018-10-28 02:00:00 2018-10-28 02:00:00 2018-10-28 02:00:00+01:00\n",
              "3  2018-10-28 03:00:00 2018-10-28 03:00:00 2018-10-28 03:00:00+01:00"
            ]
          },
          "metadata": {
            "tags": []
          },
          "execution_count": 171
        }
      ]
    },
    {
      "metadata": {
        "id": "XOh_C8V7Sf41",
        "colab_type": "code",
        "outputId": "31a756a7-12bc-4760-e12b-811053b96d86",
        "colab": {
          "base_uri": "https://localhost:8080/",
          "height": 167
        }
      },
      "cell_type": "code",
      "source": [
        "# Also dt has other function\n",
        "# see https://pandas.pydata.org/pandas-docs/stable/api.html#datetimelike-properties\n",
        "df['date'] = df['ForecastDate_local2'].dt.date\n",
        "df.head()"
      ],
      "execution_count": 0,
      "outputs": [
        {
          "output_type": "execute_result",
          "data": {
            "text/html": [
              "<div>\n",
              "<style scoped>\n",
              "    .dataframe tbody tr th:only-of-type {\n",
              "        vertical-align: middle;\n",
              "    }\n",
              "\n",
              "    .dataframe tbody tr th {\n",
              "        vertical-align: top;\n",
              "    }\n",
              "\n",
              "    .dataframe thead th {\n",
              "        text-align: right;\n",
              "    }\n",
              "</style>\n",
              "<table border=\"1\" class=\"dataframe\">\n",
              "  <thead>\n",
              "    <tr style=\"text-align: right;\">\n",
              "      <th></th>\n",
              "      <th>ForecastDate</th>\n",
              "      <th>ForecastDate_local</th>\n",
              "      <th>ForecastDate_local2</th>\n",
              "      <th>date</th>\n",
              "    </tr>\n",
              "  </thead>\n",
              "  <tbody>\n",
              "    <tr>\n",
              "      <th>0</th>\n",
              "      <td>2018-10-28 01:00:00</td>\n",
              "      <td>2018-10-28 01:00:00</td>\n",
              "      <td>2018-10-28 01:00:00+02:00</td>\n",
              "      <td>2018-10-28</td>\n",
              "    </tr>\n",
              "    <tr>\n",
              "      <th>1</th>\n",
              "      <td>2018-10-28 02:00:00</td>\n",
              "      <td>2018-10-28 02:00:00</td>\n",
              "      <td>2018-10-28 02:00:00+02:00</td>\n",
              "      <td>2018-10-28</td>\n",
              "    </tr>\n",
              "    <tr>\n",
              "      <th>2</th>\n",
              "      <td>2018-10-28 02:00:00</td>\n",
              "      <td>2018-10-28 02:00:00</td>\n",
              "      <td>2018-10-28 02:00:00+01:00</td>\n",
              "      <td>2018-10-28</td>\n",
              "    </tr>\n",
              "    <tr>\n",
              "      <th>3</th>\n",
              "      <td>2018-10-28 03:00:00</td>\n",
              "      <td>2018-10-28 03:00:00</td>\n",
              "      <td>2018-10-28 03:00:00+01:00</td>\n",
              "      <td>2018-10-28</td>\n",
              "    </tr>\n",
              "  </tbody>\n",
              "</table>\n",
              "</div>"
            ],
            "text/plain": [
              "          ForecastDate  ForecastDate_local       ForecastDate_local2  \\\n",
              "0  2018-10-28 01:00:00 2018-10-28 01:00:00 2018-10-28 01:00:00+02:00   \n",
              "1  2018-10-28 02:00:00 2018-10-28 02:00:00 2018-10-28 02:00:00+02:00   \n",
              "2  2018-10-28 02:00:00 2018-10-28 02:00:00 2018-10-28 02:00:00+01:00   \n",
              "3  2018-10-28 03:00:00 2018-10-28 03:00:00 2018-10-28 03:00:00+01:00   \n",
              "\n",
              "         date  \n",
              "0  2018-10-28  \n",
              "1  2018-10-28  \n",
              "2  2018-10-28  \n",
              "3  2018-10-28  "
            ]
          },
          "metadata": {
            "tags": []
          },
          "execution_count": 172
        }
      ]
    },
    {
      "metadata": {
        "id": "RiT0C6kOw7kK",
        "colab_type": "code",
        "outputId": "8cb21321-f97d-49c6-a69d-8d9e988cde97",
        "colab": {
          "base_uri": "https://localhost:8080/",
          "height": 167
        }
      },
      "cell_type": "code",
      "source": [
        "idx = df['date']==dt.date(2018,10,28)\n",
        "df[idx].head(5)"
      ],
      "execution_count": 0,
      "outputs": [
        {
          "output_type": "execute_result",
          "data": {
            "text/html": [
              "<div>\n",
              "<style scoped>\n",
              "    .dataframe tbody tr th:only-of-type {\n",
              "        vertical-align: middle;\n",
              "    }\n",
              "\n",
              "    .dataframe tbody tr th {\n",
              "        vertical-align: top;\n",
              "    }\n",
              "\n",
              "    .dataframe thead th {\n",
              "        text-align: right;\n",
              "    }\n",
              "</style>\n",
              "<table border=\"1\" class=\"dataframe\">\n",
              "  <thead>\n",
              "    <tr style=\"text-align: right;\">\n",
              "      <th></th>\n",
              "      <th>ForecastDate</th>\n",
              "      <th>ForecastDate_local</th>\n",
              "      <th>ForecastDate_local2</th>\n",
              "      <th>date</th>\n",
              "    </tr>\n",
              "  </thead>\n",
              "  <tbody>\n",
              "    <tr>\n",
              "      <th>0</th>\n",
              "      <td>2018-10-28 01:00:00</td>\n",
              "      <td>2018-10-28 01:00:00</td>\n",
              "      <td>2018-10-28 01:00:00+02:00</td>\n",
              "      <td>2018-10-28</td>\n",
              "    </tr>\n",
              "    <tr>\n",
              "      <th>1</th>\n",
              "      <td>2018-10-28 02:00:00</td>\n",
              "      <td>2018-10-28 02:00:00</td>\n",
              "      <td>2018-10-28 02:00:00+02:00</td>\n",
              "      <td>2018-10-28</td>\n",
              "    </tr>\n",
              "    <tr>\n",
              "      <th>2</th>\n",
              "      <td>2018-10-28 02:00:00</td>\n",
              "      <td>2018-10-28 02:00:00</td>\n",
              "      <td>2018-10-28 02:00:00+01:00</td>\n",
              "      <td>2018-10-28</td>\n",
              "    </tr>\n",
              "    <tr>\n",
              "      <th>3</th>\n",
              "      <td>2018-10-28 03:00:00</td>\n",
              "      <td>2018-10-28 03:00:00</td>\n",
              "      <td>2018-10-28 03:00:00+01:00</td>\n",
              "      <td>2018-10-28</td>\n",
              "    </tr>\n",
              "  </tbody>\n",
              "</table>\n",
              "</div>"
            ],
            "text/plain": [
              "          ForecastDate  ForecastDate_local       ForecastDate_local2  \\\n",
              "0  2018-10-28 01:00:00 2018-10-28 01:00:00 2018-10-28 01:00:00+02:00   \n",
              "1  2018-10-28 02:00:00 2018-10-28 02:00:00 2018-10-28 02:00:00+02:00   \n",
              "2  2018-10-28 02:00:00 2018-10-28 02:00:00 2018-10-28 02:00:00+01:00   \n",
              "3  2018-10-28 03:00:00 2018-10-28 03:00:00 2018-10-28 03:00:00+01:00   \n",
              "\n",
              "         date  \n",
              "0  2018-10-28  \n",
              "1  2018-10-28  \n",
              "2  2018-10-28  \n",
              "3  2018-10-28  "
            ]
          },
          "metadata": {
            "tags": []
          },
          "execution_count": 173
        }
      ]
    },
    {
      "metadata": {
        "id": "2ze9iuN_-g_Y",
        "colab_type": "code",
        "outputId": "09e92805-e918-4806-b669-f214f06585de",
        "colab": {
          "base_uri": "https://localhost:8080/",
          "height": 34
        }
      },
      "cell_type": "code",
      "source": [
        "# now make a timezone aware\n",
        "a = dt.datetime(2018,5,9,0,0) # constructor, a datetime object a is created \n",
        "tzinfo = pytz.timezone('Europe/Amsterdam')\n",
        "b = tzinfo.localize(a)\n",
        "print (b)"
      ],
      "execution_count": 0,
      "outputs": [
        {
          "output_type": "stream",
          "text": [
            "2018-05-09 00:00:00+02:00\n"
          ],
          "name": "stdout"
        }
      ]
    },
    {
      "metadata": {
        "id": "G_AooM3HO_ng",
        "colab_type": "code",
        "outputId": "8cc40284-170b-4595-f7f7-eac399dfcf83",
        "colab": {
          "base_uri": "https://localhost:8080/",
          "height": 34
        }
      },
      "cell_type": "code",
      "source": [
        "# convert c to utc\n",
        "utc = pytz.timezone('UTC')\n",
        "c = b.astimezone(utc)\n",
        "print(c)"
      ],
      "execution_count": 0,
      "outputs": [
        {
          "output_type": "stream",
          "text": [
            "2018-05-08 22:00:00+00:00\n"
          ],
          "name": "stdout"
        }
      ]
    },
    {
      "metadata": {
        "id": "9B8_ZuYG-k4J",
        "colab_type": "code",
        "outputId": "06d469aa-01e4-477d-e2b7-dd35ef3615c5",
        "colab": {
          "base_uri": "https://localhost:8080/",
          "height": 34
        }
      },
      "cell_type": "code",
      "source": [
        "print (dt.datetime.today())"
      ],
      "execution_count": 0,
      "outputs": [
        {
          "output_type": "stream",
          "text": [
            "2018-07-22 10:52:10.894216\n"
          ],
          "name": "stdout"
        }
      ]
    },
    {
      "metadata": {
        "id": "wseV6y9Z7kpS",
        "colab_type": "code",
        "outputId": "dbf44590-3de2-4e96-9791-9009ace9a554",
        "colab": {
          "base_uri": "https://localhost:8080/",
          "height": 107
        }
      },
      "cell_type": "code",
      "source": [
        "# make mapping between CEST and UTC\n",
        "startdate=dt.datetime(2018,1,1,0,0)\n",
        "enddate=dt.datetime(2050,1,1,0,0)\n",
        "\n",
        "delivery_date = pd.date_range(startdate,enddate,freq='1H',tz='Europe/Amsterdam')\n",
        "df = pd.DataFrame(index = delivery_date) \n",
        "df.reset_index(inplace=True)\n",
        "df.rename(columns={'index':'date_local'},inplace=True)\n",
        "\n",
        "df['date_utc'] = df['date_local'].dt.tz_convert('UTC')\n",
        "df.tail(2)"
      ],
      "execution_count": 0,
      "outputs": [
        {
          "output_type": "execute_result",
          "data": {
            "text/html": [
              "<div>\n",
              "<style scoped>\n",
              "    .dataframe tbody tr th:only-of-type {\n",
              "        vertical-align: middle;\n",
              "    }\n",
              "\n",
              "    .dataframe tbody tr th {\n",
              "        vertical-align: top;\n",
              "    }\n",
              "\n",
              "    .dataframe thead th {\n",
              "        text-align: right;\n",
              "    }\n",
              "</style>\n",
              "<table border=\"1\" class=\"dataframe\">\n",
              "  <thead>\n",
              "    <tr style=\"text-align: right;\">\n",
              "      <th></th>\n",
              "      <th>date_local</th>\n",
              "      <th>date_utc</th>\n",
              "    </tr>\n",
              "  </thead>\n",
              "  <tbody>\n",
              "    <tr>\n",
              "      <th>280511</th>\n",
              "      <td>2049-12-31 23:00:00+01:00</td>\n",
              "      <td>2049-12-31 22:00:00+00:00</td>\n",
              "    </tr>\n",
              "    <tr>\n",
              "      <th>280512</th>\n",
              "      <td>2050-01-01 00:00:00+01:00</td>\n",
              "      <td>2049-12-31 23:00:00+00:00</td>\n",
              "    </tr>\n",
              "  </tbody>\n",
              "</table>\n",
              "</div>"
            ],
            "text/plain": [
              "                      date_local                  date_utc\n",
              "280511 2049-12-31 23:00:00+01:00 2049-12-31 22:00:00+00:00\n",
              "280512 2050-01-01 00:00:00+01:00 2049-12-31 23:00:00+00:00"
            ]
          },
          "metadata": {
            "tags": []
          },
          "execution_count": 177
        }
      ]
    },
    {
      "metadata": {
        "id": "d4NUlVtI-RpQ",
        "colab_type": "code",
        "outputId": "24a2bc00-1007-4a62-c01c-f3920b4fb55a",
        "colab": {
          "base_uri": "https://localhost:8080/",
          "height": 107
        }
      },
      "cell_type": "code",
      "source": [
        "# change the format\n",
        "df['date_local2'] = df['date_local'].apply(lambda x: x.strftime(\"%d-%m-%Y %H:%M\"))\n",
        "df['date_utc2'] = df['date_utc'].apply(lambda x: x.strftime(\"%d-%m-%Y %H:%M\"))\n",
        "df.head(2)"
      ],
      "execution_count": 0,
      "outputs": [
        {
          "output_type": "execute_result",
          "data": {
            "text/html": [
              "<div>\n",
              "<style scoped>\n",
              "    .dataframe tbody tr th:only-of-type {\n",
              "        vertical-align: middle;\n",
              "    }\n",
              "\n",
              "    .dataframe tbody tr th {\n",
              "        vertical-align: top;\n",
              "    }\n",
              "\n",
              "    .dataframe thead th {\n",
              "        text-align: right;\n",
              "    }\n",
              "</style>\n",
              "<table border=\"1\" class=\"dataframe\">\n",
              "  <thead>\n",
              "    <tr style=\"text-align: right;\">\n",
              "      <th></th>\n",
              "      <th>date_local</th>\n",
              "      <th>date_utc</th>\n",
              "      <th>date_local2</th>\n",
              "      <th>date_utc2</th>\n",
              "    </tr>\n",
              "  </thead>\n",
              "  <tbody>\n",
              "    <tr>\n",
              "      <th>0</th>\n",
              "      <td>2018-01-01 00:00:00+01:00</td>\n",
              "      <td>2017-12-31 23:00:00+00:00</td>\n",
              "      <td>01-01-2018 00:00</td>\n",
              "      <td>31-12-2017 23:00</td>\n",
              "    </tr>\n",
              "    <tr>\n",
              "      <th>1</th>\n",
              "      <td>2018-01-01 01:00:00+01:00</td>\n",
              "      <td>2018-01-01 00:00:00+00:00</td>\n",
              "      <td>01-01-2018 01:00</td>\n",
              "      <td>01-01-2018 00:00</td>\n",
              "    </tr>\n",
              "  </tbody>\n",
              "</table>\n",
              "</div>"
            ],
            "text/plain": [
              "                 date_local                  date_utc       date_local2  \\\n",
              "0 2018-01-01 00:00:00+01:00 2017-12-31 23:00:00+00:00  01-01-2018 00:00   \n",
              "1 2018-01-01 01:00:00+01:00 2018-01-01 00:00:00+00:00  01-01-2018 01:00   \n",
              "\n",
              "          date_utc2  \n",
              "0  31-12-2017 23:00  \n",
              "1  01-01-2018 00:00  "
            ]
          },
          "metadata": {
            "tags": []
          },
          "execution_count": 178
        }
      ]
    },
    {
      "metadata": {
        "id": "Vbh-10EN-XgI",
        "colab_type": "text"
      },
      "cell_type": "markdown",
      "source": [
        "### Example Tennet data"
      ]
    },
    {
      "metadata": {
        "id": "9gCgVf6I1saQ",
        "colab_type": "code",
        "outputId": "0c02913c-ed85-42dc-e4db-a597957b0075",
        "colab": {
          "base_uri": "https://localhost:8080/",
          "height": 137
        }
      },
      "cell_type": "code",
      "source": [
        "date_start = dt.date(2017,1,1).strftime(\"%d-%m-%Y\")\n",
        "date_end = dt.date(2017,12,31).strftime(\"%d-%m-%Y\")\n",
        "tennet_url = \"http://www.tennet.org/bedrijfsvoering/ExporteerData.aspx?exporttype=verrekenprijzen&format=csv&datefrom={}&dateto={}&submit=1\".format(date_start, date_end)\n",
        "\n",
        "cols = ['datum', 'PTE', 'periode_van','periode_tm','Afnemen','invoeden']\n",
        "\n",
        "df_prices = pd.read_csv(tennet_url,usecols=cols,decimal=',')\n",
        "df_prices.head(3)"
      ],
      "execution_count": 0,
      "outputs": [
        {
          "output_type": "execute_result",
          "data": {
            "text/html": [
              "<div>\n",
              "<style scoped>\n",
              "    .dataframe tbody tr th:only-of-type {\n",
              "        vertical-align: middle;\n",
              "    }\n",
              "\n",
              "    .dataframe tbody tr th {\n",
              "        vertical-align: top;\n",
              "    }\n",
              "\n",
              "    .dataframe thead th {\n",
              "        text-align: right;\n",
              "    }\n",
              "</style>\n",
              "<table border=\"1\" class=\"dataframe\">\n",
              "  <thead>\n",
              "    <tr style=\"text-align: right;\">\n",
              "      <th></th>\n",
              "      <th>datum</th>\n",
              "      <th>PTE</th>\n",
              "      <th>periode_van</th>\n",
              "      <th>periode_tm</th>\n",
              "      <th>Afnemen</th>\n",
              "      <th>invoeden</th>\n",
              "    </tr>\n",
              "  </thead>\n",
              "  <tbody>\n",
              "    <tr>\n",
              "      <th>0</th>\n",
              "      <td>01-01-2017</td>\n",
              "      <td>1</td>\n",
              "      <td>00:00</td>\n",
              "      <td>00:15</td>\n",
              "      <td>250.00</td>\n",
              "      <td>-200.00</td>\n",
              "    </tr>\n",
              "    <tr>\n",
              "      <th>1</th>\n",
              "      <td>01-01-2017</td>\n",
              "      <td>2</td>\n",
              "      <td>00:15</td>\n",
              "      <td>00:30</td>\n",
              "      <td>250.00</td>\n",
              "      <td>250.00</td>\n",
              "    </tr>\n",
              "    <tr>\n",
              "      <th>2</th>\n",
              "      <td>01-01-2017</td>\n",
              "      <td>3</td>\n",
              "      <td>00:30</td>\n",
              "      <td>00:45</td>\n",
              "      <td>33.56</td>\n",
              "      <td>33.56</td>\n",
              "    </tr>\n",
              "  </tbody>\n",
              "</table>\n",
              "</div>"
            ],
            "text/plain": [
              "        datum  PTE periode_van periode_tm  Afnemen  invoeden\n",
              "0  01-01-2017    1       00:00      00:15   250.00   -200.00\n",
              "1  01-01-2017    2       00:15      00:30   250.00    250.00\n",
              "2  01-01-2017    3       00:30      00:45    33.56     33.56"
            ]
          },
          "metadata": {
            "tags": []
          },
          "execution_count": 179
        }
      ]
    },
    {
      "metadata": {
        "id": "Jxz-Rr525TSL",
        "colab_type": "code",
        "outputId": "abed1d30-7668-455c-d23a-a3862e333768",
        "colab": {
          "base_uri": "https://localhost:8080/",
          "height": 137
        }
      },
      "cell_type": "code",
      "source": [
        "col2drop = ['periode_tm']\n",
        "df_prices.drop(col2drop,axis=1,inplace=True)\n",
        "df_prices.head(3)"
      ],
      "execution_count": 0,
      "outputs": [
        {
          "output_type": "execute_result",
          "data": {
            "text/html": [
              "<div>\n",
              "<style scoped>\n",
              "    .dataframe tbody tr th:only-of-type {\n",
              "        vertical-align: middle;\n",
              "    }\n",
              "\n",
              "    .dataframe tbody tr th {\n",
              "        vertical-align: top;\n",
              "    }\n",
              "\n",
              "    .dataframe thead th {\n",
              "        text-align: right;\n",
              "    }\n",
              "</style>\n",
              "<table border=\"1\" class=\"dataframe\">\n",
              "  <thead>\n",
              "    <tr style=\"text-align: right;\">\n",
              "      <th></th>\n",
              "      <th>datum</th>\n",
              "      <th>PTE</th>\n",
              "      <th>periode_van</th>\n",
              "      <th>Afnemen</th>\n",
              "      <th>invoeden</th>\n",
              "    </tr>\n",
              "  </thead>\n",
              "  <tbody>\n",
              "    <tr>\n",
              "      <th>0</th>\n",
              "      <td>01-01-2017</td>\n",
              "      <td>1</td>\n",
              "      <td>00:00</td>\n",
              "      <td>250.00</td>\n",
              "      <td>-200.00</td>\n",
              "    </tr>\n",
              "    <tr>\n",
              "      <th>1</th>\n",
              "      <td>01-01-2017</td>\n",
              "      <td>2</td>\n",
              "      <td>00:15</td>\n",
              "      <td>250.00</td>\n",
              "      <td>250.00</td>\n",
              "    </tr>\n",
              "    <tr>\n",
              "      <th>2</th>\n",
              "      <td>01-01-2017</td>\n",
              "      <td>3</td>\n",
              "      <td>00:30</td>\n",
              "      <td>33.56</td>\n",
              "      <td>33.56</td>\n",
              "    </tr>\n",
              "  </tbody>\n",
              "</table>\n",
              "</div>"
            ],
            "text/plain": [
              "        datum  PTE periode_van  Afnemen  invoeden\n",
              "0  01-01-2017    1       00:00   250.00   -200.00\n",
              "1  01-01-2017    2       00:15   250.00    250.00\n",
              "2  01-01-2017    3       00:30    33.56     33.56"
            ]
          },
          "metadata": {
            "tags": []
          },
          "execution_count": 180
        }
      ]
    },
    {
      "metadata": {
        "id": "OLIQMCeW4QcH",
        "colab_type": "code",
        "outputId": "3d8e826a-7da6-4b2c-a932-1d24e1b1e403",
        "colab": {
          "base_uri": "https://localhost:8080/",
          "height": 137
        }
      },
      "cell_type": "code",
      "source": [
        "# convert datetime to utc\n",
        "amsterdam = pytz.timezone('Europe/Amsterdam')\n",
        "df_prices.index = pd.to_datetime(df_prices['datum'] + \" \" + df_prices['periode_van'],format='%d-%m-%Y %H:%M')\n",
        "df_prices.index = df_prices.index.tz_localize(amsterdam, ambiguous='infer')\n",
        "\n",
        "# save local date in column so the index can be converted\n",
        "df_prices['datetime_local'] = df_prices.index\n",
        "df_prices.index = df_prices.index.tz_convert('UTC')\n",
        "df_prices.head(3)"
      ],
      "execution_count": 0,
      "outputs": [
        {
          "output_type": "execute_result",
          "data": {
            "text/html": [
              "<div>\n",
              "<style scoped>\n",
              "    .dataframe tbody tr th:only-of-type {\n",
              "        vertical-align: middle;\n",
              "    }\n",
              "\n",
              "    .dataframe tbody tr th {\n",
              "        vertical-align: top;\n",
              "    }\n",
              "\n",
              "    .dataframe thead th {\n",
              "        text-align: right;\n",
              "    }\n",
              "</style>\n",
              "<table border=\"1\" class=\"dataframe\">\n",
              "  <thead>\n",
              "    <tr style=\"text-align: right;\">\n",
              "      <th></th>\n",
              "      <th>datum</th>\n",
              "      <th>PTE</th>\n",
              "      <th>periode_van</th>\n",
              "      <th>Afnemen</th>\n",
              "      <th>invoeden</th>\n",
              "      <th>datetime_local</th>\n",
              "    </tr>\n",
              "  </thead>\n",
              "  <tbody>\n",
              "    <tr>\n",
              "      <th>2016-12-31 23:00:00+00:00</th>\n",
              "      <td>01-01-2017</td>\n",
              "      <td>1</td>\n",
              "      <td>00:00</td>\n",
              "      <td>250.00</td>\n",
              "      <td>-200.00</td>\n",
              "      <td>2017-01-01 00:00:00+01:00</td>\n",
              "    </tr>\n",
              "    <tr>\n",
              "      <th>2016-12-31 23:15:00+00:00</th>\n",
              "      <td>01-01-2017</td>\n",
              "      <td>2</td>\n",
              "      <td>00:15</td>\n",
              "      <td>250.00</td>\n",
              "      <td>250.00</td>\n",
              "      <td>2017-01-01 00:15:00+01:00</td>\n",
              "    </tr>\n",
              "    <tr>\n",
              "      <th>2016-12-31 23:30:00+00:00</th>\n",
              "      <td>01-01-2017</td>\n",
              "      <td>3</td>\n",
              "      <td>00:30</td>\n",
              "      <td>33.56</td>\n",
              "      <td>33.56</td>\n",
              "      <td>2017-01-01 00:30:00+01:00</td>\n",
              "    </tr>\n",
              "  </tbody>\n",
              "</table>\n",
              "</div>"
            ],
            "text/plain": [
              "                                datum  PTE periode_van  Afnemen  invoeden  \\\n",
              "2016-12-31 23:00:00+00:00  01-01-2017    1       00:00   250.00   -200.00   \n",
              "2016-12-31 23:15:00+00:00  01-01-2017    2       00:15   250.00    250.00   \n",
              "2016-12-31 23:30:00+00:00  01-01-2017    3       00:30    33.56     33.56   \n",
              "\n",
              "                                     datetime_local  \n",
              "2016-12-31 23:00:00+00:00 2017-01-01 00:00:00+01:00  \n",
              "2016-12-31 23:15:00+00:00 2017-01-01 00:15:00+01:00  \n",
              "2016-12-31 23:30:00+00:00 2017-01-01 00:30:00+01:00  "
            ]
          },
          "metadata": {
            "tags": []
          },
          "execution_count": 181
        }
      ]
    },
    {
      "metadata": {
        "id": "1dZCl3NAWuDv",
        "colab_type": "code",
        "outputId": "29af3253-4208-4195-9190-273130f17b66",
        "colab": {
          "base_uri": "https://localhost:8080/",
          "height": 155
        }
      },
      "cell_type": "code",
      "source": [
        "# round/truncate datetime by replacing the minute by zero\n",
        "t0 = time.time()\n",
        "\n",
        "df_prices['datetime_local_trunc'] = df_prices['datetime_local'].apply(lambda x: x.replace(minute=0))\n",
        "\n",
        "t1 = time.time()\n",
        "\n",
        "print(t1-t0)\n",
        "\n",
        "df_prices.head(3)"
      ],
      "execution_count": 0,
      "outputs": [
        {
          "output_type": "stream",
          "text": [
            "0.691426992416\n"
          ],
          "name": "stdout"
        },
        {
          "output_type": "execute_result",
          "data": {
            "text/html": [
              "<div>\n",
              "<style scoped>\n",
              "    .dataframe tbody tr th:only-of-type {\n",
              "        vertical-align: middle;\n",
              "    }\n",
              "\n",
              "    .dataframe tbody tr th {\n",
              "        vertical-align: top;\n",
              "    }\n",
              "\n",
              "    .dataframe thead th {\n",
              "        text-align: right;\n",
              "    }\n",
              "</style>\n",
              "<table border=\"1\" class=\"dataframe\">\n",
              "  <thead>\n",
              "    <tr style=\"text-align: right;\">\n",
              "      <th></th>\n",
              "      <th>datum</th>\n",
              "      <th>PTE</th>\n",
              "      <th>periode_van</th>\n",
              "      <th>Afnemen</th>\n",
              "      <th>invoeden</th>\n",
              "      <th>datetime_local</th>\n",
              "      <th>datetime_local_trunc</th>\n",
              "    </tr>\n",
              "  </thead>\n",
              "  <tbody>\n",
              "    <tr>\n",
              "      <th>2016-12-31 23:00:00+00:00</th>\n",
              "      <td>01-01-2017</td>\n",
              "      <td>1</td>\n",
              "      <td>00:00</td>\n",
              "      <td>250.00</td>\n",
              "      <td>-200.00</td>\n",
              "      <td>2017-01-01 00:00:00+01:00</td>\n",
              "      <td>2017-01-01 00:00:00+01:00</td>\n",
              "    </tr>\n",
              "    <tr>\n",
              "      <th>2016-12-31 23:15:00+00:00</th>\n",
              "      <td>01-01-2017</td>\n",
              "      <td>2</td>\n",
              "      <td>00:15</td>\n",
              "      <td>250.00</td>\n",
              "      <td>250.00</td>\n",
              "      <td>2017-01-01 00:15:00+01:00</td>\n",
              "      <td>2017-01-01 00:00:00+01:00</td>\n",
              "    </tr>\n",
              "    <tr>\n",
              "      <th>2016-12-31 23:30:00+00:00</th>\n",
              "      <td>01-01-2017</td>\n",
              "      <td>3</td>\n",
              "      <td>00:30</td>\n",
              "      <td>33.56</td>\n",
              "      <td>33.56</td>\n",
              "      <td>2017-01-01 00:30:00+01:00</td>\n",
              "      <td>2017-01-01 00:00:00+01:00</td>\n",
              "    </tr>\n",
              "  </tbody>\n",
              "</table>\n",
              "</div>"
            ],
            "text/plain": [
              "                                datum  PTE periode_van  Afnemen  invoeden  \\\n",
              "2016-12-31 23:00:00+00:00  01-01-2017    1       00:00   250.00   -200.00   \n",
              "2016-12-31 23:15:00+00:00  01-01-2017    2       00:15   250.00    250.00   \n",
              "2016-12-31 23:30:00+00:00  01-01-2017    3       00:30    33.56     33.56   \n",
              "\n",
              "                                     datetime_local      datetime_local_trunc  \n",
              "2016-12-31 23:00:00+00:00 2017-01-01 00:00:00+01:00 2017-01-01 00:00:00+01:00  \n",
              "2016-12-31 23:15:00+00:00 2017-01-01 00:15:00+01:00 2017-01-01 00:00:00+01:00  \n",
              "2016-12-31 23:30:00+00:00 2017-01-01 00:30:00+01:00 2017-01-01 00:00:00+01:00  "
            ]
          },
          "metadata": {
            "tags": []
          },
          "execution_count": 182
        }
      ]
    },
    {
      "metadata": {
        "id": "KvzQRuBCCU6s",
        "colab_type": "code",
        "outputId": "04761fde-fdae-4653-e266-4c1ead065b70",
        "colab": {
          "base_uri": "https://localhost:8080/",
          "height": 155
        }
      },
      "cell_type": "code",
      "source": [
        "# round/truncate datetime by replacing the minute by zero\n",
        "t0 = time.time()\n",
        "\n",
        "df_prices['datetime_local_trunc2'] = list(map(lambda x: x.replace(minute=0), df_prices['datetime_local']))\n",
        "\n",
        "t1 = time.time()\n",
        "\n",
        "print(t1-t0)\n",
        "\n",
        "df_prices.head(3)"
      ],
      "execution_count": 0,
      "outputs": [
        {
          "output_type": "stream",
          "text": [
            "0.647779941559\n"
          ],
          "name": "stdout"
        },
        {
          "output_type": "execute_result",
          "data": {
            "text/html": [
              "<div>\n",
              "<style scoped>\n",
              "    .dataframe tbody tr th:only-of-type {\n",
              "        vertical-align: middle;\n",
              "    }\n",
              "\n",
              "    .dataframe tbody tr th {\n",
              "        vertical-align: top;\n",
              "    }\n",
              "\n",
              "    .dataframe thead th {\n",
              "        text-align: right;\n",
              "    }\n",
              "</style>\n",
              "<table border=\"1\" class=\"dataframe\">\n",
              "  <thead>\n",
              "    <tr style=\"text-align: right;\">\n",
              "      <th></th>\n",
              "      <th>datum</th>\n",
              "      <th>PTE</th>\n",
              "      <th>periode_van</th>\n",
              "      <th>Afnemen</th>\n",
              "      <th>invoeden</th>\n",
              "      <th>datetime_local</th>\n",
              "      <th>datetime_local_trunc</th>\n",
              "      <th>datetime_local_trunc2</th>\n",
              "    </tr>\n",
              "  </thead>\n",
              "  <tbody>\n",
              "    <tr>\n",
              "      <th>2016-12-31 23:00:00+00:00</th>\n",
              "      <td>01-01-2017</td>\n",
              "      <td>1</td>\n",
              "      <td>00:00</td>\n",
              "      <td>250.00</td>\n",
              "      <td>-200.00</td>\n",
              "      <td>2017-01-01 00:00:00+01:00</td>\n",
              "      <td>2017-01-01 00:00:00+01:00</td>\n",
              "      <td>2017-01-01 00:00:00+01:00</td>\n",
              "    </tr>\n",
              "    <tr>\n",
              "      <th>2016-12-31 23:15:00+00:00</th>\n",
              "      <td>01-01-2017</td>\n",
              "      <td>2</td>\n",
              "      <td>00:15</td>\n",
              "      <td>250.00</td>\n",
              "      <td>250.00</td>\n",
              "      <td>2017-01-01 00:15:00+01:00</td>\n",
              "      <td>2017-01-01 00:00:00+01:00</td>\n",
              "      <td>2017-01-01 00:00:00+01:00</td>\n",
              "    </tr>\n",
              "    <tr>\n",
              "      <th>2016-12-31 23:30:00+00:00</th>\n",
              "      <td>01-01-2017</td>\n",
              "      <td>3</td>\n",
              "      <td>00:30</td>\n",
              "      <td>33.56</td>\n",
              "      <td>33.56</td>\n",
              "      <td>2017-01-01 00:30:00+01:00</td>\n",
              "      <td>2017-01-01 00:00:00+01:00</td>\n",
              "      <td>2017-01-01 00:00:00+01:00</td>\n",
              "    </tr>\n",
              "  </tbody>\n",
              "</table>\n",
              "</div>"
            ],
            "text/plain": [
              "                                datum  PTE periode_van  Afnemen  invoeden  \\\n",
              "2016-12-31 23:00:00+00:00  01-01-2017    1       00:00   250.00   -200.00   \n",
              "2016-12-31 23:15:00+00:00  01-01-2017    2       00:15   250.00    250.00   \n",
              "2016-12-31 23:30:00+00:00  01-01-2017    3       00:30    33.56     33.56   \n",
              "\n",
              "                                     datetime_local      datetime_local_trunc  \\\n",
              "2016-12-31 23:00:00+00:00 2017-01-01 00:00:00+01:00 2017-01-01 00:00:00+01:00   \n",
              "2016-12-31 23:15:00+00:00 2017-01-01 00:15:00+01:00 2017-01-01 00:00:00+01:00   \n",
              "2016-12-31 23:30:00+00:00 2017-01-01 00:30:00+01:00 2017-01-01 00:00:00+01:00   \n",
              "\n",
              "                              datetime_local_trunc2  \n",
              "2016-12-31 23:00:00+00:00 2017-01-01 00:00:00+01:00  \n",
              "2016-12-31 23:15:00+00:00 2017-01-01 00:00:00+01:00  \n",
              "2016-12-31 23:30:00+00:00 2017-01-01 00:00:00+01:00  "
            ]
          },
          "metadata": {
            "tags": []
          },
          "execution_count": 183
        }
      ]
    },
    {
      "metadata": {
        "id": "f-9lHaHb0AOu",
        "colab_type": "text"
      },
      "cell_type": "markdown",
      "source": [
        "### Parsing iso format"
      ]
    },
    {
      "metadata": {
        "id": "ETsCfPFA0Yx1",
        "colab_type": "code",
        "outputId": "d5a9bfed-f35f-45d7-f047-a832d6430a66",
        "colab": {
          "base_uri": "https://localhost:8080/",
          "height": 137
        }
      },
      "cell_type": "code",
      "source": [
        "# parsing iso format\n",
        "# http://cheat.readthedocs.io/en/latest/python/timezones.html\n",
        "# https://stackoverflow.com/questions/12281975/convert-timestamps-with-offset-to-datetime-obj-using-strptime?noredirect=1&lq=1\n",
        "df = pd.DataFrame({'deliverydate':['2017-03-26 01:00:00+01:00', '2017-03-26 03:00:00+02:00', '2017-03-26 04:00:00+02:00']})\n",
        "df.head()"
      ],
      "execution_count": 0,
      "outputs": [
        {
          "output_type": "execute_result",
          "data": {
            "text/html": [
              "<div>\n",
              "<style scoped>\n",
              "    .dataframe tbody tr th:only-of-type {\n",
              "        vertical-align: middle;\n",
              "    }\n",
              "\n",
              "    .dataframe tbody tr th {\n",
              "        vertical-align: top;\n",
              "    }\n",
              "\n",
              "    .dataframe thead th {\n",
              "        text-align: right;\n",
              "    }\n",
              "</style>\n",
              "<table border=\"1\" class=\"dataframe\">\n",
              "  <thead>\n",
              "    <tr style=\"text-align: right;\">\n",
              "      <th></th>\n",
              "      <th>deliverydate</th>\n",
              "    </tr>\n",
              "  </thead>\n",
              "  <tbody>\n",
              "    <tr>\n",
              "      <th>0</th>\n",
              "      <td>2017-03-26 01:00:00+01:00</td>\n",
              "    </tr>\n",
              "    <tr>\n",
              "      <th>1</th>\n",
              "      <td>2017-03-26 03:00:00+02:00</td>\n",
              "    </tr>\n",
              "    <tr>\n",
              "      <th>2</th>\n",
              "      <td>2017-03-26 04:00:00+02:00</td>\n",
              "    </tr>\n",
              "  </tbody>\n",
              "</table>\n",
              "</div>"
            ],
            "text/plain": [
              "                deliverydate\n",
              "0  2017-03-26 01:00:00+01:00\n",
              "1  2017-03-26 03:00:00+02:00\n",
              "2  2017-03-26 04:00:00+02:00"
            ]
          },
          "metadata": {
            "tags": []
          },
          "execution_count": 184
        }
      ]
    },
    {
      "metadata": {
        "id": "mMKAOTxj2Sk2",
        "colab_type": "code",
        "outputId": "098b0483-2dad-4bd4-9c00-b2f05ff2a2de",
        "colab": {
          "base_uri": "https://localhost:8080/",
          "height": 137
        }
      },
      "cell_type": "code",
      "source": [
        "#df['deliverydate2']=df['deliverydate'].apply(lambda x: dateutil.parser.parse(x))\n",
        "df['deliverydate2']=df['deliverydate'].apply(lambda x: x[:16])\n",
        "df.head()"
      ],
      "execution_count": 0,
      "outputs": [
        {
          "output_type": "execute_result",
          "data": {
            "text/html": [
              "<div>\n",
              "<style scoped>\n",
              "    .dataframe tbody tr th:only-of-type {\n",
              "        vertical-align: middle;\n",
              "    }\n",
              "\n",
              "    .dataframe tbody tr th {\n",
              "        vertical-align: top;\n",
              "    }\n",
              "\n",
              "    .dataframe thead th {\n",
              "        text-align: right;\n",
              "    }\n",
              "</style>\n",
              "<table border=\"1\" class=\"dataframe\">\n",
              "  <thead>\n",
              "    <tr style=\"text-align: right;\">\n",
              "      <th></th>\n",
              "      <th>deliverydate</th>\n",
              "      <th>deliverydate2</th>\n",
              "    </tr>\n",
              "  </thead>\n",
              "  <tbody>\n",
              "    <tr>\n",
              "      <th>0</th>\n",
              "      <td>2017-03-26 01:00:00+01:00</td>\n",
              "      <td>2017-03-26 01:00</td>\n",
              "    </tr>\n",
              "    <tr>\n",
              "      <th>1</th>\n",
              "      <td>2017-03-26 03:00:00+02:00</td>\n",
              "      <td>2017-03-26 03:00</td>\n",
              "    </tr>\n",
              "    <tr>\n",
              "      <th>2</th>\n",
              "      <td>2017-03-26 04:00:00+02:00</td>\n",
              "      <td>2017-03-26 04:00</td>\n",
              "    </tr>\n",
              "  </tbody>\n",
              "</table>\n",
              "</div>"
            ],
            "text/plain": [
              "                deliverydate     deliverydate2\n",
              "0  2017-03-26 01:00:00+01:00  2017-03-26 01:00\n",
              "1  2017-03-26 03:00:00+02:00  2017-03-26 03:00\n",
              "2  2017-03-26 04:00:00+02:00  2017-03-26 04:00"
            ]
          },
          "metadata": {
            "tags": []
          },
          "execution_count": 185
        }
      ]
    },
    {
      "metadata": {
        "id": "R_XrgsH23lI2",
        "colab_type": "code",
        "outputId": "cabfb3ae-7474-440c-dd3f-2aad6fb8706f",
        "colab": {
          "base_uri": "https://localhost:8080/",
          "height": 167
        }
      },
      "cell_type": "code",
      "source": [
        "amsterdam = pytz.timezone('Europe/Amsterdam')\n",
        "df['deliverydate3'] = pd.to_datetime(df['deliverydate2'],format='%Y-%m-%d %H:%M')\n",
        "df['deliverydate4'] = df['deliverydate3'].dt.tz_localize('Europe/Amsterdam',ambiguous='infer')\n",
        "df.index = df['deliverydate4'].dt.tz_convert('UTC')\n",
        "df.head()"
      ],
      "execution_count": 0,
      "outputs": [
        {
          "output_type": "execute_result",
          "data": {
            "text/html": [
              "<div>\n",
              "<style scoped>\n",
              "    .dataframe tbody tr th:only-of-type {\n",
              "        vertical-align: middle;\n",
              "    }\n",
              "\n",
              "    .dataframe tbody tr th {\n",
              "        vertical-align: top;\n",
              "    }\n",
              "\n",
              "    .dataframe thead th {\n",
              "        text-align: right;\n",
              "    }\n",
              "</style>\n",
              "<table border=\"1\" class=\"dataframe\">\n",
              "  <thead>\n",
              "    <tr style=\"text-align: right;\">\n",
              "      <th></th>\n",
              "      <th>deliverydate</th>\n",
              "      <th>deliverydate2</th>\n",
              "      <th>deliverydate3</th>\n",
              "      <th>deliverydate4</th>\n",
              "    </tr>\n",
              "    <tr>\n",
              "      <th>deliverydate4</th>\n",
              "      <th></th>\n",
              "      <th></th>\n",
              "      <th></th>\n",
              "      <th></th>\n",
              "    </tr>\n",
              "  </thead>\n",
              "  <tbody>\n",
              "    <tr>\n",
              "      <th>2017-03-26 00:00:00+00:00</th>\n",
              "      <td>2017-03-26 01:00:00+01:00</td>\n",
              "      <td>2017-03-26 01:00</td>\n",
              "      <td>2017-03-26 01:00:00</td>\n",
              "      <td>2017-03-26 01:00:00+01:00</td>\n",
              "    </tr>\n",
              "    <tr>\n",
              "      <th>2017-03-26 01:00:00+00:00</th>\n",
              "      <td>2017-03-26 03:00:00+02:00</td>\n",
              "      <td>2017-03-26 03:00</td>\n",
              "      <td>2017-03-26 03:00:00</td>\n",
              "      <td>2017-03-26 03:00:00+02:00</td>\n",
              "    </tr>\n",
              "    <tr>\n",
              "      <th>2017-03-26 02:00:00+00:00</th>\n",
              "      <td>2017-03-26 04:00:00+02:00</td>\n",
              "      <td>2017-03-26 04:00</td>\n",
              "      <td>2017-03-26 04:00:00</td>\n",
              "      <td>2017-03-26 04:00:00+02:00</td>\n",
              "    </tr>\n",
              "  </tbody>\n",
              "</table>\n",
              "</div>"
            ],
            "text/plain": [
              "                                        deliverydate     deliverydate2  \\\n",
              "deliverydate4                                                            \n",
              "2017-03-26 00:00:00+00:00  2017-03-26 01:00:00+01:00  2017-03-26 01:00   \n",
              "2017-03-26 01:00:00+00:00  2017-03-26 03:00:00+02:00  2017-03-26 03:00   \n",
              "2017-03-26 02:00:00+00:00  2017-03-26 04:00:00+02:00  2017-03-26 04:00   \n",
              "\n",
              "                                deliverydate3             deliverydate4  \n",
              "deliverydate4                                                            \n",
              "2017-03-26 00:00:00+00:00 2017-03-26 01:00:00 2017-03-26 01:00:00+01:00  \n",
              "2017-03-26 01:00:00+00:00 2017-03-26 03:00:00 2017-03-26 03:00:00+02:00  \n",
              "2017-03-26 02:00:00+00:00 2017-03-26 04:00:00 2017-03-26 04:00:00+02:00  "
            ]
          },
          "metadata": {
            "tags": []
          },
          "execution_count": 186
        }
      ]
    },
    {
      "metadata": {
        "id": "-_ok3d3rBymz",
        "colab_type": "code",
        "outputId": "cec06c14-8549-47e1-a2a0-b25b10b3fcdf",
        "colab": {
          "base_uri": "https://localhost:8080/",
          "height": 105
        }
      },
      "cell_type": "code",
      "source": [
        "df.dtypes"
      ],
      "execution_count": 0,
      "outputs": [
        {
          "output_type": "execute_result",
          "data": {
            "text/plain": [
              "deliverydate                               object\n",
              "deliverydate2                              object\n",
              "deliverydate3                      datetime64[ns]\n",
              "deliverydate4    datetime64[ns, Europe/Amsterdam]\n",
              "dtype: object"
            ]
          },
          "metadata": {
            "tags": []
          },
          "execution_count": 187
        }
      ]
    },
    {
      "metadata": {
        "id": "UnZTEZLBmsKC",
        "colab_type": "text"
      },
      "cell_type": "markdown",
      "source": [
        "### Iso format"
      ]
    },
    {
      "metadata": {
        "id": "ohTowmkYmwNE",
        "colab_type": "code",
        "outputId": "01645e6c-6f02-46dc-fcab-a2bc60f7a285",
        "colab": {
          "base_uri": "https://localhost:8080/",
          "height": 34
        }
      },
      "cell_type": "code",
      "source": [
        "dt.datetime.now().isoformat()"
      ],
      "execution_count": 0,
      "outputs": [
        {
          "output_type": "execute_result",
          "data": {
            "text/plain": [
              "'2018-07-24T09:27:21.577228'"
            ]
          },
          "metadata": {
            "tags": []
          },
          "execution_count": 9
        }
      ]
    },
    {
      "metadata": {
        "id": "vIdPQV_gnfLL",
        "colab_type": "code",
        "outputId": "1b413df1-4985-4c36-a039-ed1c32635aeb",
        "colab": {
          "base_uri": "https://localhost:8080/",
          "height": 34
        }
      },
      "cell_type": "code",
      "source": [
        "dt.datetime.now().replace(microsecond=0).isoformat()"
      ],
      "execution_count": 0,
      "outputs": [
        {
          "output_type": "execute_result",
          "data": {
            "text/plain": [
              "'2018-07-24T09:28:12'"
            ]
          },
          "metadata": {
            "tags": []
          },
          "execution_count": 11
        }
      ]
    },
    {
      "metadata": {
        "id": "Fctt_7tln0IQ",
        "colab_type": "code",
        "outputId": "7a409217-5f73-4dc4-d2b1-ddcb64be169f",
        "colab": {
          "base_uri": "https://localhost:8080/",
          "height": 34
        }
      },
      "cell_type": "code",
      "source": [
        "dt.datetime.now().replace(microsecond=0).replace(second=0).isoformat()"
      ],
      "execution_count": 0,
      "outputs": [
        {
          "output_type": "execute_result",
          "data": {
            "text/plain": [
              "'2018-07-24T09:29:00'"
            ]
          },
          "metadata": {
            "tags": []
          },
          "execution_count": 12
        }
      ]
    },
    {
      "metadata": {
        "id": "50NEszhaIn9j",
        "colab_type": "text"
      },
      "cell_type": "markdown",
      "source": [
        "### Format date into 01JUN18"
      ]
    },
    {
      "metadata": {
        "id": "znoUVk9UIuRD",
        "colab_type": "code",
        "outputId": "49b87850-8f7b-4a7d-8c1d-543162fe69a4",
        "colab": {
          "base_uri": "https://localhost:8080/",
          "height": 34
        }
      },
      "cell_type": "code",
      "source": [
        "a = dt.datetime(2018,6,1)\n",
        "a.strftime('%d%b%y').upper()"
      ],
      "execution_count": 0,
      "outputs": [
        {
          "output_type": "execute_result",
          "data": {
            "text/plain": [
              "'01JUN18'"
            ]
          },
          "metadata": {
            "tags": []
          },
          "execution_count": 188
        }
      ]
    },
    {
      "metadata": {
        "id": "Y1O7blh9vIxN",
        "colab_type": "text"
      },
      "cell_type": "markdown",
      "source": [
        "### Substracting dates"
      ]
    },
    {
      "metadata": {
        "id": "OplQtObpvN_c",
        "colab_type": "code",
        "outputId": "0ca5f05a-80a6-4bf8-f528-27fff2103048",
        "colab": {
          "base_uri": "https://localhost:8080/",
          "height": 52
        }
      },
      "cell_type": "code",
      "source": [
        "a = dt.date(2018,1,20)\n",
        "b = a - dt.timedelta(days = 1)\n",
        "print(a)\n",
        "print(b)"
      ],
      "execution_count": 0,
      "outputs": [
        {
          "output_type": "stream",
          "text": [
            "2018-01-20\n",
            "2018-01-19\n"
          ],
          "name": "stdout"
        }
      ]
    },
    {
      "metadata": {
        "id": "JA4gjZY-bF3p",
        "colab_type": "code",
        "outputId": "aa9687f8-2b5f-44ae-dbb5-30cfec2ffb47",
        "colab": {
          "base_uri": "https://localhost:8080/",
          "height": 34
        }
      },
      "cell_type": "code",
      "source": [
        "# another example\n",
        "deliverydate = '20180901'\n",
        "\n",
        "a = dt.datetime.strptime(deliverydate,'%Y%m%d')\n",
        "\n",
        "b = a - dt.timedelta(days=1)\n",
        "\n",
        "b.strftime('%Y%m%d')\n",
        "print(b)"
      ],
      "execution_count": 0,
      "outputs": [
        {
          "output_type": "stream",
          "text": [
            "2018-08-31 00:00:00\n"
          ],
          "name": "stdout"
        }
      ]
    },
    {
      "metadata": {
        "id": "KH_00_wOBXsx",
        "colab_type": "code",
        "outputId": "a1a2cce3-1066-44f5-b7d7-e5aa9b7b97ee",
        "colab": {
          "base_uri": "https://localhost:8080/",
          "height": 51
        }
      },
      "cell_type": "code",
      "source": [
        "# calc hours betwen two dates\n",
        "deliverydate = dt.datetime(2018,12,9,14,0,0)\n",
        "forecastdate = dt.datetime(2018,12,9,10,0,0)\n",
        "diff = deliverydate - forecastdate\n",
        "print(diff.seconds/3600)\n",
        "print(diff)\n",
        "#print(abs(diff))"
      ],
      "execution_count": 0,
      "outputs": [
        {
          "output_type": "stream",
          "text": [
            "4\n",
            "4:00:00\n"
          ],
          "name": "stdout"
        }
      ]
    },
    {
      "metadata": {
        "id": "DXBoRbrCB2SW",
        "colab_type": "code",
        "outputId": "121d5416-e1ff-47dd-f8a5-4f4a463cd75a",
        "colab": {
          "base_uri": "https://localhost:8080/",
          "height": 51
        }
      },
      "cell_type": "code",
      "source": [
        "# calc hours betwen two dates\n",
        "deliverydate = dt.datetime(2018,12,9,14,0,0)\n",
        "forecastdate = dt.datetime(2018,12,10,10,0,0) # note that the forecastdate is in the future!\n",
        "diff = deliverydate - forecastdate\n",
        "print(diff.seconds/3600)\n",
        "print(diff)\n",
        "#print(abs(diff))"
      ],
      "execution_count": 0,
      "outputs": [
        {
          "output_type": "stream",
          "text": [
            "4\n",
            "-1 day, 4:00:00\n"
          ],
          "name": "stdout"
        }
      ]
    },
    {
      "metadata": {
        "id": "beihHvEOQ20Y",
        "colab_type": "text"
      },
      "cell_type": "markdown",
      "source": [
        "### unix/epochs to utc"
      ]
    },
    {
      "metadata": {
        "id": "RdVnDq9xQ55o",
        "colab_type": "code",
        "outputId": "8beb5095-c3fb-4921-942f-a2cca5a31b53",
        "colab": {
          "base_uri": "https://localhost:8080/",
          "height": 34
        }
      },
      "cell_type": "code",
      "source": [
        "ts = int(\"1535824523408\")\n",
        "#print(dt.datetime.utcfromtimestamp(ts/1000).strftime('%Y-%m-%d %H:%M:%S'))\n",
        "print(dt.datetime.utcfromtimestamp(ts/1000))"
      ],
      "execution_count": 0,
      "outputs": [
        {
          "output_type": "stream",
          "text": [
            "2018-09-01 17:55:23\n"
          ],
          "name": "stdout"
        }
      ]
    },
    {
      "metadata": {
        "id": "HRr7qb8XkcLz",
        "colab_type": "text"
      },
      "cell_type": "markdown",
      "source": [
        "## Feature engineering"
      ]
    },
    {
      "metadata": {
        "id": "9v4q5jnQkgbM",
        "colab_type": "code",
        "outputId": "aed275da-73cc-4c72-d273-400cc0e88553",
        "colab": {
          "base_uri": "https://localhost:8080/",
          "height": 197
        }
      },
      "cell_type": "code",
      "source": [
        "# calc the diff and lag of a feature\n",
        "df = pd.DataFrame({'wind':[100,120,150,100,50,0,1000,80,50,10],'solar':[100,120,150,100,50,0,1000,80,50,10]})\n",
        "\n",
        "cols =  ['wind','solar']\n",
        "\n",
        "for i in cols:\n",
        "        col_name = 'diff1_' + i\n",
        "        col_name2 = 'lag1_' + i\n",
        "        df[col_name] = df[i].diff(1)\n",
        "        df[col_name2] = df[i].shift(1)\n",
        "\n",
        "df.head()"
      ],
      "execution_count": 0,
      "outputs": [
        {
          "output_type": "execute_result",
          "data": {
            "text/html": [
              "<div>\n",
              "<style scoped>\n",
              "    .dataframe tbody tr th:only-of-type {\n",
              "        vertical-align: middle;\n",
              "    }\n",
              "\n",
              "    .dataframe tbody tr th {\n",
              "        vertical-align: top;\n",
              "    }\n",
              "\n",
              "    .dataframe thead th {\n",
              "        text-align: right;\n",
              "    }\n",
              "</style>\n",
              "<table border=\"1\" class=\"dataframe\">\n",
              "  <thead>\n",
              "    <tr style=\"text-align: right;\">\n",
              "      <th></th>\n",
              "      <th>solar</th>\n",
              "      <th>wind</th>\n",
              "      <th>diff1_wind</th>\n",
              "      <th>lag1_wind</th>\n",
              "      <th>diff1_solar</th>\n",
              "      <th>lag1_solar</th>\n",
              "    </tr>\n",
              "  </thead>\n",
              "  <tbody>\n",
              "    <tr>\n",
              "      <th>0</th>\n",
              "      <td>100</td>\n",
              "      <td>100</td>\n",
              "      <td>NaN</td>\n",
              "      <td>NaN</td>\n",
              "      <td>NaN</td>\n",
              "      <td>NaN</td>\n",
              "    </tr>\n",
              "    <tr>\n",
              "      <th>1</th>\n",
              "      <td>120</td>\n",
              "      <td>120</td>\n",
              "      <td>20.0</td>\n",
              "      <td>100.0</td>\n",
              "      <td>20.0</td>\n",
              "      <td>100.0</td>\n",
              "    </tr>\n",
              "    <tr>\n",
              "      <th>2</th>\n",
              "      <td>150</td>\n",
              "      <td>150</td>\n",
              "      <td>30.0</td>\n",
              "      <td>120.0</td>\n",
              "      <td>30.0</td>\n",
              "      <td>120.0</td>\n",
              "    </tr>\n",
              "    <tr>\n",
              "      <th>3</th>\n",
              "      <td>100</td>\n",
              "      <td>100</td>\n",
              "      <td>-50.0</td>\n",
              "      <td>150.0</td>\n",
              "      <td>-50.0</td>\n",
              "      <td>150.0</td>\n",
              "    </tr>\n",
              "    <tr>\n",
              "      <th>4</th>\n",
              "      <td>50</td>\n",
              "      <td>50</td>\n",
              "      <td>-50.0</td>\n",
              "      <td>100.0</td>\n",
              "      <td>-50.0</td>\n",
              "      <td>100.0</td>\n",
              "    </tr>\n",
              "  </tbody>\n",
              "</table>\n",
              "</div>"
            ],
            "text/plain": [
              "   solar  wind  diff1_wind  lag1_wind  diff1_solar  lag1_solar\n",
              "0    100   100         NaN        NaN          NaN         NaN\n",
              "1    120   120        20.0      100.0         20.0       100.0\n",
              "2    150   150        30.0      120.0         30.0       120.0\n",
              "3    100   100       -50.0      150.0        -50.0       150.0\n",
              "4     50    50       -50.0      100.0        -50.0       100.0"
            ]
          },
          "metadata": {
            "tags": []
          },
          "execution_count": 190
        }
      ]
    },
    {
      "metadata": {
        "id": "ZkNuZd8hmr_2",
        "colab_type": "code",
        "outputId": "f185bad2-6e54-4203-bfb3-ec0a92bf60fe",
        "colab": {
          "base_uri": "https://localhost:8080/",
          "height": 197
        }
      },
      "cell_type": "code",
      "source": [
        "# be carefull with removing any rows\n",
        "idx = df['wind'] == 150\n",
        "df = df.loc[~idx]\n",
        "df.head()"
      ],
      "execution_count": 0,
      "outputs": [
        {
          "output_type": "execute_result",
          "data": {
            "text/html": [
              "<div>\n",
              "<style scoped>\n",
              "    .dataframe tbody tr th:only-of-type {\n",
              "        vertical-align: middle;\n",
              "    }\n",
              "\n",
              "    .dataframe tbody tr th {\n",
              "        vertical-align: top;\n",
              "    }\n",
              "\n",
              "    .dataframe thead th {\n",
              "        text-align: right;\n",
              "    }\n",
              "</style>\n",
              "<table border=\"1\" class=\"dataframe\">\n",
              "  <thead>\n",
              "    <tr style=\"text-align: right;\">\n",
              "      <th></th>\n",
              "      <th>solar</th>\n",
              "      <th>wind</th>\n",
              "      <th>diff1_wind</th>\n",
              "      <th>lag1_wind</th>\n",
              "      <th>diff1_solar</th>\n",
              "      <th>lag1_solar</th>\n",
              "    </tr>\n",
              "  </thead>\n",
              "  <tbody>\n",
              "    <tr>\n",
              "      <th>0</th>\n",
              "      <td>100</td>\n",
              "      <td>100</td>\n",
              "      <td>NaN</td>\n",
              "      <td>NaN</td>\n",
              "      <td>NaN</td>\n",
              "      <td>NaN</td>\n",
              "    </tr>\n",
              "    <tr>\n",
              "      <th>1</th>\n",
              "      <td>120</td>\n",
              "      <td>120</td>\n",
              "      <td>20.0</td>\n",
              "      <td>100.0</td>\n",
              "      <td>20.0</td>\n",
              "      <td>100.0</td>\n",
              "    </tr>\n",
              "    <tr>\n",
              "      <th>3</th>\n",
              "      <td>100</td>\n",
              "      <td>100</td>\n",
              "      <td>-50.0</td>\n",
              "      <td>150.0</td>\n",
              "      <td>-50.0</td>\n",
              "      <td>150.0</td>\n",
              "    </tr>\n",
              "    <tr>\n",
              "      <th>4</th>\n",
              "      <td>50</td>\n",
              "      <td>50</td>\n",
              "      <td>-50.0</td>\n",
              "      <td>100.0</td>\n",
              "      <td>-50.0</td>\n",
              "      <td>100.0</td>\n",
              "    </tr>\n",
              "    <tr>\n",
              "      <th>5</th>\n",
              "      <td>0</td>\n",
              "      <td>0</td>\n",
              "      <td>-50.0</td>\n",
              "      <td>50.0</td>\n",
              "      <td>-50.0</td>\n",
              "      <td>50.0</td>\n",
              "    </tr>\n",
              "  </tbody>\n",
              "</table>\n",
              "</div>"
            ],
            "text/plain": [
              "   solar  wind  diff1_wind  lag1_wind  diff1_solar  lag1_solar\n",
              "0    100   100         NaN        NaN          NaN         NaN\n",
              "1    120   120        20.0      100.0         20.0       100.0\n",
              "3    100   100       -50.0      150.0        -50.0       150.0\n",
              "4     50    50       -50.0      100.0        -50.0       100.0\n",
              "5      0     0       -50.0       50.0        -50.0        50.0"
            ]
          },
          "metadata": {
            "tags": []
          },
          "execution_count": 191
        }
      ]
    },
    {
      "metadata": {
        "id": "LdMa4RNC4yDO",
        "colab_type": "text"
      },
      "cell_type": "markdown",
      "source": [
        "### Dummy variables"
      ]
    },
    {
      "metadata": {
        "id": "XGvBnoav42p0",
        "colab_type": "code",
        "outputId": "1721ba1c-467e-4699-80d7-a1df9ef550b0",
        "colab": {
          "base_uri": "https://localhost:8080/",
          "height": 107
        }
      },
      "cell_type": "code",
      "source": [
        "dates = pd.date_range(dt.datetime(2018,1,1,0,0), periods=168,freq='1H')\n",
        "df = pd.DataFrame(index=dates)\n",
        "df.reset_index(inplace=True)\n",
        "df.rename(columns={'index':'datetime'},inplace=True)\n",
        "df.head(2)"
      ],
      "execution_count": 0,
      "outputs": [
        {
          "output_type": "execute_result",
          "data": {
            "text/html": [
              "<div>\n",
              "<style scoped>\n",
              "    .dataframe tbody tr th:only-of-type {\n",
              "        vertical-align: middle;\n",
              "    }\n",
              "\n",
              "    .dataframe tbody tr th {\n",
              "        vertical-align: top;\n",
              "    }\n",
              "\n",
              "    .dataframe thead th {\n",
              "        text-align: right;\n",
              "    }\n",
              "</style>\n",
              "<table border=\"1\" class=\"dataframe\">\n",
              "  <thead>\n",
              "    <tr style=\"text-align: right;\">\n",
              "      <th></th>\n",
              "      <th>datetime</th>\n",
              "    </tr>\n",
              "  </thead>\n",
              "  <tbody>\n",
              "    <tr>\n",
              "      <th>0</th>\n",
              "      <td>2018-01-01 00:00:00</td>\n",
              "    </tr>\n",
              "    <tr>\n",
              "      <th>1</th>\n",
              "      <td>2018-01-01 01:00:00</td>\n",
              "    </tr>\n",
              "  </tbody>\n",
              "</table>\n",
              "</div>"
            ],
            "text/plain": [
              "             datetime\n",
              "0 2018-01-01 00:00:00\n",
              "1 2018-01-01 01:00:00"
            ]
          },
          "metadata": {
            "tags": []
          },
          "execution_count": 192
        }
      ]
    },
    {
      "metadata": {
        "id": "ZKpdkinj50Q3",
        "colab_type": "code",
        "outputId": "5ed23532-dc86-4548-df46-ea72089f2a34",
        "colab": {
          "base_uri": "https://localhost:8080/",
          "height": 197
        }
      },
      "cell_type": "code",
      "source": [
        "df['weekday'] = df['datetime'].dt.weekday.astype('category')\n",
        "#df['hour'] = df['datetime'].dt.hour.astype('category')\n",
        "df_dummies = pd.get_dummies(df)\n",
        "df_dummies.head()"
      ],
      "execution_count": 0,
      "outputs": [
        {
          "output_type": "execute_result",
          "data": {
            "text/html": [
              "<div>\n",
              "<style scoped>\n",
              "    .dataframe tbody tr th:only-of-type {\n",
              "        vertical-align: middle;\n",
              "    }\n",
              "\n",
              "    .dataframe tbody tr th {\n",
              "        vertical-align: top;\n",
              "    }\n",
              "\n",
              "    .dataframe thead th {\n",
              "        text-align: right;\n",
              "    }\n",
              "</style>\n",
              "<table border=\"1\" class=\"dataframe\">\n",
              "  <thead>\n",
              "    <tr style=\"text-align: right;\">\n",
              "      <th></th>\n",
              "      <th>datetime</th>\n",
              "      <th>weekday_0</th>\n",
              "      <th>weekday_1</th>\n",
              "      <th>weekday_2</th>\n",
              "      <th>weekday_3</th>\n",
              "      <th>weekday_4</th>\n",
              "      <th>weekday_5</th>\n",
              "      <th>weekday_6</th>\n",
              "    </tr>\n",
              "  </thead>\n",
              "  <tbody>\n",
              "    <tr>\n",
              "      <th>0</th>\n",
              "      <td>2018-01-01 00:00:00</td>\n",
              "      <td>1</td>\n",
              "      <td>0</td>\n",
              "      <td>0</td>\n",
              "      <td>0</td>\n",
              "      <td>0</td>\n",
              "      <td>0</td>\n",
              "      <td>0</td>\n",
              "    </tr>\n",
              "    <tr>\n",
              "      <th>1</th>\n",
              "      <td>2018-01-01 01:00:00</td>\n",
              "      <td>1</td>\n",
              "      <td>0</td>\n",
              "      <td>0</td>\n",
              "      <td>0</td>\n",
              "      <td>0</td>\n",
              "      <td>0</td>\n",
              "      <td>0</td>\n",
              "    </tr>\n",
              "    <tr>\n",
              "      <th>2</th>\n",
              "      <td>2018-01-01 02:00:00</td>\n",
              "      <td>1</td>\n",
              "      <td>0</td>\n",
              "      <td>0</td>\n",
              "      <td>0</td>\n",
              "      <td>0</td>\n",
              "      <td>0</td>\n",
              "      <td>0</td>\n",
              "    </tr>\n",
              "    <tr>\n",
              "      <th>3</th>\n",
              "      <td>2018-01-01 03:00:00</td>\n",
              "      <td>1</td>\n",
              "      <td>0</td>\n",
              "      <td>0</td>\n",
              "      <td>0</td>\n",
              "      <td>0</td>\n",
              "      <td>0</td>\n",
              "      <td>0</td>\n",
              "    </tr>\n",
              "    <tr>\n",
              "      <th>4</th>\n",
              "      <td>2018-01-01 04:00:00</td>\n",
              "      <td>1</td>\n",
              "      <td>0</td>\n",
              "      <td>0</td>\n",
              "      <td>0</td>\n",
              "      <td>0</td>\n",
              "      <td>0</td>\n",
              "      <td>0</td>\n",
              "    </tr>\n",
              "  </tbody>\n",
              "</table>\n",
              "</div>"
            ],
            "text/plain": [
              "             datetime  weekday_0  weekday_1  weekday_2  weekday_3  weekday_4  \\\n",
              "0 2018-01-01 00:00:00          1          0          0          0          0   \n",
              "1 2018-01-01 01:00:00          1          0          0          0          0   \n",
              "2 2018-01-01 02:00:00          1          0          0          0          0   \n",
              "3 2018-01-01 03:00:00          1          0          0          0          0   \n",
              "4 2018-01-01 04:00:00          1          0          0          0          0   \n",
              "\n",
              "   weekday_5  weekday_6  \n",
              "0          0          0  \n",
              "1          0          0  \n",
              "2          0          0  \n",
              "3          0          0  \n",
              "4          0          0  "
            ]
          },
          "metadata": {
            "tags": []
          },
          "execution_count": 193
        }
      ]
    },
    {
      "metadata": {
        "id": "_Us5QYvZsbNc",
        "colab_type": "code",
        "outputId": "d83345b7-9140-419e-b7aa-f38bbce02221",
        "colab": {
          "base_uri": "https://localhost:8080/",
          "height": 107
        }
      },
      "cell_type": "code",
      "source": [
        "# now hour and weekday at the same time\n",
        "dates = pd.date_range(dt.datetime(2018,1,1,0,0), periods=168,freq='1H')\n",
        "df = pd.DataFrame(index=dates)\n",
        "df.reset_index(inplace=True)\n",
        "df.rename(columns={'index':'datetime'},inplace=True)\n",
        "\n",
        "df['weekday'] = df['datetime'].dt.weekday.astype('category')\n",
        "df['hour'] = df['datetime'].dt.hour.astype('category')\n",
        "\n",
        "df.head(2)"
      ],
      "execution_count": 0,
      "outputs": [
        {
          "output_type": "execute_result",
          "data": {
            "text/html": [
              "<div>\n",
              "<style scoped>\n",
              "    .dataframe tbody tr th:only-of-type {\n",
              "        vertical-align: middle;\n",
              "    }\n",
              "\n",
              "    .dataframe tbody tr th {\n",
              "        vertical-align: top;\n",
              "    }\n",
              "\n",
              "    .dataframe thead th {\n",
              "        text-align: right;\n",
              "    }\n",
              "</style>\n",
              "<table border=\"1\" class=\"dataframe\">\n",
              "  <thead>\n",
              "    <tr style=\"text-align: right;\">\n",
              "      <th></th>\n",
              "      <th>datetime</th>\n",
              "      <th>weekday</th>\n",
              "      <th>hour</th>\n",
              "    </tr>\n",
              "  </thead>\n",
              "  <tbody>\n",
              "    <tr>\n",
              "      <th>0</th>\n",
              "      <td>2018-01-01 00:00:00</td>\n",
              "      <td>0</td>\n",
              "      <td>0</td>\n",
              "    </tr>\n",
              "    <tr>\n",
              "      <th>1</th>\n",
              "      <td>2018-01-01 01:00:00</td>\n",
              "      <td>0</td>\n",
              "      <td>1</td>\n",
              "    </tr>\n",
              "  </tbody>\n",
              "</table>\n",
              "</div>"
            ],
            "text/plain": [
              "             datetime weekday hour\n",
              "0 2018-01-01 00:00:00       0    0\n",
              "1 2018-01-01 01:00:00       0    1"
            ]
          },
          "metadata": {
            "tags": []
          },
          "execution_count": 194
        }
      ]
    },
    {
      "metadata": {
        "id": "JNzIJo8dsrDz",
        "colab_type": "code",
        "outputId": "04190b8a-cdc1-409f-84c3-acdfc2996068",
        "colab": {
          "base_uri": "https://localhost:8080/",
          "height": 136
        }
      },
      "cell_type": "code",
      "source": [
        "df = pd.get_dummies(df,prefix=['day','hour'],prefix_sep = '_',columns = ['weekday','hour'])\n",
        "df.head(2)"
      ],
      "execution_count": 0,
      "outputs": [
        {
          "output_type": "execute_result",
          "data": {
            "text/html": [
              "<div>\n",
              "<style scoped>\n",
              "    .dataframe tbody tr th:only-of-type {\n",
              "        vertical-align: middle;\n",
              "    }\n",
              "\n",
              "    .dataframe tbody tr th {\n",
              "        vertical-align: top;\n",
              "    }\n",
              "\n",
              "    .dataframe thead th {\n",
              "        text-align: right;\n",
              "    }\n",
              "</style>\n",
              "<table border=\"1\" class=\"dataframe\">\n",
              "  <thead>\n",
              "    <tr style=\"text-align: right;\">\n",
              "      <th></th>\n",
              "      <th>datetime</th>\n",
              "      <th>day_0</th>\n",
              "      <th>day_1</th>\n",
              "      <th>day_2</th>\n",
              "      <th>day_3</th>\n",
              "      <th>day_4</th>\n",
              "      <th>day_5</th>\n",
              "      <th>day_6</th>\n",
              "      <th>hour_0</th>\n",
              "      <th>hour_1</th>\n",
              "      <th>...</th>\n",
              "      <th>hour_14</th>\n",
              "      <th>hour_15</th>\n",
              "      <th>hour_16</th>\n",
              "      <th>hour_17</th>\n",
              "      <th>hour_18</th>\n",
              "      <th>hour_19</th>\n",
              "      <th>hour_20</th>\n",
              "      <th>hour_21</th>\n",
              "      <th>hour_22</th>\n",
              "      <th>hour_23</th>\n",
              "    </tr>\n",
              "  </thead>\n",
              "  <tbody>\n",
              "    <tr>\n",
              "      <th>0</th>\n",
              "      <td>2018-01-01 00:00:00</td>\n",
              "      <td>1</td>\n",
              "      <td>0</td>\n",
              "      <td>0</td>\n",
              "      <td>0</td>\n",
              "      <td>0</td>\n",
              "      <td>0</td>\n",
              "      <td>0</td>\n",
              "      <td>1</td>\n",
              "      <td>0</td>\n",
              "      <td>...</td>\n",
              "      <td>0</td>\n",
              "      <td>0</td>\n",
              "      <td>0</td>\n",
              "      <td>0</td>\n",
              "      <td>0</td>\n",
              "      <td>0</td>\n",
              "      <td>0</td>\n",
              "      <td>0</td>\n",
              "      <td>0</td>\n",
              "      <td>0</td>\n",
              "    </tr>\n",
              "    <tr>\n",
              "      <th>1</th>\n",
              "      <td>2018-01-01 01:00:00</td>\n",
              "      <td>1</td>\n",
              "      <td>0</td>\n",
              "      <td>0</td>\n",
              "      <td>0</td>\n",
              "      <td>0</td>\n",
              "      <td>0</td>\n",
              "      <td>0</td>\n",
              "      <td>0</td>\n",
              "      <td>1</td>\n",
              "      <td>...</td>\n",
              "      <td>0</td>\n",
              "      <td>0</td>\n",
              "      <td>0</td>\n",
              "      <td>0</td>\n",
              "      <td>0</td>\n",
              "      <td>0</td>\n",
              "      <td>0</td>\n",
              "      <td>0</td>\n",
              "      <td>0</td>\n",
              "      <td>0</td>\n",
              "    </tr>\n",
              "  </tbody>\n",
              "</table>\n",
              "<p>2 rows × 32 columns</p>\n",
              "</div>"
            ],
            "text/plain": [
              "             datetime  day_0  day_1  day_2  day_3  day_4  day_5  day_6  \\\n",
              "0 2018-01-01 00:00:00      1      0      0      0      0      0      0   \n",
              "1 2018-01-01 01:00:00      1      0      0      0      0      0      0   \n",
              "\n",
              "   hour_0  hour_1   ...     hour_14  hour_15  hour_16  hour_17  hour_18  \\\n",
              "0       1       0   ...           0        0        0        0        0   \n",
              "1       0       1   ...           0        0        0        0        0   \n",
              "\n",
              "   hour_19  hour_20  hour_21  hour_22  hour_23  \n",
              "0        0        0        0        0        0  \n",
              "1        0        0        0        0        0  \n",
              "\n",
              "[2 rows x 32 columns]"
            ]
          },
          "metadata": {
            "tags": []
          },
          "execution_count": 195
        }
      ]
    },
    {
      "metadata": {
        "id": "QB2EJiXFs9lV",
        "colab_type": "code",
        "outputId": "de6b0899-01f0-4092-acf9-c814ed9ac74a",
        "colab": {
          "base_uri": "https://localhost:8080/",
          "height": 141
        }
      },
      "cell_type": "code",
      "source": [
        "df.columns"
      ],
      "execution_count": 0,
      "outputs": [
        {
          "output_type": "execute_result",
          "data": {
            "text/plain": [
              "Index([u'datetime', u'day_0', u'day_1', u'day_2', u'day_3', u'day_4', u'day_5',\n",
              "       u'day_6', u'hour_0', u'hour_1', u'hour_2', u'hour_3', u'hour_4',\n",
              "       u'hour_5', u'hour_6', u'hour_7', u'hour_8', u'hour_9', u'hour_10',\n",
              "       u'hour_11', u'hour_12', u'hour_13', u'hour_14', u'hour_15', u'hour_16',\n",
              "       u'hour_17', u'hour_18', u'hour_19', u'hour_20', u'hour_21', u'hour_22',\n",
              "       u'hour_23'],\n",
              "      dtype='object')"
            ]
          },
          "metadata": {
            "tags": []
          },
          "execution_count": 196
        }
      ]
    },
    {
      "metadata": {
        "id": "aJ-rjTZ4iR43",
        "colab_type": "text"
      },
      "cell_type": "markdown",
      "source": [
        "# I/O"
      ]
    },
    {
      "metadata": {
        "id": "g05yvnrhiT8y",
        "colab_type": "code",
        "colab": {}
      },
      "cell_type": "code",
      "source": [
        "# list all files in the dir\n",
        "#os.listdir('Map1/Map2/Map3')\n",
        "#os.listdir(\".\")"
      ],
      "execution_count": 0,
      "outputs": []
    },
    {
      "metadata": {
        "id": "EYbjczQrjBgX",
        "colab_type": "code",
        "colab": {}
      },
      "cell_type": "code",
      "source": [
        "# write df to csv\n",
        "df = pd.DataFrame({'employee':['John','Willem','Fred'],'age':[33,27,88]})\n",
        "#df_wide.to_csv('Input/' + 'spot_prices_utc.csv',index=True,)\n",
        "#df_wide.to_csv('Input/' + 'spot_prices_utc.csv',index=True,index_label='ValueDate_utc')\n",
        "df.to_csv('testColab.csv',index=False)"
      ],
      "execution_count": 0,
      "outputs": []
    },
    {
      "metadata": {
        "id": "k69K6CIPlzGm",
        "colab_type": "code",
        "outputId": "6f931bae-418c-4f98-8549-be35c51e0c39",
        "colab": {
          "base_uri": "https://localhost:8080/",
          "height": 137
        }
      },
      "cell_type": "code",
      "source": [
        "# read csv\n",
        "df2 = pd.read_csv('testColab.csv')\n",
        "df2.head()"
      ],
      "execution_count": 0,
      "outputs": [
        {
          "output_type": "execute_result",
          "data": {
            "text/html": [
              "<div>\n",
              "<style scoped>\n",
              "    .dataframe tbody tr th:only-of-type {\n",
              "        vertical-align: middle;\n",
              "    }\n",
              "\n",
              "    .dataframe tbody tr th {\n",
              "        vertical-align: top;\n",
              "    }\n",
              "\n",
              "    .dataframe thead th {\n",
              "        text-align: right;\n",
              "    }\n",
              "</style>\n",
              "<table border=\"1\" class=\"dataframe\">\n",
              "  <thead>\n",
              "    <tr style=\"text-align: right;\">\n",
              "      <th></th>\n",
              "      <th>age</th>\n",
              "      <th>employee</th>\n",
              "    </tr>\n",
              "  </thead>\n",
              "  <tbody>\n",
              "    <tr>\n",
              "      <th>0</th>\n",
              "      <td>33</td>\n",
              "      <td>John</td>\n",
              "    </tr>\n",
              "    <tr>\n",
              "      <th>1</th>\n",
              "      <td>27</td>\n",
              "      <td>Willem</td>\n",
              "    </tr>\n",
              "    <tr>\n",
              "      <th>2</th>\n",
              "      <td>88</td>\n",
              "      <td>Fred</td>\n",
              "    </tr>\n",
              "  </tbody>\n",
              "</table>\n",
              "</div>"
            ],
            "text/plain": [
              "   age employee\n",
              "0   33     John\n",
              "1   27   Willem\n",
              "2   88     Fred"
            ]
          },
          "metadata": {
            "tags": []
          },
          "execution_count": 199
        }
      ]
    },
    {
      "metadata": {
        "id": "eklbLUspnEUA",
        "colab_type": "code",
        "outputId": "42a6a9de-df3d-4484-f8d7-48c5801dba97",
        "colab": {
          "base_uri": "https://localhost:8080/",
          "height": 107
        }
      },
      "cell_type": "code",
      "source": [
        "# read csv but skip second row\n",
        "cols = ['age']\n",
        "df = pd.read_csv('testColab.csv',usecols=cols,skiprows=[1])\n",
        "df.head()"
      ],
      "execution_count": 0,
      "outputs": [
        {
          "output_type": "execute_result",
          "data": {
            "text/html": [
              "<div>\n",
              "<style scoped>\n",
              "    .dataframe tbody tr th:only-of-type {\n",
              "        vertical-align: middle;\n",
              "    }\n",
              "\n",
              "    .dataframe tbody tr th {\n",
              "        vertical-align: top;\n",
              "    }\n",
              "\n",
              "    .dataframe thead th {\n",
              "        text-align: right;\n",
              "    }\n",
              "</style>\n",
              "<table border=\"1\" class=\"dataframe\">\n",
              "  <thead>\n",
              "    <tr style=\"text-align: right;\">\n",
              "      <th></th>\n",
              "      <th>age</th>\n",
              "    </tr>\n",
              "  </thead>\n",
              "  <tbody>\n",
              "    <tr>\n",
              "      <th>0</th>\n",
              "      <td>27</td>\n",
              "    </tr>\n",
              "    <tr>\n",
              "      <th>1</th>\n",
              "      <td>88</td>\n",
              "    </tr>\n",
              "  </tbody>\n",
              "</table>\n",
              "</div>"
            ],
            "text/plain": [
              "   age\n",
              "0   27\n",
              "1   88"
            ]
          },
          "metadata": {
            "tags": []
          },
          "execution_count": 200
        }
      ]
    },
    {
      "metadata": {
        "id": "9dl8n3mhRL_6",
        "colab_type": "text"
      },
      "cell_type": "markdown",
      "source": [
        "# Matplotlib"
      ]
    },
    {
      "metadata": {
        "id": "mKyS-VtsRO8I",
        "colab_type": "code",
        "outputId": "233e5640-06fa-434d-8e8f-77dd502b4fa4",
        "colab": {
          "base_uri": "https://localhost:8080/",
          "height": 364
        }
      },
      "cell_type": "code",
      "source": [
        "x = np.linspace(0,10,100)\n",
        "plt.plot(x,x,label='linear')"
      ],
      "execution_count": 0,
      "outputs": [
        {
          "output_type": "execute_result",
          "data": {
            "text/plain": [
              "[<matplotlib.lines.Line2D at 0x7fa3a98b4dd0>]"
            ]
          },
          "metadata": {
            "tags": []
          },
          "execution_count": 201
        },
        {
          "output_type": "display_data",
          "data": {
            "image/png": "[encoded data removed]",
            "text/plain": [
              "<matplotlib.figure.Figure at 0x7fa3a995be50>"
            ]
          },
          "metadata": {
            "tags": []
          }
        }
      ]
    },
    {
      "metadata": {
        "id": "v-Pgtah7b1KI",
        "colab_type": "code",
        "outputId": "aeadf0da-3f33-4abb-ec2a-70484a0ec422",
        "colab": {
          "base_uri": "https://localhost:8080/",
          "height": 346
        }
      },
      "cell_type": "code",
      "source": [
        "fig = plt.figure()\n",
        "ax = fig.add_subplot(111)\n",
        "ax.plot([1, 2, 3, 4], [10, 20, 25, 30], color='lightblue', linewidth=3)\n",
        "ax.scatter([0.3, 3.8, 1.2, 2.5], [11, 25, 9, 26], color='darkgreen', marker='^')\n",
        "ax.set_xlim(0.5, 4.5)\n",
        "plt.show()"
      ],
      "execution_count": 0,
      "outputs": [
        {
          "output_type": "display_data",
          "data": {
            "image/png": "[encoded data removed]",
            "text/plain": [
              "<matplotlib.figure.Figure at 0x7fa3a8be5290>"
            ]
          },
          "metadata": {
            "tags": []
          }
        }
      ]
    },
    {
      "metadata": {
        "id": "vh5m9kjJcPg2",
        "colab_type": "code",
        "outputId": "999f2c88-2e80-424a-9df9-757ee49c0c99",
        "colab": {
          "base_uri": "https://localhost:8080/",
          "height": 346
        }
      },
      "cell_type": "code",
      "source": [
        "# Initialize the plot\n",
        "#fig = plt.figure(figsize=(4,2))\n",
        "fig = plt.figure()\n",
        "ax1 = fig.add_subplot(121)\n",
        "ax2 = fig.add_subplot(122)\n",
        "\n",
        "# Plot the data\n",
        "ax1.bar([1,2,3],[3,4,5])\n",
        "ax2.barh([0.5,1,2.5],[0,1,2])\n",
        "\n",
        "# Show the plot\n",
        "plt.show()"
      ],
      "execution_count": 0,
      "outputs": [
        {
          "output_type": "display_data",
          "data": {
            "image/png": "[encoded data removed]",
            "text/plain": [
              "<matplotlib.figure.Figure at 0x7fa3a971fcd0>"
            ]
          },
          "metadata": {
            "tags": []
          }
        }
      ]
    },
    {
      "metadata": {
        "id": "QUSOyj_Dc9Vh",
        "colab_type": "code",
        "colab": {}
      },
      "cell_type": "code",
      "source": [
        ""
      ],
      "execution_count": 0,
      "outputs": []
    },
    {
      "metadata": {
        "id": "4rANthC8cFN1",
        "colab_type": "text"
      },
      "cell_type": "markdown",
      "source": [
        "# Generating data"
      ]
    },
    {
      "metadata": {
        "id": "M0ZfBfg9cHQV",
        "colab_type": "code",
        "outputId": "940e572e-5291-445f-e201-2e36565d7555",
        "colab": {
          "base_uri": "https://localhost:8080/",
          "height": 34
        }
      },
      "cell_type": "code",
      "source": [
        "# random floats between 0 and 1\n",
        "np.random.seed(42)\n",
        "np.random.random(3)"
      ],
      "execution_count": 0,
      "outputs": [
        {
          "output_type": "execute_result",
          "data": {
            "text/plain": [
              "array([0.37454012, 0.95071431, 0.73199394])"
            ]
          },
          "metadata": {
            "tags": []
          },
          "execution_count": 204
        }
      ]
    },
    {
      "metadata": {
        "id": "0BAB198FcUeT",
        "colab_type": "code",
        "outputId": "81b692ea-395b-417f-f2d6-3c6880f166ba",
        "colab": {
          "base_uri": "https://localhost:8080/",
          "height": 34
        }
      },
      "cell_type": "code",
      "source": [
        "# random integers between 1 and 10\n",
        "np.random.randint(0,5,3)"
      ],
      "execution_count": 0,
      "outputs": [
        {
          "output_type": "execute_result",
          "data": {
            "text/plain": [
              "array([4, 4, 1])"
            ]
          },
          "metadata": {
            "tags": []
          },
          "execution_count": 205
        }
      ]
    },
    {
      "metadata": {
        "id": "p5J4aNeecnfl",
        "colab_type": "code",
        "outputId": "7ca18149-46e9-45a1-9994-3889f81132e0",
        "colab": {
          "base_uri": "https://localhost:8080/",
          "height": 34
        }
      },
      "cell_type": "code",
      "source": [
        "# normal dist with mean 0 and std is 1\n",
        "np.random.normal(0.0,1.0,3)"
      ],
      "execution_count": 0,
      "outputs": [
        {
          "output_type": "execute_result",
          "data": {
            "text/plain": [
              "array([ 0.27904129,  1.01051528, -0.58087813])"
            ]
          },
          "metadata": {
            "tags": []
          },
          "execution_count": 206
        }
      ]
    },
    {
      "metadata": {
        "id": "VQeljDkfdHJD",
        "colab_type": "code",
        "outputId": "d84d2139-c4b3-4cfd-e868-057c4797e4f7",
        "colab": {
          "base_uri": "https://localhost:8080/",
          "height": 34
        }
      },
      "cell_type": "code",
      "source": [
        "# uniform dist\n",
        "np.random.uniform(1.0,2.0,3)"
      ],
      "execution_count": 0,
      "outputs": [
        {
          "output_type": "execute_result",
          "data": {
            "text/plain": [
              "array([1.18340451, 1.30424224, 1.52475643])"
            ]
          },
          "metadata": {
            "tags": []
          },
          "execution_count": 207
        }
      ]
    },
    {
      "metadata": {
        "id": "9N2BQ1ZHg3V_",
        "colab_type": "text"
      },
      "cell_type": "markdown",
      "source": [
        "# Sample datasets"
      ]
    },
    {
      "metadata": {
        "id": "eQAzcB8figzE",
        "colab_type": "text"
      },
      "cell_type": "markdown",
      "source": [
        "- sklearn has some nice small datasets \n",
        "- load_boston good for regression\n",
        "- load_iris (classification)\n",
        "- load_digits (image classifiaction)"
      ]
    },
    {
      "metadata": {
        "id": "4rtM11OYg7w1",
        "colab_type": "code",
        "colab": {}
      },
      "cell_type": "code",
      "source": [
        "from sklearn import datasets"
      ],
      "execution_count": 0,
      "outputs": []
    },
    {
      "metadata": {
        "id": "fypk5reKg-td",
        "colab_type": "code",
        "colab": {}
      },
      "cell_type": "code",
      "source": [
        "# load boston dataset\n",
        "boston = datasets.load_boston()"
      ],
      "execution_count": 0,
      "outputs": []
    },
    {
      "metadata": {
        "id": "hcANIiM7hVKb",
        "colab_type": "code",
        "colab": {}
      },
      "cell_type": "code",
      "source": [
        "features = boston.data\n",
        "target = boston.target"
      ],
      "execution_count": 0,
      "outputs": []
    },
    {
      "metadata": {
        "id": "cwgnTnaghevi",
        "colab_type": "code",
        "outputId": "433e34e3-259d-4c3e-a2c8-4b3189f4aeda",
        "colab": {
          "base_uri": "https://localhost:8080/",
          "height": 34
        }
      },
      "cell_type": "code",
      "source": [
        "type(features)"
      ],
      "execution_count": 0,
      "outputs": [
        {
          "output_type": "execute_result",
          "data": {
            "text/plain": [
              "numpy.ndarray"
            ]
          },
          "metadata": {
            "tags": []
          },
          "execution_count": 211
        }
      ]
    },
    {
      "metadata": {
        "id": "qvtqkgWlhkkK",
        "colab_type": "code",
        "outputId": "50a5984f-2112-4653-e024-7f4713019a1e",
        "colab": {
          "base_uri": "https://localhost:8080/",
          "height": 52
        }
      },
      "cell_type": "code",
      "source": [
        "boston.feature_names"
      ],
      "execution_count": 0,
      "outputs": [
        {
          "output_type": "execute_result",
          "data": {
            "text/plain": [
              "array(['CRIM', 'ZN', 'INDUS', 'CHAS', 'NOX', 'RM', 'AGE', 'DIS', 'RAD',\n",
              "       'TAX', 'PTRATIO', 'B', 'LSTAT'], dtype='|S7')"
            ]
          },
          "metadata": {
            "tags": []
          },
          "execution_count": 212
        }
      ]
    },
    {
      "metadata": {
        "id": "2Id7z7pWhzMx",
        "colab_type": "code",
        "outputId": "c2cad96a-d259-4e08-bf83-c474507d5d78",
        "colab": {
          "base_uri": "https://localhost:8080/",
          "height": 137
        }
      },
      "cell_type": "code",
      "source": [
        "df = pd.DataFrame(features,columns=boston.feature_names)\n",
        "df.head(3)"
      ],
      "execution_count": 0,
      "outputs": [
        {
          "output_type": "execute_result",
          "data": {
            "text/html": [
              "<div>\n",
              "<style scoped>\n",
              "    .dataframe tbody tr th:only-of-type {\n",
              "        vertical-align: middle;\n",
              "    }\n",
              "\n",
              "    .dataframe tbody tr th {\n",
              "        vertical-align: top;\n",
              "    }\n",
              "\n",
              "    .dataframe thead th {\n",
              "        text-align: right;\n",
              "    }\n",
              "</style>\n",
              "<table border=\"1\" class=\"dataframe\">\n",
              "  <thead>\n",
              "    <tr style=\"text-align: right;\">\n",
              "      <th></th>\n",
              "      <th>CRIM</th>\n",
              "      <th>ZN</th>\n",
              "      <th>INDUS</th>\n",
              "      <th>CHAS</th>\n",
              "      <th>NOX</th>\n",
              "      <th>RM</th>\n",
              "      <th>AGE</th>\n",
              "      <th>DIS</th>\n",
              "      <th>RAD</th>\n",
              "      <th>TAX</th>\n",
              "      <th>PTRATIO</th>\n",
              "      <th>B</th>\n",
              "      <th>LSTAT</th>\n",
              "    </tr>\n",
              "  </thead>\n",
              "  <tbody>\n",
              "    <tr>\n",
              "      <th>0</th>\n",
              "      <td>0.00632</td>\n",
              "      <td>18.0</td>\n",
              "      <td>2.31</td>\n",
              "      <td>0.0</td>\n",
              "      <td>0.538</td>\n",
              "      <td>6.575</td>\n",
              "      <td>65.2</td>\n",
              "      <td>4.0900</td>\n",
              "      <td>1.0</td>\n",
              "      <td>296.0</td>\n",
              "      <td>15.3</td>\n",
              "      <td>396.90</td>\n",
              "      <td>4.98</td>\n",
              "    </tr>\n",
              "    <tr>\n",
              "      <th>1</th>\n",
              "      <td>0.02731</td>\n",
              "      <td>0.0</td>\n",
              "      <td>7.07</td>\n",
              "      <td>0.0</td>\n",
              "      <td>0.469</td>\n",
              "      <td>6.421</td>\n",
              "      <td>78.9</td>\n",
              "      <td>4.9671</td>\n",
              "      <td>2.0</td>\n",
              "      <td>242.0</td>\n",
              "      <td>17.8</td>\n",
              "      <td>396.90</td>\n",
              "      <td>9.14</td>\n",
              "    </tr>\n",
              "    <tr>\n",
              "      <th>2</th>\n",
              "      <td>0.02729</td>\n",
              "      <td>0.0</td>\n",
              "      <td>7.07</td>\n",
              "      <td>0.0</td>\n",
              "      <td>0.469</td>\n",
              "      <td>7.185</td>\n",
              "      <td>61.1</td>\n",
              "      <td>4.9671</td>\n",
              "      <td>2.0</td>\n",
              "      <td>242.0</td>\n",
              "      <td>17.8</td>\n",
              "      <td>392.83</td>\n",
              "      <td>4.03</td>\n",
              "    </tr>\n",
              "  </tbody>\n",
              "</table>\n",
              "</div>"
            ],
            "text/plain": [
              "      CRIM    ZN  INDUS  CHAS    NOX     RM   AGE     DIS  RAD    TAX  \\\n",
              "0  0.00632  18.0   2.31   0.0  0.538  6.575  65.2  4.0900  1.0  296.0   \n",
              "1  0.02731   0.0   7.07   0.0  0.469  6.421  78.9  4.9671  2.0  242.0   \n",
              "2  0.02729   0.0   7.07   0.0  0.469  7.185  61.1  4.9671  2.0  242.0   \n",
              "\n",
              "   PTRATIO       B  LSTAT  \n",
              "0     15.3  396.90   4.98  \n",
              "1     17.8  396.90   9.14  \n",
              "2     17.8  392.83   4.03  "
            ]
          },
          "metadata": {
            "tags": []
          },
          "execution_count": 213
        }
      ]
    },
    {
      "metadata": {
        "id": "i2hO1Vcfkgbl",
        "colab_type": "text"
      },
      "cell_type": "markdown",
      "source": [
        "# Plotting with pandas"
      ]
    },
    {
      "metadata": {
        "id": "_0J6sYvdiD3o",
        "colab_type": "code",
        "outputId": "3f9dad6f-1a0f-43c9-fc49-b3621c5ef72e",
        "colab": {
          "base_uri": "https://localhost:8080/",
          "height": 364
        }
      },
      "cell_type": "code",
      "source": [
        "# line plot\n",
        "df.plot(y='NOX',kind='line') # same as df.plot.line()"
      ],
      "execution_count": 0,
      "outputs": [
        {
          "output_type": "execute_result",
          "data": {
            "text/plain": [
              "<matplotlib.axes._subplots.AxesSubplot at 0x7fa3a56a0b50>"
            ]
          },
          "metadata": {
            "tags": []
          },
          "execution_count": 214
        },
        {
          "output_type": "display_data",
          "data": {
            "image/png": "[encoded data removed]",
            "text/plain": [
              "<matplotlib.figure.Figure at 0x7fa3a98b4e90>"
            ]
          },
          "metadata": {
            "tags": []
          }
        }
      ]
    },
    {
      "metadata": {
        "id": "zODU0XarjooH",
        "colab_type": "code",
        "outputId": "278bef3e-5496-48f0-8254-aa8580f1ea4c",
        "colab": {
          "base_uri": "https://localhost:8080/",
          "height": 378
        }
      },
      "cell_type": "code",
      "source": [
        "# make scatter plot\n",
        "df.plot(x='RAD',y='TAX',kind='scatter')"
      ],
      "execution_count": 0,
      "outputs": [
        {
          "output_type": "execute_result",
          "data": {
            "text/plain": [
              "<matplotlib.axes._subplots.AxesSubplot at 0x7fa3a9859b50>"
            ]
          },
          "metadata": {
            "tags": []
          },
          "execution_count": 215
        },
        {
          "output_type": "display_data",
          "data": {
            "image/png": "[encoded data removed]",
            "text/plain": [
              "<matplotlib.figure.Figure at 0x7fa3a983b290>"
            ]
          },
          "metadata": {
            "tags": []
          }
        }
      ]
    },
    {
      "metadata": {
        "id": "cQ01_E-jj4dD",
        "colab_type": "code",
        "outputId": "120cadb4-1fd0-4914-a5d1-ebda74b4e2c7",
        "colab": {
          "base_uri": "https://localhost:8080/",
          "height": 365
        }
      },
      "cell_type": "code",
      "source": [
        "df.plot(y='AGE',kind='density')"
      ],
      "execution_count": 0,
      "outputs": [
        {
          "output_type": "execute_result",
          "data": {
            "text/plain": [
              "<matplotlib.axes._subplots.AxesSubplot at 0x7fa3a983b750>"
            ]
          },
          "metadata": {
            "tags": []
          },
          "execution_count": 216
        },
        {
          "output_type": "display_data",
          "data": {
            "image/png": "[encoded data removed]",
            "text/plain": [
              "<matplotlib.figure.Figure at 0x7fa3a97dc350>"
            ]
          },
          "metadata": {
            "tags": []
          }
        }
      ]
    },
    {
      "metadata": {
        "id": "IcB89-xzlnXM",
        "colab_type": "code",
        "outputId": "31d5ae10-3fa1-4132-9609-f04fb2548392",
        "colab": {
          "base_uri": "https://localhost:8080/",
          "height": 365
        }
      },
      "cell_type": "code",
      "source": [
        "df['AGE2'] = df['AGE'] -30\n",
        "df.plot(y=['AGE','AGE2'],kind='density')"
      ],
      "execution_count": 0,
      "outputs": [
        {
          "output_type": "execute_result",
          "data": {
            "text/plain": [
              "<matplotlib.axes._subplots.AxesSubplot at 0x7fa3a9293390>"
            ]
          },
          "metadata": {
            "tags": []
          },
          "execution_count": 217
        },
        {
          "output_type": "display_data",
          "data": {
            "image/png": "[encoded data removed]",
            "text/plain": [
              "<matplotlib.figure.Figure at 0x7fa3a92422d0>"
            ]
          },
          "metadata": {
            "tags": []
          }
        }
      ]
    },
    {
      "metadata": {
        "id": "lUjxkcfHlrti",
        "colab_type": "code",
        "colab": {}
      },
      "cell_type": "code",
      "source": [
        "df = pd.DataFrame({'name':['appel','peer','banaan'],'weight':[30,19,22]})"
      ],
      "execution_count": 0,
      "outputs": []
    },
    {
      "metadata": {
        "id": "QXKVoHmnsTmv",
        "colab_type": "code",
        "outputId": "45f911c2-9c4b-43d0-c833-8e8070733e86",
        "colab": {
          "base_uri": "https://localhost:8080/",
          "height": 137
        }
      },
      "cell_type": "code",
      "source": [
        "df"
      ],
      "execution_count": 0,
      "outputs": [
        {
          "output_type": "execute_result",
          "data": {
            "text/html": [
              "<div>\n",
              "<style scoped>\n",
              "    .dataframe tbody tr th:only-of-type {\n",
              "        vertical-align: middle;\n",
              "    }\n",
              "\n",
              "    .dataframe tbody tr th {\n",
              "        vertical-align: top;\n",
              "    }\n",
              "\n",
              "    .dataframe thead th {\n",
              "        text-align: right;\n",
              "    }\n",
              "</style>\n",
              "<table border=\"1\" class=\"dataframe\">\n",
              "  <thead>\n",
              "    <tr style=\"text-align: right;\">\n",
              "      <th></th>\n",
              "      <th>name</th>\n",
              "      <th>weight</th>\n",
              "    </tr>\n",
              "  </thead>\n",
              "  <tbody>\n",
              "    <tr>\n",
              "      <th>0</th>\n",
              "      <td>appel</td>\n",
              "      <td>30</td>\n",
              "    </tr>\n",
              "    <tr>\n",
              "      <th>1</th>\n",
              "      <td>peer</td>\n",
              "      <td>19</td>\n",
              "    </tr>\n",
              "    <tr>\n",
              "      <th>2</th>\n",
              "      <td>banaan</td>\n",
              "      <td>22</td>\n",
              "    </tr>\n",
              "  </tbody>\n",
              "</table>\n",
              "</div>"
            ],
            "text/plain": [
              "     name  weight\n",
              "0   appel      30\n",
              "1    peer      19\n",
              "2  banaan      22"
            ]
          },
          "metadata": {
            "tags": []
          },
          "execution_count": 222
        }
      ]
    },
    {
      "metadata": {
        "id": "fzPVH6hJsUV3",
        "colab_type": "code",
        "outputId": "7e2e6f6d-f810-4d15-ed71-51ef6571c63b",
        "colab": {
          "base_uri": "https://localhost:8080/",
          "height": 107
        }
      },
      "cell_type": "code",
      "source": [
        "idx = df['weight']>20\n",
        "df2 = df.loc[idx]\n",
        "df2"
      ],
      "execution_count": 0,
      "outputs": [
        {
          "output_type": "execute_result",
          "data": {
            "text/html": [
              "<div>\n",
              "<style scoped>\n",
              "    .dataframe tbody tr th:only-of-type {\n",
              "        vertical-align: middle;\n",
              "    }\n",
              "\n",
              "    .dataframe tbody tr th {\n",
              "        vertical-align: top;\n",
              "    }\n",
              "\n",
              "    .dataframe thead th {\n",
              "        text-align: right;\n",
              "    }\n",
              "</style>\n",
              "<table border=\"1\" class=\"dataframe\">\n",
              "  <thead>\n",
              "    <tr style=\"text-align: right;\">\n",
              "      <th></th>\n",
              "      <th>name</th>\n",
              "      <th>weight</th>\n",
              "    </tr>\n",
              "  </thead>\n",
              "  <tbody>\n",
              "    <tr>\n",
              "      <th>0</th>\n",
              "      <td>appel</td>\n",
              "      <td>30</td>\n",
              "    </tr>\n",
              "    <tr>\n",
              "      <th>2</th>\n",
              "      <td>banaan</td>\n",
              "      <td>22</td>\n",
              "    </tr>\n",
              "  </tbody>\n",
              "</table>\n",
              "</div>"
            ],
            "text/plain": [
              "     name  weight\n",
              "0   appel      30\n",
              "2  banaan      22"
            ]
          },
          "metadata": {
            "tags": []
          },
          "execution_count": 223
        }
      ]
    },
    {
      "metadata": {
        "id": "dP0UHzXiseTA",
        "colab_type": "code",
        "outputId": "963b02e9-323a-46c5-f23c-690f140f7327",
        "colab": {
          "base_uri": "https://localhost:8080/",
          "height": 87
        }
      },
      "cell_type": "code",
      "source": [
        "idx2 = df2['name'] == 'banaan'\n",
        "print(idx2.shape)\n",
        "print(idx2)"
      ],
      "execution_count": 0,
      "outputs": [
        {
          "output_type": "stream",
          "text": [
            "(2,)\n",
            "0    False\n",
            "2     True\n",
            "Name: name, dtype: bool\n"
          ],
          "name": "stdout"
        }
      ]
    },
    {
      "metadata": {
        "id": "Vfng-4r_soo_",
        "colab_type": "code",
        "outputId": "211596c3-2f9a-43ed-c2e5-6607040aa40b",
        "colab": {
          "base_uri": "https://localhost:8080/",
          "height": 77
        }
      },
      "cell_type": "code",
      "source": [
        "df2.loc[idx2]"
      ],
      "execution_count": 0,
      "outputs": [
        {
          "output_type": "execute_result",
          "data": {
            "text/html": [
              "<div>\n",
              "<style scoped>\n",
              "    .dataframe tbody tr th:only-of-type {\n",
              "        vertical-align: middle;\n",
              "    }\n",
              "\n",
              "    .dataframe tbody tr th {\n",
              "        vertical-align: top;\n",
              "    }\n",
              "\n",
              "    .dataframe thead th {\n",
              "        text-align: right;\n",
              "    }\n",
              "</style>\n",
              "<table border=\"1\" class=\"dataframe\">\n",
              "  <thead>\n",
              "    <tr style=\"text-align: right;\">\n",
              "      <th></th>\n",
              "      <th>name</th>\n",
              "      <th>weight</th>\n",
              "    </tr>\n",
              "  </thead>\n",
              "  <tbody>\n",
              "    <tr>\n",
              "      <th>2</th>\n",
              "      <td>banaan</td>\n",
              "      <td>22</td>\n",
              "    </tr>\n",
              "  </tbody>\n",
              "</table>\n",
              "</div>"
            ],
            "text/plain": [
              "     name  weight\n",
              "2  banaan      22"
            ]
          },
          "metadata": {
            "tags": []
          },
          "execution_count": 230
        }
      ]
    },
    {
      "metadata": {
        "id": "6pW4PYKrZCn0",
        "colab_type": "text"
      },
      "cell_type": "markdown",
      "source": [
        "# Regex"
      ]
    },
    {
      "metadata": {
        "id": "dFJkTHsdZJ7B",
        "colab_type": "code",
        "colab": {}
      },
      "cell_type": "code",
      "source": [
        "match = re.search(r'iii', 'piiig') "
      ],
      "execution_count": 0,
      "outputs": []
    },
    {
      "metadata": {
        "id": "vBNLiHa-aIcu",
        "colab_type": "code",
        "outputId": "4baa264f-d816-403d-9d40-76d257d25e30",
        "colab": {
          "base_uri": "https://localhost:8080/",
          "height": 34
        }
      },
      "cell_type": "code",
      "source": [
        "match.group()"
      ],
      "execution_count": 0,
      "outputs": [
        {
          "output_type": "execute_result",
          "data": {
            "text/plain": [
              "'iii'"
            ]
          },
          "metadata": {
            "tags": []
          },
          "execution_count": 12
        }
      ]
    },
    {
      "metadata": {
        "id": "Azr8Q2uuaVgF",
        "colab_type": "code",
        "outputId": "88afe970-f980-4c86-ccda-f650a1c02fdf",
        "colab": {
          "base_uri": "https://localhost:8080/",
          "height": 51
        }
      },
      "cell_type": "code",
      "source": [
        "print(re.search(r'app', 'ikeeteenappel').group())\n",
        "print(re.search(r'app', 'ikeeteenappelvandaageneenappelgister').group())"
      ],
      "execution_count": 0,
      "outputs": [
        {
          "output_type": "stream",
          "text": [
            "app\n",
            "app\n"
          ],
          "name": "stdout"
        }
      ]
    },
    {
      "metadata": {
        "id": "mysPArLfbzzy",
        "colab_type": "code",
        "outputId": "7ade49ab-805a-4aec-d8ca-d124c0663ed1",
        "colab": {
          "base_uri": "https://localhost:8080/",
          "height": 51
        }
      },
      "cell_type": "code",
      "source": [
        "print(re.search(r'app|banaan', 'ikeeteenappelofeenbanaan').group())\n",
        "print(re.search(r'app|banaan', 'ikeeteenbanaanofeenappel').group())"
      ],
      "execution_count": 0,
      "outputs": [
        {
          "output_type": "stream",
          "text": [
            "app\n",
            "banaan\n"
          ],
          "name": "stdout"
        }
      ]
    },
    {
      "metadata": {
        "id": "qudf7f1ShfhY",
        "colab_type": "code",
        "outputId": "dc818bc0-3dd2-4ee8-b8c3-66a276060a56",
        "colab": {
          "base_uri": "https://localhost:8080/",
          "height": 34
        }
      },
      "cell_type": "code",
      "source": [
        "# now digit + appel\n",
        "print(re.search(r'\\d+appel', 'ikeetelkedag10appels').group())"
      ],
      "execution_count": 0,
      "outputs": [
        {
          "output_type": "stream",
          "text": [
            "10appel\n"
          ],
          "name": "stdout"
        }
      ]
    },
    {
      "metadata": {
        "id": "BXdeis37x0Vi",
        "colab_type": "code",
        "outputId": "927fd479-33e2-4ee1-a6aa-f77538ed82da",
        "colab": {
          "base_uri": "https://localhost:8080/",
          "height": 34
        }
      },
      "cell_type": "code",
      "source": [
        "# now digit + appel + koe\n",
        "print(re.search(r'\\d+appel|koe', 'ikeetelkedag10appelsofeenkoe').group())"
      ],
      "execution_count": 0,
      "outputs": [
        {
          "output_type": "stream",
          "text": [
            "10appel\n"
          ],
          "name": "stdout"
        }
      ]
    },
    {
      "metadata": {
        "id": "tnIy9iOoyqGj",
        "colab_type": "code",
        "colab": {}
      },
      "cell_type": "code",
      "source": [
        ""
      ],
      "execution_count": 0,
      "outputs": []
    }
  ]
}