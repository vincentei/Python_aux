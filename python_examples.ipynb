{
  "nbformat": 4,
  "nbformat_minor": 0,
  "metadata": {
    "colab": {
      "name": "python_examples.ipynb",
      "version": "0.3.2",
      "provenance": [],
      "collapsed_sections": [
        "9ZikxMnRTdYi"
      ],
      "toc_visible": true
    },
    "kernelspec": {
      "display_name": "Python [conda root]",
      "language": "python",
      "name": "conda-root-py"
    }
  },
  "cells": [
    {
      "cell_type": "markdown",
      "metadata": {
        "id": "view-in-github",
        "colab_type": "text"
      },
      "source": [
        "[View in Colaboratory](https://colab.research.google.com/github/vincentei/Python_aux/blob/master/python_examples.ipynb)"
      ]
    },
    {
      "metadata": {
        "id": "KpfRTPUZTdXi",
        "colab_type": "code",
        "colab": {}
      },
      "cell_type": "code",
      "source": [
        "import numpy as np\n",
        "import pandas as pd\n",
        "import matplotlib.pyplot as plt\n",
        "\n",
        "import datetime as dt\n",
        "import pytz\n",
        "import time\n",
        "import os\n",
        "import sys\n",
        "import dateutil.parser"
      ],
      "execution_count": 0,
      "outputs": []
    },
    {
      "metadata": {
        "id": "dB-FyYjo077L",
        "colab_type": "code",
        "colab": {}
      },
      "cell_type": "code",
      "source": [
        "import sys\n",
        "if sys.version_info[0] < 3: \n",
        "    from StringIO import StringIO\n",
        "else:\n",
        "    from io import StringIO"
      ],
      "execution_count": 0,
      "outputs": []
    },
    {
      "metadata": {
        "id": "bikwzGmATdXn",
        "colab_type": "text"
      },
      "cell_type": "markdown",
      "source": [
        "## Numpy"
      ]
    },
    {
      "metadata": {
        "id": "5NwipL3UTdXo",
        "colab_type": "code",
        "colab": {
          "base_uri": "https://localhost:8080/",
          "height": 51
        },
        "outputId": "29e64a14-1610-482f-d14e-c41cd38a41d3"
      },
      "cell_type": "code",
      "source": [
        "# creating numpy arrays with dimension (3,2) and (2,4) , (n,m) * (m,k)\n",
        "A = np.array([[1,2], [3,4],[5,6]])\n",
        "B = np.array([[1,2,3,4], [5,6,7,8]])\n",
        "print (A.shape)\n",
        "print (B.shape)"
      ],
      "execution_count": 79,
      "outputs": [
        {
          "output_type": "stream",
          "text": [
            "(3, 2)\n",
            "(2, 4)\n"
          ],
          "name": "stdout"
        }
      ]
    },
    {
      "metadata": {
        "id": "9GsZfSePTdXu",
        "colab_type": "code",
        "colab": {
          "base_uri": "https://localhost:8080/",
          "height": 34
        },
        "outputId": "d0138229-7c50-42cc-f096-1dff7eb18eb2"
      },
      "cell_type": "code",
      "source": [
        "# calc multiply two matrices, dot product between two matrices\n",
        "C = np.matmul(A,B)\n",
        "print (C.shape)"
      ],
      "execution_count": 80,
      "outputs": [
        {
          "output_type": "stream",
          "text": [
            "(3, 4)\n"
          ],
          "name": "stdout"
        }
      ]
    },
    {
      "metadata": {
        "id": "c79dfJQyTdXy",
        "colab_type": "code",
        "colab": {
          "base_uri": "https://localhost:8080/",
          "height": 68
        },
        "outputId": "c70497e2-d9e8-4634-f8d2-ab644acef5a7"
      },
      "cell_type": "code",
      "source": [
        "# create numpy array with range from 1 to 10, then reshape into (2,5) matrix\n",
        "a = np.arange(1,11)\n",
        "print (a)\n",
        "A = a.reshape(2,5)\n",
        "print (A)"
      ],
      "execution_count": 81,
      "outputs": [
        {
          "output_type": "stream",
          "text": [
            "[ 1  2  3  4  5  6  7  8  9 10]\n",
            "[[ 1  2  3  4  5]\n",
            " [ 6  7  8  9 10]]\n"
          ],
          "name": "stdout"
        }
      ]
    },
    {
      "metadata": {
        "id": "WMIF2D6NTdX2",
        "colab_type": "code",
        "colab": {}
      },
      "cell_type": "code",
      "source": [
        "# now create (2,3) random numpy with same seed\n",
        "np.random.seed(42)\n",
        "A = np.random.randn(3,10)"
      ],
      "execution_count": 0,
      "outputs": []
    },
    {
      "metadata": {
        "id": "YCvF3gk0TdX5",
        "colab_type": "code",
        "colab": {
          "base_uri": "https://localhost:8080/",
          "height": 34
        },
        "outputId": "66062858-0906-4ec8-936a-b197c94cc1db"
      },
      "cell_type": "code",
      "source": [
        "# concatenate two arrays\n",
        "a = np.array([1,2,3])\n",
        "b = np.array([4,5,6])\n",
        "print(np.concatenate([a,b]))"
      ],
      "execution_count": 83,
      "outputs": [
        {
          "output_type": "stream",
          "text": [
            "[1 2 3 4 5 6]\n"
          ],
          "name": "stdout"
        }
      ]
    },
    {
      "metadata": {
        "id": "BXt5GjwcTdX-",
        "colab_type": "code",
        "colab": {
          "base_uri": "https://localhost:8080/",
          "height": 51
        },
        "outputId": "7952bd40-9ce1-4b89-ba8e-537311d6363f"
      },
      "cell_type": "code",
      "source": [
        "# concatenate two matrices\n",
        "a = np.array([[1,2,3],[3,4,3]])\n",
        "b = np.array([[1,2,3],[3,4,3]])\n",
        "c = np.concatenate([a,b])\n",
        "d = np.concatenate([a,b],axis=1)\n",
        "print(c.shape)\n",
        "print(d.shape)"
      ],
      "execution_count": 84,
      "outputs": [
        {
          "output_type": "stream",
          "text": [
            "(4, 3)\n",
            "(2, 6)\n"
          ],
          "name": "stdout"
        }
      ]
    },
    {
      "metadata": {
        "id": "B_GU0X6OTdYB",
        "colab_type": "code",
        "colab": {
          "base_uri": "https://localhost:8080/",
          "height": 34
        },
        "outputId": "19532c47-2f81-46e2-d7d4-14296811a4bd"
      },
      "cell_type": "code",
      "source": [
        "# sum two arrays\n",
        "a = np.array([1,2,3])\n",
        "b = np.array([4,5,6])\n",
        "print(a + b)"
      ],
      "execution_count": 85,
      "outputs": [
        {
          "output_type": "stream",
          "text": [
            "[5 7 9]\n"
          ],
          "name": "stdout"
        }
      ]
    },
    {
      "metadata": {
        "id": "pU_VIrp6TdYH",
        "colab_type": "code",
        "colab": {
          "base_uri": "https://localhost:8080/",
          "height": 51
        },
        "outputId": "34127c66-db15-4640-fb70-7f6ccabe21e1"
      },
      "cell_type": "code",
      "source": [
        "# clipping (ie squash value of numpy array between min, max)\n",
        "a = np.arange(6)\n",
        "print (a)\n",
        "print (np.clip(a,2,4))"
      ],
      "execution_count": 86,
      "outputs": [
        {
          "output_type": "stream",
          "text": [
            "[0 1 2 3 4 5]\n",
            "[2 2 2 3 4 4]\n"
          ],
          "name": "stdout"
        }
      ]
    },
    {
      "metadata": {
        "id": "u_0lQvv5TdYL",
        "colab_type": "code",
        "colab": {
          "base_uri": "https://localhost:8080/",
          "height": 34
        },
        "outputId": "93b73f30-01d7-4579-ef96-b6615542e6e2"
      },
      "cell_type": "code",
      "source": [
        "# sample idx from distribution\n",
        "h = np.array([0.1, 0.2, 0.5,0.2])\n",
        "#index = np.random.choice([0, 1, 2, 3], p = h.ravel())\n",
        "#print(index)\n",
        "index2 = np.random.choice(np.arange(len(h)), p = h.ravel())\n",
        "print(index2)"
      ],
      "execution_count": 87,
      "outputs": [
        {
          "output_type": "stream",
          "text": [
            "2\n"
          ],
          "name": "stdout"
        }
      ]
    },
    {
      "metadata": {
        "id": "-Pg7lSwBTdYP",
        "colab_type": "code",
        "colab": {
          "base_uri": "https://localhost:8080/",
          "height": 34
        },
        "outputId": "511f7b5f-2dcc-4176-d121-33892e986315"
      },
      "cell_type": "code",
      "source": [
        "# give index of max value in numpy array\n",
        "a = np.array([1,33,4,5])\n",
        "print(np.argmax(a))"
      ],
      "execution_count": 88,
      "outputs": [
        {
          "output_type": "stream",
          "text": [
            "1\n"
          ],
          "name": "stdout"
        }
      ]
    },
    {
      "metadata": {
        "id": "QLi6bSELTdYT",
        "colab_type": "code",
        "colab": {
          "base_uri": "https://localhost:8080/",
          "height": 85
        },
        "outputId": "841b9486-c401-42f7-d9df-1bd2b632c2f7"
      },
      "cell_type": "code",
      "source": [
        "# give index of max value in 2d numpy array\n",
        "a = np.array([[1,33,4,5],[1,2,3,44]])\n",
        "print(np.argmax(a))\n",
        "print(np.argmax(a,axis=0))\n",
        "print(np.argmax(a,axis=1))\n",
        "print(np.argmax(a,axis=-1)) #-1 impies the last axis"
      ],
      "execution_count": 89,
      "outputs": [
        {
          "output_type": "stream",
          "text": [
            "7\n",
            "[0 0 0 1]\n",
            "[1 3]\n",
            "[1 3]\n"
          ],
          "name": "stdout"
        }
      ]
    },
    {
      "metadata": {
        "id": "83zBK1LD476d",
        "colab_type": "code",
        "colab": {
          "base_uri": "https://localhost:8080/",
          "height": 34
        },
        "outputId": "532b9155-71da-4524-c2a8-48e5744f700e"
      },
      "cell_type": "code",
      "source": [
        "# stepping\n",
        "a = np.arange(1,1000)\n",
        "b = a[0:168:24]\n",
        "print(b)"
      ],
      "execution_count": 90,
      "outputs": [
        {
          "output_type": "stream",
          "text": [
            "[  1  25  49  73  97 121 145]\n"
          ],
          "name": "stdout"
        }
      ]
    },
    {
      "metadata": {
        "id": "1XVDJW-p6_Qh",
        "colab_type": "code",
        "colab": {
          "base_uri": "https://localhost:8080/",
          "height": 34
        },
        "outputId": "62c7c99a-2e02-4cee-f2cf-7ccfc72823f2"
      },
      "cell_type": "code",
      "source": [
        "168 // 24 + 1"
      ],
      "execution_count": 91,
      "outputs": [
        {
          "output_type": "execute_result",
          "data": {
            "text/plain": [
              "8"
            ]
          },
          "metadata": {
            "tags": []
          },
          "execution_count": 91
        }
      ]
    },
    {
      "metadata": {
        "id": "2XFVn37TpN7H",
        "colab_type": "text"
      },
      "cell_type": "markdown",
      "source": [
        "### Reshape"
      ]
    },
    {
      "metadata": {
        "id": "EJMRelRifOng",
        "colab_type": "code",
        "colab": {
          "base_uri": "https://localhost:8080/",
          "height": 51
        },
        "outputId": "da774a28-8a26-41fa-c59d-2efb8c118c81"
      },
      "cell_type": "code",
      "source": [
        "# (n,) to (n,1)\n",
        "a = np.array([1,2,3])\n",
        "print (a.shape)\n",
        "a = a[:,None]\n",
        "print(a.shape)"
      ],
      "execution_count": 92,
      "outputs": [
        {
          "output_type": "stream",
          "text": [
            "(3,)\n",
            "(3, 1)\n"
          ],
          "name": "stdout"
        }
      ]
    },
    {
      "metadata": {
        "id": "BDDDfP15pRe7",
        "colab_type": "code",
        "colab": {
          "base_uri": "https://localhost:8080/",
          "height": 187
        },
        "outputId": "02888a90-be2c-4068-af33-1d1cee216aba"
      },
      "cell_type": "code",
      "source": [
        "# reshape 6 into 3*2*1\n",
        "a = np.asarray([1,52,6,5,9,6])\n",
        "print(a.shape)\n",
        "b = a.reshape(3,2,1)\n",
        "print(b)\n",
        "print(b.shape)"
      ],
      "execution_count": 93,
      "outputs": [
        {
          "output_type": "stream",
          "text": [
            "(6,)\n",
            "[[[ 1]\n",
            "  [52]]\n",
            "\n",
            " [[ 6]\n",
            "  [ 5]]\n",
            "\n",
            " [[ 9]\n",
            "  [ 6]]]\n",
            "(3, 2, 1)\n"
          ],
          "name": "stdout"
        }
      ]
    },
    {
      "metadata": {
        "id": "HFPY5zbe-mXQ",
        "colab_type": "text"
      },
      "cell_type": "markdown",
      "source": [
        "### Make input for LSTM"
      ]
    },
    {
      "metadata": {
        "id": "oxiyK-Bd-r7d",
        "colab_type": "code",
        "colab": {
          "base_uri": "https://localhost:8080/",
          "height": 34
        },
        "outputId": "973445dd-34bf-4f9c-b005-f411e0537cb7"
      },
      "cell_type": "code",
      "source": [
        "a = np.arange(1,11)\n",
        "a"
      ],
      "execution_count": 94,
      "outputs": [
        {
          "output_type": "execute_result",
          "data": {
            "text/plain": [
              "array([ 1,  2,  3,  4,  5,  6,  7,  8,  9, 10])"
            ]
          },
          "metadata": {
            "tags": []
          },
          "execution_count": 94
        }
      ]
    },
    {
      "metadata": {
        "id": "Ng6dH0k1_A94",
        "colab_type": "code",
        "colab": {}
      },
      "cell_type": "code",
      "source": [
        "look_back = 4\n",
        "data = []\n",
        "for i in range(0,len(a)-look_back-1,2):\n",
        "  data.append(a[i:i+look_back])  "
      ],
      "execution_count": 0,
      "outputs": []
    },
    {
      "metadata": {
        "id": "zAi8OSlS_owu",
        "colab_type": "code",
        "colab": {
          "base_uri": "https://localhost:8080/",
          "height": 34
        },
        "outputId": "ff6d1869-c462-424a-cf46-c6f5b6e9101a"
      },
      "cell_type": "code",
      "source": [
        "data"
      ],
      "execution_count": 96,
      "outputs": [
        {
          "output_type": "execute_result",
          "data": {
            "text/plain": [
              "[array([1, 2, 3, 4]), array([3, 4, 5, 6]), array([5, 6, 7, 8])]"
            ]
          },
          "metadata": {
            "tags": []
          },
          "execution_count": 96
        }
      ]
    },
    {
      "metadata": {
        "id": "aBkuk2MTgJlN",
        "colab_type": "text"
      },
      "cell_type": "markdown",
      "source": [
        "## Strings"
      ]
    },
    {
      "metadata": {
        "id": "_-M4AmupgL9O",
        "colab_type": "code",
        "colab": {
          "base_uri": "https://localhost:8080/",
          "height": 111
        },
        "outputId": "e84ea65f-0fd1-465b-a2a4-273c333b14c2"
      },
      "cell_type": "code",
      "source": [
        "# remove all rows in col in df that has certain string\n",
        "df = pd.DataFrame({'Product':['H01','H02','H03'],'Price':[22,33,44]})\n",
        "idx = df['Product'].str.contains('02')\n",
        "df = df.loc[~idx]\n",
        "df.head()"
      ],
      "execution_count": 97,
      "outputs": [
        {
          "output_type": "execute_result",
          "data": {
            "text/html": [
              "<div>\n",
              "<style scoped>\n",
              "    .dataframe tbody tr th:only-of-type {\n",
              "        vertical-align: middle;\n",
              "    }\n",
              "\n",
              "    .dataframe tbody tr th {\n",
              "        vertical-align: top;\n",
              "    }\n",
              "\n",
              "    .dataframe thead th {\n",
              "        text-align: right;\n",
              "    }\n",
              "</style>\n",
              "<table border=\"1\" class=\"dataframe\">\n",
              "  <thead>\n",
              "    <tr style=\"text-align: right;\">\n",
              "      <th></th>\n",
              "      <th>Price</th>\n",
              "      <th>Product</th>\n",
              "    </tr>\n",
              "  </thead>\n",
              "  <tbody>\n",
              "    <tr>\n",
              "      <th>0</th>\n",
              "      <td>22</td>\n",
              "      <td>H01</td>\n",
              "    </tr>\n",
              "    <tr>\n",
              "      <th>2</th>\n",
              "      <td>44</td>\n",
              "      <td>H03</td>\n",
              "    </tr>\n",
              "  </tbody>\n",
              "</table>\n",
              "</div>"
            ],
            "text/plain": [
              "   Price Product\n",
              "0     22     H01\n",
              "2     44     H03"
            ]
          },
          "metadata": {
            "tags": []
          },
          "execution_count": 97
        }
      ]
    },
    {
      "metadata": {
        "id": "wKvMgkMFvDfP",
        "colab_type": "code",
        "colab": {
          "base_uri": "https://localhost:8080/",
          "height": 34
        },
        "outputId": "6f58a2a4-df6c-4322-b599-c8299cc31a4d"
      },
      "cell_type": "code",
      "source": [
        "# remove from string\n",
        "s1 = 'appelmoes'\n",
        "s2 = s1[:4] + s1[5:]\n",
        "print(s2)"
      ],
      "execution_count": 98,
      "outputs": [
        {
          "output_type": "stream",
          "text": [
            "appemoes\n"
          ],
          "name": "stdout"
        }
      ]
    },
    {
      "metadata": {
        "id": "ptv8foJ5ICid",
        "colab_type": "text"
      },
      "cell_type": "markdown",
      "source": [
        "## List"
      ]
    },
    {
      "metadata": {
        "id": "FG45_GF_IG4M",
        "colab_type": "code",
        "colab": {}
      },
      "cell_type": "code",
      "source": [
        "# sub set that is not in other list\n",
        "a = ['hoi','appel','banaan','kikker']\n",
        "b = ['appel','banaan']"
      ],
      "execution_count": 0,
      "outputs": []
    },
    {
      "metadata": {
        "id": "fgotypt9IYZN",
        "colab_type": "code",
        "colab": {
          "base_uri": "https://localhost:8080/",
          "height": 34
        },
        "outputId": "dd310c33-68e9-4097-d06b-d63e6f29a790"
      },
      "cell_type": "code",
      "source": [
        "main_list = list(set(a) - set(b))\n",
        "main_list"
      ],
      "execution_count": 100,
      "outputs": [
        {
          "output_type": "execute_result",
          "data": {
            "text/plain": [
              "['kikker', 'hoi']"
            ]
          },
          "metadata": {
            "tags": []
          },
          "execution_count": 100
        }
      ]
    },
    {
      "metadata": {
        "id": "nXrowQgrTdYZ",
        "colab_type": "text"
      },
      "cell_type": "markdown",
      "source": [
        "## Dictionary"
      ]
    },
    {
      "metadata": {
        "id": "DgEu06hWTdYa",
        "colab_type": "code",
        "colab": {}
      },
      "cell_type": "code",
      "source": [
        "# create dict\n",
        "mydict = {'ali':178,'johan':'188','Doei':'48'}"
      ],
      "execution_count": 0,
      "outputs": []
    },
    {
      "metadata": {
        "id": "1HvRkyfUTdYe",
        "colab_type": "code",
        "colab": {
          "base_uri": "https://localhost:8080/",
          "height": 34
        },
        "outputId": "c6d9c51b-6182-4dda-93ee-3f14d9fd0a9c"
      },
      "cell_type": "code",
      "source": [
        "# how many element are in my dict?\n",
        "len(mydict)"
      ],
      "execution_count": 102,
      "outputs": [
        {
          "output_type": "execute_result",
          "data": {
            "text/plain": [
              "3"
            ]
          },
          "metadata": {
            "tags": []
          },
          "execution_count": 102
        }
      ]
    },
    {
      "metadata": {
        "id": "9ZikxMnRTdYi",
        "colab_type": "text"
      },
      "cell_type": "markdown",
      "source": [
        "## Plotting"
      ]
    },
    {
      "metadata": {
        "id": "r42hkLwTTdYi",
        "colab_type": "code",
        "colab": {
          "base_uri": "https://localhost:8080/",
          "height": 0
        },
        "outputId": "76907c67-1664-463f-d98e-dc8ecb7badca"
      },
      "cell_type": "code",
      "source": [
        "# make plot of two numpy arrays\n",
        "x = np.array([1,2,3,4,5,6,7,8])\n",
        "y = np.array([1,4,9,16,25,36,49,64])\n",
        "plt.plot(x,y,label = 'y=x2')\n",
        "plt.legend()\n",
        "plt.show()"
      ],
      "execution_count": 103,
      "outputs": [
        {
          "output_type": "display_data",
          "data": {
            "image/png": "[encoded data removed]",
            "text/plain": [
              "<matplotlib.figure.Figure at 0x7f57c6478450>"
            ]
          },
          "metadata": {
            "tags": []
          }
        }
      ]
    },
    {
      "metadata": {
        "id": "cp9wBF75TdYn",
        "colab_type": "text"
      },
      "cell_type": "markdown",
      "source": [
        "## Other stuff"
      ]
    },
    {
      "metadata": {
        "id": "MTprMoSwTdYn",
        "colab_type": "code",
        "colab": {
          "base_uri": "https://localhost:8080/",
          "height": 34
        },
        "outputId": "b12c87a9-bcb2-451f-af66-43e15822759e"
      },
      "cell_type": "code",
      "source": [
        "# the modulo operator, the remainder from division\n",
        "2 % 300"
      ],
      "execution_count": 104,
      "outputs": [
        {
          "output_type": "execute_result",
          "data": {
            "text/plain": [
              "2"
            ]
          },
          "metadata": {
            "tags": []
          },
          "execution_count": 104
        }
      ]
    },
    {
      "metadata": {
        "id": "V5_oljV87MCi",
        "colab_type": "code",
        "colab": {}
      },
      "cell_type": "code",
      "source": [
        "TESTDATA = StringIO(\"\"\"col1;col2;col3\n",
        "    1;4.4;99\n",
        "    2;4.5;200\n",
        "    3;4.7;65\n",
        "    4;3.2;140\n",
        "    \"\"\")\n",
        "\n",
        "df = pd.read_csv(TESTDATA, sep=\";\")"
      ],
      "execution_count": 0,
      "outputs": []
    },
    {
      "metadata": {
        "id": "zEz-uU381seu",
        "colab_type": "code",
        "colab": {
          "base_uri": "https://localhost:8080/",
          "height": 51
        },
        "outputId": "138a925b-ba07-4aaa-d5ad-5b6dd1cf233b"
      },
      "cell_type": "code",
      "source": [
        "print (sys.version)"
      ],
      "execution_count": 106,
      "outputs": [
        {
          "output_type": "stream",
          "text": [
            "2.7.14 (default, Sep 23 2017, 22:06:14) \n",
            "[GCC 7.2.0]\n"
          ],
          "name": "stdout"
        }
      ]
    },
    {
      "metadata": {
        "id": "lQ-qUyA-LW-0",
        "colab_type": "text"
      },
      "cell_type": "markdown",
      "source": [
        "## Dataframe"
      ]
    },
    {
      "metadata": {
        "id": "Bz_0Ske3LU3e",
        "colab_type": "code",
        "colab": {}
      },
      "cell_type": "code",
      "source": [
        "# Create dataframe\n",
        "df = pd.DataFrame({'a':[1,2,3],'b':[3,4,5]})"
      ],
      "execution_count": 0,
      "outputs": []
    },
    {
      "metadata": {
        "id": "Ep7oCd6MLquF",
        "colab_type": "code",
        "colab": {
          "base_uri": "https://localhost:8080/",
          "height": 173
        },
        "outputId": "18a20315-ff57-4862-fb13-ddd0b630d988"
      },
      "cell_type": "code",
      "source": [
        "# dataframe from numpy array\n",
        "names = ['apple','orange','apple','banana']\n",
        "price = [1,2,5,10]\n",
        "df = pd.DataFrame({'names':names,'price':price})\n",
        "df.head()"
      ],
      "execution_count": 108,
      "outputs": [
        {
          "output_type": "execute_result",
          "data": {
            "text/html": [
              "<div>\n",
              "<style scoped>\n",
              "    .dataframe tbody tr th:only-of-type {\n",
              "        vertical-align: middle;\n",
              "    }\n",
              "\n",
              "    .dataframe tbody tr th {\n",
              "        vertical-align: top;\n",
              "    }\n",
              "\n",
              "    .dataframe thead th {\n",
              "        text-align: right;\n",
              "    }\n",
              "</style>\n",
              "<table border=\"1\" class=\"dataframe\">\n",
              "  <thead>\n",
              "    <tr style=\"text-align: right;\">\n",
              "      <th></th>\n",
              "      <th>names</th>\n",
              "      <th>price</th>\n",
              "    </tr>\n",
              "  </thead>\n",
              "  <tbody>\n",
              "    <tr>\n",
              "      <th>0</th>\n",
              "      <td>apple</td>\n",
              "      <td>1</td>\n",
              "    </tr>\n",
              "    <tr>\n",
              "      <th>1</th>\n",
              "      <td>orange</td>\n",
              "      <td>2</td>\n",
              "    </tr>\n",
              "    <tr>\n",
              "      <th>2</th>\n",
              "      <td>apple</td>\n",
              "      <td>5</td>\n",
              "    </tr>\n",
              "    <tr>\n",
              "      <th>3</th>\n",
              "      <td>banana</td>\n",
              "      <td>10</td>\n",
              "    </tr>\n",
              "  </tbody>\n",
              "</table>\n",
              "</div>"
            ],
            "text/plain": [
              "    names  price\n",
              "0   apple      1\n",
              "1  orange      2\n",
              "2   apple      5\n",
              "3  banana     10"
            ]
          },
          "metadata": {
            "tags": []
          },
          "execution_count": 108
        }
      ]
    },
    {
      "metadata": {
        "id": "qLqM_XjsPbZ1",
        "colab_type": "code",
        "colab": {
          "base_uri": "https://localhost:8080/",
          "height": 173
        },
        "outputId": "6898cee9-2ac8-419a-c6d6-3ed0433d1d82"
      },
      "cell_type": "code",
      "source": [
        "# make new column price_sqr using the apply function\n",
        "df['price_sqr'] = df['price'].apply(lambda x: x*x)\n",
        "df.head()"
      ],
      "execution_count": 109,
      "outputs": [
        {
          "output_type": "execute_result",
          "data": {
            "text/html": [
              "<div>\n",
              "<style scoped>\n",
              "    .dataframe tbody tr th:only-of-type {\n",
              "        vertical-align: middle;\n",
              "    }\n",
              "\n",
              "    .dataframe tbody tr th {\n",
              "        vertical-align: top;\n",
              "    }\n",
              "\n",
              "    .dataframe thead th {\n",
              "        text-align: right;\n",
              "    }\n",
              "</style>\n",
              "<table border=\"1\" class=\"dataframe\">\n",
              "  <thead>\n",
              "    <tr style=\"text-align: right;\">\n",
              "      <th></th>\n",
              "      <th>names</th>\n",
              "      <th>price</th>\n",
              "      <th>price_sqr</th>\n",
              "    </tr>\n",
              "  </thead>\n",
              "  <tbody>\n",
              "    <tr>\n",
              "      <th>0</th>\n",
              "      <td>apple</td>\n",
              "      <td>1</td>\n",
              "      <td>1</td>\n",
              "    </tr>\n",
              "    <tr>\n",
              "      <th>1</th>\n",
              "      <td>orange</td>\n",
              "      <td>2</td>\n",
              "      <td>4</td>\n",
              "    </tr>\n",
              "    <tr>\n",
              "      <th>2</th>\n",
              "      <td>apple</td>\n",
              "      <td>5</td>\n",
              "      <td>25</td>\n",
              "    </tr>\n",
              "    <tr>\n",
              "      <th>3</th>\n",
              "      <td>banana</td>\n",
              "      <td>10</td>\n",
              "      <td>100</td>\n",
              "    </tr>\n",
              "  </tbody>\n",
              "</table>\n",
              "</div>"
            ],
            "text/plain": [
              "    names  price  price_sqr\n",
              "0   apple      1          1\n",
              "1  orange      2          4\n",
              "2   apple      5         25\n",
              "3  banana     10        100"
            ]
          },
          "metadata": {
            "tags": []
          },
          "execution_count": 109
        }
      ]
    },
    {
      "metadata": {
        "id": "P341aCZyN5dI",
        "colab_type": "code",
        "colab": {
          "base_uri": "https://localhost:8080/",
          "height": 173
        },
        "outputId": "f31df1df-b96e-4cff-f07d-460945d0749a"
      },
      "cell_type": "code",
      "source": [
        "# add 10 to price of apple\n",
        "idx = df['names'] == 'apple'\n",
        "df.loc[idx,'price'] = df.loc[idx,'price'] + 10\n",
        "df.head()"
      ],
      "execution_count": 110,
      "outputs": [
        {
          "output_type": "execute_result",
          "data": {
            "text/html": [
              "<div>\n",
              "<style scoped>\n",
              "    .dataframe tbody tr th:only-of-type {\n",
              "        vertical-align: middle;\n",
              "    }\n",
              "\n",
              "    .dataframe tbody tr th {\n",
              "        vertical-align: top;\n",
              "    }\n",
              "\n",
              "    .dataframe thead th {\n",
              "        text-align: right;\n",
              "    }\n",
              "</style>\n",
              "<table border=\"1\" class=\"dataframe\">\n",
              "  <thead>\n",
              "    <tr style=\"text-align: right;\">\n",
              "      <th></th>\n",
              "      <th>names</th>\n",
              "      <th>price</th>\n",
              "      <th>price_sqr</th>\n",
              "    </tr>\n",
              "  </thead>\n",
              "  <tbody>\n",
              "    <tr>\n",
              "      <th>0</th>\n",
              "      <td>apple</td>\n",
              "      <td>11</td>\n",
              "      <td>1</td>\n",
              "    </tr>\n",
              "    <tr>\n",
              "      <th>1</th>\n",
              "      <td>orange</td>\n",
              "      <td>2</td>\n",
              "      <td>4</td>\n",
              "    </tr>\n",
              "    <tr>\n",
              "      <th>2</th>\n",
              "      <td>apple</td>\n",
              "      <td>15</td>\n",
              "      <td>25</td>\n",
              "    </tr>\n",
              "    <tr>\n",
              "      <th>3</th>\n",
              "      <td>banana</td>\n",
              "      <td>10</td>\n",
              "      <td>100</td>\n",
              "    </tr>\n",
              "  </tbody>\n",
              "</table>\n",
              "</div>"
            ],
            "text/plain": [
              "    names  price  price_sqr\n",
              "0   apple     11          1\n",
              "1  orange      2          4\n",
              "2   apple     15         25\n",
              "3  banana     10        100"
            ]
          },
          "metadata": {
            "tags": []
          },
          "execution_count": 110
        }
      ]
    },
    {
      "metadata": {
        "id": "bo3fefN_YCyP",
        "colab_type": "code",
        "colab": {
          "base_uri": "https://localhost:8080/",
          "height": 173
        },
        "outputId": "1b4f5040-9813-4e27-8bfe-dd0294d60c03"
      },
      "cell_type": "code",
      "source": [
        "# rename column\n",
        "df.rename(columns = {'names':'name'},inplace=True)\n",
        "df.head()"
      ],
      "execution_count": 111,
      "outputs": [
        {
          "output_type": "execute_result",
          "data": {
            "text/html": [
              "<div>\n",
              "<style scoped>\n",
              "    .dataframe tbody tr th:only-of-type {\n",
              "        vertical-align: middle;\n",
              "    }\n",
              "\n",
              "    .dataframe tbody tr th {\n",
              "        vertical-align: top;\n",
              "    }\n",
              "\n",
              "    .dataframe thead th {\n",
              "        text-align: right;\n",
              "    }\n",
              "</style>\n",
              "<table border=\"1\" class=\"dataframe\">\n",
              "  <thead>\n",
              "    <tr style=\"text-align: right;\">\n",
              "      <th></th>\n",
              "      <th>name</th>\n",
              "      <th>price</th>\n",
              "      <th>price_sqr</th>\n",
              "    </tr>\n",
              "  </thead>\n",
              "  <tbody>\n",
              "    <tr>\n",
              "      <th>0</th>\n",
              "      <td>apple</td>\n",
              "      <td>11</td>\n",
              "      <td>1</td>\n",
              "    </tr>\n",
              "    <tr>\n",
              "      <th>1</th>\n",
              "      <td>orange</td>\n",
              "      <td>2</td>\n",
              "      <td>4</td>\n",
              "    </tr>\n",
              "    <tr>\n",
              "      <th>2</th>\n",
              "      <td>apple</td>\n",
              "      <td>15</td>\n",
              "      <td>25</td>\n",
              "    </tr>\n",
              "    <tr>\n",
              "      <th>3</th>\n",
              "      <td>banana</td>\n",
              "      <td>10</td>\n",
              "      <td>100</td>\n",
              "    </tr>\n",
              "  </tbody>\n",
              "</table>\n",
              "</div>"
            ],
            "text/plain": [
              "     name  price  price_sqr\n",
              "0   apple     11          1\n",
              "1  orange      2          4\n",
              "2   apple     15         25\n",
              "3  banana     10        100"
            ]
          },
          "metadata": {
            "tags": []
          },
          "execution_count": 111
        }
      ]
    },
    {
      "metadata": {
        "id": "uDIkGJvT_XjA",
        "colab_type": "code",
        "colab": {
          "base_uri": "https://localhost:8080/",
          "height": 173
        },
        "outputId": "fe7e94d0-569c-4eca-d6bf-f13918fc19e4"
      },
      "cell_type": "code",
      "source": [
        "# sort by name\n",
        "df =df.sort_values(by=['name','price'])\n",
        "df.tail(10)"
      ],
      "execution_count": 112,
      "outputs": [
        {
          "output_type": "execute_result",
          "data": {
            "text/html": [
              "<div>\n",
              "<style scoped>\n",
              "    .dataframe tbody tr th:only-of-type {\n",
              "        vertical-align: middle;\n",
              "    }\n",
              "\n",
              "    .dataframe tbody tr th {\n",
              "        vertical-align: top;\n",
              "    }\n",
              "\n",
              "    .dataframe thead th {\n",
              "        text-align: right;\n",
              "    }\n",
              "</style>\n",
              "<table border=\"1\" class=\"dataframe\">\n",
              "  <thead>\n",
              "    <tr style=\"text-align: right;\">\n",
              "      <th></th>\n",
              "      <th>name</th>\n",
              "      <th>price</th>\n",
              "      <th>price_sqr</th>\n",
              "    </tr>\n",
              "  </thead>\n",
              "  <tbody>\n",
              "    <tr>\n",
              "      <th>0</th>\n",
              "      <td>apple</td>\n",
              "      <td>11</td>\n",
              "      <td>1</td>\n",
              "    </tr>\n",
              "    <tr>\n",
              "      <th>2</th>\n",
              "      <td>apple</td>\n",
              "      <td>15</td>\n",
              "      <td>25</td>\n",
              "    </tr>\n",
              "    <tr>\n",
              "      <th>3</th>\n",
              "      <td>banana</td>\n",
              "      <td>10</td>\n",
              "      <td>100</td>\n",
              "    </tr>\n",
              "    <tr>\n",
              "      <th>1</th>\n",
              "      <td>orange</td>\n",
              "      <td>2</td>\n",
              "      <td>4</td>\n",
              "    </tr>\n",
              "  </tbody>\n",
              "</table>\n",
              "</div>"
            ],
            "text/plain": [
              "     name  price  price_sqr\n",
              "0   apple     11          1\n",
              "2   apple     15         25\n",
              "3  banana     10        100\n",
              "1  orange      2          4"
            ]
          },
          "metadata": {
            "tags": []
          },
          "execution_count": 112
        }
      ]
    },
    {
      "metadata": {
        "id": "TR6UtxU6ArH1",
        "colab_type": "text"
      },
      "cell_type": "markdown",
      "source": [
        "### Multiple dataframes"
      ]
    },
    {
      "metadata": {
        "id": "uIp6TSsMAvKk",
        "colab_type": "code",
        "colab": {
          "base_uri": "https://localhost:8080/",
          "height": 204
        },
        "outputId": "b52a525d-f94e-4da9-d2a6-5510b83f4c65"
      },
      "cell_type": "code",
      "source": [
        "# concatenate multiple df's into one\n",
        "df1 = pd.DataFrame({'a':[1,2,3],'b':[3,4,5]})\n",
        "df2 = pd.DataFrame({'a':[10,20,30],'b':[30,40,50]})\n",
        "\n",
        "df_all =[]\n",
        "\n",
        "df_all.append(df1)\n",
        "df_all.append(df2)\n",
        "\n",
        "df_all = pd.concat(df_all)\n",
        "df_all.head()"
      ],
      "execution_count": 113,
      "outputs": [
        {
          "output_type": "execute_result",
          "data": {
            "text/html": [
              "<div>\n",
              "<style scoped>\n",
              "    .dataframe tbody tr th:only-of-type {\n",
              "        vertical-align: middle;\n",
              "    }\n",
              "\n",
              "    .dataframe tbody tr th {\n",
              "        vertical-align: top;\n",
              "    }\n",
              "\n",
              "    .dataframe thead th {\n",
              "        text-align: right;\n",
              "    }\n",
              "</style>\n",
              "<table border=\"1\" class=\"dataframe\">\n",
              "  <thead>\n",
              "    <tr style=\"text-align: right;\">\n",
              "      <th></th>\n",
              "      <th>a</th>\n",
              "      <th>b</th>\n",
              "    </tr>\n",
              "  </thead>\n",
              "  <tbody>\n",
              "    <tr>\n",
              "      <th>0</th>\n",
              "      <td>1</td>\n",
              "      <td>3</td>\n",
              "    </tr>\n",
              "    <tr>\n",
              "      <th>1</th>\n",
              "      <td>2</td>\n",
              "      <td>4</td>\n",
              "    </tr>\n",
              "    <tr>\n",
              "      <th>2</th>\n",
              "      <td>3</td>\n",
              "      <td>5</td>\n",
              "    </tr>\n",
              "    <tr>\n",
              "      <th>0</th>\n",
              "      <td>10</td>\n",
              "      <td>30</td>\n",
              "    </tr>\n",
              "    <tr>\n",
              "      <th>1</th>\n",
              "      <td>20</td>\n",
              "      <td>40</td>\n",
              "    </tr>\n",
              "  </tbody>\n",
              "</table>\n",
              "</div>"
            ],
            "text/plain": [
              "    a   b\n",
              "0   1   3\n",
              "1   2   4\n",
              "2   3   5\n",
              "0  10  30\n",
              "1  20  40"
            ]
          },
          "metadata": {
            "tags": []
          },
          "execution_count": 113
        }
      ]
    },
    {
      "metadata": {
        "id": "iQte7Qf2BQUr",
        "colab_type": "code",
        "colab": {
          "base_uri": "https://localhost:8080/",
          "height": 204
        },
        "outputId": "6a78d778-1cd5-45f3-8c5b-d82114a09f7b"
      },
      "cell_type": "code",
      "source": [
        "# reset the index, do not insert the index as a column into the df\n",
        "df_all.reset_index(inplace=True,drop=True)\n",
        "df_all.head()"
      ],
      "execution_count": 114,
      "outputs": [
        {
          "output_type": "execute_result",
          "data": {
            "text/html": [
              "<div>\n",
              "<style scoped>\n",
              "    .dataframe tbody tr th:only-of-type {\n",
              "        vertical-align: middle;\n",
              "    }\n",
              "\n",
              "    .dataframe tbody tr th {\n",
              "        vertical-align: top;\n",
              "    }\n",
              "\n",
              "    .dataframe thead th {\n",
              "        text-align: right;\n",
              "    }\n",
              "</style>\n",
              "<table border=\"1\" class=\"dataframe\">\n",
              "  <thead>\n",
              "    <tr style=\"text-align: right;\">\n",
              "      <th></th>\n",
              "      <th>a</th>\n",
              "      <th>b</th>\n",
              "    </tr>\n",
              "  </thead>\n",
              "  <tbody>\n",
              "    <tr>\n",
              "      <th>0</th>\n",
              "      <td>1</td>\n",
              "      <td>3</td>\n",
              "    </tr>\n",
              "    <tr>\n",
              "      <th>1</th>\n",
              "      <td>2</td>\n",
              "      <td>4</td>\n",
              "    </tr>\n",
              "    <tr>\n",
              "      <th>2</th>\n",
              "      <td>3</td>\n",
              "      <td>5</td>\n",
              "    </tr>\n",
              "    <tr>\n",
              "      <th>3</th>\n",
              "      <td>10</td>\n",
              "      <td>30</td>\n",
              "    </tr>\n",
              "    <tr>\n",
              "      <th>4</th>\n",
              "      <td>20</td>\n",
              "      <td>40</td>\n",
              "    </tr>\n",
              "  </tbody>\n",
              "</table>\n",
              "</div>"
            ],
            "text/plain": [
              "    a   b\n",
              "0   1   3\n",
              "1   2   4\n",
              "2   3   5\n",
              "3  10  30\n",
              "4  20  40"
            ]
          },
          "metadata": {
            "tags": []
          },
          "execution_count": 114
        }
      ]
    },
    {
      "metadata": {
        "id": "xczERf97wPPZ",
        "colab_type": "text"
      },
      "cell_type": "markdown",
      "source": [
        "### Groupby"
      ]
    },
    {
      "metadata": {
        "id": "b5CLBODlwT8u",
        "colab_type": "code",
        "colab": {
          "base_uri": "https://localhost:8080/",
          "height": 204
        },
        "outputId": "d273dffa-4102-4969-9fde-4e3037948cca"
      },
      "cell_type": "code",
      "source": [
        "# dataframe from numpy array\n",
        "name = ['apple','orange','apple','banana','banana']\n",
        "price = [1,2,5,10,20]\n",
        "weight = [6,7,10,15,25]\n",
        "df = pd.DataFrame({'name':name,'price':price,'weight':weight})\n",
        "df.head()"
      ],
      "execution_count": 10,
      "outputs": [
        {
          "output_type": "execute_result",
          "data": {
            "text/html": [
              "<div>\n",
              "<style scoped>\n",
              "    .dataframe tbody tr th:only-of-type {\n",
              "        vertical-align: middle;\n",
              "    }\n",
              "\n",
              "    .dataframe tbody tr th {\n",
              "        vertical-align: top;\n",
              "    }\n",
              "\n",
              "    .dataframe thead th {\n",
              "        text-align: right;\n",
              "    }\n",
              "</style>\n",
              "<table border=\"1\" class=\"dataframe\">\n",
              "  <thead>\n",
              "    <tr style=\"text-align: right;\">\n",
              "      <th></th>\n",
              "      <th>name</th>\n",
              "      <th>price</th>\n",
              "      <th>weight</th>\n",
              "    </tr>\n",
              "  </thead>\n",
              "  <tbody>\n",
              "    <tr>\n",
              "      <th>0</th>\n",
              "      <td>apple</td>\n",
              "      <td>1</td>\n",
              "      <td>6</td>\n",
              "    </tr>\n",
              "    <tr>\n",
              "      <th>1</th>\n",
              "      <td>orange</td>\n",
              "      <td>2</td>\n",
              "      <td>7</td>\n",
              "    </tr>\n",
              "    <tr>\n",
              "      <th>2</th>\n",
              "      <td>apple</td>\n",
              "      <td>5</td>\n",
              "      <td>10</td>\n",
              "    </tr>\n",
              "    <tr>\n",
              "      <th>3</th>\n",
              "      <td>banana</td>\n",
              "      <td>10</td>\n",
              "      <td>15</td>\n",
              "    </tr>\n",
              "    <tr>\n",
              "      <th>4</th>\n",
              "      <td>banana</td>\n",
              "      <td>20</td>\n",
              "      <td>25</td>\n",
              "    </tr>\n",
              "  </tbody>\n",
              "</table>\n",
              "</div>"
            ],
            "text/plain": [
              "     name  price  weight\n",
              "0   apple      1       6\n",
              "1  orange      2       7\n",
              "2   apple      5      10\n",
              "3  banana     10      15\n",
              "4  banana     20      25"
            ]
          },
          "metadata": {
            "tags": []
          },
          "execution_count": 10
        }
      ]
    },
    {
      "metadata": {
        "id": "h1oa3EfxxBAg",
        "colab_type": "code",
        "colab": {
          "base_uri": "https://localhost:8080/",
          "height": 119
        },
        "outputId": "aa13c794-e5ab-4930-f9c4-bdb03961db41"
      },
      "cell_type": "code",
      "source": [
        "# group by fruit and calc the average price, \n",
        "df_grp = df.groupby(['name'])['price'].mean() # this will return a pandas series \n",
        "print(df_grp)\n",
        "print(type(df_grp))"
      ],
      "execution_count": 11,
      "outputs": [
        {
          "output_type": "stream",
          "text": [
            "name\n",
            "apple      3\n",
            "banana    15\n",
            "orange     2\n",
            "Name: price, dtype: int64\n",
            "<class 'pandas.core.series.Series'>\n"
          ],
          "name": "stdout"
        }
      ]
    },
    {
      "metadata": {
        "id": "d6o7Utrr0iZo",
        "colab_type": "code",
        "colab": {
          "base_uri": "https://localhost:8080/",
          "height": 119
        },
        "outputId": "beea1c26-93e8-4272-b349-2dc404e8d16d"
      },
      "cell_type": "code",
      "source": [
        "# groupby fruit and calc the average price\n",
        "df_grp = df.groupby(['name'])[['price','weight']].mean() # will return a df with index equal to the group\n",
        "print(df_grp)\n",
        "print(type(df_grp))"
      ],
      "execution_count": 12,
      "outputs": [
        {
          "output_type": "stream",
          "text": [
            "        price  weight\n",
            "name                 \n",
            "apple       3       8\n",
            "banana     15      20\n",
            "orange      2       7\n",
            "<class 'pandas.core.frame.DataFrame'>\n"
          ],
          "name": "stdout"
        }
      ]
    },
    {
      "metadata": {
        "id": "bPX1MJJR1zM1",
        "colab_type": "code",
        "colab": {
          "base_uri": "https://localhost:8080/",
          "height": 102
        },
        "outputId": "3bf0b7cc-b976-4484-e13c-d1c112b0603c"
      },
      "cell_type": "code",
      "source": [
        "# groupby fruit but make a new index\n",
        "df_grp = df.groupby(['name'],as_index=False)[['price','weight']].mean() # will return a df with index equal to the group\n",
        "print(df_grp)\n",
        "print(type(df_grp))"
      ],
      "execution_count": 13,
      "outputs": [
        {
          "output_type": "stream",
          "text": [
            "     name  price  weight\n",
            "0   apple      3       8\n",
            "1  banana     15      20\n",
            "2  orange      2       7\n",
            "<class 'pandas.core.frame.DataFrame'>\n"
          ],
          "name": "stdout"
        }
      ]
    },
    {
      "metadata": {
        "id": "iVPtREpovZr5",
        "colab_type": "code",
        "colab": {
          "base_uri": "https://localhost:8080/",
          "height": 204
        },
        "outputId": "d5e47072-9c43-40c0-d137-128aacbee4e9"
      },
      "cell_type": "code",
      "source": [
        "# groupby fruit\n",
        "# for count also consider 'size'. size will return n for NaN values also, whereas 'count' will not.\n",
        "# https://gist.github.com/conormm/fd8b1980c28dd21cfaf6975c86c74d07\n",
        "df.groupby(['name'])['price','weight'].agg(['mean', 'sum', 'count']) "
      ],
      "execution_count": 18,
      "outputs": [
        {
          "output_type": "execute_result",
          "data": {
            "text/html": [
              "<div>\n",
              "<style scoped>\n",
              "    .dataframe tbody tr th:only-of-type {\n",
              "        vertical-align: middle;\n",
              "    }\n",
              "\n",
              "    .dataframe tbody tr th {\n",
              "        vertical-align: top;\n",
              "    }\n",
              "\n",
              "    .dataframe thead tr th {\n",
              "        text-align: left;\n",
              "    }\n",
              "\n",
              "    .dataframe thead tr:last-of-type th {\n",
              "        text-align: right;\n",
              "    }\n",
              "</style>\n",
              "<table border=\"1\" class=\"dataframe\">\n",
              "  <thead>\n",
              "    <tr>\n",
              "      <th></th>\n",
              "      <th colspan=\"3\" halign=\"left\">price</th>\n",
              "      <th colspan=\"3\" halign=\"left\">weight</th>\n",
              "    </tr>\n",
              "    <tr>\n",
              "      <th></th>\n",
              "      <th>mean</th>\n",
              "      <th>sum</th>\n",
              "      <th>count</th>\n",
              "      <th>mean</th>\n",
              "      <th>sum</th>\n",
              "      <th>count</th>\n",
              "    </tr>\n",
              "    <tr>\n",
              "      <th>name</th>\n",
              "      <th></th>\n",
              "      <th></th>\n",
              "      <th></th>\n",
              "      <th></th>\n",
              "      <th></th>\n",
              "      <th></th>\n",
              "    </tr>\n",
              "  </thead>\n",
              "  <tbody>\n",
              "    <tr>\n",
              "      <th>apple</th>\n",
              "      <td>3</td>\n",
              "      <td>6</td>\n",
              "      <td>2</td>\n",
              "      <td>8</td>\n",
              "      <td>16</td>\n",
              "      <td>2</td>\n",
              "    </tr>\n",
              "    <tr>\n",
              "      <th>banana</th>\n",
              "      <td>15</td>\n",
              "      <td>30</td>\n",
              "      <td>2</td>\n",
              "      <td>20</td>\n",
              "      <td>40</td>\n",
              "      <td>2</td>\n",
              "    </tr>\n",
              "    <tr>\n",
              "      <th>orange</th>\n",
              "      <td>2</td>\n",
              "      <td>2</td>\n",
              "      <td>1</td>\n",
              "      <td>7</td>\n",
              "      <td>7</td>\n",
              "      <td>1</td>\n",
              "    </tr>\n",
              "  </tbody>\n",
              "</table>\n",
              "</div>"
            ],
            "text/plain": [
              "       price           weight          \n",
              "        mean sum count   mean sum count\n",
              "name                                   \n",
              "apple      3   6     2      8  16     2\n",
              "banana    15  30     2     20  40     2\n",
              "orange     2   2     1      7   7     1"
            ]
          },
          "metadata": {
            "tags": []
          },
          "execution_count": 18
        }
      ]
    },
    {
      "metadata": {
        "id": "7dypi0yQyPyt",
        "colab_type": "code",
        "colab": {}
      },
      "cell_type": "code",
      "source": [
        "# now let's make a used defined function to groupby\n",
        "# Volume Weighted Average Price\n",
        "def vwap(x):\n",
        "    return (x['weight'] * x['price']).sum() / x['weight'].sum()"
      ],
      "execution_count": 0,
      "outputs": []
    },
    {
      "metadata": {
        "id": "urGGWmaS217Z",
        "colab_type": "code",
        "colab": {
          "base_uri": "https://localhost:8080/",
          "height": 173
        },
        "outputId": "6a76e2e1-33e2-46c6-d378-f8dbf34fff5f"
      },
      "cell_type": "code",
      "source": [
        "# calc the volume weighted price\n",
        "df_group = pd.DataFrame(df.groupby(['name']).apply(lambda x: vwap(x)))\n",
        "df_group.head()"
      ],
      "execution_count": 120,
      "outputs": [
        {
          "output_type": "execute_result",
          "data": {
            "text/html": [
              "<div>\n",
              "<style scoped>\n",
              "    .dataframe tbody tr th:only-of-type {\n",
              "        vertical-align: middle;\n",
              "    }\n",
              "\n",
              "    .dataframe tbody tr th {\n",
              "        vertical-align: top;\n",
              "    }\n",
              "\n",
              "    .dataframe thead th {\n",
              "        text-align: right;\n",
              "    }\n",
              "</style>\n",
              "<table border=\"1\" class=\"dataframe\">\n",
              "  <thead>\n",
              "    <tr style=\"text-align: right;\">\n",
              "      <th></th>\n",
              "      <th>0</th>\n",
              "    </tr>\n",
              "    <tr>\n",
              "      <th>name</th>\n",
              "      <th></th>\n",
              "    </tr>\n",
              "  </thead>\n",
              "  <tbody>\n",
              "    <tr>\n",
              "      <th>apple</th>\n",
              "      <td>3</td>\n",
              "    </tr>\n",
              "    <tr>\n",
              "      <th>banana</th>\n",
              "      <td>16</td>\n",
              "    </tr>\n",
              "    <tr>\n",
              "      <th>orange</th>\n",
              "      <td>2</td>\n",
              "    </tr>\n",
              "  </tbody>\n",
              "</table>\n",
              "</div>"
            ],
            "text/plain": [
              "         0\n",
              "name      \n",
              "apple    3\n",
              "banana  16\n",
              "orange   2"
            ]
          },
          "metadata": {
            "tags": []
          },
          "execution_count": 120
        }
      ]
    },
    {
      "metadata": {
        "id": "YHZ_MewX3iVe",
        "colab_type": "code",
        "colab": {
          "base_uri": "https://localhost:8080/",
          "height": 173
        },
        "outputId": "ec486cac-5e60-4721-c736-3c28a5aa955c"
      },
      "cell_type": "code",
      "source": [
        "# the column is messed up so correct this\n",
        "df_group.rename(columns={ df_group.columns[0]: \"vwap\" }, inplace = True)\n",
        "df_group.head()"
      ],
      "execution_count": 121,
      "outputs": [
        {
          "output_type": "execute_result",
          "data": {
            "text/html": [
              "<div>\n",
              "<style scoped>\n",
              "    .dataframe tbody tr th:only-of-type {\n",
              "        vertical-align: middle;\n",
              "    }\n",
              "\n",
              "    .dataframe tbody tr th {\n",
              "        vertical-align: top;\n",
              "    }\n",
              "\n",
              "    .dataframe thead th {\n",
              "        text-align: right;\n",
              "    }\n",
              "</style>\n",
              "<table border=\"1\" class=\"dataframe\">\n",
              "  <thead>\n",
              "    <tr style=\"text-align: right;\">\n",
              "      <th></th>\n",
              "      <th>vwap</th>\n",
              "    </tr>\n",
              "    <tr>\n",
              "      <th>name</th>\n",
              "      <th></th>\n",
              "    </tr>\n",
              "  </thead>\n",
              "  <tbody>\n",
              "    <tr>\n",
              "      <th>apple</th>\n",
              "      <td>3</td>\n",
              "    </tr>\n",
              "    <tr>\n",
              "      <th>banana</th>\n",
              "      <td>16</td>\n",
              "    </tr>\n",
              "    <tr>\n",
              "      <th>orange</th>\n",
              "      <td>2</td>\n",
              "    </tr>\n",
              "  </tbody>\n",
              "</table>\n",
              "</div>"
            ],
            "text/plain": [
              "        vwap\n",
              "name        \n",
              "apple      3\n",
              "banana    16\n",
              "orange     2"
            ]
          },
          "metadata": {
            "tags": []
          },
          "execution_count": 121
        }
      ]
    },
    {
      "metadata": {
        "id": "E8vAjxfvytEP",
        "colab_type": "code",
        "colab": {
          "base_uri": "https://localhost:8080/",
          "height": 173
        },
        "outputId": "6d515b47-87b5-4c9a-d887-20159e00cbb5"
      },
      "cell_type": "code",
      "source": [
        "# you can also use the describe function on the group\n",
        "# reference https://www.shanelynn.ie/summarising-aggregation-and-grouping-data-in-python-pandas/\n",
        "df.groupby(['name'])['price'].describe()"
      ],
      "execution_count": 122,
      "outputs": [
        {
          "output_type": "execute_result",
          "data": {
            "text/html": [
              "<div>\n",
              "<style scoped>\n",
              "    .dataframe tbody tr th:only-of-type {\n",
              "        vertical-align: middle;\n",
              "    }\n",
              "\n",
              "    .dataframe tbody tr th {\n",
              "        vertical-align: top;\n",
              "    }\n",
              "\n",
              "    .dataframe thead th {\n",
              "        text-align: right;\n",
              "    }\n",
              "</style>\n",
              "<table border=\"1\" class=\"dataframe\">\n",
              "  <thead>\n",
              "    <tr style=\"text-align: right;\">\n",
              "      <th></th>\n",
              "      <th>count</th>\n",
              "      <th>mean</th>\n",
              "      <th>std</th>\n",
              "      <th>min</th>\n",
              "      <th>25%</th>\n",
              "      <th>50%</th>\n",
              "      <th>75%</th>\n",
              "      <th>max</th>\n",
              "    </tr>\n",
              "    <tr>\n",
              "      <th>name</th>\n",
              "      <th></th>\n",
              "      <th></th>\n",
              "      <th></th>\n",
              "      <th></th>\n",
              "      <th></th>\n",
              "      <th></th>\n",
              "      <th></th>\n",
              "      <th></th>\n",
              "    </tr>\n",
              "  </thead>\n",
              "  <tbody>\n",
              "    <tr>\n",
              "      <th>apple</th>\n",
              "      <td>2.0</td>\n",
              "      <td>3.0</td>\n",
              "      <td>2.828427</td>\n",
              "      <td>1.0</td>\n",
              "      <td>2.0</td>\n",
              "      <td>3.0</td>\n",
              "      <td>4.0</td>\n",
              "      <td>5.0</td>\n",
              "    </tr>\n",
              "    <tr>\n",
              "      <th>banana</th>\n",
              "      <td>2.0</td>\n",
              "      <td>15.0</td>\n",
              "      <td>7.071068</td>\n",
              "      <td>10.0</td>\n",
              "      <td>12.5</td>\n",
              "      <td>15.0</td>\n",
              "      <td>17.5</td>\n",
              "      <td>20.0</td>\n",
              "    </tr>\n",
              "    <tr>\n",
              "      <th>orange</th>\n",
              "      <td>1.0</td>\n",
              "      <td>2.0</td>\n",
              "      <td>NaN</td>\n",
              "      <td>2.0</td>\n",
              "      <td>2.0</td>\n",
              "      <td>2.0</td>\n",
              "      <td>2.0</td>\n",
              "      <td>2.0</td>\n",
              "    </tr>\n",
              "  </tbody>\n",
              "</table>\n",
              "</div>"
            ],
            "text/plain": [
              "        count  mean       std   min   25%   50%   75%   max\n",
              "name                                                       \n",
              "apple     2.0   3.0  2.828427   1.0   2.0   3.0   4.0   5.0\n",
              "banana    2.0  15.0  7.071068  10.0  12.5  15.0  17.5  20.0\n",
              "orange    1.0   2.0       NaN   2.0   2.0   2.0   2.0   2.0"
            ]
          },
          "metadata": {
            "tags": []
          },
          "execution_count": 122
        }
      ]
    },
    {
      "metadata": {
        "id": "Nhzju-OHNpbc",
        "colab_type": "text"
      },
      "cell_type": "markdown",
      "source": [
        "### Indices"
      ]
    },
    {
      "metadata": {
        "id": "WPy22REnNvgL",
        "colab_type": "code",
        "colab": {
          "base_uri": "https://localhost:8080/",
          "height": 102
        },
        "outputId": "129e554b-b19c-4396-f60f-1fbd0df72689"
      },
      "cell_type": "code",
      "source": [
        "# check whether elements of pandas series are in list\n",
        "df = pd.DataFrame({'name':['Apple','Banana','Citrus','Apple']})\n",
        "idx = df['name'].isin(['Apple','Banana'])\n",
        "print(idx)"
      ],
      "execution_count": 123,
      "outputs": [
        {
          "output_type": "stream",
          "text": [
            "0     True\n",
            "1     True\n",
            "2    False\n",
            "3     True\n",
            "Name: name, dtype: bool\n"
          ],
          "name": "stdout"
        }
      ]
    },
    {
      "metadata": {
        "id": "ysGE0Sa4TeEj",
        "colab_type": "text"
      },
      "cell_type": "markdown",
      "source": [
        "### Duplicates"
      ]
    },
    {
      "metadata": {
        "id": "3x8PY8pZTggu",
        "colab_type": "code",
        "colab": {
          "base_uri": "https://localhost:8080/",
          "height": 142
        },
        "outputId": "c0ed77a7-dedd-48fc-ecac-da23aa88d8ea"
      },
      "cell_type": "code",
      "source": [
        "# drop duplicates in a df\n",
        "df = pd.DataFrame({'name':['Apple','Banana','Citrus','Apple']})\n",
        "df.drop_duplicates(subset=['name'],inplace=True)\n",
        "df.head()"
      ],
      "execution_count": 124,
      "outputs": [
        {
          "output_type": "execute_result",
          "data": {
            "text/html": [
              "<div>\n",
              "<style scoped>\n",
              "    .dataframe tbody tr th:only-of-type {\n",
              "        vertical-align: middle;\n",
              "    }\n",
              "\n",
              "    .dataframe tbody tr th {\n",
              "        vertical-align: top;\n",
              "    }\n",
              "\n",
              "    .dataframe thead th {\n",
              "        text-align: right;\n",
              "    }\n",
              "</style>\n",
              "<table border=\"1\" class=\"dataframe\">\n",
              "  <thead>\n",
              "    <tr style=\"text-align: right;\">\n",
              "      <th></th>\n",
              "      <th>name</th>\n",
              "    </tr>\n",
              "  </thead>\n",
              "  <tbody>\n",
              "    <tr>\n",
              "      <th>0</th>\n",
              "      <td>Apple</td>\n",
              "    </tr>\n",
              "    <tr>\n",
              "      <th>1</th>\n",
              "      <td>Banana</td>\n",
              "    </tr>\n",
              "    <tr>\n",
              "      <th>2</th>\n",
              "      <td>Citrus</td>\n",
              "    </tr>\n",
              "  </tbody>\n",
              "</table>\n",
              "</div>"
            ],
            "text/plain": [
              "     name\n",
              "0   Apple\n",
              "1  Banana\n",
              "2  Citrus"
            ]
          },
          "metadata": {
            "tags": []
          },
          "execution_count": 124
        }
      ]
    },
    {
      "metadata": {
        "id": "u64djkb3fGWk",
        "colab_type": "text"
      },
      "cell_type": "markdown",
      "source": [
        "### Long to wide"
      ]
    },
    {
      "metadata": {
        "id": "5jMBjl7GfLF5",
        "colab_type": "code",
        "colab": {
          "base_uri": "https://localhost:8080/",
          "height": 173
        },
        "outputId": "84c7d2fd-4131-436e-81ba-e2b1e8dba8d4"
      },
      "cell_type": "code",
      "source": [
        "df = pd.DataFrame({'Country':['France','France','Germany','Germany'],'Id':['volume','price','volume','price'],'Value':[3000,42,2500,35]})\n",
        "df.head()"
      ],
      "execution_count": 125,
      "outputs": [
        {
          "output_type": "execute_result",
          "data": {
            "text/html": [
              "<div>\n",
              "<style scoped>\n",
              "    .dataframe tbody tr th:only-of-type {\n",
              "        vertical-align: middle;\n",
              "    }\n",
              "\n",
              "    .dataframe tbody tr th {\n",
              "        vertical-align: top;\n",
              "    }\n",
              "\n",
              "    .dataframe thead th {\n",
              "        text-align: right;\n",
              "    }\n",
              "</style>\n",
              "<table border=\"1\" class=\"dataframe\">\n",
              "  <thead>\n",
              "    <tr style=\"text-align: right;\">\n",
              "      <th></th>\n",
              "      <th>Country</th>\n",
              "      <th>Id</th>\n",
              "      <th>Value</th>\n",
              "    </tr>\n",
              "  </thead>\n",
              "  <tbody>\n",
              "    <tr>\n",
              "      <th>0</th>\n",
              "      <td>France</td>\n",
              "      <td>volume</td>\n",
              "      <td>3000</td>\n",
              "    </tr>\n",
              "    <tr>\n",
              "      <th>1</th>\n",
              "      <td>France</td>\n",
              "      <td>price</td>\n",
              "      <td>42</td>\n",
              "    </tr>\n",
              "    <tr>\n",
              "      <th>2</th>\n",
              "      <td>Germany</td>\n",
              "      <td>volume</td>\n",
              "      <td>2500</td>\n",
              "    </tr>\n",
              "    <tr>\n",
              "      <th>3</th>\n",
              "      <td>Germany</td>\n",
              "      <td>price</td>\n",
              "      <td>35</td>\n",
              "    </tr>\n",
              "  </tbody>\n",
              "</table>\n",
              "</div>"
            ],
            "text/plain": [
              "   Country      Id  Value\n",
              "0   France  volume   3000\n",
              "1   France   price     42\n",
              "2  Germany  volume   2500\n",
              "3  Germany   price     35"
            ]
          },
          "metadata": {
            "tags": []
          },
          "execution_count": 125
        }
      ]
    },
    {
      "metadata": {
        "id": "DEvnaRCVhOXJ",
        "colab_type": "code",
        "colab": {
          "base_uri": "https://localhost:8080/",
          "height": 142
        },
        "outputId": "50cbfe78-a6a3-47af-8cf5-6c3a7ac9909a"
      },
      "cell_type": "code",
      "source": [
        "# convert to wide format\n",
        "df_wide = df.pivot(index='Country',columns='Id',values = 'Value')\n",
        "df_wide.head()"
      ],
      "execution_count": 126,
      "outputs": [
        {
          "output_type": "execute_result",
          "data": {
            "text/html": [
              "<div>\n",
              "<style scoped>\n",
              "    .dataframe tbody tr th:only-of-type {\n",
              "        vertical-align: middle;\n",
              "    }\n",
              "\n",
              "    .dataframe tbody tr th {\n",
              "        vertical-align: top;\n",
              "    }\n",
              "\n",
              "    .dataframe thead th {\n",
              "        text-align: right;\n",
              "    }\n",
              "</style>\n",
              "<table border=\"1\" class=\"dataframe\">\n",
              "  <thead>\n",
              "    <tr style=\"text-align: right;\">\n",
              "      <th>Id</th>\n",
              "      <th>price</th>\n",
              "      <th>volume</th>\n",
              "    </tr>\n",
              "    <tr>\n",
              "      <th>Country</th>\n",
              "      <th></th>\n",
              "      <th></th>\n",
              "    </tr>\n",
              "  </thead>\n",
              "  <tbody>\n",
              "    <tr>\n",
              "      <th>France</th>\n",
              "      <td>42</td>\n",
              "      <td>3000</td>\n",
              "    </tr>\n",
              "    <tr>\n",
              "      <th>Germany</th>\n",
              "      <td>35</td>\n",
              "      <td>2500</td>\n",
              "    </tr>\n",
              "  </tbody>\n",
              "</table>\n",
              "</div>"
            ],
            "text/plain": [
              "Id       price  volume\n",
              "Country               \n",
              "France      42    3000\n",
              "Germany     35    2500"
            ]
          },
          "metadata": {
            "tags": []
          },
          "execution_count": 126
        }
      ]
    },
    {
      "metadata": {
        "id": "Q9GT7qWrG9X3",
        "colab_type": "code",
        "colab": {
          "base_uri": "https://localhost:8080/",
          "height": 173
        },
        "outputId": "eb3fec06-915c-4590-db8b-e3f8ab54acd1"
      },
      "cell_type": "code",
      "source": [
        "# if you have multiple index you can use pivot_table\n",
        "df = pd.DataFrame({'Country':['France','France','Germany','Germany'],'forecast':['Mon','Mon','Mon','Mon'],'delivery':['Tue','Wed','Tue','Wed'],'Value':[3000,42,2500,35]})\n",
        "df.head()"
      ],
      "execution_count": 127,
      "outputs": [
        {
          "output_type": "execute_result",
          "data": {
            "text/html": [
              "<div>\n",
              "<style scoped>\n",
              "    .dataframe tbody tr th:only-of-type {\n",
              "        vertical-align: middle;\n",
              "    }\n",
              "\n",
              "    .dataframe tbody tr th {\n",
              "        vertical-align: top;\n",
              "    }\n",
              "\n",
              "    .dataframe thead th {\n",
              "        text-align: right;\n",
              "    }\n",
              "</style>\n",
              "<table border=\"1\" class=\"dataframe\">\n",
              "  <thead>\n",
              "    <tr style=\"text-align: right;\">\n",
              "      <th></th>\n",
              "      <th>Country</th>\n",
              "      <th>Value</th>\n",
              "      <th>delivery</th>\n",
              "      <th>forecast</th>\n",
              "    </tr>\n",
              "  </thead>\n",
              "  <tbody>\n",
              "    <tr>\n",
              "      <th>0</th>\n",
              "      <td>France</td>\n",
              "      <td>3000</td>\n",
              "      <td>Tue</td>\n",
              "      <td>Mon</td>\n",
              "    </tr>\n",
              "    <tr>\n",
              "      <th>1</th>\n",
              "      <td>France</td>\n",
              "      <td>42</td>\n",
              "      <td>Wed</td>\n",
              "      <td>Mon</td>\n",
              "    </tr>\n",
              "    <tr>\n",
              "      <th>2</th>\n",
              "      <td>Germany</td>\n",
              "      <td>2500</td>\n",
              "      <td>Tue</td>\n",
              "      <td>Mon</td>\n",
              "    </tr>\n",
              "    <tr>\n",
              "      <th>3</th>\n",
              "      <td>Germany</td>\n",
              "      <td>35</td>\n",
              "      <td>Wed</td>\n",
              "      <td>Mon</td>\n",
              "    </tr>\n",
              "  </tbody>\n",
              "</table>\n",
              "</div>"
            ],
            "text/plain": [
              "   Country  Value delivery forecast\n",
              "0   France   3000      Tue      Mon\n",
              "1   France     42      Wed      Mon\n",
              "2  Germany   2500      Tue      Mon\n",
              "3  Germany     35      Wed      Mon"
            ]
          },
          "metadata": {
            "tags": []
          },
          "execution_count": 127
        }
      ]
    },
    {
      "metadata": {
        "id": "G3blwF2kI1ef",
        "colab_type": "code",
        "colab": {
          "base_uri": "https://localhost:8080/",
          "height": 142
        },
        "outputId": "1729549b-d07e-4586-ca62-8f71cc4e5ce3"
      },
      "cell_type": "code",
      "source": [
        "df_wide = pd.pivot_table(df, values = 'Value', index=['forecast','delivery'], columns = 'Country')\n",
        "df_wide.head()"
      ],
      "execution_count": 128,
      "outputs": [
        {
          "output_type": "execute_result",
          "data": {
            "text/html": [
              "<div>\n",
              "<style scoped>\n",
              "    .dataframe tbody tr th:only-of-type {\n",
              "        vertical-align: middle;\n",
              "    }\n",
              "\n",
              "    .dataframe tbody tr th {\n",
              "        vertical-align: top;\n",
              "    }\n",
              "\n",
              "    .dataframe thead th {\n",
              "        text-align: right;\n",
              "    }\n",
              "</style>\n",
              "<table border=\"1\" class=\"dataframe\">\n",
              "  <thead>\n",
              "    <tr style=\"text-align: right;\">\n",
              "      <th></th>\n",
              "      <th>Country</th>\n",
              "      <th>France</th>\n",
              "      <th>Germany</th>\n",
              "    </tr>\n",
              "    <tr>\n",
              "      <th>forecast</th>\n",
              "      <th>delivery</th>\n",
              "      <th></th>\n",
              "      <th></th>\n",
              "    </tr>\n",
              "  </thead>\n",
              "  <tbody>\n",
              "    <tr>\n",
              "      <th rowspan=\"2\" valign=\"top\">Mon</th>\n",
              "      <th>Tue</th>\n",
              "      <td>3000</td>\n",
              "      <td>2500</td>\n",
              "    </tr>\n",
              "    <tr>\n",
              "      <th>Wed</th>\n",
              "      <td>42</td>\n",
              "      <td>35</td>\n",
              "    </tr>\n",
              "  </tbody>\n",
              "</table>\n",
              "</div>"
            ],
            "text/plain": [
              "Country            France  Germany\n",
              "forecast delivery                 \n",
              "Mon      Tue         3000     2500\n",
              "         Wed           42       35"
            ]
          },
          "metadata": {
            "tags": []
          },
          "execution_count": 128
        }
      ]
    },
    {
      "metadata": {
        "id": "Rg0_UAd2JIQA",
        "colab_type": "code",
        "colab": {
          "base_uri": "https://localhost:8080/",
          "height": 111
        },
        "outputId": "f6dcc6f2-9c37-4124-8167-1bb0dc61912d"
      },
      "cell_type": "code",
      "source": [
        "df_wide.reset_index(inplace=True)\n",
        "df_wide.head()"
      ],
      "execution_count": 129,
      "outputs": [
        {
          "output_type": "execute_result",
          "data": {
            "text/html": [
              "<div>\n",
              "<style scoped>\n",
              "    .dataframe tbody tr th:only-of-type {\n",
              "        vertical-align: middle;\n",
              "    }\n",
              "\n",
              "    .dataframe tbody tr th {\n",
              "        vertical-align: top;\n",
              "    }\n",
              "\n",
              "    .dataframe thead th {\n",
              "        text-align: right;\n",
              "    }\n",
              "</style>\n",
              "<table border=\"1\" class=\"dataframe\">\n",
              "  <thead>\n",
              "    <tr style=\"text-align: right;\">\n",
              "      <th>Country</th>\n",
              "      <th>forecast</th>\n",
              "      <th>delivery</th>\n",
              "      <th>France</th>\n",
              "      <th>Germany</th>\n",
              "    </tr>\n",
              "  </thead>\n",
              "  <tbody>\n",
              "    <tr>\n",
              "      <th>0</th>\n",
              "      <td>Mon</td>\n",
              "      <td>Tue</td>\n",
              "      <td>3000</td>\n",
              "      <td>2500</td>\n",
              "    </tr>\n",
              "    <tr>\n",
              "      <th>1</th>\n",
              "      <td>Mon</td>\n",
              "      <td>Wed</td>\n",
              "      <td>42</td>\n",
              "      <td>35</td>\n",
              "    </tr>\n",
              "  </tbody>\n",
              "</table>\n",
              "</div>"
            ],
            "text/plain": [
              "Country forecast delivery  France  Germany\n",
              "0            Mon      Tue    3000     2500\n",
              "1            Mon      Wed      42       35"
            ]
          },
          "metadata": {
            "tags": []
          },
          "execution_count": 129
        }
      ]
    },
    {
      "metadata": {
        "id": "D11eHuYHtJvz",
        "colab_type": "text"
      },
      "cell_type": "markdown",
      "source": [
        "### Slice from a dataframe"
      ]
    },
    {
      "metadata": {
        "id": "e7lQE9R6tQhs",
        "colab_type": "code",
        "colab": {}
      },
      "cell_type": "code",
      "source": [
        "df = pd.DataFrame({'wind':[100,150,250],'solar':[50,55,60]})\n",
        "idx = df['wind'] == 150\n",
        "df_slice = df.loc[~idx] # creates an implicit copy will get warning"
      ],
      "execution_count": 0,
      "outputs": []
    },
    {
      "metadata": {
        "id": "CGySnBYat3nB",
        "colab_type": "code",
        "colab": {
          "base_uri": "https://localhost:8080/",
          "height": 306
        },
        "outputId": "e34fa0be-7f9f-469b-e4db-3dbe93dc5899"
      },
      "cell_type": "code",
      "source": [
        "# set a new value to original df\n",
        "\"\"\"\n",
        ".ix is deprecated. Please use\n",
        ".loc for label based indexing or\n",
        ".iloc for positional indexing\n",
        "\"\"\"\n",
        "# see https://github.com/abgoswam/2016/blob/master/062016/python/pandas_views_copy.py\n",
        "\n",
        "df.loc[2,'wind'] = 999\n",
        "print(df)\n",
        "print(\"\")\n",
        "print(df_slice)\n",
        "print(\"\")\n",
        "df_slice.loc[2,'wind'] = -1\n",
        "print(df_slice)"
      ],
      "execution_count": 131,
      "outputs": [
        {
          "output_type": "stream",
          "text": [
            "   solar  wind\n",
            "0     50   100\n",
            "1     55   150\n",
            "2     60   999\n",
            "\n",
            "   solar  wind\n",
            "0     50   100\n",
            "2     60   250\n",
            "\n",
            "   solar  wind\n",
            "0     50   100\n",
            "2     60    -1\n"
          ],
          "name": "stdout"
        },
        {
          "output_type": "stream",
          "text": [
            "/usr/local/lib/python2.7/dist-packages/ipykernel_launcher.py:13: SettingWithCopyWarning: \n",
            "A value is trying to be set on a copy of a slice from a DataFrame\n",
            "\n",
            "See the caveats in the documentation: http://pandas.pydata.org/pandas-docs/stable/indexing.html#indexing-view-versus-copy\n",
            "  del sys.path[0]\n"
          ],
          "name": "stderr"
        }
      ]
    },
    {
      "metadata": {
        "id": "1jphUCfmvmEL",
        "colab_type": "code",
        "colab": {
          "base_uri": "https://localhost:8080/",
          "height": 221
        },
        "outputId": "b84c5c6f-73aa-48b5-8c0e-e3a83fe132b0"
      },
      "cell_type": "code",
      "source": [
        "df = pd.DataFrame({'wind':[100,150,250],'solar':[50,55,60]})\n",
        "idx = df['wind'] == 150\n",
        "df_slice = df.loc[~idx].copy() # creates an explicit copy no warning\n",
        "print(df)\n",
        "print(\"\")\n",
        "print(df_slice)\n",
        "print(\"\")\n",
        "df_slice.loc[2,'wind'] = -1\n",
        "print(df_slice)"
      ],
      "execution_count": 132,
      "outputs": [
        {
          "output_type": "stream",
          "text": [
            "   solar  wind\n",
            "0     50   100\n",
            "1     55   150\n",
            "2     60   250\n",
            "\n",
            "   solar  wind\n",
            "0     50   100\n",
            "2     60   250\n",
            "\n",
            "   solar  wind\n",
            "0     50   100\n",
            "2     60    -1\n"
          ],
          "name": "stdout"
        }
      ]
    },
    {
      "metadata": {
        "id": "lXjhw8pePHCo",
        "colab_type": "text"
      },
      "cell_type": "markdown",
      "source": [
        "### Merge"
      ]
    },
    {
      "metadata": {
        "id": "kWCIxBE1PKC7",
        "colab_type": "code",
        "colab": {
          "base_uri": "https://localhost:8080/",
          "height": 142
        },
        "outputId": "67c3882c-73fc-4dee-e2b3-2d1310c0892a"
      },
      "cell_type": "code",
      "source": [
        "df1 = pd.DataFrame({'name':['appel','banana','orange'],'weight':[10,20,30]}) \n",
        "df2 = pd.DataFrame({'name':['appel','banana'],'price':[1,5]})\n",
        "df_merge = df1.merge(df2,how='left',left_on =['name'],right_on = ['name'])\n",
        "df_merge.head()"
      ],
      "execution_count": 133,
      "outputs": [
        {
          "output_type": "execute_result",
          "data": {
            "text/html": [
              "<div>\n",
              "<style scoped>\n",
              "    .dataframe tbody tr th:only-of-type {\n",
              "        vertical-align: middle;\n",
              "    }\n",
              "\n",
              "    .dataframe tbody tr th {\n",
              "        vertical-align: top;\n",
              "    }\n",
              "\n",
              "    .dataframe thead th {\n",
              "        text-align: right;\n",
              "    }\n",
              "</style>\n",
              "<table border=\"1\" class=\"dataframe\">\n",
              "  <thead>\n",
              "    <tr style=\"text-align: right;\">\n",
              "      <th></th>\n",
              "      <th>name</th>\n",
              "      <th>weight</th>\n",
              "      <th>price</th>\n",
              "    </tr>\n",
              "  </thead>\n",
              "  <tbody>\n",
              "    <tr>\n",
              "      <th>0</th>\n",
              "      <td>appel</td>\n",
              "      <td>10</td>\n",
              "      <td>1.0</td>\n",
              "    </tr>\n",
              "    <tr>\n",
              "      <th>1</th>\n",
              "      <td>banana</td>\n",
              "      <td>20</td>\n",
              "      <td>5.0</td>\n",
              "    </tr>\n",
              "    <tr>\n",
              "      <th>2</th>\n",
              "      <td>orange</td>\n",
              "      <td>30</td>\n",
              "      <td>NaN</td>\n",
              "    </tr>\n",
              "  </tbody>\n",
              "</table>\n",
              "</div>"
            ],
            "text/plain": [
              "     name  weight  price\n",
              "0   appel      10    1.0\n",
              "1  banana      20    5.0\n",
              "2  orange      30    NaN"
            ]
          },
          "metadata": {
            "tags": []
          },
          "execution_count": 133
        }
      ]
    },
    {
      "metadata": {
        "id": "ZReeF1ARSA1K",
        "colab_type": "text"
      },
      "cell_type": "markdown",
      "source": [
        "### Check NA's"
      ]
    },
    {
      "metadata": {
        "id": "OyFC1x4fSEdb",
        "colab_type": "code",
        "colab": {
          "base_uri": "https://localhost:8080/",
          "height": 80
        },
        "outputId": "5fa48c71-cd3f-4109-97da-6886a7ee0b25"
      },
      "cell_type": "code",
      "source": [
        "df_merge[df_merge.isnull().any(axis=1)]"
      ],
      "execution_count": 134,
      "outputs": [
        {
          "output_type": "execute_result",
          "data": {
            "text/html": [
              "<div>\n",
              "<style scoped>\n",
              "    .dataframe tbody tr th:only-of-type {\n",
              "        vertical-align: middle;\n",
              "    }\n",
              "\n",
              "    .dataframe tbody tr th {\n",
              "        vertical-align: top;\n",
              "    }\n",
              "\n",
              "    .dataframe thead th {\n",
              "        text-align: right;\n",
              "    }\n",
              "</style>\n",
              "<table border=\"1\" class=\"dataframe\">\n",
              "  <thead>\n",
              "    <tr style=\"text-align: right;\">\n",
              "      <th></th>\n",
              "      <th>name</th>\n",
              "      <th>weight</th>\n",
              "      <th>price</th>\n",
              "    </tr>\n",
              "  </thead>\n",
              "  <tbody>\n",
              "    <tr>\n",
              "      <th>2</th>\n",
              "      <td>orange</td>\n",
              "      <td>30</td>\n",
              "      <td>NaN</td>\n",
              "    </tr>\n",
              "  </tbody>\n",
              "</table>\n",
              "</div>"
            ],
            "text/plain": [
              "     name  weight  price\n",
              "2  orange      30    NaN"
            ]
          },
          "metadata": {
            "tags": []
          },
          "execution_count": 134
        }
      ]
    },
    {
      "metadata": {
        "id": "mqzxScBY_glV",
        "colab_type": "text"
      },
      "cell_type": "markdown",
      "source": [
        "### Remove row with any zero"
      ]
    },
    {
      "metadata": {
        "id": "Vl5pmY7o_mkY",
        "colab_type": "code",
        "colab": {
          "base_uri": "https://localhost:8080/",
          "height": 142
        },
        "outputId": "cc2bd332-d48d-4201-bd25-1ecd38936726"
      },
      "cell_type": "code",
      "source": [
        "df = pd.DataFrame({'name':['appel','banana','orange'],'weight':[10,20,0],'cost':[0,11,0]})\n",
        "df"
      ],
      "execution_count": 135,
      "outputs": [
        {
          "output_type": "execute_result",
          "data": {
            "text/html": [
              "<div>\n",
              "<style scoped>\n",
              "    .dataframe tbody tr th:only-of-type {\n",
              "        vertical-align: middle;\n",
              "    }\n",
              "\n",
              "    .dataframe tbody tr th {\n",
              "        vertical-align: top;\n",
              "    }\n",
              "\n",
              "    .dataframe thead th {\n",
              "        text-align: right;\n",
              "    }\n",
              "</style>\n",
              "<table border=\"1\" class=\"dataframe\">\n",
              "  <thead>\n",
              "    <tr style=\"text-align: right;\">\n",
              "      <th></th>\n",
              "      <th>cost</th>\n",
              "      <th>name</th>\n",
              "      <th>weight</th>\n",
              "    </tr>\n",
              "  </thead>\n",
              "  <tbody>\n",
              "    <tr>\n",
              "      <th>0</th>\n",
              "      <td>0</td>\n",
              "      <td>appel</td>\n",
              "      <td>10</td>\n",
              "    </tr>\n",
              "    <tr>\n",
              "      <th>1</th>\n",
              "      <td>11</td>\n",
              "      <td>banana</td>\n",
              "      <td>20</td>\n",
              "    </tr>\n",
              "    <tr>\n",
              "      <th>2</th>\n",
              "      <td>0</td>\n",
              "      <td>orange</td>\n",
              "      <td>0</td>\n",
              "    </tr>\n",
              "  </tbody>\n",
              "</table>\n",
              "</div>"
            ],
            "text/plain": [
              "   cost    name  weight\n",
              "0     0   appel      10\n",
              "1    11  banana      20\n",
              "2     0  orange       0"
            ]
          },
          "metadata": {
            "tags": []
          },
          "execution_count": 135
        }
      ]
    },
    {
      "metadata": {
        "id": "R1ktfTkF_-sy",
        "colab_type": "code",
        "colab": {
          "base_uri": "https://localhost:8080/",
          "height": 85
        },
        "outputId": "c2565426-680b-44f2-ffb3-86a0ae4d0f09"
      },
      "cell_type": "code",
      "source": [
        "# get idx of row with zero\n",
        "cols = ['cost','weight']\n",
        "idx = (df[cols] == 0).any(axis=1)\n",
        "print(idx)"
      ],
      "execution_count": 136,
      "outputs": [
        {
          "output_type": "stream",
          "text": [
            "0     True\n",
            "1    False\n",
            "2     True\n",
            "dtype: bool\n"
          ],
          "name": "stdout"
        }
      ]
    },
    {
      "metadata": {
        "id": "pkGnWmdCAUWf",
        "colab_type": "code",
        "colab": {
          "base_uri": "https://localhost:8080/",
          "height": 80
        },
        "outputId": "db44d319-6b6c-43ba-c265-7c0e354a3c69"
      },
      "cell_type": "code",
      "source": [
        "df2 = df.loc[~idx]\n",
        "df2.reset_index(inplace=True,drop=True)\n",
        "df2.head()"
      ],
      "execution_count": 137,
      "outputs": [
        {
          "output_type": "execute_result",
          "data": {
            "text/html": [
              "<div>\n",
              "<style scoped>\n",
              "    .dataframe tbody tr th:only-of-type {\n",
              "        vertical-align: middle;\n",
              "    }\n",
              "\n",
              "    .dataframe tbody tr th {\n",
              "        vertical-align: top;\n",
              "    }\n",
              "\n",
              "    .dataframe thead th {\n",
              "        text-align: right;\n",
              "    }\n",
              "</style>\n",
              "<table border=\"1\" class=\"dataframe\">\n",
              "  <thead>\n",
              "    <tr style=\"text-align: right;\">\n",
              "      <th></th>\n",
              "      <th>cost</th>\n",
              "      <th>name</th>\n",
              "      <th>weight</th>\n",
              "    </tr>\n",
              "  </thead>\n",
              "  <tbody>\n",
              "    <tr>\n",
              "      <th>0</th>\n",
              "      <td>11</td>\n",
              "      <td>banana</td>\n",
              "      <td>20</td>\n",
              "    </tr>\n",
              "  </tbody>\n",
              "</table>\n",
              "</div>"
            ],
            "text/plain": [
              "   cost    name  weight\n",
              "0    11  banana      20"
            ]
          },
          "metadata": {
            "tags": []
          },
          "execution_count": 137
        }
      ]
    },
    {
      "metadata": {
        "id": "jjXrxsvnIxfb",
        "colab_type": "text"
      },
      "cell_type": "markdown",
      "source": [
        "### Get index of column name"
      ]
    },
    {
      "metadata": {
        "id": "l0ARQ9YlI0s0",
        "colab_type": "code",
        "colab": {
          "base_uri": "https://localhost:8080/",
          "height": 34
        },
        "outputId": "d6e50d8e-74ae-4019-d871-eda5269812ae"
      },
      "cell_type": "code",
      "source": [
        "df = pd.DataFrame({'name':['apple','banaan','peer'],'weight':[10,19,33]})\n",
        "\n",
        "df.columns"
      ],
      "execution_count": 138,
      "outputs": [
        {
          "output_type": "execute_result",
          "data": {
            "text/plain": [
              "Index([u'name', u'weight'], dtype='object')"
            ]
          },
          "metadata": {
            "tags": []
          },
          "execution_count": 138
        }
      ]
    },
    {
      "metadata": {
        "id": "pO2tFwLSJgrm",
        "colab_type": "code",
        "colab": {
          "base_uri": "https://localhost:8080/",
          "height": 34
        },
        "outputId": "e3390590-4c4b-4ebd-b297-dc8ac73aaf5f"
      },
      "cell_type": "code",
      "source": [
        "df.columns.get_loc('weight')"
      ],
      "execution_count": 139,
      "outputs": [
        {
          "output_type": "execute_result",
          "data": {
            "text/plain": [
              "1"
            ]
          },
          "metadata": {
            "tags": []
          },
          "execution_count": 139
        }
      ]
    },
    {
      "metadata": {
        "id": "Wkmy6fy9bcbC",
        "colab_type": "text"
      },
      "cell_type": "markdown",
      "source": [
        "### Get index of value"
      ]
    },
    {
      "metadata": {
        "id": "2yWMZmj-bfwT",
        "colab_type": "code",
        "colab": {
          "base_uri": "https://localhost:8080/",
          "height": 34
        },
        "outputId": "b996540c-47c4-4a23-a529-63b98fb95901"
      },
      "cell_type": "code",
      "source": [
        "a = np.array([1,2,3])\n",
        "#np.where(a == 3)\n",
        "np.argwhere(a==3)[0][0]"
      ],
      "execution_count": 140,
      "outputs": [
        {
          "output_type": "execute_result",
          "data": {
            "text/plain": [
              "2"
            ]
          },
          "metadata": {
            "tags": []
          },
          "execution_count": 140
        }
      ]
    },
    {
      "metadata": {
        "id": "i_8ANdg-TOuU",
        "colab_type": "text"
      },
      "cell_type": "markdown",
      "source": [
        "## Apply and Map"
      ]
    },
    {
      "metadata": {
        "id": "wAkl7EkDP_aM",
        "colab_type": "code",
        "colab": {
          "base_uri": "https://localhost:8080/",
          "height": 142
        },
        "outputId": "3209ded8-5e94-4e5f-ea9e-46f201cfa6c7"
      },
      "cell_type": "code",
      "source": [
        "# make new column using the map function\n",
        "# http://book.pythontips.com/en/latest/map_filter.html\n",
        "df = pd.DataFrame({'name':['apple','banaan','peer'],'price':[10,19,33]})\n",
        "df['price_sqr_map'] = list(map(lambda x: x**2, df['price']))\n",
        "df.head()"
      ],
      "execution_count": 142,
      "outputs": [
        {
          "output_type": "execute_result",
          "data": {
            "text/html": [
              "<div>\n",
              "<style scoped>\n",
              "    .dataframe tbody tr th:only-of-type {\n",
              "        vertical-align: middle;\n",
              "    }\n",
              "\n",
              "    .dataframe tbody tr th {\n",
              "        vertical-align: top;\n",
              "    }\n",
              "\n",
              "    .dataframe thead th {\n",
              "        text-align: right;\n",
              "    }\n",
              "</style>\n",
              "<table border=\"1\" class=\"dataframe\">\n",
              "  <thead>\n",
              "    <tr style=\"text-align: right;\">\n",
              "      <th></th>\n",
              "      <th>name</th>\n",
              "      <th>price</th>\n",
              "      <th>price_sqr_map</th>\n",
              "    </tr>\n",
              "  </thead>\n",
              "  <tbody>\n",
              "    <tr>\n",
              "      <th>0</th>\n",
              "      <td>apple</td>\n",
              "      <td>10</td>\n",
              "      <td>100</td>\n",
              "    </tr>\n",
              "    <tr>\n",
              "      <th>1</th>\n",
              "      <td>banaan</td>\n",
              "      <td>19</td>\n",
              "      <td>361</td>\n",
              "    </tr>\n",
              "    <tr>\n",
              "      <th>2</th>\n",
              "      <td>peer</td>\n",
              "      <td>33</td>\n",
              "      <td>1089</td>\n",
              "    </tr>\n",
              "  </tbody>\n",
              "</table>\n",
              "</div>"
            ],
            "text/plain": [
              "     name  price  price_sqr_map\n",
              "0   apple     10            100\n",
              "1  banaan     19            361\n",
              "2    peer     33           1089"
            ]
          },
          "metadata": {
            "tags": []
          },
          "execution_count": 142
        }
      ]
    },
    {
      "metadata": {
        "id": "BSWPP13VRVh6",
        "colab_type": "code",
        "colab": {
          "base_uri": "https://localhost:8080/",
          "height": 173
        },
        "outputId": "9654f98f-41bc-4f03-db88-cad2d0c3e71b"
      },
      "cell_type": "code",
      "source": [
        "# make new column using the map function, add price + price_sqr\n",
        "# http://pythonfiddle.com/map-with-multiple-arguments/\n",
        "df['price_sqr_map2'] = list(map(lambda x,y: x+y, df['price'],df['price_sqr']))\n",
        "df.head()"
      ],
      "execution_count": 292,
      "outputs": [
        {
          "output_type": "execute_result",
          "data": {
            "text/html": [
              "<div>\n",
              "<style scoped>\n",
              "    .dataframe tbody tr th:only-of-type {\n",
              "        vertical-align: middle;\n",
              "    }\n",
              "\n",
              "    .dataframe tbody tr th {\n",
              "        vertical-align: top;\n",
              "    }\n",
              "\n",
              "    .dataframe thead th {\n",
              "        text-align: right;\n",
              "    }\n",
              "</style>\n",
              "<table border=\"1\" class=\"dataframe\">\n",
              "  <thead>\n",
              "    <tr style=\"text-align: right;\">\n",
              "      <th></th>\n",
              "      <th>name</th>\n",
              "      <th>price</th>\n",
              "      <th>price_sqr</th>\n",
              "      <th>price_sqr_map</th>\n",
              "      <th>price_sqr_map2</th>\n",
              "    </tr>\n",
              "  </thead>\n",
              "  <tbody>\n",
              "    <tr>\n",
              "      <th>0</th>\n",
              "      <td>apple</td>\n",
              "      <td>11</td>\n",
              "      <td>1</td>\n",
              "      <td>121</td>\n",
              "      <td>12</td>\n",
              "    </tr>\n",
              "    <tr>\n",
              "      <th>2</th>\n",
              "      <td>apple</td>\n",
              "      <td>15</td>\n",
              "      <td>25</td>\n",
              "      <td>225</td>\n",
              "      <td>40</td>\n",
              "    </tr>\n",
              "    <tr>\n",
              "      <th>3</th>\n",
              "      <td>banana</td>\n",
              "      <td>10</td>\n",
              "      <td>100</td>\n",
              "      <td>100</td>\n",
              "      <td>110</td>\n",
              "    </tr>\n",
              "    <tr>\n",
              "      <th>1</th>\n",
              "      <td>orange</td>\n",
              "      <td>2</td>\n",
              "      <td>4</td>\n",
              "      <td>4</td>\n",
              "      <td>6</td>\n",
              "    </tr>\n",
              "  </tbody>\n",
              "</table>\n",
              "</div>"
            ],
            "text/plain": [
              "     name  price  price_sqr  price_sqr_map  price_sqr_map2\n",
              "0   apple     11          1            121              12\n",
              "2   apple     15         25            225              40\n",
              "3  banana     10        100            100             110\n",
              "1  orange      2          4              4               6"
            ]
          },
          "metadata": {
            "tags": []
          },
          "execution_count": 292
        }
      ]
    },
    {
      "metadata": {
        "id": "MPQnj9e9TtQl",
        "colab_type": "text"
      },
      "cell_type": "markdown",
      "source": [
        "## Dates"
      ]
    },
    {
      "metadata": {
        "id": "2jBIHk7A-rzy",
        "colab_type": "text"
      },
      "cell_type": "markdown",
      "source": [
        "### General"
      ]
    },
    {
      "metadata": {
        "id": "k5WI10DCVSpL",
        "colab_type": "code",
        "colab": {
          "base_uri": "https://localhost:8080/",
          "height": 10
        },
        "outputId": "0d8acb3c-1555-480c-d0d7-fe03c3f184cb"
      },
      "cell_type": "code",
      "source": [
        "# create datetime object\n",
        "a = dt.datetime(2018,5,9,0,0) # constructor, a datetime object a is created \n",
        "b = dt.datetime.today() # constructor\n",
        "c = dt.date(2018,10,28)\n",
        "print(a)\n",
        "print (b)\n",
        "print(c)"
      ],
      "execution_count": 293,
      "outputs": [
        {
          "output_type": "stream",
          "text": [
            "2018-05-09 00:00:00\n",
            "2018-05-06 19:47:26.891915\n",
            "2018-10-28\n"
          ],
          "name": "stdout"
        }
      ]
    },
    {
      "metadata": {
        "id": "WGAwB9xKXq4e",
        "colab_type": "code",
        "colab": {
          "base_uri": "https://localhost:8080/",
          "height": 10
        },
        "outputId": "d57817da-599b-445f-a217-fdddf4ff4490"
      },
      "cell_type": "code",
      "source": [
        "# the object has several attributes\n",
        "print (a.year)\n",
        "print (a.month)\n",
        "print(a.date())\n",
        "print(a.isoweekday())"
      ],
      "execution_count": 294,
      "outputs": [
        {
          "output_type": "stream",
          "text": [
            "2018\n",
            "5\n",
            "2018-05-09\n",
            "3\n"
          ],
          "name": "stdout"
        }
      ]
    },
    {
      "metadata": {
        "id": "udlwA_-0WFvb",
        "colab_type": "code",
        "colab": {
          "base_uri": "https://localhost:8080/",
          "height": 10
        },
        "outputId": "73d062c9-82e3-4cf4-df7a-c6ee1b9da132"
      },
      "cell_type": "code",
      "source": [
        "# Conversely, the datetime.strptime() class method creates a datetime object from a string representing a date and time and a corresponding format string\n",
        "a = dt.datetime.strptime('2018-05-09',\"%Y-%m-%d\")\n",
        "print(a)"
      ],
      "execution_count": 295,
      "outputs": [
        {
          "output_type": "stream",
          "text": [
            "2018-05-09 00:00:00\n"
          ],
          "name": "stdout"
        }
      ]
    },
    {
      "metadata": {
        "id": "TgxlAIqIY5lP",
        "colab_type": "code",
        "colab": {
          "base_uri": "https://localhost:8080/",
          "height": 10
        },
        "outputId": "4e2042fa-de18-4d54-d3e0-2e4e1740eee3"
      },
      "cell_type": "code",
      "source": [
        "# convert to string with format\n",
        "print(a.strftime(\"%Y-%m-%d\"))\n",
        "print(a.strftime(\"%Y%m%d\"))\n",
        "print(type(a.strftime(\"%Y%m%d\")))"
      ],
      "execution_count": 296,
      "outputs": [
        {
          "output_type": "stream",
          "text": [
            "2018-05-09\n",
            "20180509\n",
            "<type 'str'>\n"
          ],
          "name": "stdout"
        }
      ]
    },
    {
      "metadata": {
        "id": "nFs_XTT0eNID",
        "colab_type": "code",
        "colab": {
          "base_uri": "https://localhost:8080/",
          "height": 10
        },
        "outputId": "834486a5-1cf3-4a92-9e4c-2a33fd7a3619"
      },
      "cell_type": "code",
      "source": [
        "# make dataframe with only index\n",
        "\n",
        "startdate=dt.datetime(2018,1,1,0,0)\n",
        "enddate=dt.datetime(2018,12,31,23,59)\n",
        "\n",
        "delivery_date = pd.date_range(startdate,enddate,freq='1H',tz='Europe/Amsterdam')\n",
        "df = pd.DataFrame(index = delivery_date) \n",
        "df.reset_index(inplace=True)\n",
        "df.rename(columns={'index':'delivery_date'},inplace=True)\n",
        "print(df.tail(2))"
      ],
      "execution_count": 297,
      "outputs": [
        {
          "output_type": "stream",
          "text": [
            "                 delivery_date\n",
            "8758 2018-12-31 22:00:00+01:00\n",
            "8759 2018-12-31 23:00:00+01:00\n"
          ],
          "name": "stdout"
        }
      ]
    },
    {
      "metadata": {
        "id": "Qu_uBNvmeZej",
        "colab_type": "code",
        "colab": {
          "base_uri": "https://localhost:8080/",
          "height": 10
        },
        "outputId": "3fec560c-a111-4d81-8403-f724ef38a5d3"
      },
      "cell_type": "code",
      "source": [
        "# convert datetime to date\n",
        "df['date'] = df['delivery_date'].apply(lambda x: x.date())\n",
        "print(df.tail(2))"
      ],
      "execution_count": 298,
      "outputs": [
        {
          "output_type": "stream",
          "text": [
            "                 delivery_date        date\n",
            "8758 2018-12-31 22:00:00+01:00  2018-12-31\n",
            "8759 2018-12-31 23:00:00+01:00  2018-12-31\n"
          ],
          "name": "stdout"
        }
      ]
    },
    {
      "metadata": {
        "id": "inNvMTUXfU2Z",
        "colab_type": "code",
        "colab": {
          "base_uri": "https://localhost:8080/",
          "height": 10
        },
        "outputId": "f87daa7d-481b-48cd-e6bc-2729bafa4474"
      },
      "cell_type": "code",
      "source": [
        "# convert to utc\n",
        "df.index = df['delivery_date'] \n",
        "df.index = df.index.tz_convert('UTC') # tz_convert only works on index, as index is unique\n",
        "df['delivery_date_utc'] = df.index\n",
        "df.tail(2)"
      ],
      "execution_count": 299,
      "outputs": [
        {
          "output_type": "execute_result",
          "data": {
            "text/html": [
              "<div>\n",
              "<style scoped>\n",
              "    .dataframe tbody tr th:only-of-type {\n",
              "        vertical-align: middle;\n",
              "    }\n",
              "\n",
              "    .dataframe tbody tr th {\n",
              "        vertical-align: top;\n",
              "    }\n",
              "\n",
              "    .dataframe thead th {\n",
              "        text-align: right;\n",
              "    }\n",
              "</style>\n",
              "<table border=\"1\" class=\"dataframe\">\n",
              "  <thead>\n",
              "    <tr style=\"text-align: right;\">\n",
              "      <th></th>\n",
              "      <th>delivery_date</th>\n",
              "      <th>date</th>\n",
              "      <th>delivery_date_utc</th>\n",
              "    </tr>\n",
              "    <tr>\n",
              "      <th>delivery_date</th>\n",
              "      <th></th>\n",
              "      <th></th>\n",
              "      <th></th>\n",
              "    </tr>\n",
              "  </thead>\n",
              "  <tbody>\n",
              "    <tr>\n",
              "      <th>2018-12-31 21:00:00+00:00</th>\n",
              "      <td>2018-12-31 22:00:00+01:00</td>\n",
              "      <td>2018-12-31</td>\n",
              "      <td>2018-12-31 21:00:00+00:00</td>\n",
              "    </tr>\n",
              "    <tr>\n",
              "      <th>2018-12-31 22:00:00+00:00</th>\n",
              "      <td>2018-12-31 23:00:00+01:00</td>\n",
              "      <td>2018-12-31</td>\n",
              "      <td>2018-12-31 22:00:00+00:00</td>\n",
              "    </tr>\n",
              "  </tbody>\n",
              "</table>\n",
              "</div>"
            ],
            "text/plain": [
              "                                      delivery_date        date  \\\n",
              "delivery_date                                                     \n",
              "2018-12-31 21:00:00+00:00 2018-12-31 22:00:00+01:00  2018-12-31   \n",
              "2018-12-31 22:00:00+00:00 2018-12-31 23:00:00+01:00  2018-12-31   \n",
              "\n",
              "                                  delivery_date_utc  \n",
              "delivery_date                                        \n",
              "2018-12-31 21:00:00+00:00 2018-12-31 21:00:00+00:00  \n",
              "2018-12-31 22:00:00+00:00 2018-12-31 22:00:00+00:00  "
            ]
          },
          "metadata": {
            "tags": []
          },
          "execution_count": 299
        }
      ]
    },
    {
      "metadata": {
        "id": "Z3Iocgd6P9l0",
        "colab_type": "code",
        "colab": {
          "base_uri": "https://localhost:8080/",
          "height": 173
        },
        "outputId": "3aa4707d-35aa-4502-e3fc-13c6d90b2c79"
      },
      "cell_type": "code",
      "source": [
        "# Also the series can be localized\n",
        "df = pd.DataFrame({'ForecastDate':['2018-10-28 01:00:00','2018-10-28 02:00:00','2018-10-28 02:00:00','2018-10-28 03:00:00']})\n",
        "df['ForecastDate_local'] = pd.to_datetime(df['ForecastDate'],format='%Y-%m-%d %H:%M:%S')\n",
        "df.head()"
      ],
      "execution_count": 6,
      "outputs": [
        {
          "output_type": "execute_result",
          "data": {
            "text/html": [
              "<div>\n",
              "<style scoped>\n",
              "    .dataframe tbody tr th:only-of-type {\n",
              "        vertical-align: middle;\n",
              "    }\n",
              "\n",
              "    .dataframe tbody tr th {\n",
              "        vertical-align: top;\n",
              "    }\n",
              "\n",
              "    .dataframe thead th {\n",
              "        text-align: right;\n",
              "    }\n",
              "</style>\n",
              "<table border=\"1\" class=\"dataframe\">\n",
              "  <thead>\n",
              "    <tr style=\"text-align: right;\">\n",
              "      <th></th>\n",
              "      <th>ForecastDate</th>\n",
              "      <th>ForecastDate_local</th>\n",
              "    </tr>\n",
              "  </thead>\n",
              "  <tbody>\n",
              "    <tr>\n",
              "      <th>0</th>\n",
              "      <td>2018-10-28 01:00:00</td>\n",
              "      <td>2018-10-28 01:00:00</td>\n",
              "    </tr>\n",
              "    <tr>\n",
              "      <th>1</th>\n",
              "      <td>2018-10-28 02:00:00</td>\n",
              "      <td>2018-10-28 02:00:00</td>\n",
              "    </tr>\n",
              "    <tr>\n",
              "      <th>2</th>\n",
              "      <td>2018-10-28 02:00:00</td>\n",
              "      <td>2018-10-28 02:00:00</td>\n",
              "    </tr>\n",
              "    <tr>\n",
              "      <th>3</th>\n",
              "      <td>2018-10-28 03:00:00</td>\n",
              "      <td>2018-10-28 03:00:00</td>\n",
              "    </tr>\n",
              "  </tbody>\n",
              "</table>\n",
              "</div>"
            ],
            "text/plain": [
              "          ForecastDate  ForecastDate_local\n",
              "0  2018-10-28 01:00:00 2018-10-28 01:00:00\n",
              "1  2018-10-28 02:00:00 2018-10-28 02:00:00\n",
              "2  2018-10-28 02:00:00 2018-10-28 02:00:00\n",
              "3  2018-10-28 03:00:00 2018-10-28 03:00:00"
            ]
          },
          "metadata": {
            "tags": []
          },
          "execution_count": 6
        }
      ]
    },
    {
      "metadata": {
        "id": "UFX9ADBdR7_0",
        "colab_type": "code",
        "colab": {
          "base_uri": "https://localhost:8080/",
          "height": 173
        },
        "outputId": "6f76f638-f7eb-4349-e163-bba43887c4d7"
      },
      "cell_type": "code",
      "source": [
        "# series still time zone naive so make it time zone aware\n",
        "df['ForecastDate_local2'] = df['ForecastDate_local'].dt.tz_localize('Europe/Amsterdam',ambiguous='infer')\n",
        "df.head()"
      ],
      "execution_count": 7,
      "outputs": [
        {
          "output_type": "execute_result",
          "data": {
            "text/html": [
              "<div>\n",
              "<style scoped>\n",
              "    .dataframe tbody tr th:only-of-type {\n",
              "        vertical-align: middle;\n",
              "    }\n",
              "\n",
              "    .dataframe tbody tr th {\n",
              "        vertical-align: top;\n",
              "    }\n",
              "\n",
              "    .dataframe thead th {\n",
              "        text-align: right;\n",
              "    }\n",
              "</style>\n",
              "<table border=\"1\" class=\"dataframe\">\n",
              "  <thead>\n",
              "    <tr style=\"text-align: right;\">\n",
              "      <th></th>\n",
              "      <th>ForecastDate</th>\n",
              "      <th>ForecastDate_local</th>\n",
              "      <th>ForecastDate_local2</th>\n",
              "    </tr>\n",
              "  </thead>\n",
              "  <tbody>\n",
              "    <tr>\n",
              "      <th>0</th>\n",
              "      <td>2018-10-28 01:00:00</td>\n",
              "      <td>2018-10-28 01:00:00</td>\n",
              "      <td>2018-10-28 01:00:00+02:00</td>\n",
              "    </tr>\n",
              "    <tr>\n",
              "      <th>1</th>\n",
              "      <td>2018-10-28 02:00:00</td>\n",
              "      <td>2018-10-28 02:00:00</td>\n",
              "      <td>2018-10-28 02:00:00+02:00</td>\n",
              "    </tr>\n",
              "    <tr>\n",
              "      <th>2</th>\n",
              "      <td>2018-10-28 02:00:00</td>\n",
              "      <td>2018-10-28 02:00:00</td>\n",
              "      <td>2018-10-28 02:00:00+01:00</td>\n",
              "    </tr>\n",
              "    <tr>\n",
              "      <th>3</th>\n",
              "      <td>2018-10-28 03:00:00</td>\n",
              "      <td>2018-10-28 03:00:00</td>\n",
              "      <td>2018-10-28 03:00:00+01:00</td>\n",
              "    </tr>\n",
              "  </tbody>\n",
              "</table>\n",
              "</div>"
            ],
            "text/plain": [
              "          ForecastDate  ForecastDate_local       ForecastDate_local2\n",
              "0  2018-10-28 01:00:00 2018-10-28 01:00:00 2018-10-28 01:00:00+02:00\n",
              "1  2018-10-28 02:00:00 2018-10-28 02:00:00 2018-10-28 02:00:00+02:00\n",
              "2  2018-10-28 02:00:00 2018-10-28 02:00:00 2018-10-28 02:00:00+01:00\n",
              "3  2018-10-28 03:00:00 2018-10-28 03:00:00 2018-10-28 03:00:00+01:00"
            ]
          },
          "metadata": {
            "tags": []
          },
          "execution_count": 7
        }
      ]
    },
    {
      "metadata": {
        "id": "XOh_C8V7Sf41",
        "colab_type": "code",
        "colab": {
          "base_uri": "https://localhost:8080/",
          "height": 173
        },
        "outputId": "e56f5aef-d158-4a3d-b0bb-f79e1344e5b4"
      },
      "cell_type": "code",
      "source": [
        "# Also dt has other function\n",
        "# see https://pandas.pydata.org/pandas-docs/stable/api.html#datetimelike-properties\n",
        "df['date'] = df['ForecastDate_local2'].dt.date\n",
        "df.head()"
      ],
      "execution_count": 8,
      "outputs": [
        {
          "output_type": "execute_result",
          "data": {
            "text/html": [
              "<div>\n",
              "<style scoped>\n",
              "    .dataframe tbody tr th:only-of-type {\n",
              "        vertical-align: middle;\n",
              "    }\n",
              "\n",
              "    .dataframe tbody tr th {\n",
              "        vertical-align: top;\n",
              "    }\n",
              "\n",
              "    .dataframe thead th {\n",
              "        text-align: right;\n",
              "    }\n",
              "</style>\n",
              "<table border=\"1\" class=\"dataframe\">\n",
              "  <thead>\n",
              "    <tr style=\"text-align: right;\">\n",
              "      <th></th>\n",
              "      <th>ForecastDate</th>\n",
              "      <th>ForecastDate_local</th>\n",
              "      <th>ForecastDate_local2</th>\n",
              "      <th>date</th>\n",
              "    </tr>\n",
              "  </thead>\n",
              "  <tbody>\n",
              "    <tr>\n",
              "      <th>0</th>\n",
              "      <td>2018-10-28 01:00:00</td>\n",
              "      <td>2018-10-28 01:00:00</td>\n",
              "      <td>2018-10-28 01:00:00+02:00</td>\n",
              "      <td>2018-10-28</td>\n",
              "    </tr>\n",
              "    <tr>\n",
              "      <th>1</th>\n",
              "      <td>2018-10-28 02:00:00</td>\n",
              "      <td>2018-10-28 02:00:00</td>\n",
              "      <td>2018-10-28 02:00:00+02:00</td>\n",
              "      <td>2018-10-28</td>\n",
              "    </tr>\n",
              "    <tr>\n",
              "      <th>2</th>\n",
              "      <td>2018-10-28 02:00:00</td>\n",
              "      <td>2018-10-28 02:00:00</td>\n",
              "      <td>2018-10-28 02:00:00+01:00</td>\n",
              "      <td>2018-10-28</td>\n",
              "    </tr>\n",
              "    <tr>\n",
              "      <th>3</th>\n",
              "      <td>2018-10-28 03:00:00</td>\n",
              "      <td>2018-10-28 03:00:00</td>\n",
              "      <td>2018-10-28 03:00:00+01:00</td>\n",
              "      <td>2018-10-28</td>\n",
              "    </tr>\n",
              "  </tbody>\n",
              "</table>\n",
              "</div>"
            ],
            "text/plain": [
              "          ForecastDate  ForecastDate_local       ForecastDate_local2  \\\n",
              "0  2018-10-28 01:00:00 2018-10-28 01:00:00 2018-10-28 01:00:00+02:00   \n",
              "1  2018-10-28 02:00:00 2018-10-28 02:00:00 2018-10-28 02:00:00+02:00   \n",
              "2  2018-10-28 02:00:00 2018-10-28 02:00:00 2018-10-28 02:00:00+01:00   \n",
              "3  2018-10-28 03:00:00 2018-10-28 03:00:00 2018-10-28 03:00:00+01:00   \n",
              "\n",
              "         date  \n",
              "0  2018-10-28  \n",
              "1  2018-10-28  \n",
              "2  2018-10-28  \n",
              "3  2018-10-28  "
            ]
          },
          "metadata": {
            "tags": []
          },
          "execution_count": 8
        }
      ]
    },
    {
      "metadata": {
        "id": "RiT0C6kOw7kK",
        "colab_type": "code",
        "colab": {
          "base_uri": "https://localhost:8080/",
          "height": 10
        },
        "outputId": "085004e4-d2bb-40e3-cae9-97d3809463f3"
      },
      "cell_type": "code",
      "source": [
        "idx = df['date']==dt.date(2018,10,28)\n",
        "df[idx].head(5)"
      ],
      "execution_count": 300,
      "outputs": [
        {
          "output_type": "execute_result",
          "data": {
            "text/html": [
              "<div>\n",
              "<style scoped>\n",
              "    .dataframe tbody tr th:only-of-type {\n",
              "        vertical-align: middle;\n",
              "    }\n",
              "\n",
              "    .dataframe tbody tr th {\n",
              "        vertical-align: top;\n",
              "    }\n",
              "\n",
              "    .dataframe thead th {\n",
              "        text-align: right;\n",
              "    }\n",
              "</style>\n",
              "<table border=\"1\" class=\"dataframe\">\n",
              "  <thead>\n",
              "    <tr style=\"text-align: right;\">\n",
              "      <th></th>\n",
              "      <th>delivery_date</th>\n",
              "      <th>date</th>\n",
              "      <th>delivery_date_utc</th>\n",
              "    </tr>\n",
              "    <tr>\n",
              "      <th>delivery_date</th>\n",
              "      <th></th>\n",
              "      <th></th>\n",
              "      <th></th>\n",
              "    </tr>\n",
              "  </thead>\n",
              "  <tbody>\n",
              "    <tr>\n",
              "      <th>2018-10-27 22:00:00+00:00</th>\n",
              "      <td>2018-10-28 00:00:00+02:00</td>\n",
              "      <td>2018-10-28</td>\n",
              "      <td>2018-10-27 22:00:00+00:00</td>\n",
              "    </tr>\n",
              "    <tr>\n",
              "      <th>2018-10-27 23:00:00+00:00</th>\n",
              "      <td>2018-10-28 01:00:00+02:00</td>\n",
              "      <td>2018-10-28</td>\n",
              "      <td>2018-10-27 23:00:00+00:00</td>\n",
              "    </tr>\n",
              "    <tr>\n",
              "      <th>2018-10-28 00:00:00+00:00</th>\n",
              "      <td>2018-10-28 02:00:00+02:00</td>\n",
              "      <td>2018-10-28</td>\n",
              "      <td>2018-10-28 00:00:00+00:00</td>\n",
              "    </tr>\n",
              "    <tr>\n",
              "      <th>2018-10-28 01:00:00+00:00</th>\n",
              "      <td>2018-10-28 02:00:00+01:00</td>\n",
              "      <td>2018-10-28</td>\n",
              "      <td>2018-10-28 01:00:00+00:00</td>\n",
              "    </tr>\n",
              "    <tr>\n",
              "      <th>2018-10-28 02:00:00+00:00</th>\n",
              "      <td>2018-10-28 03:00:00+01:00</td>\n",
              "      <td>2018-10-28</td>\n",
              "      <td>2018-10-28 02:00:00+00:00</td>\n",
              "    </tr>\n",
              "  </tbody>\n",
              "</table>\n",
              "</div>"
            ],
            "text/plain": [
              "                                      delivery_date        date  \\\n",
              "delivery_date                                                     \n",
              "2018-10-27 22:00:00+00:00 2018-10-28 00:00:00+02:00  2018-10-28   \n",
              "2018-10-27 23:00:00+00:00 2018-10-28 01:00:00+02:00  2018-10-28   \n",
              "2018-10-28 00:00:00+00:00 2018-10-28 02:00:00+02:00  2018-10-28   \n",
              "2018-10-28 01:00:00+00:00 2018-10-28 02:00:00+01:00  2018-10-28   \n",
              "2018-10-28 02:00:00+00:00 2018-10-28 03:00:00+01:00  2018-10-28   \n",
              "\n",
              "                                  delivery_date_utc  \n",
              "delivery_date                                        \n",
              "2018-10-27 22:00:00+00:00 2018-10-27 22:00:00+00:00  \n",
              "2018-10-27 23:00:00+00:00 2018-10-27 23:00:00+00:00  \n",
              "2018-10-28 00:00:00+00:00 2018-10-28 00:00:00+00:00  \n",
              "2018-10-28 01:00:00+00:00 2018-10-28 01:00:00+00:00  \n",
              "2018-10-28 02:00:00+00:00 2018-10-28 02:00:00+00:00  "
            ]
          },
          "metadata": {
            "tags": []
          },
          "execution_count": 300
        }
      ]
    },
    {
      "metadata": {
        "id": "2ze9iuN_-g_Y",
        "colab_type": "code",
        "colab": {
          "base_uri": "https://localhost:8080/",
          "height": 34
        },
        "outputId": "35a346ba-0eb5-4381-f815-2a9c0c5275e8"
      },
      "cell_type": "code",
      "source": [
        "# now make a timezone aware\n",
        "a = dt.datetime(2018,5,9,0,0) # constructor, a datetime object a is created \n",
        "tzinfo = pytz.timezone('Europe/Amsterdam')\n",
        "b = tzinfo.localize(a)\n",
        "print (b)"
      ],
      "execution_count": 2,
      "outputs": [
        {
          "output_type": "stream",
          "text": [
            "2018-05-09 00:00:00+02:00\n"
          ],
          "name": "stdout"
        }
      ]
    },
    {
      "metadata": {
        "id": "G_AooM3HO_ng",
        "colab_type": "code",
        "colab": {
          "base_uri": "https://localhost:8080/",
          "height": 34
        },
        "outputId": "6b272797-c8c9-4c69-b7f2-52bb7efe743e"
      },
      "cell_type": "code",
      "source": [
        "# convert c to utc\n",
        "utc = pytz.timezone('UTC')\n",
        "c = b.astimezone(utc)\n",
        "print(c)"
      ],
      "execution_count": 3,
      "outputs": [
        {
          "output_type": "stream",
          "text": [
            "2018-05-08 22:00:00+00:00\n"
          ],
          "name": "stdout"
        }
      ]
    },
    {
      "metadata": {
        "id": "9B8_ZuYG-k4J",
        "colab_type": "code",
        "colab": {
          "base_uri": "https://localhost:8080/",
          "height": 10
        },
        "outputId": "c48b4f16-34f4-4130-e1d7-037b1933dcf8"
      },
      "cell_type": "code",
      "source": [
        "print (dt.datetime.today())"
      ],
      "execution_count": 302,
      "outputs": [
        {
          "output_type": "stream",
          "text": [
            "2018-05-06 19:47:31.531298\n"
          ],
          "name": "stdout"
        }
      ]
    },
    {
      "metadata": {
        "id": "wseV6y9Z7kpS",
        "colab_type": "code",
        "colab": {
          "base_uri": "https://localhost:8080/",
          "height": 111
        },
        "outputId": "a68ebae7-3819-4d34-fb5a-8057cf54284f"
      },
      "cell_type": "code",
      "source": [
        "# make mapping between CEST and UTC\n",
        "startdate=dt.datetime(2018,1,1,0,0)\n",
        "enddate=dt.datetime(2050,1,1,0,0)\n",
        "\n",
        "delivery_date = pd.date_range(startdate,enddate,freq='1H',tz='Europe/Amsterdam')\n",
        "df = pd.DataFrame(index = delivery_date) \n",
        "df.reset_index(inplace=True)\n",
        "df.rename(columns={'index':'date_local'},inplace=True)\n",
        "\n",
        "df['date_utc'] = df['date_local'].dt.tz_convert('UTC')\n",
        "df.tail(2)"
      ],
      "execution_count": 63,
      "outputs": [
        {
          "output_type": "execute_result",
          "data": {
            "text/html": [
              "<div>\n",
              "<style scoped>\n",
              "    .dataframe tbody tr th:only-of-type {\n",
              "        vertical-align: middle;\n",
              "    }\n",
              "\n",
              "    .dataframe tbody tr th {\n",
              "        vertical-align: top;\n",
              "    }\n",
              "\n",
              "    .dataframe thead th {\n",
              "        text-align: right;\n",
              "    }\n",
              "</style>\n",
              "<table border=\"1\" class=\"dataframe\">\n",
              "  <thead>\n",
              "    <tr style=\"text-align: right;\">\n",
              "      <th></th>\n",
              "      <th>date_local</th>\n",
              "      <th>date_utc</th>\n",
              "    </tr>\n",
              "  </thead>\n",
              "  <tbody>\n",
              "    <tr>\n",
              "      <th>280511</th>\n",
              "      <td>2049-12-31 23:00:00+01:00</td>\n",
              "      <td>2049-12-31 22:00:00+00:00</td>\n",
              "    </tr>\n",
              "    <tr>\n",
              "      <th>280512</th>\n",
              "      <td>2050-01-01 00:00:00+01:00</td>\n",
              "      <td>2049-12-31 23:00:00+00:00</td>\n",
              "    </tr>\n",
              "  </tbody>\n",
              "</table>\n",
              "</div>"
            ],
            "text/plain": [
              "                      date_local                  date_utc\n",
              "280511 2049-12-31 23:00:00+01:00 2049-12-31 22:00:00+00:00\n",
              "280512 2050-01-01 00:00:00+01:00 2049-12-31 23:00:00+00:00"
            ]
          },
          "metadata": {
            "tags": []
          },
          "execution_count": 63
        }
      ]
    },
    {
      "metadata": {
        "id": "d4NUlVtI-RpQ",
        "colab_type": "code",
        "colab": {
          "base_uri": "https://localhost:8080/",
          "height": 111
        },
        "outputId": "b9506c8d-1dc6-4b26-80e7-0586ab44c3c7"
      },
      "cell_type": "code",
      "source": [
        "# change the format\n",
        "df['date_local2'] = df['date_local'].apply(lambda x: x.strftime(\"%d-%m-%Y %H:%M\"))\n",
        "df['date_utc2'] = df['date_utc'].apply(lambda x: x.strftime(\"%d-%m-%Y %H:%M\"))\n",
        "df.head(2)"
      ],
      "execution_count": 65,
      "outputs": [
        {
          "output_type": "execute_result",
          "data": {
            "text/html": [
              "<div>\n",
              "<style scoped>\n",
              "    .dataframe tbody tr th:only-of-type {\n",
              "        vertical-align: middle;\n",
              "    }\n",
              "\n",
              "    .dataframe tbody tr th {\n",
              "        vertical-align: top;\n",
              "    }\n",
              "\n",
              "    .dataframe thead th {\n",
              "        text-align: right;\n",
              "    }\n",
              "</style>\n",
              "<table border=\"1\" class=\"dataframe\">\n",
              "  <thead>\n",
              "    <tr style=\"text-align: right;\">\n",
              "      <th></th>\n",
              "      <th>date_local</th>\n",
              "      <th>date_utc</th>\n",
              "      <th>date_local2</th>\n",
              "      <th>date_utc2</th>\n",
              "    </tr>\n",
              "  </thead>\n",
              "  <tbody>\n",
              "    <tr>\n",
              "      <th>0</th>\n",
              "      <td>2018-01-01 00:00:00+01:00</td>\n",
              "      <td>2017-12-31 23:00:00+00:00</td>\n",
              "      <td>01-01-2018 00:00</td>\n",
              "      <td>31-12-2017 23:00</td>\n",
              "    </tr>\n",
              "    <tr>\n",
              "      <th>1</th>\n",
              "      <td>2018-01-01 01:00:00+01:00</td>\n",
              "      <td>2018-01-01 00:00:00+00:00</td>\n",
              "      <td>01-01-2018 01:00</td>\n",
              "      <td>01-01-2018 00:00</td>\n",
              "    </tr>\n",
              "  </tbody>\n",
              "</table>\n",
              "</div>"
            ],
            "text/plain": [
              "                 date_local                  date_utc       date_local2  \\\n",
              "0 2018-01-01 00:00:00+01:00 2017-12-31 23:00:00+00:00  01-01-2018 00:00   \n",
              "1 2018-01-01 01:00:00+01:00 2018-01-01 00:00:00+00:00  01-01-2018 01:00   \n",
              "\n",
              "          date_utc2  \n",
              "0  31-12-2017 23:00  \n",
              "1  01-01-2018 00:00  "
            ]
          },
          "metadata": {
            "tags": []
          },
          "execution_count": 65
        }
      ]
    },
    {
      "metadata": {
        "id": "Vbh-10EN-XgI",
        "colab_type": "text"
      },
      "cell_type": "markdown",
      "source": [
        "### Example Tennet data"
      ]
    },
    {
      "metadata": {
        "id": "9gCgVf6I1saQ",
        "colab_type": "code",
        "colab": {
          "base_uri": "https://localhost:8080/",
          "height": 142
        },
        "outputId": "cd9b5ca5-c3a3-4914-b8f6-7cff7dfa22f4"
      },
      "cell_type": "code",
      "source": [
        "date_start = dt.date(2017,1,1).strftime(\"%d-%m-%Y\")\n",
        "date_end = dt.date(2017,12,31).strftime(\"%d-%m-%Y\")\n",
        "tennet_url = \"http://www.tennet.org/bedrijfsvoering/ExporteerData.aspx?exporttype=verrekenprijzen&format=csv&datefrom={}&dateto={}&submit=1\".format(date_start, date_end)\n",
        "\n",
        "cols = ['datum', 'PTE', 'periode_van','periode_tm','Afnemen','invoeden']\n",
        "\n",
        "df_prices = pd.read_csv(tennet_url,usecols=cols,decimal=',')\n",
        "df_prices.head(3)"
      ],
      "execution_count": 90,
      "outputs": [
        {
          "output_type": "execute_result",
          "data": {
            "text/html": [
              "<div>\n",
              "<style scoped>\n",
              "    .dataframe tbody tr th:only-of-type {\n",
              "        vertical-align: middle;\n",
              "    }\n",
              "\n",
              "    .dataframe tbody tr th {\n",
              "        vertical-align: top;\n",
              "    }\n",
              "\n",
              "    .dataframe thead th {\n",
              "        text-align: right;\n",
              "    }\n",
              "</style>\n",
              "<table border=\"1\" class=\"dataframe\">\n",
              "  <thead>\n",
              "    <tr style=\"text-align: right;\">\n",
              "      <th></th>\n",
              "      <th>datum</th>\n",
              "      <th>PTE</th>\n",
              "      <th>periode_van</th>\n",
              "      <th>periode_tm</th>\n",
              "      <th>Afnemen</th>\n",
              "      <th>invoeden</th>\n",
              "    </tr>\n",
              "  </thead>\n",
              "  <tbody>\n",
              "    <tr>\n",
              "      <th>0</th>\n",
              "      <td>01-01-2017</td>\n",
              "      <td>1</td>\n",
              "      <td>00:00</td>\n",
              "      <td>00:15</td>\n",
              "      <td>250.00</td>\n",
              "      <td>-200.00</td>\n",
              "    </tr>\n",
              "    <tr>\n",
              "      <th>1</th>\n",
              "      <td>01-01-2017</td>\n",
              "      <td>2</td>\n",
              "      <td>00:15</td>\n",
              "      <td>00:30</td>\n",
              "      <td>250.00</td>\n",
              "      <td>250.00</td>\n",
              "    </tr>\n",
              "    <tr>\n",
              "      <th>2</th>\n",
              "      <td>01-01-2017</td>\n",
              "      <td>3</td>\n",
              "      <td>00:30</td>\n",
              "      <td>00:45</td>\n",
              "      <td>33.56</td>\n",
              "      <td>33.56</td>\n",
              "    </tr>\n",
              "  </tbody>\n",
              "</table>\n",
              "</div>"
            ],
            "text/plain": [
              "        datum  PTE periode_van periode_tm  Afnemen  invoeden\n",
              "0  01-01-2017    1       00:00      00:15   250.00   -200.00\n",
              "1  01-01-2017    2       00:15      00:30   250.00    250.00\n",
              "2  01-01-2017    3       00:30      00:45    33.56     33.56"
            ]
          },
          "metadata": {
            "tags": []
          },
          "execution_count": 90
        }
      ]
    },
    {
      "metadata": {
        "id": "Jxz-Rr525TSL",
        "colab_type": "code",
        "colab": {
          "base_uri": "https://localhost:8080/",
          "height": 142
        },
        "outputId": "aa2fff8f-8bd8-4d36-edeb-a55e3c480b03"
      },
      "cell_type": "code",
      "source": [
        "col2drop = ['periode_tm']\n",
        "df_prices.drop(col2drop,axis=1,inplace=True)\n",
        "df_prices.head(3)"
      ],
      "execution_count": 91,
      "outputs": [
        {
          "output_type": "execute_result",
          "data": {
            "text/html": [
              "<div>\n",
              "<style scoped>\n",
              "    .dataframe tbody tr th:only-of-type {\n",
              "        vertical-align: middle;\n",
              "    }\n",
              "\n",
              "    .dataframe tbody tr th {\n",
              "        vertical-align: top;\n",
              "    }\n",
              "\n",
              "    .dataframe thead th {\n",
              "        text-align: right;\n",
              "    }\n",
              "</style>\n",
              "<table border=\"1\" class=\"dataframe\">\n",
              "  <thead>\n",
              "    <tr style=\"text-align: right;\">\n",
              "      <th></th>\n",
              "      <th>datum</th>\n",
              "      <th>PTE</th>\n",
              "      <th>periode_van</th>\n",
              "      <th>Afnemen</th>\n",
              "      <th>invoeden</th>\n",
              "    </tr>\n",
              "  </thead>\n",
              "  <tbody>\n",
              "    <tr>\n",
              "      <th>0</th>\n",
              "      <td>01-01-2017</td>\n",
              "      <td>1</td>\n",
              "      <td>00:00</td>\n",
              "      <td>250.00</td>\n",
              "      <td>-200.00</td>\n",
              "    </tr>\n",
              "    <tr>\n",
              "      <th>1</th>\n",
              "      <td>01-01-2017</td>\n",
              "      <td>2</td>\n",
              "      <td>00:15</td>\n",
              "      <td>250.00</td>\n",
              "      <td>250.00</td>\n",
              "    </tr>\n",
              "    <tr>\n",
              "      <th>2</th>\n",
              "      <td>01-01-2017</td>\n",
              "      <td>3</td>\n",
              "      <td>00:30</td>\n",
              "      <td>33.56</td>\n",
              "      <td>33.56</td>\n",
              "    </tr>\n",
              "  </tbody>\n",
              "</table>\n",
              "</div>"
            ],
            "text/plain": [
              "        datum  PTE periode_van  Afnemen  invoeden\n",
              "0  01-01-2017    1       00:00   250.00   -200.00\n",
              "1  01-01-2017    2       00:15   250.00    250.00\n",
              "2  01-01-2017    3       00:30    33.56     33.56"
            ]
          },
          "metadata": {
            "tags": []
          },
          "execution_count": 91
        }
      ]
    },
    {
      "metadata": {
        "id": "OLIQMCeW4QcH",
        "colab_type": "code",
        "colab": {
          "base_uri": "https://localhost:8080/",
          "height": 142
        },
        "outputId": "7fec48c1-aef2-425e-9a91-e9908ed5ee03"
      },
      "cell_type": "code",
      "source": [
        "# convert datetime to utc\n",
        "amsterdam = pytz.timezone('Europe/Amsterdam')\n",
        "df_prices.index = pd.to_datetime(df_prices['datum'] + \" \" + df_prices['periode_van'],format='%d-%m-%Y %H:%M')\n",
        "df_prices.index = df_prices.index.tz_localize(amsterdam, ambiguous='infer')\n",
        "\n",
        "# save local date in column so the index can be converted\n",
        "df_prices['datetime_local'] = df_prices.index\n",
        "df_prices.index = df_prices.index.tz_convert('UTC')\n",
        "df_prices.head(3)"
      ],
      "execution_count": 94,
      "outputs": [
        {
          "output_type": "execute_result",
          "data": {
            "text/html": [
              "<div>\n",
              "<style scoped>\n",
              "    .dataframe tbody tr th:only-of-type {\n",
              "        vertical-align: middle;\n",
              "    }\n",
              "\n",
              "    .dataframe tbody tr th {\n",
              "        vertical-align: top;\n",
              "    }\n",
              "\n",
              "    .dataframe thead th {\n",
              "        text-align: right;\n",
              "    }\n",
              "</style>\n",
              "<table border=\"1\" class=\"dataframe\">\n",
              "  <thead>\n",
              "    <tr style=\"text-align: right;\">\n",
              "      <th></th>\n",
              "      <th>datum</th>\n",
              "      <th>PTE</th>\n",
              "      <th>periode_van</th>\n",
              "      <th>Afnemen</th>\n",
              "      <th>invoeden</th>\n",
              "      <th>datetime_local</th>\n",
              "    </tr>\n",
              "  </thead>\n",
              "  <tbody>\n",
              "    <tr>\n",
              "      <th>2016-12-31 23:00:00+00:00</th>\n",
              "      <td>01-01-2017</td>\n",
              "      <td>1</td>\n",
              "      <td>00:00</td>\n",
              "      <td>250.00</td>\n",
              "      <td>-200.00</td>\n",
              "      <td>2017-01-01 00:00:00+01:00</td>\n",
              "    </tr>\n",
              "    <tr>\n",
              "      <th>2016-12-31 23:15:00+00:00</th>\n",
              "      <td>01-01-2017</td>\n",
              "      <td>2</td>\n",
              "      <td>00:15</td>\n",
              "      <td>250.00</td>\n",
              "      <td>250.00</td>\n",
              "      <td>2017-01-01 00:15:00+01:00</td>\n",
              "    </tr>\n",
              "    <tr>\n",
              "      <th>2016-12-31 23:30:00+00:00</th>\n",
              "      <td>01-01-2017</td>\n",
              "      <td>3</td>\n",
              "      <td>00:30</td>\n",
              "      <td>33.56</td>\n",
              "      <td>33.56</td>\n",
              "      <td>2017-01-01 00:30:00+01:00</td>\n",
              "    </tr>\n",
              "  </tbody>\n",
              "</table>\n",
              "</div>"
            ],
            "text/plain": [
              "                                datum  PTE periode_van  Afnemen  invoeden  \\\n",
              "2016-12-31 23:00:00+00:00  01-01-2017    1       00:00   250.00   -200.00   \n",
              "2016-12-31 23:15:00+00:00  01-01-2017    2       00:15   250.00    250.00   \n",
              "2016-12-31 23:30:00+00:00  01-01-2017    3       00:30    33.56     33.56   \n",
              "\n",
              "                                     datetime_local  \n",
              "2016-12-31 23:00:00+00:00 2017-01-01 00:00:00+01:00  \n",
              "2016-12-31 23:15:00+00:00 2017-01-01 00:15:00+01:00  \n",
              "2016-12-31 23:30:00+00:00 2017-01-01 00:30:00+01:00  "
            ]
          },
          "metadata": {
            "tags": []
          },
          "execution_count": 94
        }
      ]
    },
    {
      "metadata": {
        "id": "1dZCl3NAWuDv",
        "colab_type": "code",
        "colab": {
          "base_uri": "https://localhost:8080/",
          "height": 159
        },
        "outputId": "bb4897e0-8d6f-4a7e-fd5a-9dd9a1a6bee4"
      },
      "cell_type": "code",
      "source": [
        "# round/truncate datetime by replacing the minute by zero\n",
        "t0 = time.time()\n",
        "\n",
        "df_prices['datetime_local_trunc'] = df_prices['datetime_local'].apply(lambda x: x.replace(minute=0))\n",
        "\n",
        "t1 = time.time()\n",
        "\n",
        "print(t1-t0)\n",
        "\n",
        "df_prices.head(3)"
      ],
      "execution_count": 312,
      "outputs": [
        {
          "output_type": "stream",
          "text": [
            "0.816968917847\n"
          ],
          "name": "stdout"
        },
        {
          "output_type": "execute_result",
          "data": {
            "text/html": [
              "<div>\n",
              "<style scoped>\n",
              "    .dataframe tbody tr th:only-of-type {\n",
              "        vertical-align: middle;\n",
              "    }\n",
              "\n",
              "    .dataframe tbody tr th {\n",
              "        vertical-align: top;\n",
              "    }\n",
              "\n",
              "    .dataframe thead th {\n",
              "        text-align: right;\n",
              "    }\n",
              "</style>\n",
              "<table border=\"1\" class=\"dataframe\">\n",
              "  <thead>\n",
              "    <tr style=\"text-align: right;\">\n",
              "      <th></th>\n",
              "      <th>datum</th>\n",
              "      <th>PTE</th>\n",
              "      <th>periode_van</th>\n",
              "      <th>Afnemen</th>\n",
              "      <th>invoeden</th>\n",
              "      <th>datetime_local</th>\n",
              "      <th>datetime_local_trunc</th>\n",
              "    </tr>\n",
              "  </thead>\n",
              "  <tbody>\n",
              "    <tr>\n",
              "      <th>2016-12-31 23:00:00+00:00</th>\n",
              "      <td>01-01-2017</td>\n",
              "      <td>1</td>\n",
              "      <td>00:00</td>\n",
              "      <td>250.00</td>\n",
              "      <td>-200.00</td>\n",
              "      <td>2017-01-01 00:00:00+01:00</td>\n",
              "      <td>2017-01-01 00:00:00+01:00</td>\n",
              "    </tr>\n",
              "    <tr>\n",
              "      <th>2016-12-31 23:15:00+00:00</th>\n",
              "      <td>01-01-2017</td>\n",
              "      <td>2</td>\n",
              "      <td>00:15</td>\n",
              "      <td>250.00</td>\n",
              "      <td>250.00</td>\n",
              "      <td>2017-01-01 00:15:00+01:00</td>\n",
              "      <td>2017-01-01 00:00:00+01:00</td>\n",
              "    </tr>\n",
              "    <tr>\n",
              "      <th>2016-12-31 23:30:00+00:00</th>\n",
              "      <td>01-01-2017</td>\n",
              "      <td>3</td>\n",
              "      <td>00:30</td>\n",
              "      <td>33.56</td>\n",
              "      <td>33.56</td>\n",
              "      <td>2017-01-01 00:30:00+01:00</td>\n",
              "      <td>2017-01-01 00:00:00+01:00</td>\n",
              "    </tr>\n",
              "  </tbody>\n",
              "</table>\n",
              "</div>"
            ],
            "text/plain": [
              "                                datum  PTE periode_van  Afnemen  invoeden  \\\n",
              "2016-12-31 23:00:00+00:00  01-01-2017    1       00:00   250.00   -200.00   \n",
              "2016-12-31 23:15:00+00:00  01-01-2017    2       00:15   250.00    250.00   \n",
              "2016-12-31 23:30:00+00:00  01-01-2017    3       00:30    33.56     33.56   \n",
              "\n",
              "                                     datetime_local      datetime_local_trunc  \n",
              "2016-12-31 23:00:00+00:00 2017-01-01 00:00:00+01:00 2017-01-01 00:00:00+01:00  \n",
              "2016-12-31 23:15:00+00:00 2017-01-01 00:15:00+01:00 2017-01-01 00:00:00+01:00  \n",
              "2016-12-31 23:30:00+00:00 2017-01-01 00:30:00+01:00 2017-01-01 00:00:00+01:00  "
            ]
          },
          "metadata": {
            "tags": []
          },
          "execution_count": 312
        }
      ]
    },
    {
      "metadata": {
        "id": "KvzQRuBCCU6s",
        "colab_type": "code",
        "colab": {
          "base_uri": "https://localhost:8080/",
          "height": 159
        },
        "outputId": "bbdb0706-1853-4827-d7bd-7d810ff50d94"
      },
      "cell_type": "code",
      "source": [
        "# round/truncate datetime by replacing the minute by zero\n",
        "t0 = time.time()\n",
        "\n",
        "df_prices['datetime_local_trunc2'] = list(map(lambda x: x.replace(minute=0), df_prices['datetime_local']))\n",
        "\n",
        "t1 = time.time()\n",
        "\n",
        "print(t1-t0)\n",
        "\n",
        "df_prices.head(3)"
      ],
      "execution_count": 313,
      "outputs": [
        {
          "output_type": "stream",
          "text": [
            "0.787879943848\n"
          ],
          "name": "stdout"
        },
        {
          "output_type": "execute_result",
          "data": {
            "text/html": [
              "<div>\n",
              "<style scoped>\n",
              "    .dataframe tbody tr th:only-of-type {\n",
              "        vertical-align: middle;\n",
              "    }\n",
              "\n",
              "    .dataframe tbody tr th {\n",
              "        vertical-align: top;\n",
              "    }\n",
              "\n",
              "    .dataframe thead th {\n",
              "        text-align: right;\n",
              "    }\n",
              "</style>\n",
              "<table border=\"1\" class=\"dataframe\">\n",
              "  <thead>\n",
              "    <tr style=\"text-align: right;\">\n",
              "      <th></th>\n",
              "      <th>datum</th>\n",
              "      <th>PTE</th>\n",
              "      <th>periode_van</th>\n",
              "      <th>Afnemen</th>\n",
              "      <th>invoeden</th>\n",
              "      <th>datetime_local</th>\n",
              "      <th>datetime_local_trunc</th>\n",
              "      <th>datetime_local_trunc2</th>\n",
              "    </tr>\n",
              "  </thead>\n",
              "  <tbody>\n",
              "    <tr>\n",
              "      <th>2016-12-31 23:00:00+00:00</th>\n",
              "      <td>01-01-2017</td>\n",
              "      <td>1</td>\n",
              "      <td>00:00</td>\n",
              "      <td>250.00</td>\n",
              "      <td>-200.00</td>\n",
              "      <td>2017-01-01 00:00:00+01:00</td>\n",
              "      <td>2017-01-01 00:00:00+01:00</td>\n",
              "      <td>2017-01-01 00:00:00+01:00</td>\n",
              "    </tr>\n",
              "    <tr>\n",
              "      <th>2016-12-31 23:15:00+00:00</th>\n",
              "      <td>01-01-2017</td>\n",
              "      <td>2</td>\n",
              "      <td>00:15</td>\n",
              "      <td>250.00</td>\n",
              "      <td>250.00</td>\n",
              "      <td>2017-01-01 00:15:00+01:00</td>\n",
              "      <td>2017-01-01 00:00:00+01:00</td>\n",
              "      <td>2017-01-01 00:00:00+01:00</td>\n",
              "    </tr>\n",
              "    <tr>\n",
              "      <th>2016-12-31 23:30:00+00:00</th>\n",
              "      <td>01-01-2017</td>\n",
              "      <td>3</td>\n",
              "      <td>00:30</td>\n",
              "      <td>33.56</td>\n",
              "      <td>33.56</td>\n",
              "      <td>2017-01-01 00:30:00+01:00</td>\n",
              "      <td>2017-01-01 00:00:00+01:00</td>\n",
              "      <td>2017-01-01 00:00:00+01:00</td>\n",
              "    </tr>\n",
              "  </tbody>\n",
              "</table>\n",
              "</div>"
            ],
            "text/plain": [
              "                                datum  PTE periode_van  Afnemen  invoeden  \\\n",
              "2016-12-31 23:00:00+00:00  01-01-2017    1       00:00   250.00   -200.00   \n",
              "2016-12-31 23:15:00+00:00  01-01-2017    2       00:15   250.00    250.00   \n",
              "2016-12-31 23:30:00+00:00  01-01-2017    3       00:30    33.56     33.56   \n",
              "\n",
              "                                     datetime_local      datetime_local_trunc  \\\n",
              "2016-12-31 23:00:00+00:00 2017-01-01 00:00:00+01:00 2017-01-01 00:00:00+01:00   \n",
              "2016-12-31 23:15:00+00:00 2017-01-01 00:15:00+01:00 2017-01-01 00:00:00+01:00   \n",
              "2016-12-31 23:30:00+00:00 2017-01-01 00:30:00+01:00 2017-01-01 00:00:00+01:00   \n",
              "\n",
              "                              datetime_local_trunc2  \n",
              "2016-12-31 23:00:00+00:00 2017-01-01 00:00:00+01:00  \n",
              "2016-12-31 23:15:00+00:00 2017-01-01 00:00:00+01:00  \n",
              "2016-12-31 23:30:00+00:00 2017-01-01 00:00:00+01:00  "
            ]
          },
          "metadata": {
            "tags": []
          },
          "execution_count": 313
        }
      ]
    },
    {
      "metadata": {
        "id": "f-9lHaHb0AOu",
        "colab_type": "text"
      },
      "cell_type": "markdown",
      "source": [
        "### Parsing iso format"
      ]
    },
    {
      "metadata": {
        "id": "ETsCfPFA0Yx1",
        "colab_type": "code",
        "colab": {
          "base_uri": "https://localhost:8080/",
          "height": 142
        },
        "outputId": "67992d1e-8666-4351-d692-194abff93a05"
      },
      "cell_type": "code",
      "source": [
        "# parsing iso format\n",
        "# http://cheat.readthedocs.io/en/latest/python/timezones.html\n",
        "# https://stackoverflow.com/questions/12281975/convert-timestamps-with-offset-to-datetime-obj-using-strptime?noredirect=1&lq=1\n",
        "df = pd.DataFrame({'deliverydate':['2017-03-26 01:00:00+01:00', '2017-03-26 03:00:00+02:00', '2017-03-26 04:00:00+02:00']})\n",
        "df.head()"
      ],
      "execution_count": 125,
      "outputs": [
        {
          "output_type": "execute_result",
          "data": {
            "text/html": [
              "<div>\n",
              "<style scoped>\n",
              "    .dataframe tbody tr th:only-of-type {\n",
              "        vertical-align: middle;\n",
              "    }\n",
              "\n",
              "    .dataframe tbody tr th {\n",
              "        vertical-align: top;\n",
              "    }\n",
              "\n",
              "    .dataframe thead th {\n",
              "        text-align: right;\n",
              "    }\n",
              "</style>\n",
              "<table border=\"1\" class=\"dataframe\">\n",
              "  <thead>\n",
              "    <tr style=\"text-align: right;\">\n",
              "      <th></th>\n",
              "      <th>deliverydate</th>\n",
              "    </tr>\n",
              "  </thead>\n",
              "  <tbody>\n",
              "    <tr>\n",
              "      <th>0</th>\n",
              "      <td>2017-03-26 01:00:00+01:00</td>\n",
              "    </tr>\n",
              "    <tr>\n",
              "      <th>1</th>\n",
              "      <td>2017-03-26 03:00:00+02:00</td>\n",
              "    </tr>\n",
              "    <tr>\n",
              "      <th>2</th>\n",
              "      <td>2017-03-26 04:00:00+02:00</td>\n",
              "    </tr>\n",
              "  </tbody>\n",
              "</table>\n",
              "</div>"
            ],
            "text/plain": [
              "                deliverydate\n",
              "0  2017-03-26 01:00:00+01:00\n",
              "1  2017-03-26 03:00:00+02:00\n",
              "2  2017-03-26 04:00:00+02:00"
            ]
          },
          "metadata": {
            "tags": []
          },
          "execution_count": 125
        }
      ]
    },
    {
      "metadata": {
        "id": "mMKAOTxj2Sk2",
        "colab_type": "code",
        "colab": {
          "base_uri": "https://localhost:8080/",
          "height": 142
        },
        "outputId": "882cb61b-0330-405e-fd54-e7d26d9a0e5b"
      },
      "cell_type": "code",
      "source": [
        "#df['deliverydate2']=df['deliverydate'].apply(lambda x: dateutil.parser.parse(x))\n",
        "df['deliverydate2']=df['deliverydate'].apply(lambda x: x[:16])\n",
        "df.head()"
      ],
      "execution_count": 126,
      "outputs": [
        {
          "output_type": "execute_result",
          "data": {
            "text/html": [
              "<div>\n",
              "<style scoped>\n",
              "    .dataframe tbody tr th:only-of-type {\n",
              "        vertical-align: middle;\n",
              "    }\n",
              "\n",
              "    .dataframe tbody tr th {\n",
              "        vertical-align: top;\n",
              "    }\n",
              "\n",
              "    .dataframe thead th {\n",
              "        text-align: right;\n",
              "    }\n",
              "</style>\n",
              "<table border=\"1\" class=\"dataframe\">\n",
              "  <thead>\n",
              "    <tr style=\"text-align: right;\">\n",
              "      <th></th>\n",
              "      <th>deliverydate</th>\n",
              "      <th>deliverydate2</th>\n",
              "    </tr>\n",
              "  </thead>\n",
              "  <tbody>\n",
              "    <tr>\n",
              "      <th>0</th>\n",
              "      <td>2017-03-26 01:00:00+01:00</td>\n",
              "      <td>2017-03-26 01:00</td>\n",
              "    </tr>\n",
              "    <tr>\n",
              "      <th>1</th>\n",
              "      <td>2017-03-26 03:00:00+02:00</td>\n",
              "      <td>2017-03-26 03:00</td>\n",
              "    </tr>\n",
              "    <tr>\n",
              "      <th>2</th>\n",
              "      <td>2017-03-26 04:00:00+02:00</td>\n",
              "      <td>2017-03-26 04:00</td>\n",
              "    </tr>\n",
              "  </tbody>\n",
              "</table>\n",
              "</div>"
            ],
            "text/plain": [
              "                deliverydate     deliverydate2\n",
              "0  2017-03-26 01:00:00+01:00  2017-03-26 01:00\n",
              "1  2017-03-26 03:00:00+02:00  2017-03-26 03:00\n",
              "2  2017-03-26 04:00:00+02:00  2017-03-26 04:00"
            ]
          },
          "metadata": {
            "tags": []
          },
          "execution_count": 126
        }
      ]
    },
    {
      "metadata": {
        "id": "R_XrgsH23lI2",
        "colab_type": "code",
        "colab": {
          "base_uri": "https://localhost:8080/",
          "height": 173
        },
        "outputId": "614d687b-e6cb-4a68-e563-74e5f844fa6c"
      },
      "cell_type": "code",
      "source": [
        "amsterdam = pytz.timezone('Europe/Amsterdam')\n",
        "df['deliverydate3'] = pd.to_datetime(df['deliverydate2'],format='%Y-%m-%d %H:%M')\n",
        "df['deliverydate4'] = df['deliverydate3'].dt.tz_localize('Europe/Amsterdam',ambiguous='infer')\n",
        "df.index = df['deliverydate4'].dt.tz_convert('UTC')\n",
        "df.head()"
      ],
      "execution_count": 127,
      "outputs": [
        {
          "output_type": "execute_result",
          "data": {
            "text/html": [
              "<div>\n",
              "<style scoped>\n",
              "    .dataframe tbody tr th:only-of-type {\n",
              "        vertical-align: middle;\n",
              "    }\n",
              "\n",
              "    .dataframe tbody tr th {\n",
              "        vertical-align: top;\n",
              "    }\n",
              "\n",
              "    .dataframe thead th {\n",
              "        text-align: right;\n",
              "    }\n",
              "</style>\n",
              "<table border=\"1\" class=\"dataframe\">\n",
              "  <thead>\n",
              "    <tr style=\"text-align: right;\">\n",
              "      <th></th>\n",
              "      <th>deliverydate</th>\n",
              "      <th>deliverydate2</th>\n",
              "      <th>deliverydate3</th>\n",
              "      <th>deliverydate4</th>\n",
              "    </tr>\n",
              "    <tr>\n",
              "      <th>deliverydate4</th>\n",
              "      <th></th>\n",
              "      <th></th>\n",
              "      <th></th>\n",
              "      <th></th>\n",
              "    </tr>\n",
              "  </thead>\n",
              "  <tbody>\n",
              "    <tr>\n",
              "      <th>2017-03-26 00:00:00+00:00</th>\n",
              "      <td>2017-03-26 01:00:00+01:00</td>\n",
              "      <td>2017-03-26 01:00</td>\n",
              "      <td>2017-03-26 01:00:00</td>\n",
              "      <td>2017-03-26 01:00:00+01:00</td>\n",
              "    </tr>\n",
              "    <tr>\n",
              "      <th>2017-03-26 01:00:00+00:00</th>\n",
              "      <td>2017-03-26 03:00:00+02:00</td>\n",
              "      <td>2017-03-26 03:00</td>\n",
              "      <td>2017-03-26 03:00:00</td>\n",
              "      <td>2017-03-26 03:00:00+02:00</td>\n",
              "    </tr>\n",
              "    <tr>\n",
              "      <th>2017-03-26 02:00:00+00:00</th>\n",
              "      <td>2017-03-26 04:00:00+02:00</td>\n",
              "      <td>2017-03-26 04:00</td>\n",
              "      <td>2017-03-26 04:00:00</td>\n",
              "      <td>2017-03-26 04:00:00+02:00</td>\n",
              "    </tr>\n",
              "  </tbody>\n",
              "</table>\n",
              "</div>"
            ],
            "text/plain": [
              "                                        deliverydate     deliverydate2  \\\n",
              "deliverydate4                                                            \n",
              "2017-03-26 00:00:00+00:00  2017-03-26 01:00:00+01:00  2017-03-26 01:00   \n",
              "2017-03-26 01:00:00+00:00  2017-03-26 03:00:00+02:00  2017-03-26 03:00   \n",
              "2017-03-26 02:00:00+00:00  2017-03-26 04:00:00+02:00  2017-03-26 04:00   \n",
              "\n",
              "                                deliverydate3             deliverydate4  \n",
              "deliverydate4                                                            \n",
              "2017-03-26 00:00:00+00:00 2017-03-26 01:00:00 2017-03-26 01:00:00+01:00  \n",
              "2017-03-26 01:00:00+00:00 2017-03-26 03:00:00 2017-03-26 03:00:00+02:00  \n",
              "2017-03-26 02:00:00+00:00 2017-03-26 04:00:00 2017-03-26 04:00:00+02:00  "
            ]
          },
          "metadata": {
            "tags": []
          },
          "execution_count": 127
        }
      ]
    },
    {
      "metadata": {
        "id": "-_ok3d3rBymz",
        "colab_type": "code",
        "colab": {
          "base_uri": "https://localhost:8080/",
          "height": 102
        },
        "outputId": "7e9cf834-9c7d-4668-fe56-c3b03abd5518"
      },
      "cell_type": "code",
      "source": [
        "df.dtypes"
      ],
      "execution_count": 128,
      "outputs": [
        {
          "output_type": "execute_result",
          "data": {
            "text/plain": [
              "deliverydate                               object\n",
              "deliverydate2                              object\n",
              "deliverydate3                      datetime64[ns]\n",
              "deliverydate4    datetime64[ns, Europe/Amsterdam]\n",
              "dtype: object"
            ]
          },
          "metadata": {
            "tags": []
          },
          "execution_count": 128
        }
      ]
    },
    {
      "metadata": {
        "id": "HRr7qb8XkcLz",
        "colab_type": "text"
      },
      "cell_type": "markdown",
      "source": [
        "## Feature engineering"
      ]
    },
    {
      "metadata": {
        "id": "9v4q5jnQkgbM",
        "colab_type": "code",
        "colab": {
          "base_uri": "https://localhost:8080/",
          "height": 204
        },
        "outputId": "3520cdcd-998a-4ea7-9b7f-79771be9c195"
      },
      "cell_type": "code",
      "source": [
        "# calc the diff and lag of a feature\n",
        "df = pd.DataFrame({'wind':[100,120,150,100,50,0,1000,80,50,10],'solar':[100,120,150,100,50,0,1000,80,50,10]})\n",
        "\n",
        "cols =  ['wind','solar']\n",
        "\n",
        "for i in cols:\n",
        "        col_name = 'diff1_' + i\n",
        "        col_name2 = 'lag1_' + i\n",
        "        df[col_name] = df[i].diff(1)\n",
        "        df[col_name2] = df[i].shift(1)\n",
        "\n",
        "df.head()"
      ],
      "execution_count": 3,
      "outputs": [
        {
          "output_type": "execute_result",
          "data": {
            "text/html": [
              "<div>\n",
              "<style scoped>\n",
              "    .dataframe tbody tr th:only-of-type {\n",
              "        vertical-align: middle;\n",
              "    }\n",
              "\n",
              "    .dataframe tbody tr th {\n",
              "        vertical-align: top;\n",
              "    }\n",
              "\n",
              "    .dataframe thead th {\n",
              "        text-align: right;\n",
              "    }\n",
              "</style>\n",
              "<table border=\"1\" class=\"dataframe\">\n",
              "  <thead>\n",
              "    <tr style=\"text-align: right;\">\n",
              "      <th></th>\n",
              "      <th>solar</th>\n",
              "      <th>wind</th>\n",
              "      <th>diff1_wind</th>\n",
              "      <th>lag1_wind</th>\n",
              "      <th>diff1_solar</th>\n",
              "      <th>lag1_solar</th>\n",
              "    </tr>\n",
              "  </thead>\n",
              "  <tbody>\n",
              "    <tr>\n",
              "      <th>0</th>\n",
              "      <td>100</td>\n",
              "      <td>100</td>\n",
              "      <td>NaN</td>\n",
              "      <td>NaN</td>\n",
              "      <td>NaN</td>\n",
              "      <td>NaN</td>\n",
              "    </tr>\n",
              "    <tr>\n",
              "      <th>1</th>\n",
              "      <td>120</td>\n",
              "      <td>120</td>\n",
              "      <td>20.0</td>\n",
              "      <td>100.0</td>\n",
              "      <td>20.0</td>\n",
              "      <td>100.0</td>\n",
              "    </tr>\n",
              "    <tr>\n",
              "      <th>2</th>\n",
              "      <td>150</td>\n",
              "      <td>150</td>\n",
              "      <td>30.0</td>\n",
              "      <td>120.0</td>\n",
              "      <td>30.0</td>\n",
              "      <td>120.0</td>\n",
              "    </tr>\n",
              "    <tr>\n",
              "      <th>3</th>\n",
              "      <td>100</td>\n",
              "      <td>100</td>\n",
              "      <td>-50.0</td>\n",
              "      <td>150.0</td>\n",
              "      <td>-50.0</td>\n",
              "      <td>150.0</td>\n",
              "    </tr>\n",
              "    <tr>\n",
              "      <th>4</th>\n",
              "      <td>50</td>\n",
              "      <td>50</td>\n",
              "      <td>-50.0</td>\n",
              "      <td>100.0</td>\n",
              "      <td>-50.0</td>\n",
              "      <td>100.0</td>\n",
              "    </tr>\n",
              "  </tbody>\n",
              "</table>\n",
              "</div>"
            ],
            "text/plain": [
              "   solar  wind  diff1_wind  lag1_wind  diff1_solar  lag1_solar\n",
              "0    100   100         NaN        NaN          NaN         NaN\n",
              "1    120   120        20.0      100.0         20.0       100.0\n",
              "2    150   150        30.0      120.0         30.0       120.0\n",
              "3    100   100       -50.0      150.0        -50.0       150.0\n",
              "4     50    50       -50.0      100.0        -50.0       100.0"
            ]
          },
          "metadata": {
            "tags": []
          },
          "execution_count": 3
        }
      ]
    },
    {
      "metadata": {
        "id": "ZkNuZd8hmr_2",
        "colab_type": "code",
        "colab": {
          "base_uri": "https://localhost:8080/",
          "height": 204
        },
        "outputId": "e448b286-ec3e-4c00-cc3d-7a069ed105fd"
      },
      "cell_type": "code",
      "source": [
        "# be carefull with removing any rows\n",
        "idx = df['wind'] == 150\n",
        "df = df.loc[~idx]\n",
        "df.head()"
      ],
      "execution_count": 4,
      "outputs": [
        {
          "output_type": "execute_result",
          "data": {
            "text/html": [
              "<div>\n",
              "<style scoped>\n",
              "    .dataframe tbody tr th:only-of-type {\n",
              "        vertical-align: middle;\n",
              "    }\n",
              "\n",
              "    .dataframe tbody tr th {\n",
              "        vertical-align: top;\n",
              "    }\n",
              "\n",
              "    .dataframe thead th {\n",
              "        text-align: right;\n",
              "    }\n",
              "</style>\n",
              "<table border=\"1\" class=\"dataframe\">\n",
              "  <thead>\n",
              "    <tr style=\"text-align: right;\">\n",
              "      <th></th>\n",
              "      <th>solar</th>\n",
              "      <th>wind</th>\n",
              "      <th>diff1_wind</th>\n",
              "      <th>lag1_wind</th>\n",
              "      <th>diff1_solar</th>\n",
              "      <th>lag1_solar</th>\n",
              "    </tr>\n",
              "  </thead>\n",
              "  <tbody>\n",
              "    <tr>\n",
              "      <th>0</th>\n",
              "      <td>100</td>\n",
              "      <td>100</td>\n",
              "      <td>NaN</td>\n",
              "      <td>NaN</td>\n",
              "      <td>NaN</td>\n",
              "      <td>NaN</td>\n",
              "    </tr>\n",
              "    <tr>\n",
              "      <th>1</th>\n",
              "      <td>120</td>\n",
              "      <td>120</td>\n",
              "      <td>20.0</td>\n",
              "      <td>100.0</td>\n",
              "      <td>20.0</td>\n",
              "      <td>100.0</td>\n",
              "    </tr>\n",
              "    <tr>\n",
              "      <th>3</th>\n",
              "      <td>100</td>\n",
              "      <td>100</td>\n",
              "      <td>-50.0</td>\n",
              "      <td>150.0</td>\n",
              "      <td>-50.0</td>\n",
              "      <td>150.0</td>\n",
              "    </tr>\n",
              "    <tr>\n",
              "      <th>4</th>\n",
              "      <td>50</td>\n",
              "      <td>50</td>\n",
              "      <td>-50.0</td>\n",
              "      <td>100.0</td>\n",
              "      <td>-50.0</td>\n",
              "      <td>100.0</td>\n",
              "    </tr>\n",
              "    <tr>\n",
              "      <th>5</th>\n",
              "      <td>0</td>\n",
              "      <td>0</td>\n",
              "      <td>-50.0</td>\n",
              "      <td>50.0</td>\n",
              "      <td>-50.0</td>\n",
              "      <td>50.0</td>\n",
              "    </tr>\n",
              "  </tbody>\n",
              "</table>\n",
              "</div>"
            ],
            "text/plain": [
              "   solar  wind  diff1_wind  lag1_wind  diff1_solar  lag1_solar\n",
              "0    100   100         NaN        NaN          NaN         NaN\n",
              "1    120   120        20.0      100.0         20.0       100.0\n",
              "3    100   100       -50.0      150.0        -50.0       150.0\n",
              "4     50    50       -50.0      100.0        -50.0       100.0\n",
              "5      0     0       -50.0       50.0        -50.0        50.0"
            ]
          },
          "metadata": {
            "tags": []
          },
          "execution_count": 4
        }
      ]
    },
    {
      "metadata": {
        "id": "LdMa4RNC4yDO",
        "colab_type": "text"
      },
      "cell_type": "markdown",
      "source": [
        "### Dummy variables"
      ]
    },
    {
      "metadata": {
        "id": "XGvBnoav42p0",
        "colab_type": "code",
        "colab": {
          "base_uri": "https://localhost:8080/",
          "height": 111
        },
        "outputId": "783962b9-6193-4ff7-ea75-168766a785dc"
      },
      "cell_type": "code",
      "source": [
        "dates = pd.date_range(dt.datetime(2018,1,1,0,0), periods=168,freq='1H')\n",
        "df = pd.DataFrame(index=dates)\n",
        "df.reset_index(inplace=True)\n",
        "df.rename(columns={'index':'datetime'},inplace=True)\n",
        "df.head(2)"
      ],
      "execution_count": 5,
      "outputs": [
        {
          "output_type": "execute_result",
          "data": {
            "text/html": [
              "<div>\n",
              "<style scoped>\n",
              "    .dataframe tbody tr th:only-of-type {\n",
              "        vertical-align: middle;\n",
              "    }\n",
              "\n",
              "    .dataframe tbody tr th {\n",
              "        vertical-align: top;\n",
              "    }\n",
              "\n",
              "    .dataframe thead th {\n",
              "        text-align: right;\n",
              "    }\n",
              "</style>\n",
              "<table border=\"1\" class=\"dataframe\">\n",
              "  <thead>\n",
              "    <tr style=\"text-align: right;\">\n",
              "      <th></th>\n",
              "      <th>datetime</th>\n",
              "    </tr>\n",
              "  </thead>\n",
              "  <tbody>\n",
              "    <tr>\n",
              "      <th>0</th>\n",
              "      <td>2018-01-01 00:00:00</td>\n",
              "    </tr>\n",
              "    <tr>\n",
              "      <th>1</th>\n",
              "      <td>2018-01-01 01:00:00</td>\n",
              "    </tr>\n",
              "  </tbody>\n",
              "</table>\n",
              "</div>"
            ],
            "text/plain": [
              "             datetime\n",
              "0 2018-01-01 00:00:00\n",
              "1 2018-01-01 01:00:00"
            ]
          },
          "metadata": {
            "tags": []
          },
          "execution_count": 5
        }
      ]
    },
    {
      "metadata": {
        "id": "ZKpdkinj50Q3",
        "colab_type": "code",
        "colab": {
          "base_uri": "https://localhost:8080/",
          "height": 204
        },
        "outputId": "c1055377-c126-4346-9db8-63e083364686"
      },
      "cell_type": "code",
      "source": [
        "df['weekday'] = df['datetime'].dt.weekday.astype('category')\n",
        "#df['hour'] = df['datetime'].dt.hour.astype('category')\n",
        "df_dummies = pd.get_dummies(df)\n",
        "df_dummies.head()"
      ],
      "execution_count": 6,
      "outputs": [
        {
          "output_type": "execute_result",
          "data": {
            "text/html": [
              "<div>\n",
              "<style scoped>\n",
              "    .dataframe tbody tr th:only-of-type {\n",
              "        vertical-align: middle;\n",
              "    }\n",
              "\n",
              "    .dataframe tbody tr th {\n",
              "        vertical-align: top;\n",
              "    }\n",
              "\n",
              "    .dataframe thead th {\n",
              "        text-align: right;\n",
              "    }\n",
              "</style>\n",
              "<table border=\"1\" class=\"dataframe\">\n",
              "  <thead>\n",
              "    <tr style=\"text-align: right;\">\n",
              "      <th></th>\n",
              "      <th>datetime</th>\n",
              "      <th>weekday_0</th>\n",
              "      <th>weekday_1</th>\n",
              "      <th>weekday_2</th>\n",
              "      <th>weekday_3</th>\n",
              "      <th>weekday_4</th>\n",
              "      <th>weekday_5</th>\n",
              "      <th>weekday_6</th>\n",
              "    </tr>\n",
              "  </thead>\n",
              "  <tbody>\n",
              "    <tr>\n",
              "      <th>0</th>\n",
              "      <td>2018-01-01 00:00:00</td>\n",
              "      <td>1</td>\n",
              "      <td>0</td>\n",
              "      <td>0</td>\n",
              "      <td>0</td>\n",
              "      <td>0</td>\n",
              "      <td>0</td>\n",
              "      <td>0</td>\n",
              "    </tr>\n",
              "    <tr>\n",
              "      <th>1</th>\n",
              "      <td>2018-01-01 01:00:00</td>\n",
              "      <td>1</td>\n",
              "      <td>0</td>\n",
              "      <td>0</td>\n",
              "      <td>0</td>\n",
              "      <td>0</td>\n",
              "      <td>0</td>\n",
              "      <td>0</td>\n",
              "    </tr>\n",
              "    <tr>\n",
              "      <th>2</th>\n",
              "      <td>2018-01-01 02:00:00</td>\n",
              "      <td>1</td>\n",
              "      <td>0</td>\n",
              "      <td>0</td>\n",
              "      <td>0</td>\n",
              "      <td>0</td>\n",
              "      <td>0</td>\n",
              "      <td>0</td>\n",
              "    </tr>\n",
              "    <tr>\n",
              "      <th>3</th>\n",
              "      <td>2018-01-01 03:00:00</td>\n",
              "      <td>1</td>\n",
              "      <td>0</td>\n",
              "      <td>0</td>\n",
              "      <td>0</td>\n",
              "      <td>0</td>\n",
              "      <td>0</td>\n",
              "      <td>0</td>\n",
              "    </tr>\n",
              "    <tr>\n",
              "      <th>4</th>\n",
              "      <td>2018-01-01 04:00:00</td>\n",
              "      <td>1</td>\n",
              "      <td>0</td>\n",
              "      <td>0</td>\n",
              "      <td>0</td>\n",
              "      <td>0</td>\n",
              "      <td>0</td>\n",
              "      <td>0</td>\n",
              "    </tr>\n",
              "  </tbody>\n",
              "</table>\n",
              "</div>"
            ],
            "text/plain": [
              "             datetime  weekday_0  weekday_1  weekday_2  weekday_3  weekday_4  \\\n",
              "0 2018-01-01 00:00:00          1          0          0          0          0   \n",
              "1 2018-01-01 01:00:00          1          0          0          0          0   \n",
              "2 2018-01-01 02:00:00          1          0          0          0          0   \n",
              "3 2018-01-01 03:00:00          1          0          0          0          0   \n",
              "4 2018-01-01 04:00:00          1          0          0          0          0   \n",
              "\n",
              "   weekday_5  weekday_6  \n",
              "0          0          0  \n",
              "1          0          0  \n",
              "2          0          0  \n",
              "3          0          0  \n",
              "4          0          0  "
            ]
          },
          "metadata": {
            "tags": []
          },
          "execution_count": 6
        }
      ]
    },
    {
      "metadata": {
        "id": "_Us5QYvZsbNc",
        "colab_type": "code",
        "colab": {
          "base_uri": "https://localhost:8080/",
          "height": 111
        },
        "outputId": "095a5747-3a70-4f7b-ad88-d74faf78ce5d"
      },
      "cell_type": "code",
      "source": [
        "# now hour and weekday at the same time\n",
        "dates = pd.date_range(dt.datetime(2018,1,1,0,0), periods=168,freq='1H')\n",
        "df = pd.DataFrame(index=dates)\n",
        "df.reset_index(inplace=True)\n",
        "df.rename(columns={'index':'datetime'},inplace=True)\n",
        "\n",
        "df['weekday'] = df['datetime'].dt.weekday.astype('category')\n",
        "df['hour'] = df['datetime'].dt.hour.astype('category')\n",
        "\n",
        "df.head(2)"
      ],
      "execution_count": 7,
      "outputs": [
        {
          "output_type": "execute_result",
          "data": {
            "text/html": [
              "<div>\n",
              "<style scoped>\n",
              "    .dataframe tbody tr th:only-of-type {\n",
              "        vertical-align: middle;\n",
              "    }\n",
              "\n",
              "    .dataframe tbody tr th {\n",
              "        vertical-align: top;\n",
              "    }\n",
              "\n",
              "    .dataframe thead th {\n",
              "        text-align: right;\n",
              "    }\n",
              "</style>\n",
              "<table border=\"1\" class=\"dataframe\">\n",
              "  <thead>\n",
              "    <tr style=\"text-align: right;\">\n",
              "      <th></th>\n",
              "      <th>datetime</th>\n",
              "      <th>weekday</th>\n",
              "      <th>hour</th>\n",
              "    </tr>\n",
              "  </thead>\n",
              "  <tbody>\n",
              "    <tr>\n",
              "      <th>0</th>\n",
              "      <td>2018-01-01 00:00:00</td>\n",
              "      <td>0</td>\n",
              "      <td>0</td>\n",
              "    </tr>\n",
              "    <tr>\n",
              "      <th>1</th>\n",
              "      <td>2018-01-01 01:00:00</td>\n",
              "      <td>0</td>\n",
              "      <td>1</td>\n",
              "    </tr>\n",
              "  </tbody>\n",
              "</table>\n",
              "</div>"
            ],
            "text/plain": [
              "             datetime weekday hour\n",
              "0 2018-01-01 00:00:00       0    0\n",
              "1 2018-01-01 01:00:00       0    1"
            ]
          },
          "metadata": {
            "tags": []
          },
          "execution_count": 7
        }
      ]
    },
    {
      "metadata": {
        "id": "JNzIJo8dsrDz",
        "colab_type": "code",
        "colab": {
          "base_uri": "https://localhost:8080/",
          "height": 228
        },
        "outputId": "3c089d15-94e1-4bdd-c0e5-272bff080d46"
      },
      "cell_type": "code",
      "source": [
        "df = pd.get_dummies(df,prefix=['day','hour'],prefix_sep = '_',columns = ['weekday','hour'])\n",
        "df.head(2)"
      ],
      "execution_count": 8,
      "outputs": [
        {
          "output_type": "execute_result",
          "data": {
            "text/html": [
              "<div>\n",
              "<style scoped>\n",
              "    .dataframe tbody tr th:only-of-type {\n",
              "        vertical-align: middle;\n",
              "    }\n",
              "\n",
              "    .dataframe tbody tr th {\n",
              "        vertical-align: top;\n",
              "    }\n",
              "\n",
              "    .dataframe thead th {\n",
              "        text-align: right;\n",
              "    }\n",
              "</style>\n",
              "<table border=\"1\" class=\"dataframe\">\n",
              "  <thead>\n",
              "    <tr style=\"text-align: right;\">\n",
              "      <th></th>\n",
              "      <th>datetime</th>\n",
              "      <th>day_0</th>\n",
              "      <th>day_1</th>\n",
              "      <th>day_2</th>\n",
              "      <th>day_3</th>\n",
              "      <th>day_4</th>\n",
              "      <th>day_5</th>\n",
              "      <th>day_6</th>\n",
              "      <th>hour_0</th>\n",
              "      <th>hour_1</th>\n",
              "      <th>...</th>\n",
              "      <th>hour_14</th>\n",
              "      <th>hour_15</th>\n",
              "      <th>hour_16</th>\n",
              "      <th>hour_17</th>\n",
              "      <th>hour_18</th>\n",
              "      <th>hour_19</th>\n",
              "      <th>hour_20</th>\n",
              "      <th>hour_21</th>\n",
              "      <th>hour_22</th>\n",
              "      <th>hour_23</th>\n",
              "    </tr>\n",
              "  </thead>\n",
              "  <tbody>\n",
              "    <tr>\n",
              "      <th>0</th>\n",
              "      <td>2018-01-01 00:00:00</td>\n",
              "      <td>1</td>\n",
              "      <td>0</td>\n",
              "      <td>0</td>\n",
              "      <td>0</td>\n",
              "      <td>0</td>\n",
              "      <td>0</td>\n",
              "      <td>0</td>\n",
              "      <td>1</td>\n",
              "      <td>0</td>\n",
              "      <td>...</td>\n",
              "      <td>0</td>\n",
              "      <td>0</td>\n",
              "      <td>0</td>\n",
              "      <td>0</td>\n",
              "      <td>0</td>\n",
              "      <td>0</td>\n",
              "      <td>0</td>\n",
              "      <td>0</td>\n",
              "      <td>0</td>\n",
              "      <td>0</td>\n",
              "    </tr>\n",
              "    <tr>\n",
              "      <th>1</th>\n",
              "      <td>2018-01-01 01:00:00</td>\n",
              "      <td>1</td>\n",
              "      <td>0</td>\n",
              "      <td>0</td>\n",
              "      <td>0</td>\n",
              "      <td>0</td>\n",
              "      <td>0</td>\n",
              "      <td>0</td>\n",
              "      <td>0</td>\n",
              "      <td>1</td>\n",
              "      <td>...</td>\n",
              "      <td>0</td>\n",
              "      <td>0</td>\n",
              "      <td>0</td>\n",
              "      <td>0</td>\n",
              "      <td>0</td>\n",
              "      <td>0</td>\n",
              "      <td>0</td>\n",
              "      <td>0</td>\n",
              "      <td>0</td>\n",
              "      <td>0</td>\n",
              "    </tr>\n",
              "  </tbody>\n",
              "</table>\n",
              "<p>2 rows × 32 columns</p>\n",
              "</div>"
            ],
            "text/plain": [
              "             datetime  day_0  day_1  day_2  day_3  day_4  day_5  day_6  \\\n",
              "0 2018-01-01 00:00:00      1      0      0      0      0      0      0   \n",
              "1 2018-01-01 01:00:00      1      0      0      0      0      0      0   \n",
              "\n",
              "   hour_0  hour_1   ...     hour_14  hour_15  hour_16  hour_17  hour_18  \\\n",
              "0       1       0   ...           0        0        0        0        0   \n",
              "1       0       1   ...           0        0        0        0        0   \n",
              "\n",
              "   hour_19  hour_20  hour_21  hour_22  hour_23  \n",
              "0        0        0        0        0        0  \n",
              "1        0        0        0        0        0  \n",
              "\n",
              "[2 rows x 32 columns]"
            ]
          },
          "metadata": {
            "tags": []
          },
          "execution_count": 8
        }
      ]
    },
    {
      "metadata": {
        "id": "QB2EJiXFs9lV",
        "colab_type": "code",
        "colab": {
          "base_uri": "https://localhost:8080/",
          "height": 136
        },
        "outputId": "3dccf666-2d8d-456a-cbe7-aca369cf99d2"
      },
      "cell_type": "code",
      "source": [
        "df.columns"
      ],
      "execution_count": 9,
      "outputs": [
        {
          "output_type": "execute_result",
          "data": {
            "text/plain": [
              "Index([u'datetime', u'day_0', u'day_1', u'day_2', u'day_3', u'day_4', u'day_5',\n",
              "       u'day_6', u'hour_0', u'hour_1', u'hour_2', u'hour_3', u'hour_4',\n",
              "       u'hour_5', u'hour_6', u'hour_7', u'hour_8', u'hour_9', u'hour_10',\n",
              "       u'hour_11', u'hour_12', u'hour_13', u'hour_14', u'hour_15', u'hour_16',\n",
              "       u'hour_17', u'hour_18', u'hour_19', u'hour_20', u'hour_21', u'hour_22',\n",
              "       u'hour_23'],\n",
              "      dtype='object')"
            ]
          },
          "metadata": {
            "tags": []
          },
          "execution_count": 9
        }
      ]
    },
    {
      "metadata": {
        "id": "aJ-rjTZ4iR43",
        "colab_type": "text"
      },
      "cell_type": "markdown",
      "source": [
        "# I/O"
      ]
    },
    {
      "metadata": {
        "id": "g05yvnrhiT8y",
        "colab_type": "code",
        "colab": {}
      },
      "cell_type": "code",
      "source": [
        "# list all files in the dir\n",
        "#os.listdir('Map1/Map2/Map3')\n",
        "#os.listdir(\".\")"
      ],
      "execution_count": 0,
      "outputs": []
    },
    {
      "metadata": {
        "id": "EYbjczQrjBgX",
        "colab_type": "code",
        "colab": {}
      },
      "cell_type": "code",
      "source": [
        "# write df to csv\n",
        "df = pd.DataFrame({'employee':['John','Willem','Fred'],'age':[33,27,88]})\n",
        "#df_wide.to_csv('Input/' + 'spot_prices_utc.csv',index=True,)\n",
        "#df_wide.to_csv('Input/' + 'spot_prices_utc.csv',index=True,index_label='ValueDate_utc')\n",
        "df.to_csv('testColab.csv',index=False)"
      ],
      "execution_count": 0,
      "outputs": []
    },
    {
      "metadata": {
        "id": "k69K6CIPlzGm",
        "colab_type": "code",
        "colab": {
          "base_uri": "https://localhost:8080/",
          "height": 142
        },
        "outputId": "d2af2d94-988e-4a74-f0f2-7f33c2c12094"
      },
      "cell_type": "code",
      "source": [
        "# read csv\n",
        "df2 = pd.read_csv('testColab.csv')\n",
        "df2.head()"
      ],
      "execution_count": 77,
      "outputs": [
        {
          "output_type": "execute_result",
          "data": {
            "text/html": [
              "<div>\n",
              "<style scoped>\n",
              "    .dataframe tbody tr th:only-of-type {\n",
              "        vertical-align: middle;\n",
              "    }\n",
              "\n",
              "    .dataframe tbody tr th {\n",
              "        vertical-align: top;\n",
              "    }\n",
              "\n",
              "    .dataframe thead th {\n",
              "        text-align: right;\n",
              "    }\n",
              "</style>\n",
              "<table border=\"1\" class=\"dataframe\">\n",
              "  <thead>\n",
              "    <tr style=\"text-align: right;\">\n",
              "      <th></th>\n",
              "      <th>age</th>\n",
              "      <th>employee</th>\n",
              "    </tr>\n",
              "  </thead>\n",
              "  <tbody>\n",
              "    <tr>\n",
              "      <th>0</th>\n",
              "      <td>33</td>\n",
              "      <td>John</td>\n",
              "    </tr>\n",
              "    <tr>\n",
              "      <th>1</th>\n",
              "      <td>27</td>\n",
              "      <td>Willem</td>\n",
              "    </tr>\n",
              "    <tr>\n",
              "      <th>2</th>\n",
              "      <td>88</td>\n",
              "      <td>Fred</td>\n",
              "    </tr>\n",
              "  </tbody>\n",
              "</table>\n",
              "</div>"
            ],
            "text/plain": [
              "   age employee\n",
              "0   33     John\n",
              "1   27   Willem\n",
              "2   88     Fred"
            ]
          },
          "metadata": {
            "tags": []
          },
          "execution_count": 77
        }
      ]
    },
    {
      "metadata": {
        "id": "eklbLUspnEUA",
        "colab_type": "code",
        "colab": {
          "base_uri": "https://localhost:8080/",
          "height": 111
        },
        "outputId": "36394df9-e4d1-435d-df0b-a1f0723fa9b5"
      },
      "cell_type": "code",
      "source": [
        "# read csv but skip second row\n",
        "cols = ['age']\n",
        "df = pd.read_csv('testColab.csv',usecols=cols,skiprows=[1])\n",
        "df.head()"
      ],
      "execution_count": 80,
      "outputs": [
        {
          "output_type": "execute_result",
          "data": {
            "text/html": [
              "<div>\n",
              "<style scoped>\n",
              "    .dataframe tbody tr th:only-of-type {\n",
              "        vertical-align: middle;\n",
              "    }\n",
              "\n",
              "    .dataframe tbody tr th {\n",
              "        vertical-align: top;\n",
              "    }\n",
              "\n",
              "    .dataframe thead th {\n",
              "        text-align: right;\n",
              "    }\n",
              "</style>\n",
              "<table border=\"1\" class=\"dataframe\">\n",
              "  <thead>\n",
              "    <tr style=\"text-align: right;\">\n",
              "      <th></th>\n",
              "      <th>age</th>\n",
              "    </tr>\n",
              "  </thead>\n",
              "  <tbody>\n",
              "    <tr>\n",
              "      <th>0</th>\n",
              "      <td>27</td>\n",
              "    </tr>\n",
              "    <tr>\n",
              "      <th>1</th>\n",
              "      <td>88</td>\n",
              "    </tr>\n",
              "  </tbody>\n",
              "</table>\n",
              "</div>"
            ],
            "text/plain": [
              "   age\n",
              "0   27\n",
              "1   88"
            ]
          },
          "metadata": {
            "tags": []
          },
          "execution_count": 80
        }
      ]
    },
    {
      "metadata": {
        "id": "ml7eI7aDoeK0",
        "colab_type": "code",
        "colab": {}
      },
      "cell_type": "code",
      "source": [
        ""
      ],
      "execution_count": 0,
      "outputs": []
    }
  ]
}