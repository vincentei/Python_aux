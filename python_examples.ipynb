{
  "nbformat": 4,
  "nbformat_minor": 0,
  "metadata": {
    "colab": {
      "name": "python_examples.ipynb",
      "version": "0.3.2",
      "provenance": [],
      "collapsed_sections": [],
      "toc_visible": true
    },
    "kernelspec": {
      "display_name": "Python [conda root]",
      "language": "python",
      "name": "conda-root-py"
    }
  },
  "cells": [
    {
      "cell_type": "markdown",
      "metadata": {
        "id": "view-in-github",
        "colab_type": "text"
      },
      "source": [
        "[View in Colaboratory](https://colab.research.google.com/github/vincentei/Python_aux/blob/master/python_examples.ipynb)"
      ]
    },
    {
      "metadata": {
        "id": "KpfRTPUZTdXi",
        "colab_type": "code",
        "colab": {}
      },
      "cell_type": "code",
      "source": [
        "import numpy as np\n",
        "import pandas as pd\n",
        "import matplotlib.pyplot as plt"
      ],
      "execution_count": 0,
      "outputs": []
    },
    {
      "metadata": {
        "id": "bikwzGmATdXn",
        "colab_type": "text"
      },
      "cell_type": "markdown",
      "source": [
        "## Numpy"
      ]
    },
    {
      "metadata": {
        "id": "5NwipL3UTdXo",
        "colab_type": "code",
        "colab": {
          "base_uri": "https://localhost:8080/",
          "height": 51
        },
        "outputId": "477551ab-eada-494d-f05a-522da2206b42"
      },
      "cell_type": "code",
      "source": [
        "# creating numpy arrays with dimension (3,2) and (2,4) , (n,m) * (m,k)\n",
        "A = np.array([[1,2], [3,4],[5,6]])\n",
        "B = np.array([[1,2,3,4], [5,6,7,8]])\n",
        "print (A.shape)\n",
        "print (B.shape)"
      ],
      "execution_count": 2,
      "outputs": [
        {
          "output_type": "stream",
          "text": [
            "(3, 2)\n",
            "(2, 4)\n"
          ],
          "name": "stdout"
        }
      ]
    },
    {
      "metadata": {
        "id": "9GsZfSePTdXu",
        "colab_type": "code",
        "colab": {
          "base_uri": "https://localhost:8080/",
          "height": 34
        },
        "outputId": "dc97276a-8de7-42b6-c2f9-dd21c5890cf9"
      },
      "cell_type": "code",
      "source": [
        "# calc multiply two matrices, dot product between two matrices\n",
        "C = np.matmul(A,B)\n",
        "print (C.shape)"
      ],
      "execution_count": 3,
      "outputs": [
        {
          "output_type": "stream",
          "text": [
            "(3, 4)\n"
          ],
          "name": "stdout"
        }
      ]
    },
    {
      "metadata": {
        "id": "c79dfJQyTdXy",
        "colab_type": "code",
        "colab": {
          "base_uri": "https://localhost:8080/",
          "height": 68
        },
        "outputId": "a030d19d-6647-4bef-9b1b-c4754c4c4b07"
      },
      "cell_type": "code",
      "source": [
        "# create numpy array with range from 1 to 10, then reshape into (2,5) matrix\n",
        "a = np.arange(1,11)\n",
        "print (a)\n",
        "A = a.reshape(2,5)\n",
        "print (A)"
      ],
      "execution_count": 4,
      "outputs": [
        {
          "output_type": "stream",
          "text": [
            "[ 1  2  3  4  5  6  7  8  9 10]\n",
            "[[ 1  2  3  4  5]\n",
            " [ 6  7  8  9 10]]\n"
          ],
          "name": "stdout"
        }
      ]
    },
    {
      "metadata": {
        "id": "WMIF2D6NTdX2",
        "colab_type": "code",
        "colab": {}
      },
      "cell_type": "code",
      "source": [
        "# now create (2,3) random numpy with same seed\n",
        "np.random.seed(42)\n",
        "A = np.random.randn(3,10)"
      ],
      "execution_count": 0,
      "outputs": []
    },
    {
      "metadata": {
        "id": "YCvF3gk0TdX5",
        "colab_type": "code",
        "colab": {
          "base_uri": "https://localhost:8080/",
          "height": 34
        },
        "outputId": "edead1c0-da86-47d9-83a9-ff994fcfa44d"
      },
      "cell_type": "code",
      "source": [
        "# concatenate two arrays\n",
        "a = np.array([1,2,3])\n",
        "b = np.array([4,5,6])\n",
        "print(np.concatenate([a,b]))"
      ],
      "execution_count": 6,
      "outputs": [
        {
          "output_type": "stream",
          "text": [
            "[1 2 3 4 5 6]\n"
          ],
          "name": "stdout"
        }
      ]
    },
    {
      "metadata": {
        "id": "BXt5GjwcTdX-",
        "colab_type": "code",
        "colab": {
          "base_uri": "https://localhost:8080/",
          "height": 51
        },
        "outputId": "5765442e-87a0-4b21-d45d-ea0b26b2479a"
      },
      "cell_type": "code",
      "source": [
        "# concatenate two matrices\n",
        "a = np.array([[1,2,3],[3,4,3]])\n",
        "b = np.array([[1,2,3],[3,4,3]])\n",
        "c = np.concatenate([a,b])\n",
        "d = np.concatenate([a,b],axis=1)\n",
        "print(c.shape)\n",
        "print(d.shape)"
      ],
      "execution_count": 7,
      "outputs": [
        {
          "output_type": "stream",
          "text": [
            "(4, 3)\n",
            "(2, 6)\n"
          ],
          "name": "stdout"
        }
      ]
    },
    {
      "metadata": {
        "id": "B_GU0X6OTdYB",
        "colab_type": "code",
        "colab": {
          "base_uri": "https://localhost:8080/",
          "height": 34
        },
        "outputId": "8e83f225-21ed-4c1c-8d3a-68240245589a"
      },
      "cell_type": "code",
      "source": [
        "# sum two arrays\n",
        "a = np.array([1,2,3])\n",
        "b = np.array([4,5,6])\n",
        "print(a + b)"
      ],
      "execution_count": 8,
      "outputs": [
        {
          "output_type": "stream",
          "text": [
            "[5 7 9]\n"
          ],
          "name": "stdout"
        }
      ]
    },
    {
      "metadata": {
        "id": "pU_VIrp6TdYH",
        "colab_type": "code",
        "colab": {
          "base_uri": "https://localhost:8080/",
          "height": 51
        },
        "outputId": "c354387e-b6b0-44d9-97ee-f9c644fda4d2"
      },
      "cell_type": "code",
      "source": [
        "# clipping (ie squash value of numpy array between min, max)\n",
        "a = np.arange(6)\n",
        "print (a)\n",
        "print (np.clip(a,2,4))"
      ],
      "execution_count": 9,
      "outputs": [
        {
          "output_type": "stream",
          "text": [
            "[0 1 2 3 4 5]\n",
            "[2 2 2 3 4 4]\n"
          ],
          "name": "stdout"
        }
      ]
    },
    {
      "metadata": {
        "id": "u_0lQvv5TdYL",
        "colab_type": "code",
        "colab": {
          "base_uri": "https://localhost:8080/",
          "height": 34
        },
        "outputId": "84e9f60b-0a98-4c3f-ee01-9beca9f0a162"
      },
      "cell_type": "code",
      "source": [
        "# sample idx from distribution\n",
        "h = np.array([0.1, 0.2, 0.5,0.2])\n",
        "#index = np.random.choice([0, 1, 2, 3], p = h.ravel())\n",
        "#print(index)\n",
        "index2 = np.random.choice(np.arange(len(h)), p = h.ravel())\n",
        "print(index2)"
      ],
      "execution_count": 10,
      "outputs": [
        {
          "output_type": "stream",
          "text": [
            "2\n"
          ],
          "name": "stdout"
        }
      ]
    },
    {
      "metadata": {
        "id": "-Pg7lSwBTdYP",
        "colab_type": "code",
        "colab": {
          "base_uri": "https://localhost:8080/",
          "height": 34
        },
        "outputId": "93eb5050-c5fb-4978-e21d-c1d4fe693c3f"
      },
      "cell_type": "code",
      "source": [
        "# give index of max value in numpy array\n",
        "a = np.array([1,33,4,5])\n",
        "print(np.argmax(a))"
      ],
      "execution_count": 11,
      "outputs": [
        {
          "output_type": "stream",
          "text": [
            "1\n"
          ],
          "name": "stdout"
        }
      ]
    },
    {
      "metadata": {
        "id": "QLi6bSELTdYT",
        "colab_type": "code",
        "colab": {
          "base_uri": "https://localhost:8080/",
          "height": 85
        },
        "outputId": "850101b6-a0ea-4288-a2e6-ca93950cb6f4"
      },
      "cell_type": "code",
      "source": [
        "# give index of max value in 2d numpy array\n",
        "a = np.array([[1,33,4,5],[1,2,3,44]])\n",
        "print(np.argmax(a))\n",
        "print(np.argmax(a,axis=0))\n",
        "print(np.argmax(a,axis=1))\n",
        "print(np.argmax(a,axis=-1)) #-1 impies the last axis"
      ],
      "execution_count": 12,
      "outputs": [
        {
          "output_type": "stream",
          "text": [
            "7\n",
            "[0 0 0 1]\n",
            "[1 3]\n",
            "[1 3]\n"
          ],
          "name": "stdout"
        }
      ]
    },
    {
      "metadata": {
        "id": "nXrowQgrTdYZ",
        "colab_type": "text"
      },
      "cell_type": "markdown",
      "source": [
        "## Dictionary"
      ]
    },
    {
      "metadata": {
        "id": "DgEu06hWTdYa",
        "colab_type": "code",
        "colab": {}
      },
      "cell_type": "code",
      "source": [
        "# create dict\n",
        "mydict = {'ali':178,'johan':'188','Doei':'48'}"
      ],
      "execution_count": 0,
      "outputs": []
    },
    {
      "metadata": {
        "id": "1HvRkyfUTdYe",
        "colab_type": "code",
        "colab": {
          "base_uri": "https://localhost:8080/",
          "height": 34
        },
        "outputId": "3de48f4e-15fa-42c4-c68f-17b5b6a332d1"
      },
      "cell_type": "code",
      "source": [
        "# how many element are in my dict?\n",
        "len(mydict)"
      ],
      "execution_count": 14,
      "outputs": [
        {
          "output_type": "execute_result",
          "data": {
            "text/plain": [
              "3"
            ]
          },
          "metadata": {
            "tags": []
          },
          "execution_count": 14
        }
      ]
    },
    {
      "metadata": {
        "id": "9ZikxMnRTdYi",
        "colab_type": "text"
      },
      "cell_type": "markdown",
      "source": [
        "## Plotting"
      ]
    },
    {
      "metadata": {
        "id": "r42hkLwTTdYi",
        "colab_type": "code",
        "colab": {
          "base_uri": "https://localhost:8080/",
          "height": 347
        },
        "outputId": "b5327c85-24f8-4ef8-d876-0fa208537efb"
      },
      "cell_type": "code",
      "source": [
        "# make plot of two numpy arrays\n",
        "x = np.array([1,2,3,4,5,6,7,8])\n",
        "y = np.array([1,4,9,16,25,36,49,64])\n",
        "plt.plot(x,y,label = 'y=x2')\n",
        "plt.legend()\n",
        "plt.show()"
      ],
      "execution_count": 15,
      "outputs": [
        {
          "output_type": "display_data",
          "data": {
            "image/png": "[encoded data removed]",
            "text/plain": [
              "<matplotlib.figure.Figure at 0x7fb56d6a8c50>"
            ]
          },
          "metadata": {
            "tags": []
          }
        }
      ]
    },
    {
      "metadata": {
        "id": "cp9wBF75TdYn",
        "colab_type": "text"
      },
      "cell_type": "markdown",
      "source": [
        "## Other stuff"
      ]
    },
    {
      "metadata": {
        "id": "MTprMoSwTdYn",
        "colab_type": "code",
        "colab": {
          "base_uri": "https://localhost:8080/",
          "height": 34
        },
        "outputId": "044dd40a-4034-4f0b-caad-757d623c2ace"
      },
      "cell_type": "code",
      "source": [
        "# the modulo operator, the remainder from division\n",
        "2 % 300"
      ],
      "execution_count": 16,
      "outputs": [
        {
          "output_type": "execute_result",
          "data": {
            "text/plain": [
              "2"
            ]
          },
          "metadata": {
            "tags": []
          },
          "execution_count": 16
        }
      ]
    },
    {
      "metadata": {
        "id": "lQ-qUyA-LW-0",
        "colab_type": "text"
      },
      "cell_type": "markdown",
      "source": [
        "## Dataframe"
      ]
    },
    {
      "metadata": {
        "id": "Bz_0Ske3LU3e",
        "colab_type": "code",
        "colab": {}
      },
      "cell_type": "code",
      "source": [
        "# Create dataframe\n",
        "df = pd.DataFrame({'a':[1,2,3],'b':[3,4,5]})"
      ],
      "execution_count": 0,
      "outputs": []
    },
    {
      "metadata": {
        "id": "Ep7oCd6MLquF",
        "colab_type": "code",
        "colab": {
          "base_uri": "https://localhost:8080/",
          "height": 173
        },
        "outputId": "aff2483b-f951-478b-8318-5bfee6dbd4a8"
      },
      "cell_type": "code",
      "source": [
        "# dataframe from numpy array\n",
        "names = ['apple','orange','apple','banana']\n",
        "price = [1,2,5,10]\n",
        "df = pd.DataFrame({'names':names,'price':price})\n",
        "df.head()"
      ],
      "execution_count": 11,
      "outputs": [
        {
          "output_type": "execute_result",
          "data": {
            "text/html": [
              "<div>\n",
              "<style scoped>\n",
              "    .dataframe tbody tr th:only-of-type {\n",
              "        vertical-align: middle;\n",
              "    }\n",
              "\n",
              "    .dataframe tbody tr th {\n",
              "        vertical-align: top;\n",
              "    }\n",
              "\n",
              "    .dataframe thead th {\n",
              "        text-align: right;\n",
              "    }\n",
              "</style>\n",
              "<table border=\"1\" class=\"dataframe\">\n",
              "  <thead>\n",
              "    <tr style=\"text-align: right;\">\n",
              "      <th></th>\n",
              "      <th>names</th>\n",
              "      <th>price</th>\n",
              "    </tr>\n",
              "  </thead>\n",
              "  <tbody>\n",
              "    <tr>\n",
              "      <th>0</th>\n",
              "      <td>apple</td>\n",
              "      <td>1</td>\n",
              "    </tr>\n",
              "    <tr>\n",
              "      <th>1</th>\n",
              "      <td>orange</td>\n",
              "      <td>2</td>\n",
              "    </tr>\n",
              "    <tr>\n",
              "      <th>2</th>\n",
              "      <td>apple</td>\n",
              "      <td>5</td>\n",
              "    </tr>\n",
              "    <tr>\n",
              "      <th>3</th>\n",
              "      <td>banana</td>\n",
              "      <td>10</td>\n",
              "    </tr>\n",
              "  </tbody>\n",
              "</table>\n",
              "</div>"
            ],
            "text/plain": [
              "    names  price\n",
              "0   apple      1\n",
              "1  orange      2\n",
              "2   apple      5\n",
              "3  banana     10"
            ]
          },
          "metadata": {
            "tags": []
          },
          "execution_count": 11
        }
      ]
    },
    {
      "metadata": {
        "id": "P341aCZyN5dI",
        "colab_type": "code",
        "colab": {}
      },
      "cell_type": "code",
      "source": [
        ""
      ],
      "execution_count": 0,
      "outputs": []
    }
  ]
}