{
  "nbformat": 4,
  "nbformat_minor": 0,
  "metadata": {
    "colab": {
      "name": "python_examples.ipynb",
      "version": "0.3.2",
      "provenance": [],
      "collapsed_sections": [
        "9ZikxMnRTdYi"
      ],
      "toc_visible": true
    },
    "kernelspec": {
      "display_name": "Python [conda root]",
      "language": "python",
      "name": "conda-root-py"
    }
  },
  "cells": [
    {
      "cell_type": "markdown",
      "metadata": {
        "id": "view-in-github",
        "colab_type": "text"
      },
      "source": [
        "[View in Colaboratory](https://colab.research.google.com/github/vincentei/Python_aux/blob/master/python_examples.ipynb)"
      ]
    },
    {
      "metadata": {
        "id": "KpfRTPUZTdXi",
        "colab_type": "code",
        "colab": {}
      },
      "cell_type": "code",
      "source": [
        "import numpy as np\n",
        "import pandas as pd\n",
        "import matplotlib.pyplot as plt\n",
        "\n",
        "import datetime as dt\n",
        "import pytz\n",
        "import time"
      ],
      "execution_count": 0,
      "outputs": []
    },
    {
      "metadata": {
        "id": "dB-FyYjo077L",
        "colab_type": "code",
        "colab": {}
      },
      "cell_type": "code",
      "source": [
        "import sys\n",
        "if sys.version_info[0] < 3: \n",
        "    from StringIO import StringIO\n",
        "else:\n",
        "    from io import StringIO"
      ],
      "execution_count": 0,
      "outputs": []
    },
    {
      "metadata": {
        "id": "bikwzGmATdXn",
        "colab_type": "text"
      },
      "cell_type": "markdown",
      "source": [
        "## Numpy"
      ]
    },
    {
      "metadata": {
        "id": "5NwipL3UTdXo",
        "colab_type": "code",
        "colab": {
          "base_uri": "https://localhost:8080/",
          "height": 51
        },
        "outputId": "4a06a940-3aca-4137-e78a-e9401a8310bb"
      },
      "cell_type": "code",
      "source": [
        "# creating numpy arrays with dimension (3,2) and (2,4) , (n,m) * (m,k)\n",
        "A = np.array([[1,2], [3,4],[5,6]])\n",
        "B = np.array([[1,2,3,4], [5,6,7,8]])\n",
        "print (A.shape)\n",
        "print (B.shape)"
      ],
      "execution_count": 3,
      "outputs": [
        {
          "output_type": "stream",
          "text": [
            "(3, 2)\n",
            "(2, 4)\n"
          ],
          "name": "stdout"
        }
      ]
    },
    {
      "metadata": {
        "id": "9GsZfSePTdXu",
        "colab_type": "code",
        "colab": {
          "base_uri": "https://localhost:8080/",
          "height": 34
        },
        "outputId": "fca7ac05-2a44-4c48-abde-30bbdb89d6f6"
      },
      "cell_type": "code",
      "source": [
        "# calc multiply two matrices, dot product between two matrices\n",
        "C = np.matmul(A,B)\n",
        "print (C.shape)"
      ],
      "execution_count": 270,
      "outputs": [
        {
          "output_type": "stream",
          "text": [
            "(3, 4)\n"
          ],
          "name": "stdout"
        }
      ]
    },
    {
      "metadata": {
        "id": "c79dfJQyTdXy",
        "colab_type": "code",
        "colab": {
          "base_uri": "https://localhost:8080/",
          "height": 68
        },
        "outputId": "62c4d098-00a0-47f3-c46b-710755b134b3"
      },
      "cell_type": "code",
      "source": [
        "# create numpy array with range from 1 to 10, then reshape into (2,5) matrix\n",
        "a = np.arange(1,11)\n",
        "print (a)\n",
        "A = a.reshape(2,5)\n",
        "print (A)"
      ],
      "execution_count": 271,
      "outputs": [
        {
          "output_type": "stream",
          "text": [
            "[ 1  2  3  4  5  6  7  8  9 10]\n",
            "[[ 1  2  3  4  5]\n",
            " [ 6  7  8  9 10]]\n"
          ],
          "name": "stdout"
        }
      ]
    },
    {
      "metadata": {
        "id": "WMIF2D6NTdX2",
        "colab_type": "code",
        "colab": {}
      },
      "cell_type": "code",
      "source": [
        "# now create (2,3) random numpy with same seed\n",
        "np.random.seed(42)\n",
        "A = np.random.randn(3,10)"
      ],
      "execution_count": 0,
      "outputs": []
    },
    {
      "metadata": {
        "id": "YCvF3gk0TdX5",
        "colab_type": "code",
        "colab": {
          "base_uri": "https://localhost:8080/",
          "height": 34
        },
        "outputId": "0178af6c-0878-4a9e-c47a-73d2c68e3ee4"
      },
      "cell_type": "code",
      "source": [
        "# concatenate two arrays\n",
        "a = np.array([1,2,3])\n",
        "b = np.array([4,5,6])\n",
        "print(np.concatenate([a,b]))"
      ],
      "execution_count": 273,
      "outputs": [
        {
          "output_type": "stream",
          "text": [
            "[1 2 3 4 5 6]\n"
          ],
          "name": "stdout"
        }
      ]
    },
    {
      "metadata": {
        "id": "BXt5GjwcTdX-",
        "colab_type": "code",
        "colab": {
          "base_uri": "https://localhost:8080/",
          "height": 51
        },
        "outputId": "f06e01e4-21d1-4bf9-aa78-a43061a60106"
      },
      "cell_type": "code",
      "source": [
        "# concatenate two matrices\n",
        "a = np.array([[1,2,3],[3,4,3]])\n",
        "b = np.array([[1,2,3],[3,4,3]])\n",
        "c = np.concatenate([a,b])\n",
        "d = np.concatenate([a,b],axis=1)\n",
        "print(c.shape)\n",
        "print(d.shape)"
      ],
      "execution_count": 274,
      "outputs": [
        {
          "output_type": "stream",
          "text": [
            "(4, 3)\n",
            "(2, 6)\n"
          ],
          "name": "stdout"
        }
      ]
    },
    {
      "metadata": {
        "id": "B_GU0X6OTdYB",
        "colab_type": "code",
        "colab": {
          "base_uri": "https://localhost:8080/",
          "height": 34
        },
        "outputId": "14b18c71-d6ba-4d30-8722-20ced0f0b04d"
      },
      "cell_type": "code",
      "source": [
        "# sum two arrays\n",
        "a = np.array([1,2,3])\n",
        "b = np.array([4,5,6])\n",
        "print(a + b)"
      ],
      "execution_count": 275,
      "outputs": [
        {
          "output_type": "stream",
          "text": [
            "[5 7 9]\n"
          ],
          "name": "stdout"
        }
      ]
    },
    {
      "metadata": {
        "id": "pU_VIrp6TdYH",
        "colab_type": "code",
        "colab": {
          "base_uri": "https://localhost:8080/",
          "height": 51
        },
        "outputId": "01ff446d-43fe-49e4-c78d-20d71f7b3826"
      },
      "cell_type": "code",
      "source": [
        "# clipping (ie squash value of numpy array between min, max)\n",
        "a = np.arange(6)\n",
        "print (a)\n",
        "print (np.clip(a,2,4))"
      ],
      "execution_count": 276,
      "outputs": [
        {
          "output_type": "stream",
          "text": [
            "[0 1 2 3 4 5]\n",
            "[2 2 2 3 4 4]\n"
          ],
          "name": "stdout"
        }
      ]
    },
    {
      "metadata": {
        "id": "u_0lQvv5TdYL",
        "colab_type": "code",
        "colab": {
          "base_uri": "https://localhost:8080/",
          "height": 34
        },
        "outputId": "6738fee1-9068-4a99-db13-87a0574f3e8d"
      },
      "cell_type": "code",
      "source": [
        "# sample idx from distribution\n",
        "h = np.array([0.1, 0.2, 0.5,0.2])\n",
        "#index = np.random.choice([0, 1, 2, 3], p = h.ravel())\n",
        "#print(index)\n",
        "index2 = np.random.choice(np.arange(len(h)), p = h.ravel())\n",
        "print(index2)"
      ],
      "execution_count": 277,
      "outputs": [
        {
          "output_type": "stream",
          "text": [
            "2\n"
          ],
          "name": "stdout"
        }
      ]
    },
    {
      "metadata": {
        "id": "-Pg7lSwBTdYP",
        "colab_type": "code",
        "colab": {
          "base_uri": "https://localhost:8080/",
          "height": 34
        },
        "outputId": "e3c50463-96b5-44c4-a20d-24a8164bad9c"
      },
      "cell_type": "code",
      "source": [
        "# give index of max value in numpy array\n",
        "a = np.array([1,33,4,5])\n",
        "print(np.argmax(a))"
      ],
      "execution_count": 278,
      "outputs": [
        {
          "output_type": "stream",
          "text": [
            "1\n"
          ],
          "name": "stdout"
        }
      ]
    },
    {
      "metadata": {
        "id": "QLi6bSELTdYT",
        "colab_type": "code",
        "colab": {
          "base_uri": "https://localhost:8080/",
          "height": 85
        },
        "outputId": "787617c1-1c7a-44d0-f181-854af008bafb"
      },
      "cell_type": "code",
      "source": [
        "# give index of max value in 2d numpy array\n",
        "a = np.array([[1,33,4,5],[1,2,3,44]])\n",
        "print(np.argmax(a))\n",
        "print(np.argmax(a,axis=0))\n",
        "print(np.argmax(a,axis=1))\n",
        "print(np.argmax(a,axis=-1)) #-1 impies the last axis"
      ],
      "execution_count": 279,
      "outputs": [
        {
          "output_type": "stream",
          "text": [
            "7\n",
            "[0 0 0 1]\n",
            "[1 3]\n",
            "[1 3]\n"
          ],
          "name": "stdout"
        }
      ]
    },
    {
      "metadata": {
        "id": "nXrowQgrTdYZ",
        "colab_type": "text"
      },
      "cell_type": "markdown",
      "source": [
        "## Dictionary"
      ]
    },
    {
      "metadata": {
        "id": "DgEu06hWTdYa",
        "colab_type": "code",
        "colab": {}
      },
      "cell_type": "code",
      "source": [
        "# create dict\n",
        "mydict = {'ali':178,'johan':'188','Doei':'48'}"
      ],
      "execution_count": 0,
      "outputs": []
    },
    {
      "metadata": {
        "id": "1HvRkyfUTdYe",
        "colab_type": "code",
        "colab": {
          "base_uri": "https://localhost:8080/",
          "height": 34
        },
        "outputId": "bd6e0428-0c8d-4810-ab39-0d04b42a10ef"
      },
      "cell_type": "code",
      "source": [
        "# how many element are in my dict?\n",
        "len(mydict)"
      ],
      "execution_count": 281,
      "outputs": [
        {
          "output_type": "execute_result",
          "data": {
            "text/plain": [
              "3"
            ]
          },
          "metadata": {
            "tags": []
          },
          "execution_count": 281
        }
      ]
    },
    {
      "metadata": {
        "id": "9ZikxMnRTdYi",
        "colab_type": "text"
      },
      "cell_type": "markdown",
      "source": [
        "## Plotting"
      ]
    },
    {
      "metadata": {
        "id": "r42hkLwTTdYi",
        "colab_type": "code",
        "colab": {
          "base_uri": "https://localhost:8080/",
          "height": 10
        },
        "outputId": "faa5d691-aae1-4cad-c4a5-99c58cf2e2b3"
      },
      "cell_type": "code",
      "source": [
        "# make plot of two numpy arrays\n",
        "x = np.array([1,2,3,4,5,6,7,8])\n",
        "y = np.array([1,4,9,16,25,36,49,64])\n",
        "plt.plot(x,y,label = 'y=x2')\n",
        "plt.legend()\n",
        "plt.show()"
      ],
      "execution_count": 282,
      "outputs": [
        {
          "output_type": "display_data",
          "data": {
            "image/png": "[encoded data removed]",
            "text/plain": [
              "<matplotlib.figure.Figure at 0x7ff641f85e50>"
            ]
          },
          "metadata": {
            "tags": []
          }
        }
      ]
    },
    {
      "metadata": {
        "id": "cp9wBF75TdYn",
        "colab_type": "text"
      },
      "cell_type": "markdown",
      "source": [
        "## Other stuff"
      ]
    },
    {
      "metadata": {
        "id": "MTprMoSwTdYn",
        "colab_type": "code",
        "colab": {
          "base_uri": "https://localhost:8080/",
          "height": 34
        },
        "outputId": "d7e5c1db-fa31-4322-813d-86de00a4f485"
      },
      "cell_type": "code",
      "source": [
        "# the modulo operator, the remainder from division\n",
        "2 % 300"
      ],
      "execution_count": 283,
      "outputs": [
        {
          "output_type": "execute_result",
          "data": {
            "text/plain": [
              "2"
            ]
          },
          "metadata": {
            "tags": []
          },
          "execution_count": 283
        }
      ]
    },
    {
      "metadata": {
        "id": "V5_oljV87MCi",
        "colab_type": "code",
        "colab": {}
      },
      "cell_type": "code",
      "source": [
        "TESTDATA = StringIO(\"\"\"col1;col2;col3\n",
        "    1;4.4;99\n",
        "    2;4.5;200\n",
        "    3;4.7;65\n",
        "    4;3.2;140\n",
        "    \"\"\")\n",
        "\n",
        "df = pd.read_csv(TESTDATA, sep=\";\")"
      ],
      "execution_count": 0,
      "outputs": []
    },
    {
      "metadata": {
        "id": "lQ-qUyA-LW-0",
        "colab_type": "text"
      },
      "cell_type": "markdown",
      "source": [
        "## Dataframe"
      ]
    },
    {
      "metadata": {
        "id": "Bz_0Ske3LU3e",
        "colab_type": "code",
        "colab": {}
      },
      "cell_type": "code",
      "source": [
        "# Create dataframe\n",
        "df = pd.DataFrame({'a':[1,2,3],'b':[3,4,5]})"
      ],
      "execution_count": 0,
      "outputs": []
    },
    {
      "metadata": {
        "id": "Ep7oCd6MLquF",
        "colab_type": "code",
        "colab": {
          "base_uri": "https://localhost:8080/",
          "height": 173
        },
        "outputId": "3b95ba6e-8522-4d02-d5a8-d89994d9725f"
      },
      "cell_type": "code",
      "source": [
        "# dataframe from numpy array\n",
        "names = ['apple','orange','apple','banana']\n",
        "price = [1,2,5,10]\n",
        "df = pd.DataFrame({'names':names,'price':price})\n",
        "df.head()"
      ],
      "execution_count": 286,
      "outputs": [
        {
          "output_type": "execute_result",
          "data": {
            "text/html": [
              "<div>\n",
              "<style scoped>\n",
              "    .dataframe tbody tr th:only-of-type {\n",
              "        vertical-align: middle;\n",
              "    }\n",
              "\n",
              "    .dataframe tbody tr th {\n",
              "        vertical-align: top;\n",
              "    }\n",
              "\n",
              "    .dataframe thead th {\n",
              "        text-align: right;\n",
              "    }\n",
              "</style>\n",
              "<table border=\"1\" class=\"dataframe\">\n",
              "  <thead>\n",
              "    <tr style=\"text-align: right;\">\n",
              "      <th></th>\n",
              "      <th>names</th>\n",
              "      <th>price</th>\n",
              "    </tr>\n",
              "  </thead>\n",
              "  <tbody>\n",
              "    <tr>\n",
              "      <th>0</th>\n",
              "      <td>apple</td>\n",
              "      <td>1</td>\n",
              "    </tr>\n",
              "    <tr>\n",
              "      <th>1</th>\n",
              "      <td>orange</td>\n",
              "      <td>2</td>\n",
              "    </tr>\n",
              "    <tr>\n",
              "      <th>2</th>\n",
              "      <td>apple</td>\n",
              "      <td>5</td>\n",
              "    </tr>\n",
              "    <tr>\n",
              "      <th>3</th>\n",
              "      <td>banana</td>\n",
              "      <td>10</td>\n",
              "    </tr>\n",
              "  </tbody>\n",
              "</table>\n",
              "</div>"
            ],
            "text/plain": [
              "    names  price\n",
              "0   apple      1\n",
              "1  orange      2\n",
              "2   apple      5\n",
              "3  banana     10"
            ]
          },
          "metadata": {
            "tags": []
          },
          "execution_count": 286
        }
      ]
    },
    {
      "metadata": {
        "id": "qLqM_XjsPbZ1",
        "colab_type": "code",
        "colab": {
          "base_uri": "https://localhost:8080/",
          "height": 173
        },
        "outputId": "8afd84b2-01ed-4eff-9818-8a0044e5b2ad"
      },
      "cell_type": "code",
      "source": [
        "# make new column price_sqr using the apply function\n",
        "df['price_sqr'] = df['price'].apply(lambda x: x*x)\n",
        "df.head()"
      ],
      "execution_count": 287,
      "outputs": [
        {
          "output_type": "execute_result",
          "data": {
            "text/html": [
              "<div>\n",
              "<style scoped>\n",
              "    .dataframe tbody tr th:only-of-type {\n",
              "        vertical-align: middle;\n",
              "    }\n",
              "\n",
              "    .dataframe tbody tr th {\n",
              "        vertical-align: top;\n",
              "    }\n",
              "\n",
              "    .dataframe thead th {\n",
              "        text-align: right;\n",
              "    }\n",
              "</style>\n",
              "<table border=\"1\" class=\"dataframe\">\n",
              "  <thead>\n",
              "    <tr style=\"text-align: right;\">\n",
              "      <th></th>\n",
              "      <th>names</th>\n",
              "      <th>price</th>\n",
              "      <th>price_sqr</th>\n",
              "    </tr>\n",
              "  </thead>\n",
              "  <tbody>\n",
              "    <tr>\n",
              "      <th>0</th>\n",
              "      <td>apple</td>\n",
              "      <td>1</td>\n",
              "      <td>1</td>\n",
              "    </tr>\n",
              "    <tr>\n",
              "      <th>1</th>\n",
              "      <td>orange</td>\n",
              "      <td>2</td>\n",
              "      <td>4</td>\n",
              "    </tr>\n",
              "    <tr>\n",
              "      <th>2</th>\n",
              "      <td>apple</td>\n",
              "      <td>5</td>\n",
              "      <td>25</td>\n",
              "    </tr>\n",
              "    <tr>\n",
              "      <th>3</th>\n",
              "      <td>banana</td>\n",
              "      <td>10</td>\n",
              "      <td>100</td>\n",
              "    </tr>\n",
              "  </tbody>\n",
              "</table>\n",
              "</div>"
            ],
            "text/plain": [
              "    names  price  price_sqr\n",
              "0   apple      1          1\n",
              "1  orange      2          4\n",
              "2   apple      5         25\n",
              "3  banana     10        100"
            ]
          },
          "metadata": {
            "tags": []
          },
          "execution_count": 287
        }
      ]
    },
    {
      "metadata": {
        "id": "P341aCZyN5dI",
        "colab_type": "code",
        "colab": {
          "base_uri": "https://localhost:8080/",
          "height": 173
        },
        "outputId": "c55cf0ed-4b62-4971-c20a-3cf85b9bffbf"
      },
      "cell_type": "code",
      "source": [
        "# add 10 to price of apple\n",
        "idx = df['names'] == 'apple'\n",
        "df.loc[idx,'price'] = df.loc[idx,'price'] + 10\n",
        "df.head()"
      ],
      "execution_count": 288,
      "outputs": [
        {
          "output_type": "execute_result",
          "data": {
            "text/html": [
              "<div>\n",
              "<style scoped>\n",
              "    .dataframe tbody tr th:only-of-type {\n",
              "        vertical-align: middle;\n",
              "    }\n",
              "\n",
              "    .dataframe tbody tr th {\n",
              "        vertical-align: top;\n",
              "    }\n",
              "\n",
              "    .dataframe thead th {\n",
              "        text-align: right;\n",
              "    }\n",
              "</style>\n",
              "<table border=\"1\" class=\"dataframe\">\n",
              "  <thead>\n",
              "    <tr style=\"text-align: right;\">\n",
              "      <th></th>\n",
              "      <th>names</th>\n",
              "      <th>price</th>\n",
              "      <th>price_sqr</th>\n",
              "    </tr>\n",
              "  </thead>\n",
              "  <tbody>\n",
              "    <tr>\n",
              "      <th>0</th>\n",
              "      <td>apple</td>\n",
              "      <td>11</td>\n",
              "      <td>1</td>\n",
              "    </tr>\n",
              "    <tr>\n",
              "      <th>1</th>\n",
              "      <td>orange</td>\n",
              "      <td>2</td>\n",
              "      <td>4</td>\n",
              "    </tr>\n",
              "    <tr>\n",
              "      <th>2</th>\n",
              "      <td>apple</td>\n",
              "      <td>15</td>\n",
              "      <td>25</td>\n",
              "    </tr>\n",
              "    <tr>\n",
              "      <th>3</th>\n",
              "      <td>banana</td>\n",
              "      <td>10</td>\n",
              "      <td>100</td>\n",
              "    </tr>\n",
              "  </tbody>\n",
              "</table>\n",
              "</div>"
            ],
            "text/plain": [
              "    names  price  price_sqr\n",
              "0   apple     11          1\n",
              "1  orange      2          4\n",
              "2   apple     15         25\n",
              "3  banana     10        100"
            ]
          },
          "metadata": {
            "tags": []
          },
          "execution_count": 288
        }
      ]
    },
    {
      "metadata": {
        "id": "bo3fefN_YCyP",
        "colab_type": "code",
        "colab": {
          "base_uri": "https://localhost:8080/",
          "height": 173
        },
        "outputId": "0225f3a2-1f6f-4eab-9cfb-ae6d1d878b07"
      },
      "cell_type": "code",
      "source": [
        "# rename column\n",
        "df.rename(columns = {'names':'name'},inplace=True)\n",
        "df.head()"
      ],
      "execution_count": 289,
      "outputs": [
        {
          "output_type": "execute_result",
          "data": {
            "text/html": [
              "<div>\n",
              "<style scoped>\n",
              "    .dataframe tbody tr th:only-of-type {\n",
              "        vertical-align: middle;\n",
              "    }\n",
              "\n",
              "    .dataframe tbody tr th {\n",
              "        vertical-align: top;\n",
              "    }\n",
              "\n",
              "    .dataframe thead th {\n",
              "        text-align: right;\n",
              "    }\n",
              "</style>\n",
              "<table border=\"1\" class=\"dataframe\">\n",
              "  <thead>\n",
              "    <tr style=\"text-align: right;\">\n",
              "      <th></th>\n",
              "      <th>name</th>\n",
              "      <th>price</th>\n",
              "      <th>price_sqr</th>\n",
              "    </tr>\n",
              "  </thead>\n",
              "  <tbody>\n",
              "    <tr>\n",
              "      <th>0</th>\n",
              "      <td>apple</td>\n",
              "      <td>11</td>\n",
              "      <td>1</td>\n",
              "    </tr>\n",
              "    <tr>\n",
              "      <th>1</th>\n",
              "      <td>orange</td>\n",
              "      <td>2</td>\n",
              "      <td>4</td>\n",
              "    </tr>\n",
              "    <tr>\n",
              "      <th>2</th>\n",
              "      <td>apple</td>\n",
              "      <td>15</td>\n",
              "      <td>25</td>\n",
              "    </tr>\n",
              "    <tr>\n",
              "      <th>3</th>\n",
              "      <td>banana</td>\n",
              "      <td>10</td>\n",
              "      <td>100</td>\n",
              "    </tr>\n",
              "  </tbody>\n",
              "</table>\n",
              "</div>"
            ],
            "text/plain": [
              "     name  price  price_sqr\n",
              "0   apple     11          1\n",
              "1  orange      2          4\n",
              "2   apple     15         25\n",
              "3  banana     10        100"
            ]
          },
          "metadata": {
            "tags": []
          },
          "execution_count": 289
        }
      ]
    },
    {
      "metadata": {
        "id": "uDIkGJvT_XjA",
        "colab_type": "code",
        "colab": {
          "base_uri": "https://localhost:8080/",
          "height": 173
        },
        "outputId": "50e0251b-f533-41e6-d464-34e02f8903c2"
      },
      "cell_type": "code",
      "source": [
        "# sort by name\n",
        "df =df.sort_values(by=['name','price'])\n",
        "df.tail(10)"
      ],
      "execution_count": 290,
      "outputs": [
        {
          "output_type": "execute_result",
          "data": {
            "text/html": [
              "<div>\n",
              "<style scoped>\n",
              "    .dataframe tbody tr th:only-of-type {\n",
              "        vertical-align: middle;\n",
              "    }\n",
              "\n",
              "    .dataframe tbody tr th {\n",
              "        vertical-align: top;\n",
              "    }\n",
              "\n",
              "    .dataframe thead th {\n",
              "        text-align: right;\n",
              "    }\n",
              "</style>\n",
              "<table border=\"1\" class=\"dataframe\">\n",
              "  <thead>\n",
              "    <tr style=\"text-align: right;\">\n",
              "      <th></th>\n",
              "      <th>name</th>\n",
              "      <th>price</th>\n",
              "      <th>price_sqr</th>\n",
              "    </tr>\n",
              "  </thead>\n",
              "  <tbody>\n",
              "    <tr>\n",
              "      <th>0</th>\n",
              "      <td>apple</td>\n",
              "      <td>11</td>\n",
              "      <td>1</td>\n",
              "    </tr>\n",
              "    <tr>\n",
              "      <th>2</th>\n",
              "      <td>apple</td>\n",
              "      <td>15</td>\n",
              "      <td>25</td>\n",
              "    </tr>\n",
              "    <tr>\n",
              "      <th>3</th>\n",
              "      <td>banana</td>\n",
              "      <td>10</td>\n",
              "      <td>100</td>\n",
              "    </tr>\n",
              "    <tr>\n",
              "      <th>1</th>\n",
              "      <td>orange</td>\n",
              "      <td>2</td>\n",
              "      <td>4</td>\n",
              "    </tr>\n",
              "  </tbody>\n",
              "</table>\n",
              "</div>"
            ],
            "text/plain": [
              "     name  price  price_sqr\n",
              "0   apple     11          1\n",
              "2   apple     15         25\n",
              "3  banana     10        100\n",
              "1  orange      2          4"
            ]
          },
          "metadata": {
            "tags": []
          },
          "execution_count": 290
        }
      ]
    },
    {
      "metadata": {
        "id": "TR6UtxU6ArH1",
        "colab_type": "text"
      },
      "cell_type": "markdown",
      "source": [
        "### Multiple dataframes"
      ]
    },
    {
      "metadata": {
        "id": "uIp6TSsMAvKk",
        "colab_type": "code",
        "colab": {
          "base_uri": "https://localhost:8080/",
          "height": 204
        },
        "outputId": "18a82f91-a419-438e-8fab-500805a27dc5"
      },
      "cell_type": "code",
      "source": [
        "# concatenate multiple df's into one\n",
        "df1 = pd.DataFrame({'a':[1,2,3],'b':[3,4,5]})\n",
        "df2 = pd.DataFrame({'a':[10,20,30],'b':[30,40,50]})\n",
        "\n",
        "df_all =[]\n",
        "\n",
        "df_all.append(df1)\n",
        "df_all.append(df2)\n",
        "\n",
        "df_all = pd.concat(df_all)\n",
        "df_all.head()"
      ],
      "execution_count": 308,
      "outputs": [
        {
          "output_type": "execute_result",
          "data": {
            "text/html": [
              "<div>\n",
              "<style scoped>\n",
              "    .dataframe tbody tr th:only-of-type {\n",
              "        vertical-align: middle;\n",
              "    }\n",
              "\n",
              "    .dataframe tbody tr th {\n",
              "        vertical-align: top;\n",
              "    }\n",
              "\n",
              "    .dataframe thead th {\n",
              "        text-align: right;\n",
              "    }\n",
              "</style>\n",
              "<table border=\"1\" class=\"dataframe\">\n",
              "  <thead>\n",
              "    <tr style=\"text-align: right;\">\n",
              "      <th></th>\n",
              "      <th>a</th>\n",
              "      <th>b</th>\n",
              "    </tr>\n",
              "  </thead>\n",
              "  <tbody>\n",
              "    <tr>\n",
              "      <th>0</th>\n",
              "      <td>1</td>\n",
              "      <td>3</td>\n",
              "    </tr>\n",
              "    <tr>\n",
              "      <th>1</th>\n",
              "      <td>2</td>\n",
              "      <td>4</td>\n",
              "    </tr>\n",
              "    <tr>\n",
              "      <th>2</th>\n",
              "      <td>3</td>\n",
              "      <td>5</td>\n",
              "    </tr>\n",
              "    <tr>\n",
              "      <th>0</th>\n",
              "      <td>10</td>\n",
              "      <td>30</td>\n",
              "    </tr>\n",
              "    <tr>\n",
              "      <th>1</th>\n",
              "      <td>20</td>\n",
              "      <td>40</td>\n",
              "    </tr>\n",
              "  </tbody>\n",
              "</table>\n",
              "</div>"
            ],
            "text/plain": [
              "    a   b\n",
              "0   1   3\n",
              "1   2   4\n",
              "2   3   5\n",
              "0  10  30\n",
              "1  20  40"
            ]
          },
          "metadata": {
            "tags": []
          },
          "execution_count": 308
        }
      ]
    },
    {
      "metadata": {
        "id": "iQte7Qf2BQUr",
        "colab_type": "code",
        "colab": {
          "base_uri": "https://localhost:8080/",
          "height": 204
        },
        "outputId": "b39a5767-a9cf-4558-e652-e016b4f94233"
      },
      "cell_type": "code",
      "source": [
        "# reset the index, do not insert the index as a column into the df\n",
        "df_all.reset_index(inplace=True,drop=True)\n",
        "df_all.head()"
      ],
      "execution_count": 309,
      "outputs": [
        {
          "output_type": "execute_result",
          "data": {
            "text/html": [
              "<div>\n",
              "<style scoped>\n",
              "    .dataframe tbody tr th:only-of-type {\n",
              "        vertical-align: middle;\n",
              "    }\n",
              "\n",
              "    .dataframe tbody tr th {\n",
              "        vertical-align: top;\n",
              "    }\n",
              "\n",
              "    .dataframe thead th {\n",
              "        text-align: right;\n",
              "    }\n",
              "</style>\n",
              "<table border=\"1\" class=\"dataframe\">\n",
              "  <thead>\n",
              "    <tr style=\"text-align: right;\">\n",
              "      <th></th>\n",
              "      <th>a</th>\n",
              "      <th>b</th>\n",
              "    </tr>\n",
              "  </thead>\n",
              "  <tbody>\n",
              "    <tr>\n",
              "      <th>0</th>\n",
              "      <td>1</td>\n",
              "      <td>3</td>\n",
              "    </tr>\n",
              "    <tr>\n",
              "      <th>1</th>\n",
              "      <td>2</td>\n",
              "      <td>4</td>\n",
              "    </tr>\n",
              "    <tr>\n",
              "      <th>2</th>\n",
              "      <td>3</td>\n",
              "      <td>5</td>\n",
              "    </tr>\n",
              "    <tr>\n",
              "      <th>3</th>\n",
              "      <td>10</td>\n",
              "      <td>30</td>\n",
              "    </tr>\n",
              "    <tr>\n",
              "      <th>4</th>\n",
              "      <td>20</td>\n",
              "      <td>40</td>\n",
              "    </tr>\n",
              "  </tbody>\n",
              "</table>\n",
              "</div>"
            ],
            "text/plain": [
              "    a   b\n",
              "0   1   3\n",
              "1   2   4\n",
              "2   3   5\n",
              "3  10  30\n",
              "4  20  40"
            ]
          },
          "metadata": {
            "tags": []
          },
          "execution_count": 309
        }
      ]
    },
    {
      "metadata": {
        "id": "xczERf97wPPZ",
        "colab_type": "text"
      },
      "cell_type": "markdown",
      "source": [
        "### Groupby"
      ]
    },
    {
      "metadata": {
        "id": "b5CLBODlwT8u",
        "colab_type": "code",
        "colab": {
          "base_uri": "https://localhost:8080/",
          "height": 204
        },
        "outputId": "699a0539-b219-4bef-ddf2-4f3ca561b346"
      },
      "cell_type": "code",
      "source": [
        "# dataframe from numpy array\n",
        "name = ['apple','orange','apple','banana','banana']\n",
        "price = [1,2,5,10,20]\n",
        "weight = [6,7,10,15,25]\n",
        "df = pd.DataFrame({'name':name,'price':price,'weight':weight})\n",
        "df.head()"
      ],
      "execution_count": 26,
      "outputs": [
        {
          "output_type": "execute_result",
          "data": {
            "text/html": [
              "<div>\n",
              "<style scoped>\n",
              "    .dataframe tbody tr th:only-of-type {\n",
              "        vertical-align: middle;\n",
              "    }\n",
              "\n",
              "    .dataframe tbody tr th {\n",
              "        vertical-align: top;\n",
              "    }\n",
              "\n",
              "    .dataframe thead th {\n",
              "        text-align: right;\n",
              "    }\n",
              "</style>\n",
              "<table border=\"1\" class=\"dataframe\">\n",
              "  <thead>\n",
              "    <tr style=\"text-align: right;\">\n",
              "      <th></th>\n",
              "      <th>name</th>\n",
              "      <th>price</th>\n",
              "      <th>weight</th>\n",
              "    </tr>\n",
              "  </thead>\n",
              "  <tbody>\n",
              "    <tr>\n",
              "      <th>0</th>\n",
              "      <td>apple</td>\n",
              "      <td>1</td>\n",
              "      <td>6</td>\n",
              "    </tr>\n",
              "    <tr>\n",
              "      <th>1</th>\n",
              "      <td>orange</td>\n",
              "      <td>2</td>\n",
              "      <td>7</td>\n",
              "    </tr>\n",
              "    <tr>\n",
              "      <th>2</th>\n",
              "      <td>apple</td>\n",
              "      <td>5</td>\n",
              "      <td>10</td>\n",
              "    </tr>\n",
              "    <tr>\n",
              "      <th>3</th>\n",
              "      <td>banana</td>\n",
              "      <td>10</td>\n",
              "      <td>15</td>\n",
              "    </tr>\n",
              "    <tr>\n",
              "      <th>4</th>\n",
              "      <td>banana</td>\n",
              "      <td>20</td>\n",
              "      <td>25</td>\n",
              "    </tr>\n",
              "  </tbody>\n",
              "</table>\n",
              "</div>"
            ],
            "text/plain": [
              "     name  price  weight\n",
              "0   apple      1       6\n",
              "1  orange      2       7\n",
              "2   apple      5      10\n",
              "3  banana     10      15\n",
              "4  banana     20      25"
            ]
          },
          "metadata": {
            "tags": []
          },
          "execution_count": 26
        }
      ]
    },
    {
      "metadata": {
        "id": "h1oa3EfxxBAg",
        "colab_type": "code",
        "colab": {
          "base_uri": "https://localhost:8080/",
          "height": 119
        },
        "outputId": "70529a93-a416-44bf-a59d-1e565193eb95"
      },
      "cell_type": "code",
      "source": [
        "# group by fruit and calc the average price, \n",
        "df_grp = df.groupby(['name'])['price'].mean() # this will return a pandas series \n",
        "print(df_grp)\n",
        "print(type(df_grp))"
      ],
      "execution_count": 18,
      "outputs": [
        {
          "output_type": "stream",
          "text": [
            "name\n",
            "apple      3\n",
            "banana    15\n",
            "orange     2\n",
            "Name: price, dtype: int64\n",
            "<class 'pandas.core.series.Series'>\n"
          ],
          "name": "stdout"
        }
      ]
    },
    {
      "metadata": {
        "id": "d6o7Utrr0iZo",
        "colab_type": "code",
        "colab": {
          "base_uri": "https://localhost:8080/",
          "height": 119
        },
        "outputId": "32b49ba9-5d89-40ff-f69d-1829dd239b79"
      },
      "cell_type": "code",
      "source": [
        "# groupby fruit and calc the average price\n",
        "df_grp = df.groupby(['name'])[['price','weight']].mean() # will return a df with index equal to the group\n",
        "print(df_grp)\n",
        "print(type(df_grp))"
      ],
      "execution_count": 20,
      "outputs": [
        {
          "output_type": "stream",
          "text": [
            "        price  weight\n",
            "name                 \n",
            "apple       3       8\n",
            "banana     15      20\n",
            "orange      2       7\n",
            "<class 'pandas.core.frame.DataFrame'>\n"
          ],
          "name": "stdout"
        }
      ]
    },
    {
      "metadata": {
        "id": "bPX1MJJR1zM1",
        "colab_type": "code",
        "colab": {
          "base_uri": "https://localhost:8080/",
          "height": 102
        },
        "outputId": "7c1576c6-021c-4485-d6dc-69cadbcb28e9"
      },
      "cell_type": "code",
      "source": [
        "# groupby fruit but make a new index\n",
        "df_grp = df.groupby(['name'],as_index=False)[['price','weight']].mean() # will return a df with index equal to the group\n",
        "print(df_grp)\n",
        "print(type(df_grp))"
      ],
      "execution_count": 22,
      "outputs": [
        {
          "output_type": "stream",
          "text": [
            "     name  price  weight\n",
            "0   apple      3       8\n",
            "1  banana     15      20\n",
            "2  orange      2       7\n",
            "<class 'pandas.core.frame.DataFrame'>\n"
          ],
          "name": "stdout"
        }
      ]
    },
    {
      "metadata": {
        "id": "7dypi0yQyPyt",
        "colab_type": "code",
        "colab": {}
      },
      "cell_type": "code",
      "source": [
        "# now let's make a used defined function to groupby\n",
        "# Volume Weighted Average Price\n",
        "def vwap(x):\n",
        "    return (x['weight'] * x['price']).sum() / x['weight'].sum()"
      ],
      "execution_count": 0,
      "outputs": []
    },
    {
      "metadata": {
        "id": "urGGWmaS217Z",
        "colab_type": "code",
        "colab": {
          "base_uri": "https://localhost:8080/",
          "height": 173
        },
        "outputId": "91a1a099-77a4-41c6-d747-979e63ebe5ee"
      },
      "cell_type": "code",
      "source": [
        "# calc the volume weighted price\n",
        "df_group = pd.DataFrame(df.groupby(['name']).apply(lambda x: vwap(x)))\n",
        "df_group.head()"
      ],
      "execution_count": 32,
      "outputs": [
        {
          "output_type": "execute_result",
          "data": {
            "text/html": [
              "<div>\n",
              "<style scoped>\n",
              "    .dataframe tbody tr th:only-of-type {\n",
              "        vertical-align: middle;\n",
              "    }\n",
              "\n",
              "    .dataframe tbody tr th {\n",
              "        vertical-align: top;\n",
              "    }\n",
              "\n",
              "    .dataframe thead th {\n",
              "        text-align: right;\n",
              "    }\n",
              "</style>\n",
              "<table border=\"1\" class=\"dataframe\">\n",
              "  <thead>\n",
              "    <tr style=\"text-align: right;\">\n",
              "      <th></th>\n",
              "      <th>0</th>\n",
              "    </tr>\n",
              "    <tr>\n",
              "      <th>name</th>\n",
              "      <th></th>\n",
              "    </tr>\n",
              "  </thead>\n",
              "  <tbody>\n",
              "    <tr>\n",
              "      <th>apple</th>\n",
              "      <td>3</td>\n",
              "    </tr>\n",
              "    <tr>\n",
              "      <th>banana</th>\n",
              "      <td>16</td>\n",
              "    </tr>\n",
              "    <tr>\n",
              "      <th>orange</th>\n",
              "      <td>2</td>\n",
              "    </tr>\n",
              "  </tbody>\n",
              "</table>\n",
              "</div>"
            ],
            "text/plain": [
              "         0\n",
              "name      \n",
              "apple    3\n",
              "banana  16\n",
              "orange   2"
            ]
          },
          "metadata": {
            "tags": []
          },
          "execution_count": 32
        }
      ]
    },
    {
      "metadata": {
        "id": "YHZ_MewX3iVe",
        "colab_type": "code",
        "colab": {
          "base_uri": "https://localhost:8080/",
          "height": 173
        },
        "outputId": "13844fca-315c-4f88-de3f-b00b1596eaec"
      },
      "cell_type": "code",
      "source": [
        "# the column is messed up so correct this\n",
        "df_group.rename(columns={ df_group.columns[0]: \"vwap\" }, inplace = True)\n",
        "df_group.head()"
      ],
      "execution_count": 34,
      "outputs": [
        {
          "output_type": "execute_result",
          "data": {
            "text/html": [
              "<div>\n",
              "<style scoped>\n",
              "    .dataframe tbody tr th:only-of-type {\n",
              "        vertical-align: middle;\n",
              "    }\n",
              "\n",
              "    .dataframe tbody tr th {\n",
              "        vertical-align: top;\n",
              "    }\n",
              "\n",
              "    .dataframe thead th {\n",
              "        text-align: right;\n",
              "    }\n",
              "</style>\n",
              "<table border=\"1\" class=\"dataframe\">\n",
              "  <thead>\n",
              "    <tr style=\"text-align: right;\">\n",
              "      <th></th>\n",
              "      <th>vwap</th>\n",
              "    </tr>\n",
              "    <tr>\n",
              "      <th>name</th>\n",
              "      <th></th>\n",
              "    </tr>\n",
              "  </thead>\n",
              "  <tbody>\n",
              "    <tr>\n",
              "      <th>apple</th>\n",
              "      <td>3</td>\n",
              "    </tr>\n",
              "    <tr>\n",
              "      <th>banana</th>\n",
              "      <td>16</td>\n",
              "    </tr>\n",
              "    <tr>\n",
              "      <th>orange</th>\n",
              "      <td>2</td>\n",
              "    </tr>\n",
              "  </tbody>\n",
              "</table>\n",
              "</div>"
            ],
            "text/plain": [
              "        vwap\n",
              "name        \n",
              "apple      3\n",
              "banana    16\n",
              "orange     2"
            ]
          },
          "metadata": {
            "tags": []
          },
          "execution_count": 34
        }
      ]
    },
    {
      "metadata": {
        "id": "E8vAjxfvytEP",
        "colab_type": "code",
        "colab": {
          "base_uri": "https://localhost:8080/",
          "height": 173
        },
        "outputId": "5f92f21c-b44e-4a5d-d00b-dcdc9e17cc03"
      },
      "cell_type": "code",
      "source": [
        "# you can also use the describe function on the group\n",
        "# reference https://www.shanelynn.ie/summarising-aggregation-and-grouping-data-in-python-pandas/\n",
        "df.groupby(['name'])['price'].describe()"
      ],
      "execution_count": 16,
      "outputs": [
        {
          "output_type": "execute_result",
          "data": {
            "text/html": [
              "<div>\n",
              "<style scoped>\n",
              "    .dataframe tbody tr th:only-of-type {\n",
              "        vertical-align: middle;\n",
              "    }\n",
              "\n",
              "    .dataframe tbody tr th {\n",
              "        vertical-align: top;\n",
              "    }\n",
              "\n",
              "    .dataframe thead th {\n",
              "        text-align: right;\n",
              "    }\n",
              "</style>\n",
              "<table border=\"1\" class=\"dataframe\">\n",
              "  <thead>\n",
              "    <tr style=\"text-align: right;\">\n",
              "      <th></th>\n",
              "      <th>count</th>\n",
              "      <th>mean</th>\n",
              "      <th>std</th>\n",
              "      <th>min</th>\n",
              "      <th>25%</th>\n",
              "      <th>50%</th>\n",
              "      <th>75%</th>\n",
              "      <th>max</th>\n",
              "    </tr>\n",
              "    <tr>\n",
              "      <th>name</th>\n",
              "      <th></th>\n",
              "      <th></th>\n",
              "      <th></th>\n",
              "      <th></th>\n",
              "      <th></th>\n",
              "      <th></th>\n",
              "      <th></th>\n",
              "      <th></th>\n",
              "    </tr>\n",
              "  </thead>\n",
              "  <tbody>\n",
              "    <tr>\n",
              "      <th>apple</th>\n",
              "      <td>2.0</td>\n",
              "      <td>3.0</td>\n",
              "      <td>2.828427</td>\n",
              "      <td>1.0</td>\n",
              "      <td>2.0</td>\n",
              "      <td>3.0</td>\n",
              "      <td>4.0</td>\n",
              "      <td>5.0</td>\n",
              "    </tr>\n",
              "    <tr>\n",
              "      <th>banana</th>\n",
              "      <td>2.0</td>\n",
              "      <td>15.0</td>\n",
              "      <td>7.071068</td>\n",
              "      <td>10.0</td>\n",
              "      <td>12.5</td>\n",
              "      <td>15.0</td>\n",
              "      <td>17.5</td>\n",
              "      <td>20.0</td>\n",
              "    </tr>\n",
              "    <tr>\n",
              "      <th>orange</th>\n",
              "      <td>1.0</td>\n",
              "      <td>2.0</td>\n",
              "      <td>NaN</td>\n",
              "      <td>2.0</td>\n",
              "      <td>2.0</td>\n",
              "      <td>2.0</td>\n",
              "      <td>2.0</td>\n",
              "      <td>2.0</td>\n",
              "    </tr>\n",
              "  </tbody>\n",
              "</table>\n",
              "</div>"
            ],
            "text/plain": [
              "        count  mean       std   min   25%   50%   75%   max\n",
              "name                                                       \n",
              "apple     2.0   3.0  2.828427   1.0   2.0   3.0   4.0   5.0\n",
              "banana    2.0  15.0  7.071068  10.0  12.5  15.0  17.5  20.0\n",
              "orange    1.0   2.0       NaN   2.0   2.0   2.0   2.0   2.0"
            ]
          },
          "metadata": {
            "tags": []
          },
          "execution_count": 16
        }
      ]
    },
    {
      "metadata": {
        "id": "Nhzju-OHNpbc",
        "colab_type": "text"
      },
      "cell_type": "markdown",
      "source": [
        "### Indices"
      ]
    },
    {
      "metadata": {
        "id": "WPy22REnNvgL",
        "colab_type": "code",
        "colab": {
          "base_uri": "https://localhost:8080/",
          "height": 102
        },
        "outputId": "c2d3c18c-60da-417d-d727-84c4a01067c4"
      },
      "cell_type": "code",
      "source": [
        "# check whether elements of pandas series are in list\n",
        "df = pd.DataFrame({'name':['Apple','Banana','Citrus','Appel']})\n",
        "idx = df['name'].isin(['Apple','Banana'])\n",
        "print(idx)"
      ],
      "execution_count": 37,
      "outputs": [
        {
          "output_type": "stream",
          "text": [
            "0     True\n",
            "1     True\n",
            "2    False\n",
            "3    False\n",
            "Name: name, dtype: bool\n"
          ],
          "name": "stdout"
        }
      ]
    },
    {
      "metadata": {
        "id": "i_8ANdg-TOuU",
        "colab_type": "text"
      },
      "cell_type": "markdown",
      "source": [
        "## Apply and Map"
      ]
    },
    {
      "metadata": {
        "id": "wAkl7EkDP_aM",
        "colab_type": "code",
        "colab": {
          "base_uri": "https://localhost:8080/",
          "height": 173
        },
        "outputId": "8000bfaf-4704-4c5a-f34e-fa3f3f463048"
      },
      "cell_type": "code",
      "source": [
        "# make new column using the map function\n",
        "# http://book.pythontips.com/en/latest/map_filter.html\n",
        "df['price_sqr_map'] = list(map(lambda x: x**2, df['price']))\n",
        "df.head()"
      ],
      "execution_count": 291,
      "outputs": [
        {
          "output_type": "execute_result",
          "data": {
            "text/html": [
              "<div>\n",
              "<style scoped>\n",
              "    .dataframe tbody tr th:only-of-type {\n",
              "        vertical-align: middle;\n",
              "    }\n",
              "\n",
              "    .dataframe tbody tr th {\n",
              "        vertical-align: top;\n",
              "    }\n",
              "\n",
              "    .dataframe thead th {\n",
              "        text-align: right;\n",
              "    }\n",
              "</style>\n",
              "<table border=\"1\" class=\"dataframe\">\n",
              "  <thead>\n",
              "    <tr style=\"text-align: right;\">\n",
              "      <th></th>\n",
              "      <th>name</th>\n",
              "      <th>price</th>\n",
              "      <th>price_sqr</th>\n",
              "      <th>price_sqr_map</th>\n",
              "    </tr>\n",
              "  </thead>\n",
              "  <tbody>\n",
              "    <tr>\n",
              "      <th>0</th>\n",
              "      <td>apple</td>\n",
              "      <td>11</td>\n",
              "      <td>1</td>\n",
              "      <td>121</td>\n",
              "    </tr>\n",
              "    <tr>\n",
              "      <th>2</th>\n",
              "      <td>apple</td>\n",
              "      <td>15</td>\n",
              "      <td>25</td>\n",
              "      <td>225</td>\n",
              "    </tr>\n",
              "    <tr>\n",
              "      <th>3</th>\n",
              "      <td>banana</td>\n",
              "      <td>10</td>\n",
              "      <td>100</td>\n",
              "      <td>100</td>\n",
              "    </tr>\n",
              "    <tr>\n",
              "      <th>1</th>\n",
              "      <td>orange</td>\n",
              "      <td>2</td>\n",
              "      <td>4</td>\n",
              "      <td>4</td>\n",
              "    </tr>\n",
              "  </tbody>\n",
              "</table>\n",
              "</div>"
            ],
            "text/plain": [
              "     name  price  price_sqr  price_sqr_map\n",
              "0   apple     11          1            121\n",
              "2   apple     15         25            225\n",
              "3  banana     10        100            100\n",
              "1  orange      2          4              4"
            ]
          },
          "metadata": {
            "tags": []
          },
          "execution_count": 291
        }
      ]
    },
    {
      "metadata": {
        "id": "BSWPP13VRVh6",
        "colab_type": "code",
        "colab": {
          "base_uri": "https://localhost:8080/",
          "height": 173
        },
        "outputId": "9654f98f-41bc-4f03-db88-cad2d0c3e71b"
      },
      "cell_type": "code",
      "source": [
        "# make new column using the map function, add price + price_sqr\n",
        "# http://pythonfiddle.com/map-with-multiple-arguments/\n",
        "df['price_sqr_map2'] = list(map(lambda x,y: x+y, df['price'],df['price_sqr']))\n",
        "df.head()"
      ],
      "execution_count": 292,
      "outputs": [
        {
          "output_type": "execute_result",
          "data": {
            "text/html": [
              "<div>\n",
              "<style scoped>\n",
              "    .dataframe tbody tr th:only-of-type {\n",
              "        vertical-align: middle;\n",
              "    }\n",
              "\n",
              "    .dataframe tbody tr th {\n",
              "        vertical-align: top;\n",
              "    }\n",
              "\n",
              "    .dataframe thead th {\n",
              "        text-align: right;\n",
              "    }\n",
              "</style>\n",
              "<table border=\"1\" class=\"dataframe\">\n",
              "  <thead>\n",
              "    <tr style=\"text-align: right;\">\n",
              "      <th></th>\n",
              "      <th>name</th>\n",
              "      <th>price</th>\n",
              "      <th>price_sqr</th>\n",
              "      <th>price_sqr_map</th>\n",
              "      <th>price_sqr_map2</th>\n",
              "    </tr>\n",
              "  </thead>\n",
              "  <tbody>\n",
              "    <tr>\n",
              "      <th>0</th>\n",
              "      <td>apple</td>\n",
              "      <td>11</td>\n",
              "      <td>1</td>\n",
              "      <td>121</td>\n",
              "      <td>12</td>\n",
              "    </tr>\n",
              "    <tr>\n",
              "      <th>2</th>\n",
              "      <td>apple</td>\n",
              "      <td>15</td>\n",
              "      <td>25</td>\n",
              "      <td>225</td>\n",
              "      <td>40</td>\n",
              "    </tr>\n",
              "    <tr>\n",
              "      <th>3</th>\n",
              "      <td>banana</td>\n",
              "      <td>10</td>\n",
              "      <td>100</td>\n",
              "      <td>100</td>\n",
              "      <td>110</td>\n",
              "    </tr>\n",
              "    <tr>\n",
              "      <th>1</th>\n",
              "      <td>orange</td>\n",
              "      <td>2</td>\n",
              "      <td>4</td>\n",
              "      <td>4</td>\n",
              "      <td>6</td>\n",
              "    </tr>\n",
              "  </tbody>\n",
              "</table>\n",
              "</div>"
            ],
            "text/plain": [
              "     name  price  price_sqr  price_sqr_map  price_sqr_map2\n",
              "0   apple     11          1            121              12\n",
              "2   apple     15         25            225              40\n",
              "3  banana     10        100            100             110\n",
              "1  orange      2          4              4               6"
            ]
          },
          "metadata": {
            "tags": []
          },
          "execution_count": 292
        }
      ]
    },
    {
      "metadata": {
        "id": "MPQnj9e9TtQl",
        "colab_type": "text"
      },
      "cell_type": "markdown",
      "source": [
        "## Dates"
      ]
    },
    {
      "metadata": {
        "id": "2jBIHk7A-rzy",
        "colab_type": "text"
      },
      "cell_type": "markdown",
      "source": [
        "### General"
      ]
    },
    {
      "metadata": {
        "id": "k5WI10DCVSpL",
        "colab_type": "code",
        "colab": {
          "base_uri": "https://localhost:8080/",
          "height": 10
        },
        "outputId": "0d8acb3c-1555-480c-d0d7-fe03c3f184cb"
      },
      "cell_type": "code",
      "source": [
        "# create datetime object\n",
        "a = dt.datetime(2018,5,9,0,0) # constructor, a datetime object a is created \n",
        "b = dt.datetime.today() # constructor\n",
        "c = dt.date(2018,10,28)\n",
        "print(a)\n",
        "print (b)\n",
        "print(c)"
      ],
      "execution_count": 293,
      "outputs": [
        {
          "output_type": "stream",
          "text": [
            "2018-05-09 00:00:00\n",
            "2018-05-06 19:47:26.891915\n",
            "2018-10-28\n"
          ],
          "name": "stdout"
        }
      ]
    },
    {
      "metadata": {
        "id": "WGAwB9xKXq4e",
        "colab_type": "code",
        "colab": {
          "base_uri": "https://localhost:8080/",
          "height": 10
        },
        "outputId": "d57817da-599b-445f-a217-fdddf4ff4490"
      },
      "cell_type": "code",
      "source": [
        "# the object has several attributes\n",
        "print (a.year)\n",
        "print (a.month)\n",
        "print(a.date())\n",
        "print(a.isoweekday())"
      ],
      "execution_count": 294,
      "outputs": [
        {
          "output_type": "stream",
          "text": [
            "2018\n",
            "5\n",
            "2018-05-09\n",
            "3\n"
          ],
          "name": "stdout"
        }
      ]
    },
    {
      "metadata": {
        "id": "udlwA_-0WFvb",
        "colab_type": "code",
        "colab": {
          "base_uri": "https://localhost:8080/",
          "height": 10
        },
        "outputId": "73d062c9-82e3-4cf4-df7a-c6ee1b9da132"
      },
      "cell_type": "code",
      "source": [
        "# Conversely, the datetime.strptime() class method creates a datetime object from a string representing a date and time and a corresponding format string\n",
        "a = dt.datetime.strptime('2018-05-09',\"%Y-%m-%d\")\n",
        "print(a)"
      ],
      "execution_count": 295,
      "outputs": [
        {
          "output_type": "stream",
          "text": [
            "2018-05-09 00:00:00\n"
          ],
          "name": "stdout"
        }
      ]
    },
    {
      "metadata": {
        "id": "TgxlAIqIY5lP",
        "colab_type": "code",
        "colab": {
          "base_uri": "https://localhost:8080/",
          "height": 10
        },
        "outputId": "4e2042fa-de18-4d54-d3e0-2e4e1740eee3"
      },
      "cell_type": "code",
      "source": [
        "# convert to string with format\n",
        "print(a.strftime(\"%Y-%m-%d\"))\n",
        "print(a.strftime(\"%Y%m%d\"))\n",
        "print(type(a.strftime(\"%Y%m%d\")))"
      ],
      "execution_count": 296,
      "outputs": [
        {
          "output_type": "stream",
          "text": [
            "2018-05-09\n",
            "20180509\n",
            "<type 'str'>\n"
          ],
          "name": "stdout"
        }
      ]
    },
    {
      "metadata": {
        "id": "nFs_XTT0eNID",
        "colab_type": "code",
        "colab": {
          "base_uri": "https://localhost:8080/",
          "height": 10
        },
        "outputId": "834486a5-1cf3-4a92-9e4c-2a33fd7a3619"
      },
      "cell_type": "code",
      "source": [
        "# make dataframe with only index\n",
        "\n",
        "startdate=dt.datetime(2018,1,1,0,0)\n",
        "enddate=dt.datetime(2018,12,31,23,59)\n",
        "\n",
        "delivery_date = pd.date_range(startdate,enddate,freq='1H',tz='Europe/Amsterdam')\n",
        "df = pd.DataFrame(index = delivery_date) \n",
        "df.reset_index(inplace=True)\n",
        "df.rename(columns={'index':'delivery_date'},inplace=True)\n",
        "print(df.tail(2))"
      ],
      "execution_count": 297,
      "outputs": [
        {
          "output_type": "stream",
          "text": [
            "                 delivery_date\n",
            "8758 2018-12-31 22:00:00+01:00\n",
            "8759 2018-12-31 23:00:00+01:00\n"
          ],
          "name": "stdout"
        }
      ]
    },
    {
      "metadata": {
        "id": "Qu_uBNvmeZej",
        "colab_type": "code",
        "colab": {
          "base_uri": "https://localhost:8080/",
          "height": 10
        },
        "outputId": "3fec560c-a111-4d81-8403-f724ef38a5d3"
      },
      "cell_type": "code",
      "source": [
        "# convert datetime to date\n",
        "df['date'] = df['delivery_date'].apply(lambda x: x.date())\n",
        "print(df.tail(2))"
      ],
      "execution_count": 298,
      "outputs": [
        {
          "output_type": "stream",
          "text": [
            "                 delivery_date        date\n",
            "8758 2018-12-31 22:00:00+01:00  2018-12-31\n",
            "8759 2018-12-31 23:00:00+01:00  2018-12-31\n"
          ],
          "name": "stdout"
        }
      ]
    },
    {
      "metadata": {
        "id": "inNvMTUXfU2Z",
        "colab_type": "code",
        "colab": {
          "base_uri": "https://localhost:8080/",
          "height": 10
        },
        "outputId": "f87daa7d-481b-48cd-e6bc-2729bafa4474"
      },
      "cell_type": "code",
      "source": [
        "# convert to utc\n",
        "df.index = df['delivery_date'] \n",
        "df.index = df.index.tz_convert('UTC') # tz_convert only works on index, as index is unique\n",
        "df['delivery_date_utc'] = df.index\n",
        "df.tail(2)"
      ],
      "execution_count": 299,
      "outputs": [
        {
          "output_type": "execute_result",
          "data": {
            "text/html": [
              "<div>\n",
              "<style scoped>\n",
              "    .dataframe tbody tr th:only-of-type {\n",
              "        vertical-align: middle;\n",
              "    }\n",
              "\n",
              "    .dataframe tbody tr th {\n",
              "        vertical-align: top;\n",
              "    }\n",
              "\n",
              "    .dataframe thead th {\n",
              "        text-align: right;\n",
              "    }\n",
              "</style>\n",
              "<table border=\"1\" class=\"dataframe\">\n",
              "  <thead>\n",
              "    <tr style=\"text-align: right;\">\n",
              "      <th></th>\n",
              "      <th>delivery_date</th>\n",
              "      <th>date</th>\n",
              "      <th>delivery_date_utc</th>\n",
              "    </tr>\n",
              "    <tr>\n",
              "      <th>delivery_date</th>\n",
              "      <th></th>\n",
              "      <th></th>\n",
              "      <th></th>\n",
              "    </tr>\n",
              "  </thead>\n",
              "  <tbody>\n",
              "    <tr>\n",
              "      <th>2018-12-31 21:00:00+00:00</th>\n",
              "      <td>2018-12-31 22:00:00+01:00</td>\n",
              "      <td>2018-12-31</td>\n",
              "      <td>2018-12-31 21:00:00+00:00</td>\n",
              "    </tr>\n",
              "    <tr>\n",
              "      <th>2018-12-31 22:00:00+00:00</th>\n",
              "      <td>2018-12-31 23:00:00+01:00</td>\n",
              "      <td>2018-12-31</td>\n",
              "      <td>2018-12-31 22:00:00+00:00</td>\n",
              "    </tr>\n",
              "  </tbody>\n",
              "</table>\n",
              "</div>"
            ],
            "text/plain": [
              "                                      delivery_date        date  \\\n",
              "delivery_date                                                     \n",
              "2018-12-31 21:00:00+00:00 2018-12-31 22:00:00+01:00  2018-12-31   \n",
              "2018-12-31 22:00:00+00:00 2018-12-31 23:00:00+01:00  2018-12-31   \n",
              "\n",
              "                                  delivery_date_utc  \n",
              "delivery_date                                        \n",
              "2018-12-31 21:00:00+00:00 2018-12-31 21:00:00+00:00  \n",
              "2018-12-31 22:00:00+00:00 2018-12-31 22:00:00+00:00  "
            ]
          },
          "metadata": {
            "tags": []
          },
          "execution_count": 299
        }
      ]
    },
    {
      "metadata": {
        "id": "RiT0C6kOw7kK",
        "colab_type": "code",
        "colab": {
          "base_uri": "https://localhost:8080/",
          "height": 10
        },
        "outputId": "085004e4-d2bb-40e3-cae9-97d3809463f3"
      },
      "cell_type": "code",
      "source": [
        "idx = df['date']==dt.date(2018,10,28)\n",
        "df[idx].head(5)"
      ],
      "execution_count": 300,
      "outputs": [
        {
          "output_type": "execute_result",
          "data": {
            "text/html": [
              "<div>\n",
              "<style scoped>\n",
              "    .dataframe tbody tr th:only-of-type {\n",
              "        vertical-align: middle;\n",
              "    }\n",
              "\n",
              "    .dataframe tbody tr th {\n",
              "        vertical-align: top;\n",
              "    }\n",
              "\n",
              "    .dataframe thead th {\n",
              "        text-align: right;\n",
              "    }\n",
              "</style>\n",
              "<table border=\"1\" class=\"dataframe\">\n",
              "  <thead>\n",
              "    <tr style=\"text-align: right;\">\n",
              "      <th></th>\n",
              "      <th>delivery_date</th>\n",
              "      <th>date</th>\n",
              "      <th>delivery_date_utc</th>\n",
              "    </tr>\n",
              "    <tr>\n",
              "      <th>delivery_date</th>\n",
              "      <th></th>\n",
              "      <th></th>\n",
              "      <th></th>\n",
              "    </tr>\n",
              "  </thead>\n",
              "  <tbody>\n",
              "    <tr>\n",
              "      <th>2018-10-27 22:00:00+00:00</th>\n",
              "      <td>2018-10-28 00:00:00+02:00</td>\n",
              "      <td>2018-10-28</td>\n",
              "      <td>2018-10-27 22:00:00+00:00</td>\n",
              "    </tr>\n",
              "    <tr>\n",
              "      <th>2018-10-27 23:00:00+00:00</th>\n",
              "      <td>2018-10-28 01:00:00+02:00</td>\n",
              "      <td>2018-10-28</td>\n",
              "      <td>2018-10-27 23:00:00+00:00</td>\n",
              "    </tr>\n",
              "    <tr>\n",
              "      <th>2018-10-28 00:00:00+00:00</th>\n",
              "      <td>2018-10-28 02:00:00+02:00</td>\n",
              "      <td>2018-10-28</td>\n",
              "      <td>2018-10-28 00:00:00+00:00</td>\n",
              "    </tr>\n",
              "    <tr>\n",
              "      <th>2018-10-28 01:00:00+00:00</th>\n",
              "      <td>2018-10-28 02:00:00+01:00</td>\n",
              "      <td>2018-10-28</td>\n",
              "      <td>2018-10-28 01:00:00+00:00</td>\n",
              "    </tr>\n",
              "    <tr>\n",
              "      <th>2018-10-28 02:00:00+00:00</th>\n",
              "      <td>2018-10-28 03:00:00+01:00</td>\n",
              "      <td>2018-10-28</td>\n",
              "      <td>2018-10-28 02:00:00+00:00</td>\n",
              "    </tr>\n",
              "  </tbody>\n",
              "</table>\n",
              "</div>"
            ],
            "text/plain": [
              "                                      delivery_date        date  \\\n",
              "delivery_date                                                     \n",
              "2018-10-27 22:00:00+00:00 2018-10-28 00:00:00+02:00  2018-10-28   \n",
              "2018-10-27 23:00:00+00:00 2018-10-28 01:00:00+02:00  2018-10-28   \n",
              "2018-10-28 00:00:00+00:00 2018-10-28 02:00:00+02:00  2018-10-28   \n",
              "2018-10-28 01:00:00+00:00 2018-10-28 02:00:00+01:00  2018-10-28   \n",
              "2018-10-28 02:00:00+00:00 2018-10-28 03:00:00+01:00  2018-10-28   \n",
              "\n",
              "                                  delivery_date_utc  \n",
              "delivery_date                                        \n",
              "2018-10-27 22:00:00+00:00 2018-10-27 22:00:00+00:00  \n",
              "2018-10-27 23:00:00+00:00 2018-10-27 23:00:00+00:00  \n",
              "2018-10-28 00:00:00+00:00 2018-10-28 00:00:00+00:00  \n",
              "2018-10-28 01:00:00+00:00 2018-10-28 01:00:00+00:00  \n",
              "2018-10-28 02:00:00+00:00 2018-10-28 02:00:00+00:00  "
            ]
          },
          "metadata": {
            "tags": []
          },
          "execution_count": 300
        }
      ]
    },
    {
      "metadata": {
        "id": "2ze9iuN_-g_Y",
        "colab_type": "code",
        "colab": {
          "base_uri": "https://localhost:8080/",
          "height": 10
        },
        "outputId": "562a9407-a331-4420-a9f1-c4c8798d5d16"
      },
      "cell_type": "code",
      "source": [
        "# now make a timezone aware\n",
        "a = dt.datetime(2018,5,9,0,0) # constructor, a datetime object a is created \n",
        "tzinfo = pytz.timezone('Europe/Amsterdam')\n",
        "b = tzinfo.localize(a)\n",
        "print (b)"
      ],
      "execution_count": 301,
      "outputs": [
        {
          "output_type": "stream",
          "text": [
            "2018-05-09 00:00:00+02:00\n"
          ],
          "name": "stdout"
        }
      ]
    },
    {
      "metadata": {
        "id": "9B8_ZuYG-k4J",
        "colab_type": "code",
        "colab": {
          "base_uri": "https://localhost:8080/",
          "height": 10
        },
        "outputId": "c48b4f16-34f4-4130-e1d7-037b1933dcf8"
      },
      "cell_type": "code",
      "source": [
        "print (dt.datetime.today())"
      ],
      "execution_count": 302,
      "outputs": [
        {
          "output_type": "stream",
          "text": [
            "2018-05-06 19:47:31.531298\n"
          ],
          "name": "stdout"
        }
      ]
    },
    {
      "metadata": {
        "id": "Vbh-10EN-XgI",
        "colab_type": "text"
      },
      "cell_type": "markdown",
      "source": [
        "### Example Tennet data"
      ]
    },
    {
      "metadata": {
        "id": "9gCgVf6I1saQ",
        "colab_type": "code",
        "colab": {
          "base_uri": "https://localhost:8080/",
          "height": 142
        },
        "outputId": "4d70ea26-b536-42f3-cef6-07e39b4ab3f1"
      },
      "cell_type": "code",
      "source": [
        "date_start = dt.date(2017,1,1).strftime(\"%d-%m-%Y\")\n",
        "date_end = dt.date(2017,12,31).strftime(\"%d-%m-%Y\")\n",
        "tennet_url = \"http://www.tennet.org/bedrijfsvoering/ExporteerData.aspx?exporttype=verrekenprijzen&format=csv&datefrom={}&dateto={}&submit=1\".format(date_start, date_end)\n",
        "\n",
        "cols = ['datum', 'PTE', 'periode_van','periode_tm','Afnemen','invoeden']\n",
        "\n",
        "df_prices = pd.read_csv(tennet_url,usecols=cols,decimal=',')\n",
        "df_prices.head(3)"
      ],
      "execution_count": 303,
      "outputs": [
        {
          "output_type": "execute_result",
          "data": {
            "text/html": [
              "<div>\n",
              "<style scoped>\n",
              "    .dataframe tbody tr th:only-of-type {\n",
              "        vertical-align: middle;\n",
              "    }\n",
              "\n",
              "    .dataframe tbody tr th {\n",
              "        vertical-align: top;\n",
              "    }\n",
              "\n",
              "    .dataframe thead th {\n",
              "        text-align: right;\n",
              "    }\n",
              "</style>\n",
              "<table border=\"1\" class=\"dataframe\">\n",
              "  <thead>\n",
              "    <tr style=\"text-align: right;\">\n",
              "      <th></th>\n",
              "      <th>datum</th>\n",
              "      <th>PTE</th>\n",
              "      <th>periode_van</th>\n",
              "      <th>periode_tm</th>\n",
              "      <th>Afnemen</th>\n",
              "      <th>invoeden</th>\n",
              "    </tr>\n",
              "  </thead>\n",
              "  <tbody>\n",
              "    <tr>\n",
              "      <th>0</th>\n",
              "      <td>01-01-2017</td>\n",
              "      <td>1</td>\n",
              "      <td>00:00</td>\n",
              "      <td>00:15</td>\n",
              "      <td>250.00</td>\n",
              "      <td>-200.00</td>\n",
              "    </tr>\n",
              "    <tr>\n",
              "      <th>1</th>\n",
              "      <td>01-01-2017</td>\n",
              "      <td>2</td>\n",
              "      <td>00:15</td>\n",
              "      <td>00:30</td>\n",
              "      <td>250.00</td>\n",
              "      <td>250.00</td>\n",
              "    </tr>\n",
              "    <tr>\n",
              "      <th>2</th>\n",
              "      <td>01-01-2017</td>\n",
              "      <td>3</td>\n",
              "      <td>00:30</td>\n",
              "      <td>00:45</td>\n",
              "      <td>33.56</td>\n",
              "      <td>33.56</td>\n",
              "    </tr>\n",
              "  </tbody>\n",
              "</table>\n",
              "</div>"
            ],
            "text/plain": [
              "        datum  PTE periode_van periode_tm  Afnemen  invoeden\n",
              "0  01-01-2017    1       00:00      00:15   250.00   -200.00\n",
              "1  01-01-2017    2       00:15      00:30   250.00    250.00\n",
              "2  01-01-2017    3       00:30      00:45    33.56     33.56"
            ]
          },
          "metadata": {
            "tags": []
          },
          "execution_count": 303
        }
      ]
    },
    {
      "metadata": {
        "id": "Jxz-Rr525TSL",
        "colab_type": "code",
        "colab": {
          "base_uri": "https://localhost:8080/",
          "height": 142
        },
        "outputId": "aa5ab565-3e77-4486-a805-889043474c6f"
      },
      "cell_type": "code",
      "source": [
        "col2drop = ['periode_tm']\n",
        "df_prices.drop(col2drop,axis=1,inplace=True)\n",
        "df_prices.head(3)"
      ],
      "execution_count": 304,
      "outputs": [
        {
          "output_type": "execute_result",
          "data": {
            "text/html": [
              "<div>\n",
              "<style scoped>\n",
              "    .dataframe tbody tr th:only-of-type {\n",
              "        vertical-align: middle;\n",
              "    }\n",
              "\n",
              "    .dataframe tbody tr th {\n",
              "        vertical-align: top;\n",
              "    }\n",
              "\n",
              "    .dataframe thead th {\n",
              "        text-align: right;\n",
              "    }\n",
              "</style>\n",
              "<table border=\"1\" class=\"dataframe\">\n",
              "  <thead>\n",
              "    <tr style=\"text-align: right;\">\n",
              "      <th></th>\n",
              "      <th>datum</th>\n",
              "      <th>PTE</th>\n",
              "      <th>periode_van</th>\n",
              "      <th>Afnemen</th>\n",
              "      <th>invoeden</th>\n",
              "    </tr>\n",
              "  </thead>\n",
              "  <tbody>\n",
              "    <tr>\n",
              "      <th>0</th>\n",
              "      <td>01-01-2017</td>\n",
              "      <td>1</td>\n",
              "      <td>00:00</td>\n",
              "      <td>250.00</td>\n",
              "      <td>-200.00</td>\n",
              "    </tr>\n",
              "    <tr>\n",
              "      <th>1</th>\n",
              "      <td>01-01-2017</td>\n",
              "      <td>2</td>\n",
              "      <td>00:15</td>\n",
              "      <td>250.00</td>\n",
              "      <td>250.00</td>\n",
              "    </tr>\n",
              "    <tr>\n",
              "      <th>2</th>\n",
              "      <td>01-01-2017</td>\n",
              "      <td>3</td>\n",
              "      <td>00:30</td>\n",
              "      <td>33.56</td>\n",
              "      <td>33.56</td>\n",
              "    </tr>\n",
              "  </tbody>\n",
              "</table>\n",
              "</div>"
            ],
            "text/plain": [
              "        datum  PTE periode_van  Afnemen  invoeden\n",
              "0  01-01-2017    1       00:00   250.00   -200.00\n",
              "1  01-01-2017    2       00:15   250.00    250.00\n",
              "2  01-01-2017    3       00:30    33.56     33.56"
            ]
          },
          "metadata": {
            "tags": []
          },
          "execution_count": 304
        }
      ]
    },
    {
      "metadata": {
        "id": "OLIQMCeW4QcH",
        "colab_type": "code",
        "colab": {
          "base_uri": "https://localhost:8080/",
          "height": 142
        },
        "outputId": "05cb76b5-b369-4aa7-b017-7fce422c87c6"
      },
      "cell_type": "code",
      "source": [
        "# convert datetime to utc\n",
        "amsterdam = pytz.timezone('Europe/Amsterdam')\n",
        "df_prices.index = pd.to_datetime(df_prices['datum'] + \" \" + df_prices['periode_van'],format='%d-%m-%Y %H:%M')\n",
        "df_prices.index = df_prices.index.tz_localize(amsterdam, ambiguous='infer')\n",
        "\n",
        "# save local date in column so the index can be converted\n",
        "df_prices['datetime_local'] = df_prices.index\n",
        "df_prices.index = df_prices.index.tz_convert('UTC')\n",
        "df_prices.head(3)"
      ],
      "execution_count": 305,
      "outputs": [
        {
          "output_type": "execute_result",
          "data": {
            "text/html": [
              "<div>\n",
              "<style scoped>\n",
              "    .dataframe tbody tr th:only-of-type {\n",
              "        vertical-align: middle;\n",
              "    }\n",
              "\n",
              "    .dataframe tbody tr th {\n",
              "        vertical-align: top;\n",
              "    }\n",
              "\n",
              "    .dataframe thead th {\n",
              "        text-align: right;\n",
              "    }\n",
              "</style>\n",
              "<table border=\"1\" class=\"dataframe\">\n",
              "  <thead>\n",
              "    <tr style=\"text-align: right;\">\n",
              "      <th></th>\n",
              "      <th>datum</th>\n",
              "      <th>PTE</th>\n",
              "      <th>periode_van</th>\n",
              "      <th>Afnemen</th>\n",
              "      <th>invoeden</th>\n",
              "      <th>datetime_local</th>\n",
              "    </tr>\n",
              "  </thead>\n",
              "  <tbody>\n",
              "    <tr>\n",
              "      <th>2016-12-31 23:00:00+00:00</th>\n",
              "      <td>01-01-2017</td>\n",
              "      <td>1</td>\n",
              "      <td>00:00</td>\n",
              "      <td>250.00</td>\n",
              "      <td>-200.00</td>\n",
              "      <td>2017-01-01 00:00:00+01:00</td>\n",
              "    </tr>\n",
              "    <tr>\n",
              "      <th>2016-12-31 23:15:00+00:00</th>\n",
              "      <td>01-01-2017</td>\n",
              "      <td>2</td>\n",
              "      <td>00:15</td>\n",
              "      <td>250.00</td>\n",
              "      <td>250.00</td>\n",
              "      <td>2017-01-01 00:15:00+01:00</td>\n",
              "    </tr>\n",
              "    <tr>\n",
              "      <th>2016-12-31 23:30:00+00:00</th>\n",
              "      <td>01-01-2017</td>\n",
              "      <td>3</td>\n",
              "      <td>00:30</td>\n",
              "      <td>33.56</td>\n",
              "      <td>33.56</td>\n",
              "      <td>2017-01-01 00:30:00+01:00</td>\n",
              "    </tr>\n",
              "  </tbody>\n",
              "</table>\n",
              "</div>"
            ],
            "text/plain": [
              "                                datum  PTE periode_van  Afnemen  invoeden  \\\n",
              "2016-12-31 23:00:00+00:00  01-01-2017    1       00:00   250.00   -200.00   \n",
              "2016-12-31 23:15:00+00:00  01-01-2017    2       00:15   250.00    250.00   \n",
              "2016-12-31 23:30:00+00:00  01-01-2017    3       00:30    33.56     33.56   \n",
              "\n",
              "                                     datetime_local  \n",
              "2016-12-31 23:00:00+00:00 2017-01-01 00:00:00+01:00  \n",
              "2016-12-31 23:15:00+00:00 2017-01-01 00:15:00+01:00  \n",
              "2016-12-31 23:30:00+00:00 2017-01-01 00:30:00+01:00  "
            ]
          },
          "metadata": {
            "tags": []
          },
          "execution_count": 305
        }
      ]
    },
    {
      "metadata": {
        "id": "1dZCl3NAWuDv",
        "colab_type": "code",
        "colab": {
          "base_uri": "https://localhost:8080/",
          "height": 159
        },
        "outputId": "bb4897e0-8d6f-4a7e-fd5a-9dd9a1a6bee4"
      },
      "cell_type": "code",
      "source": [
        "# round/truncate datetime by replacing the minute by zero\n",
        "t0 = time.time()\n",
        "\n",
        "df_prices['datetime_local_trunc'] = df_prices['datetime_local'].apply(lambda x: x.replace(minute=0))\n",
        "\n",
        "t1 = time.time()\n",
        "\n",
        "print(t1-t0)\n",
        "\n",
        "df_prices.head(3)"
      ],
      "execution_count": 312,
      "outputs": [
        {
          "output_type": "stream",
          "text": [
            "0.816968917847\n"
          ],
          "name": "stdout"
        },
        {
          "output_type": "execute_result",
          "data": {
            "text/html": [
              "<div>\n",
              "<style scoped>\n",
              "    .dataframe tbody tr th:only-of-type {\n",
              "        vertical-align: middle;\n",
              "    }\n",
              "\n",
              "    .dataframe tbody tr th {\n",
              "        vertical-align: top;\n",
              "    }\n",
              "\n",
              "    .dataframe thead th {\n",
              "        text-align: right;\n",
              "    }\n",
              "</style>\n",
              "<table border=\"1\" class=\"dataframe\">\n",
              "  <thead>\n",
              "    <tr style=\"text-align: right;\">\n",
              "      <th></th>\n",
              "      <th>datum</th>\n",
              "      <th>PTE</th>\n",
              "      <th>periode_van</th>\n",
              "      <th>Afnemen</th>\n",
              "      <th>invoeden</th>\n",
              "      <th>datetime_local</th>\n",
              "      <th>datetime_local_trunc</th>\n",
              "    </tr>\n",
              "  </thead>\n",
              "  <tbody>\n",
              "    <tr>\n",
              "      <th>2016-12-31 23:00:00+00:00</th>\n",
              "      <td>01-01-2017</td>\n",
              "      <td>1</td>\n",
              "      <td>00:00</td>\n",
              "      <td>250.00</td>\n",
              "      <td>-200.00</td>\n",
              "      <td>2017-01-01 00:00:00+01:00</td>\n",
              "      <td>2017-01-01 00:00:00+01:00</td>\n",
              "    </tr>\n",
              "    <tr>\n",
              "      <th>2016-12-31 23:15:00+00:00</th>\n",
              "      <td>01-01-2017</td>\n",
              "      <td>2</td>\n",
              "      <td>00:15</td>\n",
              "      <td>250.00</td>\n",
              "      <td>250.00</td>\n",
              "      <td>2017-01-01 00:15:00+01:00</td>\n",
              "      <td>2017-01-01 00:00:00+01:00</td>\n",
              "    </tr>\n",
              "    <tr>\n",
              "      <th>2016-12-31 23:30:00+00:00</th>\n",
              "      <td>01-01-2017</td>\n",
              "      <td>3</td>\n",
              "      <td>00:30</td>\n",
              "      <td>33.56</td>\n",
              "      <td>33.56</td>\n",
              "      <td>2017-01-01 00:30:00+01:00</td>\n",
              "      <td>2017-01-01 00:00:00+01:00</td>\n",
              "    </tr>\n",
              "  </tbody>\n",
              "</table>\n",
              "</div>"
            ],
            "text/plain": [
              "                                datum  PTE periode_van  Afnemen  invoeden  \\\n",
              "2016-12-31 23:00:00+00:00  01-01-2017    1       00:00   250.00   -200.00   \n",
              "2016-12-31 23:15:00+00:00  01-01-2017    2       00:15   250.00    250.00   \n",
              "2016-12-31 23:30:00+00:00  01-01-2017    3       00:30    33.56     33.56   \n",
              "\n",
              "                                     datetime_local      datetime_local_trunc  \n",
              "2016-12-31 23:00:00+00:00 2017-01-01 00:00:00+01:00 2017-01-01 00:00:00+01:00  \n",
              "2016-12-31 23:15:00+00:00 2017-01-01 00:15:00+01:00 2017-01-01 00:00:00+01:00  \n",
              "2016-12-31 23:30:00+00:00 2017-01-01 00:30:00+01:00 2017-01-01 00:00:00+01:00  "
            ]
          },
          "metadata": {
            "tags": []
          },
          "execution_count": 312
        }
      ]
    },
    {
      "metadata": {
        "id": "KvzQRuBCCU6s",
        "colab_type": "code",
        "colab": {
          "base_uri": "https://localhost:8080/",
          "height": 159
        },
        "outputId": "bbdb0706-1853-4827-d7bd-7d810ff50d94"
      },
      "cell_type": "code",
      "source": [
        "# round/truncate datetime by replacing the minute by zero\n",
        "t0 = time.time()\n",
        "\n",
        "df_prices['datetime_local_trunc2'] = list(map(lambda x: x.replace(minute=0), df_prices['datetime_local']))\n",
        "\n",
        "t1 = time.time()\n",
        "\n",
        "print(t1-t0)\n",
        "\n",
        "df_prices.head(3)"
      ],
      "execution_count": 313,
      "outputs": [
        {
          "output_type": "stream",
          "text": [
            "0.787879943848\n"
          ],
          "name": "stdout"
        },
        {
          "output_type": "execute_result",
          "data": {
            "text/html": [
              "<div>\n",
              "<style scoped>\n",
              "    .dataframe tbody tr th:only-of-type {\n",
              "        vertical-align: middle;\n",
              "    }\n",
              "\n",
              "    .dataframe tbody tr th {\n",
              "        vertical-align: top;\n",
              "    }\n",
              "\n",
              "    .dataframe thead th {\n",
              "        text-align: right;\n",
              "    }\n",
              "</style>\n",
              "<table border=\"1\" class=\"dataframe\">\n",
              "  <thead>\n",
              "    <tr style=\"text-align: right;\">\n",
              "      <th></th>\n",
              "      <th>datum</th>\n",
              "      <th>PTE</th>\n",
              "      <th>periode_van</th>\n",
              "      <th>Afnemen</th>\n",
              "      <th>invoeden</th>\n",
              "      <th>datetime_local</th>\n",
              "      <th>datetime_local_trunc</th>\n",
              "      <th>datetime_local_trunc2</th>\n",
              "    </tr>\n",
              "  </thead>\n",
              "  <tbody>\n",
              "    <tr>\n",
              "      <th>2016-12-31 23:00:00+00:00</th>\n",
              "      <td>01-01-2017</td>\n",
              "      <td>1</td>\n",
              "      <td>00:00</td>\n",
              "      <td>250.00</td>\n",
              "      <td>-200.00</td>\n",
              "      <td>2017-01-01 00:00:00+01:00</td>\n",
              "      <td>2017-01-01 00:00:00+01:00</td>\n",
              "      <td>2017-01-01 00:00:00+01:00</td>\n",
              "    </tr>\n",
              "    <tr>\n",
              "      <th>2016-12-31 23:15:00+00:00</th>\n",
              "      <td>01-01-2017</td>\n",
              "      <td>2</td>\n",
              "      <td>00:15</td>\n",
              "      <td>250.00</td>\n",
              "      <td>250.00</td>\n",
              "      <td>2017-01-01 00:15:00+01:00</td>\n",
              "      <td>2017-01-01 00:00:00+01:00</td>\n",
              "      <td>2017-01-01 00:00:00+01:00</td>\n",
              "    </tr>\n",
              "    <tr>\n",
              "      <th>2016-12-31 23:30:00+00:00</th>\n",
              "      <td>01-01-2017</td>\n",
              "      <td>3</td>\n",
              "      <td>00:30</td>\n",
              "      <td>33.56</td>\n",
              "      <td>33.56</td>\n",
              "      <td>2017-01-01 00:30:00+01:00</td>\n",
              "      <td>2017-01-01 00:00:00+01:00</td>\n",
              "      <td>2017-01-01 00:00:00+01:00</td>\n",
              "    </tr>\n",
              "  </tbody>\n",
              "</table>\n",
              "</div>"
            ],
            "text/plain": [
              "                                datum  PTE periode_van  Afnemen  invoeden  \\\n",
              "2016-12-31 23:00:00+00:00  01-01-2017    1       00:00   250.00   -200.00   \n",
              "2016-12-31 23:15:00+00:00  01-01-2017    2       00:15   250.00    250.00   \n",
              "2016-12-31 23:30:00+00:00  01-01-2017    3       00:30    33.56     33.56   \n",
              "\n",
              "                                     datetime_local      datetime_local_trunc  \\\n",
              "2016-12-31 23:00:00+00:00 2017-01-01 00:00:00+01:00 2017-01-01 00:00:00+01:00   \n",
              "2016-12-31 23:15:00+00:00 2017-01-01 00:15:00+01:00 2017-01-01 00:00:00+01:00   \n",
              "2016-12-31 23:30:00+00:00 2017-01-01 00:30:00+01:00 2017-01-01 00:00:00+01:00   \n",
              "\n",
              "                              datetime_local_trunc2  \n",
              "2016-12-31 23:00:00+00:00 2017-01-01 00:00:00+01:00  \n",
              "2016-12-31 23:15:00+00:00 2017-01-01 00:00:00+01:00  \n",
              "2016-12-31 23:30:00+00:00 2017-01-01 00:00:00+01:00  "
            ]
          },
          "metadata": {
            "tags": []
          },
          "execution_count": 313
        }
      ]
    },
    {
      "metadata": {
        "id": "P5KPsV62D8Ih",
        "colab_type": "code",
        "colab": {
          "base_uri": "https://localhost:8080/",
          "height": 163
        },
        "outputId": "0f64ddaa-0bf0-4b09-afc6-daf87442710b"
      },
      "cell_type": "code",
      "source": [
        "1/0"
      ],
      "execution_count": 4,
      "outputs": [
        {
          "output_type": "error",
          "ename": "ZeroDivisionError",
          "evalue": "ignored",
          "traceback": [
            "\u001b[0;31m\u001b[0m",
            "\u001b[0;31mZeroDivisionError\u001b[0mTraceback (most recent call last)",
            "\u001b[0;32m<ipython-input-4-9e1622b385b6>\u001b[0m in \u001b[0;36m<module>\u001b[0;34m()\u001b[0m\n\u001b[0;32m----> 1\u001b[0;31m \u001b[0;36m1\u001b[0m\u001b[0;34m/\u001b[0m\u001b[0;36m0\u001b[0m\u001b[0;34m\u001b[0m\u001b[0m\n\u001b[0m",
            "\u001b[0;31mZeroDivisionError\u001b[0m: integer division or modulo by zero"
          ]
        }
      ]
    },
    {
      "metadata": {
        "id": "KlAzFNbaoz1B",
        "colab_type": "code",
        "colab": {}
      },
      "cell_type": "code",
      "source": [
        ""
      ],
      "execution_count": 0,
      "outputs": []
    }
  ]
}