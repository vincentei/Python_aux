{
  "nbformat": 4,
  "nbformat_minor": 0,
  "metadata": {
    "colab": {
      "name": "python_examples.ipynb",
      "version": "0.3.2",
      "provenance": [],
      "collapsed_sections": [
        "9ZikxMnRTdYi"
      ],
      "toc_visible": true,
      "include_colab_link": true
    },
    "kernelspec": {
      "display_name": "Python [conda root]",
      "language": "python",
      "name": "conda-root-py"
    }
  },
  "cells": [
    {
      "cell_type": "markdown",
      "metadata": {
        "id": "view-in-github",
        "colab_type": "text"
      },
      "source": [
        "[View in Colaboratory](https://colab.research.google.com/github/vincentei/Python_aux/blob/master/python_examples.ipynb)"
      ]
    },
    {
      "metadata": {
        "id": "KpfRTPUZTdXi",
        "colab_type": "code",
        "colab": {}
      },
      "cell_type": "code",
      "source": [
        "import numpy as np\n",
        "import pandas as pd\n",
        "import matplotlib.pyplot as plt\n",
        "\n",
        "import datetime as dt\n",
        "import pytz\n",
        "import time\n",
        "import os\n",
        "import sys\n",
        "import dateutil.parser"
      ],
      "execution_count": 0,
      "outputs": []
    },
    {
      "metadata": {
        "id": "dB-FyYjo077L",
        "colab_type": "code",
        "colab": {}
      },
      "cell_type": "code",
      "source": [
        "import sys\n",
        "if sys.version_info[0] < 3: \n",
        "    from StringIO import StringIO\n",
        "else:\n",
        "    from io import StringIO"
      ],
      "execution_count": 0,
      "outputs": []
    },
    {
      "metadata": {
        "id": "bikwzGmATdXn",
        "colab_type": "text"
      },
      "cell_type": "markdown",
      "source": [
        "## Numpy"
      ]
    },
    {
      "metadata": {
        "id": "5NwipL3UTdXo",
        "colab_type": "code",
        "colab": {
          "base_uri": "https://localhost:8080/",
          "height": 51
        },
        "outputId": "1ca1c220-5f0b-4a51-c40d-d47c08a2cd78"
      },
      "cell_type": "code",
      "source": [
        "# creating numpy arrays with dimension (3,2) and (2,4) , (n,m) * (m,k)\n",
        "A = np.array([[1,2], [3,4],[5,6]])\n",
        "B = np.array([[1,2,3,4], [5,6,7,8]])\n",
        "print (A.shape)\n",
        "print (B.shape)"
      ],
      "execution_count": 17,
      "outputs": [
        {
          "output_type": "stream",
          "text": [
            "(3, 2)\n",
            "(2, 4)\n"
          ],
          "name": "stdout"
        }
      ]
    },
    {
      "metadata": {
        "id": "9GsZfSePTdXu",
        "colab_type": "code",
        "colab": {
          "base_uri": "https://localhost:8080/",
          "height": 34
        },
        "outputId": "224c7300-0bb4-4a27-8b56-7d9229235ea6"
      },
      "cell_type": "code",
      "source": [
        "# calc multiply two matrices, dot product between two matrices\n",
        "C = np.matmul(A,B)\n",
        "print (C.shape)"
      ],
      "execution_count": 18,
      "outputs": [
        {
          "output_type": "stream",
          "text": [
            "(3, 4)\n"
          ],
          "name": "stdout"
        }
      ]
    },
    {
      "metadata": {
        "id": "c79dfJQyTdXy",
        "colab_type": "code",
        "colab": {
          "base_uri": "https://localhost:8080/",
          "height": 68
        },
        "outputId": "338d354d-53f1-4198-a03d-640fbd7ef853"
      },
      "cell_type": "code",
      "source": [
        "# create numpy array with range from 1 to 10, then reshape into (2,5) matrix\n",
        "a = np.arange(1,11)\n",
        "print (a)\n",
        "A = a.reshape(2,5)\n",
        "print (A)"
      ],
      "execution_count": 19,
      "outputs": [
        {
          "output_type": "stream",
          "text": [
            "[ 1  2  3  4  5  6  7  8  9 10]\n",
            "[[ 1  2  3  4  5]\n",
            " [ 6  7  8  9 10]]\n"
          ],
          "name": "stdout"
        }
      ]
    },
    {
      "metadata": {
        "id": "WMIF2D6NTdX2",
        "colab_type": "code",
        "colab": {}
      },
      "cell_type": "code",
      "source": [
        "# now create (2,3) random numpy with same seed\n",
        "np.random.seed(42)\n",
        "A = np.random.randn(3,10)"
      ],
      "execution_count": 0,
      "outputs": []
    },
    {
      "metadata": {
        "id": "YCvF3gk0TdX5",
        "colab_type": "code",
        "colab": {
          "base_uri": "https://localhost:8080/",
          "height": 34
        },
        "outputId": "90fee259-7584-4242-a00c-72e7b8a2b7d2"
      },
      "cell_type": "code",
      "source": [
        "# concatenate two arrays\n",
        "a = np.array([1,2,3])\n",
        "b = np.array([4,5,6])\n",
        "print(np.concatenate([a,b]))"
      ],
      "execution_count": 21,
      "outputs": [
        {
          "output_type": "stream",
          "text": [
            "[1 2 3 4 5 6]\n"
          ],
          "name": "stdout"
        }
      ]
    },
    {
      "metadata": {
        "id": "BXt5GjwcTdX-",
        "colab_type": "code",
        "colab": {
          "base_uri": "https://localhost:8080/",
          "height": 51
        },
        "outputId": "3741e96a-62e8-40b9-c503-78b108c1fbde"
      },
      "cell_type": "code",
      "source": [
        "# concatenate two matrices\n",
        "a = np.array([[1,2,3],[3,4,3]])\n",
        "b = np.array([[1,2,3],[3,4,3]])\n",
        "c = np.concatenate([a,b])\n",
        "d = np.concatenate([a,b],axis=1)\n",
        "print(c.shape)\n",
        "print(d.shape)"
      ],
      "execution_count": 22,
      "outputs": [
        {
          "output_type": "stream",
          "text": [
            "(4, 3)\n",
            "(2, 6)\n"
          ],
          "name": "stdout"
        }
      ]
    },
    {
      "metadata": {
        "id": "B_GU0X6OTdYB",
        "colab_type": "code",
        "colab": {
          "base_uri": "https://localhost:8080/",
          "height": 34
        },
        "outputId": "3f9e2955-1339-44b7-b614-d6f3e2e59b01"
      },
      "cell_type": "code",
      "source": [
        "# sum two arrays\n",
        "a = np.array([1,2,3])\n",
        "b = np.array([4,5,6])\n",
        "print(a + b)"
      ],
      "execution_count": 23,
      "outputs": [
        {
          "output_type": "stream",
          "text": [
            "[5 7 9]\n"
          ],
          "name": "stdout"
        }
      ]
    },
    {
      "metadata": {
        "id": "pU_VIrp6TdYH",
        "colab_type": "code",
        "colab": {
          "base_uri": "https://localhost:8080/",
          "height": 51
        },
        "outputId": "830b06db-115d-4461-f19f-e5aec51a0525"
      },
      "cell_type": "code",
      "source": [
        "# clipping (ie squash value of numpy array between min, max)\n",
        "a = np.arange(6)\n",
        "print (a)\n",
        "print (np.clip(a,2,4))"
      ],
      "execution_count": 24,
      "outputs": [
        {
          "output_type": "stream",
          "text": [
            "[0 1 2 3 4 5]\n",
            "[2 2 2 3 4 4]\n"
          ],
          "name": "stdout"
        }
      ]
    },
    {
      "metadata": {
        "id": "u_0lQvv5TdYL",
        "colab_type": "code",
        "colab": {
          "base_uri": "https://localhost:8080/",
          "height": 34
        },
        "outputId": "a3aafee5-5e14-4dcd-c28a-8285acfddfa0"
      },
      "cell_type": "code",
      "source": [
        "# sample idx from distribution\n",
        "h = np.array([0.1, 0.2, 0.5,0.2])\n",
        "#index = np.random.choice([0, 1, 2, 3], p = h.ravel())\n",
        "#print(index)\n",
        "index2 = np.random.choice(np.arange(len(h)), p = h.ravel())\n",
        "print(index2)"
      ],
      "execution_count": 25,
      "outputs": [
        {
          "output_type": "stream",
          "text": [
            "2\n"
          ],
          "name": "stdout"
        }
      ]
    },
    {
      "metadata": {
        "id": "-Pg7lSwBTdYP",
        "colab_type": "code",
        "colab": {
          "base_uri": "https://localhost:8080/",
          "height": 34
        },
        "outputId": "e64fcc31-ebc0-40c8-c3db-bb23b0067e71"
      },
      "cell_type": "code",
      "source": [
        "# give index of max value in numpy array\n",
        "a = np.array([1,33,4,5])\n",
        "print(np.argmax(a))"
      ],
      "execution_count": 26,
      "outputs": [
        {
          "output_type": "stream",
          "text": [
            "1\n"
          ],
          "name": "stdout"
        }
      ]
    },
    {
      "metadata": {
        "id": "QLi6bSELTdYT",
        "colab_type": "code",
        "colab": {
          "base_uri": "https://localhost:8080/",
          "height": 85
        },
        "outputId": "6814e494-7c0b-46f1-cd60-4561fb35ceb1"
      },
      "cell_type": "code",
      "source": [
        "# give index of max value in 2d numpy array\n",
        "a = np.array([[1,33,4,5],[1,2,3,44]])\n",
        "print(np.argmax(a))\n",
        "print(np.argmax(a,axis=0))\n",
        "print(np.argmax(a,axis=1))\n",
        "print(np.argmax(a,axis=-1)) #-1 impies the last axis"
      ],
      "execution_count": 27,
      "outputs": [
        {
          "output_type": "stream",
          "text": [
            "7\n",
            "[0 0 0 1]\n",
            "[1 3]\n",
            "[1 3]\n"
          ],
          "name": "stdout"
        }
      ]
    },
    {
      "metadata": {
        "id": "83zBK1LD476d",
        "colab_type": "code",
        "colab": {
          "base_uri": "https://localhost:8080/",
          "height": 34
        },
        "outputId": "86054d50-63fb-4635-a28c-fa9b745934ee"
      },
      "cell_type": "code",
      "source": [
        "# stepping\n",
        "a = np.arange(1,1000)\n",
        "b = a[0:168:24]\n",
        "print(b)"
      ],
      "execution_count": 28,
      "outputs": [
        {
          "output_type": "stream",
          "text": [
            "[  1  25  49  73  97 121 145]\n"
          ],
          "name": "stdout"
        }
      ]
    },
    {
      "metadata": {
        "id": "1XVDJW-p6_Qh",
        "colab_type": "code",
        "colab": {
          "base_uri": "https://localhost:8080/",
          "height": 34
        },
        "outputId": "e825bfdd-8ac1-429e-da18-caa82a69af38"
      },
      "cell_type": "code",
      "source": [
        "168 // 24 + 1"
      ],
      "execution_count": 29,
      "outputs": [
        {
          "output_type": "execute_result",
          "data": {
            "text/plain": [
              "8"
            ]
          },
          "metadata": {
            "tags": []
          },
          "execution_count": 29
        }
      ]
    },
    {
      "metadata": {
        "id": "2XFVn37TpN7H",
        "colab_type": "text"
      },
      "cell_type": "markdown",
      "source": [
        "### Reshape"
      ]
    },
    {
      "metadata": {
        "id": "EJMRelRifOng",
        "colab_type": "code",
        "colab": {
          "base_uri": "https://localhost:8080/",
          "height": 51
        },
        "outputId": "f0adef07-6e9f-4063-e21e-bf264a56e743"
      },
      "cell_type": "code",
      "source": [
        "# (n,) to (n,1)\n",
        "a = np.array([1,2,3])\n",
        "print (a.shape)\n",
        "a = a[:,None]\n",
        "print(a.shape)"
      ],
      "execution_count": 30,
      "outputs": [
        {
          "output_type": "stream",
          "text": [
            "(3,)\n",
            "(3, 1)\n"
          ],
          "name": "stdout"
        }
      ]
    },
    {
      "metadata": {
        "id": "BDDDfP15pRe7",
        "colab_type": "code",
        "colab": {
          "base_uri": "https://localhost:8080/",
          "height": 187
        },
        "outputId": "ee58919e-6c0b-4188-f012-9dc4b17d4caa"
      },
      "cell_type": "code",
      "source": [
        "# reshape 6 into 3*2*1\n",
        "a = np.asarray([1,52,6,5,9,6])\n",
        "print(a.shape)\n",
        "b = a.reshape(3,2,1)\n",
        "print(b)\n",
        "print(b.shape)"
      ],
      "execution_count": 31,
      "outputs": [
        {
          "output_type": "stream",
          "text": [
            "(6,)\n",
            "[[[ 1]\n",
            "  [52]]\n",
            "\n",
            " [[ 6]\n",
            "  [ 5]]\n",
            "\n",
            " [[ 9]\n",
            "  [ 6]]]\n",
            "(3, 2, 1)\n"
          ],
          "name": "stdout"
        }
      ]
    },
    {
      "metadata": {
        "id": "Nj3OBPEHh-xv",
        "colab_type": "code",
        "colab": {
          "base_uri": "https://localhost:8080/",
          "height": 51
        },
        "outputId": "f9338de6-d2e4-4c94-e8b2-bdd67adfff09"
      },
      "cell_type": "code",
      "source": [
        "a = np.asarray([1,55,88,66])\n",
        "print(a.shape)\n",
        "b = a.reshape(-1,1)\n",
        "print(b.shape)"
      ],
      "execution_count": 32,
      "outputs": [
        {
          "output_type": "stream",
          "text": [
            "(4,)\n",
            "(4, 1)\n"
          ],
          "name": "stdout"
        }
      ]
    },
    {
      "metadata": {
        "id": "HFPY5zbe-mXQ",
        "colab_type": "text"
      },
      "cell_type": "markdown",
      "source": [
        "### Make input for LSTM"
      ]
    },
    {
      "metadata": {
        "id": "oxiyK-Bd-r7d",
        "colab_type": "code",
        "colab": {
          "base_uri": "https://localhost:8080/",
          "height": 34
        },
        "outputId": "4e09a797-35bb-40b5-f8c7-816a7eff911e"
      },
      "cell_type": "code",
      "source": [
        "a = np.arange(1,11)\n",
        "a"
      ],
      "execution_count": 33,
      "outputs": [
        {
          "output_type": "execute_result",
          "data": {
            "text/plain": [
              "array([ 1,  2,  3,  4,  5,  6,  7,  8,  9, 10])"
            ]
          },
          "metadata": {
            "tags": []
          },
          "execution_count": 33
        }
      ]
    },
    {
      "metadata": {
        "id": "Ng6dH0k1_A94",
        "colab_type": "code",
        "colab": {}
      },
      "cell_type": "code",
      "source": [
        "look_back = 4\n",
        "data = []\n",
        "for i in range(0,len(a)-look_back-1,2):\n",
        "  data.append(a[i:i+look_back])  "
      ],
      "execution_count": 0,
      "outputs": []
    },
    {
      "metadata": {
        "id": "zAi8OSlS_owu",
        "colab_type": "code",
        "colab": {
          "base_uri": "https://localhost:8080/",
          "height": 34
        },
        "outputId": "8b790314-e591-48c1-ac82-68c82f6652d6"
      },
      "cell_type": "code",
      "source": [
        "data"
      ],
      "execution_count": 35,
      "outputs": [
        {
          "output_type": "execute_result",
          "data": {
            "text/plain": [
              "[array([1, 2, 3, 4]), array([3, 4, 5, 6]), array([5, 6, 7, 8])]"
            ]
          },
          "metadata": {
            "tags": []
          },
          "execution_count": 35
        }
      ]
    },
    {
      "metadata": {
        "id": "d73qwdxBFc7Y",
        "colab_type": "text"
      },
      "cell_type": "markdown",
      "source": [
        "### Arrange"
      ]
    },
    {
      "metadata": {
        "id": "p-2JKCMBFfpv",
        "colab_type": "code",
        "colab": {
          "base_uri": "https://localhost:8080/",
          "height": 34
        },
        "outputId": "fb1b98ff-fec9-4a1f-a442-44d8baa32493"
      },
      "cell_type": "code",
      "source": [
        "# arrange let's you make a vector\n",
        "# np.arrange(start, stop, step)\n",
        "a = np.arange(1,19,3)\n",
        "a"
      ],
      "execution_count": 36,
      "outputs": [
        {
          "output_type": "execute_result",
          "data": {
            "text/plain": [
              "array([ 1,  4,  7, 10, 13, 16])"
            ]
          },
          "metadata": {
            "tags": []
          },
          "execution_count": 36
        }
      ]
    },
    {
      "metadata": {
        "id": "R0zCMEgIF0Xq",
        "colab_type": "text"
      },
      "cell_type": "markdown",
      "source": [
        "### Linspace"
      ]
    },
    {
      "metadata": {
        "id": "jGAeI2E0GLbL",
        "colab_type": "code",
        "colab": {
          "base_uri": "https://localhost:8080/",
          "height": 34
        },
        "outputId": "78906d17-170e-401f-fd88-fa7965feec5b"
      },
      "cell_type": "code",
      "source": [
        "#  give me 4 number equally spaced on interval [2.5,10]\n",
        "a = np.linspace(2.5,10,num=4)\n",
        "a"
      ],
      "execution_count": 37,
      "outputs": [
        {
          "output_type": "execute_result",
          "data": {
            "text/plain": [
              "array([ 2.5,  5. ,  7.5, 10. ])"
            ]
          },
          "metadata": {
            "tags": []
          },
          "execution_count": 37
        }
      ]
    },
    {
      "metadata": {
        "id": "PcKceoQIXRux",
        "colab_type": "text"
      },
      "cell_type": "markdown",
      "source": [
        "### Add column to numpy matrix"
      ]
    },
    {
      "metadata": {
        "id": "Uuw61leqXYFZ",
        "colab_type": "code",
        "colab": {
          "base_uri": "https://localhost:8080/",
          "height": 85
        },
        "outputId": "7dfeead4-4218-4009-9104-1e87284fa59a"
      },
      "cell_type": "code",
      "source": [
        "a = np.arange(0,6,1).reshape(3,2)\n",
        "print(a.shape)\n",
        "a"
      ],
      "execution_count": 38,
      "outputs": [
        {
          "output_type": "stream",
          "text": [
            "(3, 2)\n"
          ],
          "name": "stdout"
        },
        {
          "output_type": "execute_result",
          "data": {
            "text/plain": [
              "array([[0, 1],\n",
              "       [2, 3],\n",
              "       [4, 5]])"
            ]
          },
          "metadata": {
            "tags": []
          },
          "execution_count": 38
        }
      ]
    },
    {
      "metadata": {
        "id": "y9R9uQT6YNJp",
        "colab_type": "code",
        "colab": {
          "base_uri": "https://localhost:8080/",
          "height": 68
        },
        "outputId": "220688d6-660c-4266-b83b-a9c55ca10288"
      },
      "cell_type": "code",
      "source": [
        "# use np.append or np.hstack\n",
        "b = np.asarray([1,2,3]).reshape(-1,1)\n",
        "print(b.shape)\n",
        "c = np.hstack((a,b))\n",
        "d = np.append(a,b,axis=1)\n",
        "print(c.shape)\n",
        "print(d.shape)"
      ],
      "execution_count": 39,
      "outputs": [
        {
          "output_type": "stream",
          "text": [
            "(3, 1)\n",
            "(3, 3)\n",
            "(3, 3)\n"
          ],
          "name": "stdout"
        }
      ]
    },
    {
      "metadata": {
        "id": "s_Oo0c2Ihmn7",
        "colab_type": "text"
      },
      "cell_type": "markdown",
      "source": [
        "### Square of numpy"
      ]
    },
    {
      "metadata": {
        "id": "snBaozfAhB6N",
        "colab_type": "code",
        "colab": {
          "base_uri": "https://localhost:8080/",
          "height": 68
        },
        "outputId": "cfbfa285-dad7-427e-dfbb-66e41c5b18f0"
      },
      "cell_type": "code",
      "source": [
        "a = np.arange(0,6,1).reshape(3,2)\n",
        "c = np.square(a)\n",
        "c"
      ],
      "execution_count": 40,
      "outputs": [
        {
          "output_type": "execute_result",
          "data": {
            "text/plain": [
              "array([[ 0,  1],\n",
              "       [ 4,  9],\n",
              "       [16, 25]])"
            ]
          },
          "metadata": {
            "tags": []
          },
          "execution_count": 40
        }
      ]
    },
    {
      "metadata": {
        "id": "aBkuk2MTgJlN",
        "colab_type": "text"
      },
      "cell_type": "markdown",
      "source": [
        "## Strings"
      ]
    },
    {
      "metadata": {
        "id": "_-M4AmupgL9O",
        "colab_type": "code",
        "colab": {
          "base_uri": "https://localhost:8080/",
          "height": 111
        },
        "outputId": "af511650-396a-49fd-f45a-c7abbee7e511"
      },
      "cell_type": "code",
      "source": [
        "# remove all rows in col in df that has certain string\n",
        "df = pd.DataFrame({'Product':['H01','H02','H03'],'Price':[22,33,44]})\n",
        "idx = df['Product'].str.contains('02')\n",
        "df = df.loc[~idx]\n",
        "df.head()"
      ],
      "execution_count": 41,
      "outputs": [
        {
          "output_type": "execute_result",
          "data": {
            "text/html": [
              "<div>\n",
              "<style scoped>\n",
              "    .dataframe tbody tr th:only-of-type {\n",
              "        vertical-align: middle;\n",
              "    }\n",
              "\n",
              "    .dataframe tbody tr th {\n",
              "        vertical-align: top;\n",
              "    }\n",
              "\n",
              "    .dataframe thead th {\n",
              "        text-align: right;\n",
              "    }\n",
              "</style>\n",
              "<table border=\"1\" class=\"dataframe\">\n",
              "  <thead>\n",
              "    <tr style=\"text-align: right;\">\n",
              "      <th></th>\n",
              "      <th>Price</th>\n",
              "      <th>Product</th>\n",
              "    </tr>\n",
              "  </thead>\n",
              "  <tbody>\n",
              "    <tr>\n",
              "      <th>0</th>\n",
              "      <td>22</td>\n",
              "      <td>H01</td>\n",
              "    </tr>\n",
              "    <tr>\n",
              "      <th>2</th>\n",
              "      <td>44</td>\n",
              "      <td>H03</td>\n",
              "    </tr>\n",
              "  </tbody>\n",
              "</table>\n",
              "</div>"
            ],
            "text/plain": [
              "   Price Product\n",
              "0     22     H01\n",
              "2     44     H03"
            ]
          },
          "metadata": {
            "tags": []
          },
          "execution_count": 41
        }
      ]
    },
    {
      "metadata": {
        "id": "wKvMgkMFvDfP",
        "colab_type": "code",
        "colab": {
          "base_uri": "https://localhost:8080/",
          "height": 34
        },
        "outputId": "f24f7722-53c0-44c1-a35f-e39a5a6301d2"
      },
      "cell_type": "code",
      "source": [
        "# remove from string\n",
        "s1 = 'appelmoes'\n",
        "s2 = s1[:4] + s1[5:]\n",
        "print(s2)"
      ],
      "execution_count": 42,
      "outputs": [
        {
          "output_type": "stream",
          "text": [
            "appemoes\n"
          ],
          "name": "stdout"
        }
      ]
    },
    {
      "metadata": {
        "id": "ptv8foJ5ICid",
        "colab_type": "text"
      },
      "cell_type": "markdown",
      "source": [
        "## List"
      ]
    },
    {
      "metadata": {
        "id": "FG45_GF_IG4M",
        "colab_type": "code",
        "colab": {}
      },
      "cell_type": "code",
      "source": [
        "# sub set that is not in other list\n",
        "a = ['hoi','appel','banaan','kikker']\n",
        "b = ['appel','banaan']"
      ],
      "execution_count": 0,
      "outputs": []
    },
    {
      "metadata": {
        "id": "fgotypt9IYZN",
        "colab_type": "code",
        "colab": {
          "base_uri": "https://localhost:8080/",
          "height": 34
        },
        "outputId": "a6c9f367-d447-4f2d-f74d-f9f94c34be7f"
      },
      "cell_type": "code",
      "source": [
        "main_list = list(set(a) - set(b))\n",
        "main_list"
      ],
      "execution_count": 44,
      "outputs": [
        {
          "output_type": "execute_result",
          "data": {
            "text/plain": [
              "['kikker', 'hoi']"
            ]
          },
          "metadata": {
            "tags": []
          },
          "execution_count": 44
        }
      ]
    },
    {
      "metadata": {
        "id": "LUJCESDTD70K",
        "colab_type": "text"
      },
      "cell_type": "markdown",
      "source": [
        "### List comprehension"
      ]
    },
    {
      "metadata": {
        "id": "PnZ0U0ePEHVz",
        "colab_type": "code",
        "colab": {
          "base_uri": "https://localhost:8080/",
          "height": 34
        },
        "outputId": "3df9566b-4177-47f9-bc4e-62254296ee16"
      },
      "cell_type": "code",
      "source": [
        "# one line list comprehension\n",
        "# https://towardsdatascience.com/python-for-data-science-8-concepts-you-may-have-forgotten-i-did-825966908393\n",
        "a = [1,2,3,4]\n",
        "b = [i**2 for i in a]\n",
        "b"
      ],
      "execution_count": 45,
      "outputs": [
        {
          "output_type": "execute_result",
          "data": {
            "text/plain": [
              "[1, 4, 9, 16]"
            ]
          },
          "metadata": {
            "tags": []
          },
          "execution_count": 45
        }
      ]
    },
    {
      "metadata": {
        "id": "QMvmalr0ErTd",
        "colab_type": "code",
        "colab": {
          "base_uri": "https://localhost:8080/",
          "height": 34
        },
        "outputId": "bde6f325-353f-4670-afda-2a7d267a65bb"
      },
      "cell_type": "code",
      "source": [
        "# one line list comprehension with if statement\n",
        "a = [1,2,3,4]\n",
        "b = [i**2 for i in a if i < 4]\n",
        "b"
      ],
      "execution_count": 46,
      "outputs": [
        {
          "output_type": "execute_result",
          "data": {
            "text/plain": [
              "[1, 4, 9]"
            ]
          },
          "metadata": {
            "tags": []
          },
          "execution_count": 46
        }
      ]
    },
    {
      "metadata": {
        "id": "nXrowQgrTdYZ",
        "colab_type": "text"
      },
      "cell_type": "markdown",
      "source": [
        "## Dictionary"
      ]
    },
    {
      "metadata": {
        "id": "DgEu06hWTdYa",
        "colab_type": "code",
        "colab": {}
      },
      "cell_type": "code",
      "source": [
        "# create dict\n",
        "mydict = {'ali':178,'johan':'188','Doei':'48'}"
      ],
      "execution_count": 0,
      "outputs": []
    },
    {
      "metadata": {
        "id": "1HvRkyfUTdYe",
        "colab_type": "code",
        "colab": {
          "base_uri": "https://localhost:8080/",
          "height": 34
        },
        "outputId": "a3e7b1f8-fd08-4684-fc8f-e5a75556c284"
      },
      "cell_type": "code",
      "source": [
        "# how many element are in my dict?\n",
        "len(mydict)"
      ],
      "execution_count": 48,
      "outputs": [
        {
          "output_type": "execute_result",
          "data": {
            "text/plain": [
              "3"
            ]
          },
          "metadata": {
            "tags": []
          },
          "execution_count": 48
        }
      ]
    },
    {
      "metadata": {
        "id": "9ZikxMnRTdYi",
        "colab_type": "text"
      },
      "cell_type": "markdown",
      "source": [
        "## Plotting"
      ]
    },
    {
      "metadata": {
        "id": "r42hkLwTTdYi",
        "colab_type": "code",
        "colab": {
          "base_uri": "https://localhost:8080/",
          "height": 367
        },
        "outputId": "e7c81cec-fb9d-4117-f800-f69f465641e7"
      },
      "cell_type": "code",
      "source": [
        "# make plot of two numpy arrays\n",
        "x = np.array([1,2,3,4,5,6,7,8])\n",
        "y = np.array([1,4,9,16,25,36,49,64])\n",
        "plt.plot(x,y,label = 'y=x2')\n",
        "plt.legend()\n",
        "plt.show()"
      ],
      "execution_count": 49,
      "outputs": [
        {
          "output_type": "display_data",
          "data": {
            "image/png": "[encoded data removed]",
            "text/plain": [
              "<matplotlib.figure.Figure at 0x7f1003b9ba90>"
            ]
          },
          "metadata": {
            "tags": []
          }
        }
      ]
    },
    {
      "metadata": {
        "id": "cp9wBF75TdYn",
        "colab_type": "text"
      },
      "cell_type": "markdown",
      "source": [
        "## Other stuff"
      ]
    },
    {
      "metadata": {
        "id": "MTprMoSwTdYn",
        "colab_type": "code",
        "colab": {
          "base_uri": "https://localhost:8080/",
          "height": 34
        },
        "outputId": "dff7bf3c-07c1-40ea-c18b-ceb4011fe20f"
      },
      "cell_type": "code",
      "source": [
        "# the modulo operator, the remainder from division\n",
        "2 % 300"
      ],
      "execution_count": 50,
      "outputs": [
        {
          "output_type": "execute_result",
          "data": {
            "text/plain": [
              "2"
            ]
          },
          "metadata": {
            "tags": []
          },
          "execution_count": 50
        }
      ]
    },
    {
      "metadata": {
        "id": "V5_oljV87MCi",
        "colab_type": "code",
        "colab": {}
      },
      "cell_type": "code",
      "source": [
        "TESTDATA = StringIO(\"\"\"col1;col2;col3\n",
        "    1;4.4;99\n",
        "    2;4.5;200\n",
        "    3;4.7;65\n",
        "    4;3.2;140\n",
        "    \"\"\")\n",
        "\n",
        "df = pd.read_csv(TESTDATA, sep=\";\")"
      ],
      "execution_count": 0,
      "outputs": []
    },
    {
      "metadata": {
        "id": "zEz-uU381seu",
        "colab_type": "code",
        "colab": {
          "base_uri": "https://localhost:8080/",
          "height": 51
        },
        "outputId": "7b2e8dbd-7406-4336-c939-a3b424bfd2a1"
      },
      "cell_type": "code",
      "source": [
        "print (sys.version)"
      ],
      "execution_count": 52,
      "outputs": [
        {
          "output_type": "stream",
          "text": [
            "2.7.14 (default, Sep 23 2017, 22:06:14) \n",
            "[GCC 7.2.0]\n"
          ],
          "name": "stdout"
        }
      ]
    },
    {
      "metadata": {
        "id": "lQ-qUyA-LW-0",
        "colab_type": "text"
      },
      "cell_type": "markdown",
      "source": [
        "## Dataframe"
      ]
    },
    {
      "metadata": {
        "id": "Bz_0Ske3LU3e",
        "colab_type": "code",
        "colab": {}
      },
      "cell_type": "code",
      "source": [
        "# Create dataframe\n",
        "df = pd.DataFrame({'a':[1,2,3],'b':[3,4,5]})"
      ],
      "execution_count": 0,
      "outputs": []
    },
    {
      "metadata": {
        "id": "Ep7oCd6MLquF",
        "colab_type": "code",
        "colab": {
          "base_uri": "https://localhost:8080/",
          "height": 173
        },
        "outputId": "a8c82c30-148f-4602-c49e-3b01d5a5d230"
      },
      "cell_type": "code",
      "source": [
        "# dataframe from numpy array\n",
        "names = ['apple','orange','apple','banana']\n",
        "price = [1,2,5,10]\n",
        "df = pd.DataFrame({'names':names,'price':price})\n",
        "df.head()"
      ],
      "execution_count": 54,
      "outputs": [
        {
          "output_type": "execute_result",
          "data": {
            "text/html": [
              "<div>\n",
              "<style scoped>\n",
              "    .dataframe tbody tr th:only-of-type {\n",
              "        vertical-align: middle;\n",
              "    }\n",
              "\n",
              "    .dataframe tbody tr th {\n",
              "        vertical-align: top;\n",
              "    }\n",
              "\n",
              "    .dataframe thead th {\n",
              "        text-align: right;\n",
              "    }\n",
              "</style>\n",
              "<table border=\"1\" class=\"dataframe\">\n",
              "  <thead>\n",
              "    <tr style=\"text-align: right;\">\n",
              "      <th></th>\n",
              "      <th>names</th>\n",
              "      <th>price</th>\n",
              "    </tr>\n",
              "  </thead>\n",
              "  <tbody>\n",
              "    <tr>\n",
              "      <th>0</th>\n",
              "      <td>apple</td>\n",
              "      <td>1</td>\n",
              "    </tr>\n",
              "    <tr>\n",
              "      <th>1</th>\n",
              "      <td>orange</td>\n",
              "      <td>2</td>\n",
              "    </tr>\n",
              "    <tr>\n",
              "      <th>2</th>\n",
              "      <td>apple</td>\n",
              "      <td>5</td>\n",
              "    </tr>\n",
              "    <tr>\n",
              "      <th>3</th>\n",
              "      <td>banana</td>\n",
              "      <td>10</td>\n",
              "    </tr>\n",
              "  </tbody>\n",
              "</table>\n",
              "</div>"
            ],
            "text/plain": [
              "    names  price\n",
              "0   apple      1\n",
              "1  orange      2\n",
              "2   apple      5\n",
              "3  banana     10"
            ]
          },
          "metadata": {
            "tags": []
          },
          "execution_count": 54
        }
      ]
    },
    {
      "metadata": {
        "id": "qLqM_XjsPbZ1",
        "colab_type": "code",
        "colab": {
          "base_uri": "https://localhost:8080/",
          "height": 173
        },
        "outputId": "93a1c180-f78d-4862-9b9a-d7d557c2c278"
      },
      "cell_type": "code",
      "source": [
        "# make new column price_sqr using the apply function\n",
        "df['price_sqr'] = df['price'].apply(lambda x: x*x)\n",
        "df.head()"
      ],
      "execution_count": 55,
      "outputs": [
        {
          "output_type": "execute_result",
          "data": {
            "text/html": [
              "<div>\n",
              "<style scoped>\n",
              "    .dataframe tbody tr th:only-of-type {\n",
              "        vertical-align: middle;\n",
              "    }\n",
              "\n",
              "    .dataframe tbody tr th {\n",
              "        vertical-align: top;\n",
              "    }\n",
              "\n",
              "    .dataframe thead th {\n",
              "        text-align: right;\n",
              "    }\n",
              "</style>\n",
              "<table border=\"1\" class=\"dataframe\">\n",
              "  <thead>\n",
              "    <tr style=\"text-align: right;\">\n",
              "      <th></th>\n",
              "      <th>names</th>\n",
              "      <th>price</th>\n",
              "      <th>price_sqr</th>\n",
              "    </tr>\n",
              "  </thead>\n",
              "  <tbody>\n",
              "    <tr>\n",
              "      <th>0</th>\n",
              "      <td>apple</td>\n",
              "      <td>1</td>\n",
              "      <td>1</td>\n",
              "    </tr>\n",
              "    <tr>\n",
              "      <th>1</th>\n",
              "      <td>orange</td>\n",
              "      <td>2</td>\n",
              "      <td>4</td>\n",
              "    </tr>\n",
              "    <tr>\n",
              "      <th>2</th>\n",
              "      <td>apple</td>\n",
              "      <td>5</td>\n",
              "      <td>25</td>\n",
              "    </tr>\n",
              "    <tr>\n",
              "      <th>3</th>\n",
              "      <td>banana</td>\n",
              "      <td>10</td>\n",
              "      <td>100</td>\n",
              "    </tr>\n",
              "  </tbody>\n",
              "</table>\n",
              "</div>"
            ],
            "text/plain": [
              "    names  price  price_sqr\n",
              "0   apple      1          1\n",
              "1  orange      2          4\n",
              "2   apple      5         25\n",
              "3  banana     10        100"
            ]
          },
          "metadata": {
            "tags": []
          },
          "execution_count": 55
        }
      ]
    },
    {
      "metadata": {
        "id": "P341aCZyN5dI",
        "colab_type": "code",
        "colab": {
          "base_uri": "https://localhost:8080/",
          "height": 173
        },
        "outputId": "ac064c75-f42a-400a-c992-3c60ffa9dd4a"
      },
      "cell_type": "code",
      "source": [
        "# add 10 to price of apple\n",
        "idx = df['names'] == 'apple'\n",
        "df.loc[idx,'price'] = df.loc[idx,'price'] + 10\n",
        "df.head()"
      ],
      "execution_count": 56,
      "outputs": [
        {
          "output_type": "execute_result",
          "data": {
            "text/html": [
              "<div>\n",
              "<style scoped>\n",
              "    .dataframe tbody tr th:only-of-type {\n",
              "        vertical-align: middle;\n",
              "    }\n",
              "\n",
              "    .dataframe tbody tr th {\n",
              "        vertical-align: top;\n",
              "    }\n",
              "\n",
              "    .dataframe thead th {\n",
              "        text-align: right;\n",
              "    }\n",
              "</style>\n",
              "<table border=\"1\" class=\"dataframe\">\n",
              "  <thead>\n",
              "    <tr style=\"text-align: right;\">\n",
              "      <th></th>\n",
              "      <th>names</th>\n",
              "      <th>price</th>\n",
              "      <th>price_sqr</th>\n",
              "    </tr>\n",
              "  </thead>\n",
              "  <tbody>\n",
              "    <tr>\n",
              "      <th>0</th>\n",
              "      <td>apple</td>\n",
              "      <td>11</td>\n",
              "      <td>1</td>\n",
              "    </tr>\n",
              "    <tr>\n",
              "      <th>1</th>\n",
              "      <td>orange</td>\n",
              "      <td>2</td>\n",
              "      <td>4</td>\n",
              "    </tr>\n",
              "    <tr>\n",
              "      <th>2</th>\n",
              "      <td>apple</td>\n",
              "      <td>15</td>\n",
              "      <td>25</td>\n",
              "    </tr>\n",
              "    <tr>\n",
              "      <th>3</th>\n",
              "      <td>banana</td>\n",
              "      <td>10</td>\n",
              "      <td>100</td>\n",
              "    </tr>\n",
              "  </tbody>\n",
              "</table>\n",
              "</div>"
            ],
            "text/plain": [
              "    names  price  price_sqr\n",
              "0   apple     11          1\n",
              "1  orange      2          4\n",
              "2   apple     15         25\n",
              "3  banana     10        100"
            ]
          },
          "metadata": {
            "tags": []
          },
          "execution_count": 56
        }
      ]
    },
    {
      "metadata": {
        "id": "bo3fefN_YCyP",
        "colab_type": "code",
        "colab": {
          "base_uri": "https://localhost:8080/",
          "height": 173
        },
        "outputId": "c542b52e-03e3-40d5-eb13-aac5518a34aa"
      },
      "cell_type": "code",
      "source": [
        "# rename column\n",
        "df.rename(columns = {'names':'name'},inplace=True)\n",
        "df.head()"
      ],
      "execution_count": 57,
      "outputs": [
        {
          "output_type": "execute_result",
          "data": {
            "text/html": [
              "<div>\n",
              "<style scoped>\n",
              "    .dataframe tbody tr th:only-of-type {\n",
              "        vertical-align: middle;\n",
              "    }\n",
              "\n",
              "    .dataframe tbody tr th {\n",
              "        vertical-align: top;\n",
              "    }\n",
              "\n",
              "    .dataframe thead th {\n",
              "        text-align: right;\n",
              "    }\n",
              "</style>\n",
              "<table border=\"1\" class=\"dataframe\">\n",
              "  <thead>\n",
              "    <tr style=\"text-align: right;\">\n",
              "      <th></th>\n",
              "      <th>name</th>\n",
              "      <th>price</th>\n",
              "      <th>price_sqr</th>\n",
              "    </tr>\n",
              "  </thead>\n",
              "  <tbody>\n",
              "    <tr>\n",
              "      <th>0</th>\n",
              "      <td>apple</td>\n",
              "      <td>11</td>\n",
              "      <td>1</td>\n",
              "    </tr>\n",
              "    <tr>\n",
              "      <th>1</th>\n",
              "      <td>orange</td>\n",
              "      <td>2</td>\n",
              "      <td>4</td>\n",
              "    </tr>\n",
              "    <tr>\n",
              "      <th>2</th>\n",
              "      <td>apple</td>\n",
              "      <td>15</td>\n",
              "      <td>25</td>\n",
              "    </tr>\n",
              "    <tr>\n",
              "      <th>3</th>\n",
              "      <td>banana</td>\n",
              "      <td>10</td>\n",
              "      <td>100</td>\n",
              "    </tr>\n",
              "  </tbody>\n",
              "</table>\n",
              "</div>"
            ],
            "text/plain": [
              "     name  price  price_sqr\n",
              "0   apple     11          1\n",
              "1  orange      2          4\n",
              "2   apple     15         25\n",
              "3  banana     10        100"
            ]
          },
          "metadata": {
            "tags": []
          },
          "execution_count": 57
        }
      ]
    },
    {
      "metadata": {
        "id": "uDIkGJvT_XjA",
        "colab_type": "code",
        "colab": {
          "base_uri": "https://localhost:8080/",
          "height": 173
        },
        "outputId": "6701976c-fa3d-4383-e210-675d7203090f"
      },
      "cell_type": "code",
      "source": [
        "# sort by name\n",
        "df =df.sort_values(by=['name','price'])\n",
        "df.tail(10)"
      ],
      "execution_count": 58,
      "outputs": [
        {
          "output_type": "execute_result",
          "data": {
            "text/html": [
              "<div>\n",
              "<style scoped>\n",
              "    .dataframe tbody tr th:only-of-type {\n",
              "        vertical-align: middle;\n",
              "    }\n",
              "\n",
              "    .dataframe tbody tr th {\n",
              "        vertical-align: top;\n",
              "    }\n",
              "\n",
              "    .dataframe thead th {\n",
              "        text-align: right;\n",
              "    }\n",
              "</style>\n",
              "<table border=\"1\" class=\"dataframe\">\n",
              "  <thead>\n",
              "    <tr style=\"text-align: right;\">\n",
              "      <th></th>\n",
              "      <th>name</th>\n",
              "      <th>price</th>\n",
              "      <th>price_sqr</th>\n",
              "    </tr>\n",
              "  </thead>\n",
              "  <tbody>\n",
              "    <tr>\n",
              "      <th>0</th>\n",
              "      <td>apple</td>\n",
              "      <td>11</td>\n",
              "      <td>1</td>\n",
              "    </tr>\n",
              "    <tr>\n",
              "      <th>2</th>\n",
              "      <td>apple</td>\n",
              "      <td>15</td>\n",
              "      <td>25</td>\n",
              "    </tr>\n",
              "    <tr>\n",
              "      <th>3</th>\n",
              "      <td>banana</td>\n",
              "      <td>10</td>\n",
              "      <td>100</td>\n",
              "    </tr>\n",
              "    <tr>\n",
              "      <th>1</th>\n",
              "      <td>orange</td>\n",
              "      <td>2</td>\n",
              "      <td>4</td>\n",
              "    </tr>\n",
              "  </tbody>\n",
              "</table>\n",
              "</div>"
            ],
            "text/plain": [
              "     name  price  price_sqr\n",
              "0   apple     11          1\n",
              "2   apple     15         25\n",
              "3  banana     10        100\n",
              "1  orange      2          4"
            ]
          },
          "metadata": {
            "tags": []
          },
          "execution_count": 58
        }
      ]
    },
    {
      "metadata": {
        "id": "TR6UtxU6ArH1",
        "colab_type": "text"
      },
      "cell_type": "markdown",
      "source": [
        "### Multiple dataframes"
      ]
    },
    {
      "metadata": {
        "id": "uIp6TSsMAvKk",
        "colab_type": "code",
        "colab": {
          "base_uri": "https://localhost:8080/",
          "height": 204
        },
        "outputId": "53534f15-a559-4e96-b80c-8b6272a507f4"
      },
      "cell_type": "code",
      "source": [
        "# concatenate multiple df's into one\n",
        "df1 = pd.DataFrame({'a':[1,2,3],'b':[3,4,5]})\n",
        "df2 = pd.DataFrame({'a':[10,20,30],'b':[30,40,50]})\n",
        "\n",
        "df_all =[]\n",
        "\n",
        "df_all.append(df1)\n",
        "df_all.append(df2)\n",
        "\n",
        "df_all = pd.concat(df_all)\n",
        "df_all.head()"
      ],
      "execution_count": 59,
      "outputs": [
        {
          "output_type": "execute_result",
          "data": {
            "text/html": [
              "<div>\n",
              "<style scoped>\n",
              "    .dataframe tbody tr th:only-of-type {\n",
              "        vertical-align: middle;\n",
              "    }\n",
              "\n",
              "    .dataframe tbody tr th {\n",
              "        vertical-align: top;\n",
              "    }\n",
              "\n",
              "    .dataframe thead th {\n",
              "        text-align: right;\n",
              "    }\n",
              "</style>\n",
              "<table border=\"1\" class=\"dataframe\">\n",
              "  <thead>\n",
              "    <tr style=\"text-align: right;\">\n",
              "      <th></th>\n",
              "      <th>a</th>\n",
              "      <th>b</th>\n",
              "    </tr>\n",
              "  </thead>\n",
              "  <tbody>\n",
              "    <tr>\n",
              "      <th>0</th>\n",
              "      <td>1</td>\n",
              "      <td>3</td>\n",
              "    </tr>\n",
              "    <tr>\n",
              "      <th>1</th>\n",
              "      <td>2</td>\n",
              "      <td>4</td>\n",
              "    </tr>\n",
              "    <tr>\n",
              "      <th>2</th>\n",
              "      <td>3</td>\n",
              "      <td>5</td>\n",
              "    </tr>\n",
              "    <tr>\n",
              "      <th>0</th>\n",
              "      <td>10</td>\n",
              "      <td>30</td>\n",
              "    </tr>\n",
              "    <tr>\n",
              "      <th>1</th>\n",
              "      <td>20</td>\n",
              "      <td>40</td>\n",
              "    </tr>\n",
              "  </tbody>\n",
              "</table>\n",
              "</div>"
            ],
            "text/plain": [
              "    a   b\n",
              "0   1   3\n",
              "1   2   4\n",
              "2   3   5\n",
              "0  10  30\n",
              "1  20  40"
            ]
          },
          "metadata": {
            "tags": []
          },
          "execution_count": 59
        }
      ]
    },
    {
      "metadata": {
        "id": "iQte7Qf2BQUr",
        "colab_type": "code",
        "colab": {
          "base_uri": "https://localhost:8080/",
          "height": 204
        },
        "outputId": "70cba020-9674-428b-8bf1-aaeddd588ee5"
      },
      "cell_type": "code",
      "source": [
        "# reset the index, do not insert the index as a column into the df\n",
        "df_all.reset_index(inplace=True,drop=True)\n",
        "df_all.head()"
      ],
      "execution_count": 60,
      "outputs": [
        {
          "output_type": "execute_result",
          "data": {
            "text/html": [
              "<div>\n",
              "<style scoped>\n",
              "    .dataframe tbody tr th:only-of-type {\n",
              "        vertical-align: middle;\n",
              "    }\n",
              "\n",
              "    .dataframe tbody tr th {\n",
              "        vertical-align: top;\n",
              "    }\n",
              "\n",
              "    .dataframe thead th {\n",
              "        text-align: right;\n",
              "    }\n",
              "</style>\n",
              "<table border=\"1\" class=\"dataframe\">\n",
              "  <thead>\n",
              "    <tr style=\"text-align: right;\">\n",
              "      <th></th>\n",
              "      <th>a</th>\n",
              "      <th>b</th>\n",
              "    </tr>\n",
              "  </thead>\n",
              "  <tbody>\n",
              "    <tr>\n",
              "      <th>0</th>\n",
              "      <td>1</td>\n",
              "      <td>3</td>\n",
              "    </tr>\n",
              "    <tr>\n",
              "      <th>1</th>\n",
              "      <td>2</td>\n",
              "      <td>4</td>\n",
              "    </tr>\n",
              "    <tr>\n",
              "      <th>2</th>\n",
              "      <td>3</td>\n",
              "      <td>5</td>\n",
              "    </tr>\n",
              "    <tr>\n",
              "      <th>3</th>\n",
              "      <td>10</td>\n",
              "      <td>30</td>\n",
              "    </tr>\n",
              "    <tr>\n",
              "      <th>4</th>\n",
              "      <td>20</td>\n",
              "      <td>40</td>\n",
              "    </tr>\n",
              "  </tbody>\n",
              "</table>\n",
              "</div>"
            ],
            "text/plain": [
              "    a   b\n",
              "0   1   3\n",
              "1   2   4\n",
              "2   3   5\n",
              "3  10  30\n",
              "4  20  40"
            ]
          },
          "metadata": {
            "tags": []
          },
          "execution_count": 60
        }
      ]
    },
    {
      "metadata": {
        "id": "xczERf97wPPZ",
        "colab_type": "text"
      },
      "cell_type": "markdown",
      "source": [
        "### Groupby"
      ]
    },
    {
      "metadata": {
        "id": "b5CLBODlwT8u",
        "colab_type": "code",
        "colab": {
          "base_uri": "https://localhost:8080/",
          "height": 204
        },
        "outputId": "050f8188-b101-4500-c5fd-8693ab3481c7"
      },
      "cell_type": "code",
      "source": [
        "# dataframe from numpy array\n",
        "name = ['apple','orange','apple','banana','banana']\n",
        "price = [1,2,5,10,20]\n",
        "weight = [6,7,10,15,25]\n",
        "df = pd.DataFrame({'name':name,'price':price,'weight':weight})\n",
        "df.head()"
      ],
      "execution_count": 61,
      "outputs": [
        {
          "output_type": "execute_result",
          "data": {
            "text/html": [
              "<div>\n",
              "<style scoped>\n",
              "    .dataframe tbody tr th:only-of-type {\n",
              "        vertical-align: middle;\n",
              "    }\n",
              "\n",
              "    .dataframe tbody tr th {\n",
              "        vertical-align: top;\n",
              "    }\n",
              "\n",
              "    .dataframe thead th {\n",
              "        text-align: right;\n",
              "    }\n",
              "</style>\n",
              "<table border=\"1\" class=\"dataframe\">\n",
              "  <thead>\n",
              "    <tr style=\"text-align: right;\">\n",
              "      <th></th>\n",
              "      <th>name</th>\n",
              "      <th>price</th>\n",
              "      <th>weight</th>\n",
              "    </tr>\n",
              "  </thead>\n",
              "  <tbody>\n",
              "    <tr>\n",
              "      <th>0</th>\n",
              "      <td>apple</td>\n",
              "      <td>1</td>\n",
              "      <td>6</td>\n",
              "    </tr>\n",
              "    <tr>\n",
              "      <th>1</th>\n",
              "      <td>orange</td>\n",
              "      <td>2</td>\n",
              "      <td>7</td>\n",
              "    </tr>\n",
              "    <tr>\n",
              "      <th>2</th>\n",
              "      <td>apple</td>\n",
              "      <td>5</td>\n",
              "      <td>10</td>\n",
              "    </tr>\n",
              "    <tr>\n",
              "      <th>3</th>\n",
              "      <td>banana</td>\n",
              "      <td>10</td>\n",
              "      <td>15</td>\n",
              "    </tr>\n",
              "    <tr>\n",
              "      <th>4</th>\n",
              "      <td>banana</td>\n",
              "      <td>20</td>\n",
              "      <td>25</td>\n",
              "    </tr>\n",
              "  </tbody>\n",
              "</table>\n",
              "</div>"
            ],
            "text/plain": [
              "     name  price  weight\n",
              "0   apple      1       6\n",
              "1  orange      2       7\n",
              "2   apple      5      10\n",
              "3  banana     10      15\n",
              "4  banana     20      25"
            ]
          },
          "metadata": {
            "tags": []
          },
          "execution_count": 61
        }
      ]
    },
    {
      "metadata": {
        "id": "h1oa3EfxxBAg",
        "colab_type": "code",
        "colab": {
          "base_uri": "https://localhost:8080/",
          "height": 119
        },
        "outputId": "364f14c0-d9b4-45a4-b91d-6a5090bc8b10"
      },
      "cell_type": "code",
      "source": [
        "# group by fruit and calc the average price, \n",
        "df_grp = df.groupby(['name'])['price'].mean() # this will return a pandas series \n",
        "print(df_grp)\n",
        "print(type(df_grp))"
      ],
      "execution_count": 62,
      "outputs": [
        {
          "output_type": "stream",
          "text": [
            "name\n",
            "apple      3\n",
            "banana    15\n",
            "orange     2\n",
            "Name: price, dtype: int64\n",
            "<class 'pandas.core.series.Series'>\n"
          ],
          "name": "stdout"
        }
      ]
    },
    {
      "metadata": {
        "id": "d6o7Utrr0iZo",
        "colab_type": "code",
        "colab": {
          "base_uri": "https://localhost:8080/",
          "height": 119
        },
        "outputId": "baec00e2-8391-402f-9aec-222205eb7f36"
      },
      "cell_type": "code",
      "source": [
        "# groupby fruit and calc the average price\n",
        "df_grp = df.groupby(['name'])[['price','weight']].mean() # will return a df with index equal to the group\n",
        "print(df_grp)\n",
        "print(type(df_grp))"
      ],
      "execution_count": 63,
      "outputs": [
        {
          "output_type": "stream",
          "text": [
            "        price  weight\n",
            "name                 \n",
            "apple       3       8\n",
            "banana     15      20\n",
            "orange      2       7\n",
            "<class 'pandas.core.frame.DataFrame'>\n"
          ],
          "name": "stdout"
        }
      ]
    },
    {
      "metadata": {
        "id": "bPX1MJJR1zM1",
        "colab_type": "code",
        "colab": {
          "base_uri": "https://localhost:8080/",
          "height": 102
        },
        "outputId": "4df1c00f-3322-46e9-ff18-8238a316a481"
      },
      "cell_type": "code",
      "source": [
        "# groupby fruit but make a new index\n",
        "df_grp = df.groupby(['name'],as_index=False)[['price','weight']].mean() # will return a df with index equal to the group\n",
        "print(df_grp)\n",
        "print(type(df_grp))"
      ],
      "execution_count": 64,
      "outputs": [
        {
          "output_type": "stream",
          "text": [
            "     name  price  weight\n",
            "0   apple      3       8\n",
            "1  banana     15      20\n",
            "2  orange      2       7\n",
            "<class 'pandas.core.frame.DataFrame'>\n"
          ],
          "name": "stdout"
        }
      ]
    },
    {
      "metadata": {
        "id": "iVPtREpovZr5",
        "colab_type": "code",
        "colab": {
          "base_uri": "https://localhost:8080/",
          "height": 204
        },
        "outputId": "f72bdc7f-4fb4-42f7-e2e0-a813438dffb9"
      },
      "cell_type": "code",
      "source": [
        "# groupby fruit\n",
        "# for count also consider 'size'. size will return n for NaN values also, whereas 'count' will not.\n",
        "# https://gist.github.com/conormm/fd8b1980c28dd21cfaf6975c86c74d07\n",
        "df.groupby(['name'])['price','weight'].agg(['mean', 'sum', 'count']) "
      ],
      "execution_count": 65,
      "outputs": [
        {
          "output_type": "execute_result",
          "data": {
            "text/html": [
              "<div>\n",
              "<style scoped>\n",
              "    .dataframe tbody tr th:only-of-type {\n",
              "        vertical-align: middle;\n",
              "    }\n",
              "\n",
              "    .dataframe tbody tr th {\n",
              "        vertical-align: top;\n",
              "    }\n",
              "\n",
              "    .dataframe thead tr th {\n",
              "        text-align: left;\n",
              "    }\n",
              "\n",
              "    .dataframe thead tr:last-of-type th {\n",
              "        text-align: right;\n",
              "    }\n",
              "</style>\n",
              "<table border=\"1\" class=\"dataframe\">\n",
              "  <thead>\n",
              "    <tr>\n",
              "      <th></th>\n",
              "      <th colspan=\"3\" halign=\"left\">price</th>\n",
              "      <th colspan=\"3\" halign=\"left\">weight</th>\n",
              "    </tr>\n",
              "    <tr>\n",
              "      <th></th>\n",
              "      <th>mean</th>\n",
              "      <th>sum</th>\n",
              "      <th>count</th>\n",
              "      <th>mean</th>\n",
              "      <th>sum</th>\n",
              "      <th>count</th>\n",
              "    </tr>\n",
              "    <tr>\n",
              "      <th>name</th>\n",
              "      <th></th>\n",
              "      <th></th>\n",
              "      <th></th>\n",
              "      <th></th>\n",
              "      <th></th>\n",
              "      <th></th>\n",
              "    </tr>\n",
              "  </thead>\n",
              "  <tbody>\n",
              "    <tr>\n",
              "      <th>apple</th>\n",
              "      <td>3</td>\n",
              "      <td>6</td>\n",
              "      <td>2</td>\n",
              "      <td>8</td>\n",
              "      <td>16</td>\n",
              "      <td>2</td>\n",
              "    </tr>\n",
              "    <tr>\n",
              "      <th>banana</th>\n",
              "      <td>15</td>\n",
              "      <td>30</td>\n",
              "      <td>2</td>\n",
              "      <td>20</td>\n",
              "      <td>40</td>\n",
              "      <td>2</td>\n",
              "    </tr>\n",
              "    <tr>\n",
              "      <th>orange</th>\n",
              "      <td>2</td>\n",
              "      <td>2</td>\n",
              "      <td>1</td>\n",
              "      <td>7</td>\n",
              "      <td>7</td>\n",
              "      <td>1</td>\n",
              "    </tr>\n",
              "  </tbody>\n",
              "</table>\n",
              "</div>"
            ],
            "text/plain": [
              "       price           weight          \n",
              "        mean sum count   mean sum count\n",
              "name                                   \n",
              "apple      3   6     2      8  16     2\n",
              "banana    15  30     2     20  40     2\n",
              "orange     2   2     1      7   7     1"
            ]
          },
          "metadata": {
            "tags": []
          },
          "execution_count": 65
        }
      ]
    },
    {
      "metadata": {
        "id": "7dypi0yQyPyt",
        "colab_type": "code",
        "colab": {}
      },
      "cell_type": "code",
      "source": [
        "# now let's make a used defined function to groupby\n",
        "# Volume Weighted Average Price\n",
        "def vwap(x):\n",
        "    return (x['weight'] * x['price']).sum() / x['weight'].sum()"
      ],
      "execution_count": 0,
      "outputs": []
    },
    {
      "metadata": {
        "id": "urGGWmaS217Z",
        "colab_type": "code",
        "colab": {
          "base_uri": "https://localhost:8080/",
          "height": 173
        },
        "outputId": "840112a3-2a9d-424a-9b31-fe00351bde44"
      },
      "cell_type": "code",
      "source": [
        "# calc the volume weighted price\n",
        "df_group = pd.DataFrame(df.groupby(['name']).apply(lambda x: vwap(x)))\n",
        "df_group.head()"
      ],
      "execution_count": 67,
      "outputs": [
        {
          "output_type": "execute_result",
          "data": {
            "text/html": [
              "<div>\n",
              "<style scoped>\n",
              "    .dataframe tbody tr th:only-of-type {\n",
              "        vertical-align: middle;\n",
              "    }\n",
              "\n",
              "    .dataframe tbody tr th {\n",
              "        vertical-align: top;\n",
              "    }\n",
              "\n",
              "    .dataframe thead th {\n",
              "        text-align: right;\n",
              "    }\n",
              "</style>\n",
              "<table border=\"1\" class=\"dataframe\">\n",
              "  <thead>\n",
              "    <tr style=\"text-align: right;\">\n",
              "      <th></th>\n",
              "      <th>0</th>\n",
              "    </tr>\n",
              "    <tr>\n",
              "      <th>name</th>\n",
              "      <th></th>\n",
              "    </tr>\n",
              "  </thead>\n",
              "  <tbody>\n",
              "    <tr>\n",
              "      <th>apple</th>\n",
              "      <td>3</td>\n",
              "    </tr>\n",
              "    <tr>\n",
              "      <th>banana</th>\n",
              "      <td>16</td>\n",
              "    </tr>\n",
              "    <tr>\n",
              "      <th>orange</th>\n",
              "      <td>2</td>\n",
              "    </tr>\n",
              "  </tbody>\n",
              "</table>\n",
              "</div>"
            ],
            "text/plain": [
              "         0\n",
              "name      \n",
              "apple    3\n",
              "banana  16\n",
              "orange   2"
            ]
          },
          "metadata": {
            "tags": []
          },
          "execution_count": 67
        }
      ]
    },
    {
      "metadata": {
        "id": "YHZ_MewX3iVe",
        "colab_type": "code",
        "colab": {
          "base_uri": "https://localhost:8080/",
          "height": 173
        },
        "outputId": "cd6f2e9e-6a23-48d0-8819-7ff0c45ec422"
      },
      "cell_type": "code",
      "source": [
        "# the column is messed up so correct this\n",
        "df_group.rename(columns={ df_group.columns[0]: \"vwap\" }, inplace = True)\n",
        "df_group.head()"
      ],
      "execution_count": 68,
      "outputs": [
        {
          "output_type": "execute_result",
          "data": {
            "text/html": [
              "<div>\n",
              "<style scoped>\n",
              "    .dataframe tbody tr th:only-of-type {\n",
              "        vertical-align: middle;\n",
              "    }\n",
              "\n",
              "    .dataframe tbody tr th {\n",
              "        vertical-align: top;\n",
              "    }\n",
              "\n",
              "    .dataframe thead th {\n",
              "        text-align: right;\n",
              "    }\n",
              "</style>\n",
              "<table border=\"1\" class=\"dataframe\">\n",
              "  <thead>\n",
              "    <tr style=\"text-align: right;\">\n",
              "      <th></th>\n",
              "      <th>vwap</th>\n",
              "    </tr>\n",
              "    <tr>\n",
              "      <th>name</th>\n",
              "      <th></th>\n",
              "    </tr>\n",
              "  </thead>\n",
              "  <tbody>\n",
              "    <tr>\n",
              "      <th>apple</th>\n",
              "      <td>3</td>\n",
              "    </tr>\n",
              "    <tr>\n",
              "      <th>banana</th>\n",
              "      <td>16</td>\n",
              "    </tr>\n",
              "    <tr>\n",
              "      <th>orange</th>\n",
              "      <td>2</td>\n",
              "    </tr>\n",
              "  </tbody>\n",
              "</table>\n",
              "</div>"
            ],
            "text/plain": [
              "        vwap\n",
              "name        \n",
              "apple      3\n",
              "banana    16\n",
              "orange     2"
            ]
          },
          "metadata": {
            "tags": []
          },
          "execution_count": 68
        }
      ]
    },
    {
      "metadata": {
        "id": "E8vAjxfvytEP",
        "colab_type": "code",
        "colab": {
          "base_uri": "https://localhost:8080/",
          "height": 173
        },
        "outputId": "4ae8ff4a-d79b-418d-fff0-067899d9592f"
      },
      "cell_type": "code",
      "source": [
        "# you can also use the describe function on the group\n",
        "# reference https://www.shanelynn.ie/summarising-aggregation-and-grouping-data-in-python-pandas/\n",
        "df.groupby(['name'])['price'].describe()"
      ],
      "execution_count": 69,
      "outputs": [
        {
          "output_type": "execute_result",
          "data": {
            "text/html": [
              "<div>\n",
              "<style scoped>\n",
              "    .dataframe tbody tr th:only-of-type {\n",
              "        vertical-align: middle;\n",
              "    }\n",
              "\n",
              "    .dataframe tbody tr th {\n",
              "        vertical-align: top;\n",
              "    }\n",
              "\n",
              "    .dataframe thead th {\n",
              "        text-align: right;\n",
              "    }\n",
              "</style>\n",
              "<table border=\"1\" class=\"dataframe\">\n",
              "  <thead>\n",
              "    <tr style=\"text-align: right;\">\n",
              "      <th></th>\n",
              "      <th>count</th>\n",
              "      <th>mean</th>\n",
              "      <th>std</th>\n",
              "      <th>min</th>\n",
              "      <th>25%</th>\n",
              "      <th>50%</th>\n",
              "      <th>75%</th>\n",
              "      <th>max</th>\n",
              "    </tr>\n",
              "    <tr>\n",
              "      <th>name</th>\n",
              "      <th></th>\n",
              "      <th></th>\n",
              "      <th></th>\n",
              "      <th></th>\n",
              "      <th></th>\n",
              "      <th></th>\n",
              "      <th></th>\n",
              "      <th></th>\n",
              "    </tr>\n",
              "  </thead>\n",
              "  <tbody>\n",
              "    <tr>\n",
              "      <th>apple</th>\n",
              "      <td>2.0</td>\n",
              "      <td>3.0</td>\n",
              "      <td>2.828427</td>\n",
              "      <td>1.0</td>\n",
              "      <td>2.0</td>\n",
              "      <td>3.0</td>\n",
              "      <td>4.0</td>\n",
              "      <td>5.0</td>\n",
              "    </tr>\n",
              "    <tr>\n",
              "      <th>banana</th>\n",
              "      <td>2.0</td>\n",
              "      <td>15.0</td>\n",
              "      <td>7.071068</td>\n",
              "      <td>10.0</td>\n",
              "      <td>12.5</td>\n",
              "      <td>15.0</td>\n",
              "      <td>17.5</td>\n",
              "      <td>20.0</td>\n",
              "    </tr>\n",
              "    <tr>\n",
              "      <th>orange</th>\n",
              "      <td>1.0</td>\n",
              "      <td>2.0</td>\n",
              "      <td>NaN</td>\n",
              "      <td>2.0</td>\n",
              "      <td>2.0</td>\n",
              "      <td>2.0</td>\n",
              "      <td>2.0</td>\n",
              "      <td>2.0</td>\n",
              "    </tr>\n",
              "  </tbody>\n",
              "</table>\n",
              "</div>"
            ],
            "text/plain": [
              "        count  mean       std   min   25%   50%   75%   max\n",
              "name                                                       \n",
              "apple     2.0   3.0  2.828427   1.0   2.0   3.0   4.0   5.0\n",
              "banana    2.0  15.0  7.071068  10.0  12.5  15.0  17.5  20.0\n",
              "orange    1.0   2.0       NaN   2.0   2.0   2.0   2.0   2.0"
            ]
          },
          "metadata": {
            "tags": []
          },
          "execution_count": 69
        }
      ]
    },
    {
      "metadata": {
        "id": "Nhzju-OHNpbc",
        "colab_type": "text"
      },
      "cell_type": "markdown",
      "source": [
        "### Indices"
      ]
    },
    {
      "metadata": {
        "id": "WPy22REnNvgL",
        "colab_type": "code",
        "colab": {
          "base_uri": "https://localhost:8080/",
          "height": 102
        },
        "outputId": "c4492ca4-855c-43d4-f90b-7c23960a1e1f"
      },
      "cell_type": "code",
      "source": [
        "# check whether elements of pandas series are in list\n",
        "df = pd.DataFrame({'name':['Apple','Banana','Citrus','Apple']})\n",
        "idx = df['name'].isin(['Apple','Banana'])\n",
        "print(idx)"
      ],
      "execution_count": 70,
      "outputs": [
        {
          "output_type": "stream",
          "text": [
            "0     True\n",
            "1     True\n",
            "2    False\n",
            "3     True\n",
            "Name: name, dtype: bool\n"
          ],
          "name": "stdout"
        }
      ]
    },
    {
      "metadata": {
        "id": "ysGE0Sa4TeEj",
        "colab_type": "text"
      },
      "cell_type": "markdown",
      "source": [
        "### Duplicates"
      ]
    },
    {
      "metadata": {
        "id": "3x8PY8pZTggu",
        "colab_type": "code",
        "colab": {
          "base_uri": "https://localhost:8080/",
          "height": 142
        },
        "outputId": "7e67dc6f-573b-4b54-a9c2-dadfa25db468"
      },
      "cell_type": "code",
      "source": [
        "# drop duplicates in a df\n",
        "df = pd.DataFrame({'name':['Apple','Banana','Citrus','Apple']})\n",
        "df.drop_duplicates(subset=['name'],inplace=True)\n",
        "df.head()"
      ],
      "execution_count": 71,
      "outputs": [
        {
          "output_type": "execute_result",
          "data": {
            "text/html": [
              "<div>\n",
              "<style scoped>\n",
              "    .dataframe tbody tr th:only-of-type {\n",
              "        vertical-align: middle;\n",
              "    }\n",
              "\n",
              "    .dataframe tbody tr th {\n",
              "        vertical-align: top;\n",
              "    }\n",
              "\n",
              "    .dataframe thead th {\n",
              "        text-align: right;\n",
              "    }\n",
              "</style>\n",
              "<table border=\"1\" class=\"dataframe\">\n",
              "  <thead>\n",
              "    <tr style=\"text-align: right;\">\n",
              "      <th></th>\n",
              "      <th>name</th>\n",
              "    </tr>\n",
              "  </thead>\n",
              "  <tbody>\n",
              "    <tr>\n",
              "      <th>0</th>\n",
              "      <td>Apple</td>\n",
              "    </tr>\n",
              "    <tr>\n",
              "      <th>1</th>\n",
              "      <td>Banana</td>\n",
              "    </tr>\n",
              "    <tr>\n",
              "      <th>2</th>\n",
              "      <td>Citrus</td>\n",
              "    </tr>\n",
              "  </tbody>\n",
              "</table>\n",
              "</div>"
            ],
            "text/plain": [
              "     name\n",
              "0   Apple\n",
              "1  Banana\n",
              "2  Citrus"
            ]
          },
          "metadata": {
            "tags": []
          },
          "execution_count": 71
        }
      ]
    },
    {
      "metadata": {
        "id": "u64djkb3fGWk",
        "colab_type": "text"
      },
      "cell_type": "markdown",
      "source": [
        "### Long to wide"
      ]
    },
    {
      "metadata": {
        "id": "5jMBjl7GfLF5",
        "colab_type": "code",
        "colab": {
          "base_uri": "https://localhost:8080/",
          "height": 173
        },
        "outputId": "f3a04ef5-f748-4eed-883b-85e57182c0ca"
      },
      "cell_type": "code",
      "source": [
        "df = pd.DataFrame({'Country':['France','France','Germany','Germany'],'Id':['volume','price','volume','price'],'Value':[3000,42,2500,35]})\n",
        "df.head()"
      ],
      "execution_count": 72,
      "outputs": [
        {
          "output_type": "execute_result",
          "data": {
            "text/html": [
              "<div>\n",
              "<style scoped>\n",
              "    .dataframe tbody tr th:only-of-type {\n",
              "        vertical-align: middle;\n",
              "    }\n",
              "\n",
              "    .dataframe tbody tr th {\n",
              "        vertical-align: top;\n",
              "    }\n",
              "\n",
              "    .dataframe thead th {\n",
              "        text-align: right;\n",
              "    }\n",
              "</style>\n",
              "<table border=\"1\" class=\"dataframe\">\n",
              "  <thead>\n",
              "    <tr style=\"text-align: right;\">\n",
              "      <th></th>\n",
              "      <th>Country</th>\n",
              "      <th>Id</th>\n",
              "      <th>Value</th>\n",
              "    </tr>\n",
              "  </thead>\n",
              "  <tbody>\n",
              "    <tr>\n",
              "      <th>0</th>\n",
              "      <td>France</td>\n",
              "      <td>volume</td>\n",
              "      <td>3000</td>\n",
              "    </tr>\n",
              "    <tr>\n",
              "      <th>1</th>\n",
              "      <td>France</td>\n",
              "      <td>price</td>\n",
              "      <td>42</td>\n",
              "    </tr>\n",
              "    <tr>\n",
              "      <th>2</th>\n",
              "      <td>Germany</td>\n",
              "      <td>volume</td>\n",
              "      <td>2500</td>\n",
              "    </tr>\n",
              "    <tr>\n",
              "      <th>3</th>\n",
              "      <td>Germany</td>\n",
              "      <td>price</td>\n",
              "      <td>35</td>\n",
              "    </tr>\n",
              "  </tbody>\n",
              "</table>\n",
              "</div>"
            ],
            "text/plain": [
              "   Country      Id  Value\n",
              "0   France  volume   3000\n",
              "1   France   price     42\n",
              "2  Germany  volume   2500\n",
              "3  Germany   price     35"
            ]
          },
          "metadata": {
            "tags": []
          },
          "execution_count": 72
        }
      ]
    },
    {
      "metadata": {
        "id": "DEvnaRCVhOXJ",
        "colab_type": "code",
        "colab": {
          "base_uri": "https://localhost:8080/",
          "height": 142
        },
        "outputId": "8733ee88-3d29-437e-f16b-d32a8de7073d"
      },
      "cell_type": "code",
      "source": [
        "# convert to wide format\n",
        "df_wide = df.pivot(index='Country',columns='Id',values = 'Value')\n",
        "df_wide.head()"
      ],
      "execution_count": 73,
      "outputs": [
        {
          "output_type": "execute_result",
          "data": {
            "text/html": [
              "<div>\n",
              "<style scoped>\n",
              "    .dataframe tbody tr th:only-of-type {\n",
              "        vertical-align: middle;\n",
              "    }\n",
              "\n",
              "    .dataframe tbody tr th {\n",
              "        vertical-align: top;\n",
              "    }\n",
              "\n",
              "    .dataframe thead th {\n",
              "        text-align: right;\n",
              "    }\n",
              "</style>\n",
              "<table border=\"1\" class=\"dataframe\">\n",
              "  <thead>\n",
              "    <tr style=\"text-align: right;\">\n",
              "      <th>Id</th>\n",
              "      <th>price</th>\n",
              "      <th>volume</th>\n",
              "    </tr>\n",
              "    <tr>\n",
              "      <th>Country</th>\n",
              "      <th></th>\n",
              "      <th></th>\n",
              "    </tr>\n",
              "  </thead>\n",
              "  <tbody>\n",
              "    <tr>\n",
              "      <th>France</th>\n",
              "      <td>42</td>\n",
              "      <td>3000</td>\n",
              "    </tr>\n",
              "    <tr>\n",
              "      <th>Germany</th>\n",
              "      <td>35</td>\n",
              "      <td>2500</td>\n",
              "    </tr>\n",
              "  </tbody>\n",
              "</table>\n",
              "</div>"
            ],
            "text/plain": [
              "Id       price  volume\n",
              "Country               \n",
              "France      42    3000\n",
              "Germany     35    2500"
            ]
          },
          "metadata": {
            "tags": []
          },
          "execution_count": 73
        }
      ]
    },
    {
      "metadata": {
        "id": "Q9GT7qWrG9X3",
        "colab_type": "code",
        "colab": {
          "base_uri": "https://localhost:8080/",
          "height": 173
        },
        "outputId": "a1523e93-32dd-45ab-ded7-e9253a7e53cc"
      },
      "cell_type": "code",
      "source": [
        "# if you have multiple index you can use pivot_table\n",
        "df = pd.DataFrame({'Country':['France','France','Germany','Germany'],'forecast':['Mon','Mon','Mon','Mon'],'delivery':['Tue','Wed','Tue','Wed'],'Value':[3000,42,2500,35]})\n",
        "df.head()"
      ],
      "execution_count": 74,
      "outputs": [
        {
          "output_type": "execute_result",
          "data": {
            "text/html": [
              "<div>\n",
              "<style scoped>\n",
              "    .dataframe tbody tr th:only-of-type {\n",
              "        vertical-align: middle;\n",
              "    }\n",
              "\n",
              "    .dataframe tbody tr th {\n",
              "        vertical-align: top;\n",
              "    }\n",
              "\n",
              "    .dataframe thead th {\n",
              "        text-align: right;\n",
              "    }\n",
              "</style>\n",
              "<table border=\"1\" class=\"dataframe\">\n",
              "  <thead>\n",
              "    <tr style=\"text-align: right;\">\n",
              "      <th></th>\n",
              "      <th>Country</th>\n",
              "      <th>Value</th>\n",
              "      <th>delivery</th>\n",
              "      <th>forecast</th>\n",
              "    </tr>\n",
              "  </thead>\n",
              "  <tbody>\n",
              "    <tr>\n",
              "      <th>0</th>\n",
              "      <td>France</td>\n",
              "      <td>3000</td>\n",
              "      <td>Tue</td>\n",
              "      <td>Mon</td>\n",
              "    </tr>\n",
              "    <tr>\n",
              "      <th>1</th>\n",
              "      <td>France</td>\n",
              "      <td>42</td>\n",
              "      <td>Wed</td>\n",
              "      <td>Mon</td>\n",
              "    </tr>\n",
              "    <tr>\n",
              "      <th>2</th>\n",
              "      <td>Germany</td>\n",
              "      <td>2500</td>\n",
              "      <td>Tue</td>\n",
              "      <td>Mon</td>\n",
              "    </tr>\n",
              "    <tr>\n",
              "      <th>3</th>\n",
              "      <td>Germany</td>\n",
              "      <td>35</td>\n",
              "      <td>Wed</td>\n",
              "      <td>Mon</td>\n",
              "    </tr>\n",
              "  </tbody>\n",
              "</table>\n",
              "</div>"
            ],
            "text/plain": [
              "   Country  Value delivery forecast\n",
              "0   France   3000      Tue      Mon\n",
              "1   France     42      Wed      Mon\n",
              "2  Germany   2500      Tue      Mon\n",
              "3  Germany     35      Wed      Mon"
            ]
          },
          "metadata": {
            "tags": []
          },
          "execution_count": 74
        }
      ]
    },
    {
      "metadata": {
        "id": "G3blwF2kI1ef",
        "colab_type": "code",
        "colab": {
          "base_uri": "https://localhost:8080/",
          "height": 142
        },
        "outputId": "4f0b0995-0b22-4c68-8ef1-12ba78dca87f"
      },
      "cell_type": "code",
      "source": [
        "df_wide = pd.pivot_table(df, values = 'Value', index=['forecast','delivery'], columns = 'Country')\n",
        "df_wide.head()"
      ],
      "execution_count": 75,
      "outputs": [
        {
          "output_type": "execute_result",
          "data": {
            "text/html": [
              "<div>\n",
              "<style scoped>\n",
              "    .dataframe tbody tr th:only-of-type {\n",
              "        vertical-align: middle;\n",
              "    }\n",
              "\n",
              "    .dataframe tbody tr th {\n",
              "        vertical-align: top;\n",
              "    }\n",
              "\n",
              "    .dataframe thead th {\n",
              "        text-align: right;\n",
              "    }\n",
              "</style>\n",
              "<table border=\"1\" class=\"dataframe\">\n",
              "  <thead>\n",
              "    <tr style=\"text-align: right;\">\n",
              "      <th></th>\n",
              "      <th>Country</th>\n",
              "      <th>France</th>\n",
              "      <th>Germany</th>\n",
              "    </tr>\n",
              "    <tr>\n",
              "      <th>forecast</th>\n",
              "      <th>delivery</th>\n",
              "      <th></th>\n",
              "      <th></th>\n",
              "    </tr>\n",
              "  </thead>\n",
              "  <tbody>\n",
              "    <tr>\n",
              "      <th rowspan=\"2\" valign=\"top\">Mon</th>\n",
              "      <th>Tue</th>\n",
              "      <td>3000</td>\n",
              "      <td>2500</td>\n",
              "    </tr>\n",
              "    <tr>\n",
              "      <th>Wed</th>\n",
              "      <td>42</td>\n",
              "      <td>35</td>\n",
              "    </tr>\n",
              "  </tbody>\n",
              "</table>\n",
              "</div>"
            ],
            "text/plain": [
              "Country            France  Germany\n",
              "forecast delivery                 \n",
              "Mon      Tue         3000     2500\n",
              "         Wed           42       35"
            ]
          },
          "metadata": {
            "tags": []
          },
          "execution_count": 75
        }
      ]
    },
    {
      "metadata": {
        "id": "Rg0_UAd2JIQA",
        "colab_type": "code",
        "colab": {
          "base_uri": "https://localhost:8080/",
          "height": 111
        },
        "outputId": "82173666-2d09-4e44-9813-606a4bc0ddaa"
      },
      "cell_type": "code",
      "source": [
        "df_wide.reset_index(inplace=True)\n",
        "df_wide.head()"
      ],
      "execution_count": 76,
      "outputs": [
        {
          "output_type": "execute_result",
          "data": {
            "text/html": [
              "<div>\n",
              "<style scoped>\n",
              "    .dataframe tbody tr th:only-of-type {\n",
              "        vertical-align: middle;\n",
              "    }\n",
              "\n",
              "    .dataframe tbody tr th {\n",
              "        vertical-align: top;\n",
              "    }\n",
              "\n",
              "    .dataframe thead th {\n",
              "        text-align: right;\n",
              "    }\n",
              "</style>\n",
              "<table border=\"1\" class=\"dataframe\">\n",
              "  <thead>\n",
              "    <tr style=\"text-align: right;\">\n",
              "      <th>Country</th>\n",
              "      <th>forecast</th>\n",
              "      <th>delivery</th>\n",
              "      <th>France</th>\n",
              "      <th>Germany</th>\n",
              "    </tr>\n",
              "  </thead>\n",
              "  <tbody>\n",
              "    <tr>\n",
              "      <th>0</th>\n",
              "      <td>Mon</td>\n",
              "      <td>Tue</td>\n",
              "      <td>3000</td>\n",
              "      <td>2500</td>\n",
              "    </tr>\n",
              "    <tr>\n",
              "      <th>1</th>\n",
              "      <td>Mon</td>\n",
              "      <td>Wed</td>\n",
              "      <td>42</td>\n",
              "      <td>35</td>\n",
              "    </tr>\n",
              "  </tbody>\n",
              "</table>\n",
              "</div>"
            ],
            "text/plain": [
              "Country forecast delivery  France  Germany\n",
              "0            Mon      Tue    3000     2500\n",
              "1            Mon      Wed      42       35"
            ]
          },
          "metadata": {
            "tags": []
          },
          "execution_count": 76
        }
      ]
    },
    {
      "metadata": {
        "id": "D11eHuYHtJvz",
        "colab_type": "text"
      },
      "cell_type": "markdown",
      "source": [
        "### Slice from a dataframe"
      ]
    },
    {
      "metadata": {
        "id": "e7lQE9R6tQhs",
        "colab_type": "code",
        "colab": {}
      },
      "cell_type": "code",
      "source": [
        "df = pd.DataFrame({'wind':[100,150,250],'solar':[50,55,60]})\n",
        "idx = df['wind'] == 150\n",
        "df_slice = df.loc[~idx] # creates an implicit copy will get warning"
      ],
      "execution_count": 0,
      "outputs": []
    },
    {
      "metadata": {
        "id": "CGySnBYat3nB",
        "colab_type": "code",
        "colab": {
          "base_uri": "https://localhost:8080/",
          "height": 391
        },
        "outputId": "22ea77b4-d304-48e9-c853-59ca0d295dad"
      },
      "cell_type": "code",
      "source": [
        "# set a new value to original df\n",
        "\"\"\"\n",
        ".ix is deprecated. Please use\n",
        ".loc for label based indexing or\n",
        ".iloc for positional indexing\n",
        "\"\"\"\n",
        "# see https://github.com/abgoswam/2016/blob/master/062016/python/pandas_views_copy.py\n",
        "\n",
        "df.loc[2,'wind'] = 999\n",
        "print(df)\n",
        "print(\"\")\n",
        "print(df_slice)\n",
        "print(\"\")\n",
        "df_slice.loc[2,'wind'] = -1\n",
        "print(df_slice)"
      ],
      "execution_count": 78,
      "outputs": [
        {
          "output_type": "stream",
          "text": [
            "   solar  wind\n",
            "0     50   100\n",
            "1     55   150\n",
            "2     60   999\n",
            "\n",
            "   solar  wind\n",
            "0     50   100\n",
            "2     60   250\n",
            "\n",
            "   solar  wind\n",
            "0     50   100\n",
            "2     60    -1\n"
          ],
          "name": "stdout"
        },
        {
          "output_type": "stream",
          "text": [
            "/usr/local/lib/python2.7/dist-packages/pandas/core/indexing.py:194: SettingWithCopyWarning: \n",
            "A value is trying to be set on a copy of a slice from a DataFrame\n",
            "\n",
            "See the caveats in the documentation: http://pandas.pydata.org/pandas-docs/stable/indexing.html#indexing-view-versus-copy\n",
            "  self._setitem_with_indexer(indexer, value)\n",
            "/usr/local/lib/python2.7/dist-packages/ipykernel_launcher.py:13: SettingWithCopyWarning: \n",
            "A value is trying to be set on a copy of a slice from a DataFrame\n",
            "\n",
            "See the caveats in the documentation: http://pandas.pydata.org/pandas-docs/stable/indexing.html#indexing-view-versus-copy\n",
            "  del sys.path[0]\n"
          ],
          "name": "stderr"
        }
      ]
    },
    {
      "metadata": {
        "id": "1jphUCfmvmEL",
        "colab_type": "code",
        "colab": {
          "base_uri": "https://localhost:8080/",
          "height": 221
        },
        "outputId": "edd96cfe-abee-4e41-a1ff-a8f200a14ecd"
      },
      "cell_type": "code",
      "source": [
        "df = pd.DataFrame({'wind':[100,150,250],'solar':[50,55,60]})\n",
        "idx = df['wind'] == 150\n",
        "df_slice = df.loc[~idx].copy() # creates an explicit copy no warning\n",
        "print(df)\n",
        "print(\"\")\n",
        "print(df_slice)\n",
        "print(\"\")\n",
        "df_slice.loc[2,'wind'] = -1\n",
        "print(df_slice)"
      ],
      "execution_count": 79,
      "outputs": [
        {
          "output_type": "stream",
          "text": [
            "   solar  wind\n",
            "0     50   100\n",
            "1     55   150\n",
            "2     60   250\n",
            "\n",
            "   solar  wind\n",
            "0     50   100\n",
            "2     60   250\n",
            "\n",
            "   solar  wind\n",
            "0     50   100\n",
            "2     60    -1\n"
          ],
          "name": "stdout"
        }
      ]
    },
    {
      "metadata": {
        "id": "lXjhw8pePHCo",
        "colab_type": "text"
      },
      "cell_type": "markdown",
      "source": [
        "### Merge"
      ]
    },
    {
      "metadata": {
        "id": "kWCIxBE1PKC7",
        "colab_type": "code",
        "colab": {
          "base_uri": "https://localhost:8080/",
          "height": 142
        },
        "outputId": "323f2d7c-4042-4842-bc1e-76529a6a05dd"
      },
      "cell_type": "code",
      "source": [
        "df1 = pd.DataFrame({'name':['appel','banana','orange'],'weight':[10,20,30]}) \n",
        "df2 = pd.DataFrame({'name':['appel','banana'],'price':[1,5]})\n",
        "df_merge = df1.merge(df2,how='left',left_on =['name'],right_on = ['name'])\n",
        "df_merge.head()"
      ],
      "execution_count": 80,
      "outputs": [
        {
          "output_type": "execute_result",
          "data": {
            "text/html": [
              "<div>\n",
              "<style scoped>\n",
              "    .dataframe tbody tr th:only-of-type {\n",
              "        vertical-align: middle;\n",
              "    }\n",
              "\n",
              "    .dataframe tbody tr th {\n",
              "        vertical-align: top;\n",
              "    }\n",
              "\n",
              "    .dataframe thead th {\n",
              "        text-align: right;\n",
              "    }\n",
              "</style>\n",
              "<table border=\"1\" class=\"dataframe\">\n",
              "  <thead>\n",
              "    <tr style=\"text-align: right;\">\n",
              "      <th></th>\n",
              "      <th>name</th>\n",
              "      <th>weight</th>\n",
              "      <th>price</th>\n",
              "    </tr>\n",
              "  </thead>\n",
              "  <tbody>\n",
              "    <tr>\n",
              "      <th>0</th>\n",
              "      <td>appel</td>\n",
              "      <td>10</td>\n",
              "      <td>1.0</td>\n",
              "    </tr>\n",
              "    <tr>\n",
              "      <th>1</th>\n",
              "      <td>banana</td>\n",
              "      <td>20</td>\n",
              "      <td>5.0</td>\n",
              "    </tr>\n",
              "    <tr>\n",
              "      <th>2</th>\n",
              "      <td>orange</td>\n",
              "      <td>30</td>\n",
              "      <td>NaN</td>\n",
              "    </tr>\n",
              "  </tbody>\n",
              "</table>\n",
              "</div>"
            ],
            "text/plain": [
              "     name  weight  price\n",
              "0   appel      10    1.0\n",
              "1  banana      20    5.0\n",
              "2  orange      30    NaN"
            ]
          },
          "metadata": {
            "tags": []
          },
          "execution_count": 80
        }
      ]
    },
    {
      "metadata": {
        "id": "ZReeF1ARSA1K",
        "colab_type": "text"
      },
      "cell_type": "markdown",
      "source": [
        "### Check NA's"
      ]
    },
    {
      "metadata": {
        "id": "OyFC1x4fSEdb",
        "colab_type": "code",
        "colab": {
          "base_uri": "https://localhost:8080/",
          "height": 80
        },
        "outputId": "467b8df1-2255-4147-cafe-a75e1d1ca4e0"
      },
      "cell_type": "code",
      "source": [
        "df_merge[df_merge.isnull().any(axis=1)]"
      ],
      "execution_count": 81,
      "outputs": [
        {
          "output_type": "execute_result",
          "data": {
            "text/html": [
              "<div>\n",
              "<style scoped>\n",
              "    .dataframe tbody tr th:only-of-type {\n",
              "        vertical-align: middle;\n",
              "    }\n",
              "\n",
              "    .dataframe tbody tr th {\n",
              "        vertical-align: top;\n",
              "    }\n",
              "\n",
              "    .dataframe thead th {\n",
              "        text-align: right;\n",
              "    }\n",
              "</style>\n",
              "<table border=\"1\" class=\"dataframe\">\n",
              "  <thead>\n",
              "    <tr style=\"text-align: right;\">\n",
              "      <th></th>\n",
              "      <th>name</th>\n",
              "      <th>weight</th>\n",
              "      <th>price</th>\n",
              "    </tr>\n",
              "  </thead>\n",
              "  <tbody>\n",
              "    <tr>\n",
              "      <th>2</th>\n",
              "      <td>orange</td>\n",
              "      <td>30</td>\n",
              "      <td>NaN</td>\n",
              "    </tr>\n",
              "  </tbody>\n",
              "</table>\n",
              "</div>"
            ],
            "text/plain": [
              "     name  weight  price\n",
              "2  orange      30    NaN"
            ]
          },
          "metadata": {
            "tags": []
          },
          "execution_count": 81
        }
      ]
    },
    {
      "metadata": {
        "id": "mqzxScBY_glV",
        "colab_type": "text"
      },
      "cell_type": "markdown",
      "source": [
        "### Remove row with any zero"
      ]
    },
    {
      "metadata": {
        "id": "Vl5pmY7o_mkY",
        "colab_type": "code",
        "colab": {
          "base_uri": "https://localhost:8080/",
          "height": 142
        },
        "outputId": "14e19ebe-fae0-4d45-b570-1c5277108cb4"
      },
      "cell_type": "code",
      "source": [
        "df = pd.DataFrame({'name':['appel','banana','orange'],'weight':[10,20,0],'cost':[0,11,0]})\n",
        "df"
      ],
      "execution_count": 82,
      "outputs": [
        {
          "output_type": "execute_result",
          "data": {
            "text/html": [
              "<div>\n",
              "<style scoped>\n",
              "    .dataframe tbody tr th:only-of-type {\n",
              "        vertical-align: middle;\n",
              "    }\n",
              "\n",
              "    .dataframe tbody tr th {\n",
              "        vertical-align: top;\n",
              "    }\n",
              "\n",
              "    .dataframe thead th {\n",
              "        text-align: right;\n",
              "    }\n",
              "</style>\n",
              "<table border=\"1\" class=\"dataframe\">\n",
              "  <thead>\n",
              "    <tr style=\"text-align: right;\">\n",
              "      <th></th>\n",
              "      <th>cost</th>\n",
              "      <th>name</th>\n",
              "      <th>weight</th>\n",
              "    </tr>\n",
              "  </thead>\n",
              "  <tbody>\n",
              "    <tr>\n",
              "      <th>0</th>\n",
              "      <td>0</td>\n",
              "      <td>appel</td>\n",
              "      <td>10</td>\n",
              "    </tr>\n",
              "    <tr>\n",
              "      <th>1</th>\n",
              "      <td>11</td>\n",
              "      <td>banana</td>\n",
              "      <td>20</td>\n",
              "    </tr>\n",
              "    <tr>\n",
              "      <th>2</th>\n",
              "      <td>0</td>\n",
              "      <td>orange</td>\n",
              "      <td>0</td>\n",
              "    </tr>\n",
              "  </tbody>\n",
              "</table>\n",
              "</div>"
            ],
            "text/plain": [
              "   cost    name  weight\n",
              "0     0   appel      10\n",
              "1    11  banana      20\n",
              "2     0  orange       0"
            ]
          },
          "metadata": {
            "tags": []
          },
          "execution_count": 82
        }
      ]
    },
    {
      "metadata": {
        "id": "R1ktfTkF_-sy",
        "colab_type": "code",
        "colab": {
          "base_uri": "https://localhost:8080/",
          "height": 85
        },
        "outputId": "0cc33cf0-2855-48df-8e16-f5283e9a4112"
      },
      "cell_type": "code",
      "source": [
        "# get idx of row with zero\n",
        "cols = ['cost','weight']\n",
        "idx = (df[cols] == 0).any(axis=1)\n",
        "print(idx)"
      ],
      "execution_count": 83,
      "outputs": [
        {
          "output_type": "stream",
          "text": [
            "0     True\n",
            "1    False\n",
            "2     True\n",
            "dtype: bool\n"
          ],
          "name": "stdout"
        }
      ]
    },
    {
      "metadata": {
        "id": "pkGnWmdCAUWf",
        "colab_type": "code",
        "colab": {
          "base_uri": "https://localhost:8080/",
          "height": 80
        },
        "outputId": "2519d1f3-79f4-445d-9fad-c9cdcbfbf2fd"
      },
      "cell_type": "code",
      "source": [
        "df2 = df.loc[~idx]\n",
        "df2.reset_index(inplace=True,drop=True)\n",
        "df2.head()"
      ],
      "execution_count": 84,
      "outputs": [
        {
          "output_type": "execute_result",
          "data": {
            "text/html": [
              "<div>\n",
              "<style scoped>\n",
              "    .dataframe tbody tr th:only-of-type {\n",
              "        vertical-align: middle;\n",
              "    }\n",
              "\n",
              "    .dataframe tbody tr th {\n",
              "        vertical-align: top;\n",
              "    }\n",
              "\n",
              "    .dataframe thead th {\n",
              "        text-align: right;\n",
              "    }\n",
              "</style>\n",
              "<table border=\"1\" class=\"dataframe\">\n",
              "  <thead>\n",
              "    <tr style=\"text-align: right;\">\n",
              "      <th></th>\n",
              "      <th>cost</th>\n",
              "      <th>name</th>\n",
              "      <th>weight</th>\n",
              "    </tr>\n",
              "  </thead>\n",
              "  <tbody>\n",
              "    <tr>\n",
              "      <th>0</th>\n",
              "      <td>11</td>\n",
              "      <td>banana</td>\n",
              "      <td>20</td>\n",
              "    </tr>\n",
              "  </tbody>\n",
              "</table>\n",
              "</div>"
            ],
            "text/plain": [
              "   cost    name  weight\n",
              "0    11  banana      20"
            ]
          },
          "metadata": {
            "tags": []
          },
          "execution_count": 84
        }
      ]
    },
    {
      "metadata": {
        "id": "jjXrxsvnIxfb",
        "colab_type": "text"
      },
      "cell_type": "markdown",
      "source": [
        "### Get index of column name"
      ]
    },
    {
      "metadata": {
        "id": "l0ARQ9YlI0s0",
        "colab_type": "code",
        "colab": {
          "base_uri": "https://localhost:8080/",
          "height": 34
        },
        "outputId": "419ef7fa-9694-4223-f6ac-405daba2eb0f"
      },
      "cell_type": "code",
      "source": [
        "df = pd.DataFrame({'name':['apple','banaan','peer'],'weight':[10,19,33]})\n",
        "\n",
        "df.columns"
      ],
      "execution_count": 85,
      "outputs": [
        {
          "output_type": "execute_result",
          "data": {
            "text/plain": [
              "Index([u'name', u'weight'], dtype='object')"
            ]
          },
          "metadata": {
            "tags": []
          },
          "execution_count": 85
        }
      ]
    },
    {
      "metadata": {
        "id": "pO2tFwLSJgrm",
        "colab_type": "code",
        "colab": {
          "base_uri": "https://localhost:8080/",
          "height": 34
        },
        "outputId": "426c0c82-0b35-4dfb-a580-ba6c70b0c009"
      },
      "cell_type": "code",
      "source": [
        "df.columns.get_loc('weight')"
      ],
      "execution_count": 86,
      "outputs": [
        {
          "output_type": "execute_result",
          "data": {
            "text/plain": [
              "1"
            ]
          },
          "metadata": {
            "tags": []
          },
          "execution_count": 86
        }
      ]
    },
    {
      "metadata": {
        "id": "Wkmy6fy9bcbC",
        "colab_type": "text"
      },
      "cell_type": "markdown",
      "source": [
        "### Get index of value"
      ]
    },
    {
      "metadata": {
        "id": "2yWMZmj-bfwT",
        "colab_type": "code",
        "colab": {
          "base_uri": "https://localhost:8080/",
          "height": 34
        },
        "outputId": "3327c794-666f-4c91-8ac4-1b8171232b74"
      },
      "cell_type": "code",
      "source": [
        "a = np.array([1,2,3])\n",
        "#np.where(a == 3)\n",
        "np.argwhere(a==3)[0][0]"
      ],
      "execution_count": 87,
      "outputs": [
        {
          "output_type": "execute_result",
          "data": {
            "text/plain": [
              "2"
            ]
          },
          "metadata": {
            "tags": []
          },
          "execution_count": 87
        }
      ]
    },
    {
      "metadata": {
        "id": "i_8ANdg-TOuU",
        "colab_type": "text"
      },
      "cell_type": "markdown",
      "source": [
        "## Apply and Map"
      ]
    },
    {
      "metadata": {
        "id": "wAkl7EkDP_aM",
        "colab_type": "code",
        "colab": {
          "base_uri": "https://localhost:8080/",
          "height": 142
        },
        "outputId": "f146b669-a642-4a30-a77f-43b37979058d"
      },
      "cell_type": "code",
      "source": [
        "# make new column using the map function\n",
        "# http://book.pythontips.com/en/latest/map_filter.html\n",
        "df = pd.DataFrame({'name':['apple','banaan','peer'],'price':[10,19,33]})\n",
        "df['price_sqr_map'] = list(map(lambda x: x**2, df['price']))\n",
        "df.head()"
      ],
      "execution_count": 88,
      "outputs": [
        {
          "output_type": "execute_result",
          "data": {
            "text/html": [
              "<div>\n",
              "<style scoped>\n",
              "    .dataframe tbody tr th:only-of-type {\n",
              "        vertical-align: middle;\n",
              "    }\n",
              "\n",
              "    .dataframe tbody tr th {\n",
              "        vertical-align: top;\n",
              "    }\n",
              "\n",
              "    .dataframe thead th {\n",
              "        text-align: right;\n",
              "    }\n",
              "</style>\n",
              "<table border=\"1\" class=\"dataframe\">\n",
              "  <thead>\n",
              "    <tr style=\"text-align: right;\">\n",
              "      <th></th>\n",
              "      <th>name</th>\n",
              "      <th>price</th>\n",
              "      <th>price_sqr_map</th>\n",
              "    </tr>\n",
              "  </thead>\n",
              "  <tbody>\n",
              "    <tr>\n",
              "      <th>0</th>\n",
              "      <td>apple</td>\n",
              "      <td>10</td>\n",
              "      <td>100</td>\n",
              "    </tr>\n",
              "    <tr>\n",
              "      <th>1</th>\n",
              "      <td>banaan</td>\n",
              "      <td>19</td>\n",
              "      <td>361</td>\n",
              "    </tr>\n",
              "    <tr>\n",
              "      <th>2</th>\n",
              "      <td>peer</td>\n",
              "      <td>33</td>\n",
              "      <td>1089</td>\n",
              "    </tr>\n",
              "  </tbody>\n",
              "</table>\n",
              "</div>"
            ],
            "text/plain": [
              "     name  price  price_sqr_map\n",
              "0   apple     10            100\n",
              "1  banaan     19            361\n",
              "2    peer     33           1089"
            ]
          },
          "metadata": {
            "tags": []
          },
          "execution_count": 88
        }
      ]
    },
    {
      "metadata": {
        "id": "BSWPP13VRVh6",
        "colab_type": "code",
        "colab": {
          "base_uri": "https://localhost:8080/",
          "height": 142
        },
        "outputId": "4cfc9cf9-6282-4430-8315-acd6288afcf1"
      },
      "cell_type": "code",
      "source": [
        "# make new column using the map function, add price + price_sqr\n",
        "# http://pythonfiddle.com/map-with-multiple-arguments/\n",
        "df['price_sqr_map2'] = list(map(lambda x,y: x+y, df['price'],df['price_sqr_map']))\n",
        "df.head()"
      ],
      "execution_count": 90,
      "outputs": [
        {
          "output_type": "execute_result",
          "data": {
            "text/html": [
              "<div>\n",
              "<style scoped>\n",
              "    .dataframe tbody tr th:only-of-type {\n",
              "        vertical-align: middle;\n",
              "    }\n",
              "\n",
              "    .dataframe tbody tr th {\n",
              "        vertical-align: top;\n",
              "    }\n",
              "\n",
              "    .dataframe thead th {\n",
              "        text-align: right;\n",
              "    }\n",
              "</style>\n",
              "<table border=\"1\" class=\"dataframe\">\n",
              "  <thead>\n",
              "    <tr style=\"text-align: right;\">\n",
              "      <th></th>\n",
              "      <th>name</th>\n",
              "      <th>price</th>\n",
              "      <th>price_sqr_map</th>\n",
              "      <th>price_sqr_map2</th>\n",
              "    </tr>\n",
              "  </thead>\n",
              "  <tbody>\n",
              "    <tr>\n",
              "      <th>0</th>\n",
              "      <td>apple</td>\n",
              "      <td>10</td>\n",
              "      <td>100</td>\n",
              "      <td>110</td>\n",
              "    </tr>\n",
              "    <tr>\n",
              "      <th>1</th>\n",
              "      <td>banaan</td>\n",
              "      <td>19</td>\n",
              "      <td>361</td>\n",
              "      <td>380</td>\n",
              "    </tr>\n",
              "    <tr>\n",
              "      <th>2</th>\n",
              "      <td>peer</td>\n",
              "      <td>33</td>\n",
              "      <td>1089</td>\n",
              "      <td>1122</td>\n",
              "    </tr>\n",
              "  </tbody>\n",
              "</table>\n",
              "</div>"
            ],
            "text/plain": [
              "     name  price  price_sqr_map  price_sqr_map2\n",
              "0   apple     10            100             110\n",
              "1  banaan     19            361             380\n",
              "2    peer     33           1089            1122"
            ]
          },
          "metadata": {
            "tags": []
          },
          "execution_count": 90
        }
      ]
    },
    {
      "metadata": {
        "id": "MPQnj9e9TtQl",
        "colab_type": "text"
      },
      "cell_type": "markdown",
      "source": [
        "## Dates"
      ]
    },
    {
      "metadata": {
        "id": "2jBIHk7A-rzy",
        "colab_type": "text"
      },
      "cell_type": "markdown",
      "source": [
        "### General"
      ]
    },
    {
      "metadata": {
        "id": "k5WI10DCVSpL",
        "colab_type": "code",
        "colab": {
          "base_uri": "https://localhost:8080/",
          "height": 68
        },
        "outputId": "5a6770e5-a514-4aa0-c895-537cf0b00e58"
      },
      "cell_type": "code",
      "source": [
        "# create datetime object\n",
        "a = dt.datetime(2018,5,9,0,0) # constructor, a datetime object a is created \n",
        "b = dt.datetime.today() # constructor\n",
        "c = dt.date(2018,10,28)\n",
        "print(a)\n",
        "print (b)\n",
        "print(c)"
      ],
      "execution_count": 91,
      "outputs": [
        {
          "output_type": "stream",
          "text": [
            "2018-05-09 00:00:00\n",
            "2018-06-30 21:10:30.303520\n",
            "2018-10-28\n"
          ],
          "name": "stdout"
        }
      ]
    },
    {
      "metadata": {
        "id": "WGAwB9xKXq4e",
        "colab_type": "code",
        "colab": {
          "base_uri": "https://localhost:8080/",
          "height": 85
        },
        "outputId": "ace1ecd7-476c-402c-83d6-46e3fd2bf923"
      },
      "cell_type": "code",
      "source": [
        "# the object has several attributes\n",
        "print (a.year)\n",
        "print (a.month)\n",
        "print(a.date())\n",
        "print(a.isoweekday())"
      ],
      "execution_count": 92,
      "outputs": [
        {
          "output_type": "stream",
          "text": [
            "2018\n",
            "5\n",
            "2018-05-09\n",
            "3\n"
          ],
          "name": "stdout"
        }
      ]
    },
    {
      "metadata": {
        "id": "udlwA_-0WFvb",
        "colab_type": "code",
        "colab": {
          "base_uri": "https://localhost:8080/",
          "height": 34
        },
        "outputId": "9585ee01-8ac2-4596-f021-b96eed4895b8"
      },
      "cell_type": "code",
      "source": [
        "# Conversely, the datetime.strptime() class method creates a datetime object from a string representing a date and time and a corresponding format string\n",
        "a = dt.datetime.strptime('2018-05-09',\"%Y-%m-%d\")\n",
        "print(a)"
      ],
      "execution_count": 93,
      "outputs": [
        {
          "output_type": "stream",
          "text": [
            "2018-05-09 00:00:00\n"
          ],
          "name": "stdout"
        }
      ]
    },
    {
      "metadata": {
        "id": "TgxlAIqIY5lP",
        "colab_type": "code",
        "colab": {
          "base_uri": "https://localhost:8080/",
          "height": 68
        },
        "outputId": "3607dd8a-a744-4ce5-a7e4-b2a9cb7ca5b2"
      },
      "cell_type": "code",
      "source": [
        "# convert to string with format\n",
        "print(a.strftime(\"%Y-%m-%d\"))\n",
        "print(a.strftime(\"%Y%m%d\"))\n",
        "print(type(a.strftime(\"%Y%m%d\")))"
      ],
      "execution_count": 94,
      "outputs": [
        {
          "output_type": "stream",
          "text": [
            "2018-05-09\n",
            "20180509\n",
            "<type 'str'>\n"
          ],
          "name": "stdout"
        }
      ]
    },
    {
      "metadata": {
        "id": "nFs_XTT0eNID",
        "colab_type": "code",
        "colab": {
          "base_uri": "https://localhost:8080/",
          "height": 68
        },
        "outputId": "3fd67fd0-7d1c-49d7-f00b-2fd7f4f0abcd"
      },
      "cell_type": "code",
      "source": [
        "# make dataframe with only index\n",
        "\n",
        "startdate=dt.datetime(2018,1,1,0,0)\n",
        "enddate=dt.datetime(2018,12,31,23,59)\n",
        "\n",
        "delivery_date = pd.date_range(startdate,enddate,freq='1H',tz='Europe/Amsterdam')\n",
        "df = pd.DataFrame(index = delivery_date) \n",
        "df.reset_index(inplace=True)\n",
        "df.rename(columns={'index':'delivery_date'},inplace=True)\n",
        "print(df.tail(2))"
      ],
      "execution_count": 95,
      "outputs": [
        {
          "output_type": "stream",
          "text": [
            "                 delivery_date\n",
            "8758 2018-12-31 22:00:00+01:00\n",
            "8759 2018-12-31 23:00:00+01:00\n"
          ],
          "name": "stdout"
        }
      ]
    },
    {
      "metadata": {
        "id": "Qu_uBNvmeZej",
        "colab_type": "code",
        "colab": {
          "base_uri": "https://localhost:8080/",
          "height": 68
        },
        "outputId": "65877259-0326-4830-e070-9520e1794588"
      },
      "cell_type": "code",
      "source": [
        "# convert datetime to date\n",
        "df['date'] = df['delivery_date'].apply(lambda x: x.date())\n",
        "print(df.tail(2))"
      ],
      "execution_count": 96,
      "outputs": [
        {
          "output_type": "stream",
          "text": [
            "                 delivery_date        date\n",
            "8758 2018-12-31 22:00:00+01:00  2018-12-31\n",
            "8759 2018-12-31 23:00:00+01:00  2018-12-31\n"
          ],
          "name": "stdout"
        }
      ]
    },
    {
      "metadata": {
        "id": "inNvMTUXfU2Z",
        "colab_type": "code",
        "colab": {
          "base_uri": "https://localhost:8080/",
          "height": 142
        },
        "outputId": "7d8dfef0-eb51-4ee9-ebab-75367e411db4"
      },
      "cell_type": "code",
      "source": [
        "# convert to utc\n",
        "df.index = df['delivery_date'] \n",
        "df.index = df.index.tz_convert('UTC') # tz_convert only works on index, as index is unique\n",
        "df['delivery_date_utc'] = df.index\n",
        "df.tail(2)"
      ],
      "execution_count": 97,
      "outputs": [
        {
          "output_type": "execute_result",
          "data": {
            "text/html": [
              "<div>\n",
              "<style scoped>\n",
              "    .dataframe tbody tr th:only-of-type {\n",
              "        vertical-align: middle;\n",
              "    }\n",
              "\n",
              "    .dataframe tbody tr th {\n",
              "        vertical-align: top;\n",
              "    }\n",
              "\n",
              "    .dataframe thead th {\n",
              "        text-align: right;\n",
              "    }\n",
              "</style>\n",
              "<table border=\"1\" class=\"dataframe\">\n",
              "  <thead>\n",
              "    <tr style=\"text-align: right;\">\n",
              "      <th></th>\n",
              "      <th>delivery_date</th>\n",
              "      <th>date</th>\n",
              "      <th>delivery_date_utc</th>\n",
              "    </tr>\n",
              "    <tr>\n",
              "      <th>delivery_date</th>\n",
              "      <th></th>\n",
              "      <th></th>\n",
              "      <th></th>\n",
              "    </tr>\n",
              "  </thead>\n",
              "  <tbody>\n",
              "    <tr>\n",
              "      <th>2018-12-31 21:00:00+00:00</th>\n",
              "      <td>2018-12-31 22:00:00+01:00</td>\n",
              "      <td>2018-12-31</td>\n",
              "      <td>2018-12-31 21:00:00+00:00</td>\n",
              "    </tr>\n",
              "    <tr>\n",
              "      <th>2018-12-31 22:00:00+00:00</th>\n",
              "      <td>2018-12-31 23:00:00+01:00</td>\n",
              "      <td>2018-12-31</td>\n",
              "      <td>2018-12-31 22:00:00+00:00</td>\n",
              "    </tr>\n",
              "  </tbody>\n",
              "</table>\n",
              "</div>"
            ],
            "text/plain": [
              "                                      delivery_date        date  \\\n",
              "delivery_date                                                     \n",
              "2018-12-31 21:00:00+00:00 2018-12-31 22:00:00+01:00  2018-12-31   \n",
              "2018-12-31 22:00:00+00:00 2018-12-31 23:00:00+01:00  2018-12-31   \n",
              "\n",
              "                                  delivery_date_utc  \n",
              "delivery_date                                        \n",
              "2018-12-31 21:00:00+00:00 2018-12-31 21:00:00+00:00  \n",
              "2018-12-31 22:00:00+00:00 2018-12-31 22:00:00+00:00  "
            ]
          },
          "metadata": {
            "tags": []
          },
          "execution_count": 97
        }
      ]
    },
    {
      "metadata": {
        "id": "Z3Iocgd6P9l0",
        "colab_type": "code",
        "colab": {
          "base_uri": "https://localhost:8080/",
          "height": 173
        },
        "outputId": "c0fc62b5-a350-484f-bd5e-428dab356e09"
      },
      "cell_type": "code",
      "source": [
        "# Also the series can be localized\n",
        "df = pd.DataFrame({'ForecastDate':['2018-10-28 01:00:00','2018-10-28 02:00:00','2018-10-28 02:00:00','2018-10-28 03:00:00']})\n",
        "df['ForecastDate_local'] = pd.to_datetime(df['ForecastDate'],format='%Y-%m-%d %H:%M:%S')\n",
        "df.head()"
      ],
      "execution_count": 98,
      "outputs": [
        {
          "output_type": "execute_result",
          "data": {
            "text/html": [
              "<div>\n",
              "<style scoped>\n",
              "    .dataframe tbody tr th:only-of-type {\n",
              "        vertical-align: middle;\n",
              "    }\n",
              "\n",
              "    .dataframe tbody tr th {\n",
              "        vertical-align: top;\n",
              "    }\n",
              "\n",
              "    .dataframe thead th {\n",
              "        text-align: right;\n",
              "    }\n",
              "</style>\n",
              "<table border=\"1\" class=\"dataframe\">\n",
              "  <thead>\n",
              "    <tr style=\"text-align: right;\">\n",
              "      <th></th>\n",
              "      <th>ForecastDate</th>\n",
              "      <th>ForecastDate_local</th>\n",
              "    </tr>\n",
              "  </thead>\n",
              "  <tbody>\n",
              "    <tr>\n",
              "      <th>0</th>\n",
              "      <td>2018-10-28 01:00:00</td>\n",
              "      <td>2018-10-28 01:00:00</td>\n",
              "    </tr>\n",
              "    <tr>\n",
              "      <th>1</th>\n",
              "      <td>2018-10-28 02:00:00</td>\n",
              "      <td>2018-10-28 02:00:00</td>\n",
              "    </tr>\n",
              "    <tr>\n",
              "      <th>2</th>\n",
              "      <td>2018-10-28 02:00:00</td>\n",
              "      <td>2018-10-28 02:00:00</td>\n",
              "    </tr>\n",
              "    <tr>\n",
              "      <th>3</th>\n",
              "      <td>2018-10-28 03:00:00</td>\n",
              "      <td>2018-10-28 03:00:00</td>\n",
              "    </tr>\n",
              "  </tbody>\n",
              "</table>\n",
              "</div>"
            ],
            "text/plain": [
              "          ForecastDate  ForecastDate_local\n",
              "0  2018-10-28 01:00:00 2018-10-28 01:00:00\n",
              "1  2018-10-28 02:00:00 2018-10-28 02:00:00\n",
              "2  2018-10-28 02:00:00 2018-10-28 02:00:00\n",
              "3  2018-10-28 03:00:00 2018-10-28 03:00:00"
            ]
          },
          "metadata": {
            "tags": []
          },
          "execution_count": 98
        }
      ]
    },
    {
      "metadata": {
        "id": "UFX9ADBdR7_0",
        "colab_type": "code",
        "colab": {
          "base_uri": "https://localhost:8080/",
          "height": 173
        },
        "outputId": "2bc79fca-c526-4970-ea51-ec0d729c9c1a"
      },
      "cell_type": "code",
      "source": [
        "# series still time zone naive so make it time zone aware\n",
        "df['ForecastDate_local2'] = df['ForecastDate_local'].dt.tz_localize('Europe/Amsterdam',ambiguous='infer')\n",
        "df.head()"
      ],
      "execution_count": 99,
      "outputs": [
        {
          "output_type": "execute_result",
          "data": {
            "text/html": [
              "<div>\n",
              "<style scoped>\n",
              "    .dataframe tbody tr th:only-of-type {\n",
              "        vertical-align: middle;\n",
              "    }\n",
              "\n",
              "    .dataframe tbody tr th {\n",
              "        vertical-align: top;\n",
              "    }\n",
              "\n",
              "    .dataframe thead th {\n",
              "        text-align: right;\n",
              "    }\n",
              "</style>\n",
              "<table border=\"1\" class=\"dataframe\">\n",
              "  <thead>\n",
              "    <tr style=\"text-align: right;\">\n",
              "      <th></th>\n",
              "      <th>ForecastDate</th>\n",
              "      <th>ForecastDate_local</th>\n",
              "      <th>ForecastDate_local2</th>\n",
              "    </tr>\n",
              "  </thead>\n",
              "  <tbody>\n",
              "    <tr>\n",
              "      <th>0</th>\n",
              "      <td>2018-10-28 01:00:00</td>\n",
              "      <td>2018-10-28 01:00:00</td>\n",
              "      <td>2018-10-28 01:00:00+02:00</td>\n",
              "    </tr>\n",
              "    <tr>\n",
              "      <th>1</th>\n",
              "      <td>2018-10-28 02:00:00</td>\n",
              "      <td>2018-10-28 02:00:00</td>\n",
              "      <td>2018-10-28 02:00:00+02:00</td>\n",
              "    </tr>\n",
              "    <tr>\n",
              "      <th>2</th>\n",
              "      <td>2018-10-28 02:00:00</td>\n",
              "      <td>2018-10-28 02:00:00</td>\n",
              "      <td>2018-10-28 02:00:00+01:00</td>\n",
              "    </tr>\n",
              "    <tr>\n",
              "      <th>3</th>\n",
              "      <td>2018-10-28 03:00:00</td>\n",
              "      <td>2018-10-28 03:00:00</td>\n",
              "      <td>2018-10-28 03:00:00+01:00</td>\n",
              "    </tr>\n",
              "  </tbody>\n",
              "</table>\n",
              "</div>"
            ],
            "text/plain": [
              "          ForecastDate  ForecastDate_local       ForecastDate_local2\n",
              "0  2018-10-28 01:00:00 2018-10-28 01:00:00 2018-10-28 01:00:00+02:00\n",
              "1  2018-10-28 02:00:00 2018-10-28 02:00:00 2018-10-28 02:00:00+02:00\n",
              "2  2018-10-28 02:00:00 2018-10-28 02:00:00 2018-10-28 02:00:00+01:00\n",
              "3  2018-10-28 03:00:00 2018-10-28 03:00:00 2018-10-28 03:00:00+01:00"
            ]
          },
          "metadata": {
            "tags": []
          },
          "execution_count": 99
        }
      ]
    },
    {
      "metadata": {
        "id": "XOh_C8V7Sf41",
        "colab_type": "code",
        "colab": {
          "base_uri": "https://localhost:8080/",
          "height": 173
        },
        "outputId": "baa52cff-d160-429b-fb0c-9799c7c1033e"
      },
      "cell_type": "code",
      "source": [
        "# Also dt has other function\n",
        "# see https://pandas.pydata.org/pandas-docs/stable/api.html#datetimelike-properties\n",
        "df['date'] = df['ForecastDate_local2'].dt.date\n",
        "df.head()"
      ],
      "execution_count": 100,
      "outputs": [
        {
          "output_type": "execute_result",
          "data": {
            "text/html": [
              "<div>\n",
              "<style scoped>\n",
              "    .dataframe tbody tr th:only-of-type {\n",
              "        vertical-align: middle;\n",
              "    }\n",
              "\n",
              "    .dataframe tbody tr th {\n",
              "        vertical-align: top;\n",
              "    }\n",
              "\n",
              "    .dataframe thead th {\n",
              "        text-align: right;\n",
              "    }\n",
              "</style>\n",
              "<table border=\"1\" class=\"dataframe\">\n",
              "  <thead>\n",
              "    <tr style=\"text-align: right;\">\n",
              "      <th></th>\n",
              "      <th>ForecastDate</th>\n",
              "      <th>ForecastDate_local</th>\n",
              "      <th>ForecastDate_local2</th>\n",
              "      <th>date</th>\n",
              "    </tr>\n",
              "  </thead>\n",
              "  <tbody>\n",
              "    <tr>\n",
              "      <th>0</th>\n",
              "      <td>2018-10-28 01:00:00</td>\n",
              "      <td>2018-10-28 01:00:00</td>\n",
              "      <td>2018-10-28 01:00:00+02:00</td>\n",
              "      <td>2018-10-28</td>\n",
              "    </tr>\n",
              "    <tr>\n",
              "      <th>1</th>\n",
              "      <td>2018-10-28 02:00:00</td>\n",
              "      <td>2018-10-28 02:00:00</td>\n",
              "      <td>2018-10-28 02:00:00+02:00</td>\n",
              "      <td>2018-10-28</td>\n",
              "    </tr>\n",
              "    <tr>\n",
              "      <th>2</th>\n",
              "      <td>2018-10-28 02:00:00</td>\n",
              "      <td>2018-10-28 02:00:00</td>\n",
              "      <td>2018-10-28 02:00:00+01:00</td>\n",
              "      <td>2018-10-28</td>\n",
              "    </tr>\n",
              "    <tr>\n",
              "      <th>3</th>\n",
              "      <td>2018-10-28 03:00:00</td>\n",
              "      <td>2018-10-28 03:00:00</td>\n",
              "      <td>2018-10-28 03:00:00+01:00</td>\n",
              "      <td>2018-10-28</td>\n",
              "    </tr>\n",
              "  </tbody>\n",
              "</table>\n",
              "</div>"
            ],
            "text/plain": [
              "          ForecastDate  ForecastDate_local       ForecastDate_local2  \\\n",
              "0  2018-10-28 01:00:00 2018-10-28 01:00:00 2018-10-28 01:00:00+02:00   \n",
              "1  2018-10-28 02:00:00 2018-10-28 02:00:00 2018-10-28 02:00:00+02:00   \n",
              "2  2018-10-28 02:00:00 2018-10-28 02:00:00 2018-10-28 02:00:00+01:00   \n",
              "3  2018-10-28 03:00:00 2018-10-28 03:00:00 2018-10-28 03:00:00+01:00   \n",
              "\n",
              "         date  \n",
              "0  2018-10-28  \n",
              "1  2018-10-28  \n",
              "2  2018-10-28  \n",
              "3  2018-10-28  "
            ]
          },
          "metadata": {
            "tags": []
          },
          "execution_count": 100
        }
      ]
    },
    {
      "metadata": {
        "id": "RiT0C6kOw7kK",
        "colab_type": "code",
        "colab": {
          "base_uri": "https://localhost:8080/",
          "height": 173
        },
        "outputId": "1d1600c3-5681-42f1-ffb8-84311338fd8e"
      },
      "cell_type": "code",
      "source": [
        "idx = df['date']==dt.date(2018,10,28)\n",
        "df[idx].head(5)"
      ],
      "execution_count": 101,
      "outputs": [
        {
          "output_type": "execute_result",
          "data": {
            "text/html": [
              "<div>\n",
              "<style scoped>\n",
              "    .dataframe tbody tr th:only-of-type {\n",
              "        vertical-align: middle;\n",
              "    }\n",
              "\n",
              "    .dataframe tbody tr th {\n",
              "        vertical-align: top;\n",
              "    }\n",
              "\n",
              "    .dataframe thead th {\n",
              "        text-align: right;\n",
              "    }\n",
              "</style>\n",
              "<table border=\"1\" class=\"dataframe\">\n",
              "  <thead>\n",
              "    <tr style=\"text-align: right;\">\n",
              "      <th></th>\n",
              "      <th>ForecastDate</th>\n",
              "      <th>ForecastDate_local</th>\n",
              "      <th>ForecastDate_local2</th>\n",
              "      <th>date</th>\n",
              "    </tr>\n",
              "  </thead>\n",
              "  <tbody>\n",
              "    <tr>\n",
              "      <th>0</th>\n",
              "      <td>2018-10-28 01:00:00</td>\n",
              "      <td>2018-10-28 01:00:00</td>\n",
              "      <td>2018-10-28 01:00:00+02:00</td>\n",
              "      <td>2018-10-28</td>\n",
              "    </tr>\n",
              "    <tr>\n",
              "      <th>1</th>\n",
              "      <td>2018-10-28 02:00:00</td>\n",
              "      <td>2018-10-28 02:00:00</td>\n",
              "      <td>2018-10-28 02:00:00+02:00</td>\n",
              "      <td>2018-10-28</td>\n",
              "    </tr>\n",
              "    <tr>\n",
              "      <th>2</th>\n",
              "      <td>2018-10-28 02:00:00</td>\n",
              "      <td>2018-10-28 02:00:00</td>\n",
              "      <td>2018-10-28 02:00:00+01:00</td>\n",
              "      <td>2018-10-28</td>\n",
              "    </tr>\n",
              "    <tr>\n",
              "      <th>3</th>\n",
              "      <td>2018-10-28 03:00:00</td>\n",
              "      <td>2018-10-28 03:00:00</td>\n",
              "      <td>2018-10-28 03:00:00+01:00</td>\n",
              "      <td>2018-10-28</td>\n",
              "    </tr>\n",
              "  </tbody>\n",
              "</table>\n",
              "</div>"
            ],
            "text/plain": [
              "          ForecastDate  ForecastDate_local       ForecastDate_local2  \\\n",
              "0  2018-10-28 01:00:00 2018-10-28 01:00:00 2018-10-28 01:00:00+02:00   \n",
              "1  2018-10-28 02:00:00 2018-10-28 02:00:00 2018-10-28 02:00:00+02:00   \n",
              "2  2018-10-28 02:00:00 2018-10-28 02:00:00 2018-10-28 02:00:00+01:00   \n",
              "3  2018-10-28 03:00:00 2018-10-28 03:00:00 2018-10-28 03:00:00+01:00   \n",
              "\n",
              "         date  \n",
              "0  2018-10-28  \n",
              "1  2018-10-28  \n",
              "2  2018-10-28  \n",
              "3  2018-10-28  "
            ]
          },
          "metadata": {
            "tags": []
          },
          "execution_count": 101
        }
      ]
    },
    {
      "metadata": {
        "id": "2ze9iuN_-g_Y",
        "colab_type": "code",
        "colab": {
          "base_uri": "https://localhost:8080/",
          "height": 34
        },
        "outputId": "c3fa4536-6568-4fb5-ab1e-ca2a870a1000"
      },
      "cell_type": "code",
      "source": [
        "# now make a timezone aware\n",
        "a = dt.datetime(2018,5,9,0,0) # constructor, a datetime object a is created \n",
        "tzinfo = pytz.timezone('Europe/Amsterdam')\n",
        "b = tzinfo.localize(a)\n",
        "print (b)"
      ],
      "execution_count": 102,
      "outputs": [
        {
          "output_type": "stream",
          "text": [
            "2018-05-09 00:00:00+02:00\n"
          ],
          "name": "stdout"
        }
      ]
    },
    {
      "metadata": {
        "id": "G_AooM3HO_ng",
        "colab_type": "code",
        "colab": {
          "base_uri": "https://localhost:8080/",
          "height": 34
        },
        "outputId": "a28794f6-0d08-4272-c852-696010899570"
      },
      "cell_type": "code",
      "source": [
        "# convert c to utc\n",
        "utc = pytz.timezone('UTC')\n",
        "c = b.astimezone(utc)\n",
        "print(c)"
      ],
      "execution_count": 103,
      "outputs": [
        {
          "output_type": "stream",
          "text": [
            "2018-05-08 22:00:00+00:00\n"
          ],
          "name": "stdout"
        }
      ]
    },
    {
      "metadata": {
        "id": "9B8_ZuYG-k4J",
        "colab_type": "code",
        "colab": {
          "base_uri": "https://localhost:8080/",
          "height": 34
        },
        "outputId": "29fb1a84-3414-4849-f574-6962e3673c50"
      },
      "cell_type": "code",
      "source": [
        "print (dt.datetime.today())"
      ],
      "execution_count": 104,
      "outputs": [
        {
          "output_type": "stream",
          "text": [
            "2018-06-30 21:10:41.034045\n"
          ],
          "name": "stdout"
        }
      ]
    },
    {
      "metadata": {
        "id": "wseV6y9Z7kpS",
        "colab_type": "code",
        "colab": {
          "base_uri": "https://localhost:8080/",
          "height": 111
        },
        "outputId": "bcf17551-360d-489a-a8c1-5e4afdb05993"
      },
      "cell_type": "code",
      "source": [
        "# make mapping between CEST and UTC\n",
        "startdate=dt.datetime(2018,1,1,0,0)\n",
        "enddate=dt.datetime(2050,1,1,0,0)\n",
        "\n",
        "delivery_date = pd.date_range(startdate,enddate,freq='1H',tz='Europe/Amsterdam')\n",
        "df = pd.DataFrame(index = delivery_date) \n",
        "df.reset_index(inplace=True)\n",
        "df.rename(columns={'index':'date_local'},inplace=True)\n",
        "\n",
        "df['date_utc'] = df['date_local'].dt.tz_convert('UTC')\n",
        "df.tail(2)"
      ],
      "execution_count": 105,
      "outputs": [
        {
          "output_type": "execute_result",
          "data": {
            "text/html": [
              "<div>\n",
              "<style scoped>\n",
              "    .dataframe tbody tr th:only-of-type {\n",
              "        vertical-align: middle;\n",
              "    }\n",
              "\n",
              "    .dataframe tbody tr th {\n",
              "        vertical-align: top;\n",
              "    }\n",
              "\n",
              "    .dataframe thead th {\n",
              "        text-align: right;\n",
              "    }\n",
              "</style>\n",
              "<table border=\"1\" class=\"dataframe\">\n",
              "  <thead>\n",
              "    <tr style=\"text-align: right;\">\n",
              "      <th></th>\n",
              "      <th>date_local</th>\n",
              "      <th>date_utc</th>\n",
              "    </tr>\n",
              "  </thead>\n",
              "  <tbody>\n",
              "    <tr>\n",
              "      <th>280511</th>\n",
              "      <td>2049-12-31 23:00:00+01:00</td>\n",
              "      <td>2049-12-31 22:00:00+00:00</td>\n",
              "    </tr>\n",
              "    <tr>\n",
              "      <th>280512</th>\n",
              "      <td>2050-01-01 00:00:00+01:00</td>\n",
              "      <td>2049-12-31 23:00:00+00:00</td>\n",
              "    </tr>\n",
              "  </tbody>\n",
              "</table>\n",
              "</div>"
            ],
            "text/plain": [
              "                      date_local                  date_utc\n",
              "280511 2049-12-31 23:00:00+01:00 2049-12-31 22:00:00+00:00\n",
              "280512 2050-01-01 00:00:00+01:00 2049-12-31 23:00:00+00:00"
            ]
          },
          "metadata": {
            "tags": []
          },
          "execution_count": 105
        }
      ]
    },
    {
      "metadata": {
        "id": "d4NUlVtI-RpQ",
        "colab_type": "code",
        "colab": {
          "base_uri": "https://localhost:8080/",
          "height": 111
        },
        "outputId": "94e86c59-3341-456b-86e5-893ce6102615"
      },
      "cell_type": "code",
      "source": [
        "# change the format\n",
        "df['date_local2'] = df['date_local'].apply(lambda x: x.strftime(\"%d-%m-%Y %H:%M\"))\n",
        "df['date_utc2'] = df['date_utc'].apply(lambda x: x.strftime(\"%d-%m-%Y %H:%M\"))\n",
        "df.head(2)"
      ],
      "execution_count": 106,
      "outputs": [
        {
          "output_type": "execute_result",
          "data": {
            "text/html": [
              "<div>\n",
              "<style scoped>\n",
              "    .dataframe tbody tr th:only-of-type {\n",
              "        vertical-align: middle;\n",
              "    }\n",
              "\n",
              "    .dataframe tbody tr th {\n",
              "        vertical-align: top;\n",
              "    }\n",
              "\n",
              "    .dataframe thead th {\n",
              "        text-align: right;\n",
              "    }\n",
              "</style>\n",
              "<table border=\"1\" class=\"dataframe\">\n",
              "  <thead>\n",
              "    <tr style=\"text-align: right;\">\n",
              "      <th></th>\n",
              "      <th>date_local</th>\n",
              "      <th>date_utc</th>\n",
              "      <th>date_local2</th>\n",
              "      <th>date_utc2</th>\n",
              "    </tr>\n",
              "  </thead>\n",
              "  <tbody>\n",
              "    <tr>\n",
              "      <th>0</th>\n",
              "      <td>2018-01-01 00:00:00+01:00</td>\n",
              "      <td>2017-12-31 23:00:00+00:00</td>\n",
              "      <td>01-01-2018 00:00</td>\n",
              "      <td>31-12-2017 23:00</td>\n",
              "    </tr>\n",
              "    <tr>\n",
              "      <th>1</th>\n",
              "      <td>2018-01-01 01:00:00+01:00</td>\n",
              "      <td>2018-01-01 00:00:00+00:00</td>\n",
              "      <td>01-01-2018 01:00</td>\n",
              "      <td>01-01-2018 00:00</td>\n",
              "    </tr>\n",
              "  </tbody>\n",
              "</table>\n",
              "</div>"
            ],
            "text/plain": [
              "                 date_local                  date_utc       date_local2  \\\n",
              "0 2018-01-01 00:00:00+01:00 2017-12-31 23:00:00+00:00  01-01-2018 00:00   \n",
              "1 2018-01-01 01:00:00+01:00 2018-01-01 00:00:00+00:00  01-01-2018 01:00   \n",
              "\n",
              "          date_utc2  \n",
              "0  31-12-2017 23:00  \n",
              "1  01-01-2018 00:00  "
            ]
          },
          "metadata": {
            "tags": []
          },
          "execution_count": 106
        }
      ]
    },
    {
      "metadata": {
        "id": "Vbh-10EN-XgI",
        "colab_type": "text"
      },
      "cell_type": "markdown",
      "source": [
        "### Example Tennet data"
      ]
    },
    {
      "metadata": {
        "id": "9gCgVf6I1saQ",
        "colab_type": "code",
        "colab": {
          "base_uri": "https://localhost:8080/",
          "height": 142
        },
        "outputId": "2f920c40-be7c-40c4-f723-d1bf54e3d4c8"
      },
      "cell_type": "code",
      "source": [
        "date_start = dt.date(2017,1,1).strftime(\"%d-%m-%Y\")\n",
        "date_end = dt.date(2017,12,31).strftime(\"%d-%m-%Y\")\n",
        "tennet_url = \"http://www.tennet.org/bedrijfsvoering/ExporteerData.aspx?exporttype=verrekenprijzen&format=csv&datefrom={}&dateto={}&submit=1\".format(date_start, date_end)\n",
        "\n",
        "cols = ['datum', 'PTE', 'periode_van','periode_tm','Afnemen','invoeden']\n",
        "\n",
        "df_prices = pd.read_csv(tennet_url,usecols=cols,decimal=',')\n",
        "df_prices.head(3)"
      ],
      "execution_count": 107,
      "outputs": [
        {
          "output_type": "execute_result",
          "data": {
            "text/html": [
              "<div>\n",
              "<style scoped>\n",
              "    .dataframe tbody tr th:only-of-type {\n",
              "        vertical-align: middle;\n",
              "    }\n",
              "\n",
              "    .dataframe tbody tr th {\n",
              "        vertical-align: top;\n",
              "    }\n",
              "\n",
              "    .dataframe thead th {\n",
              "        text-align: right;\n",
              "    }\n",
              "</style>\n",
              "<table border=\"1\" class=\"dataframe\">\n",
              "  <thead>\n",
              "    <tr style=\"text-align: right;\">\n",
              "      <th></th>\n",
              "      <th>datum</th>\n",
              "      <th>PTE</th>\n",
              "      <th>periode_van</th>\n",
              "      <th>periode_tm</th>\n",
              "      <th>Afnemen</th>\n",
              "      <th>invoeden</th>\n",
              "    </tr>\n",
              "  </thead>\n",
              "  <tbody>\n",
              "    <tr>\n",
              "      <th>0</th>\n",
              "      <td>01-01-2017</td>\n",
              "      <td>1</td>\n",
              "      <td>00:00</td>\n",
              "      <td>00:15</td>\n",
              "      <td>250.00</td>\n",
              "      <td>-200.00</td>\n",
              "    </tr>\n",
              "    <tr>\n",
              "      <th>1</th>\n",
              "      <td>01-01-2017</td>\n",
              "      <td>2</td>\n",
              "      <td>00:15</td>\n",
              "      <td>00:30</td>\n",
              "      <td>250.00</td>\n",
              "      <td>250.00</td>\n",
              "    </tr>\n",
              "    <tr>\n",
              "      <th>2</th>\n",
              "      <td>01-01-2017</td>\n",
              "      <td>3</td>\n",
              "      <td>00:30</td>\n",
              "      <td>00:45</td>\n",
              "      <td>33.56</td>\n",
              "      <td>33.56</td>\n",
              "    </tr>\n",
              "  </tbody>\n",
              "</table>\n",
              "</div>"
            ],
            "text/plain": [
              "        datum  PTE periode_van periode_tm  Afnemen  invoeden\n",
              "0  01-01-2017    1       00:00      00:15   250.00   -200.00\n",
              "1  01-01-2017    2       00:15      00:30   250.00    250.00\n",
              "2  01-01-2017    3       00:30      00:45    33.56     33.56"
            ]
          },
          "metadata": {
            "tags": []
          },
          "execution_count": 107
        }
      ]
    },
    {
      "metadata": {
        "id": "Jxz-Rr525TSL",
        "colab_type": "code",
        "colab": {
          "base_uri": "https://localhost:8080/",
          "height": 142
        },
        "outputId": "f95a4297-22ac-4b48-fe30-9efc62e144f5"
      },
      "cell_type": "code",
      "source": [
        "col2drop = ['periode_tm']\n",
        "df_prices.drop(col2drop,axis=1,inplace=True)\n",
        "df_prices.head(3)"
      ],
      "execution_count": 108,
      "outputs": [
        {
          "output_type": "execute_result",
          "data": {
            "text/html": [
              "<div>\n",
              "<style scoped>\n",
              "    .dataframe tbody tr th:only-of-type {\n",
              "        vertical-align: middle;\n",
              "    }\n",
              "\n",
              "    .dataframe tbody tr th {\n",
              "        vertical-align: top;\n",
              "    }\n",
              "\n",
              "    .dataframe thead th {\n",
              "        text-align: right;\n",
              "    }\n",
              "</style>\n",
              "<table border=\"1\" class=\"dataframe\">\n",
              "  <thead>\n",
              "    <tr style=\"text-align: right;\">\n",
              "      <th></th>\n",
              "      <th>datum</th>\n",
              "      <th>PTE</th>\n",
              "      <th>periode_van</th>\n",
              "      <th>Afnemen</th>\n",
              "      <th>invoeden</th>\n",
              "    </tr>\n",
              "  </thead>\n",
              "  <tbody>\n",
              "    <tr>\n",
              "      <th>0</th>\n",
              "      <td>01-01-2017</td>\n",
              "      <td>1</td>\n",
              "      <td>00:00</td>\n",
              "      <td>250.00</td>\n",
              "      <td>-200.00</td>\n",
              "    </tr>\n",
              "    <tr>\n",
              "      <th>1</th>\n",
              "      <td>01-01-2017</td>\n",
              "      <td>2</td>\n",
              "      <td>00:15</td>\n",
              "      <td>250.00</td>\n",
              "      <td>250.00</td>\n",
              "    </tr>\n",
              "    <tr>\n",
              "      <th>2</th>\n",
              "      <td>01-01-2017</td>\n",
              "      <td>3</td>\n",
              "      <td>00:30</td>\n",
              "      <td>33.56</td>\n",
              "      <td>33.56</td>\n",
              "    </tr>\n",
              "  </tbody>\n",
              "</table>\n",
              "</div>"
            ],
            "text/plain": [
              "        datum  PTE periode_van  Afnemen  invoeden\n",
              "0  01-01-2017    1       00:00   250.00   -200.00\n",
              "1  01-01-2017    2       00:15   250.00    250.00\n",
              "2  01-01-2017    3       00:30    33.56     33.56"
            ]
          },
          "metadata": {
            "tags": []
          },
          "execution_count": 108
        }
      ]
    },
    {
      "metadata": {
        "id": "OLIQMCeW4QcH",
        "colab_type": "code",
        "colab": {
          "base_uri": "https://localhost:8080/",
          "height": 142
        },
        "outputId": "4cf3b990-5f0b-425f-ef89-f49708e71cb5"
      },
      "cell_type": "code",
      "source": [
        "# convert datetime to utc\n",
        "amsterdam = pytz.timezone('Europe/Amsterdam')\n",
        "df_prices.index = pd.to_datetime(df_prices['datum'] + \" \" + df_prices['periode_van'],format='%d-%m-%Y %H:%M')\n",
        "df_prices.index = df_prices.index.tz_localize(amsterdam, ambiguous='infer')\n",
        "\n",
        "# save local date in column so the index can be converted\n",
        "df_prices['datetime_local'] = df_prices.index\n",
        "df_prices.index = df_prices.index.tz_convert('UTC')\n",
        "df_prices.head(3)"
      ],
      "execution_count": 109,
      "outputs": [
        {
          "output_type": "execute_result",
          "data": {
            "text/html": [
              "<div>\n",
              "<style scoped>\n",
              "    .dataframe tbody tr th:only-of-type {\n",
              "        vertical-align: middle;\n",
              "    }\n",
              "\n",
              "    .dataframe tbody tr th {\n",
              "        vertical-align: top;\n",
              "    }\n",
              "\n",
              "    .dataframe thead th {\n",
              "        text-align: right;\n",
              "    }\n",
              "</style>\n",
              "<table border=\"1\" class=\"dataframe\">\n",
              "  <thead>\n",
              "    <tr style=\"text-align: right;\">\n",
              "      <th></th>\n",
              "      <th>datum</th>\n",
              "      <th>PTE</th>\n",
              "      <th>periode_van</th>\n",
              "      <th>Afnemen</th>\n",
              "      <th>invoeden</th>\n",
              "      <th>datetime_local</th>\n",
              "    </tr>\n",
              "  </thead>\n",
              "  <tbody>\n",
              "    <tr>\n",
              "      <th>2016-12-31 23:00:00+00:00</th>\n",
              "      <td>01-01-2017</td>\n",
              "      <td>1</td>\n",
              "      <td>00:00</td>\n",
              "      <td>250.00</td>\n",
              "      <td>-200.00</td>\n",
              "      <td>2017-01-01 00:00:00+01:00</td>\n",
              "    </tr>\n",
              "    <tr>\n",
              "      <th>2016-12-31 23:15:00+00:00</th>\n",
              "      <td>01-01-2017</td>\n",
              "      <td>2</td>\n",
              "      <td>00:15</td>\n",
              "      <td>250.00</td>\n",
              "      <td>250.00</td>\n",
              "      <td>2017-01-01 00:15:00+01:00</td>\n",
              "    </tr>\n",
              "    <tr>\n",
              "      <th>2016-12-31 23:30:00+00:00</th>\n",
              "      <td>01-01-2017</td>\n",
              "      <td>3</td>\n",
              "      <td>00:30</td>\n",
              "      <td>33.56</td>\n",
              "      <td>33.56</td>\n",
              "      <td>2017-01-01 00:30:00+01:00</td>\n",
              "    </tr>\n",
              "  </tbody>\n",
              "</table>\n",
              "</div>"
            ],
            "text/plain": [
              "                                datum  PTE periode_van  Afnemen  invoeden  \\\n",
              "2016-12-31 23:00:00+00:00  01-01-2017    1       00:00   250.00   -200.00   \n",
              "2016-12-31 23:15:00+00:00  01-01-2017    2       00:15   250.00    250.00   \n",
              "2016-12-31 23:30:00+00:00  01-01-2017    3       00:30    33.56     33.56   \n",
              "\n",
              "                                     datetime_local  \n",
              "2016-12-31 23:00:00+00:00 2017-01-01 00:00:00+01:00  \n",
              "2016-12-31 23:15:00+00:00 2017-01-01 00:15:00+01:00  \n",
              "2016-12-31 23:30:00+00:00 2017-01-01 00:30:00+01:00  "
            ]
          },
          "metadata": {
            "tags": []
          },
          "execution_count": 109
        }
      ]
    },
    {
      "metadata": {
        "id": "1dZCl3NAWuDv",
        "colab_type": "code",
        "colab": {
          "base_uri": "https://localhost:8080/",
          "height": 159
        },
        "outputId": "ade5149f-33e2-4912-8d5d-cd26007b8252"
      },
      "cell_type": "code",
      "source": [
        "# round/truncate datetime by replacing the minute by zero\n",
        "t0 = time.time()\n",
        "\n",
        "df_prices['datetime_local_trunc'] = df_prices['datetime_local'].apply(lambda x: x.replace(minute=0))\n",
        "\n",
        "t1 = time.time()\n",
        "\n",
        "print(t1-t0)\n",
        "\n",
        "df_prices.head(3)"
      ],
      "execution_count": 110,
      "outputs": [
        {
          "output_type": "stream",
          "text": [
            "0.628046035767\n"
          ],
          "name": "stdout"
        },
        {
          "output_type": "execute_result",
          "data": {
            "text/html": [
              "<div>\n",
              "<style scoped>\n",
              "    .dataframe tbody tr th:only-of-type {\n",
              "        vertical-align: middle;\n",
              "    }\n",
              "\n",
              "    .dataframe tbody tr th {\n",
              "        vertical-align: top;\n",
              "    }\n",
              "\n",
              "    .dataframe thead th {\n",
              "        text-align: right;\n",
              "    }\n",
              "</style>\n",
              "<table border=\"1\" class=\"dataframe\">\n",
              "  <thead>\n",
              "    <tr style=\"text-align: right;\">\n",
              "      <th></th>\n",
              "      <th>datum</th>\n",
              "      <th>PTE</th>\n",
              "      <th>periode_van</th>\n",
              "      <th>Afnemen</th>\n",
              "      <th>invoeden</th>\n",
              "      <th>datetime_local</th>\n",
              "      <th>datetime_local_trunc</th>\n",
              "    </tr>\n",
              "  </thead>\n",
              "  <tbody>\n",
              "    <tr>\n",
              "      <th>2016-12-31 23:00:00+00:00</th>\n",
              "      <td>01-01-2017</td>\n",
              "      <td>1</td>\n",
              "      <td>00:00</td>\n",
              "      <td>250.00</td>\n",
              "      <td>-200.00</td>\n",
              "      <td>2017-01-01 00:00:00+01:00</td>\n",
              "      <td>2017-01-01 00:00:00+01:00</td>\n",
              "    </tr>\n",
              "    <tr>\n",
              "      <th>2016-12-31 23:15:00+00:00</th>\n",
              "      <td>01-01-2017</td>\n",
              "      <td>2</td>\n",
              "      <td>00:15</td>\n",
              "      <td>250.00</td>\n",
              "      <td>250.00</td>\n",
              "      <td>2017-01-01 00:15:00+01:00</td>\n",
              "      <td>2017-01-01 00:00:00+01:00</td>\n",
              "    </tr>\n",
              "    <tr>\n",
              "      <th>2016-12-31 23:30:00+00:00</th>\n",
              "      <td>01-01-2017</td>\n",
              "      <td>3</td>\n",
              "      <td>00:30</td>\n",
              "      <td>33.56</td>\n",
              "      <td>33.56</td>\n",
              "      <td>2017-01-01 00:30:00+01:00</td>\n",
              "      <td>2017-01-01 00:00:00+01:00</td>\n",
              "    </tr>\n",
              "  </tbody>\n",
              "</table>\n",
              "</div>"
            ],
            "text/plain": [
              "                                datum  PTE periode_van  Afnemen  invoeden  \\\n",
              "2016-12-31 23:00:00+00:00  01-01-2017    1       00:00   250.00   -200.00   \n",
              "2016-12-31 23:15:00+00:00  01-01-2017    2       00:15   250.00    250.00   \n",
              "2016-12-31 23:30:00+00:00  01-01-2017    3       00:30    33.56     33.56   \n",
              "\n",
              "                                     datetime_local      datetime_local_trunc  \n",
              "2016-12-31 23:00:00+00:00 2017-01-01 00:00:00+01:00 2017-01-01 00:00:00+01:00  \n",
              "2016-12-31 23:15:00+00:00 2017-01-01 00:15:00+01:00 2017-01-01 00:00:00+01:00  \n",
              "2016-12-31 23:30:00+00:00 2017-01-01 00:30:00+01:00 2017-01-01 00:00:00+01:00  "
            ]
          },
          "metadata": {
            "tags": []
          },
          "execution_count": 110
        }
      ]
    },
    {
      "metadata": {
        "id": "KvzQRuBCCU6s",
        "colab_type": "code",
        "colab": {
          "base_uri": "https://localhost:8080/",
          "height": 159
        },
        "outputId": "a68cbc18-f6ef-497e-eeb6-b4862f6d6e99"
      },
      "cell_type": "code",
      "source": [
        "# round/truncate datetime by replacing the minute by zero\n",
        "t0 = time.time()\n",
        "\n",
        "df_prices['datetime_local_trunc2'] = list(map(lambda x: x.replace(minute=0), df_prices['datetime_local']))\n",
        "\n",
        "t1 = time.time()\n",
        "\n",
        "print(t1-t0)\n",
        "\n",
        "df_prices.head(3)"
      ],
      "execution_count": 111,
      "outputs": [
        {
          "output_type": "stream",
          "text": [
            "0.678803920746\n"
          ],
          "name": "stdout"
        },
        {
          "output_type": "execute_result",
          "data": {
            "text/html": [
              "<div>\n",
              "<style scoped>\n",
              "    .dataframe tbody tr th:only-of-type {\n",
              "        vertical-align: middle;\n",
              "    }\n",
              "\n",
              "    .dataframe tbody tr th {\n",
              "        vertical-align: top;\n",
              "    }\n",
              "\n",
              "    .dataframe thead th {\n",
              "        text-align: right;\n",
              "    }\n",
              "</style>\n",
              "<table border=\"1\" class=\"dataframe\">\n",
              "  <thead>\n",
              "    <tr style=\"text-align: right;\">\n",
              "      <th></th>\n",
              "      <th>datum</th>\n",
              "      <th>PTE</th>\n",
              "      <th>periode_van</th>\n",
              "      <th>Afnemen</th>\n",
              "      <th>invoeden</th>\n",
              "      <th>datetime_local</th>\n",
              "      <th>datetime_local_trunc</th>\n",
              "      <th>datetime_local_trunc2</th>\n",
              "    </tr>\n",
              "  </thead>\n",
              "  <tbody>\n",
              "    <tr>\n",
              "      <th>2016-12-31 23:00:00+00:00</th>\n",
              "      <td>01-01-2017</td>\n",
              "      <td>1</td>\n",
              "      <td>00:00</td>\n",
              "      <td>250.00</td>\n",
              "      <td>-200.00</td>\n",
              "      <td>2017-01-01 00:00:00+01:00</td>\n",
              "      <td>2017-01-01 00:00:00+01:00</td>\n",
              "      <td>2017-01-01 00:00:00+01:00</td>\n",
              "    </tr>\n",
              "    <tr>\n",
              "      <th>2016-12-31 23:15:00+00:00</th>\n",
              "      <td>01-01-2017</td>\n",
              "      <td>2</td>\n",
              "      <td>00:15</td>\n",
              "      <td>250.00</td>\n",
              "      <td>250.00</td>\n",
              "      <td>2017-01-01 00:15:00+01:00</td>\n",
              "      <td>2017-01-01 00:00:00+01:00</td>\n",
              "      <td>2017-01-01 00:00:00+01:00</td>\n",
              "    </tr>\n",
              "    <tr>\n",
              "      <th>2016-12-31 23:30:00+00:00</th>\n",
              "      <td>01-01-2017</td>\n",
              "      <td>3</td>\n",
              "      <td>00:30</td>\n",
              "      <td>33.56</td>\n",
              "      <td>33.56</td>\n",
              "      <td>2017-01-01 00:30:00+01:00</td>\n",
              "      <td>2017-01-01 00:00:00+01:00</td>\n",
              "      <td>2017-01-01 00:00:00+01:00</td>\n",
              "    </tr>\n",
              "  </tbody>\n",
              "</table>\n",
              "</div>"
            ],
            "text/plain": [
              "                                datum  PTE periode_van  Afnemen  invoeden  \\\n",
              "2016-12-31 23:00:00+00:00  01-01-2017    1       00:00   250.00   -200.00   \n",
              "2016-12-31 23:15:00+00:00  01-01-2017    2       00:15   250.00    250.00   \n",
              "2016-12-31 23:30:00+00:00  01-01-2017    3       00:30    33.56     33.56   \n",
              "\n",
              "                                     datetime_local      datetime_local_trunc  \\\n",
              "2016-12-31 23:00:00+00:00 2017-01-01 00:00:00+01:00 2017-01-01 00:00:00+01:00   \n",
              "2016-12-31 23:15:00+00:00 2017-01-01 00:15:00+01:00 2017-01-01 00:00:00+01:00   \n",
              "2016-12-31 23:30:00+00:00 2017-01-01 00:30:00+01:00 2017-01-01 00:00:00+01:00   \n",
              "\n",
              "                              datetime_local_trunc2  \n",
              "2016-12-31 23:00:00+00:00 2017-01-01 00:00:00+01:00  \n",
              "2016-12-31 23:15:00+00:00 2017-01-01 00:00:00+01:00  \n",
              "2016-12-31 23:30:00+00:00 2017-01-01 00:00:00+01:00  "
            ]
          },
          "metadata": {
            "tags": []
          },
          "execution_count": 111
        }
      ]
    },
    {
      "metadata": {
        "id": "f-9lHaHb0AOu",
        "colab_type": "text"
      },
      "cell_type": "markdown",
      "source": [
        "### Parsing iso format"
      ]
    },
    {
      "metadata": {
        "id": "ETsCfPFA0Yx1",
        "colab_type": "code",
        "colab": {
          "base_uri": "https://localhost:8080/",
          "height": 142
        },
        "outputId": "ed5e7e55-66e3-44d7-d162-10308079e917"
      },
      "cell_type": "code",
      "source": [
        "# parsing iso format\n",
        "# http://cheat.readthedocs.io/en/latest/python/timezones.html\n",
        "# https://stackoverflow.com/questions/12281975/convert-timestamps-with-offset-to-datetime-obj-using-strptime?noredirect=1&lq=1\n",
        "df = pd.DataFrame({'deliverydate':['2017-03-26 01:00:00+01:00', '2017-03-26 03:00:00+02:00', '2017-03-26 04:00:00+02:00']})\n",
        "df.head()"
      ],
      "execution_count": 112,
      "outputs": [
        {
          "output_type": "execute_result",
          "data": {
            "text/html": [
              "<div>\n",
              "<style scoped>\n",
              "    .dataframe tbody tr th:only-of-type {\n",
              "        vertical-align: middle;\n",
              "    }\n",
              "\n",
              "    .dataframe tbody tr th {\n",
              "        vertical-align: top;\n",
              "    }\n",
              "\n",
              "    .dataframe thead th {\n",
              "        text-align: right;\n",
              "    }\n",
              "</style>\n",
              "<table border=\"1\" class=\"dataframe\">\n",
              "  <thead>\n",
              "    <tr style=\"text-align: right;\">\n",
              "      <th></th>\n",
              "      <th>deliverydate</th>\n",
              "    </tr>\n",
              "  </thead>\n",
              "  <tbody>\n",
              "    <tr>\n",
              "      <th>0</th>\n",
              "      <td>2017-03-26 01:00:00+01:00</td>\n",
              "    </tr>\n",
              "    <tr>\n",
              "      <th>1</th>\n",
              "      <td>2017-03-26 03:00:00+02:00</td>\n",
              "    </tr>\n",
              "    <tr>\n",
              "      <th>2</th>\n",
              "      <td>2017-03-26 04:00:00+02:00</td>\n",
              "    </tr>\n",
              "  </tbody>\n",
              "</table>\n",
              "</div>"
            ],
            "text/plain": [
              "                deliverydate\n",
              "0  2017-03-26 01:00:00+01:00\n",
              "1  2017-03-26 03:00:00+02:00\n",
              "2  2017-03-26 04:00:00+02:00"
            ]
          },
          "metadata": {
            "tags": []
          },
          "execution_count": 112
        }
      ]
    },
    {
      "metadata": {
        "id": "mMKAOTxj2Sk2",
        "colab_type": "code",
        "colab": {
          "base_uri": "https://localhost:8080/",
          "height": 142
        },
        "outputId": "18f69b05-6086-47e1-dd68-610e10ceedb6"
      },
      "cell_type": "code",
      "source": [
        "#df['deliverydate2']=df['deliverydate'].apply(lambda x: dateutil.parser.parse(x))\n",
        "df['deliverydate2']=df['deliverydate'].apply(lambda x: x[:16])\n",
        "df.head()"
      ],
      "execution_count": 113,
      "outputs": [
        {
          "output_type": "execute_result",
          "data": {
            "text/html": [
              "<div>\n",
              "<style scoped>\n",
              "    .dataframe tbody tr th:only-of-type {\n",
              "        vertical-align: middle;\n",
              "    }\n",
              "\n",
              "    .dataframe tbody tr th {\n",
              "        vertical-align: top;\n",
              "    }\n",
              "\n",
              "    .dataframe thead th {\n",
              "        text-align: right;\n",
              "    }\n",
              "</style>\n",
              "<table border=\"1\" class=\"dataframe\">\n",
              "  <thead>\n",
              "    <tr style=\"text-align: right;\">\n",
              "      <th></th>\n",
              "      <th>deliverydate</th>\n",
              "      <th>deliverydate2</th>\n",
              "    </tr>\n",
              "  </thead>\n",
              "  <tbody>\n",
              "    <tr>\n",
              "      <th>0</th>\n",
              "      <td>2017-03-26 01:00:00+01:00</td>\n",
              "      <td>2017-03-26 01:00</td>\n",
              "    </tr>\n",
              "    <tr>\n",
              "      <th>1</th>\n",
              "      <td>2017-03-26 03:00:00+02:00</td>\n",
              "      <td>2017-03-26 03:00</td>\n",
              "    </tr>\n",
              "    <tr>\n",
              "      <th>2</th>\n",
              "      <td>2017-03-26 04:00:00+02:00</td>\n",
              "      <td>2017-03-26 04:00</td>\n",
              "    </tr>\n",
              "  </tbody>\n",
              "</table>\n",
              "</div>"
            ],
            "text/plain": [
              "                deliverydate     deliverydate2\n",
              "0  2017-03-26 01:00:00+01:00  2017-03-26 01:00\n",
              "1  2017-03-26 03:00:00+02:00  2017-03-26 03:00\n",
              "2  2017-03-26 04:00:00+02:00  2017-03-26 04:00"
            ]
          },
          "metadata": {
            "tags": []
          },
          "execution_count": 113
        }
      ]
    },
    {
      "metadata": {
        "id": "R_XrgsH23lI2",
        "colab_type": "code",
        "colab": {
          "base_uri": "https://localhost:8080/",
          "height": 173
        },
        "outputId": "788c6eea-846a-4b75-f95a-5cc2c54873a3"
      },
      "cell_type": "code",
      "source": [
        "amsterdam = pytz.timezone('Europe/Amsterdam')\n",
        "df['deliverydate3'] = pd.to_datetime(df['deliverydate2'],format='%Y-%m-%d %H:%M')\n",
        "df['deliverydate4'] = df['deliverydate3'].dt.tz_localize('Europe/Amsterdam',ambiguous='infer')\n",
        "df.index = df['deliverydate4'].dt.tz_convert('UTC')\n",
        "df.head()"
      ],
      "execution_count": 114,
      "outputs": [
        {
          "output_type": "execute_result",
          "data": {
            "text/html": [
              "<div>\n",
              "<style scoped>\n",
              "    .dataframe tbody tr th:only-of-type {\n",
              "        vertical-align: middle;\n",
              "    }\n",
              "\n",
              "    .dataframe tbody tr th {\n",
              "        vertical-align: top;\n",
              "    }\n",
              "\n",
              "    .dataframe thead th {\n",
              "        text-align: right;\n",
              "    }\n",
              "</style>\n",
              "<table border=\"1\" class=\"dataframe\">\n",
              "  <thead>\n",
              "    <tr style=\"text-align: right;\">\n",
              "      <th></th>\n",
              "      <th>deliverydate</th>\n",
              "      <th>deliverydate2</th>\n",
              "      <th>deliverydate3</th>\n",
              "      <th>deliverydate4</th>\n",
              "    </tr>\n",
              "    <tr>\n",
              "      <th>deliverydate4</th>\n",
              "      <th></th>\n",
              "      <th></th>\n",
              "      <th></th>\n",
              "      <th></th>\n",
              "    </tr>\n",
              "  </thead>\n",
              "  <tbody>\n",
              "    <tr>\n",
              "      <th>2017-03-26 00:00:00+00:00</th>\n",
              "      <td>2017-03-26 01:00:00+01:00</td>\n",
              "      <td>2017-03-26 01:00</td>\n",
              "      <td>2017-03-26 01:00:00</td>\n",
              "      <td>2017-03-26 01:00:00+01:00</td>\n",
              "    </tr>\n",
              "    <tr>\n",
              "      <th>2017-03-26 01:00:00+00:00</th>\n",
              "      <td>2017-03-26 03:00:00+02:00</td>\n",
              "      <td>2017-03-26 03:00</td>\n",
              "      <td>2017-03-26 03:00:00</td>\n",
              "      <td>2017-03-26 03:00:00+02:00</td>\n",
              "    </tr>\n",
              "    <tr>\n",
              "      <th>2017-03-26 02:00:00+00:00</th>\n",
              "      <td>2017-03-26 04:00:00+02:00</td>\n",
              "      <td>2017-03-26 04:00</td>\n",
              "      <td>2017-03-26 04:00:00</td>\n",
              "      <td>2017-03-26 04:00:00+02:00</td>\n",
              "    </tr>\n",
              "  </tbody>\n",
              "</table>\n",
              "</div>"
            ],
            "text/plain": [
              "                                        deliverydate     deliverydate2  \\\n",
              "deliverydate4                                                            \n",
              "2017-03-26 00:00:00+00:00  2017-03-26 01:00:00+01:00  2017-03-26 01:00   \n",
              "2017-03-26 01:00:00+00:00  2017-03-26 03:00:00+02:00  2017-03-26 03:00   \n",
              "2017-03-26 02:00:00+00:00  2017-03-26 04:00:00+02:00  2017-03-26 04:00   \n",
              "\n",
              "                                deliverydate3             deliverydate4  \n",
              "deliverydate4                                                            \n",
              "2017-03-26 00:00:00+00:00 2017-03-26 01:00:00 2017-03-26 01:00:00+01:00  \n",
              "2017-03-26 01:00:00+00:00 2017-03-26 03:00:00 2017-03-26 03:00:00+02:00  \n",
              "2017-03-26 02:00:00+00:00 2017-03-26 04:00:00 2017-03-26 04:00:00+02:00  "
            ]
          },
          "metadata": {
            "tags": []
          },
          "execution_count": 114
        }
      ]
    },
    {
      "metadata": {
        "id": "-_ok3d3rBymz",
        "colab_type": "code",
        "colab": {
          "base_uri": "https://localhost:8080/",
          "height": 102
        },
        "outputId": "19fd0bc3-b1ee-4517-bcd3-46395d442e9d"
      },
      "cell_type": "code",
      "source": [
        "df.dtypes"
      ],
      "execution_count": 115,
      "outputs": [
        {
          "output_type": "execute_result",
          "data": {
            "text/plain": [
              "deliverydate                               object\n",
              "deliverydate2                              object\n",
              "deliverydate3                      datetime64[ns]\n",
              "deliverydate4    datetime64[ns, Europe/Amsterdam]\n",
              "dtype: object"
            ]
          },
          "metadata": {
            "tags": []
          },
          "execution_count": 115
        }
      ]
    },
    {
      "metadata": {
        "id": "HRr7qb8XkcLz",
        "colab_type": "text"
      },
      "cell_type": "markdown",
      "source": [
        "## Feature engineering"
      ]
    },
    {
      "metadata": {
        "id": "9v4q5jnQkgbM",
        "colab_type": "code",
        "colab": {
          "base_uri": "https://localhost:8080/",
          "height": 204
        },
        "outputId": "139557a9-85ab-4050-f88f-28bfb613278b"
      },
      "cell_type": "code",
      "source": [
        "# calc the diff and lag of a feature\n",
        "df = pd.DataFrame({'wind':[100,120,150,100,50,0,1000,80,50,10],'solar':[100,120,150,100,50,0,1000,80,50,10]})\n",
        "\n",
        "cols =  ['wind','solar']\n",
        "\n",
        "for i in cols:\n",
        "        col_name = 'diff1_' + i\n",
        "        col_name2 = 'lag1_' + i\n",
        "        df[col_name] = df[i].diff(1)\n",
        "        df[col_name2] = df[i].shift(1)\n",
        "\n",
        "df.head()"
      ],
      "execution_count": 116,
      "outputs": [
        {
          "output_type": "execute_result",
          "data": {
            "text/html": [
              "<div>\n",
              "<style scoped>\n",
              "    .dataframe tbody tr th:only-of-type {\n",
              "        vertical-align: middle;\n",
              "    }\n",
              "\n",
              "    .dataframe tbody tr th {\n",
              "        vertical-align: top;\n",
              "    }\n",
              "\n",
              "    .dataframe thead th {\n",
              "        text-align: right;\n",
              "    }\n",
              "</style>\n",
              "<table border=\"1\" class=\"dataframe\">\n",
              "  <thead>\n",
              "    <tr style=\"text-align: right;\">\n",
              "      <th></th>\n",
              "      <th>solar</th>\n",
              "      <th>wind</th>\n",
              "      <th>diff1_wind</th>\n",
              "      <th>lag1_wind</th>\n",
              "      <th>diff1_solar</th>\n",
              "      <th>lag1_solar</th>\n",
              "    </tr>\n",
              "  </thead>\n",
              "  <tbody>\n",
              "    <tr>\n",
              "      <th>0</th>\n",
              "      <td>100</td>\n",
              "      <td>100</td>\n",
              "      <td>NaN</td>\n",
              "      <td>NaN</td>\n",
              "      <td>NaN</td>\n",
              "      <td>NaN</td>\n",
              "    </tr>\n",
              "    <tr>\n",
              "      <th>1</th>\n",
              "      <td>120</td>\n",
              "      <td>120</td>\n",
              "      <td>20.0</td>\n",
              "      <td>100.0</td>\n",
              "      <td>20.0</td>\n",
              "      <td>100.0</td>\n",
              "    </tr>\n",
              "    <tr>\n",
              "      <th>2</th>\n",
              "      <td>150</td>\n",
              "      <td>150</td>\n",
              "      <td>30.0</td>\n",
              "      <td>120.0</td>\n",
              "      <td>30.0</td>\n",
              "      <td>120.0</td>\n",
              "    </tr>\n",
              "    <tr>\n",
              "      <th>3</th>\n",
              "      <td>100</td>\n",
              "      <td>100</td>\n",
              "      <td>-50.0</td>\n",
              "      <td>150.0</td>\n",
              "      <td>-50.0</td>\n",
              "      <td>150.0</td>\n",
              "    </tr>\n",
              "    <tr>\n",
              "      <th>4</th>\n",
              "      <td>50</td>\n",
              "      <td>50</td>\n",
              "      <td>-50.0</td>\n",
              "      <td>100.0</td>\n",
              "      <td>-50.0</td>\n",
              "      <td>100.0</td>\n",
              "    </tr>\n",
              "  </tbody>\n",
              "</table>\n",
              "</div>"
            ],
            "text/plain": [
              "   solar  wind  diff1_wind  lag1_wind  diff1_solar  lag1_solar\n",
              "0    100   100         NaN        NaN          NaN         NaN\n",
              "1    120   120        20.0      100.0         20.0       100.0\n",
              "2    150   150        30.0      120.0         30.0       120.0\n",
              "3    100   100       -50.0      150.0        -50.0       150.0\n",
              "4     50    50       -50.0      100.0        -50.0       100.0"
            ]
          },
          "metadata": {
            "tags": []
          },
          "execution_count": 116
        }
      ]
    },
    {
      "metadata": {
        "id": "ZkNuZd8hmr_2",
        "colab_type": "code",
        "colab": {
          "base_uri": "https://localhost:8080/",
          "height": 204
        },
        "outputId": "b51425b4-4945-4f79-ca31-51040a078238"
      },
      "cell_type": "code",
      "source": [
        "# be carefull with removing any rows\n",
        "idx = df['wind'] == 150\n",
        "df = df.loc[~idx]\n",
        "df.head()"
      ],
      "execution_count": 117,
      "outputs": [
        {
          "output_type": "execute_result",
          "data": {
            "text/html": [
              "<div>\n",
              "<style scoped>\n",
              "    .dataframe tbody tr th:only-of-type {\n",
              "        vertical-align: middle;\n",
              "    }\n",
              "\n",
              "    .dataframe tbody tr th {\n",
              "        vertical-align: top;\n",
              "    }\n",
              "\n",
              "    .dataframe thead th {\n",
              "        text-align: right;\n",
              "    }\n",
              "</style>\n",
              "<table border=\"1\" class=\"dataframe\">\n",
              "  <thead>\n",
              "    <tr style=\"text-align: right;\">\n",
              "      <th></th>\n",
              "      <th>solar</th>\n",
              "      <th>wind</th>\n",
              "      <th>diff1_wind</th>\n",
              "      <th>lag1_wind</th>\n",
              "      <th>diff1_solar</th>\n",
              "      <th>lag1_solar</th>\n",
              "    </tr>\n",
              "  </thead>\n",
              "  <tbody>\n",
              "    <tr>\n",
              "      <th>0</th>\n",
              "      <td>100</td>\n",
              "      <td>100</td>\n",
              "      <td>NaN</td>\n",
              "      <td>NaN</td>\n",
              "      <td>NaN</td>\n",
              "      <td>NaN</td>\n",
              "    </tr>\n",
              "    <tr>\n",
              "      <th>1</th>\n",
              "      <td>120</td>\n",
              "      <td>120</td>\n",
              "      <td>20.0</td>\n",
              "      <td>100.0</td>\n",
              "      <td>20.0</td>\n",
              "      <td>100.0</td>\n",
              "    </tr>\n",
              "    <tr>\n",
              "      <th>3</th>\n",
              "      <td>100</td>\n",
              "      <td>100</td>\n",
              "      <td>-50.0</td>\n",
              "      <td>150.0</td>\n",
              "      <td>-50.0</td>\n",
              "      <td>150.0</td>\n",
              "    </tr>\n",
              "    <tr>\n",
              "      <th>4</th>\n",
              "      <td>50</td>\n",
              "      <td>50</td>\n",
              "      <td>-50.0</td>\n",
              "      <td>100.0</td>\n",
              "      <td>-50.0</td>\n",
              "      <td>100.0</td>\n",
              "    </tr>\n",
              "    <tr>\n",
              "      <th>5</th>\n",
              "      <td>0</td>\n",
              "      <td>0</td>\n",
              "      <td>-50.0</td>\n",
              "      <td>50.0</td>\n",
              "      <td>-50.0</td>\n",
              "      <td>50.0</td>\n",
              "    </tr>\n",
              "  </tbody>\n",
              "</table>\n",
              "</div>"
            ],
            "text/plain": [
              "   solar  wind  diff1_wind  lag1_wind  diff1_solar  lag1_solar\n",
              "0    100   100         NaN        NaN          NaN         NaN\n",
              "1    120   120        20.0      100.0         20.0       100.0\n",
              "3    100   100       -50.0      150.0        -50.0       150.0\n",
              "4     50    50       -50.0      100.0        -50.0       100.0\n",
              "5      0     0       -50.0       50.0        -50.0        50.0"
            ]
          },
          "metadata": {
            "tags": []
          },
          "execution_count": 117
        }
      ]
    },
    {
      "metadata": {
        "id": "LdMa4RNC4yDO",
        "colab_type": "text"
      },
      "cell_type": "markdown",
      "source": [
        "### Dummy variables"
      ]
    },
    {
      "metadata": {
        "id": "XGvBnoav42p0",
        "colab_type": "code",
        "colab": {
          "base_uri": "https://localhost:8080/",
          "height": 111
        },
        "outputId": "c1db72f4-a14e-42b7-c1df-89358b8f65d4"
      },
      "cell_type": "code",
      "source": [
        "dates = pd.date_range(dt.datetime(2018,1,1,0,0), periods=168,freq='1H')\n",
        "df = pd.DataFrame(index=dates)\n",
        "df.reset_index(inplace=True)\n",
        "df.rename(columns={'index':'datetime'},inplace=True)\n",
        "df.head(2)"
      ],
      "execution_count": 118,
      "outputs": [
        {
          "output_type": "execute_result",
          "data": {
            "text/html": [
              "<div>\n",
              "<style scoped>\n",
              "    .dataframe tbody tr th:only-of-type {\n",
              "        vertical-align: middle;\n",
              "    }\n",
              "\n",
              "    .dataframe tbody tr th {\n",
              "        vertical-align: top;\n",
              "    }\n",
              "\n",
              "    .dataframe thead th {\n",
              "        text-align: right;\n",
              "    }\n",
              "</style>\n",
              "<table border=\"1\" class=\"dataframe\">\n",
              "  <thead>\n",
              "    <tr style=\"text-align: right;\">\n",
              "      <th></th>\n",
              "      <th>datetime</th>\n",
              "    </tr>\n",
              "  </thead>\n",
              "  <tbody>\n",
              "    <tr>\n",
              "      <th>0</th>\n",
              "      <td>2018-01-01 00:00:00</td>\n",
              "    </tr>\n",
              "    <tr>\n",
              "      <th>1</th>\n",
              "      <td>2018-01-01 01:00:00</td>\n",
              "    </tr>\n",
              "  </tbody>\n",
              "</table>\n",
              "</div>"
            ],
            "text/plain": [
              "             datetime\n",
              "0 2018-01-01 00:00:00\n",
              "1 2018-01-01 01:00:00"
            ]
          },
          "metadata": {
            "tags": []
          },
          "execution_count": 118
        }
      ]
    },
    {
      "metadata": {
        "id": "ZKpdkinj50Q3",
        "colab_type": "code",
        "colab": {
          "base_uri": "https://localhost:8080/",
          "height": 204
        },
        "outputId": "f443ac19-ea3a-4003-aa50-e55db66d0e10"
      },
      "cell_type": "code",
      "source": [
        "df['weekday'] = df['datetime'].dt.weekday.astype('category')\n",
        "#df['hour'] = df['datetime'].dt.hour.astype('category')\n",
        "df_dummies = pd.get_dummies(df)\n",
        "df_dummies.head()"
      ],
      "execution_count": 119,
      "outputs": [
        {
          "output_type": "execute_result",
          "data": {
            "text/html": [
              "<div>\n",
              "<style scoped>\n",
              "    .dataframe tbody tr th:only-of-type {\n",
              "        vertical-align: middle;\n",
              "    }\n",
              "\n",
              "    .dataframe tbody tr th {\n",
              "        vertical-align: top;\n",
              "    }\n",
              "\n",
              "    .dataframe thead th {\n",
              "        text-align: right;\n",
              "    }\n",
              "</style>\n",
              "<table border=\"1\" class=\"dataframe\">\n",
              "  <thead>\n",
              "    <tr style=\"text-align: right;\">\n",
              "      <th></th>\n",
              "      <th>datetime</th>\n",
              "      <th>weekday_0</th>\n",
              "      <th>weekday_1</th>\n",
              "      <th>weekday_2</th>\n",
              "      <th>weekday_3</th>\n",
              "      <th>weekday_4</th>\n",
              "      <th>weekday_5</th>\n",
              "      <th>weekday_6</th>\n",
              "    </tr>\n",
              "  </thead>\n",
              "  <tbody>\n",
              "    <tr>\n",
              "      <th>0</th>\n",
              "      <td>2018-01-01 00:00:00</td>\n",
              "      <td>1</td>\n",
              "      <td>0</td>\n",
              "      <td>0</td>\n",
              "      <td>0</td>\n",
              "      <td>0</td>\n",
              "      <td>0</td>\n",
              "      <td>0</td>\n",
              "    </tr>\n",
              "    <tr>\n",
              "      <th>1</th>\n",
              "      <td>2018-01-01 01:00:00</td>\n",
              "      <td>1</td>\n",
              "      <td>0</td>\n",
              "      <td>0</td>\n",
              "      <td>0</td>\n",
              "      <td>0</td>\n",
              "      <td>0</td>\n",
              "      <td>0</td>\n",
              "    </tr>\n",
              "    <tr>\n",
              "      <th>2</th>\n",
              "      <td>2018-01-01 02:00:00</td>\n",
              "      <td>1</td>\n",
              "      <td>0</td>\n",
              "      <td>0</td>\n",
              "      <td>0</td>\n",
              "      <td>0</td>\n",
              "      <td>0</td>\n",
              "      <td>0</td>\n",
              "    </tr>\n",
              "    <tr>\n",
              "      <th>3</th>\n",
              "      <td>2018-01-01 03:00:00</td>\n",
              "      <td>1</td>\n",
              "      <td>0</td>\n",
              "      <td>0</td>\n",
              "      <td>0</td>\n",
              "      <td>0</td>\n",
              "      <td>0</td>\n",
              "      <td>0</td>\n",
              "    </tr>\n",
              "    <tr>\n",
              "      <th>4</th>\n",
              "      <td>2018-01-01 04:00:00</td>\n",
              "      <td>1</td>\n",
              "      <td>0</td>\n",
              "      <td>0</td>\n",
              "      <td>0</td>\n",
              "      <td>0</td>\n",
              "      <td>0</td>\n",
              "      <td>0</td>\n",
              "    </tr>\n",
              "  </tbody>\n",
              "</table>\n",
              "</div>"
            ],
            "text/plain": [
              "             datetime  weekday_0  weekday_1  weekday_2  weekday_3  weekday_4  \\\n",
              "0 2018-01-01 00:00:00          1          0          0          0          0   \n",
              "1 2018-01-01 01:00:00          1          0          0          0          0   \n",
              "2 2018-01-01 02:00:00          1          0          0          0          0   \n",
              "3 2018-01-01 03:00:00          1          0          0          0          0   \n",
              "4 2018-01-01 04:00:00          1          0          0          0          0   \n",
              "\n",
              "   weekday_5  weekday_6  \n",
              "0          0          0  \n",
              "1          0          0  \n",
              "2          0          0  \n",
              "3          0          0  \n",
              "4          0          0  "
            ]
          },
          "metadata": {
            "tags": []
          },
          "execution_count": 119
        }
      ]
    },
    {
      "metadata": {
        "id": "_Us5QYvZsbNc",
        "colab_type": "code",
        "colab": {
          "base_uri": "https://localhost:8080/",
          "height": 111
        },
        "outputId": "d9ed9581-de23-4919-92f8-b613675cab99"
      },
      "cell_type": "code",
      "source": [
        "# now hour and weekday at the same time\n",
        "dates = pd.date_range(dt.datetime(2018,1,1,0,0), periods=168,freq='1H')\n",
        "df = pd.DataFrame(index=dates)\n",
        "df.reset_index(inplace=True)\n",
        "df.rename(columns={'index':'datetime'},inplace=True)\n",
        "\n",
        "df['weekday'] = df['datetime'].dt.weekday.astype('category')\n",
        "df['hour'] = df['datetime'].dt.hour.astype('category')\n",
        "\n",
        "df.head(2)"
      ],
      "execution_count": 120,
      "outputs": [
        {
          "output_type": "execute_result",
          "data": {
            "text/html": [
              "<div>\n",
              "<style scoped>\n",
              "    .dataframe tbody tr th:only-of-type {\n",
              "        vertical-align: middle;\n",
              "    }\n",
              "\n",
              "    .dataframe tbody tr th {\n",
              "        vertical-align: top;\n",
              "    }\n",
              "\n",
              "    .dataframe thead th {\n",
              "        text-align: right;\n",
              "    }\n",
              "</style>\n",
              "<table border=\"1\" class=\"dataframe\">\n",
              "  <thead>\n",
              "    <tr style=\"text-align: right;\">\n",
              "      <th></th>\n",
              "      <th>datetime</th>\n",
              "      <th>weekday</th>\n",
              "      <th>hour</th>\n",
              "    </tr>\n",
              "  </thead>\n",
              "  <tbody>\n",
              "    <tr>\n",
              "      <th>0</th>\n",
              "      <td>2018-01-01 00:00:00</td>\n",
              "      <td>0</td>\n",
              "      <td>0</td>\n",
              "    </tr>\n",
              "    <tr>\n",
              "      <th>1</th>\n",
              "      <td>2018-01-01 01:00:00</td>\n",
              "      <td>0</td>\n",
              "      <td>1</td>\n",
              "    </tr>\n",
              "  </tbody>\n",
              "</table>\n",
              "</div>"
            ],
            "text/plain": [
              "             datetime weekday hour\n",
              "0 2018-01-01 00:00:00       0    0\n",
              "1 2018-01-01 01:00:00       0    1"
            ]
          },
          "metadata": {
            "tags": []
          },
          "execution_count": 120
        }
      ]
    },
    {
      "metadata": {
        "id": "JNzIJo8dsrDz",
        "colab_type": "code",
        "colab": {
          "base_uri": "https://localhost:8080/",
          "height": 140
        },
        "outputId": "c28f2eb6-4803-44aa-d270-406ee0cee2ed"
      },
      "cell_type": "code",
      "source": [
        "df = pd.get_dummies(df,prefix=['day','hour'],prefix_sep = '_',columns = ['weekday','hour'])\n",
        "df.head(2)"
      ],
      "execution_count": 121,
      "outputs": [
        {
          "output_type": "execute_result",
          "data": {
            "text/html": [
              "<div>\n",
              "<style scoped>\n",
              "    .dataframe tbody tr th:only-of-type {\n",
              "        vertical-align: middle;\n",
              "    }\n",
              "\n",
              "    .dataframe tbody tr th {\n",
              "        vertical-align: top;\n",
              "    }\n",
              "\n",
              "    .dataframe thead th {\n",
              "        text-align: right;\n",
              "    }\n",
              "</style>\n",
              "<table border=\"1\" class=\"dataframe\">\n",
              "  <thead>\n",
              "    <tr style=\"text-align: right;\">\n",
              "      <th></th>\n",
              "      <th>datetime</th>\n",
              "      <th>day_0</th>\n",
              "      <th>day_1</th>\n",
              "      <th>day_2</th>\n",
              "      <th>day_3</th>\n",
              "      <th>day_4</th>\n",
              "      <th>day_5</th>\n",
              "      <th>day_6</th>\n",
              "      <th>hour_0</th>\n",
              "      <th>hour_1</th>\n",
              "      <th>...</th>\n",
              "      <th>hour_14</th>\n",
              "      <th>hour_15</th>\n",
              "      <th>hour_16</th>\n",
              "      <th>hour_17</th>\n",
              "      <th>hour_18</th>\n",
              "      <th>hour_19</th>\n",
              "      <th>hour_20</th>\n",
              "      <th>hour_21</th>\n",
              "      <th>hour_22</th>\n",
              "      <th>hour_23</th>\n",
              "    </tr>\n",
              "  </thead>\n",
              "  <tbody>\n",
              "    <tr>\n",
              "      <th>0</th>\n",
              "      <td>2018-01-01 00:00:00</td>\n",
              "      <td>1</td>\n",
              "      <td>0</td>\n",
              "      <td>0</td>\n",
              "      <td>0</td>\n",
              "      <td>0</td>\n",
              "      <td>0</td>\n",
              "      <td>0</td>\n",
              "      <td>1</td>\n",
              "      <td>0</td>\n",
              "      <td>...</td>\n",
              "      <td>0</td>\n",
              "      <td>0</td>\n",
              "      <td>0</td>\n",
              "      <td>0</td>\n",
              "      <td>0</td>\n",
              "      <td>0</td>\n",
              "      <td>0</td>\n",
              "      <td>0</td>\n",
              "      <td>0</td>\n",
              "      <td>0</td>\n",
              "    </tr>\n",
              "    <tr>\n",
              "      <th>1</th>\n",
              "      <td>2018-01-01 01:00:00</td>\n",
              "      <td>1</td>\n",
              "      <td>0</td>\n",
              "      <td>0</td>\n",
              "      <td>0</td>\n",
              "      <td>0</td>\n",
              "      <td>0</td>\n",
              "      <td>0</td>\n",
              "      <td>0</td>\n",
              "      <td>1</td>\n",
              "      <td>...</td>\n",
              "      <td>0</td>\n",
              "      <td>0</td>\n",
              "      <td>0</td>\n",
              "      <td>0</td>\n",
              "      <td>0</td>\n",
              "      <td>0</td>\n",
              "      <td>0</td>\n",
              "      <td>0</td>\n",
              "      <td>0</td>\n",
              "      <td>0</td>\n",
              "    </tr>\n",
              "  </tbody>\n",
              "</table>\n",
              "<p>2 rows × 32 columns</p>\n",
              "</div>"
            ],
            "text/plain": [
              "             datetime  day_0  day_1  day_2  day_3  day_4  day_5  day_6  \\\n",
              "0 2018-01-01 00:00:00      1      0      0      0      0      0      0   \n",
              "1 2018-01-01 01:00:00      1      0      0      0      0      0      0   \n",
              "\n",
              "   hour_0  hour_1   ...     hour_14  hour_15  hour_16  hour_17  hour_18  \\\n",
              "0       1       0   ...           0        0        0        0        0   \n",
              "1       0       1   ...           0        0        0        0        0   \n",
              "\n",
              "   hour_19  hour_20  hour_21  hour_22  hour_23  \n",
              "0        0        0        0        0        0  \n",
              "1        0        0        0        0        0  \n",
              "\n",
              "[2 rows x 32 columns]"
            ]
          },
          "metadata": {
            "tags": []
          },
          "execution_count": 121
        }
      ]
    },
    {
      "metadata": {
        "id": "QB2EJiXFs9lV",
        "colab_type": "code",
        "colab": {
          "base_uri": "https://localhost:8080/",
          "height": 136
        },
        "outputId": "b8aa90e9-5a1f-4bf4-992a-d5dc0a83bb78"
      },
      "cell_type": "code",
      "source": [
        "df.columns"
      ],
      "execution_count": 122,
      "outputs": [
        {
          "output_type": "execute_result",
          "data": {
            "text/plain": [
              "Index([u'datetime', u'day_0', u'day_1', u'day_2', u'day_3', u'day_4', u'day_5',\n",
              "       u'day_6', u'hour_0', u'hour_1', u'hour_2', u'hour_3', u'hour_4',\n",
              "       u'hour_5', u'hour_6', u'hour_7', u'hour_8', u'hour_9', u'hour_10',\n",
              "       u'hour_11', u'hour_12', u'hour_13', u'hour_14', u'hour_15', u'hour_16',\n",
              "       u'hour_17', u'hour_18', u'hour_19', u'hour_20', u'hour_21', u'hour_22',\n",
              "       u'hour_23'],\n",
              "      dtype='object')"
            ]
          },
          "metadata": {
            "tags": []
          },
          "execution_count": 122
        }
      ]
    },
    {
      "metadata": {
        "id": "aJ-rjTZ4iR43",
        "colab_type": "text"
      },
      "cell_type": "markdown",
      "source": [
        "# I/O"
      ]
    },
    {
      "metadata": {
        "id": "g05yvnrhiT8y",
        "colab_type": "code",
        "colab": {}
      },
      "cell_type": "code",
      "source": [
        "# list all files in the dir\n",
        "#os.listdir('Map1/Map2/Map3')\n",
        "#os.listdir(\".\")"
      ],
      "execution_count": 0,
      "outputs": []
    },
    {
      "metadata": {
        "id": "EYbjczQrjBgX",
        "colab_type": "code",
        "colab": {}
      },
      "cell_type": "code",
      "source": [
        "# write df to csv\n",
        "df = pd.DataFrame({'employee':['John','Willem','Fred'],'age':[33,27,88]})\n",
        "#df_wide.to_csv('Input/' + 'spot_prices_utc.csv',index=True,)\n",
        "#df_wide.to_csv('Input/' + 'spot_prices_utc.csv',index=True,index_label='ValueDate_utc')\n",
        "df.to_csv('testColab.csv',index=False)"
      ],
      "execution_count": 0,
      "outputs": []
    },
    {
      "metadata": {
        "id": "k69K6CIPlzGm",
        "colab_type": "code",
        "colab": {
          "base_uri": "https://localhost:8080/",
          "height": 142
        },
        "outputId": "b759667e-8c4d-462d-9273-ae4aa77e65f4"
      },
      "cell_type": "code",
      "source": [
        "# read csv\n",
        "df2 = pd.read_csv('testColab.csv')\n",
        "df2.head()"
      ],
      "execution_count": 125,
      "outputs": [
        {
          "output_type": "execute_result",
          "data": {
            "text/html": [
              "<div>\n",
              "<style scoped>\n",
              "    .dataframe tbody tr th:only-of-type {\n",
              "        vertical-align: middle;\n",
              "    }\n",
              "\n",
              "    .dataframe tbody tr th {\n",
              "        vertical-align: top;\n",
              "    }\n",
              "\n",
              "    .dataframe thead th {\n",
              "        text-align: right;\n",
              "    }\n",
              "</style>\n",
              "<table border=\"1\" class=\"dataframe\">\n",
              "  <thead>\n",
              "    <tr style=\"text-align: right;\">\n",
              "      <th></th>\n",
              "      <th>age</th>\n",
              "      <th>employee</th>\n",
              "    </tr>\n",
              "  </thead>\n",
              "  <tbody>\n",
              "    <tr>\n",
              "      <th>0</th>\n",
              "      <td>33</td>\n",
              "      <td>John</td>\n",
              "    </tr>\n",
              "    <tr>\n",
              "      <th>1</th>\n",
              "      <td>27</td>\n",
              "      <td>Willem</td>\n",
              "    </tr>\n",
              "    <tr>\n",
              "      <th>2</th>\n",
              "      <td>88</td>\n",
              "      <td>Fred</td>\n",
              "    </tr>\n",
              "  </tbody>\n",
              "</table>\n",
              "</div>"
            ],
            "text/plain": [
              "   age employee\n",
              "0   33     John\n",
              "1   27   Willem\n",
              "2   88     Fred"
            ]
          },
          "metadata": {
            "tags": []
          },
          "execution_count": 125
        }
      ]
    },
    {
      "metadata": {
        "id": "eklbLUspnEUA",
        "colab_type": "code",
        "colab": {
          "base_uri": "https://localhost:8080/",
          "height": 111
        },
        "outputId": "a2d57036-1b96-4274-f988-c37957d271b3"
      },
      "cell_type": "code",
      "source": [
        "# read csv but skip second row\n",
        "cols = ['age']\n",
        "df = pd.read_csv('testColab.csv',usecols=cols,skiprows=[1])\n",
        "df.head()"
      ],
      "execution_count": 126,
      "outputs": [
        {
          "output_type": "execute_result",
          "data": {
            "text/html": [
              "<div>\n",
              "<style scoped>\n",
              "    .dataframe tbody tr th:only-of-type {\n",
              "        vertical-align: middle;\n",
              "    }\n",
              "\n",
              "    .dataframe tbody tr th {\n",
              "        vertical-align: top;\n",
              "    }\n",
              "\n",
              "    .dataframe thead th {\n",
              "        text-align: right;\n",
              "    }\n",
              "</style>\n",
              "<table border=\"1\" class=\"dataframe\">\n",
              "  <thead>\n",
              "    <tr style=\"text-align: right;\">\n",
              "      <th></th>\n",
              "      <th>age</th>\n",
              "    </tr>\n",
              "  </thead>\n",
              "  <tbody>\n",
              "    <tr>\n",
              "      <th>0</th>\n",
              "      <td>27</td>\n",
              "    </tr>\n",
              "    <tr>\n",
              "      <th>1</th>\n",
              "      <td>88</td>\n",
              "    </tr>\n",
              "  </tbody>\n",
              "</table>\n",
              "</div>"
            ],
            "text/plain": [
              "   age\n",
              "0   27\n",
              "1   88"
            ]
          },
          "metadata": {
            "tags": []
          },
          "execution_count": 126
        }
      ]
    },
    {
      "metadata": {
        "id": "ml7eI7aDoeK0",
        "colab_type": "code",
        "colab": {}
      },
      "cell_type": "code",
      "source": [
        ""
      ],
      "execution_count": 0,
      "outputs": []
    }
  ]
}